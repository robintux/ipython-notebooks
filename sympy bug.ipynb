{
 "metadata": {
  "name": ""
 },
 "nbformat": 3,
 "nbformat_minor": 0,
 "worksheets": [
  {
   "cells": [
    {
     "cell_type": "code",
     "collapsed": false,
     "input": [
      "import sympy\n",
      "print sympy.__version__\n",
      "sympy.init_printing(use_unicode=False, wrap_line=False, no_global=True, use_latex=True)"
     ],
     "language": "python",
     "metadata": {},
     "outputs": [
      {
       "output_type": "stream",
       "stream": "stdout",
       "text": [
        "0.7.4.1\n"
       ]
      }
     ],
     "prompt_number": 1
    },
    {
     "cell_type": "code",
     "collapsed": false,
     "input": [
      "z, xi, x, x0, n, s = sympy.symbols(\"z xi x x0 n s\", real=True)"
     ],
     "language": "python",
     "metadata": {},
     "outputs": [],
     "prompt_number": 2
    },
    {
     "cell_type": "code",
     "collapsed": false,
     "input": [
      "def G(xi):\n",
      "    return sympy.exp( 2 * n * 0.6 * s * xi * (xi - x0) / x0 )"
     ],
     "language": "python",
     "metadata": {},
     "outputs": [],
     "prompt_number": 3
    },
    {
     "cell_type": "code",
     "collapsed": false,
     "input": [
      "T = sympy.Integral(2 * n /(x * G(x)) * sympy.Integral(G(z), (z, 0, x)),  (x, 0,  x0))\n",
      "T"
     ],
     "language": "python",
     "metadata": {},
     "outputs": [
      {
       "latex": [
        "$$\\int_{0}^{x_{0}} \\frac{2 n}{x} e^{- \\frac{1.2 n}{x_{0}} s x \\left(x - x_{0}\\right)} \\int_{0}^{x} e^{\\frac{1.2 n}{x_{0}} s z \\left(- x_{0} + z\\right)}\\, dz\\, dx$$"
       ],
       "metadata": {},
       "output_type": "pyout",
       "png": "[encoded data removed]",
       "prompt_number": 7,
       "text": [
        " x0                                                         \n",
        "  /                                                         \n",
        " |                                                          \n",
        " |                              x                           \n",
        " |                              /                           \n",
        " |                             |                            \n",
        " |       -1.2*n*s*x*(x - x0)   |   1.2*n*s*z*(-x0 + z)      \n",
        " |       --------------------  |   -------------------      \n",
        " |                x0           |            x0              \n",
        " |  2*n*e                    * |  e                    dz   \n",
        " |                             |                            \n",
        " |                            /                             \n",
        " |                            0                             \n",
        " |  ----------------------------------------------------- dx\n",
        " |                            x                             \n",
        " |                                                          \n",
        "/                                                           \n",
        "0                                                           "
       ]
      }
     ],
     "prompt_number": 7
    },
    {
     "cell_type": "code",
     "collapsed": false,
     "input": [
      "T.evalf(subs={n:1000, s:0.1, x0:0.5}, n=3)"
     ],
     "language": "python",
     "metadata": {},
     "outputs": [
      {
       "latex": [
        "$$\\int_{0}^{x_{0}} \\frac{2 n}{x} e^{- \\frac{1.2 n}{x_{0}} s x \\left(x - x_{0}\\right)} \\int_{0}^{x} e^{\\frac{1.2 n}{x_{0}} s z \\left(- x_{0} + z\\right)}\\, dz\\, dx$$"
       ],
       "metadata": {},
       "output_type": "pyout",
       "png": "[encoded data removed]",
       "prompt_number": 12,
       "text": [
        " x0                                                         \n",
        "  /                                                         \n",
        " |                                                          \n",
        " |                              x                           \n",
        " |                              /                           \n",
        " |                             |                            \n",
        " |       -1.2*n*s*x*(x - x0)   |   1.2*n*s*z*(-x0 + z)      \n",
        " |       --------------------  |   -------------------      \n",
        " |                x0           |            x0              \n",
        " |  2*n*e                    * |  e                    dz   \n",
        " |                             |                            \n",
        " |                            /                             \n",
        " |                            0                             \n",
        " |  ----------------------------------------------------- dx\n",
        " |                            x                             \n",
        " |                                                          \n",
        "/                                                           \n",
        "0                                                           "
       ]
      }
     ],
     "prompt_number": 12
    },
    {
     "cell_type": "code",
     "collapsed": false,
     "input": [
      "T.subs({n:1000, s:0.1, x0:0.5}).evalf(n=3)"
     ],
     "language": "python",
     "metadata": {},
     "outputs": [
      {
       "latex": [
        "$$2.68 \\cdot 10^{7}$$"
       ],
       "metadata": {},
       "output_type": "pyout",
       "png": "[encoded data removed]",
       "prompt_number": 15,
       "text": [
        "2.68e+7"
       ]
      }
     ],
     "prompt_number": 15
    },
    {
     "cell_type": "code",
     "collapsed": false,
     "input": [],
     "language": "python",
     "metadata": {},
     "outputs": []
    }
   ],
   "metadata": {}
  }
 ]
}