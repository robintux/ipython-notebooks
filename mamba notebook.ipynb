{
 "metadata": {
  "name": "mamba notebook"
 },
 "nbformat": 3,
 "nbformat_minor": 0,
 "worksheets": [
  {
   "cells": [
    {
     "cell_type": "code",
     "collapsed": false,
     "input": [
      "cd d:\\workspace\\mamba"
     ],
     "language": "python",
     "metadata": {},
     "outputs": [
      {
       "output_type": "stream",
       "stream": "stdout",
       "text": [
        "d:\\workspace\\mamba\n"
       ]
      }
     ],
     "prompt_number": 1
    },
    {
     "cell_type": "code",
     "collapsed": false,
     "input": [
      "a=np.zeros(10, dtype=int32)\n",
      "a[0]=100\n",
      "a"
     ],
     "language": "python",
     "metadata": {},
     "outputs": [
      {
       "output_type": "pyout",
       "prompt_number": 7,
       "text": [
        "array([100,   0,   0,   0,   0,   0,   0,   0,   0,   0])"
       ]
      }
     ],
     "prompt_number": 7
    },
    {
     "cell_type": "code",
     "collapsed": false,
     "input": [
      "type(a[0])"
     ],
     "language": "python",
     "metadata": {},
     "outputs": [
      {
       "output_type": "pyout",
       "prompt_number": 8,
       "text": [
        "numpy.int32"
       ]
      }
     ],
     "prompt_number": 8
    },
    {
     "cell_type": "code",
     "collapsed": false,
     "input": [
      "b=multinomial(100, [1.0/10]*10)\n",
      "type(b[0])"
     ],
     "language": "python",
     "metadata": {},
     "outputs": [
      {
       "output_type": "pyout",
       "prompt_number": 10,
       "text": [
        "numpy.int32"
       ]
      }
     ],
     "prompt_number": 10
    },
    {
     "cell_type": "code",
     "collapsed": false,
     "input": [
      "import simulation\n",
      "reload(simulation);"
     ],
     "language": "python",
     "metadata": {},
     "outputs": [],
     "prompt_number": 96
    },
    {
     "cell_type": "code",
     "collapsed": false,
     "input": [
      "p=simulation.run()"
     ],
     "language": "python",
     "metadata": {},
     "outputs": [
      {
       "output_type": "stream",
       "stream": "stdout",
       "text": [
        "start 0\n",
        "drift 0\n",
        "selection 0\n",
        "mutation 2991\n",
        "Tick 0\n",
        "start 2991\n",
        "drift 2920\n",
        "selection 2903\n",
        "mutation 5776\n",
        "Tick 1\n",
        "start 5776\n",
        "drift 5713\n",
        "selection 5778\n",
        "mutation 8752\n",
        "Tick 2\n",
        "start 8752\n",
        "drift 8752\n",
        "selection 8399\n",
        "mutation 11273\n",
        "Tick 3\n",
        "start 11273\n",
        "drift 11407\n",
        "selection 11177\n",
        "mutation 14204\n",
        "Tick 4\n",
        "start 14204\n",
        "drift 14070\n",
        "selection 13848\n",
        "mutation 16708\n",
        "Tick 5\n",
        "start 16708\n",
        "drift 16792\n",
        "selection 16639\n",
        "mutation 19510\n",
        "Tick 6\n",
        "start 19510\n",
        "drift 19482\n",
        "selection 19192\n",
        "mutation 22070\n",
        "Tick 7\n",
        "start 22070\n",
        "drift 21976\n",
        "selection 21887\n",
        "mutation 24862\n",
        "Tick 8\n",
        "start 24862\n",
        "drift 24647\n",
        "selection 24420\n",
        "mutation 27175\n",
        "Tick 9\n"
       ]
      }
     ],
     "prompt_number": 98
    },
    {
     "cell_type": "code",
     "collapsed": false,
     "input": [
      "import model\n",
      "reload(model);"
     ],
     "language": "python",
     "metadata": {},
     "outputs": [],
     "prompt_number": 77
    },
    {
     "cell_type": "code",
     "collapsed": false,
     "input": [
      "p=model.create_mutation_free_population()\n",
      "p[0]-=100\n",
      "p[1]+=100\n",
      "f=model.create_fitness()"
     ],
     "language": "python",
     "metadata": {},
     "outputs": [],
     "prompt_number": 87
    },
    {
     "cell_type": "code",
     "collapsed": false,
     "input": [
      "print p[-1]\n",
      "model.selection(p,f)\n",
      "print p[-1]\n",
      "model.selection(p,f)\n",
      "print p[-1]"
     ],
     "language": "python",
     "metadata": {},
     "outputs": [
      {
       "output_type": "stream",
       "stream": "stdout",
       "text": [
        "0\n",
        "0\n",
        "0\n"
       ]
      }
     ],
     "prompt_number": 89
    },
    {
     "cell_type": "code",
     "collapsed": false,
     "input": [
      "p[0]-=100\n",
      "p[1]+=100\n",
      "p"
     ],
     "language": "python",
     "metadata": {},
     "outputs": [
      {
       "output_type": "pyout",
       "prompt_number": 86,
       "text": [
        "array([999800,    200,      0,      0,      0,      0,      0,      0,\n",
        "            0,      0,      0,      0,      0,      0,      0,      0,\n",
        "            0,      0,      0,      0,      0,      0,      0,      0,\n",
        "            0,      0,      0,      0,      0,      0,      0,      0,\n",
        "            0,      0,      0,      0,      0,      0,      0,      0,\n",
        "            0,      0,      0,      0,      0,      0,      0,      0,\n",
        "            0,      0,      0,      0,      0,      0,      0,      0,\n",
        "            0,      0,      0,      0,      0,      0,      0,      0,\n",
        "            0,      0,      0,      0,      0,      0,      0,      0,\n",
        "            0,      0,      0,      0,      0,      0,      0,      0,\n",
        "            0,      0,      0,      0,      0,      0,      0,      0,\n",
        "            0,      0,      0,      0,      0,      0,      0,      0,\n",
        "            0,      0,      0,      0,      0,      0,      0,      0,\n",
        "            0,      0,      0,      0,      0,      0,      0,      0,\n",
        "            0,      0,      0,      0,      0,      0,      0,      0,\n",
        "            0,      0,      0,      0,      0,      0,      0,      0,\n",
        "            0,      0,      0,      0,      0,      0,      0,      0,\n",
        "            0,      0,      0,      0,      0,      0,      0,      0,\n",
        "            0,      0,      0,      0,      0,      0,      0,      0,\n",
        "            0,      0,      0,      0,      0,      0,      0,      0,\n",
        "            0,      0,      0,      0,      0,      0,      0,      0,\n",
        "            0,      0,      0,      0,      0,      0,      0,      0,\n",
        "            0,      0,      0,      0,      0,      0,      0,      0,\n",
        "            0,      0,      0,      0,      0,      0,      0,      0,\n",
        "            0,      0,      0,      0,      0,      0,      0,      0,\n",
        "            0,      0,      0,      0,      0,      0,      0,      0,\n",
        "            0,      0,      0,      0,      0,      0,      0,      0,\n",
        "            0,      0,      0,      0,      0,      0,      0,      0,\n",
        "            0,      0,      0,      0,      0,      0,      0,      0,\n",
        "            0,      0,      0,      0,      0,      0,      0,      0,\n",
        "            0,      0,      0,      0,      0,      0,      0,      0,\n",
        "            0,      0,      0,      0,      0,      0,      0,      0,\n",
        "            0,      0,      0,      0,      0,      0,      0,      0,\n",
        "            0,      0,      0,      0,      0,      0,      0,      0,\n",
        "            0,      0,      0,      0,      0,      0,      0,      0,\n",
        "            0,      0,      0,      0,      0,      0,      0,      0,\n",
        "            0,      0,      0,      0,      0,      0,      0,      0,\n",
        "            0,      0,      0,      0,      0,      0,      0,      0,\n",
        "            0,      0,      0,      0,      0,      0,      0,      0,\n",
        "            0,      0,      0,      0,      0,      0,      0,      0,\n",
        "            0,      0,      0,      0,      0,      0,      0,      0,\n",
        "            0,      0,      0,      0,      0,      0,      0,      0,\n",
        "            0,      0,      0,      0,      0,      0,      0,      0,\n",
        "            0,      0,      0,      0,      0,      0,      0,      0,\n",
        "            0,      0,      0,      0,      0,      0,      0,      0,\n",
        "            0,      0,      0,      0,      0,      0,      0,      0,\n",
        "            0,      0,      0,      0,      0,      0,      0,      0,\n",
        "            0,      0,      0,      0,      0,      0,      0,      0,\n",
        "            0,      0,      0,      0,      0,      0,      0,      0,\n",
        "            0,      0,      0,      0,      0,      0,      0,      0,\n",
        "            0,      0,      0,      0,      0,      0,      0,      0,\n",
        "            0,      0,      0,      0,      0,      0,      0,      0,\n",
        "            0,      0,      0,      0,      0,      0,      0,      0,\n",
        "            0,      0,      0,      0,      0,      0,      0,      0,\n",
        "            0,      0,      0,      0,      0,      0,      0,      0,\n",
        "            0,      0,      0,      0,      0,      0,      0,      0,\n",
        "            0,      0,      0,      0,      0,      0,      0,      0,\n",
        "            0,      0,      0,      0,      0,      0,      0,      0,\n",
        "            0,      0,      0,      0,      0,      0,      0,      0,\n",
        "            0,      0,      0,      0,      0,      0,      0,      0,\n",
        "            0,      0,      0,      0,      0,      0,      0,      0,\n",
        "            0,      0,      0,      0,      0,      0,      0,      0,\n",
        "            0,      0,      0,      0,      0,      0,      0,      0,\n",
        "            0,      0,      0,      0,      0,      0,      0,      0,\n",
        "            0,      0,      0,      0,      0,      0,      0,      0,\n",
        "            0,      0,      0,      0,      0,      0,      0,      0,\n",
        "            0,      0,      0,      0,      0,      0,      0,      0,\n",
        "            0,      0,      0,      0,      0,      0,      0,      0,\n",
        "            0,      0,      0,      0,      0,      0,      0,      0,\n",
        "            0,      0,      0,      0,      0,      0,      0,      0,\n",
        "            0,      0,      0,      0,      0,      0,      0,      0,\n",
        "            0,      0,      0,      0,      0,      0,      0,      0,\n",
        "            0,      0,      0,      0,      0,      0,      0,      0,\n",
        "            0,      0,      0,      0,      0,      0,      0,      0,\n",
        "            0,      0,      0,      0,      0,      0,      0,      0,\n",
        "            0,      0,      0,      0,      0,      0,      0,      0,\n",
        "            0,      0,      0,      0,      0,      0,      0,      0,\n",
        "            0,      0,      0,      0,      0,      0,      0,      0,\n",
        "            0,      0,      0,      0,      0,      0,      0,      0,\n",
        "            0,      0,      0,      0,      0,      0,      0,      0,\n",
        "            0,      0,      0,      0,      0,      0,      0,      0,\n",
        "            0,      0,      0,      0,      0,      0,      0,      0,\n",
        "            0,      0,      0,      0,      0,      0,      0,      0,\n",
        "            0,      0,      0,      0,      0,      0,      0,      0,\n",
        "            0,      0,      0,      0,      0,      0,      0,      0,\n",
        "            0,      0,      0,      0,      0,      0,      0,      0,\n",
        "            0,      0,      0,      0,      0,      0,      0,      0,\n",
        "            0,      0,      0,      0,      0,      0,      0,      0,\n",
        "            0,      0,      0,      0,      0,      0,      0,      0,\n",
        "            0,      0,      0,      0,      0,      0,      0,      0,\n",
        "            0,      0,      0,      0,      0,      0,      0,      0,\n",
        "            0,      0,      0,      0,      0,      0,      0,      0,\n",
        "            0,      0,      0,      0,      0,      0,      0,      0,\n",
        "            0,      0,      0,      0,      0,      0,      0,      0,\n",
        "            0,      0,      0,      0,      0,      0,      0,      0,\n",
        "            0,      0,      0,      0,      0,      0,      0,      0,\n",
        "            0,      0,      0,      0,      0,      0,      0,      0,\n",
        "            0,      0,      0,      0,      0,      0,      0,      0,\n",
        "            0,      0,      0,      0,      0,      0,      0,      0,\n",
        "            0,      0,      0,      0,      0,      0,      0,      0,\n",
        "            0,      0,      0,      0,      0,      0,      0,      0,\n",
        "            0,      0,      0,      0,      0,      0,      0,      0,\n",
        "            0,      0,      0,      0,      0,      0,      0,      0,\n",
        "            0,      0,      0,      0,      0,      0,      0,      0,\n",
        "            0,      0,      0,      0,      0,      0,      0,      0,\n",
        "            0,      0,      0,      0,      0,      0,      0,      0,\n",
        "            0,      0,      0,      0,      0,      0,      0,      0,\n",
        "            0,      0,      0,      0,      0,      0,      0,      0,\n",
        "            0,      0,      0,      0,      0,      0,      0,      0,\n",
        "            0,      0,      0,      0,      0,      0,      0,      0,\n",
        "            0,      0,      0,      0,      0,      0,      0,      0,\n",
        "            0,      0,      0,      0,      0,      0,      0,      0,\n",
        "            0,      0,      0,      0,      0,      0,      0,      0,\n",
        "            0,      0,      0,      0,      0,      0,      0,      0,\n",
        "            0,      0,      0,      0,      0,      0,      0,      0,\n",
        "            0,      0,      0,      0,      0,      0,      0,      0,\n",
        "            0,      0,      0,      0,      0,      0,      0,      0,\n",
        "            0,      0,      0,      0,      0,      0,      0,      0,\n",
        "            0,      0,      0,      0,      0,      0,      0,      0,\n",
        "            0,      0,      0,      0,      0,      0,      0,      0,\n",
        "            0,      0,      0,      0,      0,      0,      0,      0,\n",
        "            0,      0,      0,      0,      0,      0,      0,      0,\n",
        "            0,      0,      0,      0,      0,      0,      0,      0,\n",
        "            0,      0,      0,      0,      0,      0,      0,      0,\n",
        "            0,      0,      0,      0,      0,      0,      0,      0])"
       ]
      }
     ],
     "prompt_number": 86
    },
    {
     "cell_type": "code",
     "collapsed": false,
     "input": [
      "np.get_include()"
     ],
     "language": "python",
     "metadata": {},
     "outputs": [
      {
       "output_type": "pyout",
       "prompt_number": 95,
       "text": [
        "'C:\\\\Python27\\\\lib\\\\site-packages\\\\numpy\\\\core\\\\include'"
       ]
      }
     ],
     "prompt_number": 95
    },
    {
     "cell_type": "code",
     "collapsed": false,
     "input": [
      "import time"
     ],
     "language": "python",
     "metadata": {},
     "outputs": [],
     "prompt_number": 1
    },
    {
     "cell_type": "code",
     "collapsed": false,
     "input": [
      "time.clock()"
     ],
     "language": "python",
     "metadata": {},
     "outputs": [
      {
       "output_type": "pyout",
       "prompt_number": 7,
       "text": [
        "24.026697858339496"
       ]
      }
     ],
     "prompt_number": 7
    },
    {
     "cell_type": "code",
     "collapsed": false,
     "input": [
      "t=array(zeros(1000), dtype=np.int)\n",
      "g=zeros((100,1000), dtype=np.int)\n",
      "for i in range(100):\n",
      "    g[i, randint(0,999)] = 1\n",
      "g[1,5] = 1"
     ],
     "language": "python",
     "metadata": {},
     "outputs": [],
     "prompt_number": 57
    },
    {
     "cell_type": "code",
     "collapsed": false,
     "input": [
      "g.sum(axis=1)"
     ],
     "language": "python",
     "metadata": {},
     "outputs": [
      {
       "output_type": "pyout",
       "prompt_number": 67,
       "text": [
        "array([1, 1, 1, 1, 1, 1, 1, 1, 1, 1, 1, 1, 1, 1, 1, 1, 1, 1, 1, 1, 1, 1, 1,\n",
        "       1, 1, 1, 1, 1, 1, 1, 1, 1, 1, 1, 1, 1, 1, 1, 1, 1, 1, 1, 1, 1, 1, 1,\n",
        "       1, 1, 1, 1, 1, 1, 1, 1, 1, 1, 1, 1, 1, 1, 1, 1, 1, 1, 1, 1, 1, 1, 1,\n",
        "       1, 1, 1, 1, 1, 1, 1, 1, 1, 1, 1, 1, 1, 1, 1, 1, 1, 1, 1, 1, 1, 1, 1,\n",
        "       1, 1, 1, 1, 1, 1, 1, 1])"
       ]
      }
     ],
     "prompt_number": 67
    },
    {
     "cell_type": "code",
     "collapsed": false,
     "input": [
      "def ham1(g,t):\n",
      "    a = zeros(100, dtype=np.int)\n",
      "    for i in range(a.shape[0]):\n",
      "        a[i] = (t!=g[i,:]).sum()\n",
      "    return a"
     ],
     "language": "python",
     "metadata": {},
     "outputs": [],
     "prompt_number": 74
    },
    {
     "cell_type": "code",
     "collapsed": false,
     "input": [
      "g.shape[0]"
     ],
     "language": "python",
     "metadata": {},
     "outputs": [
      {
       "output_type": "pyout",
       "prompt_number": 76,
       "text": [
        "100L"
       ]
      }
     ],
     "prompt_number": 76
    },
    {
     "cell_type": "code",
     "collapsed": false,
     "input": [
      "ham1(g,t)"
     ],
     "language": "python",
     "metadata": {},
     "outputs": [
      {
       "output_type": "pyout",
       "prompt_number": 75,
       "text": [
        "array([1, 1, 1, 1, 1, 1, 1, 1, 1, 1, 1, 1, 1, 1, 1, 1, 1, 1, 1, 1, 1, 1, 1,\n",
        "       1, 1, 1, 1, 1, 1, 1, 1, 1, 1, 1, 1, 1, 1, 1, 1, 1, 1, 1, 1, 1, 1, 1,\n",
        "       1, 1, 1, 1, 1, 1, 1, 1, 1, 1, 1, 1, 1, 1, 1, 1, 1, 1, 1, 1, 1, 1, 1,\n",
        "       1, 1, 1, 1, 1, 1, 1, 1, 1, 1, 1, 1, 1, 1, 1, 1, 1, 1, 1, 1, 1, 1, 1,\n",
        "       1, 1, 1, 1, 1, 1, 1, 1])"
       ]
      }
     ],
     "prompt_number": 75
    },
    {
     "cell_type": "code",
     "collapsed": false,
     "input": [
      "%load_ext cythonmagic"
     ],
     "language": "python",
     "metadata": {},
     "outputs": [],
     "prompt_number": 29
    },
    {
     "cell_type": "code",
     "collapsed": false,
     "input": [
      "%%cython\n",
      "import numpy as np\n",
      "cimport numpy as np\n",
      "cimport cython\n",
      "\n",
      "@cython.boundscheck(False)\n",
      "def ham2(np.ndarray[int, ndim=2] g, np.ndarray[int, ndim=1] t):\n",
      "    cdef np.ndarray[int, ndim=1] a \n",
      "    a = np.zeros(g.shape[0], dtype=np.int)\n",
      "    cdef Py_ssize_t i\n",
      "    for i in range(g.shape[0]):\n",
      "        a[i] = (t!=g[i,:]).sum()\n",
      "    return a"
     ],
     "language": "python",
     "metadata": {},
     "outputs": [],
     "prompt_number": 78
    },
    {
     "cell_type": "code",
     "collapsed": false,
     "input": [
      "def hamming_fitness(genome, target_genome):\n",
      "\treturn (genome != target_genome).sum()\n",
      "\n",
      "def ham3(genomes, t):\n",
      "    return np.apply_along_axis(hamming_fitness, 1, g, t) "
     ],
     "language": "python",
     "metadata": {},
     "outputs": [],
     "prompt_number": 180
    },
    {
     "cell_type": "code",
     "collapsed": false,
     "input": [
      "%timeit -n 10000 ham1(g,t)\n",
      "%timeit -n 10000 ham2(g,t)\n",
      "%timeit -n 10000 ham3(g,t)"
     ],
     "language": "python",
     "metadata": {},
     "outputs": [
      {
       "output_type": "stream",
       "stream": "stdout",
       "text": [
        "1000 loops, best of 3: 2.58 ms per loop\n",
        "1000 loops, best of 3: 2.31 ms per loop"
       ]
      },
      {
       "output_type": "stream",
       "stream": "stdout",
       "text": [
        "\n",
        "1000 loops, best of 3: 5.11 ms per loop"
       ]
      },
      {
       "output_type": "stream",
       "stream": "stdout",
       "text": [
        "\n"
       ]
      }
     ],
     "prompt_number": 179
    },
    {
     "cell_type": "code",
     "collapsed": false,
     "input": [],
     "language": "python",
     "metadata": {},
     "outputs": []
    }
   ],
   "metadata": {}
  }
 ]
}