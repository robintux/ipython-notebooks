{
 "metadata": {
  "name": "ORCID API"
 },
 "nbformat": 3,
 "nbformat_minor": 0,
 "worksheets": [
  {
   "cells": [
    {
     "cell_type": "markdown",
     "metadata": {},
     "source": [
      "The ORCID API documentation is [here](http://support.orcid.org/knowledgebase/articles/116874-orcid-api-guide)."
     ]
    },
    {
     "cell_type": "code",
     "collapsed": false,
     "input": [
      "import requests"
     ],
     "language": "python",
     "metadata": {},
     "outputs": [],
     "prompt_number": 1
    },
    {
     "cell_type": "code",
     "collapsed": false,
     "input": [
      "requests.__version__"
     ],
     "language": "python",
     "metadata": {},
     "outputs": [
      {
       "metadata": {},
       "output_type": "pyout",
       "prompt_number": 2,
       "text": [
        "'1.2.3'"
       ]
      }
     ],
     "prompt_number": 2
    },
    {
     "cell_type": "code",
     "collapsed": false,
     "input": [
      "ORCID = '0000-0002-9653-4458'\n",
      "ORCID_URL = \"http://pub.orcid.org/%s/orcid-works\"\n",
      "DOI_BASE_URL = 'http://dx.doi.org/'"
     ],
     "language": "python",
     "metadata": {},
     "outputs": [],
     "prompt_number": 3
    },
    {
     "cell_type": "code",
     "collapsed": false,
     "input": [
      "headers = {'accept': 'application/orcid+json'}\n",
      "r = requests.get(ORCID_URL % ORCID, headers=headers)"
     ],
     "language": "python",
     "metadata": {},
     "outputs": [],
     "prompt_number": 4
    },
    {
     "cell_type": "code",
     "collapsed": false,
     "input": [
      "print r.ok"
     ],
     "language": "python",
     "metadata": {},
     "outputs": [
      {
       "output_type": "stream",
       "stream": "stdout",
       "text": [
        "True\n"
       ]
      }
     ],
     "prompt_number": 5
    },
    {
     "cell_type": "code",
     "collapsed": false,
     "input": [
      "print r.headers"
     ],
     "language": "python",
     "metadata": {},
     "outputs": [
      {
       "output_type": "stream",
       "stream": "stdout",
       "text": [
        "CaseInsensitiveDict({'transfer-encoding': 'chunked', 'date': 'Sun, 14 Jul 2013 18:42:41 GMT', 'content-type': 'application/orcid+json; qs=2', 'server': 'Apache-Coyote/1.1'})\n"
       ]
      }
     ],
     "prompt_number": 6
    },
    {
     "cell_type": "code",
     "collapsed": false,
     "input": [
      "print r.content"
     ],
     "language": "python",
     "metadata": {},
     "outputs": [
      {
       "output_type": "stream",
       "stream": "stdout",
       "text": [
        "{\"message-version\":\"1.0.15\",\"orcid-profile\":{\"orcid\":{\"value\":\"0000-0002-9653-4458\"},\"orcid-id\":\"http://orcid.org/0000-0002-9653-4458\",\"orcid-history\":{\"creation-method\":\"WEBSITE\",\"completion-date\":{\"value\":1350396328015},\"submission-date\":{\"value\":1350392628869},\"last-modified-date\":{\"value\":1373804852054},\"claimed\":{\"value\":true},\"source\":null,\"visibility\":null},\"orcid-activities\":{\"orcid-works\":{\"orcid-work\":[{\"put-code\":\"9381344\",\"work-title\":{\"title\":{\"value\":\"Dispersing away from bad genotypes: the evolution of Fitness-Associated Dispersal (FAD) in homogeneous environments\"},\"subtitle\":{\"value\":\"BMC Evolutionary Biology\"}},\"work-citation\":{\"work-citation-type\":\"BIBTEX\",\"citation\":\"@article{Gueijman_Ayali_Ram_Hadany_2013, title={Dispersing away from bad genotypes: the evolution of Fitness-Associated Dispersal (FAD) in homogeneous environments}, volume={13}, url={http://dx.doi.org/10.1186/1471-2148-13-125}, DOI={10.1186/1471-2148-13-125}, number={1}, journal={BMC Evolutionary Biology}, publisher={Springer (Biomed Central Ltd.)}, author={Gueijman, Ariel and Ayali, Amir and Ram, Yoav and Hadany, Lilach}, year={2013}, pages={125}}\"},\"work-type\":\"JOURNAL_ARTICLE\",\"publication-date\":{\"year\":{\"value\":\"2013\"},\"month\":null,\"day\":null,\"media-type\":null},\"work-external-identifiers\":{\"work-external-identifier\":[{\"work-external-identifier-type\":\"DOI\",\"work-external-identifier-id\":{\"value\":\"10.1186/1471-2148-13-125\"}},{\"work-external-identifier-type\":\"ISSN\",\"work-external-identifier-id\":{\"value\":\"1471-2148\"}}],\"scope\":null},\"url\":null,\"work-source\":{\"value\":\"0000-0002-3054-1567\"},\"visibility\":null},{\"put-code\":\"9381343\",\"work-title\":{\"title\":{\"value\":\"EVOLUTION OF STRESS-INDUCED HYPERMUTATION\"},\"subtitle\":{\"value\":\"Evolution\"}},\"work-citation\":{\"work-citation-type\":\"BIBTEX\",\"citation\":\"@article{Ram_Hadany_2012, title={THE EVOLUTION OF STRESS-INDUCED HYPERMUTATION IN ASEXUAL POPULATIONS}, volume={66}, url={http://dx.doi.org/10.1111/j.1558-5646.2012.01576.x}, DOI={10.1111/j.1558-5646.2012.01576.x}, number={7}, journal={Evolution}, publisher={Wiley Blackwell (Blackwell Publishing)}, author={Ram, Yoav and Hadany, Lilach}, year={2012}, month={Jul}, pages={2315-2328}}\"},\"work-type\":\"JOURNAL_ARTICLE\",\"publication-date\":{\"year\":{\"value\":\"2012\"},\"month\":null,\"day\":null,\"media-type\":null},\"work-external-identifiers\":{\"work-external-identifier\":[{\"work-external-identifier-type\":\"DOI\",\"work-external-identifier-id\":{\"value\":\"10.1111/j.1558-5646.2012.01576.x\"}},{\"work-external-identifier-type\":\"ISSN\",\"work-external-identifier-id\":{\"value\":\"0014-3820\"}}],\"scope\":null},\"url\":null,\"work-source\":{\"value\":\"0000-0002-3054-1567\"},\"visibility\":null}],\"scope\":null}},\"type\":\"USER\"}}\n"
       ]
      }
     ],
     "prompt_number": 43
    },
    {
     "cell_type": "code",
     "collapsed": false,
     "input": [
      "data = r.json()\n",
      "print data"
     ],
     "language": "python",
     "metadata": {},
     "outputs": [
      {
       "output_type": "stream",
       "stream": "stdout",
       "text": [
        "{u'message-version': u'1.0.15', u'orcid-profile': {u'orcid': {u'value': u'0000-0002-9653-4458'}, u'orcid-id': u'http://orcid.org/0000-0002-9653-4458', u'type': u'USER', u'orcid-activities': {u'orcid-works': {u'scope': None, u'orcid-work': [{u'put-code': u'9381344', u'work-title': {u'subtitle': {u'value': u'BMC Evolutionary Biology'}, u'title': {u'value': u'Dispersing away from bad genotypes: the evolution of Fitness-Associated Dispersal (FAD) in homogeneous environments'}}, u'work-citation': {u'citation': u'@article{Gueijman_Ayali_Ram_Hadany_2013, title={Dispersing away from bad genotypes: the evolution of Fitness-Associated Dispersal (FAD) in homogeneous environments}, volume={13}, url={http://dx.doi.org/10.1186/1471-2148-13-125}, DOI={10.1186/1471-2148-13-125}, number={1}, journal={BMC Evolutionary Biology}, publisher={Springer (Biomed Central Ltd.)}, author={Gueijman, Ariel and Ayali, Amir and Ram, Yoav and Hadany, Lilach}, year={2013}, pages={125}}', u'work-citation-type': u'BIBTEX'}, u'work-type': u'JOURNAL_ARTICLE', u'publication-date': {u'month': None, u'day': None, u'media-type': None, u'year': {u'value': u'2013'}}, u'visibility': None, u'url': None, u'work-external-identifiers': {u'scope': None, u'work-external-identifier': [{u'work-external-identifier-id': {u'value': u'10.1186/1471-2148-13-125'}, u'work-external-identifier-type': u'DOI'}, {u'work-external-identifier-id': {u'value': u'1471-2148'}, u'work-external-identifier-type': u'ISSN'}]}, u'work-source': {u'value': u'0000-0002-3054-1567'}}, {u'put-code': u'9381343', u'work-title': {u'subtitle': {u'value': u'Evolution'}, u'title': {u'value': u'EVOLUTION OF STRESS-INDUCED HYPERMUTATION'}}, u'work-citation': {u'citation': u'@article{Ram_Hadany_2012, title={THE EVOLUTION OF STRESS-INDUCED HYPERMUTATION IN ASEXUAL POPULATIONS}, volume={66}, url={http://dx.doi.org/10.1111/j.1558-5646.2012.01576.x}, DOI={10.1111/j.1558-5646.2012.01576.x}, number={7}, journal={Evolution}, publisher={Wiley Blackwell (Blackwell Publishing)}, author={Ram, Yoav and Hadany, Lilach}, year={2012}, month={Jul}, pages={2315-2328}}', u'work-citation-type': u'BIBTEX'}, u'work-type': u'JOURNAL_ARTICLE', u'publication-date': {u'month': None, u'day': None, u'media-type': None, u'year': {u'value': u'2012'}}, u'visibility': None, u'url': None, u'work-external-identifiers': {u'scope': None, u'work-external-identifier': [{u'work-external-identifier-id': {u'value': u'10.1111/j.1558-5646.2012.01576.x'}, u'work-external-identifier-type': u'DOI'}, {u'work-external-identifier-id': {u'value': u'0014-3820'}, u'work-external-identifier-type': u'ISSN'}]}, u'work-source': {u'value': u'0000-0002-3054-1567'}}]}}, u'orcid-history': {u'source': None, u'creation-method': u'WEBSITE', u'submission-date': {u'value': 1350392628869L}, u'last-modified-date': {u'value': 1373804852054L}, u'visibility': None, u'completion-date': {u'value': 1350396328015L}, u'claimed': {u'value': True}}}}\n"
       ]
      }
     ],
     "prompt_number": 7
    },
    {
     "cell_type": "code",
     "collapsed": false,
     "input": [
      "type(data),len(data)"
     ],
     "language": "python",
     "metadata": {},
     "outputs": [
      {
       "metadata": {},
       "output_type": "pyout",
       "prompt_number": 8,
       "text": [
        "(dict, 2)"
       ]
      }
     ],
     "prompt_number": 8
    },
    {
     "cell_type": "code",
     "collapsed": false,
     "input": [
      "data.keys()"
     ],
     "language": "python",
     "metadata": {},
     "outputs": [
      {
       "metadata": {},
       "output_type": "pyout",
       "prompt_number": 9,
       "text": [
        "[u'message-version', u'orcid-profile']"
       ]
      }
     ],
     "prompt_number": 9
    },
    {
     "cell_type": "code",
     "collapsed": false,
     "input": [
      "data['message-version']"
     ],
     "language": "python",
     "metadata": {},
     "outputs": [
      {
       "metadata": {},
       "output_type": "pyout",
       "prompt_number": 10,
       "text": [
        "u'1.0.15'"
       ]
      }
     ],
     "prompt_number": 10
    },
    {
     "cell_type": "code",
     "collapsed": false,
     "input": [
      "data = data['orcid-profile']"
     ],
     "language": "python",
     "metadata": {},
     "outputs": [],
     "prompt_number": 11
    },
    {
     "cell_type": "code",
     "collapsed": false,
     "input": [
      "data.keys()"
     ],
     "language": "python",
     "metadata": {},
     "outputs": [
      {
       "metadata": {},
       "output_type": "pyout",
       "prompt_number": 12,
       "text": [
        "[u'orcid', u'orcid-id', u'type', u'orcid-activities', u'orcid-history']"
       ]
      }
     ],
     "prompt_number": 12
    },
    {
     "cell_type": "code",
     "collapsed": false,
     "input": [
      "data = data['orcid-activities']"
     ],
     "language": "python",
     "metadata": {},
     "outputs": [],
     "prompt_number": 13
    },
    {
     "cell_type": "code",
     "collapsed": false,
     "input": [
      "data.keys()"
     ],
     "language": "python",
     "metadata": {},
     "outputs": [
      {
       "metadata": {},
       "output_type": "pyout",
       "prompt_number": 14,
       "text": [
        "[u'orcid-works']"
       ]
      }
     ],
     "prompt_number": 14
    },
    {
     "cell_type": "code",
     "collapsed": false,
     "input": [
      "data['orcid-works'].keys()"
     ],
     "language": "python",
     "metadata": {},
     "outputs": [
      {
       "metadata": {},
       "output_type": "pyout",
       "prompt_number": 15,
       "text": [
        "[u'scope', u'orcid-work']"
       ]
      }
     ],
     "prompt_number": 15
    },
    {
     "cell_type": "code",
     "collapsed": false,
     "input": [
      "data = data['orcid-works']['orcid-work']"
     ],
     "language": "python",
     "metadata": {},
     "outputs": [],
     "prompt_number": 16
    },
    {
     "cell_type": "code",
     "collapsed": false,
     "input": [
      "type(data),len(data)"
     ],
     "language": "python",
     "metadata": {},
     "outputs": [
      {
       "metadata": {},
       "output_type": "pyout",
       "prompt_number": 17,
       "text": [
        "(list, 2)"
       ]
      }
     ],
     "prompt_number": 17
    },
    {
     "cell_type": "code",
     "collapsed": false,
     "input": [
      "data[0].keys()"
     ],
     "language": "python",
     "metadata": {},
     "outputs": [
      {
       "metadata": {},
       "output_type": "pyout",
       "prompt_number": 18,
       "text": [
        "[u'put-code',\n",
        " u'work-title',\n",
        " u'work-citation',\n",
        " u'work-type',\n",
        " u'publication-date',\n",
        " u'visibility',\n",
        " u'url',\n",
        " u'work-external-identifiers',\n",
        " u'work-source']"
       ]
      }
     ],
     "prompt_number": 18
    },
    {
     "cell_type": "code",
     "collapsed": false,
     "input": [
      "title = data[0]['work-title']['title']['value']\n",
      "print title"
     ],
     "language": "python",
     "metadata": {},
     "outputs": [
      {
       "output_type": "stream",
       "stream": "stdout",
       "text": [
        "Dispersing away from bad genotypes: the evolution of Fitness-Associated Dispersal (FAD) in homogeneous environments\n"
       ]
      }
     ],
     "prompt_number": 71
    },
    {
     "cell_type": "code",
     "collapsed": false,
     "input": [
      "bibtex = data[0]['work-citation']['citation']\n",
      "print bibtex"
     ],
     "language": "python",
     "metadata": {},
     "outputs": [
      {
       "output_type": "stream",
       "stream": "stdout",
       "text": [
        "@article{Gueijman_Ayali_Ram_Hadany_2013, title={Dispersing away from bad genotypes: the evolution of Fitness-Associated Dispersal (FAD) in homogeneous environments}, volume={13}, url={http://dx.doi.org/10.1186/1471-2148-13-125}, DOI={10.1186/1471-2148-13-125}, number={1}, journal={BMC Evolutionary Biology}, publisher={Springer (Biomed Central Ltd.)}, author={Gueijman, Ariel and Ayali, Amir and Ram, Yoav and Hadany, Lilach}, year={2013}, pages={125}}\n"
       ]
      }
     ],
     "prompt_number": 22
    },
    {
     "cell_type": "code",
     "collapsed": false,
     "input": [
      "data[0]['publication-date']['year']['value']"
     ],
     "language": "python",
     "metadata": {},
     "outputs": [
      {
       "metadata": {},
       "output_type": "pyout",
       "prompt_number": 24,
       "text": [
        "u'2013'"
       ]
      }
     ],
     "prompt_number": 24
    },
    {
     "cell_type": "code",
     "collapsed": false,
     "input": [
      "journal = data[0]['work-title']['subtitle']['value']\n",
      "print journal"
     ],
     "language": "python",
     "metadata": {},
     "outputs": [
      {
       "metadata": {},
       "output_type": "pyout",
       "prompt_number": 69,
       "text": [
        "u'BMC Evolutionary Biology'"
       ]
      }
     ],
     "prompt_number": 69
    },
    {
     "cell_type": "code",
     "collapsed": false,
     "input": [
      "url = ''\n",
      "if data[0]['url']:\n",
      "    url = data[0]['url']['value']\n",
      "print url"
     ],
     "language": "python",
     "metadata": {},
     "outputs": [
      {
       "output_type": "stream",
       "stream": "stdout",
       "text": [
        "\n"
       ]
      }
     ],
     "prompt_number": 93
    },
    {
     "cell_type": "code",
     "collapsed": false,
     "input": [
      "doi = ''\n",
      "for v in data[0]['work-external-identifiers']['work-external-identifier']:\n",
      "   if v['work-external-identifier-type'] == 'DOI':\n",
      "        doi = v['work-external-identifier-id']['value']\n",
      "        url = DOI_BASE_URL + doi\n",
      "print doi\n",
      "print url"
     ],
     "language": "python",
     "metadata": {},
     "outputs": [
      {
       "output_type": "stream",
       "stream": "stdout",
       "text": [
        "10.1186/1471-2148-13-125\n",
        "http://dx.doi.org/10.1186/1471-2148-13-125\n"
       ]
      }
     ],
     "prompt_number": 94
    },
    {
     "cell_type": "code",
     "collapsed": false,
     "input": [
      "def parse_item(data):\n",
      "    title = data['work-title']['title']['value']\n",
      "    citation = data['work-citation']['citation']\n",
      "    journal = data['work-title']['subtitle']['value']\n",
      "    url = ''\n",
      "    if data['url']:\n",
      "        url = data[0]['url']['value']\n",
      "    doi = ''\n",
      "    for v in data['work-external-identifiers']['work-external-identifier']:\n",
      "       if v['work-external-identifier-type'] == 'DOI':\n",
      "            doi = v['work-external-identifier-id']['value']\n",
      "            url = DOI_BASE_URL + doi\n",
      "    return {'title':title, 'journal':journal, 'url':url, 'doi':doi, 'citation':citation}"
     ],
     "language": "python",
     "metadata": {},
     "outputs": [],
     "prompt_number": 101
    },
    {
     "cell_type": "code",
     "collapsed": false,
     "input": [
      "parse_item(data[1])"
     ],
     "language": "python",
     "metadata": {},
     "outputs": [
      {
       "metadata": {},
       "output_type": "pyout",
       "prompt_number": 103,
       "text": [
        "{'citation': u'@article{Ram_Hadany_2012, title={THE EVOLUTION OF STRESS-INDUCED HYPERMUTATION IN ASEXUAL POPULATIONS}, volume={66}, url={http://dx.doi.org/10.1111/j.1558-5646.2012.01576.x}, DOI={10.1111/j.1558-5646.2012.01576.x}, number={7}, journal={Evolution}, publisher={Wiley Blackwell (Blackwell Publishing)}, author={Ram, Yoav and Hadany, Lilach}, year={2012}, month={Jul}, pages={2315-2328}}',\n",
        " 'doi': u'10.1111/j.1558-5646.2012.01576.x',\n",
        " 'journal': u'Evolution',\n",
        " 'title': u'EVOLUTION OF STRESS-INDUCED HYPERMUTATION',\n",
        " 'url': u'http://dx.doi.org/10.1111/j.1558-5646.2012.01576.x'}"
       ]
      }
     ],
     "prompt_number": 103
    },
    {
     "cell_type": "code",
     "collapsed": false,
     "input": [
      "def extract_items(request):\n",
      "    data = request.json()\n",
      "    data = data['orcid-profile']\n",
      "    data = data['orcid-activities']\n",
      "    data = data['orcid-works']['orcid-work']\n",
      "    return [parse_item(item) for item in data]"
     ],
     "language": "python",
     "metadata": {},
     "outputs": [],
     "prompt_number": 105
    },
    {
     "cell_type": "code",
     "collapsed": false,
     "input": [
      "extract_items(r)"
     ],
     "language": "python",
     "metadata": {},
     "outputs": [
      {
       "metadata": {},
       "output_type": "pyout",
       "prompt_number": 106,
       "text": [
        "[{'citation': u'@article{Gueijman_Ayali_Ram_Hadany_2013, title={Dispersing away from bad genotypes: the evolution of Fitness-Associated Dispersal (FAD) in homogeneous environments}, volume={13}, url={http://dx.doi.org/10.1186/1471-2148-13-125}, DOI={10.1186/1471-2148-13-125}, number={1}, journal={BMC Evolutionary Biology}, publisher={Springer (Biomed Central Ltd.)}, author={Gueijman, Ariel and Ayali, Amir and Ram, Yoav and Hadany, Lilach}, year={2013}, pages={125}}',\n",
        "  'doi': u'10.1186/1471-2148-13-125',\n",
        "  'journal': u'BMC Evolutionary Biology',\n",
        "  'title': u'Dispersing away from bad genotypes: the evolution of Fitness-Associated Dispersal (FAD) in homogeneous environments',\n",
        "  'url': u'http://dx.doi.org/10.1186/1471-2148-13-125'},\n",
        " {'citation': u'@article{Ram_Hadany_2012, title={THE EVOLUTION OF STRESS-INDUCED HYPERMUTATION IN ASEXUAL POPULATIONS}, volume={66}, url={http://dx.doi.org/10.1111/j.1558-5646.2012.01576.x}, DOI={10.1111/j.1558-5646.2012.01576.x}, number={7}, journal={Evolution}, publisher={Wiley Blackwell (Blackwell Publishing)}, author={Ram, Yoav and Hadany, Lilach}, year={2012}, month={Jul}, pages={2315-2328}}',\n",
        "  'doi': u'10.1111/j.1558-5646.2012.01576.x',\n",
        "  'journal': u'Evolution',\n",
        "  'title': u'EVOLUTION OF STRESS-INDUCED HYPERMUTATION',\n",
        "  'url': u'http://dx.doi.org/10.1111/j.1558-5646.2012.01576.x'}]"
       ]
      }
     ],
     "prompt_number": 106
    },
    {
     "cell_type": "code",
     "collapsed": false,
     "input": [
      "def orcid_items(orcid):\n",
      "    headers = {'accept': 'application/orcid+json'}\n",
      "    r = requests.get(ORCID_URL % orcid, headers=headers)\n",
      "    if r.ok:\n",
      "        return extract_items(r)\n",
      "    else:\n",
      "        return []"
     ],
     "language": "python",
     "metadata": {},
     "outputs": [],
     "prompt_number": 110
    },
    {
     "cell_type": "code",
     "collapsed": false,
     "input": [
      "orcid_items(ORCID)"
     ],
     "language": "python",
     "metadata": {},
     "outputs": [
      {
       "metadata": {},
       "output_type": "pyout",
       "prompt_number": 111,
       "text": [
        "[{'citation': u'@article{Gueijman_Ayali_Ram_Hadany_2013, title={Dispersing away from bad genotypes: the evolution of Fitness-Associated Dispersal (FAD) in homogeneous environments}, volume={13}, url={http://dx.doi.org/10.1186/1471-2148-13-125}, DOI={10.1186/1471-2148-13-125}, number={1}, journal={BMC Evolutionary Biology}, publisher={Springer (Biomed Central Ltd.)}, author={Gueijman, Ariel and Ayali, Amir and Ram, Yoav and Hadany, Lilach}, year={2013}, pages={125}}',\n",
        "  'doi': u'10.1186/1471-2148-13-125',\n",
        "  'journal': u'BMC Evolutionary Biology',\n",
        "  'title': u'Dispersing away from bad genotypes: the evolution of Fitness-Associated Dispersal (FAD) in homogeneous environments',\n",
        "  'url': u'http://dx.doi.org/10.1186/1471-2148-13-125'},\n",
        " {'citation': u'@article{Ram_Hadany_2012, title={THE EVOLUTION OF STRESS-INDUCED HYPERMUTATION IN ASEXUAL POPULATIONS}, volume={66}, url={http://dx.doi.org/10.1111/j.1558-5646.2012.01576.x}, DOI={10.1111/j.1558-5646.2012.01576.x}, number={7}, journal={Evolution}, publisher={Wiley Blackwell (Blackwell Publishing)}, author={Ram, Yoav and Hadany, Lilach}, year={2012}, month={Jul}, pages={2315-2328}}',\n",
        "  'doi': u'10.1111/j.1558-5646.2012.01576.x',\n",
        "  'journal': u'Evolution',\n",
        "  'title': u'EVOLUTION OF STRESS-INDUCED HYPERMUTATION',\n",
        "  'url': u'http://dx.doi.org/10.1111/j.1558-5646.2012.01576.x'}]"
       ]
      }
     ],
     "prompt_number": 111
    },
    {
     "cell_type": "code",
     "collapsed": false,
     "input": [],
     "language": "python",
     "metadata": {},
     "outputs": []
    }
   ],
   "metadata": {}
  }
 ]
}