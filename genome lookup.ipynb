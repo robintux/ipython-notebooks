{
 "metadata": {
  "name": "genome lookup"
 },
 "nbformat": 3,
 "nbformat_minor": 0,
 "worksheets": [
  {
   "cells": [
    {
     "cell_type": "markdown",
     "metadata": {},
     "source": [
      "Build the genome matrix:"
     ]
    },
    {
     "cell_type": "code",
     "collapsed": false,
     "input": [
      "G = 1000"
     ],
     "language": "python",
     "metadata": {},
     "outputs": [],
     "prompt_number": 35
    },
    {
     "cell_type": "code",
     "collapsed": false,
     "input": [
      "genome_matrix = array([0]*G, dtype=np.int64)\n",
      "genome_matrix = genome_matrix.reshape((1,G))"
     ],
     "language": "python",
     "metadata": {},
     "outputs": [],
     "prompt_number": 36
    },
    {
     "cell_type": "code",
     "collapsed": false,
     "input": [
      "extra_genomes = []\n",
      "for i in range(G):\n",
      "    g = genome_matrix[0,:].copy() \n",
      "    g[i] = 1\n",
      "    g = g.reshape((1,G))\n",
      "    extra_genomes.append(g)"
     ],
     "language": "python",
     "metadata": {},
     "outputs": [],
     "prompt_number": 37
    },
    {
     "cell_type": "code",
     "collapsed": false,
     "input": [
      "genome_matrix = np.concatenate((genome_matrix, np.concatenate(extra_genomes)))\n",
      "genome_matrix.shape"
     ],
     "language": "python",
     "metadata": {},
     "outputs": [
      {
       "output_type": "pyout",
       "prompt_number": 38,
       "text": [
        "(1001, 1000)"
       ]
      }
     ],
     "prompt_number": 38
    },
    {
     "cell_type": "code",
     "collapsed": false,
     "input": [
      "extra_genomes = []\n",
      "for i in range(G):\n",
      "    for j in range(10):\n",
      "        g = genome_matrix[0,:].copy() \n",
      "        g[i] = 1\n",
      "        g[j] = 1\n",
      "        g = g.reshape((1,G))\n",
      "        extra_genomes.append(g)"
     ],
     "language": "python",
     "metadata": {},
     "outputs": [],
     "prompt_number": 39
    },
    {
     "cell_type": "code",
     "collapsed": false,
     "input": [
      "genome_matrix = np.concatenate((genome_matrix, np.concatenate(extra_genomes)))\n",
      "genome_matrix.shape"
     ],
     "language": "python",
     "metadata": {},
     "outputs": [
      {
       "output_type": "pyout",
       "prompt_number": 40,
       "text": [
        "(11001, 1000)"
       ]
      }
     ],
     "prompt_number": 40
    },
    {
     "cell_type": "code",
     "collapsed": false,
     "input": [
      "g1 = genome_matrix[G,:]\n",
      "g2 = genome_matrix[-1,:]\n",
      "g3 = genome_matrix[-1,:].copy()\n",
      "g3[555] = 1\n",
      "print(g1.sum())\n",
      "print(g2.sum())\n",
      "print(g3.sum())"
     ],
     "language": "python",
     "metadata": {},
     "outputs": [
      {
       "output_type": "stream",
       "stream": "stdout",
       "text": [
        "1\n",
        "2\n",
        "3\n"
       ]
      }
     ],
     "prompt_number": 41
    },
    {
     "cell_type": "markdown",
     "metadata": {},
     "source": [
      "## Naive"
     ]
    },
    {
     "cell_type": "code",
     "collapsed": false,
     "input": [
      "def find_genome(target):\n",
      "\tfor i in np.arange(genome_matrix.shape[0]):\n",
      "\t\tif np.array_equal(genome_matrix[i,:], target):\n",
      "\t\t\treturn i\n",
      "\treturn -1"
     ],
     "language": "python",
     "metadata": {},
     "outputs": [],
     "prompt_number": 42
    },
    {
     "cell_type": "code",
     "collapsed": false,
     "input": [
      "print(find_genome(g1))\n",
      "print(find_genome(g2))\n",
      "print(find_genome(g3))"
     ],
     "language": "python",
     "metadata": {},
     "outputs": [
      {
       "output_type": "stream",
       "stream": "stdout",
       "text": [
        "1000\n",
        "11000"
       ]
      },
      {
       "output_type": "stream",
       "stream": "stdout",
       "text": [
        "\n",
        "-1"
       ]
      },
      {
       "output_type": "stream",
       "stream": "stdout",
       "text": [
        "\n"
       ]
      }
     ],
     "prompt_number": 43
    },
    {
     "cell_type": "code",
     "collapsed": false,
     "input": [
      "%timeit find_genome(g1)\n",
      "%timeit find_genome(g2)\n",
      "%timeit find_genome(g3)"
     ],
     "language": "python",
     "metadata": {},
     "outputs": [
      {
       "output_type": "stream",
       "stream": "stdout",
       "text": [
        "100 loops, best of 3: 7.9 ms per loop\n",
        "10 loops, best of 3: 85.6 ms per loop"
       ]
      },
      {
       "output_type": "stream",
       "stream": "stdout",
       "text": [
        "\n",
        "10 loops, best of 3: 85.7 ms per loop"
       ]
      },
      {
       "output_type": "stream",
       "stream": "stdout",
       "text": [
        "\n"
       ]
      }
     ],
     "prompt_number": 44
    },
    {
     "cell_type": "markdown",
     "metadata": {},
     "source": [
      "Is `array_equal` optimized?"
     ]
    },
    {
     "cell_type": "code",
     "collapsed": false,
     "input": [
      "a1 = array([0]*10**6 + [1])\n",
      "a2 = array([0]*10**6 + [0])\n",
      "\n",
      "def arr_equal(a1,a2):\n",
      "    if a1.shape != a2.shape:\n",
      "        return False\n",
      "    for i in np.arange(a1.shape[0]):\n",
      "        if a1[i] != a2[i]:\n",
      "            return False\n",
      "    return True"
     ],
     "language": "python",
     "metadata": {},
     "outputs": [],
     "prompt_number": 45
    },
    {
     "cell_type": "code",
     "collapsed": false,
     "input": [
      "print(np.array_equal(a1, a2))\n",
      "print(arr_equal(a1, a2))\n",
      "print(arr_equal(a1, a1))"
     ],
     "language": "python",
     "metadata": {},
     "outputs": [
      {
       "output_type": "stream",
       "stream": "stdout",
       "text": [
        "False\n",
        "False"
       ]
      },
      {
       "output_type": "stream",
       "stream": "stdout",
       "text": [
        "\n",
        "True"
       ]
      },
      {
       "output_type": "stream",
       "stream": "stdout",
       "text": [
        "\n"
       ]
      }
     ],
     "prompt_number": 46
    },
    {
     "cell_type": "code",
     "collapsed": false,
     "input": [
      "%timeit np.array_equal(a1, a2)\n",
      "%timeit arr_equal(a1, a2)"
     ],
     "language": "python",
     "metadata": {},
     "outputs": [
      {
       "output_type": "stream",
       "stream": "stdout",
       "text": [
        "1000 loops, best of 3: 1.87 ms per loop\n",
        "1 loops, best of 3: 610 ms per loop"
       ]
      },
      {
       "output_type": "stream",
       "stream": "stdout",
       "text": [
        "\n"
       ]
      }
     ],
     "prompt_number": 47
    },
    {
     "cell_type": "markdown",
     "metadata": {},
     "source": [
      "## Cython"
     ]
    },
    {
     "cell_type": "code",
     "collapsed": false,
     "input": [
      "%load_ext cythonmagic"
     ],
     "language": "python",
     "metadata": {},
     "outputs": [],
     "prompt_number": 48
    },
    {
     "cell_type": "code",
     "collapsed": false,
     "input": [
      "%%cython\n",
      "import numpy as np\n",
      "cimport numpy as np\n",
      "cimport cython\n",
      "DTYPE_INT = np.int64\n",
      "ctypedef np.int64_t DTYPE_INT_t\n",
      "DTYPE_FLOAT = np.float64\n",
      "ctypedef np.float64_t DTYPE_FLOAT_t\n",
      "\n",
      "@cython.boundscheck(False)\n",
      "@cython.wraparound(False)\n",
      "def arr_equal_c(np.ndarray[DTYPE_INT_t, ndim=1] a1, np.ndarray[DTYPE_INT_t, ndim=1] a2):\n",
      "    if a1.shape != a2.shape:\n",
      "        return False\n",
      "    cdef Py_ssize_t i\n",
      "    for i in np.arange(a1.shape[0]):\n",
      "        if a1[i] != a2[i]:\n",
      "            return False\n",
      "    return True\n",
      "\n",
      "@cython.boundscheck(False)\n",
      "@cython.wraparound(False)\n",
      "def find_genome_c(np.ndarray[DTYPE_INT_t, ndim=2] genome_matrix, np.ndarray[DTYPE_INT_t, ndim=1] target):\n",
      "    cdef Py_ssize_t i = 0\n",
      "    cdef Py_ssize_t j = 0\n",
      "    while i < genome_matrix.shape[0]:\n",
      "        j = 0\n",
      "        while  target[j] == genome_matrix[i,j] and j < genome_matrix.shape[1]:\n",
      "            if target[j] != genome_matrix[i,j]:\n",
      "                break\n",
      "            j += 1\n",
      "        if j == genome_matrix.shape[1]:\n",
      "            return i\n",
      "        i += 1\n",
      "    return -1"
     ],
     "language": "python",
     "metadata": {},
     "outputs": [],
     "prompt_number": 49
    },
    {
     "cell_type": "code",
     "collapsed": false,
     "input": [
      "print(find_genome_c(genome_matrix, g1))\n",
      "print(find_genome_c(genome_matrix, g2))\n",
      "print(find_genome_c(genome_matrix, g3))"
     ],
     "language": "python",
     "metadata": {},
     "outputs": [
      {
       "output_type": "stream",
       "stream": "stdout",
       "text": [
        "1000\n",
        "11000\n",
        "-1\n"
       ]
      }
     ],
     "prompt_number": 50
    },
    {
     "cell_type": "code",
     "collapsed": false,
     "input": [
      "%timeit find_genome_c(genome_matrix, g1)\n",
      "%timeit find_genome_c(genome_matrix, g2)\n",
      "%timeit find_genome_c(genome_matrix, g3)"
     ],
     "language": "python",
     "metadata": {},
     "outputs": [
      {
       "output_type": "stream",
       "stream": "stdout",
       "text": [
        "1000 loops, best of 3: 428 us per loop\n",
        "1000 loops, best of 3: 558 us per loop"
       ]
      },
      {
       "output_type": "stream",
       "stream": "stdout",
       "text": [
        "\n",
        "1000 loops, best of 3: 459 us per loop"
       ]
      },
      {
       "output_type": "stream",
       "stream": "stdout",
       "text": [
        "\n"
       ]
      }
     ],
     "prompt_number": 51
    },
    {
     "cell_type": "markdown",
     "metadata": {},
     "source": [
      "This is an **improvement**."
     ]
    },
    {
     "cell_type": "markdown",
     "metadata": {},
     "source": [
      "## Dict"
     ]
    },
    {
     "cell_type": "code",
     "collapsed": false,
     "input": [
      "genome_dict = {}\n",
      "for i in range(genome_matrix.shape[0]):\n",
      "    genome_dict[genome_matrix[i,:].tostring()] = i"
     ],
     "language": "python",
     "metadata": {},
     "outputs": [],
     "prompt_number": 52
    },
    {
     "cell_type": "code",
     "collapsed": false,
     "input": [
      "def find_genome_dict(target):\n",
      "    return genome_dict.get(target.tostring(), -1)"
     ],
     "language": "python",
     "metadata": {},
     "outputs": [],
     "prompt_number": 53
    },
    {
     "cell_type": "code",
     "collapsed": false,
     "input": [
      "print find_genome_dict(g1)\n",
      "print find_genome_dict(g2)\n",
      "print find_genome_dict(g3)"
     ],
     "language": "python",
     "metadata": {},
     "outputs": [
      {
       "output_type": "stream",
       "stream": "stdout",
       "text": [
        "1000\n",
        "11000\n",
        "-1\n"
       ]
      }
     ],
     "prompt_number": 54
    },
    {
     "cell_type": "code",
     "collapsed": false,
     "input": [
      "%timeit find_genome_dict(g1)\n",
      "%timeit find_genome_dict(g2)\n",
      "%timeit find_genome_dict(g3)"
     ],
     "language": "python",
     "metadata": {},
     "outputs": [
      {
       "output_type": "stream",
       "stream": "stdout",
       "text": [
        "100000 loops, best of 3: 9.56 us per loop\n",
        "100000 loops, best of 3: 9.53 us per loop"
       ]
      },
      {
       "output_type": "stream",
       "stream": "stdout",
       "text": [
        "\n",
        "100000 loops, best of 3: 9.27 us per loop"
       ]
      },
      {
       "output_type": "stream",
       "stream": "stdout",
       "text": [
        "\n"
       ]
      }
     ],
     "prompt_number": 55
    },
    {
     "cell_type": "markdown",
     "metadata": {},
     "source": [
      "This is **better** than the Cython implementation.\n",
      "\n",
      "Can we do better by using replacing `tostring` with something else?"
     ]
    },
    {
     "cell_type": "code",
     "collapsed": false,
     "input": [
      "genome_dict = {}\n",
      "for i in range(genome_matrix.shape[0]):\n",
      "    genome_dict[tuple(genome_matrix[i,:])] = i"
     ],
     "language": "python",
     "metadata": {},
     "outputs": [],
     "prompt_number": 56
    },
    {
     "cell_type": "code",
     "collapsed": false,
     "input": [
      "def find_genome_dict(target):\n",
      "    return genome_dict.get(tuple(target), -1)"
     ],
     "language": "python",
     "metadata": {},
     "outputs": [],
     "prompt_number": 57
    },
    {
     "cell_type": "code",
     "collapsed": false,
     "input": [
      "%timeit find_genome_dict(g1)\n",
      "%timeit find_genome_dict(g2)\n",
      "%timeit find_genome_dict(g3)"
     ],
     "language": "python",
     "metadata": {},
     "outputs": [
      {
       "output_type": "stream",
       "stream": "stdout",
       "text": [
        "10000 loops, best of 3: 91.5 us per loop\n",
        "10000 loops, best of 3: 91.7 us per loop"
       ]
      },
      {
       "output_type": "stream",
       "stream": "stdout",
       "text": [
        "\n",
        "10000 loops, best of 3: 71.5 us per loop"
       ]
      },
      {
       "output_type": "stream",
       "stream": "stdout",
       "text": [
        "\n"
       ]
      }
     ],
     "prompt_number": 58
    },
    {
     "cell_type": "markdown",
     "metadata": {},
     "source": [
      "Tuple isn't as good."
     ]
    },
    {
     "cell_type": "code",
     "collapsed": false,
     "input": [
      "from hashlib import sha1\n",
      "\n",
      "class hashable(object):\n",
      "    r'''Hashable wrapper for ndarray objects.\n",
      "\n",
      "        Instances of ndarray are not hashable, meaning they cannot be added to\n",
      "        sets, nor used as keys in dictionaries. This is by design - ndarray\n",
      "        objects are mutable, and therefore cannot reliably implement the\n",
      "        __hash__() method.\n",
      "\n",
      "        The hashable class allows a way around this limitation. It implements\n",
      "        the required methods for hashable objects in terms of an encapsulated\n",
      "        ndarray object. This can be either a copied instance (which is safer)\n",
      "        or the original object (which requires the user to be careful enough\n",
      "        not to modify it).\n",
      "    '''\n",
      "    def __init__(self, wrapped, tight=False):\n",
      "        r'''Creates a new hashable object encapsulating an ndarray.\n",
      "\n",
      "            wrapped\n",
      "                The wrapped ndarray.\n",
      "\n",
      "            tight\n",
      "                Optional. If True, a copy of the input ndaray is created.\n",
      "                Defaults to False.\n",
      "        '''\n",
      "        self.__tight = tight\n",
      "        self.__wrapped = array(wrapped) if tight else wrapped\n",
      "        self.__hash = int(sha1(wrapped.view(uint8)).hexdigest(), 16)\n",
      "\n",
      "    def __eq__(self, other):\n",
      "        return all(self.__wrapped == other.__wrapped)\n",
      "\n",
      "    def __hash__(self):\n",
      "        return self.__hash\n",
      "\n",
      "    def unwrap(self):\n",
      "        r'''Returns the encapsulated ndarray.\n",
      "\n",
      "            If the wrapper is \"tight\", a copy of the encapsulated ndarray is\n",
      "            returned. Otherwise, the encapsulated ndarray itself is returned.\n",
      "        '''\n",
      "        if self.__tight:\n",
      "            return array(self.__wrapped)\n",
      "\n",
      "        return self.__wrapped"
     ],
     "language": "python",
     "metadata": {},
     "outputs": [],
     "prompt_number": 59
    },
    {
     "cell_type": "code",
     "collapsed": false,
     "input": [
      "genome_dict2 = {}\n",
      "for i in range(genome_matrix.shape[0]):\n",
      "    genome_dict2[hashable(genome_matrix[i,:])] = i"
     ],
     "language": "python",
     "metadata": {},
     "outputs": [],
     "prompt_number": 60
    },
    {
     "cell_type": "code",
     "collapsed": false,
     "input": [
      "def find_genome_dict(target):\n",
      "    return genome_dict2.get(hashable(target), -1)"
     ],
     "language": "python",
     "metadata": {},
     "outputs": [],
     "prompt_number": 61
    },
    {
     "cell_type": "code",
     "collapsed": false,
     "input": [
      "print find_genome_dict(g1)\n",
      "print find_genome_dict(g2)\n",
      "print find_genome_dict(g3)"
     ],
     "language": "python",
     "metadata": {},
     "outputs": [
      {
       "output_type": "stream",
       "stream": "stdout",
       "text": [
        "1000\n",
        "11000\n",
        "-1\n"
       ]
      }
     ],
     "prompt_number": 62
    },
    {
     "cell_type": "code",
     "collapsed": false,
     "input": [
      "%timeit find_genome_dict(g1)\n",
      "%timeit find_genome_dict(g2)\n",
      "%timeit find_genome_dict(g3)"
     ],
     "language": "python",
     "metadata": {},
     "outputs": [
      {
       "output_type": "stream",
       "stream": "stdout",
       "text": [
        "10000 loops, best of 3: 22.4 us per loop\n",
        "10000 loops, best of 3: 22.7 us per loop"
       ]
      },
      {
       "output_type": "stream",
       "stream": "stdout",
       "text": [
        "\n",
        "100000 loops, best of 3: 14.9 us per loop"
       ]
      },
      {
       "output_type": "stream",
       "stream": "stdout",
       "text": [
        "\n"
       ]
      }
     ],
     "prompt_number": 63
    },
    {
     "cell_type": "markdown",
     "metadata": {},
     "source": [
      "So `dict` approach wins, best with the `tostring` method."
     ]
    },
    {
     "cell_type": "code",
     "collapsed": false,
     "input": [
      "def find_genome_dict(target):\n",
      "    return genome_dict.get(target.tostring(), -1)"
     ],
     "language": "python",
     "metadata": {},
     "outputs": [],
     "prompt_number": 64
    },
    {
     "cell_type": "markdown",
     "metadata": {},
     "source": [
      "## Binary tree\n",
      "\n",
      "A first tree is based on the bits:"
     ]
    },
    {
     "cell_type": "code",
     "collapsed": false,
     "input": [
      "bintree = bintrees.FastBinaryTree()\n",
      "for i in range(genome_matrix.shape[0]):\n",
      "    bintree.insert(genome_matrix[i,:].tostring(), i)"
     ],
     "language": "python",
     "metadata": {},
     "outputs": [],
     "prompt_number": 69
    },
    {
     "cell_type": "code",
     "collapsed": false,
     "input": [
      "print bintree.get(g1.tostring())\n",
      "print bintree.get(g2.tostring())\n",
      "print bintree.get(g3.tostring())"
     ],
     "language": "python",
     "metadata": {},
     "outputs": [
      {
       "output_type": "stream",
       "stream": "stdout",
       "text": [
        "1000\n",
        "11000\n",
        "None\n"
       ]
      }
     ],
     "prompt_number": 71
    },
    {
     "cell_type": "code",
     "collapsed": false,
     "input": [
      "%timeit bintree.get(g1.tostring())\n",
      "%timeit bintree.get(g2.tostring())\n",
      "%timeit bintree.get(g3.tostring())"
     ],
     "language": "python",
     "metadata": {},
     "outputs": [
      {
       "output_type": "stream",
       "stream": "stdout",
       "text": [
        "1000 loops, best of 3: 232 us per loop\n",
        "1000 loops, best of 3: 248 us per loop"
       ]
      },
      {
       "output_type": "stream",
       "stream": "stdout",
       "text": [
        "\n",
        "10000 loops, best of 3: 94 us per loop"
       ]
      },
      {
       "output_type": "stream",
       "stream": "stdout",
       "text": [
        "\n"
       ]
      }
     ],
     "prompt_number": 72
    },
    {
     "cell_type": "markdown",
     "metadata": {},
     "source": [
      "Not that efficient.\n",
      "\n",
      "Lets check other trees:"
     ]
    },
    {
     "cell_type": "code",
     "collapsed": false,
     "input": [
      "rbtree = bintrees.FastRBTree()\n",
      "for i in range(genome_matrix.shape[0]):\n",
      "    rbtree.insert(genome_matrix[i,:].tostring(), i)\n",
      "avltree = bintrees.FastAVLTree()\n",
      "for i in range(genome_matrix.shape[0]):\n",
      "    avltree.insert(genome_matrix[i,:].tostring(), i)    "
     ],
     "language": "python",
     "metadata": {},
     "outputs": [],
     "prompt_number": 73
    },
    {
     "cell_type": "code",
     "collapsed": false,
     "input": [
      "print rbtree.get(g1.tostring())\n",
      "print rbtree.get(g2.tostring())\n",
      "print rbtree.get(g3.tostring())\n",
      "\n",
      "print avltree.get(g1.tostring())\n",
      "print avltree.get(g2.tostring())\n",
      "print avltree.get(g3.tostring())"
     ],
     "language": "python",
     "metadata": {},
     "outputs": [
      {
       "output_type": "stream",
       "stream": "stdout",
       "text": [
        "1000\n",
        "11000\n",
        "None\n",
        "1000\n",
        "11000\n",
        "None\n"
       ]
      }
     ],
     "prompt_number": 74
    },
    {
     "cell_type": "code",
     "collapsed": false,
     "input": [
      "%timeit rbtree.get(g1.tostring())\n",
      "%timeit rbtree.get(g2.tostring())\n",
      "%timeit rbtree.get(g3.tostring())\n",
      "\n",
      "%timeit avltree.get(g1.tostring())\n",
      "%timeit avltree.get(g2.tostring())\n",
      "%timeit avltree.get(g3.tostring())"
     ],
     "language": "python",
     "metadata": {},
     "outputs": [
      {
       "output_type": "stream",
       "stream": "stdout",
       "text": [
        "100000 loops, best of 3: 5.41 us per loop\n",
        "100000 loops, best of 3: 4.9 us per loop"
       ]
      },
      {
       "output_type": "stream",
       "stream": "stdout",
       "text": [
        "\n",
        "100000 loops, best of 3: 4.8 us per loop"
       ]
      },
      {
       "output_type": "stream",
       "stream": "stdout",
       "text": [
        "\n",
        "100000 loops, best of 3: 3.81 us per loop"
       ]
      },
      {
       "output_type": "stream",
       "stream": "stdout",
       "text": [
        "\n",
        "100000 loops, best of 3: 4.58 us per loop"
       ]
      },
      {
       "output_type": "stream",
       "stream": "stdout",
       "text": [
        "\n",
        "100000 loops, best of 3: 5.12 us per loop"
       ]
      },
      {
       "output_type": "stream",
       "stream": "stdout",
       "text": [
        "\n"
       ]
      }
     ],
     "prompt_number": 75
    },
    {
     "cell_type": "markdown",
     "metadata": {},
     "source": [
      "## Hash\n",
      "See if I can find a faster hash.\n",
      "\n",
      "The baseline is:"
     ]
    },
    {
     "cell_type": "code",
     "collapsed": false,
     "input": [
      "%timeit g1.tostring(), g2.tostring(), g3.tostring()\n",
      "%timeit hash(g1.tostring()), hash(g2.tostring()), hash(g3.tostring())"
     ],
     "language": "python",
     "metadata": {},
     "outputs": [
      {
       "output_type": "stream",
       "stream": "stdout",
       "text": [
        "1000000 loops, best of 3: 1.61 us per loop\n",
        "10000 loops, best of 3: 27.2 us per loop"
       ]
      },
      {
       "output_type": "stream",
       "stream": "stdout",
       "text": [
        "\n"
       ]
      }
     ],
     "prompt_number": 120
    },
    {
     "cell_type": "code",
     "collapsed": false,
     "input": [
      "%timeit tuple(g1),tuple(g2),tuple(g3)"
     ],
     "language": "python",
     "metadata": {},
     "outputs": [
      {
       "output_type": "stream",
       "stream": "stdout",
       "text": [
        "1000 loops, best of 3: 203 us per loop\n"
       ]
      }
     ],
     "prompt_number": 121
    },
    {
     "cell_type": "code",
     "collapsed": false,
     "input": [
      "def arr_to_tuple(a):\n",
      "    return ('numpy.ndarray', a.shape, a.dtype, a.strides, str(a.flags), buffer(a))"
     ],
     "language": "python",
     "metadata": {},
     "outputs": [],
     "prompt_number": 122
    },
    {
     "cell_type": "code",
     "collapsed": false,
     "input": [
      "%timeit arr_to_tuple(g1),arr_to_tuple(g2),arr_to_tuple(g3)\n",
      "%timeit hash(arr_to_tuple(g1)),hash(arr_to_tuple(g2)),hash(arr_to_tuple(g3))"
     ],
     "language": "python",
     "metadata": {},
     "outputs": [
      {
       "output_type": "stream",
       "stream": "stdout",
       "text": [
        "100000 loops, best of 3: 3.46 us per loop\n",
        "10000 loops, best of 3: 32 us per loop"
       ]
      },
      {
       "output_type": "stream",
       "stream": "stdout",
       "text": [
        "\n"
       ]
      }
     ],
     "prompt_number": 123
    },
    {
     "cell_type": "code",
     "collapsed": false,
     "input": [
      "%timeit buffer(g1),buffer(g2),buffer(g3)\n",
      "%timeit hash(buffer(g1)),hash(buffer(g2)),hash(buffer(g3))"
     ],
     "language": "python",
     "metadata": {},
     "outputs": [
      {
       "output_type": "stream",
       "stream": "stdout",
       "text": [
        "1000000 loops, best of 3: 402 ns per loop\n",
        "10000 loops, best of 3: 26.5 us per loop"
       ]
      },
      {
       "output_type": "stream",
       "stream": "stdout",
       "text": [
        "\n"
       ]
      }
     ],
     "prompt_number": 124
    },
    {
     "cell_type": "code",
     "collapsed": false,
     "input": [],
     "language": "python",
     "metadata": {},
     "outputs": [],
     "prompt_number": 124
    }
   ],
   "metadata": {}
  }
 ]
}