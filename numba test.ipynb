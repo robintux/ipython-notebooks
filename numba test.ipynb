{
 "metadata": {
  "name": "numba test"
 },
 "nbformat": 3,
 "nbformat_minor": 0,
 "worksheets": [
  {
   "cells": [
    {
     "cell_type": "markdown",
     "metadata": {},
     "source": [
      "## Install\n",
      "### Windows\n",
      "Download required packages from [Cristoph Gohlke's website](http://www.lfd.uci.edu/~gohlke/pythonlibs/#numba), including LLVMPy, Meta, Cython(?) and Numba.\n",
      "### Other platforms\n",
      "Follow instructions on the [Numba github page](https://github.com/numba/numba).\n",
      "\n",
      "## Test\n",
      "\n",
      "Starting with the Numba test:"
     ]
    },
    {
     "cell_type": "code",
     "collapsed": false,
     "input": [
      "import numba\n",
      "numba.test()"
     ],
     "language": "python",
     "metadata": {},
     "outputs": [
      {
       "output_type": "stream",
       "stream": "stdout",
       "text": [
        "ran test files: failed: (4/44)\n"
       ]
      },
      {
       "output_type": "pyout",
       "prompt_number": 1,
       "text": [
        "4"
       ]
      }
     ],
     "prompt_number": 1
    },
    {
     "cell_type": "code",
     "collapsed": false,
     "input": [
      "import llvm\n",
      "llvm.test()"
     ],
     "language": "python",
     "metadata": {},
     "outputs": [
      {
       "output_type": "stream",
       "stream": "stdout",
       "text": [
        "llvmpy is installed in: C:\\Python27\\lib\\site-packages\\llvm\n",
        "llvmpy version: 0.9\n",
        "2.7.3 |EPD 7.3-2 (64-bit)| (default, Apr 12 2012, 15:20:16) [MSC v.1500 64 bit (AMD64)]\n",
        "."
       ]
      },
      {
       "output_type": "stream",
       "stream": "stdout",
       "text": [
        "."
       ]
      },
      {
       "output_type": "stream",
       "stream": "stdout",
       "text": [
        "."
       ]
      },
      {
       "output_type": "stream",
       "stream": "stdout",
       "text": [
        "."
       ]
      },
      {
       "output_type": "stream",
       "stream": "stdout",
       "text": [
        "."
       ]
      },
      {
       "output_type": "stream",
       "stream": "stdout",
       "text": [
        "."
       ]
      },
      {
       "output_type": "stream",
       "stream": "stdout",
       "text": [
        "."
       ]
      },
      {
       "output_type": "stream",
       "stream": "stdout",
       "text": [
        "."
       ]
      },
      {
       "output_type": "stream",
       "stream": "stdout",
       "text": [
        "."
       ]
      },
      {
       "output_type": "stream",
       "stream": "stdout",
       "text": [
        "."
       ]
      },
      {
       "output_type": "stream",
       "stream": "stdout",
       "text": [
        "."
       ]
      },
      {
       "output_type": "stream",
       "stream": "stdout",
       "text": [
        "."
       ]
      },
      {
       "output_type": "stream",
       "stream": "stdout",
       "text": [
        "."
       ]
      },
      {
       "output_type": "stream",
       "stream": "stdout",
       "text": [
        "."
       ]
      },
      {
       "output_type": "stream",
       "stream": "stdout",
       "text": [
        "."
       ]
      },
      {
       "output_type": "stream",
       "stream": "stdout",
       "text": [
        "."
       ]
      },
      {
       "output_type": "stream",
       "stream": "stdout",
       "text": [
        "."
       ]
      },
      {
       "output_type": "stream",
       "stream": "stdout",
       "text": [
        "."
       ]
      },
      {
       "output_type": "stream",
       "stream": "stdout",
       "text": [
        "."
       ]
      },
      {
       "output_type": "stream",
       "stream": "stdout",
       "text": [
        "."
       ]
      },
      {
       "output_type": "stream",
       "stream": "stdout",
       "text": [
        "."
       ]
      },
      {
       "output_type": "stream",
       "stream": "stdout",
       "text": [
        "."
       ]
      },
      {
       "output_type": "stream",
       "stream": "stdout",
       "text": [
        "."
       ]
      },
      {
       "output_type": "stream",
       "stream": "stdout",
       "text": [
        "."
       ]
      },
      {
       "output_type": "stream",
       "stream": "stdout",
       "text": [
        "."
       ]
      },
      {
       "output_type": "stream",
       "stream": "stdout",
       "text": [
        "."
       ]
      },
      {
       "output_type": "stream",
       "stream": "stdout",
       "text": [
        "."
       ]
      },
      {
       "output_type": "stream",
       "stream": "stdout",
       "text": [
        "."
       ]
      },
      {
       "output_type": "stream",
       "stream": "stdout",
       "text": [
        "."
       ]
      },
      {
       "output_type": "stream",
       "stream": "stdout",
       "text": [
        "."
       ]
      },
      {
       "output_type": "stream",
       "stream": "stdout",
       "text": [
        "\n",
        "----------------------------------------------------------------------\n",
        "Ran 30 tests in 0.068s\n",
        "\n",
        "OK\n"
       ]
      },
      {
       "output_type": "pyout",
       "prompt_number": 2,
       "text": [
        "<unittest.runner.TextTestResult run=30 errors=0 failures=0>"
       ]
      }
     ],
     "prompt_number": 2
    },
    {
     "cell_type": "code",
     "collapsed": false,
     "input": [
      "import meta\n",
      "meta.test()"
     ],
     "language": "python",
     "metadata": {},
     "outputs": [
      {
       "output_type": "stream",
       "stream": "stdout",
       "text": [
        "test_assert (asttools.tests.test_conditional_symbols.Test) ... "
       ]
      },
      {
       "output_type": "stream",
       "stream": "stdout",
       "text": [
        "ok\n",
        "test_assign (asttools.tests.test_conditional_symbols.Test) ... "
       ]
      },
      {
       "output_type": "stream",
       "stream": "stdout",
       "text": [
        "ok\n",
        "test_assign2 (asttools.tests.test_conditional_symbols.Test) ... "
       ]
      },
      {
       "output_type": "stream",
       "stream": "stdout",
       "text": [
        "ok\n",
        "test_assign3 (asttools.tests.test_conditional_symbols.Test) ... "
       ]
      },
      {
       "output_type": "stream",
       "stream": "stdout",
       "text": [
        "ok\n",
        "test_assign4 (asttools.tests.test_conditional_symbols.Test) ... "
       ]
      },
      {
       "output_type": "stream",
       "stream": "stdout",
       "text": [
        "ok\n",
        "test_assign5 (asttools.tests.test_conditional_symbols.Test) ... "
       ]
      },
      {
       "output_type": "stream",
       "stream": "stdout",
       "text": [
        "ok\n",
        "test_assign6 (asttools.tests.test_conditional_symbols.Test) ... "
       ]
      },
      {
       "output_type": "stream",
       "stream": "stdout",
       "text": [
        "ok\n",
        "test_assign_attr (asttools.tests.test_conditional_symbols.Test) ... "
       ]
      },
      {
       "output_type": "stream",
       "stream": "stdout",
       "text": [
        "ok\n",
        "test_assign_subscr (asttools.tests.test_conditional_symbols.Test) ... "
       ]
      },
      {
       "output_type": "stream",
       "stream": "stdout",
       "text": [
        "ok\n",
        "test_aug_assign (asttools.tests.test_conditional_symbols.Test) ... "
       ]
      },
      {
       "output_type": "stream",
       "stream": "stdout",
       "text": [
        "ok\n",
        "test_bug001 (asttools.tests.test_conditional_symbols.Test) ... "
       ]
      },
      {
       "output_type": "stream",
       "stream": "stdout",
       "text": [
        "ok\n",
        "test_bug002 (asttools.tests.test_conditional_symbols.Test) ... "
       ]
      },
      {
       "output_type": "stream",
       "stream": "stdout",
       "text": [
        "ok\n",
        "test_conditional_after_stable (asttools.tests.test_conditional_symbols.Test) ... "
       ]
      },
      {
       "output_type": "stream",
       "stream": "stdout",
       "text": [
        "ok\n",
        "test_exec (asttools.tests.test_conditional_symbols.Test) ... "
       ]
      },
      {
       "output_type": "stream",
       "stream": "stdout",
       "text": [
        "ok\n",
        "test_for (asttools.tests.test_conditional_symbols.Test) ... "
       ]
      },
      {
       "output_type": "stream",
       "stream": "stdout",
       "text": [
        "ok\n",
        "test_for_break0 (asttools.tests.test_conditional_symbols.Test) ... "
       ]
      },
      {
       "output_type": "stream",
       "stream": "stdout",
       "text": [
        "ok\n",
        "test_for_break1 (asttools.tests.test_conditional_symbols.Test) ... "
       ]
      },
      {
       "output_type": "stream",
       "stream": "stdout",
       "text": [
        "ok\n",
        "test_for_else0 (asttools.tests.test_conditional_symbols.Test) ... "
       ]
      },
      {
       "output_type": "stream",
       "stream": "stdout",
       "text": [
        "ok\n",
        "test_for_else1 (asttools.tests.test_conditional_symbols.Test) ... "
       ]
      },
      {
       "output_type": "stream",
       "stream": "stdout",
       "text": [
        "ok\n",
        "test_if0 (asttools.tests.test_conditional_symbols.Test) ... "
       ]
      },
      {
       "output_type": "stream",
       "stream": "stdout",
       "text": [
        "ok\n",
        "test_if1 (asttools.tests.test_conditional_symbols.Test) ... "
       ]
      },
      {
       "output_type": "stream",
       "stream": "stdout",
       "text": [
        "ok\n",
        "test_if_elif0 (asttools.tests.test_conditional_symbols.Test) ... "
       ]
      },
      {
       "output_type": "stream",
       "stream": "stdout",
       "text": [
        "ok\n",
        "test_if_elif1 (asttools.tests.test_conditional_symbols.Test) ... "
       ]
      },
      {
       "output_type": "stream",
       "stream": "stdout",
       "text": [
        "ok\n",
        "test_if_elif2 (asttools.tests.test_conditional_symbols.Test) ... "
       ]
      },
      {
       "output_type": "stream",
       "stream": "stdout",
       "text": [
        "ok\n",
        "test_if_else0 (asttools.tests.test_conditional_symbols.Test) ... "
       ]
      },
      {
       "output_type": "stream",
       "stream": "stdout",
       "text": [
        "ok\n",
        "test_if_else1 (asttools.tests.test_conditional_symbols.Test) ... "
       ]
      },
      {
       "output_type": "stream",
       "stream": "stdout",
       "text": [
        "ok\n",
        "test_nested_for (asttools.tests.test_conditional_symbols.Test) ... "
       ]
      },
      {
       "output_type": "stream",
       "stream": "stdout",
       "text": [
        "ok\n",
        "test_nested_if (asttools.tests.test_conditional_symbols.Test) ... "
       ]
      },
      {
       "output_type": "stream",
       "stream": "stdout",
       "text": [
        "ok\n",
        "test_nested_if1 (asttools.tests.test_conditional_symbols.Test) ... "
       ]
      },
      {
       "output_type": "stream",
       "stream": "stdout",
       "text": [
        "ok\n",
        "test_nested_while (asttools.tests.test_conditional_symbols.Test) ... "
       ]
      },
      {
       "output_type": "stream",
       "stream": "stdout",
       "text": [
        "ok\n",
        "test_raise (asttools.tests.test_conditional_symbols.Test) ... "
       ]
      },
      {
       "output_type": "stream",
       "stream": "stdout",
       "text": [
        "ok\n",
        "test_try (asttools.tests.test_conditional_symbols.Test) ... "
       ]
      },
      {
       "output_type": "stream",
       "stream": "stdout",
       "text": [
        "ok\n",
        "test_try2 (asttools.tests.test_conditional_symbols.Test) ... "
       ]
      },
      {
       "output_type": "stream",
       "stream": "stdout",
       "text": [
        "ok\n",
        "test_try_else (asttools.tests.test_conditional_symbols.Test) ... "
       ]
      },
      {
       "output_type": "stream",
       "stream": "stdout",
       "text": [
        "ok\n",
        "test_try_finally (asttools.tests.test_conditional_symbols.Test) ... "
       ]
      },
      {
       "output_type": "stream",
       "stream": "stdout",
       "text": [
        "ok\n",
        "test_while (asttools.tests.test_conditional_symbols.Test) ... "
       ]
      },
      {
       "output_type": "stream",
       "stream": "stdout",
       "text": [
        "ok\n",
        "test_while_break (asttools.tests.test_conditional_symbols.Test) ... "
       ]
      },
      {
       "output_type": "stream",
       "stream": "stdout",
       "text": [
        "ok\n",
        "test_while_else (asttools.tests.test_conditional_symbols.Test) ... "
       ]
      },
      {
       "output_type": "stream",
       "stream": "stdout",
       "text": [
        "ok\n",
        "test_while_else_break (asttools.tests.test_conditional_symbols.Test) ... "
       ]
      },
      {
       "output_type": "stream",
       "stream": "stdout",
       "text": [
        "ok\n",
        "test_add (asttools.tests.test_depgraph.Test) ... "
       ]
      },
      {
       "output_type": "stream",
       "stream": "stdout",
       "text": [
        "ok\n",
        "test_and (asttools.tests.test_depgraph.Test) ... "
       ]
      },
      {
       "output_type": "stream",
       "stream": "stdout",
       "text": [
        "ok\n",
        "test_assert (asttools.tests.test_depgraph.Test) ... "
       ]
      },
      {
       "output_type": "stream",
       "stream": "stdout",
       "text": [
        "ok\n",
        "test_assign (asttools.tests.test_depgraph.Test) ... "
       ]
      },
      {
       "output_type": "stream",
       "stream": "stdout",
       "text": [
        "ok\n",
        "test_assign_attr (asttools.tests.test_depgraph.Test) ... "
       ]
      },
      {
       "output_type": "stream",
       "stream": "stdout",
       "text": [
        "ok\n",
        "test_assign_multi (asttools.tests.test_depgraph.Test) ... "
       ]
      },
      {
       "output_type": "stream",
       "stream": "stdout",
       "text": [
        "ok\n",
        "test_assign_tuple (asttools.tests.test_depgraph.Test) ... "
       ]
      },
      {
       "output_type": "stream",
       "stream": "stdout",
       "text": [
        "ok\n",
        "test_attr_assign (asttools.tests.test_depgraph.Test) ... "
       ]
      },
      {
       "output_type": "stream",
       "stream": "stdout",
       "text": [
        "ok\n",
        "test_augment_assign (asttools.tests.test_depgraph.Test) ... "
       ]
      },
      {
       "output_type": "stream",
       "stream": "stdout",
       "text": [
        "ok\n",
        "test_bit_and (asttools.tests.test_depgraph.Test) ... "
       ]
      },
      {
       "output_type": "stream",
       "stream": "stdout",
       "text": [
        "ok\n",
        "test_bit_or (asttools.tests.test_depgraph.Test) ... "
       ]
      },
      {
       "output_type": "stream",
       "stream": "stdout",
       "text": [
        "ok\n",
        "test_bitxor (asttools.tests.test_depgraph.Test) ... "
       ]
      },
      {
       "output_type": "stream",
       "stream": "stdout",
       "text": [
        "ok\n",
        "test_call (asttools.tests.test_depgraph.Test) ... "
       ]
      },
      {
       "output_type": "stream",
       "stream": "stdout",
       "text": [
        "ok\n",
        "test_dict (asttools.tests.test_depgraph.Test) ... "
       ]
      },
      {
       "output_type": "stream",
       "stream": "stdout",
       "text": [
        "ok\n",
        "test_dict_comp (asttools.tests.test_depgraph.Test) ... "
       ]
      },
      {
       "output_type": "stream",
       "stream": "stdout",
       "text": [
        "ok\n",
        "test_div (asttools.tests.test_depgraph.Test) ... "
       ]
      },
      {
       "output_type": "stream",
       "stream": "stdout",
       "text": [
        "ok\n",
        "test_eq (asttools.tests.test_depgraph.Test) ... "
       ]
      },
      {
       "output_type": "stream",
       "stream": "stdout",
       "text": [
        "ok\n",
        "test_floordiv (asttools.tests.test_depgraph.Test) ... "
       ]
      },
      {
       "output_type": "stream",
       "stream": "stdout",
       "text": [
        "ok\n",
        "test_for (asttools.tests.test_depgraph.Test) ... "
       ]
      },
      {
       "output_type": "stream",
       "stream": "stdout",
       "text": [
        "ok\n",
        "test_for2 (asttools.tests.test_depgraph.Test) ... "
       ]
      },
      {
       "output_type": "stream",
       "stream": "stdout",
       "text": [
        "ok\n",
        "test_for_unpack (asttools.tests.test_depgraph.Test) ... "
       ]
      },
      {
       "output_type": "stream",
       "stream": "stdout",
       "text": [
        "ok\n",
        "test_function_def (asttools.tests.test_depgraph.Test) ... "
       ]
      },
      {
       "output_type": "stream",
       "stream": "stdout",
       "text": [
        "ok\n",
        "test_gt (asttools.tests.test_depgraph.Test) ... "
       ]
      },
      {
       "output_type": "stream",
       "stream": "stdout",
       "text": [
        "ok\n",
        "test_gte (asttools.tests.test_depgraph.Test) ... "
       ]
      },
      {
       "output_type": "stream",
       "stream": "stdout",
       "text": [
        "ok\n",
        "test_if (asttools.tests.test_depgraph.Test) ... "
       ]
      },
      {
       "output_type": "stream",
       "stream": "stdout",
       "text": [
        "ok\n",
        "test_if_elif_else (asttools.tests.test_depgraph.Test) ... "
       ]
      },
      {
       "output_type": "stream",
       "stream": "stdout",
       "text": [
        "ok\n",
        "test_if_else (asttools.tests.test_depgraph.Test) ... "
       ]
      },
      {
       "output_type": "stream",
       "stream": "stdout",
       "text": [
        "ok\n",
        "test_if_expr (asttools.tests.test_depgraph.Test) ... "
       ]
      },
      {
       "output_type": "stream",
       "stream": "stdout",
       "text": [
        "ok\n",
        "test_import (asttools.tests.test_depgraph.Test) ... "
       ]
      },
      {
       "output_type": "stream",
       "stream": "stdout",
       "text": [
        "ok\n",
        "test_import_as (asttools.tests.test_depgraph.Test) ... "
       ]
      },
      {
       "output_type": "stream",
       "stream": "stdout",
       "text": [
        "ok\n",
        "test_import_from (asttools.tests.test_depgraph.Test) ... "
       ]
      },
      {
       "output_type": "stream",
       "stream": "stdout",
       "text": [
        "ok\n",
        "test_import_from_as (asttools.tests.test_depgraph.Test) ... "
       ]
      },
      {
       "output_type": "stream",
       "stream": "stdout",
       "text": [
        "ok\n",
        "test_in (asttools.tests.test_depgraph.Test) ... "
       ]
      },
      {
       "output_type": "stream",
       "stream": "stdout",
       "text": [
        "ok\n",
        "test_invert (asttools.tests.test_depgraph.Test) ... "
       ]
      },
      {
       "output_type": "stream",
       "stream": "stdout",
       "text": [
        "ok\n",
        "test_is (asttools.tests.test_depgraph.Test) ... "
       ]
      },
      {
       "output_type": "stream",
       "stream": "stdout",
       "text": [
        "ok\n",
        "test_is_not (asttools.tests.test_depgraph.Test) ... "
       ]
      },
      {
       "output_type": "stream",
       "stream": "stdout",
       "text": [
        "ok\n",
        "test_lambda (asttools.tests.test_depgraph.Test) ... "
       ]
      },
      {
       "output_type": "stream",
       "stream": "stdout",
       "text": [
        "ok\n",
        "test_list (asttools.tests.test_depgraph.Test) ... "
       ]
      },
      {
       "output_type": "stream",
       "stream": "stdout",
       "text": [
        "ok\n",
        "test_list_comp (asttools.tests.test_depgraph.Test) ... "
       ]
      },
      {
       "output_type": "stream",
       "stream": "stdout",
       "text": [
        "ok\n",
        "test_lshift (asttools.tests.test_depgraph.Test) ... "
       ]
      },
      {
       "output_type": "stream",
       "stream": "stdout",
       "text": [
        "ok\n",
        "test_lt (asttools.tests.test_depgraph.Test) ... "
       ]
      },
      {
       "output_type": "stream",
       "stream": "stdout",
       "text": [
        "ok\n",
        "test_lte (asttools.tests.test_depgraph.Test) ... "
       ]
      },
      {
       "output_type": "stream",
       "stream": "stdout",
       "text": [
        "ok\n",
        "test_mod (asttools.tests.test_depgraph.Test) ... "
       ]
      },
      {
       "output_type": "stream",
       "stream": "stdout",
       "text": [
        "ok\n",
        "test_mult (asttools.tests.test_depgraph.Test) ... "
       ]
      },
      {
       "output_type": "stream",
       "stream": "stdout",
       "text": [
        "ok\n",
        "test_name (asttools.tests.test_depgraph.Test) ... "
       ]
      },
      {
       "output_type": "stream",
       "stream": "stdout",
       "text": [
        "ok\n",
        "test_ne (asttools.tests.test_depgraph.Test) ... "
       ]
      },
      {
       "output_type": "stream",
       "stream": "stdout",
       "text": [
        "ok\n",
        "test_not (asttools.tests.test_depgraph.Test) ... "
       ]
      },
      {
       "output_type": "stream",
       "stream": "stdout",
       "text": [
        "ok\n",
        "test_not_in (asttools.tests.test_depgraph.Test) ... "
       ]
      },
      {
       "output_type": "stream",
       "stream": "stdout",
       "text": [
        "ok\n",
        "test_or (asttools.tests.test_depgraph.Test) ... "
       ]
      },
      {
       "output_type": "stream",
       "stream": "stdout",
       "text": [
        "ok\n",
        "test_pow (asttools.tests.test_depgraph.Test) ... "
       ]
      },
      {
       "output_type": "stream",
       "stream": "stdout",
       "text": [
        "ok\n",
        "test_rshift (asttools.tests.test_depgraph.Test) ... "
       ]
      },
      {
       "output_type": "stream",
       "stream": "stdout",
       "text": [
        "ok\n",
        "test_set (asttools.tests.test_depgraph.Test) ... "
       ]
      },
      {
       "output_type": "stream",
       "stream": "stdout",
       "text": [
        "ok\n",
        "test_set_comp (asttools.tests.test_depgraph.Test) ... "
       ]
      },
      {
       "output_type": "stream",
       "stream": "stdout",
       "text": [
        "ok\n",
        "test_sub (asttools.tests.test_depgraph.Test) ... "
       ]
      },
      {
       "output_type": "stream",
       "stream": "stdout",
       "text": [
        "ok\n",
        "test_subscr (asttools.tests.test_depgraph.Test) ... "
       ]
      },
      {
       "output_type": "stream",
       "stream": "stdout",
       "text": [
        "ok\n",
        "test_subscr_attr (asttools.tests.test_depgraph.Test) ... "
       ]
      },
      {
       "output_type": "stream",
       "stream": "stdout",
       "text": [
        "ok\n",
        "test_subscr_lvalue (asttools.tests.test_depgraph.Test) ... "
       ]
      },
      {
       "output_type": "stream",
       "stream": "stdout",
       "text": [
        "ok\n",
        "test_subscr_value (asttools.tests.test_depgraph.Test) ... "
       ]
      },
      {
       "output_type": "stream",
       "stream": "stdout",
       "text": [
        "ok\n",
        "test_try_except (asttools.tests.test_depgraph.Test) ... "
       ]
      },
      {
       "output_type": "stream",
       "stream": "stdout",
       "text": [
        "ok\n",
        "test_try_except_else (asttools.tests.test_depgraph.Test) ... "
       ]
      },
      {
       "output_type": "stream",
       "stream": "stdout",
       "text": [
        "ok\n",
        "test_try_finally (asttools.tests.test_depgraph.Test) ... "
       ]
      },
      {
       "output_type": "stream",
       "stream": "stdout",
       "text": [
        "ok\n",
        "test_tuple (asttools.tests.test_depgraph.Test) ... "
       ]
      },
      {
       "output_type": "stream",
       "stream": "stdout",
       "text": [
        "ok\n",
        "test_uadd (asttools.tests.test_depgraph.Test) ... "
       ]
      },
      {
       "output_type": "stream",
       "stream": "stdout",
       "text": [
        "ok\n",
        "test_usub (asttools.tests.test_depgraph.Test) ... "
       ]
      },
      {
       "output_type": "stream",
       "stream": "stdout",
       "text": [
        "ok\n",
        "test_while (asttools.tests.test_depgraph.Test) ... "
       ]
      },
      {
       "output_type": "stream",
       "stream": "stdout",
       "text": [
        "ok\n",
        "test_with (asttools.tests.test_depgraph.Test) ... "
       ]
      },
      {
       "output_type": "stream",
       "stream": "stdout",
       "text": [
        "ok\n",
        "test_assign (asttools.tests.test_prune.TestExclusive) ... "
       ]
      },
      {
       "output_type": "stream",
       "stream": "stdout",
       "text": [
        "ok\n",
        "test_attr (asttools.tests.test_prune.TestExclusive) ... "
       ]
      },
      {
       "output_type": "stream",
       "stream": "stdout",
       "text": [
        "ok\n",
        "test_binop (asttools.tests.test_prune.TestExclusive) ... "
       ]
      },
      {
       "output_type": "stream",
       "stream": "stdout",
       "text": [
        "ok\n",
        "test_exec (asttools.tests.test_prune.TestExclusive) ... "
       ]
      },
      {
       "output_type": "stream",
       "stream": "stdout",
       "text": [
        "ok\n",
        "test_for (asttools.tests.test_prune.TestExclusive) ... "
       ]
      },
      {
       "output_type": "stream",
       "stream": "stdout",
       "text": [
        "ok\n",
        "test_for_else (asttools.tests.test_prune.TestExclusive) ... "
       ]
      },
      {
       "output_type": "stream",
       "stream": "stdout",
       "text": [
        "ok\n",
        "test_if (asttools.tests.test_prune.TestExclusive) ... "
       ]
      },
      {
       "output_type": "stream",
       "stream": "stdout",
       "text": [
        "ok\n",
        "test_if_expr (asttools.tests.test_prune.TestExclusive) ... "
       ]
      },
      {
       "output_type": "stream",
       "stream": "stdout",
       "text": [
        "ok\n",
        "test_import (asttools.tests.test_prune.TestExclusive) ... "
       ]
      },
      {
       "output_type": "stream",
       "stream": "stdout",
       "text": [
        "ok\n",
        "test_import_from (asttools.tests.test_prune.TestExclusive) ... "
       ]
      },
      {
       "output_type": "stream",
       "stream": "stdout",
       "text": [
        "ok\n",
        "test_try (asttools.tests.test_prune.TestExclusive) ... "
       ]
      },
      {
       "output_type": "stream",
       "stream": "stdout",
       "text": [
        "ok\n",
        "test_try_else (asttools.tests.test_prune.TestExclusive) ... "
       ]
      },
      {
       "output_type": "stream",
       "stream": "stdout",
       "text": [
        "ok\n",
        "test_try_finally (asttools.tests.test_prune.TestExclusive) ... "
       ]
      },
      {
       "output_type": "stream",
       "stream": "stdout",
       "text": [
        "ok\n",
        "test_unaryop (asttools.tests.test_prune.TestExclusive) ... "
       ]
      },
      {
       "output_type": "stream",
       "stream": "stdout",
       "text": [
        "ok\n",
        "test_while (asttools.tests.test_prune.TestExclusive) ... "
       ]
      },
      {
       "output_type": "stream",
       "stream": "stdout",
       "text": [
        "ok\n",
        "test_with (asttools.tests.test_prune.TestExclusive) ... "
       ]
      },
      {
       "output_type": "stream",
       "stream": "stdout",
       "text": [
        "ok\n",
        "test_with_as (asttools.tests.test_prune.TestExclusive) ... "
       ]
      },
      {
       "output_type": "stream",
       "stream": "stdout",
       "text": [
        "ok\n",
        "test_assign (asttools.tests.test_prune.TestInclusive) ... "
       ]
      },
      {
       "output_type": "stream",
       "stream": "stdout",
       "text": [
        "ok\n",
        "test_attr (asttools.tests.test_prune.TestInclusive) ... "
       ]
      },
      {
       "output_type": "stream",
       "stream": "stdout",
       "text": [
        "ok\n",
        "test_binop (asttools.tests.test_prune.TestInclusive) ... "
       ]
      },
      {
       "output_type": "stream",
       "stream": "stdout",
       "text": [
        "ok\n",
        "test_exec (asttools.tests.test_prune.TestInclusive) ... "
       ]
      },
      {
       "output_type": "stream",
       "stream": "stdout",
       "text": [
        "ok\n",
        "test_for (asttools.tests.test_prune.TestInclusive) ... "
       ]
      },
      {
       "output_type": "stream",
       "stream": "stdout",
       "text": [
        "ok\n",
        "test_for_else (asttools.tests.test_prune.TestInclusive) ... "
       ]
      },
      {
       "output_type": "stream",
       "stream": "stdout",
       "text": [
        "ok\n",
        "test_if (asttools.tests.test_prune.TestInclusive) ... "
       ]
      },
      {
       "output_type": "stream",
       "stream": "stdout",
       "text": [
        "ok\n",
        "test_if_expr (asttools.tests.test_prune.TestInclusive) ... "
       ]
      },
      {
       "output_type": "stream",
       "stream": "stdout",
       "text": [
        "ok\n",
        "test_import (asttools.tests.test_prune.TestInclusive) ... "
       ]
      },
      {
       "output_type": "stream",
       "stream": "stdout",
       "text": [
        "ok\n",
        "test_import_from (asttools.tests.test_prune.TestInclusive) ... "
       ]
      },
      {
       "output_type": "stream",
       "stream": "stdout",
       "text": [
        "ok\n",
        "test_try (asttools.tests.test_prune.TestInclusive) ... "
       ]
      },
      {
       "output_type": "stream",
       "stream": "stdout",
       "text": [
        "ok\n",
        "test_try_else (asttools.tests.test_prune.TestInclusive) ... "
       ]
      },
      {
       "output_type": "stream",
       "stream": "stdout",
       "text": [
        "ok\n",
        "test_try_finally (asttools.tests.test_prune.TestInclusive) ... "
       ]
      },
      {
       "output_type": "stream",
       "stream": "stdout",
       "text": [
        "ok\n",
        "test_unaryop (asttools.tests.test_prune.TestInclusive) ... "
       ]
      },
      {
       "output_type": "stream",
       "stream": "stdout",
       "text": [
        "ok\n",
        "test_while (asttools.tests.test_prune.TestInclusive) ... "
       ]
      },
      {
       "output_type": "stream",
       "stream": "stdout",
       "text": [
        "ok\n",
        "test_with (asttools.tests.test_prune.TestInclusive) ... "
       ]
      },
      {
       "output_type": "stream",
       "stream": "stdout",
       "text": [
        "ok\n",
        "test_with_as (asttools.tests.test_prune.TestInclusive) ... "
       ]
      },
      {
       "output_type": "stream",
       "stream": "stdout",
       "text": [
        "ok\n",
        "test_apart (asttools.tests.test_remove_trivial.Test) ... "
       ]
      },
      {
       "output_type": "stream",
       "stream": "stdout",
       "text": [
        "ok\n",
        "test_empty (asttools.tests.test_remove_trivial.Test) ... "
       ]
      },
      {
       "output_type": "stream",
       "stream": "stdout",
       "text": [
        "ok\n",
        "test_for (asttools.tests.test_remove_trivial.Test) ... "
       ]
      },
      {
       "output_type": "stream",
       "stream": "stdout",
       "text": [
        "ok\n",
        "test_for_else (asttools.tests.test_remove_trivial.Test) ... "
       ]
      },
      {
       "output_type": "stream",
       "stream": "stdout",
       "text": [
        "ok\n",
        "test_for_else_break (asttools.tests.test_remove_trivial.Test) ... "
       ]
      },
      {
       "output_type": "stream",
       "stream": "stdout",
       "text": [
        "ok\n",
        "test_for_else_conti (asttools.tests.test_remove_trivial.Test) ... "
       ]
      },
      {
       "output_type": "stream",
       "stream": "stdout",
       "text": [
        "ok\n",
        "test_if (asttools.tests.test_remove_trivial.Test) ... "
       ]
      },
      {
       "output_type": "stream",
       "stream": "stdout",
       "text": [
        "ok\n",
        "test_if2 (asttools.tests.test_remove_trivial.Test) ... "
       ]
      },
      {
       "output_type": "stream",
       "stream": "stdout",
       "text": [
        "ok\n",
        "test_if_else (asttools.tests.test_remove_trivial.Test) ... "
       ]
      },
      {
       "output_type": "stream",
       "stream": "stdout",
       "text": [
        "ok\n",
        "test_if_else2 (asttools.tests.test_remove_trivial.Test) ... "
       ]
      },
      {
       "output_type": "stream",
       "stream": "stdout",
       "text": [
        "ok\n",
        "test_multi (asttools.tests.test_remove_trivial.Test) ... "
       ]
      },
      {
       "output_type": "stream",
       "stream": "stdout",
       "text": [
        "ok\n",
        "test_simple (asttools.tests.test_remove_trivial.Test) ... "
       ]
      },
      {
       "output_type": "stream",
       "stream": "stdout",
       "text": [
        "ok\n",
        "test_single (asttools.tests.test_remove_trivial.Test) ... "
       ]
      },
      {
       "output_type": "stream",
       "stream": "stdout",
       "text": [
        "ok\n",
        "test_while (asttools.tests.test_remove_trivial.Test) ... "
       ]
      },
      {
       "output_type": "stream",
       "stream": "stdout",
       "text": [
        "ok\n",
        "test_while_else (asttools.tests.test_remove_trivial.Test) ... "
       ]
      },
      {
       "output_type": "stream",
       "stream": "stdout",
       "text": [
        "ok\n",
        "test_replace_name (asttools.tests.test_replace.Test) ... "
       ]
      },
      {
       "output_type": "stream",
       "stream": "stdout",
       "text": [
        "ok\n",
        "test_replace_non_existant (asttools.tests.test_replace.Test) ... "
       ]
      },
      {
       "output_type": "stream",
       "stream": "stdout",
       "text": [
        "ok\n",
        "test_break (asttools.tests.test_sourcegen.ControlFlow) ... "
       ]
      },
      {
       "output_type": "stream",
       "stream": "stdout",
       "text": [
        "ok\n",
        "test_class_def (asttools.tests.test_sourcegen.ControlFlow) ... "
       ]
      },
      {
       "output_type": "stream",
       "stream": "stdout",
       "text": [
        "ok\n",
        "test_class_def1 (asttools.tests.test_sourcegen.ControlFlow) ... "
       ]
      },
      {
       "output_type": "stream",
       "stream": "stdout",
       "text": [
        "ok\n",
        "test_class_def2 (asttools.tests.test_sourcegen.ControlFlow) ... "
       ]
      },
      {
       "output_type": "stream",
       "stream": "stdout",
       "text": [
        "ok\n",
        "test_class_def3 (asttools.tests.test_sourcegen.ControlFlow) ... "
       ]
      },
      {
       "output_type": "stream",
       "stream": "stdout",
       "text": [
        "ok\n",
        "test_continue (asttools.tests.test_sourcegen.ControlFlow) ... "
       ]
      },
      {
       "output_type": "stream",
       "stream": "stdout",
       "text": [
        "ok\n",
        "test_elif_else (asttools.tests.test_sourcegen.ControlFlow) ... "
       ]
      },
      {
       "output_type": "stream",
       "stream": "stdout",
       "text": [
        "ok\n",
        "test_for (asttools.tests.test_sourcegen.ControlFlow) ... "
       ]
      },
      {
       "output_type": "stream",
       "stream": "stdout",
       "text": [
        "ok\n",
        "test_for_else (asttools.tests.test_sourcegen.ControlFlow) ... "
       ]
      },
      {
       "output_type": "stream",
       "stream": "stdout",
       "text": [
        "ok\n",
        "test_function_args1 (asttools.tests.test_sourcegen.ControlFlow) ... "
       ]
      },
      {
       "output_type": "stream",
       "stream": "stdout",
       "text": [
        "ok\n",
        "test_function_args2 (asttools.tests.test_sourcegen.ControlFlow) ... "
       ]
      },
      {
       "output_type": "stream",
       "stream": "stdout",
       "text": [
        "ok\n",
        "test_function_args3 (asttools.tests.test_sourcegen.ControlFlow) ... "
       ]
      },
      {
       "output_type": "stream",
       "stream": "stdout",
       "text": [
        "ok\n",
        "test_function_args4 (asttools.tests.test_sourcegen.ControlFlow) ... "
       ]
      },
      {
       "output_type": "stream",
       "stream": "stdout",
       "text": [
        "ok\n",
        "test_function_args5 (asttools.tests.test_sourcegen.ControlFlow) ... "
       ]
      },
      {
       "output_type": "stream",
       "stream": "stdout",
       "text": [
        "ok\n",
        "test_function_def (asttools.tests.test_sourcegen.ControlFlow) ... "
       ]
      },
      {
       "output_type": "stream",
       "stream": "stdout",
       "text": [
        "ok\n",
        "test_if (asttools.tests.test_sourcegen.ControlFlow) ... "
       ]
      },
      {
       "output_type": "stream",
       "stream": "stdout",
       "text": [
        "ok\n",
        "test_if_else (asttools.tests.test_sourcegen.ControlFlow) ... "
       ]
      },
      {
       "output_type": "stream",
       "stream": "stdout",
       "text": [
        "ok\n",
        "test_return (asttools.tests.test_sourcegen.ControlFlow) ... "
       ]
      },
      {
       "output_type": "stream",
       "stream": "stdout",
       "text": [
        "ok\n",
        "test_try_except (asttools.tests.test_sourcegen.ControlFlow) ... "
       ]
      },
      {
       "output_type": "stream",
       "stream": "stdout",
       "text": [
        "ok\n",
        "test_try_except1 (asttools.tests.test_sourcegen.ControlFlow) ... "
       ]
      },
      {
       "output_type": "stream",
       "stream": "stdout",
       "text": [
        "ok\n",
        "test_try_except2 (asttools.tests.test_sourcegen.ControlFlow) ... "
       ]
      },
      {
       "output_type": "stream",
       "stream": "stdout",
       "text": [
        "ok\n",
        "test_try_except3 (asttools.tests.test_sourcegen.ControlFlow) ... "
       ]
      },
      {
       "output_type": "stream",
       "stream": "stdout",
       "text": [
        "ok\n",
        "test_try_except_else (asttools.tests.test_sourcegen.ControlFlow) ... "
       ]
      },
      {
       "output_type": "stream",
       "stream": "stdout",
       "text": [
        "ok\n",
        "test_try_except_finally (asttools.tests.test_sourcegen.ControlFlow) ... "
       ]
      },
      {
       "output_type": "stream",
       "stream": "stdout",
       "text": [
        "ok\n",
        "test_while (asttools.tests.test_sourcegen.ControlFlow) ... "
       ]
      },
      {
       "output_type": "stream",
       "stream": "stdout",
       "text": [
        "ok\n",
        "test_with0 (asttools.tests.test_sourcegen.ControlFlow) ... "
       ]
      },
      {
       "output_type": "stream",
       "stream": "stdout",
       "text": [
        "ok\n",
        "test_with1 (asttools.tests.test_sourcegen.ControlFlow) ... "
       ]
      },
      {
       "output_type": "stream",
       "stream": "stdout",
       "text": [
        "ok\n",
        "test_yield (asttools.tests.test_sourcegen.ControlFlow) ... "
       ]
      },
      {
       "output_type": "stream",
       "stream": "stdout",
       "text": [
        "ok\n",
        "test_add (asttools.tests.test_sourcegen.TestSimple) ... "
       ]
      },
      {
       "output_type": "stream",
       "stream": "stdout",
       "text": [
        "ok\n",
        "test_assattr (asttools.tests.test_sourcegen.TestSimple) ... "
       ]
      },
      {
       "output_type": "stream",
       "stream": "stdout",
       "text": [
        "ok\n",
        "test_assert1 (asttools.tests.test_sourcegen.TestSimple) ... "
       ]
      },
      {
       "output_type": "stream",
       "stream": "stdout",
       "text": [
        "ok\n",
        "test_assert2 (asttools.tests.test_sourcegen.TestSimple) ... "
       ]
      },
      {
       "output_type": "stream",
       "stream": "stdout",
       "text": [
        "ok\n",
        "test_assign (asttools.tests.test_sourcegen.TestSimple) ... "
       ]
      },
      {
       "output_type": "stream",
       "stream": "stdout",
       "text": [
        "ok\n",
        "test_assign_multi (asttools.tests.test_sourcegen.TestSimple) ... "
       ]
      },
      {
       "output_type": "stream",
       "stream": "stdout",
       "text": [
        "ok\n",
        "test_attr (asttools.tests.test_sourcegen.TestSimple) ... "
       ]
      },
      {
       "output_type": "stream",
       "stream": "stdout",
       "text": [
        "ok\n",
        "test_bitand (asttools.tests.test_sourcegen.TestSimple) ... "
       ]
      },
      {
       "output_type": "stream",
       "stream": "stdout",
       "text": [
        "ok\n",
        "test_bitor (asttools.tests.test_sourcegen.TestSimple) ... "
       ]
      },
      {
       "output_type": "stream",
       "stream": "stdout",
       "text": [
        "ok\n",
        "test_bitxor (asttools.tests.test_sourcegen.TestSimple) ... "
       ]
      },
      {
       "output_type": "stream",
       "stream": "stdout",
       "text": [
        "ok\n",
        "test_call0 (asttools.tests.test_sourcegen.TestSimple) ... "
       ]
      },
      {
       "output_type": "stream",
       "stream": "stdout",
       "text": [
        "ok\n",
        "test_call1 (asttools.tests.test_sourcegen.TestSimple) ... "
       ]
      },
      {
       "output_type": "stream",
       "stream": "stdout",
       "text": [
        "ok\n",
        "test_call2 (asttools.tests.test_sourcegen.TestSimple) ... "
       ]
      },
      {
       "output_type": "stream",
       "stream": "stdout",
       "text": [
        "ok\n",
        "test_call3 (asttools.tests.test_sourcegen.TestSimple) ... "
       ]
      },
      {
       "output_type": "stream",
       "stream": "stdout",
       "text": [
        "ok\n",
        "test_call4 (asttools.tests.test_sourcegen.TestSimple) ... "
       ]
      },
      {
       "output_type": "stream",
       "stream": "stdout",
       "text": [
        "ok\n",
        "test_call5 (asttools.tests.test_sourcegen.TestSimple) ... "
       ]
      },
      {
       "output_type": "stream",
       "stream": "stdout",
       "text": [
        "ok\n",
        "test_call6 (asttools.tests.test_sourcegen.TestSimple) ... "
       ]
      },
      {
       "output_type": "stream",
       "stream": "stdout",
       "text": [
        "ok\n",
        "test_call7 (asttools.tests.test_sourcegen.TestSimple) ... "
       ]
      },
      {
       "output_type": "stream",
       "stream": "stdout",
       "text": [
        "ok\n",
        "test_call8 (asttools.tests.test_sourcegen.TestSimple) ... "
       ]
      },
      {
       "output_type": "stream",
       "stream": "stdout",
       "text": [
        "ok\n",
        "test_del (asttools.tests.test_sourcegen.TestSimple) ... "
       ]
      },
      {
       "output_type": "stream",
       "stream": "stdout",
       "text": [
        "ok\n",
        "test_dict0 (asttools.tests.test_sourcegen.TestSimple) ... "
       ]
      },
      {
       "output_type": "stream",
       "stream": "stdout",
       "text": [
        "ok\n",
        "test_dict1 (asttools.tests.test_sourcegen.TestSimple) ... "
       ]
      },
      {
       "output_type": "stream",
       "stream": "stdout",
       "text": [
        "ok\n",
        "test_dict2 (asttools.tests.test_sourcegen.TestSimple) ... "
       ]
      },
      {
       "output_type": "stream",
       "stream": "stdout",
       "text": [
        "ok\n",
        "test_dict_comp (asttools.tests.test_sourcegen.TestSimple) ... "
       ]
      },
      {
       "output_type": "stream",
       "stream": "stdout",
       "text": [
        "ok\n",
        "test_div (asttools.tests.test_sourcegen.TestSimple) ... "
       ]
      },
      {
       "output_type": "stream",
       "stream": "stdout",
       "text": [
        "ok\n",
        "test_eq (asttools.tests.test_sourcegen.TestSimple) ... "
       ]
      },
      {
       "output_type": "stream",
       "stream": "stdout",
       "text": [
        "ok\n",
        "test_exec0 (asttools.tests.test_sourcegen.TestSimple) ... "
       ]
      },
      {
       "output_type": "stream",
       "stream": "stdout",
       "text": [
        "ok\n",
        "test_exec1 (asttools.tests.test_sourcegen.TestSimple) ... "
       ]
      },
      {
       "output_type": "stream",
       "stream": "stdout",
       "text": [
        "ok\n",
        "test_exec2 (asttools.tests.test_sourcegen.TestSimple) ... "
       ]
      },
      {
       "output_type": "stream",
       "stream": "stdout",
       "text": [
        "ok\n",
        "test_expr (asttools.tests.test_sourcegen.TestSimple) ... "
       ]
      },
      {
       "output_type": "stream",
       "stream": "stdout",
       "text": [
        "ok\n",
        "test_floordiv (asttools.tests.test_sourcegen.TestSimple) ... "
       ]
      },
      {
       "output_type": "stream",
       "stream": "stdout",
       "text": [
        "ok\n",
        "test_from_import (asttools.tests.test_sourcegen.TestSimple) ... "
       ]
      },
      {
       "output_type": "stream",
       "stream": "stdout",
       "text": [
        "ok\n",
        "test_from_import_as (asttools.tests.test_sourcegen.TestSimple) ... "
       ]
      },
      {
       "output_type": "stream",
       "stream": "stdout",
       "text": [
        "ok\n",
        "test_global1 (asttools.tests.test_sourcegen.TestSimple) ... "
       ]
      },
      {
       "output_type": "stream",
       "stream": "stdout",
       "text": [
        "ok\n",
        "test_global2 (asttools.tests.test_sourcegen.TestSimple) ... "
       ]
      },
      {
       "output_type": "stream",
       "stream": "stdout",
       "text": [
        "ok\n",
        "test_gt (asttools.tests.test_sourcegen.TestSimple) ... "
       ]
      },
      {
       "output_type": "stream",
       "stream": "stdout",
       "text": [
        "ok\n",
        "test_gte (asttools.tests.test_sourcegen.TestSimple) ... "
       ]
      },
      {
       "output_type": "stream",
       "stream": "stdout",
       "text": [
        "ok\n",
        "test_iadd (asttools.tests.test_sourcegen.TestSimple) ... "
       ]
      },
      {
       "output_type": "stream",
       "stream": "stdout",
       "text": [
        "ok\n",
        "test_idiv (asttools.tests.test_sourcegen.TestSimple) ... "
       ]
      },
      {
       "output_type": "stream",
       "stream": "stdout",
       "text": [
        "ok\n",
        "test_ifdiv (asttools.tests.test_sourcegen.TestSimple) ... "
       ]
      },
      {
       "output_type": "stream",
       "stream": "stdout",
       "text": [
        "ok\n",
        "test_ifexpr (asttools.tests.test_sourcegen.TestSimple) ... "
       ]
      },
      {
       "output_type": "stream",
       "stream": "stdout",
       "text": [
        "ok\n",
        "test_import (asttools.tests.test_sourcegen.TestSimple) ... "
       ]
      },
      {
       "output_type": "stream",
       "stream": "stdout",
       "text": [
        "ok\n",
        "test_import_as (asttools.tests.test_sourcegen.TestSimple) ... "
       ]
      },
      {
       "output_type": "stream",
       "stream": "stdout",
       "text": [
        "ok\n",
        "test_imult (asttools.tests.test_sourcegen.TestSimple) ... "
       ]
      },
      {
       "output_type": "stream",
       "stream": "stdout",
       "text": [
        "ok\n",
        "test_in (asttools.tests.test_sourcegen.TestSimple) ... "
       ]
      },
      {
       "output_type": "stream",
       "stream": "stdout",
       "text": [
        "ok\n",
        "test_index (asttools.tests.test_sourcegen.TestSimple) ... "
       ]
      },
      {
       "output_type": "stream",
       "stream": "stdout",
       "text": [
        "ok\n",
        "test_index2 (asttools.tests.test_sourcegen.TestSimple) ... "
       ]
      },
      {
       "output_type": "stream",
       "stream": "stdout",
       "text": [
        "ok\n",
        "test_ipow (asttools.tests.test_sourcegen.TestSimple) ... "
       ]
      },
      {
       "output_type": "stream",
       "stream": "stdout",
       "text": [
        "ok\n",
        "test_is (asttools.tests.test_sourcegen.TestSimple) ... "
       ]
      },
      {
       "output_type": "stream",
       "stream": "stdout",
       "text": [
        "ok\n",
        "test_is_not (asttools.tests.test_sourcegen.TestSimple) ... "
       ]
      },
      {
       "output_type": "stream",
       "stream": "stdout",
       "text": [
        "ok\n",
        "test_isub (asttools.tests.test_sourcegen.TestSimple) ... "
       ]
      },
      {
       "output_type": "stream",
       "stream": "stdout",
       "text": [
        "ok\n",
        "test_lambda (asttools.tests.test_sourcegen.TestSimple) ... "
       ]
      },
      {
       "output_type": "stream",
       "stream": "stdout",
       "text": [
        "ok\n",
        "test_list0 (asttools.tests.test_sourcegen.TestSimple) ... "
       ]
      },
      {
       "output_type": "stream",
       "stream": "stdout",
       "text": [
        "ok\n",
        "test_list1 (asttools.tests.test_sourcegen.TestSimple) ... "
       ]
      },
      {
       "output_type": "stream",
       "stream": "stdout",
       "text": [
        "ok\n",
        "test_list2 (asttools.tests.test_sourcegen.TestSimple) ... "
       ]
      },
      {
       "output_type": "stream",
       "stream": "stdout",
       "text": [
        "ok\n",
        "test_list_comp (asttools.tests.test_sourcegen.TestSimple) ... "
       ]
      },
      {
       "output_type": "stream",
       "stream": "stdout",
       "text": [
        "ok\n",
        "test_list_comp2 (asttools.tests.test_sourcegen.TestSimple) ... "
       ]
      },
      {
       "output_type": "stream",
       "stream": "stdout",
       "text": [
        "ok\n",
        "test_list_comp3 (asttools.tests.test_sourcegen.TestSimple) ... "
       ]
      },
      {
       "output_type": "stream",
       "stream": "stdout",
       "text": [
        "ok\n",
        "test_list_comp_if (asttools.tests.test_sourcegen.TestSimple) ... "
       ]
      },
      {
       "output_type": "stream",
       "stream": "stdout",
       "text": [
        "ok\n",
        "test_list_comp_if2 (asttools.tests.test_sourcegen.TestSimple) ... "
       ]
      },
      {
       "output_type": "stream",
       "stream": "stdout",
       "text": [
        "ok\n",
        "test_lshift (asttools.tests.test_sourcegen.TestSimple) ... "
       ]
      },
      {
       "output_type": "stream",
       "stream": "stdout",
       "text": [
        "ok\n",
        "test_lt (asttools.tests.test_sourcegen.TestSimple) ... "
       ]
      },
      {
       "output_type": "stream",
       "stream": "stdout",
       "text": [
        "ok\n",
        "test_lte (asttools.tests.test_sourcegen.TestSimple) ... "
       ]
      },
      {
       "output_type": "stream",
       "stream": "stdout",
       "text": [
        "ok\n",
        "test_mod (asttools.tests.test_sourcegen.TestSimple) ... "
       ]
      },
      {
       "output_type": "stream",
       "stream": "stdout",
       "text": [
        "ok\n",
        "test_mult (asttools.tests.test_sourcegen.TestSimple) ... "
       ]
      },
      {
       "output_type": "stream",
       "stream": "stdout",
       "text": [
        "ok\n",
        "test_neq (asttools.tests.test_sourcegen.TestSimple) ... "
       ]
      },
      {
       "output_type": "stream",
       "stream": "stdout",
       "text": [
        "ok\n",
        "test_not_in (asttools.tests.test_sourcegen.TestSimple) ... "
       ]
      },
      {
       "output_type": "stream",
       "stream": "stdout",
       "text": [
        "ok\n",
        "test_pass (asttools.tests.test_sourcegen.TestSimple) ... "
       ]
      },
      {
       "output_type": "stream",
       "stream": "stdout",
       "text": [
        "ok\n",
        "test_pow (asttools.tests.test_sourcegen.TestSimple) ... "
       ]
      },
      {
       "output_type": "stream",
       "stream": "stdout",
       "text": [
        "ok\n",
        "test_raise (asttools.tests.test_sourcegen.TestSimple) ... "
       ]
      },
      {
       "output_type": "stream",
       "stream": "stdout",
       "text": [
        "ok\n",
        "test_raise1 (asttools.tests.test_sourcegen.TestSimple) ... "
       ]
      },
      {
       "output_type": "stream",
       "stream": "stdout",
       "text": [
        "ok\n",
        "test_raise2 (asttools.tests.test_sourcegen.TestSimple) ... "
       ]
      },
      {
       "output_type": "stream",
       "stream": "stdout",
       "text": [
        "ok\n",
        "test_raise_from (asttools.tests.test_sourcegen.TestSimple) ... "
       ]
      },
      {
       "output_type": "stream",
       "stream": "stdout",
       "text": [
        "skipped 'Only valid for python 3.x'\n",
        "test_rshift (asttools.tests.test_sourcegen.TestSimple) ... "
       ]
      },
      {
       "output_type": "stream",
       "stream": "stdout",
       "text": [
        "ok\n",
        "test_set1 (asttools.tests.test_sourcegen.TestSimple) ... "
       ]
      },
      {
       "output_type": "stream",
       "stream": "stdout",
       "text": [
        "ok\n",
        "test_set2 (asttools.tests.test_sourcegen.TestSimple) ... "
       ]
      },
      {
       "output_type": "stream",
       "stream": "stdout",
       "text": [
        "ok\n",
        "test_set_comp (asttools.tests.test_sourcegen.TestSimple) ... "
       ]
      },
      {
       "output_type": "stream",
       "stream": "stdout",
       "text": [
        "ok\n",
        "test_slice0 (asttools.tests.test_sourcegen.TestSimple) ... "
       ]
      },
      {
       "output_type": "stream",
       "stream": "stdout",
       "text": [
        "ok\n",
        "test_slice1 (asttools.tests.test_sourcegen.TestSimple) ... "
       ]
      },
      {
       "output_type": "stream",
       "stream": "stdout",
       "text": [
        "ok\n",
        "test_slice2 (asttools.tests.test_sourcegen.TestSimple) ... "
       ]
      },
      {
       "output_type": "stream",
       "stream": "stdout",
       "text": [
        "ok\n",
        "test_slice3 (asttools.tests.test_sourcegen.TestSimple) ... "
       ]
      },
      {
       "output_type": "stream",
       "stream": "stdout",
       "text": [
        "ok\n",
        "test_slice4 (asttools.tests.test_sourcegen.TestSimple) ... "
       ]
      },
      {
       "output_type": "stream",
       "stream": "stdout",
       "text": [
        "ok\n",
        "test_slice5 (asttools.tests.test_sourcegen.TestSimple) ... "
       ]
      },
      {
       "output_type": "stream",
       "stream": "stdout",
       "text": [
        "ok\n",
        "test_slice6 (asttools.tests.test_sourcegen.TestSimple) ... "
       ]
      },
      {
       "output_type": "stream",
       "stream": "stdout",
       "text": [
        "ok\n",
        "test_slice7 (asttools.tests.test_sourcegen.TestSimple) ... "
       ]
      },
      {
       "output_type": "stream",
       "stream": "stdout",
       "text": [
        "ok\n",
        "test_str (asttools.tests.test_sourcegen.TestSimple) ... "
       ]
      },
      {
       "output_type": "stream",
       "stream": "stdout",
       "text": [
        "ok\n",
        "test_sub (asttools.tests.test_sourcegen.TestSimple) ... "
       ]
      },
      {
       "output_type": "stream",
       "stream": "stdout",
       "text": [
        "ok\n",
        "test_uadd (asttools.tests.test_sourcegen.TestSimple) ... "
       ]
      },
      {
       "output_type": "stream",
       "stream": "stdout",
       "text": [
        "ok\n",
        "test_uinvert (asttools.tests.test_sourcegen.TestSimple) ... "
       ]
      },
      {
       "output_type": "stream",
       "stream": "stdout",
       "text": [
        "ok\n",
        "test_unot (asttools.tests.test_sourcegen.TestSimple) ... "
       ]
      },
      {
       "output_type": "stream",
       "stream": "stdout",
       "text": [
        "ok\n",
        "test_usub (asttools.tests.test_sourcegen.TestSimple) ... "
       ]
      },
      {
       "output_type": "stream",
       "stream": "stdout",
       "text": [
        "ok\n",
        "test_for (asttools.tests.test_symbol_visitor.Test) ... "
       ]
      },
      {
       "output_type": "stream",
       "stream": "stdout",
       "text": [
        "ok\n",
        "test_load (asttools.tests.test_symbol_visitor.Test) ... "
       ]
      },
      {
       "output_type": "stream",
       "stream": "stdout",
       "text": [
        "ok\n",
        "test_simple (asttools.tests.test_symbol_visitor.Test) ... "
       ]
      },
      {
       "output_type": "stream",
       "stream": "stdout",
       "text": [
        "ok\n",
        "test_store (asttools.tests.test_symbol_visitor.Test) ... "
       ]
      },
      {
       "output_type": "stream",
       "stream": "stdout",
       "text": [
        "ok\n",
        "test_store_attr (asttools.tests.test_symbol_visitor.Test) ... "
       ]
      },
      {
       "output_type": "stream",
       "stream": "stdout",
       "text": [
        "ok\n",
        "test_store_item (asttools.tests.test_symbol_visitor.Test) ... "
       ]
      },
      {
       "output_type": "stream",
       "stream": "stdout",
       "text": [
        "ok\n",
        "test_comp1 (decompiler.tests.test_comprehensions.DictComprehension) ... "
       ]
      },
      {
       "output_type": "stream",
       "stream": "stdout",
       "text": [
        "ok\n",
        "test_comp2 (decompiler.tests.test_comprehensions.DictComprehension) ... "
       ]
      },
      {
       "output_type": "stream",
       "stream": "stdout",
       "text": [
        "ok\n",
        "test_comp3 (decompiler.tests.test_comprehensions.DictComprehension) ... "
       ]
      },
      {
       "output_type": "stream",
       "stream": "stdout",
       "text": [
        "ok\n",
        "test_comp_ifs (decompiler.tests.test_comprehensions.DictComprehension) ... "
       ]
      },
      {
       "output_type": "stream",
       "stream": "stdout",
       "text": [
        "ok\n",
        "test_comp_ifs1 (decompiler.tests.test_comprehensions.DictComprehension) ... "
       ]
      },
      {
       "output_type": "stream",
       "stream": "stdout",
       "text": [
        "ok\n",
        "test_comp_ifs2 (decompiler.tests.test_comprehensions.DictComprehension) ... "
       ]
      },
      {
       "output_type": "stream",
       "stream": "stdout",
       "text": [
        "ok\n",
        "test_multi_comp1 (decompiler.tests.test_comprehensions.DictComprehension) ... "
       ]
      },
      {
       "output_type": "stream",
       "stream": "stdout",
       "text": [
        "expected failure\n",
        "test_multi_comp2 (decompiler.tests.test_comprehensions.DictComprehension) ... "
       ]
      },
      {
       "output_type": "stream",
       "stream": "stdout",
       "text": [
        "expected failure\n",
        "test_multi_comp3 (decompiler.tests.test_comprehensions.DictComprehension) ... "
       ]
      },
      {
       "output_type": "stream",
       "stream": "stdout",
       "text": [
        "expected failure\n",
        "test_multi_comp_ifs (decompiler.tests.test_comprehensions.DictComprehension) ... "
       ]
      },
      {
       "output_type": "stream",
       "stream": "stdout",
       "text": [
        "expected failure\n",
        "test_multi_comp_ifs1 (decompiler.tests.test_comprehensions.DictComprehension) ... "
       ]
      },
      {
       "output_type": "stream",
       "stream": "stdout",
       "text": [
        "expected failure\n",
        "test_multi_comp_ifs2 (decompiler.tests.test_comprehensions.DictComprehension) ... "
       ]
      },
      {
       "output_type": "stream",
       "stream": "stdout",
       "text": [
        "expected failure\n",
        "test_comp1 (decompiler.tests.test_comprehensions.ListComprehension) ... "
       ]
      },
      {
       "output_type": "stream",
       "stream": "stdout",
       "text": [
        "ok\n",
        "test_comp2 (decompiler.tests.test_comprehensions.ListComprehension) ... "
       ]
      },
      {
       "output_type": "stream",
       "stream": "stdout",
       "text": [
        "ok\n",
        "test_comp3 (decompiler.tests.test_comprehensions.ListComprehension) ... "
       ]
      },
      {
       "output_type": "stream",
       "stream": "stdout",
       "text": [
        "ok\n",
        "test_comp_ifs (decompiler.tests.test_comprehensions.ListComprehension) ... "
       ]
      },
      {
       "output_type": "stream",
       "stream": "stdout",
       "text": [
        "ok\n",
        "test_comp_ifs1 (decompiler.tests.test_comprehensions.ListComprehension) ... "
       ]
      },
      {
       "output_type": "stream",
       "stream": "stdout",
       "text": [
        "ok\n",
        "test_comp_ifs2 (decompiler.tests.test_comprehensions.ListComprehension) ... "
       ]
      },
      {
       "output_type": "stream",
       "stream": "stdout",
       "text": [
        "ok\n",
        "test_multi_comp1 (decompiler.tests.test_comprehensions.ListComprehension) ... "
       ]
      },
      {
       "output_type": "stream",
       "stream": "stdout",
       "text": [
        "expected failure\n",
        "test_multi_comp2 (decompiler.tests.test_comprehensions.ListComprehension) ... "
       ]
      },
      {
       "output_type": "stream",
       "stream": "stdout",
       "text": [
        "expected failure\n",
        "test_multi_comp3 (decompiler.tests.test_comprehensions.ListComprehension) ... "
       ]
      },
      {
       "output_type": "stream",
       "stream": "stdout",
       "text": [
        "expected failure\n",
        "test_multi_comp_ifs (decompiler.tests.test_comprehensions.ListComprehension) ... "
       ]
      },
      {
       "output_type": "stream",
       "stream": "stdout",
       "text": [
        "expected failure\n",
        "test_multi_comp_ifs1 (decompiler.tests.test_comprehensions.ListComprehension) ... "
       ]
      },
      {
       "output_type": "stream",
       "stream": "stdout",
       "text": [
        "expected failure\n",
        "test_multi_comp_ifs2 (decompiler.tests.test_comprehensions.ListComprehension) ... "
       ]
      },
      {
       "output_type": "stream",
       "stream": "stdout",
       "text": [
        "expected failure\n",
        "test_comp1 (decompiler.tests.test_comprehensions.SetComprehension) ... "
       ]
      },
      {
       "output_type": "stream",
       "stream": "stdout",
       "text": [
        "ok\n",
        "test_comp2 (decompiler.tests.test_comprehensions.SetComprehension) ... "
       ]
      },
      {
       "output_type": "stream",
       "stream": "stdout",
       "text": [
        "ok\n",
        "test_comp3 (decompiler.tests.test_comprehensions.SetComprehension) ... "
       ]
      },
      {
       "output_type": "stream",
       "stream": "stdout",
       "text": [
        "ok\n",
        "test_comp_ifs (decompiler.tests.test_comprehensions.SetComprehension) ... "
       ]
      },
      {
       "output_type": "stream",
       "stream": "stdout",
       "text": [
        "ok\n",
        "test_comp_ifs1 (decompiler.tests.test_comprehensions.SetComprehension) ... "
       ]
      },
      {
       "output_type": "stream",
       "stream": "stdout",
       "text": [
        "ok\n",
        "test_comp_ifs2 (decompiler.tests.test_comprehensions.SetComprehension) ... "
       ]
      },
      {
       "output_type": "stream",
       "stream": "stdout",
       "text": [
        "ok\n",
        "test_multi_comp1 (decompiler.tests.test_comprehensions.SetComprehension) ... "
       ]
      },
      {
       "output_type": "stream",
       "stream": "stdout",
       "text": [
        "expected failure\n",
        "test_multi_comp2 (decompiler.tests.test_comprehensions.SetComprehension) ... "
       ]
      },
      {
       "output_type": "stream",
       "stream": "stdout",
       "text": [
        "expected failure\n",
        "test_multi_comp3 (decompiler.tests.test_comprehensions.SetComprehension) ... "
       ]
      },
      {
       "output_type": "stream",
       "stream": "stdout",
       "text": [
        "expected failure\n",
        "test_multi_comp_ifs (decompiler.tests.test_comprehensions.SetComprehension) ... "
       ]
      },
      {
       "output_type": "stream",
       "stream": "stdout",
       "text": [
        "expected failure\n",
        "test_multi_comp_ifs1 (decompiler.tests.test_comprehensions.SetComprehension) ... "
       ]
      },
      {
       "output_type": "stream",
       "stream": "stdout",
       "text": [
        "expected failure\n",
        "test_multi_comp_ifs2 (decompiler.tests.test_comprehensions.SetComprehension) ... "
       ]
      },
      {
       "output_type": "stream",
       "stream": "stdout",
       "text": [
        "expected failure\n",
        "test_build_class (decompiler.tests.test_decompiler.ClassDef) ... "
       ]
      },
      {
       "output_type": "stream",
       "stream": "stdout",
       "text": [
        "ok\n",
        "test_build_class_wdec (decompiler.tests.test_decompiler.ClassDef) ... "
       ]
      },
      {
       "output_type": "stream",
       "stream": "stdout",
       "text": [
        "ok\n",
        "test_build_class_wfunc (decompiler.tests.test_decompiler.ClassDef) ... "
       ]
      },
      {
       "output_type": "stream",
       "stream": "stdout",
       "text": [
        "ok\n",
        "test_aug_assign_slice (decompiler.tests.test_decompiler.Complex) ... "
       ]
      },
      {
       "output_type": "stream",
       "stream": "stdout",
       "text": [
        "ok\n",
        "test_if_in_for (decompiler.tests.test_decompiler.Complex) ... "
       ]
      },
      {
       "output_type": "stream",
       "stream": "stdout",
       "text": [
        "ok\n",
        "test_if_in_for2 (decompiler.tests.test_decompiler.Complex) ... "
       ]
      },
      {
       "output_type": "stream",
       "stream": "stdout",
       "text": [
        "ok\n",
        "test_if_in_for3 (decompiler.tests.test_decompiler.Complex) ... "
       ]
      },
      {
       "output_type": "stream",
       "stream": "stdout",
       "text": [
        "ok\n",
        "test_if_in_while (decompiler.tests.test_decompiler.Complex) ... "
       ]
      },
      {
       "output_type": "stream",
       "stream": "stdout",
       "text": [
        "ok\n",
        "test_if_return (decompiler.tests.test_decompiler.Complex) ... "
       ]
      },
      {
       "output_type": "stream",
       "stream": "stdout",
       "text": [
        "ok\n",
        "test_if_return2 (decompiler.tests.test_decompiler.Complex) ... "
       ]
      },
      {
       "output_type": "stream",
       "stream": "stdout",
       "text": [
        "ok\n",
        "test_issue_4 (decompiler.tests.test_decompiler.Complex) ... "
       ]
      },
      {
       "output_type": "stream",
       "stream": "stdout",
       "text": [
        "ok\n",
        "test_nested_if (decompiler.tests.test_decompiler.Complex) ... "
       ]
      },
      {
       "output_type": "stream",
       "stream": "stdout",
       "text": [
        "ok\n",
        "test_nested_if2 (decompiler.tests.test_decompiler.Complex) ... "
       ]
      },
      {
       "output_type": "stream",
       "stream": "stdout",
       "text": [
        "ok\n",
        "test_nested_while_bug (decompiler.tests.test_decompiler.Complex) ... "
       ]
      },
      {
       "output_type": "stream",
       "stream": "stdout",
       "text": [
        "ok\n",
        "test_elif (decompiler.tests.test_decompiler.ControlFlow) ... "
       ]
      },
      {
       "output_type": "stream",
       "stream": "stdout",
       "text": [
        "ok\n",
        "test_for (decompiler.tests.test_decompiler.ControlFlow) ... "
       ]
      },
      {
       "output_type": "stream",
       "stream": "stdout",
       "text": [
        "ok\n",
        "test_for2 (decompiler.tests.test_decompiler.ControlFlow) ... "
       ]
      },
      {
       "output_type": "stream",
       "stream": "stdout",
       "text": [
        "ok\n",
        "test_for_continue (decompiler.tests.test_decompiler.ControlFlow) ... "
       ]
      },
      {
       "output_type": "stream",
       "stream": "stdout",
       "text": [
        "ok\n",
        "test_for_else (decompiler.tests.test_decompiler.ControlFlow) ... "
       ]
      },
      {
       "output_type": "stream",
       "stream": "stdout",
       "text": [
        "ok\n",
        "test_for_unpack (decompiler.tests.test_decompiler.ControlFlow) ... "
       ]
      },
      {
       "output_type": "stream",
       "stream": "stdout",
       "text": [
        "ok\n",
        "test_if (decompiler.tests.test_decompiler.ControlFlow) ... "
       ]
      },
      {
       "output_type": "stream",
       "stream": "stdout",
       "text": [
        "ok\n",
        "test_if2 (decompiler.tests.test_decompiler.ControlFlow) ... "
       ]
      },
      {
       "output_type": "stream",
       "stream": "stdout",
       "text": [
        "ok\n",
        "test_if3 (decompiler.tests.test_decompiler.ControlFlow) ... "
       ]
      },
      {
       "output_type": "stream",
       "stream": "stdout",
       "text": [
        "ok\n",
        "test_if4 (decompiler.tests.test_decompiler.ControlFlow) ... "
       ]
      },
      {
       "output_type": "stream",
       "stream": "stdout",
       "text": [
        "ok\n",
        "test_if5 (decompiler.tests.test_decompiler.ControlFlow) ... "
       ]
      },
      {
       "output_type": "stream",
       "stream": "stdout",
       "text": [
        "ok\n",
        "test_if6 (decompiler.tests.test_decompiler.ControlFlow) ... "
       ]
      },
      {
       "output_type": "stream",
       "stream": "stdout",
       "text": [
        "ok\n",
        "test_if_elif_else (decompiler.tests.test_decompiler.ControlFlow) ... "
       ]
      },
      {
       "output_type": "stream",
       "stream": "stdout",
       "text": [
        "ok\n",
        "test_if_else (decompiler.tests.test_decompiler.ControlFlow) ... "
       ]
      },
      {
       "output_type": "stream",
       "stream": "stdout",
       "text": [
        "ok\n",
        "test_loop_01 (decompiler.tests.test_decompiler.ControlFlow) ... "
       ]
      },
      {
       "output_type": "stream",
       "stream": "stdout",
       "text": [
        "ok\n",
        "test_loop_bug (decompiler.tests.test_decompiler.ControlFlow) ... "
       ]
      },
      {
       "output_type": "stream",
       "stream": "stdout",
       "text": [
        "ok\n",
        "test_try_continue (decompiler.tests.test_decompiler.ControlFlow) ... "
       ]
      },
      {
       "output_type": "stream",
       "stream": "stdout",
       "text": [
        "ok\n",
        "test_tryexcept1 (decompiler.tests.test_decompiler.ControlFlow) ... "
       ]
      },
      {
       "output_type": "stream",
       "stream": "stdout",
       "text": [
        "ok\n",
        "test_tryexcept2 (decompiler.tests.test_decompiler.ControlFlow) ... "
       ]
      },
      {
       "output_type": "stream",
       "stream": "stdout",
       "text": [
        "ok\n",
        "test_tryexcept3 (decompiler.tests.test_decompiler.ControlFlow) ... "
       ]
      },
      {
       "output_type": "stream",
       "stream": "stdout",
       "text": [
        "ok\n",
        "test_tryexcept4 (decompiler.tests.test_decompiler.ControlFlow) ... "
       ]
      },
      {
       "output_type": "stream",
       "stream": "stdout",
       "text": [
        "ok\n",
        "test_tryexcept_else (decompiler.tests.test_decompiler.ControlFlow) ... "
       ]
      },
      {
       "output_type": "stream",
       "stream": "stdout",
       "text": [
        "ok\n",
        "test_while (decompiler.tests.test_decompiler.ControlFlow) ... "
       ]
      },
      {
       "output_type": "stream",
       "stream": "stdout",
       "text": [
        "ok\n",
        "test_while1 (decompiler.tests.test_decompiler.ControlFlow) ... "
       ]
      },
      {
       "output_type": "stream",
       "stream": "stdout",
       "text": [
        "ok\n",
        "test_while_bug (decompiler.tests.test_decompiler.ControlFlow) ... "
       ]
      },
      {
       "output_type": "stream",
       "stream": "stdout",
       "text": [
        "ok\n",
        "test_while_bug02 (decompiler.tests.test_decompiler.ControlFlow) ... "
       ]
      },
      {
       "output_type": "stream",
       "stream": "stdout",
       "text": [
        "expected failure\n",
        "test_while_else (decompiler.tests.test_decompiler.ControlFlow) ... "
       ]
      },
      {
       "output_type": "stream",
       "stream": "stdout",
       "text": [
        "ok\n",
        "test_while_logic (decompiler.tests.test_decompiler.ControlFlow) ... "
       ]
      },
      {
       "output_type": "stream",
       "stream": "stdout",
       "text": [
        "ok\n",
        "test_while_logic2 (decompiler.tests.test_decompiler.ControlFlow) ... "
       ]
      },
      {
       "output_type": "stream",
       "stream": "stdout",
       "text": [
        "ok\n",
        "test_while_logic3 (decompiler.tests.test_decompiler.ControlFlow) ... "
       ]
      },
      {
       "output_type": "stream",
       "stream": "stdout",
       "text": [
        "ok\n",
        "test_build_lambda (decompiler.tests.test_decompiler.Function) ... "
       ]
      },
      {
       "output_type": "stream",
       "stream": "stdout",
       "text": [
        "ok\n",
        "test_build_lambda1 (decompiler.tests.test_decompiler.Function) ... "
       ]
      },
      {
       "output_type": "stream",
       "stream": "stdout",
       "text": [
        "ok\n",
        "test_build_lambda_kw_args (decompiler.tests.test_decompiler.Function) ... "
       ]
      },
      {
       "output_type": "stream",
       "stream": "stdout",
       "text": [
        "ok\n",
        "test_build_lambda_var_args (decompiler.tests.test_decompiler.Function) ... "
       ]
      },
      {
       "output_type": "stream",
       "stream": "stdout",
       "text": [
        "ok\n",
        "test_build_lambda_varkw_args (decompiler.tests.test_decompiler.Function) ... "
       ]
      },
      {
       "output_type": "stream",
       "stream": "stdout",
       "text": [
        "ok\n",
        "test_function (decompiler.tests.test_decompiler.Function) ... "
       ]
      },
      {
       "output_type": "stream",
       "stream": "stdout",
       "text": [
        "ok\n",
        "test_function_args (decompiler.tests.test_decompiler.Function) ... "
       ]
      },
      {
       "output_type": "stream",
       "stream": "stdout",
       "text": [
        "ok\n",
        "test_function_decorator (decompiler.tests.test_decompiler.Function) ... "
       ]
      },
      {
       "output_type": "stream",
       "stream": "stdout",
       "text": [
        "ok\n",
        "test_function_decorator2 (decompiler.tests.test_decompiler.Function) ... "
       ]
      },
      {
       "output_type": "stream",
       "stream": "stdout",
       "text": [
        "ok\n",
        "test_function_kw_args (decompiler.tests.test_decompiler.Function) ... "
       ]
      },
      {
       "output_type": "stream",
       "stream": "stdout",
       "text": [
        "ok\n",
        "test_function_var_args (decompiler.tests.test_decompiler.Function) ... "
       ]
      },
      {
       "output_type": "stream",
       "stream": "stdout",
       "text": [
        "ok\n",
        "test_function_varkw_args (decompiler.tests.test_decompiler.Function) ... "
       ]
      },
      {
       "output_type": "stream",
       "stream": "stdout",
       "text": [
        "ok\n",
        "test_function_yield (decompiler.tests.test_decompiler.Function) ... "
       ]
      },
      {
       "output_type": "stream",
       "stream": "stdout",
       "text": [
        "ok\n",
        "test_bug010 (decompiler.tests.test_decompiler.LogicJumps) ... "
       ]
      },
      {
       "output_type": "stream",
       "stream": "stdout",
       "text": [
        "ok\n",
        "test_bug011 (decompiler.tests.test_decompiler.LogicJumps) ... "
       ]
      },
      {
       "output_type": "stream",
       "stream": "stdout",
       "text": [
        "expected failure\n",
        "test_if_expr_assign (decompiler.tests.test_decompiler.LogicJumps) ... "
       ]
      },
      {
       "output_type": "stream",
       "stream": "stdout",
       "text": [
        "ok\n",
        "test_if_expr_assignattr (decompiler.tests.test_decompiler.LogicJumps) ... "
       ]
      },
      {
       "output_type": "stream",
       "stream": "stdout",
       "text": [
        "ok\n",
        "test_if_expr_const_bug (decompiler.tests.test_decompiler.LogicJumps) ... "
       ]
      },
      {
       "output_type": "stream",
       "stream": "stdout",
       "text": [
        "skipped 'I think this may be a bug in python'\n",
        "test_if_expr_discard (decompiler.tests.test_decompiler.LogicJumps) ... "
       ]
      },
      {
       "output_type": "stream",
       "stream": "stdout",
       "text": [
        "ok\n",
        "test_logic1 (decompiler.tests.test_decompiler.LogicJumps)\n",
        "a and b or c ... "
       ]
      },
      {
       "output_type": "stream",
       "stream": "stdout",
       "text": [
        "ok\n",
        "test_logic2 (decompiler.tests.test_decompiler.LogicJumps)\n",
        "a or (b or c) ... "
       ]
      },
      {
       "output_type": "stream",
       "stream": "stdout",
       "text": [
        "ok\n",
        "test_add (decompiler.tests.test_simple.Simple)\n",
        "a+b ... "
       ]
      },
      {
       "output_type": "stream",
       "stream": "stdout",
       "text": [
        "ok\n",
        "test_assign (decompiler.tests.test_simple.Simple)\n",
        "a = b ... "
       ]
      },
      {
       "output_type": "stream",
       "stream": "stdout",
       "text": [
        "ok\n",
        "test_assign2 (decompiler.tests.test_simple.Simple)\n",
        "a = b = c ... "
       ]
      },
      {
       "output_type": "stream",
       "stream": "stdout",
       "text": [
        "ok\n",
        "test_assign3 (decompiler.tests.test_simple.Simple)\n",
        "a = b,d = c ... "
       ]
      },
      {
       "output_type": "stream",
       "stream": "stdout",
       "text": [
        "ok\n",
        "test_assign4 (decompiler.tests.test_simple.Simple)\n",
        "a.y = b,d = c ... "
       ]
      },
      {
       "output_type": "stream",
       "stream": "stdout",
       "text": [
        "ok\n",
        "test_binary_and (decompiler.tests.test_simple.Simple)\n",
        "a & b ... "
       ]
      },
      {
       "output_type": "stream",
       "stream": "stdout",
       "text": [
        "ok\n",
        "test_binary_lshift (decompiler.tests.test_simple.Simple)\n",
        "a << b ... "
       ]
      },
      {
       "output_type": "stream",
       "stream": "stdout",
       "text": [
        "ok\n",
        "test_binary_mod (decompiler.tests.test_simple.Simple)\n",
        "a % b ... "
       ]
      },
      {
       "output_type": "stream",
       "stream": "stdout",
       "text": [
        "ok\n",
        "test_binary_or (decompiler.tests.test_simple.Simple)\n",
        "a | b ... "
       ]
      },
      {
       "output_type": "stream",
       "stream": "stdout",
       "text": [
        "ok\n",
        "test_binary_rshift (decompiler.tests.test_simple.Simple)\n",
        "a >> b ... "
       ]
      },
      {
       "output_type": "stream",
       "stream": "stdout",
       "text": [
        "ok\n",
        "test_binary_xor (decompiler.tests.test_simple.Simple)\n",
        "a ^ b ... "
       ]
      },
      {
       "output_type": "stream",
       "stream": "stdout",
       "text": [
        "ok\n",
        "test_bug_001 (decompiler.tests.test_simple.Simple) ... "
       ]
      },
      {
       "output_type": "stream",
       "stream": "stdout",
       "text": [
        "ok\n",
        "test_bug_002 (decompiler.tests.test_simple.Simple) ... "
       ]
      },
      {
       "output_type": "stream",
       "stream": "stdout",
       "text": [
        "ok\n",
        "test_bug_0021 (decompiler.tests.test_simple.Simple) ... "
       ]
      },
      {
       "output_type": "stream",
       "stream": "stdout",
       "text": [
        "ok\n",
        "test_bug_003 (decompiler.tests.test_simple.Simple) ... "
       ]
      },
      {
       "output_type": "stream",
       "stream": "stdout",
       "text": [
        "ok\n",
        "test_bug_004 (decompiler.tests.test_simple.Simple) ... "
       ]
      },
      {
       "output_type": "stream",
       "stream": "stdout",
       "text": [
        "ok\n",
        "test_build_dict (decompiler.tests.test_simple.Simple)\n",
        "{a:x,b:y, c:1, d:None} ... "
       ]
      },
      {
       "output_type": "stream",
       "stream": "stdout",
       "text": [
        "ok\n",
        "test_build_list (decompiler.tests.test_simple.Simple)\n",
        "[x,y, 1, None] ... "
       ]
      },
      {
       "output_type": "stream",
       "stream": "stdout",
       "text": [
        "ok\n",
        "test_build_set (decompiler.tests.test_simple.Simple)\n",
        "{x,y, 1, None} ... "
       ]
      },
      {
       "output_type": "stream",
       "stream": "stdout",
       "text": [
        "ok\n",
        "test_build_tuple (decompiler.tests.test_simple.Simple)\n",
        "(x,y, 1, None) ... "
       ]
      },
      {
       "output_type": "stream",
       "stream": "stdout",
       "text": [
        "ok\n",
        "test_call (decompiler.tests.test_simple.Simple) ... "
       ]
      },
      {
       "output_type": "stream",
       "stream": "stdout",
       "text": [
        "ok\n",
        "test_call_args (decompiler.tests.test_simple.Simple) ... "
       ]
      },
      {
       "output_type": "stream",
       "stream": "stdout",
       "text": [
        "ok\n",
        "test_call_args1 (decompiler.tests.test_simple.Simple) ... "
       ]
      },
      {
       "output_type": "stream",
       "stream": "stdout",
       "text": [
        "ok\n",
        "test_call_kwargs (decompiler.tests.test_simple.Simple) ... "
       ]
      },
      {
       "output_type": "stream",
       "stream": "stdout",
       "text": [
        "ok\n",
        "test_call_var_kwargs (decompiler.tests.test_simple.Simple) ... "
       ]
      },
      {
       "output_type": "stream",
       "stream": "stdout",
       "text": [
        "ok\n",
        "test_call_varargs (decompiler.tests.test_simple.Simple) ... "
       ]
      },
      {
       "output_type": "stream",
       "stream": "stdout",
       "text": [
        "ok\n",
        "test_delete_attr (decompiler.tests.test_simple.Simple) ... "
       ]
      },
      {
       "output_type": "stream",
       "stream": "stdout",
       "text": [
        "ok\n",
        "test_delete_name (decompiler.tests.test_simple.Simple) ... "
       ]
      },
      {
       "output_type": "stream",
       "stream": "stdout",
       "text": [
        "ok\n",
        "test_div (decompiler.tests.test_simple.Simple)\n",
        "a/b ... "
       ]
      },
      {
       "output_type": "stream",
       "stream": "stdout",
       "text": [
        "ok\n",
        "test_eq (decompiler.tests.test_simple.Simple)\n",
        "a==b ... "
       ]
      },
      {
       "output_type": "stream",
       "stream": "stdout",
       "text": [
        "ok\n",
        "test_exec1 (decompiler.tests.test_simple.Simple) ... "
       ]
      },
      {
       "output_type": "stream",
       "stream": "stdout",
       "text": [
        "ok\n",
        "test_exec2 (decompiler.tests.test_simple.Simple) ... "
       ]
      },
      {
       "output_type": "stream",
       "stream": "stdout",
       "text": [
        "ok\n",
        "test_exec3 (decompiler.tests.test_simple.Simple) ... "
       ]
      },
      {
       "output_type": "stream",
       "stream": "stdout",
       "text": [
        "ok\n",
        "test_exec4 (decompiler.tests.test_simple.Simple) ... "
       ]
      },
      {
       "output_type": "stream",
       "stream": "stdout",
       "text": [
        "ok\n",
        "test_floordiv (decompiler.tests.test_simple.Simple)\n",
        "a//b ... "
       ]
      },
      {
       "output_type": "stream",
       "stream": "stdout",
       "text": [
        "ok\n",
        "test_getattr (decompiler.tests.test_simple.Simple)\n",
        "a = b.b ... "
       ]
      },
      {
       "output_type": "stream",
       "stream": "stdout",
       "text": [
        "ok\n",
        "test_iadd (decompiler.tests.test_simple.Simple)\n",
        "a+=b ... "
       ]
      },
      {
       "output_type": "stream",
       "stream": "stdout",
       "text": [
        "ok\n",
        "test_import (decompiler.tests.test_simple.Simple) ... "
       ]
      },
      {
       "output_type": "stream",
       "stream": "stdout",
       "text": [
        "ok\n",
        "test_import_as (decompiler.tests.test_simple.Simple) ... "
       ]
      },
      {
       "output_type": "stream",
       "stream": "stdout",
       "text": [
        "ok\n",
        "test_import_from (decompiler.tests.test_simple.Simple) ... "
       ]
      },
      {
       "output_type": "stream",
       "stream": "stdout",
       "text": [
        "ok\n",
        "test_import_from2 (decompiler.tests.test_simple.Simple) ... "
       ]
      },
      {
       "output_type": "stream",
       "stream": "stdout",
       "text": [
        "ok\n",
        "test_import_star (decompiler.tests.test_simple.Simple) ... "
       ]
      },
      {
       "output_type": "stream",
       "stream": "stdout",
       "text": [
        "ok\n",
        "test_isub (decompiler.tests.test_simple.Simple)\n",
        "a-=b ... "
       ]
      },
      {
       "output_type": "stream",
       "stream": "stdout",
       "text": [
        "ok\n",
        "test_mul (decompiler.tests.test_simple.Simple)\n",
        "a*b ... "
       ]
      },
      {
       "output_type": "stream",
       "stream": "stdout",
       "text": [
        "ok\n",
        "test_not (decompiler.tests.test_simple.Simple) ... "
       ]
      },
      {
       "output_type": "stream",
       "stream": "stdout",
       "text": [
        "ok\n",
        "test_pow (decompiler.tests.test_simple.Simple)\n",
        "a**b ... "
       ]
      },
      {
       "output_type": "stream",
       "stream": "stdout",
       "text": [
        "ok\n",
        "test_print (decompiler.tests.test_simple.Simple) ... "
       ]
      },
      {
       "output_type": "stream",
       "stream": "stdout",
       "text": [
        "ok\n",
        "test_print_to (decompiler.tests.test_simple.Simple) ... "
       ]
      },
      {
       "output_type": "stream",
       "stream": "stdout",
       "text": [
        "ok\n",
        "test_print_to_nl (decompiler.tests.test_simple.Simple) ... "
       ]
      },
      {
       "output_type": "stream",
       "stream": "stdout",
       "text": [
        "ok\n",
        "test_printitems (decompiler.tests.test_simple.Simple) ... "
       ]
      },
      {
       "output_type": "stream",
       "stream": "stdout",
       "text": [
        "ok\n",
        "test_printitems_to (decompiler.tests.test_simple.Simple) ... "
       ]
      },
      {
       "output_type": "stream",
       "stream": "stdout",
       "text": [
        "ok\n",
        "test_printitems_to_nl (decompiler.tests.test_simple.Simple) ... "
       ]
      },
      {
       "output_type": "stream",
       "stream": "stdout",
       "text": [
        "ok\n",
        "test_printitemsnl (decompiler.tests.test_simple.Simple) ... "
       ]
      },
      {
       "output_type": "stream",
       "stream": "stdout",
       "text": [
        "ok\n",
        "test_printnl (decompiler.tests.test_simple.Simple) ... "
       ]
      },
      {
       "output_type": "stream",
       "stream": "stdout",
       "text": [
        "ok\n",
        "test_setattr (decompiler.tests.test_simple.Simple)\n",
        "a.b = b ... "
       ]
      },
      {
       "output_type": "stream",
       "stream": "stdout",
       "text": [
        "ok\n",
        "test_sub (decompiler.tests.test_simple.Simple)\n",
        "a-b ... "
       ]
      },
      {
       "output_type": "stream",
       "stream": "stdout",
       "text": [
        "ok\n",
        "test_subscr (decompiler.tests.test_simple.Simple) ... "
       ]
      },
      {
       "output_type": "stream",
       "stream": "stdout",
       "text": [
        "ok\n",
        "test_subscr0 (decompiler.tests.test_simple.Simple) ... "
       ]
      },
      {
       "output_type": "stream",
       "stream": "stdout",
       "text": [
        "ok\n",
        "test_subscr1 (decompiler.tests.test_simple.Simple) ... "
       ]
      },
      {
       "output_type": "stream",
       "stream": "stdout",
       "text": [
        "ok\n",
        "test_subscr2 (decompiler.tests.test_simple.Simple) ... "
       ]
      },
      {
       "output_type": "stream",
       "stream": "stdout",
       "text": [
        "ok\n",
        "test_subscr3 (decompiler.tests.test_simple.Simple) ... "
       ]
      },
      {
       "output_type": "stream",
       "stream": "stdout",
       "text": [
        "ok\n",
        "test_subscrX (decompiler.tests.test_simple.Simple) ... "
       ]
      },
      {
       "output_type": "stream",
       "stream": "stdout",
       "text": [
        "ok\n",
        "test_subscrX2 (decompiler.tests.test_simple.Simple) ... "
       ]
      },
      {
       "output_type": "stream",
       "stream": "stdout",
       "text": [
        "ok\n",
        "test_subscrX3 (decompiler.tests.test_simple.Simple) ... "
       ]
      },
      {
       "output_type": "stream",
       "stream": "stdout",
       "text": [
        "ok\n",
        "test_subscr_assign (decompiler.tests.test_simple.Simple) ... "
       ]
      },
      {
       "output_type": "stream",
       "stream": "stdout",
       "text": [
        "ok\n",
        "test_subscr_assign0 (decompiler.tests.test_simple.Simple) ... "
       ]
      },
      {
       "output_type": "stream",
       "stream": "stdout",
       "text": [
        "ok\n",
        "test_subscr_assign1 (decompiler.tests.test_simple.Simple) ... "
       ]
      },
      {
       "output_type": "stream",
       "stream": "stdout",
       "text": [
        "ok\n",
        "test_subscr_assign2 (decompiler.tests.test_simple.Simple) ... "
       ]
      },
      {
       "output_type": "stream",
       "stream": "stdout",
       "text": [
        "ok\n",
        "test_subscr_assign3 (decompiler.tests.test_simple.Simple) ... "
       ]
      },
      {
       "output_type": "stream",
       "stream": "stdout",
       "text": [
        "ok\n",
        "test_subscr_assignX (decompiler.tests.test_simple.Simple) ... "
       ]
      },
      {
       "output_type": "stream",
       "stream": "stdout",
       "text": [
        "ok\n",
        "test_subscr_assignX2 (decompiler.tests.test_simple.Simple) ... "
       ]
      },
      {
       "output_type": "stream",
       "stream": "stdout",
       "text": [
        "ok\n",
        "test_subscr_assignX3 (decompiler.tests.test_simple.Simple) ... "
       ]
      },
      {
       "output_type": "stream",
       "stream": "stdout",
       "text": [
        "ok\n",
        "test_subscr_del (decompiler.tests.test_simple.Simple) ... "
       ]
      },
      {
       "output_type": "stream",
       "stream": "stdout",
       "text": [
        "ok\n",
        "test_subscr_del0 (decompiler.tests.test_simple.Simple) ... "
       ]
      },
      {
       "output_type": "stream",
       "stream": "stdout",
       "text": [
        "ok\n",
        "test_subscr_del1 (decompiler.tests.test_simple.Simple) ... "
       ]
      },
      {
       "output_type": "stream",
       "stream": "stdout",
       "text": [
        "ok\n",
        "test_subscr_del2 (decompiler.tests.test_simple.Simple) ... "
       ]
      },
      {
       "output_type": "stream",
       "stream": "stdout",
       "text": [
        "ok\n",
        "test_subscr_del3 (decompiler.tests.test_simple.Simple) ... "
       ]
      },
      {
       "output_type": "stream",
       "stream": "stdout",
       "text": [
        "ok\n",
        "test_subscr_delX (decompiler.tests.test_simple.Simple) ... "
       ]
      },
      {
       "output_type": "stream",
       "stream": "stdout",
       "text": [
        "ok\n",
        "test_subscr_delX2 (decompiler.tests.test_simple.Simple) ... "
       ]
      },
      {
       "output_type": "stream",
       "stream": "stdout",
       "text": [
        "ok\n",
        "test_subscr_delX3 (decompiler.tests.test_simple.Simple) ... "
       ]
      },
      {
       "output_type": "stream",
       "stream": "stdout",
       "text": [
        "ok\n",
        "test_subscr_tuple (decompiler.tests.test_simple.Simple) ... "
       ]
      },
      {
       "output_type": "stream",
       "stream": "stdout",
       "text": [
        "ok\n",
        "test_subscr_tuple_del (decompiler.tests.test_simple.Simple) ... "
       ]
      },
      {
       "output_type": "stream",
       "stream": "stdout",
       "text": [
        "ok\n",
        "test_subscr_tuple_set (decompiler.tests.test_simple.Simple) ... "
       ]
      },
      {
       "output_type": "stream",
       "stream": "stdout",
       "text": [
        "ok\n",
        "test_unpack_tuple (decompiler.tests.test_simple.Simple)\n",
        "(a,b) = c ... "
       ]
      },
      {
       "output_type": "stream",
       "stream": "stdout",
       "text": [
        "ok\n",
        "\n",
        "----------------------------------------------------------------------\n",
        "Ran 466 tests in 0.774s\n",
        "\n",
        "OK (skipped=2, expected failures=20)\n"
       ]
      }
     ],
     "prompt_number": 3
    },
    {
     "cell_type": "markdown",
     "metadata": {},
     "source": [
      "## Benchmarks"
     ]
    },
    {
     "cell_type": "code",
     "collapsed": false,
     "input": [
      "from numba import double\n",
      "from numba.decorators import jit as jit"
     ],
     "language": "python",
     "metadata": {},
     "outputs": [],
     "prompt_number": 1
    },
    {
     "cell_type": "code",
     "collapsed": false,
     "input": [
      "def sum2d(arr):\n",
      "    M, N = arr.shape\n",
      "    result = 0.0\n",
      "    for i in range(M):\n",
      "        for j in range(N):\n",
      "            result += arr[i,j]\n",
      "    return result\n",
      "csum2d = jit(restype=double, argtypes=[double[:,:]])(sum2d)"
     ],
     "language": "python",
     "metadata": {},
     "outputs": [],
     "prompt_number": 5
    },
    {
     "cell_type": "code",
     "collapsed": false,
     "input": [
      "a = array([[1,2,3],[4,5,6],[7,8,9]])\n",
      "print a.sum()\n",
      "print sum2d(a)\n",
      "print csum2d(a)"
     ],
     "language": "python",
     "metadata": {},
     "outputs": [
      {
       "output_type": "stream",
       "stream": "stdout",
       "text": [
        "45\n",
        "45.0\n",
        "9.33678148247e-313\n"
       ]
      }
     ],
     "prompt_number": 14
    },
    {
     "cell_type": "code",
     "collapsed": false,
     "input": [
      "%timeit a.sum()\n",
      "%timeit sum2d(a)\n",
      "%timeit csum2d(a)"
     ],
     "language": "python",
     "metadata": {},
     "outputs": [
      {
       "output_type": "stream",
       "stream": "stdout",
       "text": [
        "100000 loops, best of 3: 4.46 us per loop\n",
        "10000 loops, best of 3: 27.4 us per loop"
       ]
      },
      {
       "output_type": "stream",
       "stream": "stdout",
       "text": [
        "\n",
        "100000 loops, best of 3: 2.45 us per loop"
       ]
      },
      {
       "output_type": "stream",
       "stream": "stdout",
       "text": [
        "\n"
       ]
      }
     ],
     "prompt_number": 15
    },
    {
     "cell_type": "code",
     "collapsed": false,
     "input": [
      "from numba import jit, autojit\n",
      "\n",
      "@jit('f8(f8,f8)')\n",
      "def addv(a,b): return a+b\n",
      "\n",
      "@jit('f8(f8[:])')\n",
      "def sum1d(A):\n",
      "    n = A.size\n",
      "    s = 0.0\n",
      "    for i in range(n):\n",
      "        a = A[i]\n",
      "        s = addv(s, A[i])\n",
      "    return s"
     ],
     "language": "python",
     "metadata": {},
     "outputs": [],
     "prompt_number": 7
    },
    {
     "cell_type": "code",
     "collapsed": false,
     "input": [
      "a = randint(0,100,100)\n",
      "a.sum()"
     ],
     "language": "python",
     "metadata": {},
     "outputs": [
      {
       "output_type": "pyout",
       "prompt_number": 9,
       "text": [
        "5751"
       ]
      }
     ],
     "prompt_number": 9
    },
    {
     "cell_type": "code",
     "collapsed": false,
     "input": [
      "sum1d(a)"
     ],
     "language": "python",
     "metadata": {},
     "outputs": [
      {
       "output_type": "pyout",
       "prompt_number": 10,
       "text": [
        "1.2116595969253e-310"
       ]
      }
     ],
     "prompt_number": 10
    }
   ],
   "metadata": {}
  }
 ]
}