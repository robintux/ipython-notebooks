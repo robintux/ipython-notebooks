{
 "metadata": {
  "name": "SIDEER2013"
 },
 "nbformat": 3,
 "nbformat_minor": 0,
 "worksheets": [
  {
   "cells": [
    {
     "cell_type": "markdown",
     "metadata": {},
     "source": [
      "# Simple Model of Adaptation Rate\n",
      "\n",
      "## Model\n",
      "\n",
      "This is a Wright-Fisher two-locus bi-allelic infinite population size model used to calculate the increase in adaptation rate when the mutaitonal strategy changes from non-mutators (NM), constitutive mutators (CM) and stress-induced mutators (SIM).\n",
      "\n",
      "The population starts with genotype *ab* and evolves to *AB*. The adaptation time is determined by the number of generations required for the frequency of *AB* to rise above 0.5.\n",
      "\n",
      "The parameters are:\n",
      "\n",
      "* $\\mu_{small}$ - the mutation rate of non-mutators, measured in the probability a fitness changing mutation occurs in a single locus in a single generations.\n",
      "* $\\mu_{big}$ - the mutation rate of mutators.\n",
      "* $\\beta$ - the probability that a mutation is beneficial (*a->A* and *b->B*).\n",
      "* $s_{a}, s_{b}$ - the fitness cost of the harmful alleles *a* and *b*."
     ]
    },
    {
     "cell_type": "code",
     "collapsed": false,
     "input": [
      "def create_matrix(mu_small, mu_big, beta, s_a, s_b, s_ab):\n",
      "    mu=array([ [mu_small, mu_big],[mu_big, mu_big] ])\n",
      "    delta = 1 - beta\n",
      "    M=array([[ (1-mu[0,0]*delta)**2, (1-mu[0,1]*beta)* mu[0,1]*beta, (1-mu[1,0]*beta)*mu[1,0]*beta, mu[1,1]**2 * beta**2],\n",
      "         [(1-mu[0,0]*delta)*mu[0,0]*delta, (1-mu[0,1])**2 + mu[0,1]**2 *beta *delta, mu[1,0]**2 * beta * delta, (1-mu[1,1]*beta)*mu[1,1]*beta],\n",
      "         [(1-mu[0,0]*delta)*mu[0,0]*delta, mu[0,1]**2 * beta * delta, (1-mu[1,0])+mu[1,0]**2 * beta * delta, (1-mu[1,1]*beta)*mu[1,1]*beta],\n",
      "         [ mu[0,0]**2 * delta**2, (1-mu[0,1]*beta)*mu[0,1]*delta, (1-mu[1,0]*beta)*mu[1,0]*delta, (1-mu[1,1]*beta)**2]])\n",
      "    S=array([ [1,0,0,0],[0,1-s_b,0,0],[0,0,1-s_a,0],[0,0,0,1-s_ab] ])\n",
      "    return M,S"
     ],
     "language": "python",
     "metadata": {},
     "outputs": [],
     "prompt_number": 1
    },
    {
     "cell_type": "markdown",
     "metadata": {},
     "source": [
      "This function prints a nice matrix representation:"
     ]
    },
    {
     "cell_type": "code",
     "collapsed": false,
     "input": [
      "def pretty_matrix(M):\n",
      "    for x in M:\n",
      "        for y in x:\n",
      "            print \"%.9f\" % y, '\\t',\n",
      "        print "
     ],
     "language": "python",
     "metadata": {},
     "outputs": [],
     "prompt_number": 2
    },
    {
     "cell_type": "code",
     "collapsed": false,
     "input": [
      "M, S=create_matrix(0.003, 0.003, 0.001, 0.1, 0.2, 1-0.9*0.8)\n",
      "pretty_matrix(S)\n",
      "print\n",
      "pretty_matrix(M)"
     ],
     "language": "python",
     "metadata": {},
     "outputs": [
      {
       "output_type": "stream",
       "stream": "stdout",
       "text": [
        "1.000000000 \t0.000000000 \t0.000000000 \t0.000000000 \t\n",
        "0.000000000 \t0.800000000 \t0.000000000 \t0.000000000 \t\n",
        "0.000000000 \t0.000000000 \t0.900000000 \t0.000000000 \t\n",
        "0.000000000 \t0.000000000 \t0.000000000 \t0.720000000 \t\n",
        "\n",
        "0.994014982 \t0.000003000 \t0.000003000 \t0.000000000 \t\n",
        "0.002988018 \t0.994009009 \t0.000000009 \t0.000003000 \t\n",
        "0.002988018 \t0.000000009 \t0.997000009 \t0.000003000 \t\n",
        "0.000008982 \t0.002996991 \t0.002996991 \t0.999994000 \t\n"
       ]
      }
     ],
     "prompt_number": 3
    },
    {
     "cell_type": "markdown",
     "metadata": {},
     "source": [
      "This function runs a complete simulation, starting with $freq(ab)=1$ and ending when $freq(AB) \\ge 0.5$."
     ]
    },
    {
     "cell_type": "code",
     "collapsed": false,
     "input": [
      "def simulation(mu_small, mu_big, beta, s_a, s_b, s_ab, threshold=0.5):\n",
      "    f_0 = array([0,0,0,1])\n",
      "    M,S = create_matrix(mu_small, mu_big, beta, s_a, s_b, s_ab)\n",
      "    f = f_0.copy()\n",
      "    f_AB = [f[0]]\n",
      "    while f_AB[-1] < threshold:\n",
      "        f = M.dot(S.dot(f))\n",
      "        f = f/f.sum()\n",
      "        f_AB.append(f[0]) \n",
      "        #print f[0], ' ',\n",
      "    return f_AB"
     ],
     "language": "python",
     "metadata": {},
     "outputs": [],
     "prompt_number": 4
    },
    {
     "cell_type": "markdown",
     "metadata": {},
     "source": [
      "This function runs a simulation for NM, CM and SIM with the same parameters:"
     ]
    },
    {
     "cell_type": "code",
     "collapsed": false,
     "input": [
      "def triplet(mu_small, mu_big, beta, s_a, s_b, s_ab, threshold=0.5):\n",
      "    nm = simulation(mu_small, mu_small, beta, s_a, s_b, s_ab, threshold)\n",
      "    cm = simulation(mu_big, mu_big, beta, s_a, s_b, s_ab, threshold)\n",
      "    sim = simulation(mu_small, mu_big, beta, s_a, s_b, s_ab, threshold)\n",
      "    return {'nm':nm, 'cm':cm, 'sim':sim}"
     ],
     "language": "python",
     "metadata": {},
     "outputs": [],
     "prompt_number": 5
    },
    {
     "cell_type": "markdown",
     "metadata": {},
     "source": [
      "## Results\n",
      "\n",
      "The results show the number of generation it takes the *AB* genotype to rise from frequency 0 to 0.5.\n",
      "\n",
      "We start from a fitness landscape in which the fitness of *ab* is the lowest -\n",
      "$\\omega_AB > \\omega_aB, \\omega_Ab > \\omega_{ab}=\\omega_aB \\cdot \\omega_Ab=(1-s_a)(1-s_b)$:"
     ]
    },
    {
     "cell_type": "code",
     "collapsed": false,
     "input": [
      "data = triplet(mu_small=0.003, mu_big=0.03, beta=0.01, s_a=0.1, s_b=0.1, s_ab=1-0.9**2)\n",
      "for k,v in data.items(): print k, len(v)"
     ],
     "language": "python",
     "metadata": {},
     "outputs": [
      {
       "output_type": "stream",
       "stream": "stdout",
       "text": [
        "nm 90\n",
        "cm 110\n",
        "sim 63\n"
       ]
      }
     ],
     "prompt_number": 6
    },
    {
     "cell_type": "code",
     "collapsed": false,
     "input": [
      "data = triplet(mu_small=0.003, mu_big=0.03, beta=0.1, s_a=0.1, s_b=0.1, s_ab=1-0.9**2)\n",
      "for k,v in data.items(): print k, len(v)"
     ],
     "language": "python",
     "metadata": {},
     "outputs": [
      {
       "output_type": "stream",
       "stream": "stdout",
       "text": [
        "nm 67\n",
        "cm 66\n",
        "sim 42\n"
       ]
      }
     ],
     "prompt_number": 7
    },
    {
     "cell_type": "code",
     "collapsed": false,
     "input": [
      "data = triplet(mu_small=0.003, mu_big=0.03, beta=0.1, s_a=0.2, s_b=0.1, s_ab=1-0.9*0.8)\n",
      "for k,v in data.items(): print k, len(v)"
     ],
     "language": "python",
     "metadata": {},
     "outputs": [
      {
       "output_type": "stream",
       "stream": "stdout",
       "text": [
        "nm 58\n",
        "cm 42\n",
        "sim 31\n"
       ]
      }
     ],
     "prompt_number": 8
    },
    {
     "cell_type": "markdown",
     "metadata": {},
     "source": [
      "In these examples SIM is the fastest adapter, regardless of the relationship between NM and CM, which changes as beta increases."
     ]
    },
    {
     "cell_type": "markdown",
     "metadata": {},
     "source": [
      "We continue with a more complex fitness landscape with two peaks, in which the fitness of *ab* is intermediate - \n",
      "$\\omega_{AB} > \\omega_{ab} > \\omega_aB, \\omega_Ab$. In these simulation the adaptation time is longer and therefore we calculate it as the time for $f(AB)>10^{-4}$  for $\\beta=0.01$ and $f(AB)>10^{-2}$ for $\\beta=0.1$:"
     ]
    },
    {
     "cell_type": "code",
     "collapsed": false,
     "input": [
      "data = triplet(mu_small=0.003, mu_big=0.03, beta=0.01, s_a=0.1, s_b=0.1, s_ab=0.05, threshold=1e-4)\n",
      "for k,v in data.items(): print k, len(v)"
     ],
     "language": "python",
     "metadata": {},
     "outputs": [
      {
       "output_type": "stream",
       "stream": "stdout",
       "text": [
        "nm 125\n",
        "cm 81\n",
        "sim 37\n"
       ]
      }
     ],
     "prompt_number": 14
    },
    {
     "cell_type": "code",
     "collapsed": false,
     "input": [
      "data = triplet(mu_small=0.003, mu_big=0.03, beta=0.1, s_a=0.1, s_b=0.1, s_ab=0.05, threshold=1e-2)\n",
      "for k,v in data.items(): print k, len(v)"
     ],
     "language": "python",
     "metadata": {},
     "outputs": [
      {
       "output_type": "stream",
       "stream": "stdout",
       "text": [
        "nm 123\n",
        "cm 63\n",
        "sim 36\n"
       ]
      }
     ],
     "prompt_number": 19
    },
    {
     "cell_type": "code",
     "collapsed": false,
     "input": [
      "data = triplet(mu_small=0.003, mu_big=0.03, beta=0.1, s_a=0.2, s_b=0.1, s_ab=0.05, threshold=1e-2)\n",
      "for k,v in data.items(): print k, len(v)"
     ],
     "language": "python",
     "metadata": {},
     "outputs": [
      {
       "output_type": "stream",
       "stream": "stdout",
       "text": [
        "nm 130\n",
        "cm 82\n",
        "sim 40\n"
       ]
      }
     ],
     "prompt_number": 20
    },
    {
     "cell_type": "markdown",
     "metadata": {},
     "source": [
      "Again, SIM is the best strategy.\n",
      "\n",
      "## Reasons for SIM's advantage\n",
      "\n",
      "The time to adaptaion is composed of two different time intervals: the waiting time to the appearance of the double mutant, and the time for the double mutant to fixate in the population.\n",
      "    \n",
      "### Time to the appearance of a double mutant  \n",
      "\n",
      "The time to the appearance of a double mutant in a infinite population is always 1 if naively defined as the generation at which $f(AB)>0$. A more reasonable definition is to choose a population size *N* and define the time for the appearance of the double mutant as $f(AB)>1/N$.\n",
      "\n",
      "Therefore, for a large population of, say $N=10^4$, there is not much difference between SIM and CM, and both are better than NM:"
     ]
    },
    {
     "cell_type": "code",
     "collapsed": false,
     "input": [
      "N = 1e4\n",
      "data = triplet(mu_small=0.003, mu_big=0.03, beta=0.01, s_a=0.1, s_b=0.1, s_ab=0.05, threshold=1/N)\n",
      "for k,v in data.items(): print k, len(v)"
     ],
     "language": "python",
     "metadata": {},
     "outputs": [
      {
       "output_type": "stream",
       "stream": "stdout",
       "text": [
        "nm 125\n",
        "cm 81\n",
        "sim 37\n"
       ]
      }
     ],
     "prompt_number": 72
    },
    {
     "cell_type": "code",
     "collapsed": false,
     "input": [
      "data = triplet(mu_small=0.003, mu_big=0.03, beta=0.1, s_a=0.1, s_b=0.1, s_ab=0.05, threshold=1/N)\n",
      "for k,v in data.items(): print k, len(v)"
     ],
     "language": "python",
     "metadata": {},
     "outputs": [
      {
       "output_type": "stream",
       "stream": "stdout",
       "text": [
        "nm 34\n",
        "cm 5\n",
        "sim 5\n"
       ]
      }
     ],
     "prompt_number": 73
    },
    {
     "cell_type": "markdown",
     "metadata": {},
     "source": [
      "This is because the time to double mutant apperance strongly depends on the mutation rate of the wild-type and single mutants, and not on their fitness or the mutation rate of the double mutant.\n",
      "\n",
      "### Time for fixation of the double mutant\n",
      "\n",
      "This time interval is much higher for CM than for SIM because of the genetic load created by the increased mutation rate. The following shows the time for appearance, time for adaptation, and the difference between them, which is roughly the time for fixation:"
     ]
    },
    {
     "cell_type": "code",
     "collapsed": false,
     "input": [
      "data1 = triplet(mu_small=0.003, mu_big=0.03, beta=0.1, s_a=0.1, s_b=0.1, s_ab=1-0.9**2, threshold=1/N)\n",
      "data2 = triplet(mu_small=0.003, mu_big=0.03, beta=0.1, s_a=0.1, s_b=0.1, s_ab=1-0.9**2, threshold=0.5)"
     ],
     "language": "python",
     "metadata": {},
     "outputs": [],
     "prompt_number": 74
    },
    {
     "cell_type": "code",
     "collapsed": false,
     "input": [
      "print \"type\",'\\t',\"appr\",'\\t',\"fix\",'\\t',\"total\"\n",
      "for k in data1.keys(): print k, '\\t', len(data1[k]),'\\t', len(data2[k])-len(data1[k]), '\\t', len(data2[k])"
     ],
     "language": "python",
     "metadata": {},
     "outputs": [
      {
       "output_type": "stream",
       "stream": "stdout",
       "text": [
        "type \tappr \tfix \ttotal\n",
        "nm \t16 \t51 \t67\n",
        "cm \t5 \t61 \t66\n",
        "sim \t5 \t37 \t42\n"
       ]
      }
     ],
     "prompt_number": 75
    },
    {
     "cell_type": "markdown",
     "metadata": {},
     "source": [
      "This example shows that the time for appearance of the double mutant is where CM is better than NM and as good as SIM, but the fixation of the double mutant is slower in CM than in NM and SIM."
     ]
    },
    {
     "cell_type": "markdown",
     "metadata": {},
     "source": [
      "# Analytic treatment\n",
      "\n",
      "This treatment follows [Hadany, 2003](http://www.ncbi.nlm.nih.gov/pubmed/12464494) and therefore may be a little different from the above - **I will fix it when it will be important**.\n",
      "\n",
      "There are two loci and two alleles - *a/A* and *b/B*. The fitness of the wildtype *ab* is *1*, of the single mutants *Ab* and *aB* is *1-s*, and of the double mutant *AB* is *1 + sH*. Thus the fitness landscape has two peaks and the population occupies the lower peak. Mutation rates at both loci in both directions are $\\mu$.\n",
      "\n",
      "## Appearance of a double mutant\n",
      "\n",
      "Before the peak shift, that is, when the fitness of *AB* is very low, the frequency of *ab* is roughly $1-\\frac{mu}{s}$ and the frequencies of *aB* and *Ab* are both roughly $\\frac{\\mu}{s}$. These error of these estimates is in the order of $\\mu^2$.\n",
      "\n",
      "One generation after the peak shift, a fraction $\\mu^2 (1-\\frac{\\mu}{s})$ of the population is now *AB* due to mutation in *ab* individuals and a fraction of $\\mu (1-\\mu) \\frac{\\mu}{s}$ is *AB due to mutation in *Ab* or *aB* individuals. Summing that up, one generation after the peak shift the frequency of *AB* is (after mutation but before selection):\n",
      "$$\n",
      "f(AB) = \\mu^2 (1-\\frac{\\mu}{s}) + \\mu (1-\\mu) \\frac{\\mu}{s} = \\\\\n",
      "=  \\mu^2 - \\mu^2\\frac{\\mu}{s} +  \\mu \\frac{\\mu}{s}-\\mu^2 \\frac{\\mu}{s}  = \\\\\n",
      "=  \\mu^2 - \\frac{\\mu^3}{s} +  \\frac{\\mu^2}{s} - \\frac{\\mu^3}{s}  = \\\\\n",
      "=  \\mu^2 - 2\\frac{\\mu^3}{s} +  \\frac{\\mu^2}{s}  = \\\\\n",
      "=  \\mu^2(1+\\frac{1}{s}) - 2 \\frac{\\mu^3}{s} = \\\\\n",
      "=  \\mu^2(\\frac{1+s}{s}) - \\frac{2\\mu^3}{s} = \\\\\n",
      "=  \\frac{\\mu^2(1+s) - 2\\mu^3}{s} \\Rightarrow \\\\\n",
      "f(AB) =  \\mu^2 \\frac{1 + s - 2\\mu}{s}\n",
      "$$\n",
      "\n",
      "The error of this estimate is in the order of $\\mu^3$.\n",
      "\n",
      "The other frequencies are:\n",
      "    \n",
      "$$\n",
      "f(ab) = 1 - \\frac{mu}{s} +O(\\mu^2) \\\\\n",
      "f(aB) + f(Ab) = \\frac{mu}{s} +O(\\mu^2)\n",
      "$$\n",
      "\n",
      "And therefore the mean fitness is \n",
      "$$\n",
      "\\bar{\\omega} = f(ab) + (f(Ab)+f(aB))(1-s) + f(AB)(1+sH) = \\\\\n",
      "1 - \\frac{\\mu}{s} +O(\\mu^2) + \\frac{\\mu}{s}(1-s) + O(\\mu^2)(1-s) +  \\mu^2 \\frac{1 + s - 2\\mu}{s}(1+sH) + O(\\mu^3)(1+sH) = \\\\\n",
      "1 - \\frac{\\mu}{s} + \\frac{\\mu}{s} - \\mu + O(\\mu^2)(2-s) +  \\mu^2 \\frac{1 + s - 2\\mu}{s} + H \\mu^2 (1 + s - 2\\mu) + O(\\mu^3)(1+sH) = \\\\\n",
      "1 - \\mu + \\mu^2 +  \\frac{\\mu^2}{s} - \\frac{2\\mu^3}{s} +  H \\mu^2 + s H \\mu^2 - 2 H \\mu^3 + O(\\mu^2)(2-s) + O(\\mu^3)(1+sH) = \\\\\n",
      "1 - \\mu + \\mu^2 +  \\frac{\\mu^2}{s} - \\frac{2\\mu^3}{s} +  H \\mu^2 + s H \\mu^2 - 2 H \\mu^3 + O(\\mu^2)(2-s) + O(\\mu^3)(1+sH) = \\\\\n",
      "1- \\mu + O(\\mu^2)\n",
      "$$"
     ]
    },
    {
     "cell_type": "markdown",
     "metadata": {},
     "source": [
      "After selection (setting the mean fitness to be $1-\\mu$ by ignoring terms of order of $\\mu^2$) we get:\n",
      "$$\n",
      "f(AB) = \\frac{(1+sH) \\mu^2 \\frac{1 + s - 2\\mu}{s}}{1-\\mu} = \\\\\n",
      "(1+sH) \\mu^2 \\frac{1 + s - 2\\mu}{(1-\\mu)s} = \\\\\n",
      "(1+sH) \\mu^2 \\frac{1 + s - 2\\mu}{(1-\\mu)s} = \n",
      "$$"
     ]
    },
    {
     "cell_type": "markdown",
     "metadata": {},
     "source": [
      "# End\n",
      "\n",
      "The notebook can be viewed online at <http://nbviewer.ipython.org/urls/raw.github.com/yoavram/ipython-notebooks/master/SIDEER2013.ipynb>, the source is availabe at <https://github.com/yoavram/ipython-notebooks/blob/master/SIDEER2013.ipynb>.\n"
     ]
    },
    {
     "cell_type": "code",
     "collapsed": false,
     "input": [],
     "language": "python",
     "metadata": {},
     "outputs": []
    }
   ],
   "metadata": {}
  }
 ]
}