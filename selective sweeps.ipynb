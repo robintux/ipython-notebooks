{
 "metadata": {
  "name": ""
 },
 "nbformat": 3,
 "nbformat_minor": 0,
 "worksheets": [
  {
   "cells": [
    {
     "cell_type": "code",
     "collapsed": false,
     "input": [
      "from scipy import __version__ as scipy_ver\n",
      "print \"scipy:\", scipy_ver\n",
      "np.set_printoptions(linewidth=80)\n",
      "np.set_printoptions(precision=3)\n",
      "from mpltools import style\n",
      "style.use('ggplot')\n",
      "import random\n",
      "from numpy.random import poisson, exponential"
     ],
     "language": "python",
     "metadata": {},
     "outputs": [
      {
       "output_type": "stream",
       "stream": "stdout",
       "text": [
        "scipy: 0.12.0\n"
       ]
      }
     ],
     "prompt_number": 76
    },
    {
     "cell_type": "code",
     "collapsed": false,
     "input": [
      "U = 0.03\n",
      "beta = 0.001\n",
      "sb = 0.01\n",
      "sd = 0.01\n",
      "N = 1000\n",
      "g=10"
     ],
     "language": "python",
     "metadata": {},
     "outputs": [],
     "prompt_number": 192
    },
    {
     "cell_type": "code",
     "collapsed": false,
     "input": [
      "mutations_dict = {'A': 'GCT', 'G':'ACT', 'C':'AGT', 'T':'AGC'}"
     ],
     "language": "python",
     "metadata": {},
     "outputs": [],
     "prompt_number": 193
    },
    {
     "cell_type": "code",
     "collapsed": false,
     "input": [
      "def mutate_sequence(seq):\n",
      "    i = randint(len(seq))\n",
      "    allele = seq[i]\n",
      "    options = mutations_dict[allele]\n",
      "    new_allele = random.choice(options)\n",
      "    return seq[:i] + new_allele + seq[i+1:]\n",
      "print mutate_sequence('AGCT')"
     ],
     "language": "python",
     "metadata": {},
     "outputs": [
      {
       "output_type": "stream",
       "stream": "stdout",
       "text": [
        "AGGT\n"
       ]
      }
     ],
     "prompt_number": 194
    },
    {
     "cell_type": "code",
     "collapsed": false,
     "input": [
      "genotypes = {0:'A'*g}\n",
      "fitness = array([1])\n",
      "fitness_dict = {genotypes[0]:fitness[0]}\n",
      "population = array([N])"
     ],
     "language": "python",
     "metadata": {},
     "outputs": [],
     "prompt_number": 247
    },
    {
     "cell_type": "code",
     "collapsed": false,
     "input": [
      "def coin_toss(p=0.5):\n",
      "    return random.random() < p\n",
      "sum([coin_toss(0.1) for _ in range(1000)])/1000."
     ],
     "language": "python",
     "metadata": {},
     "outputs": [
      {
       "metadata": {},
       "output_type": "pyout",
       "prompt_number": 248,
       "text": [
        "0.091999999999999998"
       ]
      }
     ],
     "prompt_number": 248
    },
    {
     "cell_type": "code",
     "collapsed": false,
     "input": [
      "def selection_drift(population, fitness):\n",
      "    weighted = population*fitness\n",
      "    probs = weighted/float(weighted.sum())\n",
      "    return multinomial(N, probs)\n",
      "selection_drift(population, fitness)"
     ],
     "language": "python",
     "metadata": {},
     "outputs": [
      {
       "metadata": {},
       "output_type": "pyout",
       "prompt_number": 249,
       "text": [
        "array([1000])"
       ]
      }
     ],
     "prompt_number": 249
    },
    {
     "cell_type": "code",
     "collapsed": false,
     "input": [
      "def mutation(population, genotypes, fitness):\n",
      "    mutation_rates = population * U\n",
      "    total_mutations = poisson(mutation_rates,len(mutation_rates))\n",
      "    mutants = []\n",
      "    mutants_fitness = []\n",
      "    for strain,num_mutations in enumerate(total_mutations):\n",
      "        for mutation in range(num_mutations):\n",
      "            parent = genotypes[strain]\n",
      "            mutant = mutate_sequence(parent)            \n",
      "            if mutant in fitness_dict:\n",
      "                mutant_fitness = fitness_dict[mutant]                \n",
      "            else: \n",
      "                mutant_fitness = fitness_dict[parent]\n",
      "                if coin_toss(beta): # beneficial\n",
      "                    mutant_fitness += exponential(sb)\n",
      "                else:\n",
      "                    mutant_fitness -= exponential(sd)\n",
      "                mutant_fitness = max(0, mutant_fitness)\n",
      "                fitness_dict[mutant] = mutant_fitness\n",
      "            mutants.append(mutant)\n",
      "            mutants_fitness.append(mutant_fitness)    \n",
      "        population[strain] -= num_mutations\n",
      "    for i,g in enumerate(mutants):\n",
      "        genotypes[len(population) + i] = g        \n",
      "    population = np.concatenate((population, [1]*len(mutants)))\n",
      "    fitness = np.concatenate((fitness, mutants_fitness))\n",
      "    return population, genotypes, fitness             \n",
      "mutation(population, genotypes, fitness)"
     ],
     "language": "python",
     "metadata": {},
     "outputs": [
      {
       "metadata": {},
       "output_type": "pyout",
       "prompt_number": 250,
       "text": [
        "(array([971,   1,   1,   1,   1,   1,   1,   1,   1,   1,   1,   1,   1,   1,\n",
        "         1,   1,   1,   1,   1,   1,   1,   1,   1,   1,   1,   1,   1,   1,\n",
        "         1,   1]),\n",
        " {0: 'AAAAAAAAAA',\n",
        "  1: 'AATAAAAAAA',\n",
        "  2: 'AAAAAAAATA',\n",
        "  3: 'AAAAAATAAA',\n",
        "  4: 'AAAAAAGAAA',\n",
        "  5: 'AAAAAAAACA',\n",
        "  6: 'AAACAAAAAA',\n",
        "  7: 'AAATAAAAAA',\n",
        "  8: 'ATAAAAAAAA',\n",
        "  9: 'AAACAAAAAA',\n",
        "  10: 'AAAACAAAAA',\n",
        "  11: 'ACAAAAAAAA',\n",
        "  12: 'GAAAAAAAAA',\n",
        "  13: 'AAAAAAAAAC',\n",
        "  14: 'AAACAAAAAA',\n",
        "  15: 'AAAGAAAAAA',\n",
        "  16: 'AAAAAAGAAA',\n",
        "  17: 'AAAAACAAAA',\n",
        "  18: 'AAAAAAAATA',\n",
        "  19: 'AAAAACAAAA',\n",
        "  20: 'TAAAAAAAAA',\n",
        "  21: 'AAAAATAAAA',\n",
        "  22: 'CAAAAAAAAA',\n",
        "  23: 'ATAAAAAAAA',\n",
        "  24: 'AAAAACAAAA',\n",
        "  25: 'AAAAAAACAA',\n",
        "  26: 'AAAAAATAAA',\n",
        "  27: 'AAAAAACAAA',\n",
        "  28: 'ATAAAAAAAA',\n",
        "  29: 'AAAATAAAAA'},\n",
        " array([ 1.   ,  0.991,  0.993,  0.99 ,  0.996,  0.996,  0.98 ,  0.989,  0.988,\n",
        "        0.98 ,  0.999,  0.996,  0.985,  0.985,  0.98 ,  0.988,  0.996,  0.995,\n",
        "        0.993,  0.995,  0.999,  0.999,  0.992,  0.988,  0.995,  0.991,  0.99 ,\n",
        "        0.944,  0.988,  0.988]))"
       ]
      }
     ],
     "prompt_number": 250
    },
    {
     "cell_type": "code",
     "collapsed": false,
     "input": [
      "def clear_extinct(population, genotypes, fitness):\n",
      "    strains = [i for i,n in enumerate(population) if n > 0]\n",
      "    genotypes = [g for i,g in sorted(genotypes.items()) if i in strains]    \n",
      "    genotypes = {i:g for i,g in enumerate(genotypes)}\n",
      "    return population[strains], genotypes, fitness[strains]\n",
      "clear_extinct(population, genotypes, fitness)"
     ],
     "language": "python",
     "metadata": {},
     "outputs": [
      {
       "metadata": {},
       "output_type": "pyout",
       "prompt_number": 251,
       "text": [
        "(array([971]), {0: 'AAAAAAAAAA'}, array([1]))"
       ]
      }
     ],
     "prompt_number": 251
    },
    {
     "cell_type": "code",
     "collapsed": false,
     "input": [
      "genotypes = {0:'A'*g}\n",
      "fitness = array([1])\n",
      "fitness_dict = {genotypes[0]:fitness[0]}\n",
      "population = array([N])"
     ],
     "language": "python",
     "metadata": {},
     "outputs": [],
     "prompt_number": 254
    },
    {
     "cell_type": "code",
     "collapsed": false,
     "input": [
      "for i in range(10001):      \n",
      "    population, genotypes, fitness = mutation(population, genotypes, fitness)\n",
      "    assert population.sum() == N\n",
      "    assert len(population) == len(fitness)\n",
      "    assert len(population) == len(genotypes)\n",
      "    assert (0<=fitness).all()\n",
      "    population = selection_drift(population, fitness)\n",
      "    assert population.sum() == N  \n",
      "    if i % 10 == 0: \n",
      "        population, genotypes, fitness = clear_extinct(population, genotypes, fitness)"
     ],
     "language": "python",
     "metadata": {},
     "outputs": [],
     "prompt_number": 257
    },
    {
     "cell_type": "code",
     "collapsed": false,
     "input": [
      "scatter(fitness, population, alpha=0.3)\n",
      "axvline(x=1, c='k')\n",
      "xlabel(\"fitness\")\n",
      "ylabel(\"frequency\");"
     ],
     "language": "python",
     "metadata": {},
     "outputs": [
      {
       "metadata": {},
       "output_type": "display_data",
       "png": "[encoded data removed]",
       "text": [
        "<matplotlib.figure.Figure at 0x139f6f98>"
       ]
      }
     ],
     "prompt_number": 258
    },
    {
     "cell_type": "code",
     "collapsed": false,
     "input": [],
     "language": "python",
     "metadata": {},
     "outputs": []
    }
   ],
   "metadata": {}
  }
 ]
}