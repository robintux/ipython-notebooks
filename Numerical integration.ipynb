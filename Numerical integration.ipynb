{
 "metadata": {
  "name": ""
 },
 "nbformat": 3,
 "nbformat_minor": 0,
 "worksheets": [
  {
   "cells": [
    {
     "cell_type": "markdown",
     "metadata": {},
     "source": [
      "# Integrating in Python\n",
      "See [reference](http://docs.scipy.org/doc/scipy/reference/tutorial/integrate.html)."
     ]
    },
    {
     "cell_type": "code",
     "collapsed": false,
     "input": [
      "import scipy\n",
      "print \"scipy version:\",scipy.version.version\n",
      "from scipy import integrate\n",
      "import numpy as np\n",
      "from mpltools import style\n",
      "style.use('ggplot')"
     ],
     "language": "python",
     "metadata": {},
     "outputs": [
      {
       "output_type": "stream",
       "stream": "stdout",
       "text": [
        "scipy version: 0.12.0\n"
       ]
      }
     ],
     "prompt_number": 2
    },
    {
     "cell_type": "markdown",
     "metadata": {},
     "source": [
      "# Simple Prey-Predator model"
     ]
    },
    {
     "cell_type": "markdown",
     "metadata": {},
     "source": [
      "Define model parameters:"
     ]
    },
    {
     "cell_type": "code",
     "collapsed": false,
     "input": [
      "a = 2   # prey growth rate\n",
      "b = 1   # prey death by predation\n",
      "c = 0.5 # predator death rate\n",
      "d = 1   # predator growth rate by predation"
     ],
     "language": "python",
     "metadata": {},
     "outputs": [],
     "prompt_number": 3
    },
    {
     "cell_type": "markdown",
     "metadata": {},
     "source": [
      "Classic [Lotka-Volterra](http://en.wikipedia.org/wiki/Lotka%E2%80%93Volterra_equation) equation:"
     ]
    },
    {
     "cell_type": "code",
     "collapsed": false,
     "input": [
      "def func(y, t):\n",
      "    prey, predator = y\n",
      "    d_prey_dt = prey * (a - b * predator)\n",
      "    d_predator_dt = -predator * (c - d * prey)\n",
      "    return [d_prey_dt, d_predator_dt]"
     ],
     "language": "python",
     "metadata": {},
     "outputs": [],
     "prompt_number": 4
    },
    {
     "cell_type": "markdown",
     "metadata": {},
     "source": [
      "Initial conditions:"
     ]
    },
    {
     "cell_type": "code",
     "collapsed": false,
     "input": [
      "y0 = [1,1]"
     ],
     "language": "python",
     "metadata": {},
     "outputs": [],
     "prompt_number": 5
    },
    {
     "cell_type": "code",
     "collapsed": false,
     "input": [
      "t = np.arange(0, 20.0, 0.01)\n",
      "y = integrate.odeint(func, y0, t)"
     ],
     "language": "python",
     "metadata": {},
     "outputs": [],
     "prompt_number": 6
    },
    {
     "cell_type": "code",
     "collapsed": false,
     "input": [
      "plot(t,y)\n",
      "legend(('prey','predator'));"
     ],
     "language": "python",
     "metadata": {},
     "outputs": [
      {
       "metadata": {},
       "output_type": "display_data",
       "png": "[encoded data removed]",
       "text": [
        "<matplotlib.figure.Figure at 0x7da6828>"
       ]
      }
     ],
     "prompt_number": 7
    },
    {
     "cell_type": "markdown",
     "metadata": {},
     "source": [
      "# Pest model"
     ]
    },
    {
     "cell_type": "code",
     "collapsed": false,
     "input": [
      "G_S, G_S_M, G_A, G_A_M, G_B, G_B_M, G_AB, G_AB_M = [0.2]*8\n",
      "gamma = 1e-6 #0.000001\n",
      "T_A, T_B = 0.1,0.2\n",
      "T = T_A + T_B\n",
      "c_S_M = 0\n",
      "c_A, c_B = 0.02,0.02\n",
      "c_A_M, c_B_M = 0.02,0.02\n",
      "c_AB, c_AB_M = 0.02,0.02\n",
      "mu = 5e-3 #0.0000005"
     ],
     "language": "python",
     "metadata": {},
     "outputs": [],
     "prompt_number": 8
    },
    {
     "cell_type": "code",
     "collapsed": false,
     "input": [
      "def func(y, t):\n",
      "    S, S_M, A, A_M, B, B_M, AB, AB_M = y\n",
      "    X     = 1 - y.sum()\n",
      "    dS    = (X * G_S - gamma - T - mu) * S\n",
      "    dS_M  = (X * G_S_M - gamma - c_S_M - T - mu) * S_M\n",
      "    dA    = (X * G_A - gamma - T_B - c_A - mu) * A + mu * S\n",
      "    dA_M  = (X * G_A_M - gamma - T_B - c_A_M - mu) * A_M + mu * S_M\n",
      "    dB    = (X * G_B - gamma - T_A*(t<10) - c_B - mu) * B + mu * S\n",
      "    dB_M  = (X * G_B_M - gamma - T_A - c_B_M - mu) * B_M + mu * S_M\n",
      "    dAB   = (X * G_AB - gamma - c_AB) * AB + mu * A + mu * B\n",
      "    dAB_M = (X * G_AB_M - gamma - c_AB_M) * AB_M + mu * A_M + mu * B_M\n",
      "    return [dS, dS_M, dA, dA_M, dB, dB_M, dAB, dAB_M]"
     ],
     "language": "python",
     "metadata": {},
     "outputs": [],
     "prompt_number": 9
    },
    {
     "cell_type": "code",
     "collapsed": false,
     "input": [
      "%%timeit -n 10\n",
      "y0 = array([0.3,0.0] + [0]*6)\n",
      "t = arange(0,1.0,0.1)\n",
      "\n",
      "y = y0.copy()\n",
      "for i in range(200):\n",
      "    y = integrate.odeint(func, y0, t)\n",
      "    y = y[-1]"
     ],
     "language": "python",
     "metadata": {},
     "outputs": [
      {
       "output_type": "stream",
       "stream": "stdout",
       "text": [
        "10 loops, best of 3: 580 ms per loop\n"
       ]
      }
     ],
     "prompt_number": 10
    },
    {
     "cell_type": "code",
     "collapsed": false,
     "input": [
      "x = 1 - y.sum(axis=1)"
     ],
     "language": "python",
     "metadata": {},
     "outputs": [],
     "prompt_number": 187
    },
    {
     "cell_type": "code",
     "collapsed": false,
     "input": [
      "i = (x < 0.11).argmax()\n",
      "print t[i]\n",
      "if i > 0:\n",
      "    y[i:,:]=[0]*8\n",
      "    x = 1 - y.sum(axis=1)"
     ],
     "language": "python",
     "metadata": {},
     "outputs": [
      {
       "output_type": "stream",
       "stream": "stdout",
       "text": [
        "77.94\n"
       ]
      }
     ],
     "prompt_number": 188
    },
    {
     "cell_type": "code",
     "collapsed": false,
     "input": [
      "plot(t,y)\n",
      "plot(t,x)\n",
      "legend([\"S\", \"S_M\", \"A\", \"A_M\", \"B\", \"B_M\", \"AB\", \"AB_M\", \"X\"])\n",
      "ylim((0,1))\n",
      "xlim((0,200))"
     ],
     "language": "python",
     "metadata": {},
     "outputs": [
      {
       "metadata": {},
       "output_type": "pyout",
       "prompt_number": 184,
       "text": [
        "(0, 200)"
       ]
      },
      {
       "metadata": {},
       "output_type": "display_data",
       "png": "[encoded data removed]",
       "text": [
        "<matplotlib.figure.Figure at 0xa6dc128>"
       ]
      }
     ],
     "prompt_number": 184
    },
    {
     "cell_type": "code",
     "collapsed": false,
     "input": [],
     "language": "python",
     "metadata": {},
     "outputs": []
    }
   ],
   "metadata": {}
  }
 ]
}