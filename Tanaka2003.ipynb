{
 "metadata": {
  "name": "",
  "signature": "sha256:004301d3f1294b3bd8d2eafb2ab2aa2920f273a52cc1bae796c0b654ef2bfbe1"
 },
 "nbformat": 3,
 "nbformat_minor": 0,
 "worksheets": [
  {
   "cells": [
    {
     "cell_type": "markdown",
     "metadata": {},
     "source": [
      "This notebook reproduces the work in [Tanaka et al. 2003](http://www.genetics.org/cgi/content/abstract/164/3/843)."
     ]
    },
    {
     "cell_type": "markdown",
     "metadata": {},
     "source": [
      "## Parameters\n",
      "\n",
      "#### Table 1\n",
      "| symbol  | value       |\n",
      "|---------|-------------|\n",
      "| $n$     | 1e8 or 1e10 |\n",
      "| $m_0$   | 1e5         |\n",
      "| $\\mu_n$ | 5e-9        |\n",
      "| $\\mu_m$ | 4e-7        |\n",
      "| $b$     | 0.1         |\n",
      "| $s$     | 0.002       |"
     ]
    },
    {
     "cell_type": "code",
     "collapsed": false,
     "input": [
      "n = 1e8 # 1e10\n",
      "m0 = 1e5\n",
      "mu_n = 5e-9\n",
      "mu_m = 4e-7\n",
      "b = 0.1\n",
      "s = 0.002"
     ],
     "language": "python",
     "metadata": {},
     "outputs": [],
     "prompt_number": 19
    },
    {
     "cell_type": "markdown",
     "metadata": {},
     "source": [
      "#### Table 2\n",
      "| symbol      | definition                                                                               |\n",
      "|-------------|------------------------------------------------------------------------------------------|\n",
      "| $n$         | # non-mutators                                                                           |\n",
      "| $m(t)$      | # of mutators at time t                                                                  |\n",
      "| $N(t)$      | # evolved non-mutators                                                                   |\n",
      "| $M(t)$      | # evolved mutators                                                                       |\n",
      "| $m_0$       | # mutators initially                                                                     |\n",
      "| $\\mu_n$     | non-mutator mutation rate                                                                |\n",
      "| $\\mu_m$     | mutator mutation rate                                                                    |\n",
      "| $g$         | stregnth of mutator $\\mu_m/\\mu_n$                                                        |\n",
      "| $W$         | waiting time for appearance of evolved non-mutator                                       |\n",
      "| $X$         | waiting time for appearance of evolved mutator                                           |\n",
      "| $b$         | growth rate advantage of evolved strains                                                 |\n",
      "| $s$         | growth rate disadvantage due to mutator accumulating deleterious mutations               |\n",
      "| $t^*$       | time at end of selective sweep                                                           |\n",
      "| $\\tilde{t}$ | $E[t^*]$                                                                                 |\n",
      "| $\\lambda_n$ | rate of appearence of mutation in non-mutators                                           |\n",
      "| $\\lambda_m$ | rate of appearance of mutation in mutators                                               |\n",
      "| $\\tilde{v}$ | time from appearance of evolved mutator that breaks even until selective sweep completes |\n",
      "| $R$         | log gain of frequence made by mutator at end of selective sweep                          |\n",
      "| $J$         | the population size of mutators such that each of the two subpopulations, mutator and nonmutator, has an equal chance of producing the next beneficial mutation. |\n",
      "| $f_n$       | fixation probability of evolved non-mutator                                              |\n",
      "| $f_m$       | fixation probability of evolved mutator                                                  |"
     ]
    },
    {
     "cell_type": "markdown",
     "metadata": {},
     "source": [
      "## Analytic model\n",
      "\n",
      "$$\n",
      "\\lambda_n = n \\mu_n f_n \\;\\;\\; (1) \\\\\n",
      "\\lambda_m = m_e \\mu_m f_m  \\;\\;\\; (2) \\\\\n",
      "f_n = 1-e^{-2b}  \\\\\n",
      "f_m = 1-e^{-2(b-s)}  \\;\\;\\; (4) \\\\\n",
      "m_e = \\frac{m_0 s \\bar{t}}{e^{s \\bar{t}} -1} \\;\\;\\; (10) \\\\\n",
      "\\bar{t} = \\left\\{\\begin{matrix}\n",
      "\\frac{1}{\\lambda_n} + \\frac{\\log{n}}{b}, \\; \\lambda_n < 1 \\\\ \n",
      "\\frac{1}{b} (\\log{(1+\\frac{b}{\\mu_n f_n})} - \\log{(1+b)}), \\; \\lambda_n > 1\n",
      "\\end{matrix}\\right. \\;\\;\\;(11)\n",
      "$$"
     ]
    },
    {
     "cell_type": "code",
     "collapsed": false,
     "input": [
      "lambda_n = lambda n,mu_n,b: n * mu_n * (1 - exp(-2*b))\n",
      "lambda_m = lambda n,m0,mu_n,mu_m,s,b: (m0 * s * t_bar(n,mu_n,s,b) / (exp(s * t_bar(n,mu_n,s,b)) - 1)) * mu_m * (1 - exp(-2*(b-s)))\n",
      "def t_bar(n,mu_n,s,b):\n",
      "    if lambda_n(n,mu_n,b) < 1:\n",
      "        return 1./lambda_n(n,mu_n,b) + log(n)/b\n",
      "    else:\n",
      "        return 1./b * (log(1 + b/(mu_n * (1-exp(-2*b)))) - log(1 + b))\n",
      "print lambda_n(n,mu_n,b)\n",
      "print lambda_m(n,m0,mu_n,mu_m,s,b)"
     ],
     "language": "python",
     "metadata": {},
     "outputs": [
      {
       "output_type": "stream",
       "stream": "stdout",
       "text": [
        "0.090634623461\n",
        "0.00581972963365\n"
       ]
      }
     ],
     "prompt_number": 21
    },
    {
     "cell_type": "markdown",
     "metadata": {},
     "source": [
      "#### Case 1: $\\lambda_n < 1$\n",
      "$$\n",
      "W \\sim exp(\\lambda_n) \\\\\n",
      "X \\sim ex[(\\lambda_m) \\\\\n",
      "m(t) = m_0 e^{-st} \\;\\;\\; (5)\\\\\n",
      "N(t) = \\left\\{\\begin{matrix}\n",
      "e^{b(t-W)}, \\; W \\le t \\\\ \n",
      "0, \\; 0 \\le t < W\n",
      "\\end{matrix}\\right. \\;\\;\\;(6)\\\\\n",
      "M(t) = \\left\\{\\begin{matrix}\n",
      "e^{(b-s)(t-X)}, \\; X \\le t \\\\ \n",
      "0, \\; 0 \\le t < X\n",
      "\\end{matrix}\\right. \\;\\;\\;(7)\n",
      "$$"
     ]
    },
    {
     "cell_type": "markdown",
     "metadata": {},
     "source": [
      "#### Case 2: $\\lambda_n>1$\n",
      "In this case $W=0$ and the following replaces eq. (6):\n",
      "$$\n",
      "N(t) = n \\mu_n f_n (1 + 1/b)e^{bt} - n \\mu_n f_n / b \\;\\;\\;(9)\n",
      "$$\n"
     ]
    },
    {
     "cell_type": "code",
     "collapsed": false,
     "input": [
      "m = lambda m0,s,t: m0 * exp(-s*t)\n",
      "def N(n,mu_n,b,t,W): \n",
      "    _lambda_n = lambda_n(n,mu_n,b)\n",
      "    if _lambda_n > 1:\n",
      "        return _lambda_n * (1 + 1/b) * exp(b*t) - _lambda_n / b\n",
      "    elif W <= t:\n",
      "        return exp(b*(t-W))\n",
      "    else:\n",
      "        return 0.0\n",
      "M = lambda b,s,t,X: exp((b-s)*(t-X)) * (X < t)\n",
      "print m(m0,s,10)\n",
      "print N(n,mu_n,b,10,5)\n",
      "print N(n,mu_n,b,10,15)\n",
      "print M(b,s,10,5)\n",
      "print M(b,s,10,15)"
     ],
     "language": "python",
     "metadata": {},
     "outputs": [
      {
       "output_type": "stream",
       "stream": "stdout",
       "text": [
        "98019.8673307\n",
        "1.6487212707\n",
        "0.0\n",
        "1.63231621996\n",
        "0.0\n"
       ]
      }
     ],
     "prompt_number": 24
    },
    {
     "cell_type": "markdown",
     "metadata": {},
     "source": [
      "$$\n",
      "E[R] = (b-s)[\\bar{t} - (1/\\lambda_m +\\tilde{v})] \\;\\;\\;(12)\\\\\n",
      "\\bar{v} = \\frac{\\log{m_0}}{b-s} \\\\\n",
      "J = \\frac{\\lambda_n (e^{s\\bar{t}} - 1)}{s\\bar{t}\\mu_m f_m} \\\\\n",
      "r_J = \\log{\\frac{\\lambda_n}{\\lambda_m}} \\\\\n",
      "Pr(R>r) = 1-Pr(X>W) e^{-\\lambda_m (\\tilde{w}-\\tilde{v}-r/(b-s))} \\;\\;\\;(13)\\\\\n",
      "Pr(X>W) = \\left\\{\\begin{matrix}\n",
      "\\frac{\\lambda_n}{\\lambda_n + \\lambda_m}, \\; \\lambda_n < 1 \\\\ \n",
      "1, \\; 0 \\le \\lambda_n > 1\n",
      "\\end{matrix}\\right. \\\\\n",
      "\\tilde{w} = \\left\\{\\begin{matrix}\n",
      "\\frac{\\log{n}}{b}, \\; \\lambda_n < 1 \\\\ \n",
      "\\tilde{t}, \\; 0 \\le \\lambda_n < 1\n",
      "\\end{matrix}\\right. \\;\\;\\;(7)\n",
      "$$"
     ]
    },
    {
     "cell_type": "code",
     "collapsed": false,
     "input": [
      "v_bar = lambda m0,b,s: log(m0)/(b-s)\n",
      "ER = lambda n,m0,mu_n,mu_m,s,b: (b-s) * (t_bar(n,mu_n,s,b) - (1./lambda_m(n,m0,mu_n,mu_m,s,b) + v_bar(m0,b,s)))\n",
      "J = lambda n,m0,mu_n,mu_m,s,b: lambda_n(n,mu_n,b) * (exp(s*t_bar(n,mu_n,s,b)) - 1) / (s * t_bar(n,mu_n,s,b) * mu_m * (1-exp(-2*(b-s))))\n",
      "r_J = lambda: log(lambda_n(n,mu_n,b)/lambda_m(n,m0,mu_n,mu_m,s,b))\n",
      "def w_bar(n,mu_n,s,b): \n",
      "    if lambda_n(n,mu_n,b) < 1:\n",
      "        return log(n)/b \n",
      "    else:\n",
      "        return t_bar(n,mu_n,s,b)\n",
      "def Pr_XW(n,m0,mu_n,mu_m,s,b):\n",
      "    _lambda_n = lambda_n(n,mu_n,b)\n",
      "    if _lambda_n < 1:\n",
      "        return _lambda_n / (_lambda_n + lambda_m(n,m0,mu_n,mu_m,s,b))\n",
      "    else:\n",
      "        return 1\n",
      "Pr_Rr = lambda n,m0,mu_n,mu_m,s,b: 1 - Pr_XW(n,m0,mu_n,mu_m,s,b) * exp(-lambda_m(n,m0,mu_n,mu_m,s,b) * (w_bar(n,mu_n,s,b)))\n",
      "\n",
      "print ER(n,m0,mu_n,mu_m,s,b)\n",
      "print \"%.2g\" % J(n,m0,mu_n,mu_m,s,b)\n",
      "print Pr_XW(n,m0,mu_n,mu_m,s,b)\n",
      "print Pr_Rr(n,m0,mu_n,mu_m,s,b)"
     ],
     "language": "python",
     "metadata": {},
     "outputs": [
      {
       "output_type": "stream",
       "stream": "stdout",
       "text": [
        "-9.21866408069\n",
        "1.6e+06\n",
        "0.93966338017\n",
        "0.678342315338\n"
       ]
      }
     ],
     "prompt_number": 33
    },
    {
     "cell_type": "markdown",
     "metadata": {},
     "source": [
      "## Simulation\n"
     ]
    },
    {
     "cell_type": "code",
     "collapsed": false,
     "input": [],
     "language": "python",
     "metadata": {},
     "outputs": []
    }
   ],
   "metadata": {}
  }
 ]
}