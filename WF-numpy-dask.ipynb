{
 "cells": [
  {
   "cell_type": "code",
   "execution_count": 9,
   "metadata": {
    "collapsed": false
   },
   "outputs": [
    {
     "name": "stderr",
     "output_type": "stream",
     "text": [
      "D:\\Anaconda3\\envs\\py35\\lib\\site-packages\\IPython\\html.py:14: ShimWarning: The `IPython.html` package has been deprecated. You should import from `notebook` instead. `IPython.html.widgets` has moved to `ipywidgets`.\n",
      "  \"`IPython.html.widgets` has moved to `ipywidgets`.\", ShimWarning)\n"
     ]
    }
   ],
   "source": [
    "%matplotlib inline\n",
    "import sys\n",
    "import matplotlib as mpl\n",
    "import matplotlib.pyplot as plt\n",
    "import numpy as np\n",
    "import scipy.stats as st\n",
    "import seaborn as sns\n",
    "sns.set(style='white', context='notebook', palette=\"muted\")"
   ]
  },
  {
   "cell_type": "code",
   "execution_count": 15,
   "metadata": {
    "collapsed": false
   },
   "outputs": [],
   "source": [
    "def plot_matrix(M, cmap='viridis', norm=mpl.colors.LogNorm()):\n",
    "    plt.matshow(M, cmap=cmap, norm=norm)\n",
    "    plt.xticks([])\n",
    "    plt.yticks([])"
   ]
  },
  {
   "cell_type": "markdown",
   "metadata": {},
   "source": [
    "# Efficient evolutionary simulations"
   ]
  },
  {
   "cell_type": "markdown",
   "metadata": {},
   "source": [
    "## NumPy"
   ]
  },
  {
   "cell_type": "code",
   "execution_count": 16,
   "metadata": {
    "collapsed": true
   },
   "outputs": [],
   "source": [
    "L = 50  # number of genes\n",
    "N = 1000000  # population size\n",
    "U = 1e-4  # mutation rate\n",
    "s = 0.01  # selection coefficient"
   ]
  },
  {
   "cell_type": "code",
   "execution_count": 17,
   "metadata": {
    "collapsed": false
   },
   "outputs": [
    {
     "data": {
      "image/png": "[encoded data removed]",
      "text/plain": [
       "<matplotlib.figure.Figure at 0x9945668>"
      ]
     },
     "metadata": {},
     "output_type": "display_data"
    }
   ],
   "source": [
    "def mutation_matrix(N, U, s, L):\n",
    "    rv = st.poisson(U)\n",
    "    m = rv.pmf(np.arange(L))\n",
    "    M = np.zeros((L, L))\n",
    "    for i in range(L):\n",
    "        M[i:, i] = m[:L-i]\n",
    "    for i in range(-L + 1, L):\n",
    "        assert (M.diagonal(i) == M.diagonal(i)[0]).all()\n",
    "    M[np.diag_indices(L)] += 1 - M.sum(axis=0)\n",
    "    assert (M.sum(axis=0) == 1).all()\n",
    "    return M\n",
    "\n",
    "M = mutation_matrix(N, U, s, L)\n",
    "plot_matrix(M)"
   ]
  },
  {
   "cell_type": "code",
   "execution_count": 18,
   "metadata": {
    "collapsed": false
   },
   "outputs": [
    {
     "data": {
      "image/png": "[encoded data removed]",
      "text/plain": [
       "<matplotlib.figure.Figure at 0x9941b00>"
      ]
     },
     "metadata": {},
     "output_type": "display_data"
    }
   ],
   "source": [
    "def selection_matrix(N, U, s, L):\n",
    "    w = (1 - s)**np.arange(L)\n",
    "    S = np.diag(w)\n",
    "    return S\n",
    "\n",
    "S = selection_matrix(N, U, s, L)\n",
    "plot_matrix(S)"
   ]
  },
  {
   "cell_type": "code",
   "execution_count": 19,
   "metadata": {
    "collapsed": false
   },
   "outputs": [
    {
     "data": {
      "image/png": "[encoded data removed]",
      "text/plain": [
       "<matplotlib.figure.Figure at 0xacfe908>"
      ]
     },
     "metadata": {},
     "output_type": "display_data"
    }
   ],
   "source": [
    "E = M @ S\n",
    "assert E.shape == (L, L)\n",
    "plot_matrix(E)"
   ]
  },
  {
   "cell_type": "code",
   "execution_count": 20,
   "metadata": {
    "collapsed": true
   },
   "outputs": [],
   "source": [
    "def simulation(N, U, s, L, generations=1000):\n",
    "    M = mutation_matrix(N, U, s, L)\n",
    "    S = selection_matrix(N, U, s, L)\n",
    "    E = M @ S\n",
    "\n",
    "    # population frequency vector vs time\n",
    "    p = np.empty((L, generations), dtype=float)\n",
    "    p[:, 0] = 0\n",
    "    p[0, 0] = 1\n",
    "    # mean fitness vs time\n",
    "    W = np.empty(generations, dtype=float)\n",
    "    W[0] = S.diagonal() @ p[:, 0]\n",
    "\n",
    "    for t in range(1, generations):\n",
    "        # mutation and selection\n",
    "        p[:, t] = E @ p[:, t-1]\n",
    "        p[:, t] /= p[:, t].sum()\n",
    "        # drift\n",
    "        if  N > 0:\n",
    "            p[:, t] = np.random.multinomial(N, p[:, t]) / N\n",
    "        # calculate mean fitness\n",
    "        W[t] = S.diagonal() @ p[:, t]\n",
    "    return p, W\n",
    "\n",
    "p, W = simulation(N, U, s, L, generations=1000)"
   ]
  },
  {
   "cell_type": "code",
   "execution_count": 21,
   "metadata": {
    "collapsed": false
   },
   "outputs": [
    {
     "data": {
      "image/png": "[encoded data removed]",
      "text/plain": [
       "<matplotlib.figure.Figure at 0xad344e0>"
      ]
     },
     "metadata": {},
     "output_type": "display_data"
    }
   ],
   "source": [
    "def simulation_plot(N, U, s, L, p, W, max_genotype=5):\n",
    "    fig, ax = plt.subplots(2, 1, figsize=(8, 8), sharex=True)\n",
    "    ax[0].plot(W)\n",
    "    ax[0].axhline(1-U, color='k', alpha=0.5)\n",
    "    ax[0].set(\n",
    "        ylabel='Population mean fitness',\n",
    "        ylim=(1 - 1.5 * U, 1)\n",
    "    )\n",
    "    \n",
    "    ax[1].plot(p[:max_genotype,:].T);\n",
    "    ax[1].set(\n",
    "        yscale='log',\n",
    "        ylim=(1e-10, 10),\n",
    "        xlabel='Time',\n",
    "        ylabel='Frequency'\n",
    "    )\n",
    "    ax[1].legend(np.arange(max_genotype), title='# mutations', loc='lower right', frameon=True, framealpha=0.8)\n",
    "\n",
    "    \n",
    "    sns.despine()\n",
    "    return fig, ax\n",
    "\n",
    "simulation_plot(N, U, s, L, p, W);"
   ]
  },
  {
   "cell_type": "code",
   "execution_count": 133,
   "metadata": {
    "collapsed": false
   },
   "outputs": [
    {
     "name": "stdout",
     "output_type": "stream",
     "text": [
      "1 loop, best of 3: 835 ms per loop\n",
      "1 loop, best of 3: 818 ms per loop\n",
      "1 loop, best of 3: 813 ms per loop\n"
     ]
    }
   ],
   "source": [
    "%timeit simulation(1000000, U, s, 100, generations=10000)\n",
    "%timeit simulation(10000000, U, s, 100, generations=10000)\n",
    "%timeit simulation(100000000, U, s, 100, generations=10000)"
   ]
  },
  {
   "cell_type": "code",
   "execution_count": 135,
   "metadata": {
    "collapsed": false
   },
   "outputs": [
    {
     "name": "stdout",
     "output_type": "stream",
     "text": [
      "1 loop, best of 3: 11.7 s per loop\n"
     ]
    }
   ],
   "source": [
    "%timeit -n 1 -r 3 simulation(10000000, U, s, 1000, generations=10000)"
   ]
  },
  {
   "cell_type": "markdown",
   "metadata": {},
   "source": [
    "A larger value of L - 10,000 - doesn't work, as the generated matrix is too big."
   ]
  },
  {
   "cell_type": "code",
   "execution_count": 16,
   "metadata": {
    "collapsed": false
   },
   "outputs": [
    {
     "name": "stdout",
     "output_type": "stream",
     "text": [
      "Size of M: 8.00 MB\n"
     ]
    }
   ],
   "source": [
    "M = mutation_matrix(N, U, s, 1000)\n",
    "print(\"Size of M: {:.2f} MB\".format(sys.getsizeof(M) / 1000000))"
   ]
  },
  {
   "cell_type": "code",
   "execution_count": 17,
   "metadata": {
    "collapsed": false
   },
   "outputs": [
    {
     "name": "stdout",
     "output_type": "stream",
     "text": [
      "Size of M: 800.00 MB\n"
     ]
    }
   ],
   "source": [
    "M = mutation_matrix(N, U, s, 10000)\n",
    "print(\"Size of M: {:.2f} MB\".format(sys.getsizeof(M) / 1000000))"
   ]
  },
  {
   "cell_type": "code",
   "execution_count": 35,
   "metadata": {
    "collapsed": false
   },
   "outputs": [
    {
     "name": "stdout",
     "output_type": "stream",
     "text": [
      "Size of M: 3200.00 MB\n"
     ]
    }
   ],
   "source": [
    "M = mutation_matrix(N, U, s, 20000)\n",
    "print(\"Size of M: {:.2f} MB\".format(sys.getsizeof(M) / 1000000))"
   ]
  },
  {
   "cell_type": "code",
   "execution_count": 36,
   "metadata": {
    "collapsed": true
   },
   "outputs": [],
   "source": [
    "del M\n",
    "del p\n",
    "del W\n",
    "del E\n",
    "del S"
   ]
  },
  {
   "cell_type": "markdown",
   "metadata": {},
   "source": [
    "## Dask\n",
    "\n",
    "https://github.com/dask/dask-tutorial/blob/master/01-Array.ipynb"
   ]
  },
  {
   "cell_type": "code",
   "execution_count": 22,
   "metadata": {
    "collapsed": true
   },
   "outputs": [],
   "source": [
    "import dask.array as da"
   ]
  },
  {
   "cell_type": "code",
   "execution_count": 45,
   "metadata": {
    "collapsed": false
   },
   "outputs": [
    {
     "name": "stdout",
     "output_type": "stream",
     "text": [
      "Size of M: 800.00 MB\n"
     ]
    }
   ],
   "source": [
    "M = mutation_matrix(N, U, s, 10000)\n",
    "print(\"Size of M: {:.2f} MB\".format(sys.getsizeof(M) / 1000000))\n",
    "Md = da.from_array(M, chunks=(1000, 1000))"
   ]
  },
  {
   "cell_type": "code",
   "execution_count": 46,
   "metadata": {
    "collapsed": false
   },
   "outputs": [
    {
     "name": "stdout",
     "output_type": "stream",
     "text": [
      "Size of M: 800.00 MB\n",
      "Size of M: 0.00 MB\n"
     ]
    }
   ],
   "source": [
    "print(\"Size of M: {:.2f} MB\".format(sys.getsizeof(M) / 1000000))\n",
    "print(\"Size of M: {:.2f} MB\".format(sys.getsizeof(Md) / 1000000))"
   ]
  },
  {
   "cell_type": "code",
   "execution_count": 47,
   "metadata": {
    "collapsed": false
   },
   "outputs": [
    {
     "name": "stdout",
     "output_type": "stream",
     "text": [
      "10 loops, best of 3: 130 ms per loop\n",
      "10 loops, best of 3: 169 ms per loop\n"
     ]
    }
   ],
   "source": [
    "%timeit (M.sum(axis=0) == 1).all()\n",
    "%timeit (Md.sum(axis=0) == 1).all().compute()"
   ]
  },
  {
   "cell_type": "code",
   "execution_count": 119,
   "metadata": {
    "collapsed": false
   },
   "outputs": [],
   "source": [
    "from dask.utils import different_seeds\n",
    "from itertools import product\n",
    "from dask.base import tokenize\n",
    "Array = da.Array\n",
    "normalize_chunks = da.core.normalize_chunks\n",
    "\n",
    "def _apply_random(func, seed, size, args, kwargs):\n",
    "    \"\"\" Apply RandomState method with seed\n",
    "    >>> _apply_random('normal', 123, 3, (10, 1.0), {})\n",
    "    array([  8.9143694 ,  10.99734545,  10.2829785 ])\n",
    "    \"\"\"\n",
    "    state = np.random.RandomState(seed)\n",
    "    func = getattr(state, func)\n",
    "    return func(*args, size=size, **kwargs)\n",
    "\n",
    "class RandomState(object):\n",
    "   \n",
    "    def __init__(self, seed=None):\n",
    "        self._numpy_state = np.random.RandomState(seed)\n",
    "\n",
    "    def seed(self, seed=None):\n",
    "        self._numpy_state.seed(seed)\n",
    "\n",
    "    def _wrap(self, func, *args, **kwargs):\n",
    "        size = kwargs.pop('size')\n",
    "        chunks = kwargs.pop('chunks')\n",
    "\n",
    "        if not isinstance(size, (tuple, list)):\n",
    "            size = (size,)\n",
    "\n",
    "        chunks = normalize_chunks(chunks, size)\n",
    "\n",
    "        # Get dtype\n",
    "        kw = kwargs.copy()\n",
    "        kw['size'] = (0,)\n",
    "        dtype = func(np.random.RandomState(), *args, **kw).dtype\n",
    "\n",
    "        # Build graph\n",
    "        sizes = list(product(*chunks))\n",
    "        seeds = different_seeds(len(sizes), self._numpy_state)\n",
    "        token = tokenize(seeds, size, chunks, args, kwargs)\n",
    "        name = 'da.random.{0}-{1}'.format(func.__name__, token)\n",
    "        keys = product([name], *[range(len(bd)) for bd in chunks])\n",
    "        vals = ((_apply_random, func.__name__, seed, size, args, kwargs)\n",
    "                for seed, size in zip(seeds, sizes))\n",
    "        dsk = dict(zip(keys, vals))\n",
    "\n",
    "        return Array(dsk, name, chunks, dtype=dtype)\n",
    "\n",
    "    def multinomial(self, n, p, size=1, chunks=None):\n",
    "        return self._wrap(np.random.RandomState.multinomial, n, p,\n",
    "                         size=size, chunks=chunks)"
   ]
  },
  {
   "cell_type": "code",
   "execution_count": 120,
   "metadata": {
    "collapsed": false
   },
   "outputs": [],
   "source": [
    "rs = RandomState()\n",
    "p = np.array([1/10000]*10000)\n",
    "x = rs.multinomial(100, p, chunks=(1000,))"
   ]
  },
  {
   "cell_type": "code",
   "execution_count": 121,
   "metadata": {
    "collapsed": false
   },
   "outputs": [
    {
     "data": {
      "text/plain": [
       "array([100])"
      ]
     },
     "execution_count": 121,
     "metadata": {},
     "output_type": "execute_result"
    }
   ],
   "source": [
    "x.sum(axis=1).compute()"
   ]
  },
  {
   "cell_type": "code",
   "execution_count": 23,
   "metadata": {
    "collapsed": true
   },
   "outputs": [],
   "source": [
    "L = 50  # number of genes\n",
    "N = 1000000  # population size\n",
    "U = 1e-4  # mutation rate\n",
    "s = 0.01  # selection coefficient"
   ]
  },
  {
   "cell_type": "code",
   "execution_count": 24,
   "metadata": {
    "collapsed": true
   },
   "outputs": [],
   "source": [
    "def simulation_da(N, U, s, L, generations=1000, chunk_size=100):\n",
    "    print(\"Init...\")\n",
    "    M = da.from_array(mutation_matrix(N, U, s, L), chunks=(chunk_size, chunk_size))\n",
    "    S = selection_matrix(N, U, s, L)\n",
    "    w = da.from_array(S.diagonal(), chunks=(chunk_size,))\n",
    "    S = da.from_array(S, chunks=(chunk_size, chunk_size))\n",
    "    E = M.dot(S)\n",
    "\n",
    "    # population frequency vector vs time    \n",
    "    p = np.zeros(L)\n",
    "    p[0] = 1\n",
    "    p = da.from_array(p, chunks=(chunk_size,))   \n",
    "                       \n",
    "    # mean fitness vs time\n",
    "    W = [None] * generations\n",
    "    W[0] = w.dot(p)\n",
    "    \n",
    "    print(\"Start...\")\n",
    "    for t in range(1, generations):\n",
    "        # mutation and selection\n",
    "        p = E.dot(p)\n",
    "        p /= p.sum()\n",
    "        # drift\n",
    "        if  N > 0:\n",
    "            p = rs.multinomial(N, p, chunks=(chunk_size,)) / N            \n",
    "        # calculate mean fitness\n",
    "        W[t] = w.dot(p)\n",
    "    print(\"Finished\")\n",
    "    return W"
   ]
  },
  {
   "cell_type": "code",
   "execution_count": 25,
   "metadata": {
    "collapsed": false
   },
   "outputs": [
    {
     "name": "stdout",
     "output_type": "stream",
     "text": [
      "Init...\n",
      "Start...\n"
     ]
    },
    {
     "ename": "KeyboardInterrupt",
     "evalue": "",
     "output_type": "error",
     "traceback": [
      "\u001b[1;31m---------------------------------------------------------------------------\u001b[0m",
      "\u001b[1;31mKeyboardInterrupt\u001b[0m                         Traceback (most recent call last)",
      "\u001b[1;32m<ipython-input-25-db399fafaa90>\u001b[0m in \u001b[0;36m<module>\u001b[1;34m()\u001b[0m\n\u001b[1;32m----> 1\u001b[1;33m \u001b[0mW\u001b[0m \u001b[1;33m=\u001b[0m \u001b[0msimulation_da\u001b[0m\u001b[1;33m(\u001b[0m\u001b[1;36m0\u001b[0m\u001b[1;33m,\u001b[0m \u001b[0mU\u001b[0m\u001b[1;33m,\u001b[0m \u001b[0ms\u001b[0m\u001b[1;33m,\u001b[0m \u001b[1;36m50\u001b[0m\u001b[1;33m,\u001b[0m \u001b[0mgenerations\u001b[0m\u001b[1;33m=\u001b[0m\u001b[1;36m1000\u001b[0m\u001b[1;33m,\u001b[0m \u001b[0mchunk_size\u001b[0m\u001b[1;33m=\u001b[0m\u001b[1;36m10\u001b[0m\u001b[1;33m)\u001b[0m\u001b[1;33m\u001b[0m\u001b[0m\n\u001b[0m\u001b[0;32m      2\u001b[0m \u001b[0mW_\u001b[0m \u001b[1;33m=\u001b[0m \u001b[0mda\u001b[0m\u001b[1;33m.\u001b[0m\u001b[0mcompute\u001b[0m\u001b[1;33m(\u001b[0m\u001b[1;33m*\u001b[0m\u001b[0mW\u001b[0m\u001b[1;33m)\u001b[0m\u001b[1;33m\u001b[0m\u001b[0m\n\u001b[0;32m      3\u001b[0m \u001b[0mplt\u001b[0m\u001b[1;33m.\u001b[0m\u001b[0mplot\u001b[0m\u001b[1;33m(\u001b[0m\u001b[0mW_\u001b[0m\u001b[1;33m)\u001b[0m\u001b[1;33m;\u001b[0m\u001b[1;33m\u001b[0m\u001b[0m\n",
      "\u001b[1;32m<ipython-input-24-0e26d2c2d8da>\u001b[0m in \u001b[0;36msimulation_da\u001b[1;34m(N, U, s, L, generations, chunk_size)\u001b[0m\n\u001b[0;32m     20\u001b[0m         \u001b[1;31m# mutation and selection\u001b[0m\u001b[1;33m\u001b[0m\u001b[1;33m\u001b[0m\u001b[0m\n\u001b[0;32m     21\u001b[0m         \u001b[0mp\u001b[0m \u001b[1;33m=\u001b[0m \u001b[0mE\u001b[0m\u001b[1;33m.\u001b[0m\u001b[0mdot\u001b[0m\u001b[1;33m(\u001b[0m\u001b[0mp\u001b[0m\u001b[1;33m)\u001b[0m\u001b[1;33m\u001b[0m\u001b[0m\n\u001b[1;32m---> 22\u001b[1;33m         \u001b[0mp\u001b[0m \u001b[1;33m/=\u001b[0m \u001b[0mp\u001b[0m\u001b[1;33m.\u001b[0m\u001b[0msum\u001b[0m\u001b[1;33m(\u001b[0m\u001b[1;33m)\u001b[0m\u001b[1;33m\u001b[0m\u001b[0m\n\u001b[0m\u001b[0;32m     23\u001b[0m         \u001b[1;31m# drift\u001b[0m\u001b[1;33m\u001b[0m\u001b[1;33m\u001b[0m\u001b[0m\n\u001b[0;32m     24\u001b[0m         \u001b[1;32mif\u001b[0m  \u001b[0mN\u001b[0m \u001b[1;33m>\u001b[0m \u001b[1;36m0\u001b[0m\u001b[1;33m:\u001b[0m\u001b[1;33m\u001b[0m\u001b[0m\n",
      "\u001b[1;32mD:\\Anaconda3\\envs\\py35\\lib\\site-packages\\dask\\array\\core.py\u001b[0m in \u001b[0;36msum\u001b[1;34m(self, axis, dtype, keepdims, split_every)\u001b[0m\n\u001b[0;32m   1172\u001b[0m         \u001b[1;32mfrom\u001b[0m \u001b[1;33m.\u001b[0m\u001b[0mreductions\u001b[0m \u001b[1;32mimport\u001b[0m \u001b[0msum\u001b[0m\u001b[1;33m\u001b[0m\u001b[0m\n\u001b[0;32m   1173\u001b[0m         return sum(self, axis=axis, dtype=dtype, keepdims=keepdims,\n\u001b[1;32m-> 1174\u001b[1;33m                    split_every=split_every)\n\u001b[0m\u001b[0;32m   1175\u001b[0m \u001b[1;33m\u001b[0m\u001b[0m\n\u001b[0;32m   1176\u001b[0m     \u001b[1;33m@\u001b[0m\u001b[0mwraps\u001b[0m\u001b[1;33m(\u001b[0m\u001b[0mnp\u001b[0m\u001b[1;33m.\u001b[0m\u001b[0mprod\u001b[0m\u001b[1;33m)\u001b[0m\u001b[1;33m\u001b[0m\u001b[0m\n",
      "\u001b[1;32mD:\\Anaconda3\\envs\\py35\\lib\\site-packages\\dask\\array\\reductions.py\u001b[0m in \u001b[0;36msum\u001b[1;34m(a, axis, dtype, keepdims, split_every)\u001b[0m\n\u001b[0;32m    125\u001b[0m         \u001b[0mdt\u001b[0m \u001b[1;33m=\u001b[0m \u001b[1;32mNone\u001b[0m\u001b[1;33m\u001b[0m\u001b[0m\n\u001b[0;32m    126\u001b[0m     return reduction(a, chunk.sum, chunk.sum, axis=axis, keepdims=keepdims,\n\u001b[1;32m--> 127\u001b[1;33m                      dtype=dt, split_every=split_every)\n\u001b[0m\u001b[0;32m    128\u001b[0m \u001b[1;33m\u001b[0m\u001b[0m\n\u001b[0;32m    129\u001b[0m \u001b[1;33m\u001b[0m\u001b[0m\n",
      "\u001b[1;32mD:\\Anaconda3\\envs\\py35\\lib\\site-packages\\dask\\array\\reductions.py\u001b[0m in \u001b[0;36mreduction\u001b[1;34m(x, chunk, aggregate, axis, keepdims, dtype, split_every, combine, name)\u001b[0m\n\u001b[0;32m     37\u001b[0m     \u001b[1;31m# Map chunk across all blocks\u001b[0m\u001b[1;33m\u001b[0m\u001b[1;33m\u001b[0m\u001b[0m\n\u001b[0;32m     38\u001b[0m     \u001b[0minds\u001b[0m \u001b[1;33m=\u001b[0m \u001b[0mtuple\u001b[0m\u001b[1;33m(\u001b[0m\u001b[0mrange\u001b[0m\u001b[1;33m(\u001b[0m\u001b[0mx\u001b[0m\u001b[1;33m.\u001b[0m\u001b[0mndim\u001b[0m\u001b[1;33m)\u001b[0m\u001b[1;33m)\u001b[0m\u001b[1;33m\u001b[0m\u001b[0m\n\u001b[1;32m---> 39\u001b[1;33m     \u001b[0mtmp\u001b[0m \u001b[1;33m=\u001b[0m \u001b[0matop\u001b[0m\u001b[1;33m(\u001b[0m\u001b[0mpartial\u001b[0m\u001b[1;33m(\u001b[0m\u001b[0mchunk\u001b[0m\u001b[1;33m,\u001b[0m \u001b[0maxis\u001b[0m\u001b[1;33m=\u001b[0m\u001b[0maxis\u001b[0m\u001b[1;33m,\u001b[0m \u001b[0mkeepdims\u001b[0m\u001b[1;33m=\u001b[0m\u001b[1;32mTrue\u001b[0m\u001b[1;33m)\u001b[0m\u001b[1;33m,\u001b[0m \u001b[0minds\u001b[0m\u001b[1;33m,\u001b[0m \u001b[0mx\u001b[0m\u001b[1;33m,\u001b[0m \u001b[0minds\u001b[0m\u001b[1;33m)\u001b[0m\u001b[1;33m\u001b[0m\u001b[0m\n\u001b[0m\u001b[0;32m     40\u001b[0m     tmp._chunks = tuple((1,)*len(c) if i in axis else c for (i, c)\n\u001b[0;32m     41\u001b[0m                         in enumerate(tmp.chunks))\n",
      "\u001b[1;32mD:\\Anaconda3\\envs\\py35\\lib\\site-packages\\dask\\array\\core.py\u001b[0m in \u001b[0;36matop\u001b[1;34m(func, out_ind, *args, **kwargs)\u001b[0m\n\u001b[0;32m   1672\u001b[0m     \u001b[0mchunks\u001b[0m \u001b[1;33m=\u001b[0m \u001b[0mtuple\u001b[0m\u001b[1;33m(\u001b[0m\u001b[0mchunkss\u001b[0m\u001b[1;33m[\u001b[0m\u001b[0mi\u001b[0m\u001b[1;33m]\u001b[0m \u001b[1;32mfor\u001b[0m \u001b[0mi\u001b[0m \u001b[1;32min\u001b[0m \u001b[0mout_ind\u001b[0m\u001b[1;33m)\u001b[0m\u001b[1;33m\u001b[0m\u001b[0m\n\u001b[0;32m   1673\u001b[0m \u001b[1;33m\u001b[0m\u001b[0m\n\u001b[1;32m-> 1674\u001b[1;33m     \u001b[1;32mreturn\u001b[0m \u001b[0mArray\u001b[0m\u001b[1;33m(\u001b[0m\u001b[0mmerge\u001b[0m\u001b[1;33m(\u001b[0m\u001b[0mdsk\u001b[0m\u001b[1;33m,\u001b[0m \u001b[1;33m*\u001b[0m\u001b[0mdsks\u001b[0m\u001b[1;33m)\u001b[0m\u001b[1;33m,\u001b[0m \u001b[0mout\u001b[0m\u001b[1;33m,\u001b[0m \u001b[0mchunks\u001b[0m\u001b[1;33m,\u001b[0m \u001b[0mdtype\u001b[0m\u001b[1;33m=\u001b[0m\u001b[0mdtype\u001b[0m\u001b[1;33m)\u001b[0m\u001b[1;33m\u001b[0m\u001b[0m\n\u001b[0m\u001b[0;32m   1675\u001b[0m \u001b[1;33m\u001b[0m\u001b[0m\n\u001b[0;32m   1676\u001b[0m \u001b[1;33m\u001b[0m\u001b[0m\n",
      "\u001b[1;32mD:\\Anaconda3\\envs\\py35\\lib\\site-packages\\toolz\\functoolz.py\u001b[0m in \u001b[0;36m__call__\u001b[1;34m(self, *args, **kwargs)\u001b[0m\n\u001b[0;32m    217\u001b[0m     \u001b[1;32mdef\u001b[0m \u001b[0m__call__\u001b[0m\u001b[1;33m(\u001b[0m\u001b[0mself\u001b[0m\u001b[1;33m,\u001b[0m \u001b[1;33m*\u001b[0m\u001b[0margs\u001b[0m\u001b[1;33m,\u001b[0m \u001b[1;33m**\u001b[0m\u001b[0mkwargs\u001b[0m\u001b[1;33m)\u001b[0m\u001b[1;33m:\u001b[0m\u001b[1;33m\u001b[0m\u001b[0m\n\u001b[0;32m    218\u001b[0m         \u001b[1;32mtry\u001b[0m\u001b[1;33m:\u001b[0m\u001b[1;33m\u001b[0m\u001b[0m\n\u001b[1;32m--> 219\u001b[1;33m             \u001b[1;32mreturn\u001b[0m \u001b[0mself\u001b[0m\u001b[1;33m.\u001b[0m\u001b[0m_partial\u001b[0m\u001b[1;33m(\u001b[0m\u001b[1;33m*\u001b[0m\u001b[0margs\u001b[0m\u001b[1;33m,\u001b[0m \u001b[1;33m**\u001b[0m\u001b[0mkwargs\u001b[0m\u001b[1;33m)\u001b[0m\u001b[1;33m\u001b[0m\u001b[0m\n\u001b[0m\u001b[0;32m    220\u001b[0m         \u001b[1;32mexcept\u001b[0m \u001b[0mTypeError\u001b[0m\u001b[1;33m:\u001b[0m\u001b[1;33m\u001b[0m\u001b[0m\n\u001b[0;32m    221\u001b[0m             \u001b[1;31m# If there was a genuine TypeError\u001b[0m\u001b[1;33m\u001b[0m\u001b[1;33m\u001b[0m\u001b[0m\n",
      "\u001b[1;32mD:\\Anaconda3\\envs\\py35\\lib\\site-packages\\toolz\\curried\\exceptions.py\u001b[0m in \u001b[0;36mmerge\u001b[1;34m(*dicts, **kwargs)\u001b[0m\n\u001b[0;32m     18\u001b[0m         \u001b[1;32mraise\u001b[0m \u001b[0mTypeError\u001b[0m\u001b[1;33m(\u001b[0m\u001b[1;33m)\u001b[0m\u001b[1;33m\u001b[0m\u001b[0m\n\u001b[0;32m     19\u001b[0m     \u001b[1;32melse\u001b[0m\u001b[1;33m:\u001b[0m\u001b[1;33m\u001b[0m\u001b[0m\n\u001b[1;32m---> 20\u001b[1;33m         \u001b[1;32mreturn\u001b[0m \u001b[0mtoolz\u001b[0m\u001b[1;33m.\u001b[0m\u001b[0mmerge\u001b[0m\u001b[1;33m(\u001b[0m\u001b[1;33m*\u001b[0m\u001b[0mdicts\u001b[0m\u001b[1;33m,\u001b[0m \u001b[1;33m**\u001b[0m\u001b[0mkwargs\u001b[0m\u001b[1;33m)\u001b[0m\u001b[1;33m\u001b[0m\u001b[0m\n\u001b[0m\u001b[0;32m     21\u001b[0m \u001b[1;33m\u001b[0m\u001b[0m\n\u001b[0;32m     22\u001b[0m \u001b[0mmerge_with\u001b[0m\u001b[1;33m.\u001b[0m\u001b[0m__doc__\u001b[0m \u001b[1;33m=\u001b[0m \u001b[0mtoolz\u001b[0m\u001b[1;33m.\u001b[0m\u001b[0mmerge_with\u001b[0m\u001b[1;33m.\u001b[0m\u001b[0m__doc__\u001b[0m\u001b[1;33m\u001b[0m\u001b[0m\n",
      "\u001b[1;32mD:\\Anaconda3\\envs\\py35\\lib\\site-packages\\toolz\\dicttoolz.py\u001b[0m in \u001b[0;36mmerge\u001b[1;34m(*dicts, **kwargs)\u001b[0m\n\u001b[0;32m     37\u001b[0m     \u001b[0mrv\u001b[0m \u001b[1;33m=\u001b[0m \u001b[0mfactory\u001b[0m\u001b[1;33m(\u001b[0m\u001b[1;33m)\u001b[0m\u001b[1;33m\u001b[0m\u001b[0m\n\u001b[0;32m     38\u001b[0m     \u001b[1;32mfor\u001b[0m \u001b[0md\u001b[0m \u001b[1;32min\u001b[0m \u001b[0mdicts\u001b[0m\u001b[1;33m:\u001b[0m\u001b[1;33m\u001b[0m\u001b[0m\n\u001b[1;32m---> 39\u001b[1;33m         \u001b[0mrv\u001b[0m\u001b[1;33m.\u001b[0m\u001b[0mupdate\u001b[0m\u001b[1;33m(\u001b[0m\u001b[0md\u001b[0m\u001b[1;33m)\u001b[0m\u001b[1;33m\u001b[0m\u001b[0m\n\u001b[0m\u001b[0;32m     40\u001b[0m     \u001b[1;32mreturn\u001b[0m \u001b[0mrv\u001b[0m\u001b[1;33m\u001b[0m\u001b[0m\n\u001b[0;32m     41\u001b[0m \u001b[1;33m\u001b[0m\u001b[0m\n",
      "\u001b[1;31mKeyboardInterrupt\u001b[0m: "
     ]
    }
   ],
   "source": [
    "W = simulation_da(0, U, s, 50, generations=1000, chunk_size=10)\n",
    "W_ = da.compute(*W)\n",
    "plt.plot(W_);"
   ]
  },
  {
   "cell_type": "code",
   "execution_count": 148,
   "metadata": {
    "collapsed": false
   },
   "outputs": [
    {
     "name": "stdout",
     "output_type": "stream",
     "text": [
      "1 loop, best of 1: 153 ms per loop\n"
     ]
    },
    {
     "data": {
      "image/png": "[encoded data removed]",
      "text/plain": [
       "<matplotlib.figure.Figure at 0x1c706470>"
      ]
     },
     "metadata": {},
     "output_type": "display_data"
    }
   ],
   "source": [
    "%%timeit -n 1 -r 1\n",
    "W = simulation(0, U, s, 50, generations=1000)[1]\n",
    "plt.plot(W);"
   ]
  },
  {
   "cell_type": "code",
   "execution_count": null,
   "metadata": {
    "collapsed": true
   },
   "outputs": [],
   "source": []
  }
 ],
 "metadata": {
  "kernelspec": {
   "display_name": "Python 3.5",
   "language": "python",
   "name": "py35"
  },
  "language_info": {
   "codemirror_mode": {
    "name": "ipython",
    "version": 3
   },
   "file_extension": ".py",
   "mimetype": "text/x-python",
   "name": "python",
   "nbconvert_exporter": "python",
   "pygments_lexer": "ipython3",
   "version": "3.5.1"
  }
 },
 "nbformat": 4,
 "nbformat_minor": 0
}
