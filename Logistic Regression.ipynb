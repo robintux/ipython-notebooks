{
 "metadata": {
  "name": "Logistic Regression"
 },
 "nbformat": 3,
 "nbformat_minor": 0,
 "worksheets": [
  {
   "cells": [
    {
     "cell_type": "code",
     "collapsed": false,
     "input": [
      "from mpltools import style\n",
      "style.use('ggplot')"
     ],
     "language": "python",
     "metadata": {},
     "outputs": [],
     "prompt_number": 1
    },
    {
     "cell_type": "code",
     "collapsed": false,
     "input": [
      "import scipy\n",
      "from scipy.special import expit, logit"
     ],
     "language": "python",
     "metadata": {},
     "outputs": [],
     "prompt_number": 2
    },
    {
     "cell_type": "code",
     "collapsed": false,
     "input": [
      "import statsmodels\n",
      "import statsmodels.api as sm"
     ],
     "language": "python",
     "metadata": {},
     "outputs": [],
     "prompt_number": 3
    },
    {
     "cell_type": "code",
     "collapsed": false,
     "input": [
      "print \"scipy\", scipy.version.version\n",
      "print \"statsmodels\", statsmodels.version.version"
     ],
     "language": "python",
     "metadata": {},
     "outputs": [
      {
       "output_type": "stream",
       "stream": "stdout",
       "text": [
        "scipy 0.11.0\n",
        "statsmodels 0.4.3\n"
       ]
      }
     ],
     "prompt_number": 4
    },
    {
     "cell_type": "markdown",
     "metadata": {},
     "source": [
      "## Create randomized data"
     ]
    },
    {
     "cell_type": "code",
     "collapsed": false,
     "input": [
      "N = 1000"
     ],
     "language": "python",
     "metadata": {},
     "outputs": [],
     "prompt_number": 5
    },
    {
     "cell_type": "code",
     "collapsed": false,
     "input": [
      "s = 0.05\n",
      "H = 2\n",
      "U = 0.0004\n",
      "taus = array([1,3,5,10,15,20,25,35,50])"
     ],
     "language": "python",
     "metadata": {},
     "outputs": [],
     "prompt_number": 6
    },
    {
     "cell_type": "code",
     "collapsed": false,
     "input": [
      "beta0 = 2*(s*H-U)/(1+s*H)\n",
      "beta1 = 2*U/(1+s*H)\n",
      "ps = beta0 + beta1 * taus"
     ],
     "language": "python",
     "metadata": {},
     "outputs": [],
     "prompt_number": 7
    },
    {
     "cell_type": "code",
     "collapsed": false,
     "input": [
      "xs = np.repeat(taus, N)"
     ],
     "language": "python",
     "metadata": {},
     "outputs": [],
     "prompt_number": 8
    },
    {
     "cell_type": "code",
     "collapsed": false,
     "input": [
      "ys = random.rand(xs.shape[0]) < repeat(ps, N)"
     ],
     "language": "python",
     "metadata": {},
     "outputs": [],
     "prompt_number": 9
    },
    {
     "cell_type": "code",
     "collapsed": false,
     "input": [
      "scatter(xs[:100],ys[:100]);"
     ],
     "language": "python",
     "metadata": {},
     "outputs": [
      {
       "metadata": {},
       "output_type": "display_data",
       "png": "[encoded data removed]",
       "text": [
        "<matplotlib.figure.Figure at 0xe251048>"
       ]
      }
     ],
     "prompt_number": 10
    },
    {
     "cell_type": "markdown",
     "metadata": {},
     "source": [
      "## Classic logistic regression"
     ]
    },
    {
     "cell_type": "code",
     "collapsed": false,
     "input": [
      "Xs = sm.add_constant(xs, prepend=True)\n",
      "model = sm.GLM(ys, Xs, family=sm.families.Binomial())\n",
      "results = model.fit()\n",
      "print results.summary()\n",
      "print \"H0 rejected:\", results.pvalues[1] < 0.05"
     ],
     "language": "python",
     "metadata": {},
     "outputs": [
      {
       "output_type": "stream",
       "stream": "stdout",
       "text": [
        "                 Generalized Linear Model Regression Results                  \n",
        "==============================================================================\n",
        "Dep. Variable:                      y   No. Observations:                 9000\n",
        "Model:                            GLM   Df Residuals:                     8998\n",
        "Model Family:                Binomial   Df Model:                            1\n",
        "Link Function:                  logit   Scale:                             1.0\n",
        "Method:                          IRLS   Log-Likelihood:                -4415.6\n",
        "Date:                Thu, 18 Jul 2013   Deviance:                       8831.3\n",
        "Time:                        09:33:02   Pearson chi2:                 9.00e+03\n",
        "No. Iterations:                     5                                         \n",
        "==============================================================================\n",
        "                 coef    std err          t      P>|t|      [95.0% Conf. Int.]\n",
        "------------------------------------------------------------------------------\n",
        "const         -1.5415      0.042    -36.615      0.000        -1.624    -1.459\n",
        "x1             0.0061      0.002      3.599      0.000         0.003     0.009\n",
        "==============================================================================\n",
        "H0 rejected: True\n"
       ]
      }
     ],
     "prompt_number": 17
    },
    {
     "cell_type": "code",
     "collapsed": false,
     "input": [
      "logit_b0_hat, logit_b1_hat = results.params\n",
      "logit_ps_hat = logit_b0_hat + logit_b1_hat * taus"
     ],
     "language": "python",
     "metadata": {},
     "outputs": [],
     "prompt_number": 22
    },
    {
     "cell_type": "markdown",
     "metadata": {},
     "source": [
      "## Convert parameters from logit to expit and back"
     ]
    },
    {
     "cell_type": "code",
     "collapsed": false,
     "input": [
      "def expit_params(logit_b0, logit_b1):\n",
      "    b0 = expit(logit_b0)\n",
      "    b1 = expit(logit_b1 + logit_b0) - expit(logit_b0)\n",
      "    return b0,b1\n",
      "def logit_params(b0, b1):\n",
      "    logit_b0 = logit(b0)\n",
      "    logit_b1 = logit(b0 + b1) - logit(b0)\n",
      "    return logit_b0, logit_b1\n",
      "b0_hat, b1_hat = expit_params(logit_b0_hat, logit_b1_hat)\n",
      "logit_beta0, logit_beta1 = logit_params(beta0, beta1)\n",
      "#logit_beta0, logit_beta1 = logit_params(2*s*H/(1+s*H), 0)"
     ],
     "language": "python",
     "metadata": {},
     "outputs": [],
     "prompt_number": 50
    },
    {
     "cell_type": "markdown",
     "metadata": {},
     "source": [
      "## Hypothesis testing based on CI"
     ]
    },
    {
     "cell_type": "code",
     "collapsed": false,
     "input": [
      "low,high = results.conf_int(alpha=0.001)[1]\n",
      "print \"H0: beta1 == 0 -\", low < 0.0 < high\n",
      "print \"H0: beta1 == 2U/1+sH -\", low < logit_params(beta0, beta1)[1] < high"
     ],
     "language": "python",
     "metadata": {},
     "outputs": [
      {
       "output_type": "stream",
       "stream": "stdout",
       "text": [
        "H0: beta1 == 0 - False\n",
        "H0: beta1 == 2U/1+sH - True\n"
       ]
      }
     ],
     "prompt_number": 73
    },
    {
     "cell_type": "markdown",
     "metadata": {},
     "source": [
      "## Plots"
     ]
    },
    {
     "cell_type": "code",
     "collapsed": false,
     "input": [
      "plot(taus, logit_ps_hat)\n",
      "plot(taus, logit(ps), '--')\n",
      "xlabel(r'$\\tau$')\n",
      "ylabel('log odds')\n",
      "xlim((0,51));"
     ],
     "language": "python",
     "metadata": {},
     "outputs": [
      {
       "metadata": {},
       "output_type": "display_data",
       "png": "[encoded data removed]",
       "text": [
        "<matplotlib.figure.Figure at 0x129fc978>"
       ]
      }
     ],
     "prompt_number": 223
    },
    {
     "cell_type": "code",
     "collapsed": false,
     "input": [
      "plot(taus, expit(logit_ps_hat))\n",
      "plot(taus, ps, '--')\n",
      "xlabel(r'$\\tau$')\n",
      "ylabel('p')\n",
      "xlim((0,51));"
     ],
     "language": "python",
     "metadata": {},
     "outputs": [
      {
       "metadata": {},
       "output_type": "display_data",
       "png": "[encoded data removed]",
       "text": [
        "<matplotlib.figure.Figure at 0x128a0198>"
       ]
      }
     ],
     "prompt_number": 224
    },
    {
     "cell_type": "markdown",
     "metadata": {},
     "source": [
      "## Using binomial data"
     ]
    },
    {
     "cell_type": "code",
     "collapsed": false,
     "input": [
      "ys = binomial(N,ps)"
     ],
     "language": "python",
     "metadata": {},
     "outputs": [],
     "prompt_number": 174
    },
    {
     "cell_type": "code",
     "collapsed": false,
     "input": [
      "ys = array([ys,N - ys], dtype=float64).transpose()"
     ],
     "language": "python",
     "metadata": {},
     "outputs": [],
     "prompt_number": 175
    },
    {
     "cell_type": "code",
     "collapsed": false,
     "input": [
      "Xs = sm.add_constant(taus, prepend=True)\n",
      "model = sm.GLM(ys, Xs, family=sm.families.Binomial())\n",
      "results = model.fit()\n",
      "print results.summary()\n",
      "print \"H0 rejected:\", results.pvalues[1] < 0.05"
     ],
     "language": "python",
     "metadata": {},
     "outputs": [
      {
       "output_type": "stream",
       "stream": "stdout",
       "text": [
        "                 Generalized Linear Model Regression Results                  \n",
        "==============================================================================\n",
        "Dep. Variable:           ['y1', 'y2']   No. Observations:                    9\n",
        "Model:                            GLM   Df Residuals:                        7\n",
        "Model Family:                Binomial   Df Model:                            1\n",
        "Link Function:                  logit   Scale:                             1.0\n",
        "Method:                          IRLS   Log-Likelihood:                -42.943\n",
        "Date:                Wed, 17 Jul 2013   Deviance:                       27.274\n",
        "Time:                        13:07:51   Pearson chi2:                     27.6\n",
        "No. Iterations:                     6                                         \n",
        "==============================================================================\n",
        "                 coef    std err          t      P>|t|      [95.0% Conf. Int.]\n",
        "------------------------------------------------------------------------------\n",
        "const         -2.5341      0.054    -46.666      0.000        -2.640    -2.428\n",
        "x1             0.0351      0.002     18.992      0.000         0.031     0.039\n",
        "==============================================================================\n",
        "H0 rejected: True\n"
       ]
      }
     ],
     "prompt_number": 176
    },
    {
     "cell_type": "code",
     "collapsed": false,
     "input": [
      "y = ys[:,0]/ys.sum(1)\n",
      "yhat = results.mu"
     ],
     "language": "python",
     "metadata": {},
     "outputs": [],
     "prompt_number": 177
    },
    {
     "cell_type": "code",
     "collapsed": false,
     "input": [
      "plt.scatter(yhat, y)\n",
      "line_fit = sm.OLS(y, sm.add_constant(yhat)).fit().params\n",
      "fit = lambda x: line_fit[1] + line_fit[0] * x\n",
      "plt.plot(np.linspace(0,0.35,N), fit(np.linspace(0,0.35,N)))\n",
      "ylabel('Observed values')\n",
      "xlabel('Fitted values');"
     ],
     "language": "python",
     "metadata": {},
     "outputs": [
      {
       "metadata": {},
       "output_type": "display_data",
       "png": "[encoded data removed]",
       "text": [
        "<matplotlib.figure.Figure at 0x120ff4a8>"
       ]
      }
     ],
     "prompt_number": 178
    },
    {
     "cell_type": "code",
     "collapsed": false,
     "input": [
      "logit_b0_hat, logit_b1_hat = results.params\n",
      "logit_ps_hat = logit_b0_hat + logit_b1_hat * taus"
     ],
     "language": "python",
     "metadata": {},
     "outputs": [],
     "prompt_number": 179
    },
    {
     "cell_type": "code",
     "collapsed": false,
     "input": [
      "plot(taus, logit_ps_hat)\n",
      "plot(taus, logit(ps), '--')\n",
      "xlabel(r'$\\tau$')\n",
      "ylabel('log odds')\n",
      "xlim((0,51));"
     ],
     "language": "python",
     "metadata": {},
     "outputs": [
      {
       "metadata": {},
       "output_type": "display_data",
       "png": "[encoded data removed]",
       "text": [
        "<matplotlib.figure.Figure at 0x126bffd0>"
       ]
      }
     ],
     "prompt_number": 180
    },
    {
     "cell_type": "code",
     "collapsed": false,
     "input": [
      "plot(taus, expit(logit_ps_hat))\n",
      "plot(taus, ps, '--')\n",
      "xlabel(r'$\\tau$')\n",
      "ylabel('p')\n",
      "xlim((0,51));"
     ],
     "language": "python",
     "metadata": {},
     "outputs": [
      {
       "metadata": {},
       "output_type": "display_data",
       "png": "[encoded data removed]",
       "text": [
        "<matplotlib.figure.Figure at 0x12101a90>"
       ]
      }
     ],
     "prompt_number": 181
    },
    {
     "cell_type": "code",
     "collapsed": false,
     "input": [
      "expit(results.conf_int())"
     ],
     "language": "python",
     "metadata": {},
     "outputs": [
      {
       "metadata": {},
       "output_type": "pyout",
       "prompt_number": 186,
       "text": [
        "array([[ 0.06657732,  0.0810896 ],\n",
        "       [ 0.50786893,  0.50967951]])"
       ]
      }
     ],
     "prompt_number": 186
    },
    {
     "cell_type": "code",
     "collapsed": false,
     "input": [
      "expit(results.params)"
     ],
     "language": "python",
     "metadata": {},
     "outputs": [
      {
       "metadata": {},
       "output_type": "pyout",
       "prompt_number": 189,
       "text": [
        "array([ 0.0735044 ,  0.50877425])"
       ]
      }
     ],
     "prompt_number": 189
    },
    {
     "cell_type": "code",
     "collapsed": false,
     "input": [
      "logit((beta0, beta1))"
     ],
     "language": "python",
     "metadata": {},
     "outputs": [
      {
       "metadata": {},
       "output_type": "pyout",
       "prompt_number": 190,
       "text": [
        "array([-2.94443898, -5.29330482])"
       ]
      }
     ],
     "prompt_number": 190
    },
    {
     "cell_type": "code",
     "collapsed": false,
     "input": [],
     "language": "python",
     "metadata": {},
     "outputs": []
    }
   ],
   "metadata": {}
  }
 ]
}