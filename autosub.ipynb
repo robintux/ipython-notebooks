{
 "metadata": {
  "name": "autosub"
 },
 "nbformat": 3,
 "nbformat_minor": 0,
 "worksheets": [
  {
   "cells": [
    {
     "cell_type": "markdown",
     "metadata": {},
     "source": [
      "# AutoSub implementation\n",
      "## 10/01/2013\n",
      "Using python magic to download subtitles from *subcenter*."
     ]
    },
    {
     "cell_type": "code",
     "collapsed": false,
     "input": [
      "cd d:\\workspace\\autosub"
     ],
     "language": "python",
     "metadata": {},
     "outputs": [
      {
       "output_type": "stream",
       "stream": "stdout",
       "text": [
        "d:\\workspace\\autosub\n"
       ]
      }
     ],
     "prompt_number": 1
    },
    {
     "cell_type": "markdown",
     "metadata": {},
     "source": [
      "`spynner` is the module that emulates a browser:"
     ]
    },
    {
     "cell_type": "code",
     "collapsed": false,
     "input": [
      "import spynner"
     ],
     "language": "python",
     "metadata": {},
     "outputs": [],
     "prompt_number": 38
    },
    {
     "cell_type": "code",
     "collapsed": false,
     "input": [
      "br=spynner.Browser()"
     ],
     "language": "python",
     "metadata": {},
     "outputs": [],
     "prompt_number": 39
    },
    {
     "cell_type": "code",
     "collapsed": false,
     "input": [
      "br.load(\"http://www.subscenter.org/he/subtitle/series/californication/5/12/\")"
     ],
     "language": "python",
     "metadata": {},
     "outputs": [
      {
       "output_type": "pyout",
       "prompt_number": 40,
       "text": [
        "True"
       ]
      }
     ],
     "prompt_number": 40
    },
    {
     "cell_type": "code",
     "collapsed": false,
     "input": [
      "br.html[:100]"
     ],
     "language": "python",
     "metadata": {},
     "outputs": [
      {
       "output_type": "pyout",
       "prompt_number": 58,
       "text": [
        "u'<!--?xml version=\"1.0\" encoding=\"utf-8\"?--><!DOCTYPE html PUBLIC \"-//W3C//DTD XHTML 1.0 Strict//EN\" '"
       ]
      }
     ],
     "prompt_number": 58
    },
    {
     "cell_type": "markdown",
     "metadata": {},
     "source": [
      "`pyquery` parses HTML and allows querying it like jQuery:"
     ]
    },
    {
     "cell_type": "code",
     "collapsed": false,
     "input": [
      "import pyquery"
     ],
     "language": "python",
     "metadata": {},
     "outputs": [],
     "prompt_number": 41
    },
    {
     "cell_type": "code",
     "collapsed": false,
     "input": [
      "p = pyquery.PyQuery(br.html)"
     ],
     "language": "python",
     "metadata": {},
     "outputs": [],
     "prompt_number": 42
    },
    {
     "cell_type": "code",
     "collapsed": false,
     "input": [
      "h=p('.pageName:first')[0]\n",
      "print h.text_content()"
     ],
     "language": "python",
     "metadata": {},
     "outputs": [
      {
       "output_type": "stream",
       "stream": "stdout",
       "text": [
        "\u05e7\u05dc\u05d9\u05e4\u05d5\u05e8\u05e0\u05d9\u05e7\u05d9\u05d9\u05e9\u05df\n"
       ]
      }
     ],
     "prompt_number": 55
    },
    {
     "cell_type": "markdown",
     "metadata": {},
     "source": [
      "use `p` instead of `$`, the rest is like jQuery!"
     ]
    },
    {
     "cell_type": "code",
     "collapsed": false,
     "input": [
      "onclick = p(\".minibutton\")[0].attrib['onclick']\n",
      "onclick"
     ],
     "language": "python",
     "metadata": {},
     "outputs": [
      {
       "output_type": "pyout",
       "prompt_number": 55,
       "text": [
        "\"return download_adv_boxy('/subtitle/download/he/254501/?v=Californication.S05E12.Hell.Aint.a.Bad.Place.to.Be.HDTV.XviD-FQM&key=848421679ad833eae66166c13159d80c');\""
       ]
      }
     ],
     "prompt_number": 55
    },
    {
     "cell_type": "code",
     "collapsed": false,
     "input": [
      "start = onclick.index(\"('\") + 2\n",
      "stop = onclick[start:].index(\"')\")\n",
      "link = onclick[start:stop]\n",
      "link"
     ],
     "language": "python",
     "metadata": {},
     "outputs": [
      {
       "output_type": "pyout",
       "prompt_number": 56,
       "text": [
        "'/subtitle/download/he/254501/?v=Californication.S05E12.Hell.Aint.a.Bad.Place.to.Be.HDTV.XviD-FQM&key=848421'"
       ]
      }
     ],
     "prompt_number": 56
    },
    {
     "cell_type": "markdown",
     "metadata": {},
     "source": [
      "`requests` is the module that will download the zip file containing the subtitles"
     ]
    },
    {
     "cell_type": "code",
     "collapsed": false,
     "input": [
      "import requests"
     ],
     "language": "python",
     "metadata": {},
     "outputs": [],
     "prompt_number": 19
    },
    {
     "cell_type": "code",
     "collapsed": false,
     "input": [
      "r = requests.get('http://www.subscenter.org' + link)"
     ],
     "language": "python",
     "metadata": {},
     "outputs": [],
     "prompt_number": 20
    },
    {
     "cell_type": "code",
     "collapsed": false,
     "input": [
      "r.content[:100]"
     ],
     "language": "python",
     "metadata": {},
     "outputs": [
      {
       "output_type": "pyout",
       "prompt_number": 21,
       "text": [
        "'PK\\x03\\x04\\x14\\x00\\x00\\x00\\x00\\x00Ov\\x85@t\\xe2\\xaa\\xbb\\xa6\\x88\\x00\\x00\\xa6\\x88\\x00\\x00D\\x00\\x00\\x00Californication.S05E12.Hell.Aint.a.Bad.Place.to.Be.HDTV.XviD-FQM.srt1\\r'"
       ]
      }
     ],
     "prompt_number": 21
    },
    {
     "cell_type": "markdown",
     "metadata": {},
     "source": [
      "Use `StringIO` to convert the above hexa-string to bytes and `zipfile` to extract the subtitle from the zip:"
     ]
    },
    {
     "cell_type": "code",
     "collapsed": false,
     "input": [
      "from StringIO import StringIO\n",
      "import zipfile"
     ],
     "language": "python",
     "metadata": {},
     "outputs": [],
     "prompt_number": 60
    },
    {
     "cell_type": "code",
     "collapsed": false,
     "input": [
      "z = zipfile.ZipFile(StringIO(r.content))"
     ],
     "language": "python",
     "metadata": {},
     "outputs": [],
     "prompt_number": 23
    },
    {
     "cell_type": "code",
     "collapsed": false,
     "input": [
      "z.extractall()"
     ],
     "language": "python",
     "metadata": {},
     "outputs": [],
     "prompt_number": 28
    },
    {
     "cell_type": "code",
     "collapsed": false,
     "input": [
      "z.close()"
     ],
     "language": "python",
     "metadata": {},
     "outputs": [],
     "prompt_number": 57
    },
    {
     "cell_type": "markdown",
     "metadata": {},
     "source": [
      "That's it!"
     ]
    },
    {
     "cell_type": "markdown",
     "metadata": {},
     "source": [
      "## Integrating with the feed "
     ]
    },
    {
     "cell_type": "code",
     "collapsed": false,
     "input": [
      "import feedparser # http://code.google.com/p/feedparser/"
     ],
     "language": "python",
     "metadata": {},
     "outputs": [],
     "prompt_number": 86
    },
    {
     "cell_type": "code",
     "collapsed": false,
     "input": [
      "feed_url = \"http://www.subscenter.org/he/feeds/all/latest/\"\n",
      "feed = feedparser.parse( feed_url )"
     ],
     "language": "python",
     "metadata": {},
     "outputs": [],
     "prompt_number": 62
    },
    {
     "cell_type": "code",
     "collapsed": false,
     "input": [
      "for i in feed['items']:\n",
      "    print i['title']"
     ],
     "language": "python",
     "metadata": {},
     "outputs": [
      {
       "output_type": "stream",
       "stream": "stdout",
       "text": [
        "\u05e7\u05d5\u05d2\u05e8 \u05d8\u05d0\u05d5\u05df \u05e2\u05d5\u05e0\u05d4 4 \u05e4\u05e8\u05e7 1\n",
        "30 \u05e8\u05d5\u05e7 \u05e2\u05d5\u05e0\u05d4 7 \u05e4\u05e8\u05e7 8\n",
        "\u05e9\u05e7\u05e8\u05e0\u05d9\u05d5\u05ea \u05e7\u05d8\u05e0\u05d5\u05ea \u05d5\u05d9\u05e4\u05d5\u05ea \u05e2\u05d5\u05e0\u05d4 3 \u05e4\u05e8\u05e7 14\n",
        "\u05d0\u05d9\u05e9 \u05de\u05e9\u05e4\u05d7\u05d4 \u05e2\u05d5\u05e0\u05d4 11 \u05e4\u05e8\u05e7 8\n",
        "\u05d0\u05d7\u05ea \u05e9\u05d9\u05d5\u05d3\u05e2\u05ea \u05e2\u05d5\u05e0\u05d4 6 \u05e4\u05e8\u05e7 3\n",
        "\u05e6\u05d3\u05e7 \u05e6\u05e2\u05d9\u05e8 \u05e2\u05d5\u05e0\u05d4 1 \u05e4\u05e8\u05e7 2\n",
        "\u05e7\u05d0\u05e1\u05dc \u05e2\u05d5\u05e0\u05d4 5 \u05e4\u05e8\u05e7 4\n",
        "\u05d4\u05d9\u05d4 \u05d4\u05d9\u05d4 \u05e4\u05e2\u05dd \u05e2\u05d5\u05e0\u05d4 2 \u05e4\u05e8\u05e7 10\n",
        "\u05de\u05d7\u05dc\u05e7\u05ea \u05d2\u05e0\u05d9\u05dd \u05d5\u05e0\u05d5\u05e3 \u05e2\u05d5\u05e0\u05d4 4 \u05e4\u05e8\u05e7 1\n",
        "\u05d4\u05de\u05e0\u05d8\u05dc\u05d9\u05e1\u05d8 \u05e2\u05d5\u05e0\u05d4 5 \u05e4\u05e8\u05e7 9\n",
        "\u05e0\u05e7\u05d5\u05d3\u05ea \u05e9\u05d1\u05d9\u05e8\u05d4 \u05e2\u05d5\u05e0\u05d4 5 \u05e4\u05e8\u05e7 1\n",
        "\u05d2\u05d1\u05e8\u05d9\u05dd \u05d1\u05e2\u05d1\u05d5\u05d3\u05d4 \u05e2\u05d5\u05e0\u05d4 1 \u05e4\u05e8\u05e7 6\n",
        "\u05de\u05d1\u05d5\u05e7\u05e9 \u05dc\u05d7\u05e7\u05d9\u05e8\u05d4 \u05e2\u05d5\u05e0\u05d4 2 \u05e4\u05e8\u05e7 11\n",
        "\u05de\u05e4\u05dc\u05d8 \u05e2\u05d5\u05e0\u05d4 3 \u05e4\u05e8\u05e7 11\n",
        "\u05dc\u05d2\u05d3\u05dc \u05d0\u05ea \u05d4\u05d5\u05e4 \u05e2\u05d5\u05e0\u05d4 3 \u05e4\u05e8\u05e7 9\n",
        "\u05dc\u05d2\u05d3\u05dc \u05d0\u05ea \u05d4\u05d5\u05e4 \u05e2\u05d5\u05e0\u05d4 3 \u05e4\u05e8\u05e7 8\n",
        "\u05d0\u05d7\u05ea \u05e9\u05d9\u05d5\u05d3\u05e2\u05ea \u05e2\u05d5\u05e0\u05d4 6 \u05e4\u05e8\u05e7 2\n",
        "\u05de\u05d9\u05dc\u05d3\u05e8\u05d3 \u05e4\u05d9\u05e8\u05e1 \u05e2\u05d5\u05e0\u05d4 1 \u05e4\u05e8\u05e7 2\n",
        "\u05d4\u05de\u05e4\u05e5 \u05d4\u05d2\u05d3\u05d5\u05dc \u05e2\u05d5\u05e0\u05d4 6 \u05e4\u05e8\u05e7 12\n",
        "\u05de\u05e1\u05e2 \u05d1\u05d9\u05df \u05db\u05d5\u05db\u05d1\u05d9\u05dd: \u05d5\u05d5\u05d9\u05d0\u05d2'\u05e8 \u05e2\u05d5\u05e0\u05d4 6 \u05e4\u05e8\u05e7 4\n",
        "\u05e6\u05d3\u05e7 \u05e6\u05e2\u05d9\u05e8 \u05e2\u05d5\u05e0\u05d4 1 \u05e4\u05e8\u05e7 1\n",
        "\u05e4\u05d9\u05d5\u05e6'\u05e8\u05de\u05d4 \u05e2\u05d5\u05e0\u05d4 7 \u05e4\u05e8\u05e7 12\n",
        "\u05e1\u05d9\u05e4\u05d5\u05e8 \u05d0\u05d9\u05de\u05d4 \u05d0\u05de\u05e8\u05d9\u05e7\u05e0\u05d9 \u05e2\u05d5\u05e0\u05d4 2 \u05e4\u05e8\u05e7 10\n",
        "\u05e8\u05d7\u05d5\u05d1\u05d5\u05ea \u05d4\u05de\u05e8\u05d8\u05e9 \u05e2\u05d5\u05e0\u05d4 1 \u05e4\u05e8\u05e7 1\n",
        "\u05e2\u05d5\u05dc\u05dd \u05dc\u05dc\u05d0 \u05e7\u05e5 \u05e2\u05d5\u05e0\u05d4 1 \u05e4\u05e8\u05e7 2\n",
        "\u05e2\u05d5\u05dc\u05dd \u05dc\u05dc\u05d0 \u05e7\u05e5 \u05e2\u05d5\u05e0\u05d4 1 \u05e4\u05e8\u05e7 1\n",
        "\u05d1\u05d7\u05d5\u05e8\u05d4 \u05d7\u05d3\u05e9\u05d4 \u05e2\u05d5\u05e0\u05d4 2 \u05e4\u05e8\u05e7 8\n",
        "\u05d4\u05de\u05e0\u05d8\u05dc\u05d9\u05e1\u05d8 \u05e2\u05d5\u05e0\u05d4 5 \u05e4\u05e8\u05e7 8\n",
        "\u05de\u05d7\u05e1\u05df 13 \u05e2\u05d5\u05e0\u05d4 4 \u05e4\u05e8\u05e7 10\n",
        "\u05db\u05d1\u05d0\u05d9 \u05e9\u05d9\u05e7\u05d2\u05d5 \u05e2\u05d5\u05e0\u05d4 1 \u05e4\u05e8\u05e7 2\n",
        "\u05d6\u05d5\u05d0\u05d9 \u05d4\u05d0\u05e8\u05d8 \u05e2\u05d5\u05e0\u05d4 2 \u05e4\u05e8\u05e7 9\n",
        "\u05e7\u05d0\u05e1\u05dc \u05e2\u05d5\u05e0\u05d4 5 \u05e4\u05e8\u05e7 3\n",
        "\u05d4\u05e2\u05d5\u05e7\u05e5 \u05e2\u05d5\u05e0\u05d4 5 \u05e4\u05e8\u05e7 15\n",
        "\u05e4\u05d9\u05d5\u05e6'\u05e8\u05de\u05d4 \u05e2\u05d5\u05e0\u05d4 7 \u05e4\u05e8\u05e7 11\n",
        "\u05e1\u05d3\u05e0\u05d4 \u05dc\u05e2\u05e6\u05d1\u05d9\u05dd \u05e2\u05d5\u05e0\u05d4 1 \u05e4\u05e8\u05e7 7\n",
        "\u05d0\u05d9\u05e9 \u05de\u05e9\u05e4\u05d7\u05d4 \u05e2\u05d5\u05e0\u05d4 11 \u05e4\u05e8\u05e7 7\n",
        "\u05e4\u05e8\u05d1\u05e8\u05d9 \u05d4\u05d2\u05d9\u05d4\u05e0\u05d5\u05dd \u05e2\u05d5\u05e0\u05d4 2 \u05e4\u05e8\u05e7 2\n",
        "\u05d2\u05d1\u05e8\u05d9\u05dd \u05d1\u05e2\u05d1\u05d5\u05d3\u05d4 \u05e2\u05d5\u05e0\u05d4 1 \u05e4\u05e8\u05e7 5\n",
        "\u05d1\u05e8\u05d0\u05e9\u05d9\u05ea: \u05e2\u05d5\u05dc\u05dd \u05d7\u05d3\u05e9 \u05e2\u05d5\u05e0\u05d4 1 \u05e4\u05e8\u05e7 1\n",
        "\u05e8\u05d9\u05d6\u05d5\u05dc\u05d9 \u05d5\u05d0\u05d9\u05d9\u05dc\u05e1 \u05e2\u05d5\u05e0\u05d4 3 \u05e4\u05e8\u05e7 15\n",
        "\u05db\u05d1\u05d0\u05d9 \u05e9\u05d9\u05e7\u05d2\u05d5 \u05e2\u05d5\u05e0\u05d4 1 \u05e4\u05e8\u05e7 1\n",
        "\u05d4\u05de\u05e4\u05e5 \u05d4\u05d2\u05d3\u05d5\u05dc \u05e2\u05d5\u05e0\u05d4 6 \u05e4\u05e8\u05e7 11\n",
        "\u05de\u05e1\u05e2 \u05d1\u05d9\u05df \u05db\u05d5\u05db\u05d1\u05d9\u05dd: \u05d5\u05d5\u05d9\u05d0\u05d2'\u05e8 \u05e2\u05d5\u05e0\u05d4 6 \u05e4\u05e8\u05e7 3\n",
        "\u05e9\u05d5\u05d8\u05e8\u05d9\u05dd \u05d1\u05d3\u05dd \u05e2\u05d5\u05e0\u05d4 3 \u05e4\u05e8\u05e7 9\n",
        "\u05e4\u05d9\u05d5\u05e6'\u05e8\u05de\u05d4 \u05e2\u05d5\u05e0\u05d4 7 \u05e4\u05e8\u05e7 10\n",
        "\u05d2\u05d1\u05e8\u05d9\u05dd \u05d1\u05e2\u05d1\u05d5\u05d3\u05d4 \u05e2\u05d5\u05e0\u05d4 1 \u05e4\u05e8\u05e7 4\n",
        "\u05de\u05e9\u05e4\u05d7\u05d4 \u05de\u05d5\u05d3\u05e8\u05e0\u05d9\u05ea \u05e2\u05d5\u05e0\u05d4 4 \u05e4\u05e8\u05e7 10\n",
        "\u05de\u05d7\u05e1\u05df 13 \u05e2\u05d5\u05e0\u05d4 4 \u05e4\u05e8\u05e7 9\n",
        "\u05d4\u05de\u05e0\u05d8\u05dc\u05d9\u05e1\u05d8 \u05e2\u05d5\u05e0\u05d4 5 \u05e4\u05e8\u05e7 7\n",
        "\u05d0\u05dc\u05e4\u05d0\u05e1  \u05e2\u05d5\u05e0\u05d4 2 \u05e4\u05e8\u05e7 8\n"
       ]
      }
     ],
     "prompt_number": 67
    },
    {
     "cell_type": "code",
     "collapsed": false,
     "input": [
      "favs = [i for i in feed['items'] if i['title'].startswith(u'\u05de\u05e9\u05e4\u05d7\u05d4 \u05de\u05d5\u05d3\u05e8\u05e0\u05d9\u05ea')]"
     ],
     "language": "python",
     "metadata": {},
     "outputs": [],
     "prompt_number": 75
    },
    {
     "cell_type": "code",
     "collapsed": false,
     "input": [
      "favs[0].keys()"
     ],
     "language": "python",
     "metadata": {},
     "outputs": [
      {
       "output_type": "pyout",
       "prompt_number": 78,
       "text": [
        "['summary_detail',\n",
        " 'links',\n",
        " 'title',\n",
        " 'summary',\n",
        " 'guidislink',\n",
        " 'title_detail',\n",
        " 'link',\n",
        " 'id']"
       ]
      }
     ],
     "prompt_number": 78
    },
    {
     "cell_type": "code",
     "collapsed": false,
     "input": [
      "print favs[0]['title_detail']['value']"
     ],
     "language": "python",
     "metadata": {},
     "outputs": [
      {
       "output_type": "stream",
       "stream": "stdout",
       "text": [
        "\u05de\u05e9\u05e4\u05d7\u05d4 \u05de\u05d5\u05d3\u05e8\u05e0\u05d9\u05ea \u05e2\u05d5\u05e0\u05d4 4 \u05e4\u05e8\u05e7 10\n"
       ]
      }
     ],
     "prompt_number": 83
    },
    {
     "cell_type": "code",
     "collapsed": false,
     "input": [
      "stop = favs[0]['link'].index('?')\n",
      "link = favs[0]['link'][:stop]\n",
      "link"
     ],
     "language": "python",
     "metadata": {},
     "outputs": [
      {
       "output_type": "pyout",
       "prompt_number": 85,
       "text": [
        "u'http://www.subscenter.org/he/subtitle/series/modern-family/4/10/'"
       ]
      }
     ],
     "prompt_number": 85
    },
    {
     "cell_type": "markdown",
     "metadata": {},
     "source": [
      "And this is what I need to feed the browser."
     ]
    },
    {
     "cell_type": "markdown",
     "metadata": {},
     "source": [
      "## Testing"
     ]
    },
    {
     "cell_type": "code",
     "collapsed": false,
     "input": [
      "%run subcenter.py"
     ],
     "language": "python",
     "metadata": {},
     "outputs": [],
     "prompt_number": 19
    },
    {
     "cell_type": "code",
     "collapsed": false,
     "input": [
      "episodes = latest_episodes(LATEST_FEED_URL)"
     ],
     "language": "python",
     "metadata": {},
     "outputs": [],
     "prompt_number": 5
    },
    {
     "cell_type": "code",
     "collapsed": false,
     "input": [
      "episodes"
     ],
     "language": "python",
     "metadata": {},
     "outputs": [
      {
       "output_type": "pyout",
       "prompt_number": 6,
       "text": [
        "{u'30 \\u05e8\\u05d5\\u05e7 \\u05e2\\u05d5\\u05e0\\u05d4 7 \\u05e4\\u05e8\\u05e7 8': u'http://www.subscenter.org/he/subtitle/series/30-rock/7/8/',\n",
        " u'\\u05d0\\u05d7\\u05ea \\u05e9\\u05d9\\u05d5\\u05d3\\u05e2\\u05ea \\u05e2\\u05d5\\u05e0\\u05d4 6 \\u05e4\\u05e8\\u05e7 2': u'http://www.subscenter.org/he/subtitle/series/gossip-girl/6/2/',\n",
        " u'\\u05d0\\u05d7\\u05ea \\u05e9\\u05d9\\u05d5\\u05d3\\u05e2\\u05ea \\u05e2\\u05d5\\u05e0\\u05d4 6 \\u05e4\\u05e8\\u05e7 3': u'http://www.subscenter.org/he/subtitle/series/gossip-girl/6/3/',\n",
        " u'\\u05d0\\u05d9\\u05e9 \\u05de\\u05e9\\u05e4\\u05d7\\u05d4 \\u05e2\\u05d5\\u05e0\\u05d4 11 \\u05e4\\u05e8\\u05e7 7': u'http://www.subscenter.org/he/subtitle/series/family-guy/11/7/',\n",
        " u'\\u05d0\\u05d9\\u05e9 \\u05de\\u05e9\\u05e4\\u05d7\\u05d4 \\u05e2\\u05d5\\u05e0\\u05d4 11 \\u05e4\\u05e8\\u05e7 8': u'http://www.subscenter.org/he/subtitle/series/family-guy/11/8/',\n",
        " u'\\u05d0\\u05dc\\u05e4\\u05d0\\u05e1  \\u05e2\\u05d5\\u05e0\\u05d4 2 \\u05e4\\u05e8\\u05e7 8': u'http://www.subscenter.org/he/subtitle/series/alphas/2/8/',\n",
        " u'\\u05d1\\u05d7\\u05d5\\u05e8\\u05d4 \\u05d7\\u05d3\\u05e9\\u05d4 \\u05e2\\u05d5\\u05e0\\u05d4 2 \\u05e4\\u05e8\\u05e7 8': u'http://www.subscenter.org/he/subtitle/series/the-new-girl/2/8/',\n",
        " u'\\u05d1\\u05e8\\u05d0\\u05e9\\u05d9\\u05ea: \\u05e2\\u05d5\\u05dc\\u05dd \\u05d7\\u05d3\\u05e9 \\u05e2\\u05d5\\u05e0\\u05d4 1 \\u05e4\\u05e8\\u05e7 1': u'http://www.subscenter.org/he/subtitle/series/primeval-new-world/1/1/',\n",
        " u'\\u05d2\\u05d1\\u05e8\\u05d9\\u05dd \\u05d1\\u05e2\\u05d1\\u05d5\\u05d3\\u05d4 \\u05e2\\u05d5\\u05e0\\u05d4 1 \\u05e4\\u05e8\\u05e7 4': u'http://www.subscenter.org/he/subtitle/series/men-at-work-2012/1/4/',\n",
        " u'\\u05d2\\u05d1\\u05e8\\u05d9\\u05dd \\u05d1\\u05e2\\u05d1\\u05d5\\u05d3\\u05d4 \\u05e2\\u05d5\\u05e0\\u05d4 1 \\u05e4\\u05e8\\u05e7 5': u'http://www.subscenter.org/he/subtitle/series/men-at-work-2012/1/5/',\n",
        " u'\\u05d2\\u05d1\\u05e8\\u05d9\\u05dd \\u05d1\\u05e2\\u05d1\\u05d5\\u05d3\\u05d4 \\u05e2\\u05d5\\u05e0\\u05d4 1 \\u05e4\\u05e8\\u05e7 6': u'http://www.subscenter.org/he/subtitle/series/men-at-work-2012/1/6/',\n",
        " u'\\u05d4\\u05d9\\u05d4 \\u05d4\\u05d9\\u05d4 \\u05e4\\u05e2\\u05dd \\u05e2\\u05d5\\u05e0\\u05d4 2 \\u05e4\\u05e8\\u05e7 10': u'http://www.subscenter.org/he/subtitle/series/once-upon-a-time/2/10/',\n",
        " u'\\u05d4\\u05de\\u05e0\\u05d8\\u05dc\\u05d9\\u05e1\\u05d8 \\u05e2\\u05d5\\u05e0\\u05d4 5 \\u05e4\\u05e8\\u05e7 7': u'http://www.subscenter.org/he/subtitle/series/the-mentalist/5/7/',\n",
        " u'\\u05d4\\u05de\\u05e0\\u05d8\\u05dc\\u05d9\\u05e1\\u05d8 \\u05e2\\u05d5\\u05e0\\u05d4 5 \\u05e4\\u05e8\\u05e7 8': u'http://www.subscenter.org/he/subtitle/series/the-mentalist/5/8/',\n",
        " u'\\u05d4\\u05de\\u05e0\\u05d8\\u05dc\\u05d9\\u05e1\\u05d8 \\u05e2\\u05d5\\u05e0\\u05d4 5 \\u05e4\\u05e8\\u05e7 9': u'http://www.subscenter.org/he/subtitle/series/the-mentalist/5/9/',\n",
        " u'\\u05d4\\u05de\\u05e4\\u05e5 \\u05d4\\u05d2\\u05d3\\u05d5\\u05dc \\u05e2\\u05d5\\u05e0\\u05d4 6 \\u05e4\\u05e8\\u05e7 11': u'http://www.subscenter.org/he/subtitle/series/the-big-bang-theory/6/11/',\n",
        " u'\\u05d4\\u05de\\u05e4\\u05e5 \\u05d4\\u05d2\\u05d3\\u05d5\\u05dc \\u05e2\\u05d5\\u05e0\\u05d4 6 \\u05e4\\u05e8\\u05e7 12': u'http://www.subscenter.org/he/subtitle/series/the-big-bang-theory/6/12/',\n",
        " u'\\u05d4\\u05e2\\u05d5\\u05e7\\u05e5 \\u05e2\\u05d5\\u05e0\\u05d4 5 \\u05e4\\u05e8\\u05e7 15': u'http://www.subscenter.org/he/subtitle/series/leverage/5/15/',\n",
        " u'\\u05d6\\u05d5\\u05d0\\u05d9 \\u05d4\\u05d0\\u05e8\\u05d8 \\u05e2\\u05d5\\u05e0\\u05d4 2 \\u05e4\\u05e8\\u05e7 9': u'http://www.subscenter.org/he/subtitle/series/hart-of-dixie/2/9/',\n",
        " u'\\u05db\\u05d1\\u05d0\\u05d9 \\u05e9\\u05d9\\u05e7\\u05d2\\u05d5 \\u05e2\\u05d5\\u05e0\\u05d4 1 \\u05e4\\u05e8\\u05e7 1': u'http://www.subscenter.org/he/subtitle/series/chicago-fire/1/1/',\n",
        " u'\\u05db\\u05d1\\u05d0\\u05d9 \\u05e9\\u05d9\\u05e7\\u05d2\\u05d5 \\u05e2\\u05d5\\u05e0\\u05d4 1 \\u05e4\\u05e8\\u05e7 2': u'http://www.subscenter.org/he/subtitle/series/chicago-fire/1/2/',\n",
        " u'\\u05dc\\u05d2\\u05d3\\u05dc \\u05d0\\u05ea \\u05d4\\u05d5\\u05e4 \\u05e2\\u05d5\\u05e0\\u05d4 3 \\u05e4\\u05e8\\u05e7 8': u'http://www.subscenter.org/he/subtitle/series/raising-hope/3/8/',\n",
        " u'\\u05dc\\u05d2\\u05d3\\u05dc \\u05d0\\u05ea \\u05d4\\u05d5\\u05e4 \\u05e2\\u05d5\\u05e0\\u05d4 3 \\u05e4\\u05e8\\u05e7 9': u'http://www.subscenter.org/he/subtitle/series/raising-hope/3/9/',\n",
        " u'\\u05de\\u05d1\\u05d5\\u05e7\\u05e9 \\u05dc\\u05d7\\u05e7\\u05d9\\u05e8\\u05d4 \\u05e2\\u05d5\\u05e0\\u05d4 2 \\u05e4\\u05e8\\u05e7 11': u'http://www.subscenter.org/he/subtitle/series/person-of-interest/2/11/',\n",
        " u'\\u05de\\u05d7\\u05dc\\u05e7\\u05ea \\u05d2\\u05e0\\u05d9\\u05dd \\u05d5\\u05e0\\u05d5\\u05e3 \\u05e2\\u05d5\\u05e0\\u05d4 4 \\u05e4\\u05e8\\u05e7 1': u'http://www.subscenter.org/he/subtitle/series/parks-and-recreation-2009/4/1/',\n",
        " u'\\u05de\\u05d7\\u05e1\\u05df 13 \\u05e2\\u05d5\\u05e0\\u05d4 4 \\u05e4\\u05e8\\u05e7 10': u'http://www.subscenter.org/he/subtitle/series/warehouse-13/4/10/',\n",
        " u'\\u05de\\u05d7\\u05e1\\u05df 13 \\u05e2\\u05d5\\u05e0\\u05d4 4 \\u05e4\\u05e8\\u05e7 9': u'http://www.subscenter.org/he/subtitle/series/warehouse-13/4/9/',\n",
        " u'\\u05de\\u05d9\\u05dc\\u05d3\\u05e8\\u05d3 \\u05e4\\u05d9\\u05e8\\u05e1 \\u05e2\\u05d5\\u05e0\\u05d4 1 \\u05e4\\u05e8\\u05e7 2': u'http://www.subscenter.org/he/subtitle/series/mildred-pierce/1/2/',\n",
        " u\"\\u05de\\u05e1\\u05e2 \\u05d1\\u05d9\\u05df \\u05db\\u05d5\\u05db\\u05d1\\u05d9\\u05dd: \\u05d5\\u05d5\\u05d9\\u05d0\\u05d2'\\u05e8 \\u05e2\\u05d5\\u05e0\\u05d4 6 \\u05e4\\u05e8\\u05e7 3\": u'http://www.subscenter.org/he/subtitle/series/star-trek-voyager/6/3/',\n",
        " u\"\\u05de\\u05e1\\u05e2 \\u05d1\\u05d9\\u05df \\u05db\\u05d5\\u05db\\u05d1\\u05d9\\u05dd: \\u05d5\\u05d5\\u05d9\\u05d0\\u05d2'\\u05e8 \\u05e2\\u05d5\\u05e0\\u05d4 6 \\u05e4\\u05e8\\u05e7 4\": u'http://www.subscenter.org/he/subtitle/series/star-trek-voyager/6/4/',\n",
        " u'\\u05de\\u05e4\\u05dc\\u05d8 \\u05e2\\u05d5\\u05e0\\u05d4 3 \\u05e4\\u05e8\\u05e7 11': u'http://www.subscenter.org/he/subtitle/series/haven-2010/3/11/',\n",
        " u'\\u05de\\u05e9\\u05e4\\u05d7\\u05d4 \\u05de\\u05d5\\u05d3\\u05e8\\u05e0\\u05d9\\u05ea \\u05e2\\u05d5\\u05e0\\u05d4 4 \\u05e4\\u05e8\\u05e7 10': u'http://www.subscenter.org/he/subtitle/series/modern-family/4/10/',\n",
        " u'\\u05e0\\u05e7\\u05d5\\u05d3\\u05ea \\u05e9\\u05d1\\u05d9\\u05e8\\u05d4 \\u05e2\\u05d5\\u05e0\\u05d4 5 \\u05e4\\u05e8\\u05e7 1': u'http://www.subscenter.org/he/subtitle/series/flashpoint/5/1/',\n",
        " u'\\u05e1\\u05d3\\u05e0\\u05d4 \\u05dc\\u05e2\\u05e6\\u05d1\\u05d9\\u05dd \\u05e2\\u05d5\\u05e0\\u05d4 1 \\u05e4\\u05e8\\u05e7 7': u'http://www.subscenter.org/he/subtitle/series/anger-management-2012/1/7/',\n",
        " u'\\u05e1\\u05d9\\u05e4\\u05d5\\u05e8 \\u05d0\\u05d9\\u05de\\u05d4 \\u05d0\\u05de\\u05e8\\u05d9\\u05e7\\u05e0\\u05d9 \\u05e2\\u05d5\\u05e0\\u05d4 2 \\u05e4\\u05e8\\u05e7 10': u'http://www.subscenter.org/he/subtitle/series/american-horror-story/2/10/',\n",
        " u'\\u05e2\\u05d5\\u05dc\\u05dd \\u05dc\\u05dc\\u05d0 \\u05e7\\u05e5 \\u05e2\\u05d5\\u05e0\\u05d4 1 \\u05e4\\u05e8\\u05e7 1': u'http://www.subscenter.org/he/subtitle/series/world-without-end/1/1/',\n",
        " u'\\u05e2\\u05d5\\u05dc\\u05dd \\u05dc\\u05dc\\u05d0 \\u05e7\\u05e5 \\u05e2\\u05d5\\u05e0\\u05d4 1 \\u05e4\\u05e8\\u05e7 2': u'http://www.subscenter.org/he/subtitle/series/world-without-end/1/2/',\n",
        " u\"\\u05e4\\u05d9\\u05d5\\u05e6'\\u05e8\\u05de\\u05d4 \\u05e2\\u05d5\\u05e0\\u05d4 7 \\u05e4\\u05e8\\u05e7 10\": u'http://www.subscenter.org/he/subtitle/series/futurama/7/10/',\n",
        " u\"\\u05e4\\u05d9\\u05d5\\u05e6'\\u05e8\\u05de\\u05d4 \\u05e2\\u05d5\\u05e0\\u05d4 7 \\u05e4\\u05e8\\u05e7 11\": u'http://www.subscenter.org/he/subtitle/series/futurama/7/11/',\n",
        " u\"\\u05e4\\u05d9\\u05d5\\u05e6'\\u05e8\\u05de\\u05d4 \\u05e2\\u05d5\\u05e0\\u05d4 7 \\u05e4\\u05e8\\u05e7 12\": u'http://www.subscenter.org/he/subtitle/series/futurama/7/12/',\n",
        " u'\\u05e4\\u05e8\\u05d1\\u05e8\\u05d9 \\u05d4\\u05d2\\u05d9\\u05d4\\u05e0\\u05d5\\u05dd \\u05e2\\u05d5\\u05e0\\u05d4 2 \\u05e4\\u05e8\\u05e7 2': u'http://www.subscenter.org/he/subtitle/series/suburgatory/2/2/',\n",
        " u'\\u05e6\\u05d3\\u05e7 \\u05e6\\u05e2\\u05d9\\u05e8 \\u05e2\\u05d5\\u05e0\\u05d4 1 \\u05e4\\u05e8\\u05e7 1': u'http://www.subscenter.org/he/subtitle/series/young-justice/1/1/',\n",
        " u'\\u05e6\\u05d3\\u05e7 \\u05e6\\u05e2\\u05d9\\u05e8 \\u05e2\\u05d5\\u05e0\\u05d4 1 \\u05e4\\u05e8\\u05e7 2': u'http://www.subscenter.org/he/subtitle/series/young-justice/1/2/',\n",
        " u'\\u05e7\\u05d0\\u05e1\\u05dc \\u05e2\\u05d5\\u05e0\\u05d4 5 \\u05e4\\u05e8\\u05e7 3': u'http://www.subscenter.org/he/subtitle/series/castle/5/3/',\n",
        " u'\\u05e7\\u05d0\\u05e1\\u05dc \\u05e2\\u05d5\\u05e0\\u05d4 5 \\u05e4\\u05e8\\u05e7 4': u'http://www.subscenter.org/he/subtitle/series/castle/5/4/',\n",
        " u'\\u05e7\\u05d5\\u05d2\\u05e8 \\u05d8\\u05d0\\u05d5\\u05df \\u05e2\\u05d5\\u05e0\\u05d4 4 \\u05e4\\u05e8\\u05e7 1': u'http://www.subscenter.org/he/subtitle/series/cougar-town/4/1/',\n",
        " u'\\u05e8\\u05d7\\u05d5\\u05d1\\u05d5\\u05ea \\u05d4\\u05de\\u05e8\\u05d8\\u05e9 \\u05e2\\u05d5\\u05e0\\u05d4 1 \\u05e4\\u05e8\\u05e7 1': u'http://www.subscenter.org/he/subtitle/series/ripper-street/1/1/',\n",
        " u'\\u05e8\\u05d9\\u05d6\\u05d5\\u05dc\\u05d9 \\u05d5\\u05d0\\u05d9\\u05d9\\u05dc\\u05e1 \\u05e2\\u05d5\\u05e0\\u05d4 3 \\u05e4\\u05e8\\u05e7 15': u'http://www.subscenter.org/he/subtitle/series/rizzoli-isles/3/15/',\n",
        " u'\\u05e9\\u05d5\\u05d8\\u05e8\\u05d9\\u05dd \\u05d1\\u05d3\\u05dd \\u05e2\\u05d5\\u05e0\\u05d4 3 \\u05e4\\u05e8\\u05e7 9': u'http://www.subscenter.org/he/subtitle/series/blue-bloods/3/9/',\n",
        " u'\\u05e9\\u05e7\\u05e8\\u05e0\\u05d9\\u05d5\\u05ea \\u05e7\\u05d8\\u05e0\\u05d5\\u05ea \\u05d5\\u05d9\\u05e4\\u05d5\\u05ea \\u05e2\\u05d5\\u05e0\\u05d4 3 \\u05e4\\u05e8\\u05e7 14': u'http://www.subscenter.org/he/subtitle/series/pretty-little-liars/3/14/'}"
       ]
      }
     ],
     "prompt_number": 6
    },
    {
     "cell_type": "code",
     "collapsed": false,
     "input": [
      "links=parse_subtitles_links('http://www.subscenter.org/he/subtitle/series/blue-bloods/3/9/')\n",
      "links"
     ],
     "language": "python",
     "metadata": {},
     "outputs": [
      {
       "output_type": "stream",
       "stream": "stdout",
       "text": [
        "return download_adv_boxy('/subtitle/download/he/260769/?v=Blue.Bloods.S03E09.720p.HDTV.X264-DIMENSION&key=633aa739739b8768502352ff8de6e59d');\n",
        "return download_adv_boxy('/subtitle/download/he/260769/?v=Blue.Bloods.S03E09.HDTV.x264-LOL&key=934505a45f58a99af99f0a32b886a6e9');\n"
       ]
      },
      {
       "output_type": "pyout",
       "prompt_number": 21,
       "text": [
        "['/subtitle/download/he/260769/?v=Blue.Bloods.S03E09.720p.HDTV.X264-DIMENSION&key=633aa739739b8768502352ff8de6e59d',\n",
        " '/subtitle/download/he/260769/?v=Blue.Bloods.S03E09.HDTV.x264-LOL&key=934505a45f58a99af99f0a32b886a6e9']"
       ]
      }
     ],
     "prompt_number": 21
    },
    {
     "cell_type": "code",
     "collapsed": false,
     "input": [
      "download_links(links)"
     ],
     "language": "python",
     "metadata": {},
     "outputs": [
      {
       "output_type": "pyout",
       "prompt_number": 22,
       "text": [
        "2"
       ]
      }
     ],
     "prompt_number": 22
    },
    {
     "cell_type": "code",
     "collapsed": false,
     "input": [
      "%run subcenter.py modern-family 4 10"
     ],
     "language": "python",
     "metadata": {},
     "outputs": [],
     "prompt_number": 32
    },
    {
     "cell_type": "code",
     "collapsed": false,
     "input": [
      "filter(lambda x: 'LOL' in x, links)"
     ],
     "language": "python",
     "metadata": {},
     "outputs": [
      {
       "output_type": "pyout",
       "prompt_number": 35,
       "text": [
        "['/subtitle/download/he/260769/?v=Blue.Bloods.S03E09.HDTV.x264-LOL&key=934505a45f58a99af99f0a32b886a6e9']"
       ]
      }
     ],
     "prompt_number": 35
    },
    {
     "cell_type": "code",
     "collapsed": false,
     "input": [
      "links"
     ],
     "language": "python",
     "metadata": {},
     "outputs": [
      {
       "output_type": "pyout",
       "prompt_number": 34,
       "text": [
        "['/subtitle/download/he/260769/?v=Blue.Bloods.S03E09.720p.HDTV.X264-DIMENSION&key=633aa739739b8768502352ff8de6e59d',\n",
        " '/subtitle/download/he/260769/?v=Blue.Bloods.S03E09.HDTV.x264-LOL&key=934505a45f58a99af99f0a32b886a6e9']"
       ]
      }
     ],
     "prompt_number": 34
    },
    {
     "cell_type": "code",
     "collapsed": false,
     "input": [
      "%run subcenter.py modern-family 4 11"
     ],
     "language": "python",
     "metadata": {},
     "outputs": [
      {
       "output_type": "stream",
       "stream": "stdout",
       "text": [
        "Did not find subtitles for \u05de\u05e9\u05e4\u05d7\u05d4 \u05de\u05d5\u05d3\u05e8\u05e0\u05d9\u05ea\n"
       ]
      }
     ],
     "prompt_number": 56
    },
    {
     "cell_type": "code",
     "collapsed": false,
     "input": [
      "%run subcenter.py greys-anatomy 9 9"
     ],
     "language": "python",
     "metadata": {},
     "outputs": [
      {
       "output_type": "stream",
       "stream": "stdout",
       "text": [
        "Found subtitles for \u05d4\u05d0\u05e0\u05d8\u05d5\u05de\u05d9\u05d4 \u05e9\u05dc \u05d2\u05e8\u05d9\u05d9\n"
       ]
      }
     ],
     "prompt_number": 57
    },
    {
     "cell_type": "code",
     "collapsed": false,
     "input": [
      "%run subcenter the-big-bang-theory 6 12 LOL"
     ],
     "language": "python",
     "metadata": {},
     "outputs": [
      {
       "output_type": "stream",
       "stream": "stdout",
       "text": [
        "Found subtitles for \u05d4\u05de\u05e4\u05e5 \u05d4\u05d2\u05d3\u05d5\u05dc\n"
       ]
      }
     ],
     "prompt_number": 58
    },
    {
     "cell_type": "code",
     "collapsed": false,
     "input": [],
     "language": "python",
     "metadata": {},
     "outputs": []
    }
   ],
   "metadata": {}
  }
 ]
}