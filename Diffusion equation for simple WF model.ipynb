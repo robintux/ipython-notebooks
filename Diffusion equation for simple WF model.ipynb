{
 "metadata": {
  "name": ""
 },
 "nbformat": 3,
 "nbformat_minor": 0,
 "worksheets": [
  {
   "cells": [
    {
     "cell_type": "markdown",
     "metadata": {},
     "source": [
      "## Simple WF model"
     ]
    },
    {
     "cell_type": "markdown",
     "metadata": {},
     "source": [
      "## WF simulation"
     ]
    },
    {
     "cell_type": "code",
     "collapsed": false,
     "input": [
      "def step(x,s,u1,u2,N):\n",
      "    x = x * (1 - u2) + (1 - x) * (1-s) * u1\n",
      "    mf = x + (1 - x) * (1 - s)\n",
      "    x = x/mf\n",
      "    n = binomial(N, x)\n",
      "    x = n/float(N)\n",
      "    return x"
     ],
     "language": "python",
     "metadata": {},
     "outputs": [],
     "prompt_number": 1
    },
    {
     "cell_type": "code",
     "collapsed": false,
     "input": [
      "s = 0.01\n",
      "N = 10000\n",
      "u1 = 0.0003\n",
      "u2 = 10*u1\n",
      "x = 0.5\n",
      "_ = []\n",
      "while (s == 0 and x > 0.1) or (s > 0 and x < 1 - u2/s):\n",
      "    _.append(x)\n",
      "    x = step(x,s,u1,u2,N)\n",
      "plot(_)\n",
      "xlabel('t')\n",
      "ylabel('x');"
     ],
     "language": "python",
     "metadata": {},
     "outputs": [
      {
       "metadata": {},
       "output_type": "display_data",
       "png": "[encoded data removed]",
       "text": [
        "<matplotlib.figure.Figure at 0x16b38f60>"
       ]
      }
     ],
     "prompt_number": 236
    },
    {
     "cell_type": "code",
     "collapsed": false,
     "input": [
      "def sample_hitting_prob(x,y,z):\n",
      "    assert 0<y<x<z<1\n",
      "    while y<x<z:\n",
      "        x = step(x,s,u1,u2,N)\n",
      "    return x<=y\n",
      "def estimate_hitting_prob(x,y,z,replicates=1000): \n",
      "    samples = [sample_hitting_prob(x,y,z) for _ in range(replicates)]\n",
      "    return mean(samples),std(samples)/sqrt(replicates) \n",
      "estimate_hitting_prob(0.5,0.49,0.51)"
     ],
     "language": "python",
     "metadata": {},
     "outputs": [
      {
       "metadata": {},
       "output_type": "pyout",
       "prompt_number": 223,
       "text": [
        "(0.22700000000000001, 0.013246546719805796)"
       ]
      }
     ],
     "prompt_number": 223
    },
    {
     "cell_type": "markdown",
     "metadata": {},
     "source": [
      "### Diffusion equation\n",
      "\n",
      "Based on example 7.5 in [@Durret2008]:\n",
      "\n",
      "> Example 7.5. Wright-Fisher model with selection and mutation. As before, we\n",
      "have two alleles, A and a, with the fitness of A is 1 and fitness of a is 1\u2212s. This\n",
      "time a -> A with probability \u03bc1 and A -> a with probability \u03bc2. In defining\n",
      "our process we will suppose that selection occurs first followed by mutation...\n",
      "The infinitesimal generator is:\n",
      "$$\n",
      "Lf = \\frac{1}{2} x(1-x)\\frac{d^2}{dx^2}f+(\\gamma x(1-x)+\\beta_1 (1-x)-\\beta_2 x) \\frac{d}{dx}f\n",
      "$$\n",
      "where $\\gamma = 2Ns$ and $\\beta_i = 2N\\mu_i$."
     ]
    },
    {
     "cell_type": "markdown",
     "metadata": {},
     "source": [
      "The major change is that our model is haploid and therefore we subtitute$N=N/2$ in the above.\n",
      "\n",
      "From the definition of the infinitesimal generator:\n",
      "$$\n",
      "b(x) = \\gamma x(1-x) + \\beta_1 (1-x) - \\beta_2 x = Ns x (1-x) + N\\mu_1 (1-x) - N\\mu_2 x\\\\\\\\\n",
      "a(x) = x (1-x)\n",
      "$$"
     ]
    },
    {
     "cell_type": "code",
     "collapsed": false,
     "input": [
      "def b(x):\n",
      "    return N * s * x * (1-x) + N * u1 * (1-x) - N * u2 * x\n",
      "\n",
      "def a(x):\n",
      "    return x * (1-x)"
     ],
     "language": "python",
     "metadata": {},
     "outputs": [],
     "prompt_number": 224
    },
    {
     "cell_type": "markdown",
     "metadata": {},
     "source": [
      "### Hitting probability"
     ]
    },
    {
     "cell_type": "markdown",
     "metadata": {},
     "source": [
      "We now follow example 7.16 but add selection.\n",
      "\n",
      "- We define $\\phi$ to be the _natural scale_ (pg. 264) which is the unique solution of $L\\phi=\\frac{1}{2}a(x)\\phi''+b(x)\\phi'=0$.\n",
      "- We define  $\\psi=\\frac{d\\phi}{dx}=\\phi'$ so that $\\frac{1}{2}a(x) \\psi' + b(x) \\psi = 0 \\Rightarrow \\psi' = \\frac{-2b(x)}{a(x)} \\Rightarrow \\psi = exp(\\int^y{\\frac{-2b(z)}{a(z)} dz})$ and $\\phi(x) = \\int^x{\\psi(y) dt}$."
     ]
    },
    {
     "cell_type": "markdown",
     "metadata": {},
     "source": [
      "So, we have\n",
      "$$\n",
      "\\psi(x) = exp(\\int^x{\\frac{-2b(y)}{a(y)} dy}) = \\\\\\\\\n",
      "exp(\\int^x{-2\\frac{ Ns y (1-y) + N\\mu_1 (1-y) - N\\mu_2 y}{y(1-y)} dy}) = \\\\\\\\\n",
      "exp(\\int^x{-2N (s + \\frac{\\mu_1}{y} - \\frac{\\mu_2 }{1-y}) dy}) = \\\\\\\\\n",
      "exp(\\int^x{-2Ns dy}) exp(\\int^x{-2N (\\frac{\\mu_1}{y} - \\frac{\\mu_2 }{1-y}) dy}) = \\\\\\\\\n",
      "exp(\\int^x{-2Ns dy}) exp(\\int^x{-2N (\\frac{\\mu_1}{y} - \\frac{\\mu_2 }{1-y}) dy}) \\Rightarrow \\\\\\\\\n",
      "\\psi(x) = e^{-2Nsx} x^{-2N\\mu_1}(1-x)^{-2N\\mu_2}\n",
      "$$"
     ]
    },
    {
     "cell_type": "markdown",
     "metadata": {},
     "source": [
      "In the last transition we don't care about the sign of $1-x$ because of the even power.\n",
      "\n",
      "And now:\n",
      "$$\n",
      "\\phi(x) = \\int_{1/2}^{x}{e^{-2Nsy} y^{-2N\\mu_1} (1-y)^{-2N\\mu_2} dy}\n",
      "$$"
     ]
    },
    {
     "cell_type": "code",
     "collapsed": false,
     "input": [
      "psi = lambda x: exp(-2.0*N*s*x) * pow(x,-2.0*N*u1) * pow(1-x,-2.0*N*u2)\n",
      "psi(0.5)"
     ],
     "language": "python",
     "metadata": {},
     "outputs": [
      {
       "metadata": {},
       "output_type": "pyout",
       "prompt_number": 225,
       "text": [
        "2.74493157857645e-24"
       ]
      }
     ],
     "prompt_number": 225
    },
    {
     "cell_type": "code",
     "collapsed": false,
     "input": [
      "from scipy.integrate import quad\n",
      "phi = lambda x: quad(psi,0.5,x)[0]"
     ],
     "language": "python",
     "metadata": {},
     "outputs": [],
     "prompt_number": 226
    },
    {
     "cell_type": "code",
     "collapsed": false,
     "input": [
      "print r\"beta_1\", N*u1\n",
      "print r\"beta_2\", N*u2"
     ],
     "language": "python",
     "metadata": {},
     "outputs": [
      {
       "output_type": "stream",
       "stream": "stdout",
       "text": [
        "beta_1 3.0\n",
        "beta_2 30.0\n"
       ]
      }
     ],
     "prompt_number": 227
    },
    {
     "cell_type": "code",
     "collapsed": false,
     "input": [
      "# start at x and get to y before z\n",
      "P = lambda x,y,z: (phi(z)-phi(x))/(phi(z)-phi(y))"
     ],
     "language": "python",
     "metadata": {},
     "outputs": [],
     "prompt_number": 228
    },
    {
     "cell_type": "code",
     "collapsed": false,
     "input": [
      "print \"P(0.51,0.49) =\",P(0.5, 0.51, 0.49)\n",
      "print \"P(0.49,0.51) =\",P(0.5, 0.49, 0.51)"
     ],
     "language": "python",
     "metadata": {},
     "outputs": [
      {
       "output_type": "stream",
       "stream": "stdout",
       "text": [
        "P(0.51,0.49) = 0.715434119299\n",
        "P(0.49,0.51) = 0.284565880701\n"
       ]
      }
     ],
     "prompt_number": 229
    },
    {
     "cell_type": "code",
     "collapsed": false,
     "input": [
      "x = linspace(0.1,0.9,50)\n",
      "y = linspace(0.09,0.89,len(x))\n",
      "z = linspace(0.11,0.91,len(x))\n",
      "p1 = [P(x[i],y[i],z[i]) for i in range(len(y))]\n",
      "#plot(p1)"
     ],
     "language": "python",
     "metadata": {},
     "outputs": [],
     "prompt_number": 239
    },
    {
     "cell_type": "code",
     "collapsed": false,
     "input": [
      "p2 = array([estimate_hitting_prob(x[i],y[i],z[i],1000) for i in range(len(y))])"
     ],
     "language": "python",
     "metadata": {},
     "outputs": [],
     "prompt_number": 233
    },
    {
     "cell_type": "code",
     "collapsed": false,
     "input": [
      "plot(x, p1, label='Diffusion')\n",
      "errorbar(x, p2[:,0], yerr=p2[:,1], fmt='.', label='Simulation')\n",
      "ylabel('Probability of losing 1% before gaining 1%')\n",
      "xlabel('Starting frequency of A')\n",
      "legend(loc=2);"
     ],
     "language": "python",
     "metadata": {},
     "outputs": [
      {
       "metadata": {},
       "output_type": "display_data",
       "png": "[encoded data removed]",
       "text": [
        "<matplotlib.figure.Figure at 0x123685f8>"
       ]
      }
     ],
     "prompt_number": 240
    },
    {
     "cell_type": "code",
     "collapsed": false,
     "input": [],
     "language": "python",
     "metadata": {},
     "outputs": []
    }
   ],
   "metadata": {}
  }
 ]
}