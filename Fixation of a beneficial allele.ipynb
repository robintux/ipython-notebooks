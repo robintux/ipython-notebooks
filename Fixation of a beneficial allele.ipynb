{
 "metadata": {
  "name": "",
  "signature": "sha256:39680fb017bc26fc65b1d7da623201c0cd82f432c3142242032e81345327cc0e"
 },
 "nbformat": 3,
 "nbformat_minor": 0,
 "worksheets": [
  {
   "cells": [
    {
     "cell_type": "markdown",
     "metadata": {},
     "source": [
      "## Fixation probability"
     ]
    },
    {
     "cell_type": "code",
     "collapsed": false,
     "input": [
      "from scipy import __version__ as ver\n",
      "print \"Scipy\", ver\n",
      "from numpy import __version__ as ver\n",
      "print \"Numpy\", ver\n",
      "from matplotlib import __version__ as ver\n",
      "print \"Matplotlib\", ver\n",
      "from IPython import __version__ as ver\n",
      "print \"IPython\", ver\n",
      "from pandas import __version__ as ver\n",
      "print \"pandas\", ver\n",
      "from datetime import datetime\n",
      "import os\n",
      "\n",
      "rcParams['figure.figsize'] = (8,6)\n",
      "rcParams['font.size'] = 14\n",
      "rcParams['lines.linewidth'] = 2\n",
      " \n",
      "simulations_filename = \"/home/yoavram/workspace/ipython-notebooks/fixation_simulations.csv\""
     ],
     "language": "python",
     "metadata": {},
     "outputs": [
      {
       "output_type": "stream",
       "stream": "stdout",
       "text": [
        "Scipy 0.12.0\n",
        "Numpy 1.7.1\n",
        "Matplotlib 1.3.0\n",
        "IPython 2.0.0-dev\n",
        "pandas 0.12.0\n"
       ]
      }
     ],
     "prompt_number": 1
    },
    {
     "cell_type": "code",
     "collapsed": false,
     "input": [
      "from IPython.display import display, HTML \n",
      "dt = datetime.now()\n",
      "display(HTML(\"<h2>\" + dt.ctime() + \"</h2>\"))"
     ],
     "language": "python",
     "metadata": {},
     "outputs": [
      {
       "html": [
        "<h2>Thu Mar 27 10:51:45 2014</h2>"
       ],
       "metadata": {},
       "output_type": "display_data",
       "text": [
        "<IPython.core.display.HTML at 0x8aa9550>"
       ]
      }
     ],
     "prompt_number": 2
    },
    {
     "cell_type": "markdown",
     "metadata": {},
     "source": [
      "### Wright-Fisher Simulation"
     ]
    },
    {
     "cell_type": "code",
     "collapsed": false,
     "input": [
      "def simulate_fixation(s, N, x, PLOT=False):\n",
      "    N = int(N)\n",
      "    if PLOT:\n",
      "        _ = []\n",
      "    t = 0\n",
      "    while not (allclose(x,1) or allclose(x,0)):\n",
      "        assert 0 < x < 1\n",
      "        t += 1\n",
      "        if PLOT: _.append(x)\n",
      "        x = x/(1-s+s*x)\n",
      "        n = binomial(N,x)\n",
      "        x = n/float(N)\n",
      "        if PLOT: \n",
      "            if len(_)%100 == 0:\n",
      "                print len(_),\n",
      "    if PLOT:\n",
      "        plot(range(len(_)), _)\n",
      "        ylim(-0.1,1)\n",
      "        xlim(0,max(10,len(_)))\n",
      "        xlabel(\"Time\")\n",
      "        ylabel(\"Frequency\")\n",
      "    return allclose(x,1), t\n",
      "\n",
      "while not simulate_fixation(0.1, 1e3, 1e-3, True)[0]:\n",
      "    pass"
     ],
     "language": "python",
     "metadata": {},
     "outputs": [
      {
       "metadata": {},
       "output_type": "display_data",
       "png": "[encoded data removed]",
       "text": [
        "<matplotlib.figure.Figure at 0x3b02850>"
       ]
      }
     ],
     "prompt_number": 65
    },
    {
     "cell_type": "code",
     "collapsed": false,
     "input": [
      "def p_simulation(s, N, x, replicates=100):\n",
      "    if os.path.exists(simulations_filename):\n",
      "        print \"File found.\",\n",
      "        df = pd.read_csv(simulations_filename)\n",
      "    else:\n",
      "        df = pd.DataFrame(columns=['type','s','N','x','fixation_success','fixation_time'])\n",
      "    df_slice = df[(df['type']=='simple_wf') & (df['s']==s) & (df['N']==N) & (df['x']==x)]\n",
      "    print \"%d results found.\" % len(df_slice),\n",
      "    if len(df_slice) < replicates:\n",
      "        print \"Running %d more simulations.\" % (replicates - len(df_slice)),\n",
      "        results = [simulate_fixation(s, N, x) for _ in range(replicates - len(df))]\n",
      "        d = [{'s':s,'N':N,'x':x,'type':'simple_wf','fixation_success':fixation_success,'fixation_time':fixation_time} for (fixation_success,fixation_time) in results]       \n",
      "        d = pd.DataFrame(d)\n",
      "        if len(df):\n",
      "            print \"Concatinating.\",\n",
      "            df = pd.concat((df, d), ignore_index=True)\n",
      "        else:\n",
      "            df = d\n",
      "        print \"Writing new results to %s.\" % simulations_filename\n",
      "        df.to_csv(simulations_filename, index=False)\n",
      "    df_slice = df[(df['type']=='simple_wf') & (df['s']==s) & (df['N']==N) & (df['x']==x)]\n",
      "    return df_slice['fixation_success'].mean(), df_slice['fixation_success'].std(ddof=1)/sqrt(len(df_slice))\n",
      "p_simulation(0.1, 1e5, 1e-5, 101)"
     ],
     "language": "python",
     "metadata": {},
     "outputs": [
      {
       "output_type": "stream",
       "stream": "stdout",
       "text": [
        "File found. 101 results found."
       ]
      },
      {
       "metadata": {},
       "output_type": "pyout",
       "prompt_number": 106,
       "text": [
        "(0.14851485148514851, 0.035560960388253383)"
       ]
      },
      {
       "output_type": "stream",
       "stream": "stdout",
       "text": [
        "\n"
       ]
      }
     ],
     "prompt_number": 106
    },
    {
     "cell_type": "markdown",
     "metadata": {},
     "source": [
      "### Large population"
     ]
    },
    {
     "cell_type": "code",
     "collapsed": false,
     "input": [
      "def p_eshel(s,N,x):\n",
      "    return (2*s)*(N*x)"
     ],
     "language": "python",
     "metadata": {},
     "outputs": [],
     "prompt_number": 3
    },
    {
     "cell_type": "markdown",
     "metadata": {},
     "source": [
      "### Small population"
     ]
    },
    {
     "cell_type": "code",
     "collapsed": false,
     "input": [
      "def p_kimura(s,N,x):\n",
      "    return (1-exp(-2*N*s*x))/(1-exp(-2*N*s))"
     ],
     "language": "python",
     "metadata": {},
     "outputs": [],
     "prompt_number": 4
    },
    {
     "cell_type": "markdown",
     "metadata": {},
     "source": [
      "### Comparison"
     ]
    },
    {
     "cell_type": "code",
     "collapsed": false,
     "input": [
      "def plot_kimura_eshel_simulation(x, kimura=None, eshel=None, simulation=None, xlabel='', ylabel='p'):\n",
      "    fig,ax = subplots(1,1)\n",
      "    if kimura != None: ax.plot(x, kimura, label='Diffusion')\n",
      "    if eshel != None: ax.plot(x, eshel, label='1st Order')\n",
      "    if simulation != None: ax.plot(x, simulation, 'og', alpha=0.5, label='Simulation')\n",
      "    ax.legend(loc=9)\n",
      "    ax.set_xscale('log')\n",
      "    ax.grid(False,'minor')\n",
      "    ax.set_xlabel(xlabel)\n",
      "    ax.set_ylabel(ylabel)\n",
      "    ax.set_xlim(min(x)/2,max(x)*2)\n",
      "    low,high = ax.get_ylim()\n",
      "    ax.set_ylim(low-(high-low)/10, high+(high-low)/10)\n",
      "    return fig,ax"
     ],
     "language": "python",
     "metadata": {},
     "outputs": [],
     "prompt_number": 22
    },
    {
     "cell_type": "code",
     "collapsed": false,
     "input": [
      "from IPython.parallel import Client\n",
      "pool = Client()[:]\n",
      "print \"# CPUs\",len(pool.client.ids)\n",
      "with pool.sync_imports():\n",
      "    from numpy import allclose, mean\n",
      "    from numpy.random import binomial\n",
      "pool['simulate_fixation'] = simulate_fixation\n",
      "pool['p_simulation'] = p_simulation"
     ],
     "language": "python",
     "metadata": {},
     "outputs": [
      {
       "output_type": "stream",
       "stream": "stdout",
       "text": [
        "# CPUs 10\n",
        "importing allclose,mean from numpy on engine(s)\n",
        "importing binomial from numpy.random on engine(s)\n"
       ]
      }
     ],
     "prompt_number": 23
    },
    {
     "cell_type": "code",
     "collapsed": false,
     "input": [
      "N_range = array(map(int,logspace(3,5,3)))\n",
      "s = 0.01\n",
      "print N_range"
     ],
     "language": "python",
     "metadata": {},
     "outputs": [
      {
       "output_type": "stream",
       "stream": "stdout",
       "text": [
        "[  1000  10000 100000]\n"
       ]
      }
     ],
     "prompt_number": 44
    },
    {
     "cell_type": "code",
     "collapsed": false,
     "input": [
      "p_simulation_N = [p_simulation(s, N, 1./N, replicates=10) for N in N_range]"
     ],
     "language": "python",
     "metadata": {},
     "outputs": [
      {
       "output_type": "stream",
       "stream": "stdout",
       "text": [
        "File found. 0 results found. Running 10 more simulations. Concatinating. Writing new results to /home/yoavram/workspace/ipython-notebooks/fixation_simulations.csv.\n",
        "File found. 0 results found. Running 10 more simulations. Concatinating. Writing new results to /home/yoavram/workspace/ipython-notebooks/fixation_simulations.csv.\n",
        "File found. 0 results found. Running 10 more simulations. Concatinating. Writing new results to /home/yoavram/workspace/ipython-notebooks/fixation_simulations.csv.\n"
       ]
      }
     ],
     "prompt_number": 109
    },
    {
     "cell_type": "code",
     "collapsed": false,
     "input": [
      "df=pd.read_csv(\"/home/yoavram/workspace/ipython-notebooks/fixation_simulations.csv\")\n",
      "len(df[(df['type']=='simple_wf') & (df['s']==s)])\n",
      "#s,N,1./N\n",
      "!pwd"
     ],
     "language": "python",
     "metadata": {},
     "outputs": [
      {
       "output_type": "stream",
       "stream": "stdout",
       "text": [
        "/home/yoavram/workspace/ipython-notebooks\r\n"
       ]
      }
     ],
     "prompt_number": 193
    },
    {
     "cell_type": "code",
     "collapsed": false,
     "input": [
      "p_eshel_N  = p_eshel(s, N_range, 1./N_range) \n",
      "p_kimura_N = p_kimura(s, N_range, 1./N_range)"
     ],
     "language": "python",
     "metadata": {},
     "outputs": [],
     "prompt_number": 441
    },
    {
     "cell_type": "code",
     "collapsed": false,
     "input": [
      "plot_kimura_eshel_simulation(N_range, p_kimura_N, p_eshel_N, p_simulation_N, 'N');"
     ],
     "language": "python",
     "metadata": {},
     "outputs": [
      {
       "metadata": {},
       "output_type": "display_data",
       "png": "[encoded data removed]",
       "text": [
        "<matplotlib.figure.Figure at 0x8391250>"
       ]
      }
     ],
     "prompt_number": 442
    },
    {
     "cell_type": "code",
     "collapsed": false,
     "input": [
      "N = int(1e6)\n",
      "s_range = logspace(-4,-1,50)"
     ],
     "language": "python",
     "metadata": {},
     "outputs": [],
     "prompt_number": 247
    },
    {
     "cell_type": "code",
     "collapsed": false,
     "input": [
      "p_simulation_s = load_or_run(\"p_simulation_s_N_1e%d.gz\" % log10(N), \n",
      "                             lambda: pool.map_sync(lambda s,N: p_simulation(s, N, 1./N, 1000), s_range, [N]*len(s_range)),\n",
      "                             force_calc=False)"
     ],
     "language": "python",
     "metadata": {},
     "outputs": [
      {
       "output_type": "stream",
       "stream": "stdout",
       "text": [
        "Calculating... "
       ]
      },
      {
       "output_type": "stream",
       "stream": "stdout",
       "text": [
        "Saving results to p_simulation_s_N_1e6.gz\n"
       ]
      }
     ],
     "prompt_number": 248
    },
    {
     "cell_type": "code",
     "collapsed": false,
     "input": [
      "p_eshel_s  = p_eshel(s_range, N, 1./N)\n",
      "p_kimura_s = p_kimura(s_range, N, 1./N)"
     ],
     "language": "python",
     "metadata": {},
     "outputs": [],
     "prompt_number": 249
    },
    {
     "cell_type": "code",
     "collapsed": false,
     "input": [
      "plot_kimura_eshel_simulation(s_range, p_kimura_s, p_eshel_s, p_simulation_s, 's');"
     ],
     "language": "python",
     "metadata": {},
     "outputs": [
      {
       "metadata": {},
       "output_type": "display_data",
       "png": "[encoded data removed]",
       "text": [
        "<matplotlib.figure.Figure at 0x9778ed0>"
       ]
      }
     ],
     "prompt_number": 408
    },
    {
     "cell_type": "markdown",
     "metadata": {},
     "source": [
      "## Fixation time\n",
      "\n",
      "### Small population\n",
      "\n",
      "The following formula is taken from [Kimura and Ohta 1969](http://www.pubmedcentral.nih.gov/articlerender.fcgi?artid=1212239) which assumes a population size of _2N_ and selection advantage of _s/2_ rather then _N_ and _s_, therefore some modifications are made by calling the relevant function with _s/2_ and _2N_."
     ]
    },
    {
     "cell_type": "code",
     "collapsed": false,
     "input": [
      "from scipy.integrate import quad as integral"
     ],
     "language": "python",
     "metadata": {},
     "outputs": [],
     "prompt_number": 5
    },
    {
     "cell_type": "code",
     "collapsed": false,
     "input": [
      "def integrand1(s, N, x):\n",
      "    if x == 1:\n",
      "        return 2*N*s * (1 - exp(-2*N*s))\n",
      "    return (1 - exp(-2*N*s*x) - exp(-(1-x)) - exp(-2*N*s))/(x*(1-x))\n",
      "\n",
      "def integrand2(s,N,x):\n",
      "    if x == 0:\n",
      "        return 0\n",
      "    return (exp(2*N*s*x) - 1) * (1 - exp(-2*N*s*x))/(x*(1-x))\n",
      "def T_kimura(s,N,x):\n",
      "    J1 = 2/(s*(1 - exp(-2*N*s))) * integral(lambda t: integrand1(s,N,t), x, 1)[0]\n",
      "    u = (1-exp(-2*N*s*x))/(1-exp(-2*N*s))\n",
      "    J2 = 2/(s*(1-exp(-2*N*s))) * integral(lambda t: integrand2(s,N,t), 0, x)[0]\n",
      "    return J1 + ((1-u)/u) * J2\n",
      "T_kimura(0.1, 1e6, 1e-6)"
     ],
     "language": "python",
     "metadata": {},
     "outputs": [
      {
       "metadata": {},
       "output_type": "pyout",
       "prompt_number": 7,
       "text": [
        "158.25335410699017"
       ]
      }
     ],
     "prompt_number": 7
    },
    {
     "cell_type": "markdown",
     "metadata": {},
     "source": [
      "## Simulation"
     ]
    },
    {
     "cell_type": "code",
     "collapsed": false,
     "input": [
      "def T_simulation(s,N,x,replicates=100):\n",
      "    Ts = [simulate_fixation(s, N, 1./N) for _ in range(replicates)]\n",
      "    return mean([t[1] for t in Ts if t[0]])\n",
      "pool['T_simulation'] = T_simulation\n",
      "T_simulation(0.1, 1e5, 1e-5)"
     ],
     "language": "python",
     "metadata": {},
     "outputs": [
      {
       "metadata": {},
       "output_type": "pyout",
       "prompt_number": 11,
       "text": [
        "198.58333333333334"
       ]
      }
     ],
     "prompt_number": 11
    },
    {
     "cell_type": "markdown",
     "metadata": {},
     "source": [
      "### Comparison"
     ]
    },
    {
     "cell_type": "code",
     "collapsed": false,
     "input": [
      "N_range = map(int,logspace(3,8,50))\n",
      "s = 0.01"
     ],
     "language": "python",
     "metadata": {},
     "outputs": [],
     "prompt_number": 394
    },
    {
     "cell_type": "code",
     "collapsed": false,
     "input": [
      "T_kimura_N    = [T_kimura(s/2, 2*N, 1./(2*N)) for N in N_range]"
     ],
     "language": "python",
     "metadata": {},
     "outputs": [],
     "prompt_number": 413
    },
    {
     "cell_type": "code",
     "collapsed": false,
     "input": [
      "T_simulation_N = load_or_run(\"T_simulation_N_s_%g.gz\" % s, \n",
      "                             lambda: pool.map_sync(lambda s,N: T_simulation(s, N, 1./N, 1000), [s]*len(N_range), N_range),\n",
      "                             force_calc=False)"
     ],
     "language": "python",
     "metadata": {},
     "outputs": [
      {
       "output_type": "stream",
       "stream": "stdout",
       "text": [
        "Calculating... "
       ]
      },
      {
       "output_type": "stream",
       "stream": "stdout",
       "text": [
        "Saving results to T_simulation_N_s_0.01.gz\n"
       ]
      }
     ],
     "prompt_number": 396
    },
    {
     "cell_type": "code",
     "collapsed": false,
     "input": [
      "plot_kimura_eshel_simulation(N_range, T_kimura_N, simulation=T_simulation_N, xlabel='N', ylabel='T');"
     ],
     "language": "python",
     "metadata": {},
     "outputs": [
      {
       "metadata": {},
       "output_type": "display_data",
       "png": "[encoded data removed]",
       "text": [
        "<matplotlib.figure.Figure at 0x99261d0>"
       ]
      }
     ],
     "prompt_number": 414
    },
    {
     "cell_type": "code",
     "collapsed": false,
     "input": [
      "N = int(1e6)\n",
      "s_range = logspace(-3,-1,50)"
     ],
     "language": "python",
     "metadata": {},
     "outputs": [],
     "prompt_number": 425
    },
    {
     "cell_type": "code",
     "collapsed": false,
     "input": [
      "T_kimura_s    = [T_kimura(s/2, N*2, 1./(2*N)) for s in s_range]"
     ],
     "language": "python",
     "metadata": {},
     "outputs": [],
     "prompt_number": 434
    },
    {
     "cell_type": "code",
     "collapsed": false,
     "input": [
      "T_simulation_s = load_or_run(\"T_simulation_s_N_1e%d.gz\" % log10(N), \n",
      "                             lambda: pool.map_sync(lambda s,N: T_simulation(s, N, 1./N, 1000), s_range, [N]*len(s_range)),\n",
      "                             force_calc=False)"
     ],
     "language": "python",
     "metadata": {},
     "outputs": [
      {
       "output_type": "stream",
       "stream": "stdout",
       "text": [
        "Calculating... "
       ]
      },
      {
       "output_type": "stream",
       "stream": "stdout",
       "text": [
        "Saving results to T_simulation_s_N_1e6.gz\n"
       ]
      }
     ],
     "prompt_number": 429
    },
    {
     "cell_type": "code",
     "collapsed": false,
     "input": [
      "plot_kimura_eshel_simulation(s_range, T_kimura_s, simulation=T_simulation_s, xlabel='s', ylabel='T');"
     ],
     "language": "python",
     "metadata": {},
     "outputs": [
      {
       "metadata": {},
       "output_type": "display_data",
       "png": "[encoded data removed]",
       "text": [
        "<matplotlib.figure.Figure at 0x8f68f10>"
       ]
      }
     ],
     "prompt_number": 435
    },
    {
     "cell_type": "markdown",
     "metadata": {},
     "source": [
      "## Multiple locus simulation"
     ]
    },
    {
     "cell_type": "code",
     "collapsed": false,
     "input": [
      "sb,sd = 0.1,0.05\n",
      "U,G,tau = 0.03,5,10\n",
      "S = diag((1-sd)**arange(G))\n",
      "S = array(bmat([[S,zeros((G,G))],[zeros((G,G)),S*(1+sb)]]))\n",
      "print S.diagonal()"
     ],
     "language": "python",
     "metadata": {},
     "outputs": [
      {
       "output_type": "stream",
       "stream": "stdout",
       "text": [
        "[ 1.     0.95   0.902  0.857  0.815  1.1    1.045  0.993  0.943  0.896]\n"
       ]
      }
     ],
     "prompt_number": 41
    },
    {
     "cell_type": "code",
     "collapsed": false,
     "input": [
      "pi = 1\n",
      "Ma = diag(U + (tau - 1) * U * (S.diagonal()[:G-1] <= pi), -1)\n",
      "MA = diag(U + (tau - 1) * U * (S.diagonal()[G:-1] <= pi), -1)\n",
      "M = array(bmat([[Ma,zeros((G,G))],[zeros((G,G)),MA]]))\n",
      "M = diag(1.0 - M.sum(axis=0)) + M\n",
      "print M.sum(axis=0)"
     ],
     "language": "python",
     "metadata": {},
     "outputs": [
      {
       "output_type": "stream",
       "stream": "stdout",
       "text": [
        "[ 1.  1.  1.  1.  1.  1.  1.  1.  1.  1.]\n"
       ]
      }
     ],
     "prompt_number": 57
    },
    {
     "cell_type": "code",
     "collapsed": false,
     "input": [
      "def simulate_fixation_mut_load(sd,sb,U,N,x,G,pi,tau,PLOT=False):\n",
      "    assert 0 <= sd <= 1\n",
      "    assert 0 <= sb <= 1\n",
      "    assert 0 <= U \n",
      "    assert 1 <= N \n",
      "    assert 0 < x < 1\n",
      "    assert 0 <= G\n",
      "    assert 0 <= pi # in terms of fitness\n",
      "    assert 0 <= tau \n",
      "    \n",
      "    if PLOT:\n",
      "        _ = []\n",
      "    t = 0\n",
      "    \n",
      "    S = diag((1-sd)**arange(G))\n",
      "    S = array(bmat([[S,zeros((G,G))],[zeros((G,G)),S*(1+sb)]]))\n",
      "    \n",
      "    Ma = diag(U + (tau - 1) * U * (S.diagonal()[:G-1] <= pi), -1)\n",
      "    MA = diag(U + (tau - 1) * U * (S.diagonal()[G:-1] <= pi), -1)\n",
      "    M = array(bmat([[Ma,zeros((G,G))],[zeros((G,G)),MA]]))\n",
      "    M = diag(1.0 - M.sum(axis=0)) + M\n",
      "    assert allclose(M.sum(axis=0), 1)\n",
      "    \n",
      "    E = array(S.dot(array(M)))\n",
      "       \n",
      "    p = array([0.0]*(2*G))\n",
      "    p[0] = 1-x\n",
      "    p[G] = x\n",
      "            \n",
      "    while not (allclose(x,1) or allclose(x,0)):\n",
      "        assert 0 < x < 1        \n",
      "        if PLOT: _.append(x)\n",
      "            \n",
      "        t += 1        \n",
      "        p = E.dot(p)      \n",
      "        p /= p.sum()        \n",
      "        assert allclose(p.sum(), 1)\n",
      "        \n",
      "        if N > 0:\n",
      "            n = multinomial(N, p)\n",
      "        p = n/float(N)                \n",
      "        \n",
      "        assert allclose(p.sum(), 1)\n",
      "        x = p[G:].sum()\n",
      "        \n",
      "        if PLOT: \n",
      "            if len(_)%100 == 0:\n",
      "                print len(_),\n",
      "        \n",
      "    if PLOT:\n",
      "        plot(range(len(_)), _)\n",
      "        ylim(-0.1,1)\n",
      "        xlim(0,max(10,len(_)))\n",
      "        xlabel(\"Time\")\n",
      "        ylabel(\"Frequency\")\n",
      "    return allclose(x,1), t, S.diagonal().dot(p)\n",
      "\n",
      "with pool.sync_imports():\n",
      "    from numpy import allclose, mean, diag, arange, array, bmat, zeros\n",
      "    from numpy.random import binomial, multinomial\n",
      "pool['simulate_fixation_mut_load'] = simulate_fixation_mut_load\n",
      "\n",
      "while True:\n",
      "    fix,time,w = simulate_fixation_mut_load(0.05, 0.1, 0.003, 1e3, 1e-3, 5, 0, 1, True)\n",
      "    if fix:\n",
      "        break\n",
      "print\n",
      "print \"w:\",w/(1.1)"
     ],
     "language": "python",
     "metadata": {},
     "outputs": [
      {
       "output_type": "stream",
       "stream": "stdout",
       "text": [
        "importing allclose,mean,diag,arange,array,bmat,zeros from numpy on engine(s)\n",
        "importing binomial,multinomial from numpy.random on engine(s)\n",
        " "
       ]
      },
      {
       "output_type": "stream",
       "stream": "stdout",
       "text": [
        "100\n",
        "w: 0.99825\n"
       ]
      },
      {
       "metadata": {},
       "output_type": "display_data",
       "png": "[encoded data removed]",
       "text": [
        "<matplotlib.figure.Figure at 0x3e7a650>"
       ]
      }
     ],
     "prompt_number": 81
    },
    {
     "cell_type": "code",
     "collapsed": false,
     "input": [
      "simulations_NM = load_or_run(\"simulation_mut_load_sb_%f_N_%d_U_%f_pi_%f_tau_%f.gz\" % (0.1, 1e6, 0.003, 0, 1), \n",
      "                             lambda: pool.map_sync(lambda x: simulate_fixation_mut_load(0.05, 0.1, 0.003, 1e6, 1e-6, 10, 0, 1), range(10000)),\n",
      "                             force_calc=False)"
     ],
     "language": "python",
     "metadata": {},
     "outputs": [
      {
       "output_type": "stream",
       "stream": "stdout",
       "text": [
        "Calculating... "
       ]
      },
      {
       "output_type": "stream",
       "stream": "stdout",
       "text": [
        "Saving results to simulation_mut_load_sb_0.100000_N_1000000_U_0.003000_pi_0.000000_tau_1.000000.gz\n"
       ]
      }
     ],
     "prompt_number": 101
    },
    {
     "cell_type": "code",
     "collapsed": false,
     "input": [
      "simulations_CM = load_or_run(\"simulation_mut_load_sb_%f_N_%d_U_%f_pi_%f_tau_%f.gz\" % (0.1, 1e6, 0.003, 0, 10), \n",
      "                             lambda: pool.map_sync(lambda x: simulate_fixation_mut_load(0.05, 0.1, 0.003, 1e6, 1e-6, 10, 0, 10), range(10000)),\n",
      "                             force_calc=False)"
     ],
     "language": "python",
     "metadata": {},
     "outputs": [
      {
       "output_type": "stream",
       "stream": "stdout",
       "text": [
        "Calculating... "
       ]
      },
      {
       "output_type": "stream",
       "stream": "stdout",
       "text": [
        "Saving results to simulation_mut_load_sb_0.100000_N_1000000_U_0.003000_pi_0.000000_tau_10.000000.gz\n"
       ]
      }
     ],
     "prompt_number": 102
    },
    {
     "cell_type": "code",
     "collapsed": false,
     "input": [
      "simulations_SIM = load_or_run(\"simulation_mut_load_sb_%f_N_%d_U_%f_pi_%f_tau_%f.gz\" % (0.1, 1e6, 0.003, 1, 10), \n",
      "                             lambda: pool.map_sync(lambda x: simulate_fixation_mut_load(0.05, 0.1, 0.003, 1e6, 1e-6, 10, 1, 10), range(10000)),\n",
      "                             force_calc=False)"
     ],
     "language": "python",
     "metadata": {},
     "outputs": [
      {
       "output_type": "stream",
       "stream": "stdout",
       "text": [
        "Calculating... "
       ]
      },
      {
       "output_type": "stream",
       "stream": "stdout",
       "text": [
        "Saving results to simulation_mut_load_sb_0.100000_N_1000000_U_0.003000_pi_1.000000_tau_10.000000.gz\n"
       ]
      }
     ],
     "prompt_number": 103
    },
    {
     "cell_type": "code",
     "collapsed": false,
     "input": [
      "print \"Fixation Probability\"\n",
      "print \"NM: %.4f+-%.3f\" % (mean([x[0] for x in simulations_NM]), std([x[0] for x in simulations_NM], ddof=1))\n",
      "print \"CM: %.4f+-%.3f\" % (mean([x[0] for x in simulations_CM]), std([x[0] for x in simulations_CM], ddof=1))\n",
      "print \"SIM: %.4f+-%.3f\" % (mean([x[0] for x in simulations_SIM]), std([x[0] for x in simulations_SIM], ddof=1))"
     ],
     "language": "python",
     "metadata": {},
     "outputs": [
      {
       "output_type": "stream",
       "stream": "stdout",
       "text": [
        "Fixation Probability\n",
        "NM: 0.1714+-0.377\n",
        "CM: 0.1719+-0.377\n",
        "SIM: 0.1844+-0.388\n"
       ]
      }
     ],
     "prompt_number": 104
    },
    {
     "cell_type": "code",
     "collapsed": false,
     "input": [
      "print \"Fixation Time\"\n",
      "print \"NM: %.4f+-%.3f\" % (mean([x[1] for x in simulations_NM]), std([x[1] for x in simulations_NM], ddof=1))\n",
      "print \"CM: %.4f+-%.3f\" % (mean([x[1] for x in simulations_CM]), std([x[1] for x in simulations_CM], ddof=1))\n",
      "print \"SIM: %.4f+-%.3f\" % (mean([x[1] for x in simulations_SIM]), std([x[1] for x in simulations_SIM], ddof=1))"
     ],
     "language": "python",
     "metadata": {},
     "outputs": [
      {
       "output_type": "stream",
       "stream": "stdout",
       "text": [
        "Fixation Time\n",
        "NM: 47.1215+-95.916\n",
        "CM: 46.9227+-95.011\n",
        "SIM: 40.3813+-77.518\n"
       ]
      }
     ],
     "prompt_number": 105
    }
   ],
   "metadata": {}
  }
 ]
}