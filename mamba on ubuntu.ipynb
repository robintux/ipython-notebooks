{
 "metadata": {
  "name": "mamba on ubuntu"
 },
 "nbformat": 3,
 "nbformat_minor": 0,
 "worksheets": [
  {
   "cells": [
    {
     "cell_type": "markdown",
     "metadata": {},
     "source": [
      "# 13/1/13\n",
      "## Using ipython notebook to analyze *mamba* results on the cluster\n",
      "The working dire is the output dir of *mamba*. "
     ]
    },
    {
     "cell_type": "code",
     "collapsed": false,
     "input": [
      "cd ~/lecs/workspace/mamba"
     ],
     "language": "python",
     "metadata": {},
     "outputs": [
      {
       "output_type": "stream",
       "stream": "stdout",
       "text": [
        "/home/yoavram/lecs/workspace/mamba"
       ]
      },
      {
       "output_type": "stream",
       "stream": "stdout",
       "text": [
        "\n"
       ]
      }
     ],
     "prompt_number": 17
    },
    {
     "cell_type": "code",
     "collapsed": false,
     "input": [
      "ls output"
     ],
     "language": "python",
     "metadata": {},
     "outputs": [
      {
       "output_type": "stream",
       "stream": "stdout",
       "text": [
        "\u001b[0m\u001b[01;31mtest_2013-Jan-04_16-11-39-624351.csv.gz\u001b[0m\r\n",
        "\u001b[01;31mtest_2013-Jan-04_16-11-44-053876.csv.gz\u001b[0m\r\n",
        "\u001b[01;31mtest_2013-Jan-04_16-13-10-308299.csv.gz\u001b[0m\r\n",
        "\u001b[01;31mtest_2013-Jan-04_16-13-10-318040.csv.gz\u001b[0m\r\n",
        "\u001b[01;31mtest_2013-Jan-04_16-13-10-410356.csv.gz\u001b[0m\r\n",
        "\u001b[01;31mtest_2013-Jan-04_16-13-10-419183.csv.gz\u001b[0m\r\n",
        "\u001b[01;31mtest_2013-Jan-04_16-13-11-054463.csv.gz\u001b[0m\r\n",
        "\u001b[01;31mtest_2013-Jan-04_16-13-11-064373.csv.gz\u001b[0m\r\n",
        "\u001b[01;31mtest_2013-Jan-04_16-13-15-677255.csv.gz\u001b[0m\r\n",
        "\u001b[01;31mtest_2013-Jan-04_16-13-15-684057.csv.gz\u001b[0m\r\n",
        "\u001b[01;31mtest_2013-Jan-04_16-13-19-195815.csv.gz\u001b[0m\r\n",
        "\u001b[01;31mtest_2013-Jan-04_16-13-25-545868.csv.gz\u001b[0m\r\n",
        "\u001b[01;31mtest_2013-Jan-04_16-13-25-556163.csv.gz\u001b[0m\r\n",
        "\u001b[01;31mtest_2013-Jan-04_16-13-33-164043.csv.gz\u001b[0m\r\n",
        "\u001b[01;31mtest_2013-Jan-04_16-13-33-173206.csv.gz\u001b[0m\r\n",
        "\u001b[01;31mtest_2013-Jan-04_16-53-37-259369.csv.gz\u001b[0m\r\n",
        "\u001b[01;31mtest_2013-Jan-04_16-53-37-267225.csv.gz\u001b[0m\r\n",
        "\u001b[01;31mtest_2013-Jan-04_16-53-39-026352.csv.gz\u001b[0m\r\n",
        "\u001b[01;31mtest_2013-Jan-04_16-53-39-031339.csv.gz\u001b[0m\r\n",
        "\u001b[01;31mtest_2013-Jan-04_16-53-39-042233.csv.gz\u001b[0m\r\n",
        "\u001b[01;31mtest_2013-Jan-04_16-53-39-050139.csv.gz\u001b[0m\r\n",
        "\u001b[01;31mtest_2013-Jan-04_16-53-40-837265.csv.gz\u001b[0m\r\n",
        "\u001b[01;31mtest_2013-Jan-04_16-53-40-845512.csv.gz\u001b[0m\r\n",
        "\u001b[01;31mtest_2013-Jan-04_16-53-42-661322.csv.gz\u001b[0m\r\n",
        "\u001b[01;31mtest_2013-Jan-04_16-53-42-670868.csv.gz\u001b[0m\r\n",
        "\u001b[01;31mtest_2013-Jan-04_16-53-42-727270.csv.gz\u001b[0m\r\n",
        "\u001b[01;31mtest_2013-Jan-04_16-53-47-546016.csv.gz\u001b[0m\r\n",
        "\u001b[01;31mtest_2013-Jan-04_16-53-47-560128.csv.gz\u001b[0m\r\n",
        "\u001b[01;31mtest_2013-Jan-04_16-53-47-578115.csv.gz\u001b[0m\r\n",
        "\u001b[01;31mtest_2013-Jan-04_16-53-47-587028.csv.gz\u001b[0m\r\n",
        "\u001b[01;31mtest_2013-Jan-04_16-53-47-595281.csv.gz\u001b[0m\r\n",
        "\u001b[01;31mtest_2013-Jan-04_16-53-47-790402.csv.gz\u001b[0m\r\n",
        "\u001b[01;31mtest_2013-Jan-04_16-53-47-808135.csv.gz\u001b[0m\r\n",
        "\u001b[01;31mtest_2013-Jan-04_16-53-47-817694.csv.gz\u001b[0m\r\n",
        "\u001b[01;31mtest_2013-Jan-04_16-53-48-322105.csv.gz\u001b[0m\r\n",
        "\u001b[01;31mtest_2013-Jan-04_16-53-48-331921.csv.gz\u001b[0m\r\n",
        "\u001b[01;31mtest_2013-Jan-04_16-53-48-427500.csv.gz\u001b[0m\r\n",
        "\u001b[01;31mtest_2013-Jan-04_16-53-50-223223.csv.gz\u001b[0m\r\n",
        "\u001b[01;31mtest_2013-Jan-04_16-53-53-385977.csv.gz\u001b[0m\r\n",
        "\u001b[01;31mtest_2013-Jan-04_16-53-53-397709.csv.gz\u001b[0m\r\n",
        "\u001b[01;31mtest_2013-Jan-04_16-54-27-862128.csv.gz\u001b[0m\r\n",
        "\u001b[01;31mtest_2013-Jan-04_16-54-27-869701.csv.gz\u001b[0m\r\n",
        "\u001b[01;31mtest_2013-Jan-04_16-54-33-540753.csv.gz\u001b[0m\r\n",
        "\u001b[01;31mtest_2013-Jan-04_16-54-33-602718.csv.gz\u001b[0m\r\n",
        "\u001b[01;31mtest_2013-Jan-04_16-54-34-722993.csv.gz\u001b[0m\r\n",
        "\u001b[01;31mtest_2013-Jan-04_16-54-34-735550.csv.gz\u001b[0m\r\n",
        "\u001b[01;31mtest_2013-Jan-04_16-54-35-190164.csv.gz\u001b[0m\r\n",
        "\u001b[01;31mtest_2013-Jan-04_16-54-35-210613.csv.gz\u001b[0m\r\n",
        "\u001b[01;31mtest_2013-Jan-04_16-54-36-647849.csv.gz\u001b[0m\r\n",
        "\u001b[01;31mtest_2013-Jan-04_16-54-36-655818.csv.gz\u001b[0m\r\n",
        "\u001b[01;31mtest_2013-Jan-04_16-55-24-521457.csv.gz\u001b[0m\r\n",
        "\u001b[01;31mtest_2013-Jan-04_16-55-24-522637.csv.gz\u001b[0m\r\n",
        "\u001b[01;31mtest_2013-Jan-04_16-55-24-535046.csv.gz\u001b[0m\r\n",
        "\u001b[01;31mtest_2013-Jan-04_16-55-24-536319.csv.gz\u001b[0m\r\n",
        "\u001b[01;31mtest_2013-Jan-04_16-55-24-549032.csv.gz\u001b[0m\r\n",
        "\u001b[01;31mtest_2013-Jan-04_16-55-24-555158.csv.gz\u001b[0m\r\n",
        "\u001b[01;31mtest_2013-Jan-04_16-55-24-560957.csv.gz\u001b[0m\r\n",
        "\u001b[01;31mtest_2013-Jan-04_16-55-28-787616.csv.gz\u001b[0m\r\n",
        "\u001b[01;31mtest_2013-Jan-04_16-55-28-788901.csv.gz\u001b[0m\r\n",
        "\u001b[01;31mtest_2013-Jan-04_16-55-28-797097.csv.gz\u001b[0m\r\n",
        "\u001b[01;31mtest_2013-Jan-04_16-55-28-811831.csv.gz\u001b[0m\r\n",
        "\u001b[01;31mtest_2013-Jan-04_16-55-28-819957.csv.gz\u001b[0m\r\n",
        "\u001b[01;31mtest_2013-Jan-04_16-55-28-828185.csv.gz\u001b[0m\r\n",
        "\u001b[01;31mtest_2013-Jan-04_16-55-29-339574.csv.gz\u001b[0m\r\n",
        "\u001b[01;31mtest_2013-Jan-04_16-55-29-340084.csv.gz\u001b[0m\r\n",
        "\u001b[01;31mtest_2013-Jan-04_16-55-29-348349.csv.gz\u001b[0m\r\n",
        "\u001b[01;31mtest_2013-Jan-04_16-55-29-365110.csv.gz\u001b[0m\r\n",
        "\u001b[01;31mtest_2013-Jan-04_16-55-29-366242.csv.gz\u001b[0m\r\n",
        "\u001b[01;31mtest_2013-Jan-04_16-55-29-380820.csv.gz\u001b[0m\r\n",
        "\u001b[01;31mtest_2013-Jan-04_16-55-29-388877.csv.gz\u001b[0m\r\n",
        "\u001b[01;31mtest_2013-Jan-05_21-54-20-273517.csv.gz\u001b[0m\r\n",
        "\u001b[01;31mtest_2013-Jan-05_21-54-20-282397.csv.gz\u001b[0m\r\n",
        "\u001b[01;31mtest_2013-Jan-05_21-54-23-766205.csv.gz\u001b[0m\r\n",
        "\u001b[01;31mtest_2013-Jan-05_21-54-45-171215.csv.gz\u001b[0m\r\n",
        "\u001b[01;31mtest_2013-Jan-05_21-54-45-180942.csv.gz\u001b[0m\r\n",
        "\u001b[01;31mtest_2013-Jan-05_21-54-51-888000.csv.gz\u001b[0m\r\n",
        "\u001b[01;31mtest_2013-Jan-05_21-54-52-457860.csv.gz\u001b[0m\r\n",
        "\u001b[01;31mtest_2013-Jan-05_21-55-58-960674.csv.gz\u001b[0m\r\n",
        "\u001b[01;31mtest_2013-Jan-05_21-55-58-968550.csv.gz\u001b[0m\r\n",
        "\u001b[01;31mtest_2013-Jan-05_21-55-58-986544.csv.gz\u001b[0m\r\n",
        "\u001b[01;31mtest_2013-Jan-05_21-55-58-986609.csv.gz\u001b[0m\r\n",
        "\u001b[01;31mtest_2013-Jan-05_21-55-59-001858.csv.gz\u001b[0m\r\n",
        "\u001b[01;31mtest_2013-Jan-05_21-55-59-016104.csv.gz\u001b[0m\r\n",
        "\u001b[01;31mtest_2013-Jan-05_21-55-59-028215.csv.gz\u001b[0m\r\n",
        "\u001b[01;31mtest_2013-Jan-05_21-56-03-885677.csv.gz\u001b[0m\r\n",
        "\u001b[01;31mtest_2013-Jan-05_21-56-03-886755.csv.gz\u001b[0m\r\n",
        "\u001b[01;31mtest_2013-Jan-05_21-56-03-895536.csv.gz\u001b[0m\r\n",
        "\u001b[01;31mtest_2013-Jan-05_21-56-03-909554.csv.gz\u001b[0m\r\n",
        "\u001b[01;31mtest_2013-Jan-05_21-56-03-909657.csv.gz\u001b[0m\r\n",
        "\u001b[01;31mtest_2013-Jan-05_21-56-03-923727.csv.gz\u001b[0m\r\n",
        "\u001b[01;31mtest_2013-Jan-05_21-56-03-934206.csv.gz\u001b[0m\r\n",
        "\u001b[01;31mtest_2013-Jan-05_21-56-03-941970.csv.gz\u001b[0m\r\n",
        "\u001b[01;31mtest_2013-Jan-05_21-56-04-131428.csv.gz\u001b[0m\r\n",
        "\u001b[01;31mtest_2013-Jan-05_21-56-04-145499.csv.gz\u001b[0m\r\n",
        "\u001b[01;31mtest_2013-Jan-05_21-56-04-146756.csv.gz\u001b[0m\r\n",
        "\u001b[01;31mtest_2013-Jan-05_21-56-04-156958.csv.gz\u001b[0m\r\n",
        "\u001b[01;31mtest_2013-Jan-05_21-56-04-180948.csv.gz\u001b[0m\r\n",
        "\u001b[01;31mtest_2013-Jan-05_21-56-04-185810.csv.gz\u001b[0m\r\n",
        "\u001b[01;31mtest_2013-Jan-05_21-56-04-195304.csv.gz\u001b[0m\r\n",
        "\u001b[01;31mtest_2013-Jan-05_21-56-04-203363.csv.gz\u001b[0m\r\n",
        "\u001b[01;31mtest_2013-Jan-05_21-56-05-416779.csv.gz\u001b[0m\r\n",
        "\u001b[01;31mtest_2013-Jan-05_21-56-05-417967.csv.gz\u001b[0m\r\n",
        "\u001b[01;31mtest_2013-Jan-05_21-56-05-424064.csv.gz\u001b[0m\r\n",
        "\u001b[01;31mtest_2013-Jan-05_21-56-05-437012.csv.gz\u001b[0m\r\n",
        "\u001b[01;31mtest_2013-Jan-05_21-56-05-444451.csv.gz\u001b[0m\r\n",
        "\u001b[01;31mtest_2013-Jan-05_21-56-05-458281.csv.gz\u001b[0m\r\n",
        "\u001b[01;31mtest_2013-Jan-05_21-56-05-464500.csv.gz\u001b[0m\r\n",
        "\u001b[01;31mtest_2013-Jan-05_21-56-05-475102.csv.gz\u001b[0m\r\n",
        "\u001b[01;31mtest_2013-Jan-05_21-56-11-286673.csv.gz\u001b[0m\r\n",
        "\u001b[01;31mtest_2013-Jan-05_21-56-11-296326.csv.gz\u001b[0m\r\n",
        "\u001b[01;31mtest_2013-Jan-05_21-56-11-297527.csv.gz\u001b[0m\r\n",
        "\u001b[01;31mtest_2013-Jan-05_21-56-11-305568.csv.gz\u001b[0m\r\n",
        "\u001b[01;31mtest_2013-Jan-05_21-56-11-322351.csv.gz\u001b[0m\r\n",
        "\u001b[01;31mtest_2013-Jan-05_21-56-11-332621.csv.gz\u001b[0m\r\n",
        "\u001b[01;31mtest_2013-Jan-05_21-56-11-340490.csv.gz\u001b[0m\r\n",
        "\u001b[01;31mtest_2013-Jan-05_21-56-16-406439.csv.gz\u001b[0m\r\n",
        "\u001b[01;31mtest_2013-Jan-05_21-56-16-407226.csv.gz\u001b[0m\r\n",
        "\u001b[01;31mtest_2013-Jan-05_21-56-16-415895.csv.gz\u001b[0m\r\n",
        "\u001b[01;31mtest_2013-Jan-05_21-56-16-433092.csv.gz\u001b[0m\r\n",
        "\u001b[01;31mtest_2013-Jan-05_21-56-16-433260.csv.gz\u001b[0m\r\n",
        "\u001b[01;31mtest_2013-Jan-05_21-56-16-450717.csv.gz\u001b[0m\r\n",
        "\u001b[01;31mtest_2013-Jan-05_21-56-16-460309.csv.gz\u001b[0m\r\n",
        "\u001b[01;31mtest_2013-Jan-05_21-56-18-529209.csv.gz\u001b[0m\r\n",
        "\u001b[01;31mtest_2013-Jan-05_21-56-18-537787.csv.gz\u001b[0m\r\n",
        "\u001b[01;31mtest_2013-Jan-05_21-56-18-547578.csv.gz\u001b[0m\r\n",
        "\u001b[01;31mtest_2013-Jan-05_21-56-18-556578.csv.gz\u001b[0m\r\n",
        "\u001b[01;31mtest_2013-Jan-05_21-56-18-556652.csv.gz\u001b[0m\r\n",
        "\u001b[01;31mtest_2013-Jan-05_21-56-18-566198.csv.gz\u001b[0m\r\n",
        "\u001b[01;31mtest_2013-Jan-05_21-56-18-583155.csv.gz\u001b[0m\r\n",
        "\u001b[01;31mtest_2013-Jan-05_21-56-18-593437.csv.gz\u001b[0m\r\n",
        "\u001b[01;31mtest_2013-Jan-07_15-02-40-439960.csv.gz\u001b[0m\r\n",
        "\u001b[01;31mtest_2013-Jan-07_15-04-53-079591.csv.gz\u001b[0m\r\n",
        "\u001b[01;31mtest_2013-Jan-08_21-29-09-426266.csv.gz\u001b[0m\r\n",
        "\u001b[01;31mtest_2013-Jan-08_21-29-13-207465.csv.gz\u001b[0m\r\n",
        "\u001b[01;31mtest_2013-Jan-09_06-49-50-978265.csv.gz\u001b[0m\r\n",
        "\u001b[01;31mtest_2013-Jan-09_11-50-24-010851.csv.gz\u001b[0m\r\n",
        "\u001b[01;31mtest_2013-Jan-09_11-51-47-603554.csv.gz\u001b[0m\r\n",
        "\u001b[01;31mtest_2013-Jan-09_11-52-06-778600.csv.gz\u001b[0m\r\n"
       ]
      }
     ],
     "prompt_number": 18
    },
    {
     "cell_type": "markdown",
     "metadata": {},
     "source": [
      "I define a new class **GzipCsvReader** that can read csv files and close them later on:"
     ]
    },
    {
     "cell_type": "code",
     "collapsed": false,
     "input": [
      "import csv, gzip\n",
      "class GZipCSVReader:\n",
      "    def __init__(self, filename):\n",
      "        self.gzfile = gzip.open(filename)\n",
      "        self.reader = csv.DictReader(self.gzfile)\n",
      "    def next(self):\n",
      "        return self.reader.next()\n",
      "    def close(self):\n",
      "        self.gzfile.close()\n",
      "    def __iter__(self):\n",
      "        return self.reader.__iter__()"
     ],
     "language": "python",
     "metadata": {},
     "outputs": [],
     "prompt_number": 19
    },
    {
     "cell_type": "markdown",
     "metadata": {},
     "source": [
      "This new class can be used like this:"
     ]
    },
    {
     "cell_type": "code",
     "collapsed": false,
     "input": [
      "csv_file = 'output/test_2013-Jan-05_21-56-16-450717.csv.gz'\n",
      "csv_file"
     ],
     "language": "python",
     "metadata": {},
     "outputs": [
      {
       "output_type": "pyout",
       "prompt_number": 76,
       "text": [
        "'output/test_2013-Jan-05_21-56-16-450717.csv.gz'"
       ]
      }
     ],
     "prompt_number": 76
    },
    {
     "cell_type": "code",
     "collapsed": false,
     "input": [
      "reader = GZipCSVReader(csv_file)"
     ],
     "language": "python",
     "metadata": {},
     "outputs": [],
     "prompt_number": 89
    },
    {
     "cell_type": "code",
     "collapsed": false,
     "input": [
      "reader.close()"
     ],
     "language": "python",
     "metadata": {},
     "outputs": [],
     "prompt_number": 90
    },
    {
     "cell_type": "markdown",
     "metadata": {},
     "source": [
      "I want to attach the params to the output data. \n",
      "First I need to find the relevant params:"
     ]
    },
    {
     "cell_type": "code",
     "collapsed": false,
     "input": [
      "def params_from_csv(csv_file):\n",
      "    return 'params/' + csv_file.split('/')[-1].split('.')[0] + '.py'\n",
      "param_file = params_from_csv(csv_file)\n",
      "param_file"
     ],
     "language": "python",
     "metadata": {},
     "outputs": [
      {
       "output_type": "pyout",
       "prompt_number": 84,
       "text": [
        "'params/test_2013-Jan-05_21-56-16-450717.py'"
       ]
      }
     ],
     "prompt_number": 84
    },
    {
     "cell_type": "code",
     "collapsed": false,
     "input": [
      "def csv_from_params(param_file):\n",
      "    return 'output/' + param_file.split('/')[-1].split('.')[0] + '.csv.gz'\n",
      "csv_from_params(param_file) == csv_file"
     ],
     "language": "python",
     "metadata": {},
     "outputs": [
      {
       "output_type": "pyout",
       "prompt_number": 87,
       "text": [
        "True"
       ]
      }
     ],
     "prompt_number": 87
    },
    {
     "cell_type": "markdown",
     "metadata": {},
     "source": [
      "and then load them to a `dict`:"
     ]
    },
    {
     "cell_type": "code",
     "collapsed": false,
     "input": [
      "def load_params(filename):\n",
      "    f=open(param_file)\n",
      "    s = f.read()\n",
      "    f.close()\n",
      "    ss = 'params = dict('+s.replace('\\n',',')[:-1] + ')'\n",
      "    exec ss\n",
      "    return params"
     ],
     "language": "python",
     "metadata": {},
     "outputs": [],
     "prompt_number": 79
    },
    {
     "cell_type": "markdown",
     "metadata": {},
     "source": [
      "I only want the model parameters, not all the simulation configuration stuff:"
     ]
    },
    {
     "cell_type": "code",
     "collapsed": false,
     "input": [
      "fields = ['job_name','mu','num_loci','phi','pi','pop_size','r','rho','s','tau','ticks']\n",
      "def filter_params(params):\n",
      "    return { k: params[k] for k in fields }"
     ],
     "language": "python",
     "metadata": {},
     "outputs": [],
     "prompt_number": 80
    },
    {
     "cell_type": "code",
     "collapsed": false,
     "input": [
      "d=load_params(param_file)\n",
      "filter_params(d)"
     ],
     "language": "python",
     "metadata": {},
     "outputs": [
      {
       "output_type": "pyout",
       "prompt_number": 81,
       "text": [
        "{'job_name': 'test',\n",
        " 'mu': 0.003,\n",
        " 'num_loci': 1000,\n",
        " 'phi': 0,\n",
        " 'pi': 1,\n",
        " 'pop_size': 100000,\n",
        " 'r': 0.003,\n",
        " 'rho': 1.0,\n",
        " 's': 0.01,\n",
        " 'tau': 10.0,\n",
        " 'ticks': 1000}"
       ]
      }
     ],
     "prompt_number": 81
    },
    {
     "cell_type": "markdown",
     "metadata": {},
     "source": [
      "Now to combine these:"
     ]
    },
    {
     "cell_type": "code",
     "collapsed": false,
     "input": [
      "reader = GZipCSVReader(csv_file)\n",
      "params = filter_params(load_params(params_from_csv(csv_file)))\n",
      "print params"
     ],
     "language": "python",
     "metadata": {},
     "outputs": [
      {
       "output_type": "stream",
       "stream": "stdout",
       "text": [
        "{'tau': 10.0, 'phi': 0, 'pop_size': 100000, 'ticks': 1000, 'mu': 0.003, 's': 0.01, 'r': 0.003, 'num_loci': 1000, 'rho': 1.0, 'pi': 1, 'job_name': 'test'}\n"
       ]
      }
     ],
     "prompt_number": 97
    },
    {
     "cell_type": "code",
     "collapsed": false,
     "input": [
      "dicts = []\n",
      "for d in reader:\n",
      "    d.update(params)\n",
      "    dicts.append(d)"
     ],
     "language": "python",
     "metadata": {},
     "outputs": [],
     "prompt_number": 98
    },
    {
     "cell_type": "code",
     "collapsed": false,
     "input": [
      "import pandas as pd"
     ],
     "language": "python",
     "metadata": {},
     "outputs": [],
     "prompt_number": 100
    },
    {
     "cell_type": "code",
     "collapsed": false,
     "input": [
      "df = pd.DataFrame(dicts)"
     ],
     "language": "python",
     "metadata": {},
     "outputs": [],
     "prompt_number": 101
    },
    {
     "cell_type": "code",
     "collapsed": false,
     "input": [
      "def save_df_to_gzip_csv(df, filename):\n",
      "    with gzip.open(filename,'wb') as f:\n",
      "        df.to_csv(f)"
     ],
     "language": "python",
     "metadata": {},
     "outputs": [],
     "prompt_number": 103
    },
    {
     "cell_type": "code",
     "collapsed": false,
     "input": [
      "save_df_to_gzip_csv(df, '/home/yoavram/workspace/mamba/analysis/all.csv.gz')"
     ],
     "language": "python",
     "metadata": {},
     "outputs": [],
     "prompt_number": 105
    },
    {
     "cell_type": "code",
     "collapsed": false,
     "input": [],
     "language": "python",
     "metadata": {},
     "outputs": []
    }
   ],
   "metadata": {}
  }
 ]
}