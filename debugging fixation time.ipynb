{
 "metadata": {
  "name": "",
  "signature": "sha256:dca48109aa93eab669fa42c95fab5372020d770c7d7365c679e2ba600c0d0684"
 },
 "nbformat": 3,
 "nbformat_minor": 0,
 "worksheets": [
  {
   "cells": [
    {
     "cell_type": "code",
     "collapsed": false,
     "input": [
      "from scipy.integrate import romb,trapz, quad"
     ],
     "language": "python",
     "metadata": {},
     "outputs": [],
     "prompt_number": 104
    },
    {
     "cell_type": "code",
     "collapsed": false,
     "input": [
      "def integral(func, a, b, steps=10):\n",
      "    x = arange(a,b,(b-a)/float(steps))\n",
      "    y = map(func,x)\n",
      "    if isnan(y).any():\n",
      "        print y\n",
      "    return trapz(y,x)"
     ],
     "language": "python",
     "metadata": {},
     "outputs": [],
     "prompt_number": 125
    },
    {
     "cell_type": "code",
     "collapsed": false,
     "input": [
      "integral = quad"
     ],
     "language": "python",
     "metadata": {},
     "outputs": [],
     "prompt_number": 118
    },
    {
     "cell_type": "code",
     "collapsed": false,
     "input": [
      "def T_kimura(s,N,x):\n",
      "    integrand1 = lambda t: (exp(2*N*s*t) - 1)*(exp(-2*N*s*t)-exp(-2*N*s))/(t*(1-t))\n",
      "    J1 = 2/(s*(1 - exp(-2*N*s))) * integral(integrand1, x+1e-4, 1-1e-4)\n",
      "    u = (1-exp(-2*N*s*x))/(1-exp(-2*N*s))\n",
      "    integrand2 = lambda t: (exp(2*N*s*t) - 1)*(1-exp(-2*N*s*t))/(t*(1-t))\n",
      "    J2 = 2/(s*(1-exp(-2*N*s))) * integral(integrand2, 1e-4, x-1e-4)\n",
      "    return J1 + ((1-u)/u) * J2\n",
      "T_kimura(0.01, 1e5, 1e-5)"
     ],
     "language": "python",
     "metadata": {},
     "outputs": [
      {
       "output_type": "stream",
       "stream": "stdout",
       "text": [
        "[1795.4811578139186, 11.102328912477544, 6.2484068368355645, 4.7614785462925511, nan, nan, nan, nan, nan, nan]\n"
       ]
      },
      {
       "metadata": {},
       "output_type": "pyout",
       "prompt_number": 144,
       "text": [
        "nan"
       ]
      }
     ],
     "prompt_number": 144
    },
    {
     "cell_type": "code",
     "collapsed": false,
     "input": [
      "from scipy import integrate"
     ],
     "language": "python",
     "metadata": {},
     "outputs": [],
     "prompt_number": 33
    },
    {
     "cell_type": "code",
     "collapsed": false,
     "input": [
      "integral(sin,0,pi/2)"
     ],
     "language": "python",
     "metadata": {},
     "outputs": [
      {
       "metadata": {},
       "output_type": "pyout",
       "prompt_number": 109,
       "text": [
        "(0.9999999999999999, 1.1102230246251564e-14)"
       ]
      }
     ],
     "prompt_number": 109
    },
    {
     "cell_type": "code",
     "collapsed": false,
     "input": [
      "N,s"
     ],
     "language": "python",
     "metadata": {},
     "outputs": [
      {
       "metadata": {},
       "output_type": "pyout",
       "prompt_number": 134,
       "text": [
        "(10000.0, 0.01)"
       ]
      }
     ],
     "prompt_number": 134
    },
    {
     "cell_type": "code",
     "collapsed": false,
     "input": [
      "integrand1 = lambda t: (exp(2*N*s*t) - 1)*(exp(-2*N*s*t)-exp(-2*N*s))/(t*(1-t))\n",
      "2/(s*(1 - exp(-2*N*s))) * integral(integrand1, 1./N, 1-1e-16)"
     ],
     "language": "python",
     "metadata": {},
     "outputs": [
      {
       "metadata": {},
       "output_type": "pyout",
       "prompt_number": 143,
       "text": [
        "3000.3023484692617"
       ]
      }
     ],
     "prompt_number": 143
    },
    {
     "cell_type": "code",
     "collapsed": false,
     "input": [
      "u = (1-exp(-2*N*s*x))/(1-exp(-2*N*s))"
     ],
     "language": "python",
     "metadata": {},
     "outputs": []
    },
    {
     "cell_type": "code",
     "collapsed": false,
     "input": [
      "integrand2 = lambda t: (exp(2*N*s*t) - 1)*(1-exp(-2*N*s*t))/(t*(1-t))\n",
      "2/(s*(1-exp(-2*N*s))) * ( (1-u)/u )* integral(integrand2, 1e-16, 1./N)"
     ],
     "language": "python",
     "metadata": {},
     "outputs": [
      {
       "metadata": {},
       "output_type": "pyout",
       "prompt_number": 145,
       "text": [
        "1.6039727525664154"
       ]
      }
     ],
     "prompt_number": 145
    },
    {
     "cell_type": "code",
     "collapsed": false,
     "input": [],
     "language": "python",
     "metadata": {},
     "outputs": []
    }
   ],
   "metadata": {}
  }
 ]
}