{
 "metadata": {
  "name": "",
  "signature": "sha256:9ddc4c568085ec9ed83bb795bb6605a93865676304392b42620c3c0e9b1766dd"
 },
 "nbformat": 3,
 "nbformat_minor": 0,
 "worksheets": [
  {
   "cells": [
    {
     "cell_type": "code",
     "collapsed": false,
     "input": [
      "%install_ext https://raw.githubusercontent.com/rasbt/python_reference/master/ipython_magic/watermark.py"
     ],
     "language": "python",
     "metadata": {},
     "outputs": [
      {
       "output_type": "stream",
       "stream": "stdout",
       "text": [
        "Installed watermark.py. To use it, type:\n",
        "  %load_ext watermark\n"
       ]
      }
     ],
     "prompt_number": 1
    },
    {
     "cell_type": "code",
     "collapsed": false,
     "input": [
      "%load_ext watermark"
     ],
     "language": "python",
     "metadata": {},
     "outputs": [],
     "prompt_number": 1
    },
    {
     "cell_type": "code",
     "collapsed": false,
     "input": [
      "%watermark"
     ],
     "language": "python",
     "metadata": {},
     "outputs": [
      {
       "output_type": "stream",
       "stream": "stdout",
       "text": [
        "26/08/2014 09:37:10\n",
        "\n",
        "CPython 2.7.8\n",
        "IPython 2.0.0-dev\n",
        "\n",
        "compiler   : MSC v.1500 64 bit (AMD64)\n",
        "system     : Windows\n",
        "release    : 7\n",
        "machine    : AMD64\n",
        "processor  : Intel64 Family 6 Model 42 Stepping 7, GenuineIntel\n",
        "CPU cores  : 4\n",
        "interpreter: 64bit\n"
       ]
      }
     ],
     "prompt_number": 2
    },
    {
     "cell_type": "code",
     "collapsed": false,
     "input": [
      "%watermark -a \"Yoav Ram\" -t -z -u -n -v -m -h -g -p numpy,scipy,pandas,matplotlib,cython,sympy"
     ],
     "language": "python",
     "metadata": {},
     "outputs": [
      {
       "output_type": "stream",
       "stream": "stdout",
       "text": [
        "Yoav Ram Last updated: Tue Aug 37 2014 09:37:11 Jerusalem Daylight Time\n",
        "\n",
        "CPython 2.7.8\n",
        "IPython 2.0.0-dev\n",
        "\n",
        "numpy 1.7.1\n",
        "scipy 0.12.0\n",
        "pandas 0.10.1\n",
        "matplotlib 1.2.1\n",
        "cython 0.19.1\n",
        "sympy 0.7.5\n",
        "\n",
        "compiler   : MSC v.1500 64 bit (AMD64)\n",
        "system     : Windows\n",
        "release    : 7\n",
        "machine    : AMD64\n",
        "processor  : Intel64 Family 6 Model 42 Stepping 7, GenuineIntel\n",
        "CPU cores  : 4\n",
        "interpreter: 64bit\n",
        "host name  : BlackMamba\n",
        "Git hash   : 1ef77cfb240e9cfd2b5a7a682efff812be834a6b\n"
       ]
      }
     ],
     "prompt_number": 3
    }
   ],
   "metadata": {}
  }
 ]
}