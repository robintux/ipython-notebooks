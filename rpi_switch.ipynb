{
 "metadata": {
  "name": ""
 },
 "nbformat": 3,
 "nbformat_minor": 0,
 "worksheets": [
  {
   "cells": [
    {
     "cell_type": "markdown",
     "metadata": {},
     "source": [
      "# [Switches tutorial](http://www.cl.cam.ac.uk/projects/raspberrypi/tutorials/robot/buttons_and_switches/)"
     ]
    },
    {
     "cell_type": "code",
     "collapsed": false,
     "input": [
      "import RPi.GPIO as GPIO\n",
      "GPIO.setmode(GPIO.BCM)"
     ],
     "language": "python",
     "metadata": {},
     "outputs": [],
     "prompt_number": 39
    },
    {
     "cell_type": "code",
     "collapsed": false,
     "input": [
      "in_pin_num = 23\n",
      "out_pin_num = 25"
     ],
     "language": "python",
     "metadata": {},
     "outputs": [],
     "prompt_number": 51
    },
    {
     "cell_type": "code",
     "collapsed": false,
     "input": [
      "GPIO.setup(in_pin_num, GPIO.IN)\n",
      "GPIO.setup(out_pin_num, GPIO.OUT)"
     ],
     "language": "python",
     "metadata": {},
     "outputs": [],
     "prompt_number": 52
    },
    {
     "cell_type": "code",
     "collapsed": false,
     "input": [
      "def blink():\n",
      "    for _ in range(10):\n",
      "        GPIO.output(out_pin_num, GPIO.HIGH)\n",
      "        time.sleep(0.05)\n",
      "        GPIO.output(out_pin_num, GPIO.LOW)\n",
      "        time.sleep(0.05)\n",
      "blink()"
     ],
     "language": "python",
     "metadata": {},
     "outputs": [],
     "prompt_number": 66
    },
    {
     "cell_type": "code",
     "collapsed": false,
     "input": [
      "if GPIO.input(in_pin_num):\n",
      "    blink()"
     ],
     "language": "python",
     "metadata": {},
     "outputs": [],
     "prompt_number": 68
    },
    {
     "cell_type": "code",
     "collapsed": false,
     "input": [
      "import time\n",
      "#initialise a previous input variable to 0 (assume button not pressed last)\n",
      "prev_input = 0\n",
      "while True:\n",
      "    #take a reading\n",
      "    input = GPIO.input(in_pin_num)\n",
      "    #if the last reading was low and this one high, blink\n",
      "    if ((not prev_input) and input):\n",
      "        blink()\n",
      "    # update previous input\n",
      "    prev_input = input"
     ],
     "language": "python",
     "metadata": {},
     "outputs": [],
     "prompt_number": "*"
    },
    {
     "cell_type": "code",
     "collapsed": false,
     "input": [],
     "language": "python",
     "metadata": {},
     "outputs": []
    }
   ],
   "metadata": {}
  }
 ]
}