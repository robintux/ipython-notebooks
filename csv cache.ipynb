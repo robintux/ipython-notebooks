{
 "metadata": {
  "name": "",
  "signature": "sha256:c5102f0ed480e86e5c5c9295b1d1cb30766fc9dc0d31c38294b141265af6a80a"
 },
 "nbformat": 3,
 "nbformat_minor": 0,
 "worksheets": [
  {
   "cells": [
    {
     "cell_type": "code",
     "collapsed": false,
     "input": [
      "print \"pandas\",pd.__version__\n",
      "import functools\n",
      "import time"
     ],
     "language": "python",
     "metadata": {},
     "outputs": [
      {
       "output_type": "stream",
       "stream": "stdout",
       "text": [
        "pandas 0.12.0\n"
       ]
      }
     ],
     "prompt_number": 14
    },
    {
     "cell_type": "code",
     "collapsed": false,
     "input": [
      "def memoize(obj):\n",
      "    cache = obj.cache = {}\n",
      "    @functools.wraps(obj)\n",
      "    def memoizer(*args, **kwargs):\n",
      "        key = str(args) + str(kwargs)\n",
      "        if key not in cache:\n",
      "            cache[key] = obj(*args, **kwargs)\n",
      "        return cache[key]\n",
      "    return memoizer"
     ],
     "language": "python",
     "metadata": {},
     "outputs": [],
     "prompt_number": 25
    },
    {
     "cell_type": "code",
     "collapsed": false,
     "input": [
      "@memoize\n",
      "def foo(a,b,c):\n",
      "    time.sleep(1)\n",
      "    return a+b+c"
     ],
     "language": "python",
     "metadata": {},
     "outputs": [],
     "prompt_number": 29
    },
    {
     "cell_type": "code",
     "collapsed": false,
     "input": [
      "foo(2,2,4)"
     ],
     "language": "python",
     "metadata": {},
     "outputs": [
      {
       "metadata": {},
       "output_type": "pyout",
       "prompt_number": 30,
       "text": [
        "8"
       ]
      }
     ],
     "prompt_number": 30
    },
    {
     "cell_type": "code",
     "collapsed": false,
     "input": [
      "foo(2,2,4)"
     ],
     "language": "python",
     "metadata": {},
     "outputs": [
      {
       "metadata": {},
       "output_type": "pyout",
       "prompt_number": 31,
       "text": [
        "8"
       ]
      }
     ],
     "prompt_number": 31
    },
    {
     "cell_type": "code",
     "collapsed": false,
     "input": [
      "foo.cache"
     ],
     "language": "python",
     "metadata": {},
     "outputs": [
      {
       "metadata": {},
       "output_type": "pyout",
       "prompt_number": 32,
       "text": [
        "{'(2, 2, 4){}': 8}"
       ]
      }
     ],
     "prompt_number": 32
    },
    {
     "cell_type": "code",
     "collapsed": false,
     "input": [
      "class persist:\n",
      "    def __init__(self, filename):\n",
      "        self.cache = {}\n",
      "        self.filename = filename\n",
      "    \n",
      "    def __call__(self, *args, **kwargs):\n",
      "        key = str(args) + str(kwargs)\n",
      "        if key not in self.cache:\n",
      "            self.cache[key] = self.func(*args, **kwargs)\n",
      "        return self.cache[key]"
     ],
     "language": "python",
     "metadata": {},
     "outputs": [],
     "prompt_number": 58
    },
    {
     "cell_type": "code",
     "collapsed": false,
     "input": [
      "import os, gzip\n",
      "class persist(object):\n",
      "    def __init__(self, filename):\n",
      "        self.filename = filename\n",
      "        if not os.path.exists(filename):\n",
      "            gzip.open(filename+\".csv.gz\",\"w\").close()\n",
      "        self.cache = {}\n",
      "        \n",
      "    def __call__(self, f):        \n",
      "        def wrapped_f(*args, **kwargs):\n",
      "            print args,kwargs\n",
      "            key = str(args) + str(kwargs)\n",
      "            if key not in self.cache:\n",
      "                self.cache[key] = f(*args, **kwargs)\n",
      "            return self.cache[key]\n",
      "        return wrapped_f"
     ],
     "language": "python",
     "metadata": {},
     "outputs": [],
     "prompt_number": 83
    },
    {
     "cell_type": "code",
     "collapsed": false,
     "input": [
      "@persist(filename='a')\n",
      "def bar(a,b,c=2):\n",
      "    time.sleep(1)\n",
      "    return a+b+c"
     ],
     "language": "python",
     "metadata": {},
     "outputs": [],
     "prompt_number": 84
    },
    {
     "cell_type": "code",
     "collapsed": false,
     "input": [
      "bar(a=1,b=2)"
     ],
     "language": "python",
     "metadata": {},
     "outputs": [
      {
       "output_type": "stream",
       "stream": "stdout",
       "text": [
        "() {'a': 1, 'b': 2}\n"
       ]
      },
      {
       "metadata": {},
       "output_type": "pyout",
       "prompt_number": 86,
       "text": [
        "5"
       ]
      }
     ],
     "prompt_number": 86
    },
    {
     "cell_type": "code",
     "collapsed": false,
     "input": [
      "bar(1,2)"
     ],
     "language": "python",
     "metadata": {},
     "outputs": [
      {
       "metadata": {},
       "output_type": "pyout",
       "prompt_number": 71,
       "text": [
        "5"
       ]
      }
     ],
     "prompt_number": 71
    },
    {
     "cell_type": "code",
     "collapsed": false,
     "input": [],
     "language": "python",
     "metadata": {},
     "outputs": [
      {
       "metadata": {},
       "output_type": "pyout",
       "prompt_number": 72,
       "text": [
        "{}"
       ]
      }
     ],
     "prompt_number": 72
    },
    {
     "cell_type": "code",
     "collapsed": false,
     "input": [],
     "language": "python",
     "metadata": {},
     "outputs": []
    }
   ],
   "metadata": {}
  }
 ]
}