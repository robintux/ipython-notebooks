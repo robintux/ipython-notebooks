{
 "metadata": {
  "name": "qrcode"
 },
 "nbformat": 3,
 "nbformat_minor": 0,
 "worksheets": [
  {
   "cells": [
    {
     "cell_type": "code",
     "collapsed": false,
     "input": [
      "import qrcode # https://github.com/lincolnloop/python-qrcode\n",
      "\n",
      "qr = qrcode.QRCode(\n",
      "    version=1,\n",
      "    error_correction=qrcode.constants.ERROR_CORRECT_H,\n",
      "    box_size=8,\n",
      "    border=0,\n",
      ")\n",
      "qr.add_data(\"http://biomathsjctau.wordpress.com/2013/05/23/126-gradual-and-catastrophic-regime-shifts/\")\n",
      "qr.make(fit=True)\n",
      "\n",
      "img = qr.make_image()\n",
      "img.save(\"qrcode.png\")\n",
      "! qrcode.png"
     ],
     "language": "python",
     "metadata": {},
     "outputs": [],
     "prompt_number": 1
    },
    {
     "cell_type": "code",
     "collapsed": false,
     "input": [],
     "language": "python",
     "metadata": {},
     "outputs": []
    }
   ],
   "metadata": {}
  }
 ]
}