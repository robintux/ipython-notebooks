{
 "metadata": {
  "name": "SIDEER2013"
 },
 "nbformat": 3,
 "nbformat_minor": 0,
 "worksheets": [
  {
   "cells": [
    {
     "cell_type": "markdown",
     "metadata": {},
     "source": [
      "# Simple Model of Adaptation Rate\n",
      "\n",
      "## Model\n",
      "\n",
      "This is a Wright-Fisher two-locus bi-allelic infinite population size model used to calculate the increase in adaptation rate when the mutaitonal strategy changes from non-mutators (NM), constitutive mutators (CM) and stress-induced mutators (SIM).\n",
      "\n",
      "The population starts with genotype *ab* and evolves to *AB*. The adaptation time is determined by the number of generations required for the frequency of *AB* to rise above 0.5.\n",
      "\n",
      "The parameters are:\n",
      "\n",
      "* $\\mu_{small}$ - the mutation rate of non-mutators, measured in the probability a fitness changing mutation occurs in a single locus in a single generations.\n",
      "* $\\mu_{big}$ - the mutation rate of mutators.\n",
      "* $\\beta$ - the probability that a mutation is beneficial (*a->A* and *b->B*).\n",
      "* $s_{a}, s_{b}$ - the fitness cost of the harmful alleles *a* and *b*."
     ]
    },
    {
     "cell_type": "code",
     "collapsed": false,
     "input": [
      "def create_matrix(mu_small, mu_big, beta, s_a, s_b):\n",
      "    mu=array([ [mu_small, mu_big],[mu_big, mu_big] ])\n",
      "    delta = 1 - beta\n",
      "    M=array([[ (1-mu[0,0]*delta)**2, (1-mu[0,1]*beta)* mu[0,1]*beta, (1-mu[1,0]*beta)*mu[1,0]*beta, mu[1,1]**2 * beta**2],\n",
      "         [(1-mu[0,0]*delta)*mu[0,0]*delta, (1-mu[0,1])**2 + mu[0,1]**2 *beta *delta, mu[1,0]**2 * beta * delta, (1-mu[1,1]*beta)*mu[1,1]*beta],\n",
      "         [(1-mu[0,0]*delta)*mu[0,0]*delta, mu[0,1]**2 * beta * delta, (1-mu[1,0])+mu[1,0]**2 * beta * delta, (1-mu[1,1]*beta)*mu[1,1]*beta],\n",
      "         [ mu[0,0]**2 * delta**2, (1-mu[0,1]*beta)*mu[0,1]*delta, (1-mu[1,0]*beta)*mu[1,0]*delta, (1-mu[1,1]*beta)**2]])\n",
      "    S=array([ [1,0,0,0],[0,1-s_b,0,0],[0,0,1-s_a,0],[0,0,0,(1-s_a)*(1-s_b)] ])\n",
      "    return M,S"
     ],
     "language": "python",
     "metadata": {},
     "outputs": [],
     "prompt_number": 1
    },
    {
     "cell_type": "markdown",
     "metadata": {},
     "source": [
      "This function prints a nice matrix representation:"
     ]
    },
    {
     "cell_type": "code",
     "collapsed": false,
     "input": [
      "def pretty_matrix(M):\n",
      "    for x in M:\n",
      "        for y in x:\n",
      "            print \"%.9f\" % y, '\\t',\n",
      "        print "
     ],
     "language": "python",
     "metadata": {},
     "outputs": [],
     "prompt_number": 2
    },
    {
     "cell_type": "code",
     "collapsed": false,
     "input": [
      "M, S=create_matrix(0.003, 0.003, 0.001, 0.1, 0.2)\n",
      "pretty_matrix(S)\n",
      "print\n",
      "pretty_matrix(M)"
     ],
     "language": "python",
     "metadata": {},
     "outputs": [
      {
       "output_type": "stream",
       "stream": "stdout",
       "text": [
        "1.000000000 \t0.000000000 \t0.000000000 \t0.000000000 \t\n",
        "0.000000000 \t0.800000000 \t0.000000000 \t0.000000000 \t\n",
        "0.000000000 \t0.000000000 \t0.900000000 \t0.000000000 \t\n",
        "0.000000000 \t0.000000000 \t0.000000000 \t0.720000000 \t\n",
        "\n",
        "0.994014982 \t0.000003000 \t0.000003000 \t0.000000000 \t\n",
        "0.002988018 \t0.994009009 \t0.000000009 \t0.000003000 \t\n",
        "0.002988018 \t0.000000009 \t0.997000009 \t0.000003000 \t\n",
        "0.000008982 \t0.002996991 \t0.002996991 \t0.999994000 \t\n"
       ]
      }
     ],
     "prompt_number": 3
    },
    {
     "cell_type": "markdown",
     "metadata": {},
     "source": [
      "This function runs a complete simulation, starting with $freq(ab)=1$ and ending when $freq(AB) \\ge 0.5$."
     ]
    },
    {
     "cell_type": "code",
     "collapsed": false,
     "input": [
      "def simulation(mu_small, mu_big, beta, s_a, s_b):\n",
      "    f_0 = array([0,0,0,1])\n",
      "    M,S = create_matrix(mu_small, mu_big, beta, s_a, s_b)\n",
      "    f = f_0.copy()\n",
      "    f_AB = [f[0]]\n",
      "    while f_AB[-1] < 0.5:\n",
      "        f = M.dot(S.dot(f))\n",
      "        f = f/f.sum()\n",
      "        f_AB.append(f[0]) \n",
      "        #print f[0], ' ',\n",
      "    return f_AB"
     ],
     "language": "python",
     "metadata": {},
     "outputs": [],
     "prompt_number": 4
    },
    {
     "cell_type": "markdown",
     "metadata": {},
     "source": [
      "This function runs a simulation for NM, CM and SIM with the same parameters:"
     ]
    },
    {
     "cell_type": "code",
     "collapsed": false,
     "input": [
      "def triplet(mu_small, mu_big, beta, s_a, s_b):\n",
      "    nm = simulation(mu_small, mu_small, beta, s_a, s_b)\n",
      "    cm = simulation(mu_big, mu_big, beta, s_a, s_b)\n",
      "    sim = simulation(mu_small, mu_big, beta, s_a, s_b)\n",
      "    return {'nm':nm, 'cm':cm, 'sim':sim}"
     ],
     "language": "python",
     "metadata": {},
     "outputs": [],
     "prompt_number": 5
    },
    {
     "cell_type": "markdown",
     "metadata": {},
     "source": [
      "## Results"
     ]
    },
    {
     "cell_type": "code",
     "collapsed": false,
     "input": [
      "data = triplet(mu_small=0.003, mu_big=0.03, beta=0.01, s_a=0.1, s_b=0.1)\n",
      "{k:len(v) for k,v in data.items()}"
     ],
     "language": "python",
     "metadata": {},
     "outputs": [
      {
       "output_type": "pyout",
       "prompt_number": 7,
       "text": [
        "{'cm': 110, 'nm': 90, 'sim': 63}"
       ]
      }
     ],
     "prompt_number": 7
    },
    {
     "cell_type": "code",
     "collapsed": false,
     "input": [
      "data = triplet(mu_small=0.003, mu_big=0.03, beta=0.1, s_a=0.1, s_b=0.1)\n",
      "{k:len(v) for k,v in data.items()}"
     ],
     "language": "python",
     "metadata": {},
     "outputs": [
      {
       "output_type": "pyout",
       "prompt_number": 8,
       "text": [
        "{'cm': 66, 'nm': 67, 'sim': 42}"
       ]
      }
     ],
     "prompt_number": 8
    },
    {
     "cell_type": "code",
     "collapsed": false,
     "input": [
      "data = triplet(mu_small=0.003, mu_big=0.03, beta=0.1, s_a=0.2, s_b=0.1)\n",
      "{k:len(v) for k,v in data.items()}"
     ],
     "language": "python",
     "metadata": {},
     "outputs": [
      {
       "output_type": "pyout",
       "prompt_number": 9,
       "text": [
        "{'cm': 42, 'nm': 58, 'sim': 31}"
       ]
      }
     ],
     "prompt_number": 9
    },
    {
     "cell_type": "markdown",
     "metadata": {},
     "source": [
      "In these examples SIM is the fastest adapter, regardless of the relationship between NM and CM, which changes as beta increases."
     ]
    }
   ],
   "metadata": {}
  }
 ]
}