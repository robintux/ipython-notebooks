{
 "metadata": {
  "name": "SIDEER2013"
 },
 "nbformat": 3,
 "nbformat_minor": 0,
 "worksheets": [
  {
   "cells": [
    {
     "cell_type": "code",
     "collapsed": false,
     "input": [
      "mu_small=0.03\n",
      "mu_big = 0.03\n",
      "beta=0.1\n",
      "\n",
      "s_a=0.1\n",
      "s_b=0.2\n",
      "f_0 = array([0,0,0,1])"
     ],
     "language": "python",
     "metadata": {},
     "outputs": [],
     "prompt_number": 1
    },
    {
     "cell_type": "code",
     "collapsed": false,
     "input": [
      "def create_matrix():\n",
      "    mu=array([ [mu_small, mu_big],[mu_big, mu_big] ])\n",
      "    delta = 1 - beta\n",
      "    M=array([[ (1-mu[0,0]*delta)**2, (1-mu[0,1]*beta)* mu[0,1]*beta, (1-mu[1,0]*beta)*mu[1,0]*beta, mu[1,1]**2 * beta**2],\n",
      "         [(1-mu[0,0]*delta)*mu[0,0]*delta, (1-mu[0,1])**2 + mu[0,1]**2 *beta *delta, mu[1,0]**2 * beta * delta, (1-mu[1,1]*beta)*mu[1,1]*beta],\n",
      "         [(1-mu[0,0]*delta)*mu[0,0]*delta, mu[0,1]**2 * beta * delta, (1-mu[1,0])+mu[1,0]**2 * beta * delta, (1-mu[1,1]*beta)*mu[1,1]*beta],\n",
      "         [ mu[0,0]**2 * delta**2, (1-mu[0,1]*beta)*mu[0,1]*delta, (1-mu[1,0]*beta)*mu[1,0]*delta, (1-mu[1,1]*beta)**2]])\n",
      "    S=array([ [1,0,0,0],[0,1-s_b,0,0],[0,0,1-s_a,0],[0,0,0,(1-s_a)*(1-s_b)] ])\n",
      "    return M,S"
     ],
     "language": "python",
     "metadata": {},
     "outputs": [],
     "prompt_number": 7
    },
    {
     "cell_type": "code",
     "collapsed": false,
     "input": [
      "def simulation():\n",
      "    M,S = create_matrix()\n",
      "    f = f_0.copy()\n",
      "    f_AB = [f[0]]\n",
      "    while f_AB[-1] < 0.5:\n",
      "        f = M.dot(S.dot(f))\n",
      "        f = f/f.sum()\n",
      "        f_AB.append(f[0]) \n",
      "    return f_AB"
     ],
     "language": "python",
     "metadata": {},
     "outputs": [],
     "prompt_number": 3
    },
    {
     "cell_type": "code",
     "collapsed": false,
     "input": [
      "mu_small,mu_big = 0.003, 0.003\n",
      "print mu_small,mu_big,len(simulation())\n",
      "mu_small,mu_big = 0.03, 0.03\n",
      "print mu_small,mu_big,len(simulation())\n",
      "mu_small,mu_big = 0.003, 0.03\n",
      "print mu_small,mu_big,len(simulation())"
     ],
     "language": "python",
     "metadata": {},
     "outputs": [
      {
       "output_type": "stream",
       "stream": "stdout",
       "text": [
        "0.003 0.003 59\n",
        "0.03 0.03 53\n",
        "0.003 0.03 34\n"
       ]
      }
     ],
     "prompt_number": 4
    },
    {
     "cell_type": "code",
     "collapsed": false,
     "input": [
      "s_a=0.1\n",
      "s_b=0.2\n",
      "mu_small,mu_big = 0.003, 0.003\n",
      "print mu_small,mu_big,len(simulation())\n",
      "mu_small,mu_big = 0.03, 0.03\n",
      "print mu_small,mu_big,len(simulation())\n",
      "mu_small,mu_big = 0.003, 0.03\n",
      "print mu_small,mu_big,len(simulation())"
     ],
     "language": "python",
     "metadata": {},
     "outputs": [
      {
       "output_type": "stream",
       "stream": "stdout",
       "text": [
        "0.003 0.003 59\n",
        "0.03 0.03 53\n",
        "0.003 0.03 54\n"
       ]
      }
     ],
     "prompt_number": 8
    },
    {
     "cell_type": "code",
     "collapsed": false,
     "input": [],
     "language": "python",
     "metadata": {},
     "outputs": []
    }
   ],
   "metadata": {}
  }
 ]
}