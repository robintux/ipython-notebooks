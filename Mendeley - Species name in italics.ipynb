{
 "metadata": {
  "name": ""
 },
 "nbformat": 3,
 "nbformat_minor": 0,
 "worksheets": [
  {
   "cells": [
    {
     "cell_type": "code",
     "collapsed": false,
     "input": [
      "def italicize(species_name):\n",
      "    return \"<i>%s</i>\" % species_name"
     ],
     "language": "python",
     "metadata": {},
     "outputs": [],
     "prompt_number": 1
    },
    {
     "cell_type": "code",
     "collapsed": false,
     "input": [
      "import oauth2\n",
      "print \"oauth2 version\", oauth2.__version__"
     ],
     "language": "python",
     "metadata": {},
     "outputs": [
      {
       "output_type": "stream",
       "stream": "stdout",
       "text": [
        "oauth2 version 1.5.211\n"
       ]
      }
     ],
     "prompt_number": 1
    },
    {
     "cell_type": "code",
     "collapsed": false,
     "input": [
      "import os\n",
      "os.chdir(r\"D:\\workspace\\mendeley-oapi-example\")"
     ],
     "language": "python",
     "metadata": {},
     "outputs": [],
     "prompt_number": 2
    },
    {
     "cell_type": "markdown",
     "metadata": {},
     "source": [
      "<https://github.com/Mendeley/mendeley-oapi-example/blob/master/example.py>\n",
      "\n",
      "<http://apidocs.mendeley.com/home/user-specific-methods/user-library>"
     ]
    },
    {
     "cell_type": "code",
     "collapsed": false,
     "input": [
      "from mendeley_client import *\n",
      "from pprint import pprint"
     ],
     "language": "python",
     "metadata": {},
     "outputs": [],
     "prompt_number": 8
    },
    {
     "cell_type": "code",
     "collapsed": false,
     "input": [
      "mendeley = create_client()"
     ],
     "language": "python",
     "metadata": {},
     "outputs": [
      {
       "output_type": "stream",
       "stream": "stdout",
       "text": [
        "Can't load tokens from keys_api.mendeley.com.pkl\n",
        "Go to the following url to auth the token:\n",
        "http://api.mendeley.com/oauth/authorize/?oauth_token=cc6831ed81a4102bb668e561c1103ddc052a98a94&oauth_callback=oob"
       ]
      },
      {
       "output_type": "stream",
       "stream": "stdout",
       "text": [
        "\n"
       ]
      },
      {
       "name": "stdout",
       "output_type": "stream",
       "stream": "stdout",
       "text": [
        "Enter verification code: ebcef35167\n"
       ]
      }
     ],
     "prompt_number": 4
    },
    {
     "cell_type": "code",
     "collapsed": false,
     "input": [
      "lib = mendeley.library()"
     ],
     "language": "python",
     "metadata": {},
     "outputs": [],
     "prompt_number": 6
    },
    {
     "cell_type": "code",
     "collapsed": false,
     "input": [
      "len(lib)"
     ],
     "language": "python",
     "metadata": {},
     "outputs": [
      {
       "metadata": {},
       "output_type": "pyout",
       "prompt_number": 7,
       "text": [
        "6"
       ]
      }
     ],
     "prompt_number": 7
    },
    {
     "cell_type": "code",
     "collapsed": false,
     "input": [
      "documents = mendeley.library()\n",
      "pprint(documents)"
     ],
     "language": "python",
     "metadata": {},
     "outputs": [
      {
       "output_type": "stream",
       "stream": "stdout",
       "text": [
        "{u'current_page': 0,\n",
        " u'document_ids': [u'3652464272',\n",
        "                   u'4057793132',\n",
        "                   u'4057793152',\n",
        "                   u'4445203795',\n",
        "                   u'2817717252',\n",
        "                   u'4679862075',\n",
        "                   u'5269765424',\n",
        "                   u'4171039362',\n",
        "                   u'2775847742',\n",
        "                   u'4204695202',\n",
        "                   u'3652331502',\n",
        "                   u'4635980905',\n",
        "                   u'4650130625',\n",
        "                   u'4573568995',\n",
        "                   u'2775844632',\n",
        "                   u'3649206642',\n",
        "                   u'4104332942',\n",
        "                   u'4445119575',\n",
        "                   u'6060023294',\n",
        "                   u'4286329652'],\n",
        " u'documents': [{u'id': u'3652464272', u'version': 1376574834},\n",
        "                {u'id': u'4057793132', u'version': 1376574860},\n",
        "                {u'id': u'4057793152', u'version': 1376574873},\n",
        "                {u'id': u'4445203795', u'version': 1356980347},\n",
        "                {u'id': u'2817717252', u'version': 1376574834},\n",
        "                {u'id': u'4679862075', u'version': 1376574884},\n",
        "                {u'id': u'5269765424', u'version': 1379944016},\n",
        "                {u'id': u'4171039362', u'version': 1380449572},\n",
        "                {u'id': u'2775847742', u'version': 1380449568},\n",
        "                {u'id': u'4204695202', u'version': 1376574867},\n",
        "                {u'id': u'3652331502', u'version': 1380449576},\n",
        "                {u'id': u'4635980905', u'version': 1350209343},\n",
        "                {u'id': u'4650130625', u'version': 1379943979},\n",
        "                {u'id': u'4573568995', u'version': 1376574891},\n",
        "                {u'id': u'2775844632', u'version': 1376574824},\n",
        "                {u'id': u'3649206642', u'version': 1371539483},\n",
        "                {u'id': u'4104332942', u'version': 1376574867},\n",
        "                {u'id': u'4445119575', u'version': 1350209332},\n",
        "                {u'id': u'6060023294', u'version': 1378186117},\n",
        "                {u'id': u'4286329652', u'version': 1376574849}],\n",
        " u'items_per_page': 20,\n",
        " u'total_pages': 63,\n",
        " u'total_results': 1257}\n"
       ]
      }
     ],
     "prompt_number": 17
    },
    {
     "cell_type": "code",
     "collapsed": false,
     "input": [
      "for docId in documents['document_ids']:\n",
      "    response = mendeley.document_details(docId)\n",
      "    print response['title']"
     ],
     "language": "python",
     "metadata": {},
     "outputs": [
      {
       "output_type": "stream",
       "stream": "stdout",
       "text": [
        "\"Adaptive mutation\": the debate goes on\n",
        "A Bacterium That Can Grow by Using Arsenic Instead of Phosphorus"
       ]
      },
      {
       "output_type": "stream",
       "stream": "stdout",
       "text": [
        "\n",
        "A Biological Solution to a Fundamental Distributed Computing Problem"
       ]
      },
      {
       "output_type": "stream",
       "stream": "stdout",
       "text": [
        "\n",
        "A biologist's guide to mathematical modeling in ecology and evolution"
       ]
      },
      {
       "output_type": "stream",
       "stream": "stdout",
       "text": [
        "\n",
        "A brief history of systems biology. \"Every object that biology studies is a system of systems.\" Francois Jacob (1974)."
       ]
      },
      {
       "output_type": "stream",
       "stream": "stdout",
       "text": [
        "\n",
        "A Comparison of Gamma and Lognormal Distributions for Characterizing Satellite Rain Rates from the Tropical Rainfall Measuring Mission"
       ]
      },
      {
       "output_type": "stream",
       "stream": "stdout",
       "text": [
        "\n",
        "A comparison of homologous recombination rates in bacteria and archaea."
       ]
      },
      {
       "output_type": "stream",
       "stream": "stdout",
       "text": [
        "\n",
        "A competitive network theory of species diversity."
       ]
      },
      {
       "output_type": "stream",
       "stream": "stdout",
       "text": [
        "\n",
        "A comprehensive two-hybrid analysis to explore the yeast protein interactome."
       ]
      },
      {
       "output_type": "stream",
       "stream": "stdout",
       "text": [
        "\n",
        "A conflict between two evolutionary levels in trees."
       ]
      },
      {
       "output_type": "stream",
       "stream": "stdout",
       "text": [
        "\n",
        "A constant rate of spontaneous mutation in DNA-based microbes."
       ]
      },
      {
       "output_type": "stream",
       "stream": "stdout",
       "text": [
        "\n",
        "A farewell to Bonferroni: the problems of low statistical power and publication bias"
       ]
      },
      {
       "output_type": "stream",
       "stream": "stdout",
       "text": [
        "\n",
        "A fast algorithm for computing multilocus recombination."
       ]
      },
      {
       "output_type": "stream",
       "stream": "stdout",
       "text": [
        "\n",
        "A framework for evolutionary systems biology."
       ]
      },
      {
       "output_type": "stream",
       "stream": "stdout",
       "text": [
        "\n",
        "A gene expression signature predicts survival of patients with stage I non-small cell lung cancer."
       ]
      },
      {
       "output_type": "stream",
       "stream": "stdout",
       "text": [
        "\n",
        "A General Mechanism for Network-Dosage Compensation in Gene Circuits"
       ]
      },
      {
       "output_type": "stream",
       "stream": "stdout",
       "text": [
        "\n",
        "A general model for the evolution of mutualisms."
       ]
      },
      {
       "output_type": "stream",
       "stream": "stdout",
       "text": [
        "\n",
        "A general model for the evolution of recombination."
       ]
      },
      {
       "output_type": "stream",
       "stream": "stdout",
       "text": [
        "\n",
        "A GENERAL MULTIVARIATE EXTENSION OF FISHER'S GEOMETRICAL MODEL AND THE DISTRIBUTION OF MUTATION FITNESS EFFECTS ACROSS SPECIES"
       ]
      },
      {
       "output_type": "stream",
       "stream": "stdout",
       "text": [
        "\n",
        "A general reduction principle for genetic modifiers of recombination."
       ]
      },
      {
       "output_type": "stream",
       "stream": "stdout",
       "text": [
        "\n"
       ]
      }
     ],
     "prompt_number": 16
    },
    {
     "cell_type": "code",
     "collapsed": false,
     "input": [
      "#mendeley.update_document("
     ],
     "language": "python",
     "metadata": {},
     "outputs": []
    },
    {
     "cell_type": "code",
     "collapsed": false,
     "input": [
      "lib = mendeley.library()\n",
      "total,page=lib['total_pages'],lib['current_page']"
     ],
     "language": "python",
     "metadata": {},
     "outputs": [],
     "prompt_number": 22
    },
    {
     "cell_type": "code",
     "collapsed": false,
     "input": [
      "total,page = 0,-1\n",
      "docs = []\n",
      "while page < 5:\n",
      "    lib = mendeley.library(page=page+1,items=100)\n",
      "    total,page = lib['total_pages'],lib['current_page']\n",
      "    docs.extend(lib['document_ids'])"
     ],
     "language": "python",
     "metadata": {},
     "outputs": [],
     "prompt_number": 29
    },
    {
     "cell_type": "code",
     "collapsed": false,
     "input": [
      "len(docs),total,page"
     ],
     "language": "python",
     "metadata": {},
     "outputs": [
      {
       "metadata": {},
       "output_type": "pyout",
       "prompt_number": 30,
       "text": [
        "(600, 13, 5)"
       ]
      }
     ],
     "prompt_number": 30
    },
    {
     "cell_type": "code",
     "collapsed": false,
     "input": [
      "for doc in docs:\n",
      "    response = mendeley.document_details(doc)\n",
      "    if 'coli' in response['title']:\n",
      "        print \"%s: %s\" % (response['id'],response['title'])"
     ],
     "language": "python",
     "metadata": {},
     "outputs": [
      {
       "output_type": "stream",
       "stream": "stdout",
       "text": [
        "4740704532: A genome-scale metabolic reconstruction for Escherichia coli K-12 MG1655 that accounts for 1260 ORFs and thermodynamic information.\n",
        "6234533664: Adaptation to the fitness costs of antibiotic resistance in <i>Escherichia coli</i>."
       ]
      },
      {
       "output_type": "stream",
       "stream": "stdout",
       "text": [
        "\n",
        "4586474155: Adaptive Evolution of the Lactose Utilization Network in Experimentally Evolved Populations of Escherichia coli"
       ]
      },
      {
       "output_type": "stream",
       "stream": "stdout",
       "text": [
        "\n",
        "3729618762: Adaptive mutation and amplification in Escherichia coli: two pathways of genome adaptation under stress."
       ]
      },
      {
       "output_type": "stream",
       "stream": "stdout",
       "text": [
        "\n",
        "3638689442: An end-joining repair mechanism in Escherichia coli."
       ]
      },
      {
       "output_type": "stream",
       "stream": "stdout",
       "text": [
        "\n",
        "4740704502: An expanded genome-scale model of Escherichia coli K-12 (iJR904 GSM/GPR)."
       ]
      },
      {
       "output_type": "stream",
       "stream": "stdout",
       "text": [
        "\n",
        "4381036145: Antimutator mutants in bacteriophage T4 and Escherichia coli."
       ]
      },
      {
       "output_type": "stream",
       "stream": "stdout",
       "text": [
        "\n",
        "4590626025: Biochemical genetics of a natural population of <i>Escherichia coli</i>: seasonal changes in alleles and haplotypes."
       ]
      },
      {
       "output_type": "stream",
       "stream": "stdout",
       "text": [
        "\n",
        "5278109594: Clonal divergence in Escherichia coli as a result of recombination, not mutation"
       ]
      },
      {
       "output_type": "stream",
       "stream": "stdout",
       "text": [
        "\n",
        "4538054755: Clonal interference and the periodic selection of new beneficial mutations in Escherichia coli."
       ]
      },
      {
       "output_type": "stream",
       "stream": "stdout",
       "text": [
        "\n",
        "3740514162: Competition Between High and Low Mutating Strains of Escherichia coli"
       ]
      },
      {
       "output_type": "stream",
       "stream": "stdout",
       "text": [
        "\n",
        "4118632722: Competition between high- and higher-mutating strains of <i>Escherichia coli</i>."
       ]
      },
      {
       "output_type": "stream",
       "stream": "stdout",
       "text": [
        "\n",
        "3990623082: Coping with replication 'train wrecks' in Escherichia coli using Pol V, Pol II and RecA proteins"
       ]
      },
      {
       "output_type": "stream",
       "stream": "stdout",
       "text": [
        "\n",
        "3975440472: DinB upregulation is the sole role of the SOS response in stress-induced mutagenesis in Escherichia coli."
       ]
      },
      {
       "output_type": "stream",
       "stream": "stdout",
       "text": [
        "\n",
        "3998503612: Effect of subinhibitory concentrations of antibiotics on intrachromosomal homologous recombination in Escherichia coli."
       ]
      },
      {
       "output_type": "stream",
       "stream": "stdout",
       "text": [
        "\n",
        "4870945032: Effects of environmental stress on stability of tandem repeats in Escherichia coli O157:H7."
       ]
      },
      {
       "output_type": "stream",
       "stream": "stdout",
       "text": [
        "\n",
        "4870870202: Effects of environmental stress on stability of tandem repeats in Escherichia coli O157:H7."
       ]
      },
      {
       "output_type": "stream",
       "stream": "stdout",
       "text": [
        "\n",
        "3652463362: Error-Prone Polymerase, DNA Polymerase IV, Is Responsible for Transient Hypermutation during Adaptive Mutation in Escherichia coli"
       ]
      },
      {
       "output_type": "stream",
       "stream": "stdout",
       "text": [
        "\n",
        "4573569005: Escherichia coli K-12 undergoes adaptive evolution to achieve in silico predicted optimal growth"
       ]
      },
      {
       "output_type": "stream",
       "stream": "stdout",
       "text": [
        "\n",
        "5278122374: Escherichia coli mutators: selection criteria and migration effect."
       ]
      },
      {
       "output_type": "stream",
       "stream": "stdout",
       "text": [
        "\n",
        "4538054805: Escherichia coli mutators: selection criteria and migration effect."
       ]
      },
      {
       "output_type": "stream",
       "stream": "stdout",
       "text": [
        "\n",
        "4156103962: Escherichia coli rpoB mutants have increased evolvability in proportion to their fitness defects."
       ]
      },
      {
       "output_type": "stream",
       "stream": "stdout",
       "text": [
        "\n",
        "2755182082: Estimate of the genomic mutation rate deleterious to overall fitness in <i>E. coli</i>."
       ]
      },
      {
       "output_type": "stream",
       "stream": "stdout",
       "text": [
        "\n",
        "4998994572: Evidence that stationary-phase hypermutation in the Escherichia coli chromosome is promoted by recombination."
       ]
      },
      {
       "output_type": "stream",
       "stream": "stdout",
       "text": [
        "\n",
        "5633658534: Evolution of Escherichia coli rifampicin resistance in an antibiotic-free environment during thermal stress."
       ]
      },
      {
       "output_type": "stream",
       "stream": "stdout",
       "text": [
        "\n",
        "4172014612: Evolution of high mutation rates in experimental populations of E. coli."
       ]
      },
      {
       "output_type": "stream",
       "stream": "stdout",
       "text": [
        "\n",
        "3741851782: Fitness effects of advantageous mutations in evolving Escherichia coli populations."
       ]
      },
      {
       "output_type": "stream",
       "stream": "stdout",
       "text": [
        "\n",
        "4426803355: Fitness evolution and the rise of mutator alleles in experimental Escherichia coli populations."
       ]
      },
      {
       "output_type": "stream",
       "stream": "stdout",
       "text": [
        "\n",
        "4339972842: Fitness of an Escherichia coli mutator gene."
       ]
      },
      {
       "output_type": "stream",
       "stream": "stdout",
       "text": [
        "\n",
        "5817278624: Fitness, stress resistance and extraintestinal virulence in Escherichia coli."
       ]
      },
      {
       "output_type": "stream",
       "stream": "stdout",
       "text": [
        "\n",
        "3990807042: General stress response regulator RpoS in adaptive mutation and amplification in Escherichia coli."
       ]
      },
      {
       "output_type": "stream",
       "stream": "stdout",
       "text": [
        "\n",
        "3449668312: Genome evolution and adaptation in a long-term experiment with Escherichia coli."
       ]
      },
      {
       "output_type": "stream",
       "stream": "stdout",
       "text": [
        "\n",
        "3485944442: Genomic divergence of Escherichia coli strains: evidence for horizontal transfer and variation in mutation rates"
       ]
      },
      {
       "output_type": "stream",
       "stream": "stdout",
       "text": [
        "\n",
        "5214268984: Gross chromosomal rearrangement mediated by DNA replication in stressed cells: evidence from Escherichia coli."
       ]
      },
      {
       "output_type": "stream",
       "stream": "stdout",
       "text": [
        "\n",
        "3859372432: High deleterious genomic mutation rate in stationary phase of Escherichia coli."
       ]
      },
      {
       "output_type": "stream",
       "stream": "stdout",
       "text": [
        "\n",
        "5826184224: High Mutation Frequencies Among Escherichia coli and Salmonella Pathogens"
       ]
      },
      {
       "output_type": "stream",
       "stream": "stdout",
       "text": [
        "\n",
        "3407147462: High Mutation Frequencies Among Escherichia coli and Salmonella Pathogens"
       ]
      },
      {
       "output_type": "stream",
       "stream": "stdout",
       "text": [
        "\n",
        "2755182052: High mutation frequencies among Escherichia coli and Salmonella pathogens"
       ]
      },
      {
       "output_type": "stream",
       "stream": "stdout",
       "text": [
        "\n",
        "2755137932: Highly Variable Mutation Rates in Commensal and Pathogenic Escherichia coli"
       ]
      },
      {
       "output_type": "stream",
       "stream": "stdout",
       "text": [
        "\n",
        "5132613214: Historical contingency and the evolution of a key innovation in an experimental population of Escherichia coli."
       ]
      },
      {
       "output_type": "stream",
       "stream": "stdout",
       "text": [
        "\n",
        "4435159605: Impact of a stress-inducible switch to mutagenic repair of DNA breaks on mutation in <i>Escherichia coli</i>."
       ]
      },
      {
       "output_type": "stream",
       "stream": "stdout",
       "text": [
        "\n",
        "4204714762: Induction of SOS genes in Escherichia coli and mutagenesis in Salmonella typhimurium by fluoroquinolones"
       ]
      },
      {
       "output_type": "stream",
       "stream": "stdout",
       "text": [
        "\n",
        "4538054845: Intermediate mutation frequencies favor evolution of multidrug resistance in Escherichia coli."
       ]
      },
      {
       "output_type": "stream",
       "stream": "stdout",
       "text": [
        "\n"
       ]
      }
     ],
     "prompt_number": 36
    },
    {
     "cell_type": "code",
     "collapsed": false,
     "input": [],
     "language": "python",
     "metadata": {},
     "outputs": []
    }
   ],
   "metadata": {}
  }
 ]
}