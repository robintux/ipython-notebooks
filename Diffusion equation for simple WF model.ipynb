{
 "metadata": {
  "name": ""
 },
 "nbformat": 3,
 "nbformat_minor": 0,
 "worksheets": [
  {
   "cells": [
    {
     "cell_type": "markdown",
     "metadata": {},
     "source": [
      "## Simple WF model"
     ]
    },
    {
     "cell_type": "markdown",
     "metadata": {},
     "source": [
      "## WF simulation"
     ]
    },
    {
     "cell_type": "code",
     "collapsed": false,
     "input": [
      "def step(x,s,u1,u2,N):\n",
      "    x = x * (1 - u2) + (1 - x) * (1-s) * u1\n",
      "    mf = x + (1 - x) * (1 - s)\n",
      "    x = x/mf\n",
      "    n = binomial(N, x)\n",
      "    x = n/float(N)\n",
      "    return x"
     ],
     "language": "python",
     "metadata": {},
     "outputs": [],
     "prompt_number": 1
    },
    {
     "cell_type": "code",
     "collapsed": false,
     "input": [
      "s = 0.0\n",
      "N = 10000\n",
      "u1 = 0.0003\n",
      "u2 = 10*u1\n",
      "x = 0.5\n",
      "_ = []\n",
      "while (s == 0 and x > 0.1) or (s > 0 and x < 1 - u2/s):\n",
      "    _.append(x)\n",
      "    x = step(x,s,u1,u2,N)\n",
      "plot(_)\n",
      "xlabel('t')\n",
      "ylabel('x');"
     ],
     "language": "python",
     "metadata": {},
     "outputs": [
      {
       "metadata": {},
       "output_type": "display_data",
       "png": "[encoded data removed]",
       "text": [
        "<matplotlib.figure.Figure at 0x8b28f60>"
       ]
      }
     ],
     "prompt_number": 2
    },
    {
     "cell_type": "code",
     "collapsed": false,
     "input": [
      "def sample_hitting_prob(x,y,z):\n",
      "    assert 0<y<x<z<1\n",
      "    while y<x<z:\n",
      "        x = step(x,s,u1,u2,N)\n",
      "    return x<=y\n",
      "\n",
      "def estimate_hitting_prob(x,y,z,replicates=1000): \n",
      "    samples = [sample_hitting_prob(x,y,z) for _ in range(replicates)]\n",
      "    return mean(samples),std(samples)/sqrt(replicates) \n",
      "\n",
      "estimate_hitting_prob(0.5,0.49,0.51)[0]"
     ],
     "language": "python",
     "metadata": {},
     "outputs": [
      {
       "metadata": {},
       "output_type": "pyout",
       "prompt_number": 3,
       "text": [
        "0.80300000000000005"
       ]
      }
     ],
     "prompt_number": 3
    },
    {
     "cell_type": "code",
     "collapsed": false,
     "input": [
      "def sample_occupation_time(x,u,v):\n",
      "    assert 0<u<x<v<1\n",
      "    t = 0\n",
      "    while u<x<v:\n",
      "        x = step(x,s,u1,u2,N)\n",
      "        t += 1\n",
      "    return t\n",
      "\n",
      "def estimate_occupation_time(x,u,v,replicates=1000):\n",
      "    samples = [sample_occupation_time(x,u,v) for _ in range(replicates)]\n",
      "    return mean(samples),std(samples)/sqrt(replicates) \n",
      "\n",
      "estimate_occupation_time(0.5,0.4,0.6)[0]"
     ],
     "language": "python",
     "metadata": {},
     "outputs": [
      {
       "metadata": {},
       "output_type": "pyout",
       "prompt_number": 4,
       "text": [
        "84.826999999999998"
       ]
      }
     ],
     "prompt_number": 4
    },
    {
     "cell_type": "markdown",
     "metadata": {},
     "source": [
      "### Diffusion equation\n",
      "\n",
      "Based on example 7.5 in ([Durret 2008](http://www.math.duke.edu/~rtd/Gbook/Gbook.html)):\n",
      "\n",
      "> Example 7.5. Wright-Fisher model with selection and mutation. As before, we\n",
      "have two alleles, A and a, with the fitness of A is 1 and fitness of a is 1\u2212s. This\n",
      "time a -> A with probability \u03bc1 and A -> a with probability \u03bc2. In defining\n",
      "our process we will suppose that selection occurs first followed by mutation...\n",
      "The infinitesimal generator is:\n",
      "$$\n",
      "Lf = \\frac{1}{2} x(1-x)\\frac{d^2}{dx^2}f+(\\gamma x(1-x)+\\beta_1 (1-x)-\\beta_2 x) \\frac{d}{dx}f\n",
      "$$\n",
      "where $\\gamma = 2Ns$ and $\\beta_i = 2N\\mu_i$."
     ]
    },
    {
     "cell_type": "markdown",
     "metadata": {},
     "source": [
      "The major change is that our model is haploid and therefore we subtitute$N=N/2$ in the above.\n",
      "\n",
      "From the definition of the infinitesimal generator:\n",
      "$$\n",
      "b(x) = \\gamma x(1-x) + \\beta_1 (1-x) - \\beta_2 x = Ns x (1-x) + N\\mu_1 (1-x) - N\\mu_2 x\\\\\\\\\n",
      "a(x) = x (1-x)\n",
      "$$"
     ]
    },
    {
     "cell_type": "code",
     "collapsed": false,
     "input": [
      "def b(x):\n",
      "    return N * s * x * (1-x) + N * u1 * (1-x) - N * u2 * x\n",
      "\n",
      "def a(x):\n",
      "    return x * (1-x)"
     ],
     "language": "python",
     "metadata": {},
     "outputs": [],
     "prompt_number": 5
    },
    {
     "cell_type": "markdown",
     "metadata": {},
     "source": [
      "### Hitting probability"
     ]
    },
    {
     "cell_type": "markdown",
     "metadata": {},
     "source": [
      "We now follow example 7.16 but add selection.\n",
      "\n",
      "- We define $\\phi$ to be the _natural scale_ (pg. 264) which is the unique solution of $L\\phi=\\frac{1}{2}a(x)\\phi''+b(x)\\phi'=0$.\n",
      "- We define  $\\psi=\\frac{d\\phi}{dx}=\\phi'$ so that $\\frac{1}{2}a(x) \\psi' + b(x) \\psi = 0 \\Rightarrow \\psi' = \\frac{-2b(x)}{a(x)} \\Rightarrow \\psi = exp(\\int^y{\\frac{-2b(z)}{a(z)} dz})$ and $\\phi(x) = \\int^x{\\psi(y) dt}$."
     ]
    },
    {
     "cell_type": "markdown",
     "metadata": {},
     "source": [
      "So, we have\n",
      "$$\n",
      "\\psi(x) = exp(\\int^x{\\frac{-2b(y)}{a(y)} dy}) = \\\\\\\\\n",
      "exp(\\int^x{-2\\frac{ Ns y (1-y) + N\\mu_1 (1-y) - N\\mu_2 y}{y(1-y)} dy}) = \\\\\\\\\n",
      "exp(\\int^x{-2N (s + \\frac{\\mu_1}{y} - \\frac{\\mu_2 }{1-y}) dy}) = \\\\\\\\\n",
      "exp(\\int^x{-2Ns dy}) exp(\\int^x{-2N (\\frac{\\mu_1}{y} - \\frac{\\mu_2 }{1-y}) dy}) = \\\\\\\\\n",
      "exp(\\int^x{-2Ns dy}) exp(\\int^x{-2N (\\frac{\\mu_1}{y} - \\frac{\\mu_2 }{1-y}) dy}) \\Rightarrow \\\\\\\\\n",
      "\\psi(x) = e^{-2Nsx} x^{-2N\\mu_1}(1-x)^{-2N\\mu_2}\n",
      "$$"
     ]
    },
    {
     "cell_type": "markdown",
     "metadata": {},
     "source": [
      "In the last transition we don't care about the sign of $1-x$ because of the even power.\n",
      "\n",
      "And now:\n",
      "$$\n",
      "\\phi(x) = \\int_{1/2}^{x}{e^{-2Nsy} y^{-2N\\mu_1} (1-y)^{-2N\\mu_2} dy}\n",
      "$$"
     ]
    },
    {
     "cell_type": "code",
     "collapsed": false,
     "input": [
      "psi = lambda x: exp(-2.0*N*s*x) * pow(x,-2.0*N*u1) * pow(1-x,-2.0*N*u2)\n",
      "psi(0.5)"
     ],
     "language": "python",
     "metadata": {},
     "outputs": [
      {
       "metadata": {},
       "output_type": "pyout",
       "prompt_number": 6,
       "text": [
        "7.3786976294837797e+19"
       ]
      }
     ],
     "prompt_number": 6
    },
    {
     "cell_type": "code",
     "collapsed": false,
     "input": [
      "from scipy.integrate import quad\n",
      "phi = lambda x: quad(psi,0.5,x)[0]"
     ],
     "language": "python",
     "metadata": {},
     "outputs": [],
     "prompt_number": 7
    },
    {
     "cell_type": "code",
     "collapsed": false,
     "input": [
      "print r\"beta_1\", N*u1\n",
      "print r\"beta_2\", N*u2"
     ],
     "language": "python",
     "metadata": {},
     "outputs": [
      {
       "output_type": "stream",
       "stream": "stdout",
       "text": [
        "beta_1 3.0\n",
        "beta_2 30.0\n"
       ]
      }
     ],
     "prompt_number": 8
    },
    {
     "cell_type": "code",
     "collapsed": false,
     "input": [
      "# start at x and get to y before z\n",
      "P = lambda x,y,z: (phi(z)-phi(x))/(phi(z)-phi(y))"
     ],
     "language": "python",
     "metadata": {},
     "outputs": [],
     "prompt_number": 9
    },
    {
     "cell_type": "code",
     "collapsed": false,
     "input": [
      "print \"P(0.51,0.49) =\",P(0.5, 0.51, 0.49)\n",
      "print \"P(0.49,0.51) =\",P(0.5, 0.49, 0.51)"
     ],
     "language": "python",
     "metadata": {},
     "outputs": [
      {
       "output_type": "stream",
       "stream": "stdout",
       "text": [
        "P(0.51,0.49) = 0.253050768909\n",
        "P(0.49,0.51) = 0.746949231091\n"
       ]
      }
     ],
     "prompt_number": 10
    },
    {
     "cell_type": "code",
     "collapsed": false,
     "input": [
      "x = linspace(0.1,0.9,50)\n",
      "y = linspace(0.09,0.89,len(x))\n",
      "z = linspace(0.11,0.91,len(x))\n",
      "p1 = [P(x[i],y[i],z[i]) for i in range(len(y))]\n",
      "#plot(p1)"
     ],
     "language": "python",
     "metadata": {},
     "outputs": [],
     "prompt_number": 11
    },
    {
     "cell_type": "code",
     "collapsed": false,
     "input": [
      "p2 = array([estimate_hitting_prob(x[i],y[i],z[i],1000) for i in range(len(y))])"
     ],
     "language": "python",
     "metadata": {},
     "outputs": [],
     "prompt_number": 12
    },
    {
     "cell_type": "code",
     "collapsed": false,
     "input": [
      "plot(x, p1, label='Diffusion')\n",
      "errorbar(x, p2[:,0], yerr=p2[:,1], fmt='.', label='Simulation')\n",
      "ylabel('Probability of losing 1% before gaining 1%')\n",
      "xlabel('Starting frequency of A')\n",
      "legend(loc=2);"
     ],
     "language": "python",
     "metadata": {},
     "outputs": [
      {
       "metadata": {},
       "output_type": "display_data",
       "png": "[encoded data removed]",
       "text": [
        "<matplotlib.figure.Figure at 0x8a633c8>"
       ]
      }
     ],
     "prompt_number": 13
    },
    {
     "cell_type": "markdown",
     "metadata": {},
     "source": [
      "### Stationary measures\n",
      "\n",
      "Following section 7.5, a stationary measure $\\pi$ is the sationary distribution of the process.\n",
      "\n",
      "Defining the adjoint operator of the infinitesimal generator:\n",
      "$$\n",
      "L^*f = \\frac{1}{2} \\frac{d^2}{dx^2}(a(x)f(x))-\\frac{d}{dx}(b(x)f(x))\n",
      "$$\n",
      "The stationary measure is the solution to $L^*\\pi = 0$.\n",
      "\n",
      "The stationary measure, by Theorem 7.8, is $m(x) = 1/a(x)\\psi(x)$. This is also called speed measure. if $\\int_0^1{m(x)dx}!=1$ then we must normalize $m(x)$ to get the stationary distribution."
     ]
    },
    {
     "cell_type": "code",
     "collapsed": false,
     "input": [
      "m = lambda x: 1.0 / (a(x) * psi(x))"
     ],
     "language": "python",
     "metadata": {},
     "outputs": [],
     "prompt_number": 13
    },
    {
     "cell_type": "code",
     "collapsed": false,
     "input": [
      "x = linspace(0,1,100)\n",
      "mx = [m(xx) for xx in x]"
     ],
     "language": "python",
     "metadata": {},
     "outputs": [],
     "prompt_number": 17
    },
    {
     "cell_type": "code",
     "collapsed": false,
     "input": [
      "plot(x, mx);"
     ],
     "language": "python",
     "metadata": {},
     "outputs": [
      {
       "metadata": {},
       "output_type": "display_data",
       "png": "[encoded data removed]",
       "text": [
        "<matplotlib.figure.Figure at 0x9a20550>"
       ]
      }
     ],
     "prompt_number": 18
    },
    {
     "cell_type": "markdown",
     "metadata": {},
     "source": [
      "### Occupation time\n",
      "\n",
      "Following section 7.6:\n",
      "\n",
      "> Let \u001c",
      " be the amount of time it takes for fixation or loss of an allele to occur.\n",
      "In addition to computing the probabilities of the two outcomes, we would\n",
      "like to determine the average time that this will take. \n",
      "\n",
      "We define the occupation time $\\tau = \\min{(T_0, T_1)}$. \n",
      "\n",
      "To compute $g(i) = E_i\\tau$\u001c",
      " , it is convenient to consider a more general problem:\n",
      "$$\n",
      "g(x) = E_x \\int_{0}^{\\tau}{f(X_z)dz}\n",
      "$$\n",
      "which reduces to the original question when $f = 1$.\n",
      "\n",
      "According to Theorem 7.12, $g(x)$ the occupation time starting at $x$ is the unique solution of\n",
      "$$\n",
      "Lg = -f \\\\\\\\\n",
      "g(0) = 0 \\\\\\\\\n",
      "g(1) = 0\n",
      "$$"
     ]
    },
    {
     "cell_type": "markdown",
     "metadata": {},
     "source": [
      "### Green's functions\n",
      "\n",
      "We define Green's function $G(x,y)$ for the interval $[u,v]$ by:\n",
      "$$\n",
      "g(x) = \\int_u^v{G(x,y)f(y) dy} \\;\\;\\; \\forall u<x<v\\\\\\\\\n",
      "g(u) = 0 \\\\\\\\\n",
      "g(v) = 0 \\\\\\\\\n",
      "Lg = -f\n",
      "$$\n"
     ]
    },
    {
     "cell_type": "markdown",
     "metadata": {},
     "source": [
      "By theorem 7.16, Green's function for $[u,v]$ is:\n",
      "$$\n",
      "G(x,y) = 2 m(y) \\frac{(\\phi(v)-\\phi(x)) (\\phi(y)-\\phi(u))}{\\phi(v)-\\phi(u)} \\;\\;\\; y \\le x \\\\\\\\\n",
      "G(x,y) = 2 m(y) \\frac{(\\phi(x)-\\phi(u)) (\\phi(v)-\\phi(y))}{\\phi(v)-\\phi(u)} \\;\\;\\; x \\le y\n",
      "$$\n",
      "where $\\phi$ and $m$ are the _natural scale_ and the _speed measure_, defined above."
     ]
    },
    {
     "cell_type": "code",
     "collapsed": false,
     "input": [
      "def G(x,y,u,v):\n",
      "    if y <= x:\n",
      "        return 2 * m(y) * (phi(v)-phi(x)) * (phi(y)-phi(u)) / (phi(v)-phi(u))\n",
      "    else:\n",
      "        return 2 * m(y) * (phi(x)-phi(u)) * (phi(v)-phi(y)) / (phi(v)-phi(u))"
     ],
     "language": "python",
     "metadata": {},
     "outputs": [],
     "prompt_number": 19
    },
    {
     "cell_type": "code",
     "collapsed": false,
     "input": [
      "G(0.5,0.6,0.01,0.99)"
     ],
     "language": "python",
     "metadata": {},
     "outputs": [
      {
       "metadata": {},
       "output_type": "pyout",
       "prompt_number": 20,
       "text": [
        "3.6140577882851505e-07"
       ]
      }
     ],
     "prompt_number": 20
    },
    {
     "cell_type": "markdown",
     "metadata": {},
     "source": [
      "Now, it turns out (Corollary 7.37) that\n",
      "$$\n",
      "E_x \\tau_{u,v} = \\int_u^v{G(x,y) dy}\n",
      "$$\n",
      "where $\\tau_{u,v} = \\min{(T_u,T_v)}$."
     ]
    },
    {
     "cell_type": "code",
     "collapsed": false,
     "input": [
      "T = lambda x,u,v: quad(lambda y: G(x,y,u,v), u, v)[0]\n",
      "T(0.5,0.01,0.99)"
     ],
     "language": "python",
     "metadata": {},
     "outputs": [
      {
       "metadata": {},
       "output_type": "pyout",
       "prompt_number": 21,
       "text": [
        "17.70501750388957"
       ]
      }
     ],
     "prompt_number": 21
    },
    {
     "cell_type": "code",
     "collapsed": false,
     "input": [
      "u,v = 0.1,0.9\n",
      "x = linspace(u+0.01, v-0.01, 10)\n",
      "T1 = N*array([T(xx, u, v) for xx in x])"
     ],
     "language": "python",
     "metadata": {},
     "outputs": [],
     "prompt_number": 45
    },
    {
     "cell_type": "code",
     "collapsed": false,
     "input": [
      "T2 = array([estimate_occupation_time(xx, u, v, 100) for xx in x])"
     ],
     "language": "python",
     "metadata": {},
     "outputs": [],
     "prompt_number": 46
    },
    {
     "cell_type": "code",
     "collapsed": false,
     "input": [
      "plot(x, T1, label='Diffusion')\n",
      "errorbar(x, T2[:,0], yerr=T2[:,1], fmt='.', label='Simulation')\n",
      "ylabel('Time between %.2f and %.2f' % (u,v))\n",
      "xlabel('Starting frequency of A')\n",
      "legend(loc=2);"
     ],
     "language": "python",
     "metadata": {},
     "outputs": [
      {
       "metadata": {},
       "output_type": "display_data",
       "png": "[encoded data removed]",
       "text": [
        "<matplotlib.figure.Figure at 0x9c01550>"
       ]
      }
     ],
     "prompt_number": 47
    },
    {
     "cell_type": "code",
     "collapsed": false,
     "input": [],
     "language": "python",
     "metadata": {},
     "outputs": []
    }
   ],
   "metadata": {}
  }
 ]
}