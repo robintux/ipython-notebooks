{
 "metadata": {
  "name": "numexpr in mamba"
 },
 "nbformat": 3,
 "nbformat_minor": 0,
 "worksheets": [
  {
   "cells": [
    {
     "cell_type": "code",
     "collapsed": false,
     "input": [
      "cd d:\\workspace\\mamba"
     ],
     "language": "python",
     "metadata": {},
     "outputs": [
      {
       "output_type": "stream",
       "stream": "stdout",
       "text": [
        "d:\\workspace\\mamba\n"
       ]
      }
     ],
     "prompt_number": 1
    },
    {
     "cell_type": "code",
     "collapsed": false,
     "input": [
      "import model\n",
      "reload(model);"
     ],
     "language": "python",
     "metadata": {},
     "outputs": [],
     "prompt_number": 4
    },
    {
     "cell_type": "code",
     "collapsed": false,
     "input": [
      "g = array([array(randint(0,2,1000)) for _ in range(500)])\n",
      "g.sum()"
     ],
     "language": "python",
     "metadata": {},
     "outputs": [
      {
       "output_type": "pyout",
       "prompt_number": 26,
       "text": [
        "249335"
       ]
      }
     ],
     "prompt_number": 26
    },
    {
     "cell_type": "code",
     "collapsed": false,
     "input": [
      "def genome_to_num(genome):\n",
      "\ti = np.arange(genome.shape[0])\n",
      "\treturn (2. ** i * genome).sum()"
     ],
     "language": "python",
     "metadata": {},
     "outputs": [],
     "prompt_number": 14
    },
    {
     "cell_type": "code",
     "collapsed": false,
     "input": [
      "import numexpr"
     ],
     "language": "python",
     "metadata": {},
     "outputs": [],
     "prompt_number": 15
    },
    {
     "cell_type": "code",
     "collapsed": false,
     "input": [
      "def genome_to_num_numexpr(genome):\n",
      "\ti = np.arange(genome.shape[0])\n",
      "\treturn numexpr.evaluate(\"sum(2. ** i * genome)\")"
     ],
     "language": "python",
     "metadata": {},
     "outputs": [],
     "prompt_number": 72
    },
    {
     "cell_type": "code",
     "collapsed": false,
     "input": [
      "%timeit -n 100 [genome_to_num(ge)  for ge in g]\n",
      "%timeit -n 100 [genome_to_num_numexpr(ge) for ge in g]"
     ],
     "language": "python",
     "metadata": {},
     "outputs": [
      {
       "output_type": "stream",
       "stream": "stdout",
       "text": [
        "100 loops, best of 3: 77.9 ms per loop\n",
        "100 loops, best of 3: 40.7 ms per loop"
       ]
      },
      {
       "output_type": "stream",
       "stream": "stdout",
       "text": [
        "\n"
       ]
      }
     ],
     "prompt_number": 73
    },
    {
     "cell_type": "code",
     "collapsed": false,
     "input": [
      "p=model.create_uniform_mutation_load_population(10**9, 1000)\n",
      "f=model.create_fitness_by_mutational_load(0.01, 1000)"
     ],
     "language": "python",
     "metadata": {},
     "outputs": [],
     "prompt_number": 29
    },
    {
     "cell_type": "code",
     "collapsed": false,
     "input": [
      "def selection(population, fitness):\n",
      "\tpop_size = population.sum()\n",
      "\tp = population * fitness\n",
      "\tp[:] = p / p.sum()\n",
      "\tpopulation[:] = multinomial(pop_size, p)\n",
      "\treturn population"
     ],
     "language": "python",
     "metadata": {},
     "outputs": [],
     "prompt_number": 37
    },
    {
     "cell_type": "code",
     "collapsed": false,
     "input": [
      "def selection_numexpr(population, fitness):\n",
      "    pop_size = numexpr.evaluate(\"sum(population)\")\n",
      "    p = numexpr.evaluate(\"population * fitness \")\n",
      "    sump = numexpr.evaluate(\"sum(p)\")\n",
      "    p[:] = numexpr.evaluate(\"p / sump\")\n",
      "    population[:] = multinomial(pop_size, p)\n",
      "    return population"
     ],
     "language": "python",
     "metadata": {},
     "outputs": [],
     "prompt_number": 76
    },
    {
     "cell_type": "code",
     "collapsed": false,
     "input": [
      "%timeit -n 10000 selection(p,f)\n",
      "%timeit -n 10000 selection_numexpr(p,f)"
     ],
     "language": "python",
     "metadata": {},
     "outputs": [
      {
       "output_type": "stream",
       "stream": "stdout",
       "text": [
        "10000 loops, best of 3: 27.4 us per loop\n",
        "10000 loops, best of 3: 118 us per loop"
       ]
      },
      {
       "output_type": "stream",
       "stream": "stdout",
       "text": [
        "\n"
       ]
      }
     ],
     "prompt_number": 77
    },
    {
     "cell_type": "code",
     "collapsed": false,
     "input": [],
     "language": "python",
     "metadata": {},
     "outputs": []
    }
   ],
   "metadata": {}
  }
 ]
}