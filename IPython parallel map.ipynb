{
 "metadata": {
  "name": "",
  "signature": "sha256:b8f57eae4ee731c8cfc5d2667b997935a526bdad3fc2867f625f1475c675af10"
 },
 "nbformat": 3,
 "nbformat_minor": 0,
 "worksheets": [
  {
   "cells": [
    {
     "cell_type": "markdown",
     "metadata": {},
     "source": [
      "# Easy Parallelization in IPython Notebook\n",
      "\n",
      "Here is the fastest way to achieve parallel computation in an IPython notebook when applying a function on independent data points via the map idiom. \n",
      "\n",
      "The full turotial can be found [here](http://nbviewer.ipython.org/github/vals/scilife-python-course/blob/master/parallel%20python.ipynb).\n",
      "\n",
      "We define the function we want to use. In this case we want to calculate this classic integral:\n",
      "$$\n",
      "\\int_0^x{e^{-t^2} dt}\n",
      "$$\n",
      "\n",
      "Start with the standard calculation using `scipy.integrate.quad`:"
     ]
    },
    {
     "cell_type": "code",
     "collapsed": false,
     "input": [
      "from scipy.integrate import quad\n",
      "from numpy import exp"
     ],
     "language": "python",
     "metadata": {},
     "outputs": []
    },
    {
     "cell_type": "code",
     "collapsed": false,
     "input": [
      "def integrand(x):\n",
      "    return exp(-(x)**2)\n",
      "print \"integrand(1) =\", integrand(1)"
     ],
     "language": "python",
     "metadata": {},
     "outputs": []
    },
    {
     "cell_type": "code",
     "collapsed": false,
     "input": [
      "def integral(x):\n",
      "    return quad(integrand,0,x)[0]\n",
      "print \"integral(1) =\", integral(1)"
     ],
     "language": "python",
     "metadata": {},
     "outputs": [
      {
       "output_type": "stream",
       "stream": "stdout",
       "text": [
        "integrand(1) = 0.367879441171\n",
        "integral(1) = 0.746824132812\n"
       ]
      }
     ],
     "prompt_number": 1
    },
    {
     "cell_type": "markdown",
     "metadata": {},
     "source": [
      "Our benchmark will be the calculation of the integral on the segments $[0,n]$ for $n\\in {0,1,2,...,N}$"
     ]
    },
    {
     "cell_type": "code",
     "collapsed": false,
     "input": [
      "N = 1000\n",
      "%timeit -n 10 map(integral, range(N))"
     ],
     "language": "python",
     "metadata": {},
     "outputs": [
      {
       "output_type": "stream",
       "stream": "stdout",
       "text": [
        "10 loops, best of 3: 618 ms per loop\n"
       ]
      }
     ],
     "prompt_number": 5
    },
    {
     "cell_type": "markdown",
     "metadata": {},
     "source": [
      "To do the parallelization we need to turn on an IPython cluster - go to the IPython dashboard to do that.\n",
      "\n",
      "Then these two lines will import the parallelization client and get a worker pool from it:"
     ]
    },
    {
     "cell_type": "code",
     "collapsed": false,
     "input": [
      "from IPython.parallel import Client\n",
      "pool = Client()[:]"
     ],
     "language": "python",
     "metadata": {},
     "outputs": [],
     "prompt_number": 2
    },
    {
     "cell_type": "markdown",
     "metadata": {},
     "source": [
      "To make sure it worked, let's check how many workers/CPUs we have (the number of these is chosen in the IPython dashboard):"
     ]
    },
    {
     "cell_type": "code",
     "collapsed": false,
     "input": [
      "print \"# CPUs\",len(pool.client.ids)"
     ],
     "language": "python",
     "metadata": {},
     "outputs": [
      {
       "output_type": "stream",
       "stream": "stdout",
       "text": [
        "# CPUs 4\n"
       ]
      }
     ],
     "prompt_number": 3
    },
    {
     "cell_type": "markdown",
     "metadata": {},
     "source": [
      "We need to setup the environment - do the imports and load the required functions and variables (no shared memory!):"
     ]
    },
    {
     "cell_type": "code",
     "collapsed": false,
     "input": [
      "with pool.sync_imports():\n",
      "    from scipy.integrate import quad\n",
      "    from numpy import exp\n",
      "pool['integrand'] = integrand"
     ],
     "language": "python",
     "metadata": {},
     "outputs": [
      {
       "output_type": "stream",
       "stream": "stdout",
       "text": [
        "importing quad from scipy.integrate on engine(s)\n",
        "importing exp from numpy on engine(s)\n"
       ]
      }
     ],
     "prompt_number": 6
    },
    {
     "cell_type": "markdown",
     "metadata": {},
     "source": [
      "Now we can run the computation in parallel using `map_sync` which is similar to `map`:"
     ]
    },
    {
     "cell_type": "code",
     "collapsed": false,
     "input": [
      "print pool.map_sync(integral, range(10))"
     ],
     "language": "python",
     "metadata": {},
     "outputs": [
      {
       "output_type": "stream",
       "stream": "stdout",
       "text": [
        "[0.0, 0.7468241328124271, 0.8820813907624215, 0.8862073482595214, 0.8862269117895689, 0.8862269254513955, 0.8862269254527582, 0.8862269254527579, 0.8862269254527579, 0.8862269254527579]\n"
       ]
      }
     ],
     "prompt_number": 7
    },
    {
     "cell_type": "code",
     "collapsed": false,
     "input": [
      "%timeit -n 10 pool.map(integral, range(N))"
     ],
     "language": "python",
     "metadata": {},
     "outputs": [
      {
       "output_type": "stream",
       "stream": "stdout",
       "text": [
        "10 loops, best of 3: 1.97 ms per loop\n"
       ]
      }
     ],
     "prompt_number": 8
    },
    {
     "cell_type": "markdown",
     "metadata": {},
     "source": [
      "That's it.\n",
      "\n",
      "The notebook can be found at <http://ipython.yoavram.com>.\n",
      "\n",
      "This notebook is licensed under [CC-BY-SA 3.0](https://creativecommons.org/licenses/by-sa/3.0/)"
     ]
    }
   ],
   "metadata": {}
  }
 ]
}