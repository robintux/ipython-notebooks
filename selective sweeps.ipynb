{
 "metadata": {
  "name": ""
 },
 "nbformat": 3,
 "nbformat_minor": 0,
 "worksheets": [
  {
   "cells": [
    {
     "cell_type": "markdown",
     "metadata": {},
     "source": [
      "# Selective sweeps"
     ]
    },
    {
     "cell_type": "code",
     "collapsed": false,
     "input": [
      "from scipy import __version__ as scipy_ver\n",
      "print \"scipy:\", scipy_ver\n",
      "np.set_printoptions(linewidth=80)\n",
      "np.set_printoptions(precision=3)\n",
      "from mpltools import style\n",
      "style.use('ggplot')\n",
      "import random\n",
      "from numpy.random import poisson, exponential"
     ],
     "language": "python",
     "metadata": {},
     "outputs": [
      {
       "output_type": "stream",
       "stream": "stdout",
       "text": [
        "scipy: 0.12.0\n"
       ]
      }
     ],
     "prompt_number": 1
    },
    {
     "cell_type": "markdown",
     "metadata": {},
     "source": [
      "## Simple selective sweeps WF simulations\n",
      "\n",
      "The following is an implementation of the simulations from [Pennings & Hermisson, 2005](http://www.pubmedcentral.nih.gov/articlerender.fcgi?artid=1449620&tool=pmcentrez&rendertype=abstract). This implementation does not includes the last subsection of the model section _Number of (independent) copies_.\n",
      "\n",
      "The model consists of 6 genotypes:\n",
      "\n",
      "| index | 0 | 1 | 2 | 3 | 4 | 5 |\n",
      "| - | - | - | - | - | - |\n",
      "| **genotype** | 00 | 01 | 02 | 11 | 12 | 22 |\n"
     ]
    },
    {
     "cell_type": "code",
     "collapsed": false,
     "input": [
      "sd = -0.001      # selection coefficient of the 1 allele before the environmental change\n",
      "sb = 0.01        # selection coefficient of the 1 and 2 alleles after the environmental change\n",
      "h = 0.5          # dominance coefficient\n",
      "N = 25000        # effective population size\n",
      "u = 0.4/(4.*N)   # mutation rate 0->1 and 0->2\n",
      "T = 6*N          # time of the environmental change\n",
      "G = N/10         # at T+G the mutational input is stopped"
     ],
     "language": "python",
     "metadata": {},
     "outputs": [],
     "prompt_number": 84
    },
    {
     "cell_type": "markdown",
     "metadata": {},
     "source": [
      "#### Selection matrix"
     ]
    },
    {
     "cell_type": "code",
     "collapsed": false,
     "input": [
      "S1 = diag(array([1, 1+h*sd, 1+h*sd, 1+sd, 1+sd, 1+sd]))\n",
      "print S1\n",
      "S2 = diag(array([1, 1+h*sb, 1+h*sb, 1+sd, 1+sb, 1+sb]))\n",
      "print S2"
     ],
     "language": "python",
     "metadata": {},
     "outputs": [
      {
       "output_type": "stream",
       "stream": "stdout",
       "text": [
        "[[ 1.     0.     0.     0.     0.     0.   ]\n",
        " [ 0.     1.     0.     0.     0.     0.   ]\n",
        " [ 0.     0.     1.     0.     0.     0.   ]\n",
        " [ 0.     0.     0.     0.999  0.     0.   ]\n",
        " [ 0.     0.     0.     0.     0.999  0.   ]\n",
        " [ 0.     0.     0.     0.     0.     0.999]]\n",
        "[[ 1.     0.     0.     0.     0.     0.   ]\n",
        " [ 0.     1.005  0.     0.     0.     0.   ]\n",
        " [ 0.     0.     1.005  0.     0.     0.   ]\n",
        " [ 0.     0.     0.     0.999  0.     0.   ]\n",
        " [ 0.     0.     0.     0.     1.01   0.   ]\n",
        " [ 0.     0.     0.     0.     0.     1.01 ]]\n"
       ]
      }
     ],
     "prompt_number": 85
    },
    {
     "cell_type": "markdown",
     "metadata": {},
     "source": [
      "#### Mutation matrix\n",
      "\n",
      "Two matrices, one generates 1 alleles before time T, the second generates 2 alleles after time T."
     ]
    },
    {
     "cell_type": "code",
     "collapsed": false,
     "input": [
      "M1 = zeros((6,6))\n",
      "M1[0,1] = 2*u        # 00->01\n",
      "M1[0,3] = u**2       # 00->11\n",
      "M1[1,3] = u          # 01->11\n",
      "M1 += diag(1-M1.sum(axis=0))\n",
      "assert np.allclose(M1.sum(axis=0), 1)\n",
      "print M1\n",
      "\n",
      "M2 = zeros((6,6))\n",
      "M2 = zeros((6,6))\n",
      "M2[0,2] = 2*u        # 00->02\n",
      "M2[0,5] = u**2       # 00->22\n",
      "M2[1,4] = u          # 01->21\n",
      "M2[2,5] = u          # 02->22\n",
      "M2 += diag(1-M2.sum(axis=0))\n",
      "assert np.allclose(M2.sum(axis=0), 1)\n",
      "print M2"
     ],
     "language": "python",
     "metadata": {},
     "outputs": [
      {
       "output_type": "stream",
       "stream": "stdout",
       "text": [
        "[[  1.000e+00   8.000e-06   0.000e+00   1.600e-11   0.000e+00   0.000e+00]\n",
        " [  0.000e+00   1.000e+00   0.000e+00   4.000e-06   0.000e+00   0.000e+00]\n",
        " [  0.000e+00   0.000e+00   1.000e+00   0.000e+00   0.000e+00   0.000e+00]\n",
        " [  0.000e+00   0.000e+00   0.000e+00   1.000e+00   0.000e+00   0.000e+00]\n",
        " [  0.000e+00   0.000e+00   0.000e+00   0.000e+00   1.000e+00   0.000e+00]\n",
        " [  0.000e+00   0.000e+00   0.000e+00   0.000e+00   0.000e+00   1.000e+00]]\n",
        "[[  1.000e+00   0.000e+00   8.000e-06   0.000e+00   0.000e+00   1.600e-11]\n",
        " [  0.000e+00   1.000e+00   0.000e+00   0.000e+00   4.000e-06   0.000e+00]\n",
        " [  0.000e+00   0.000e+00   1.000e+00   0.000e+00   0.000e+00   4.000e-06]\n",
        " [  0.000e+00   0.000e+00   0.000e+00   1.000e+00   0.000e+00   0.000e+00]\n",
        " [  0.000e+00   0.000e+00   0.000e+00   0.000e+00   1.000e+00   0.000e+00]\n",
        " [  0.000e+00   0.000e+00   0.000e+00   0.000e+00   0.000e+00   1.000e+00]]\n"
       ]
      }
     ],
     "prompt_number": 86
    },
    {
     "cell_type": "markdown",
     "metadata": {},
     "source": [
      "A function to plot the population distribution:"
     ]
    },
    {
     "cell_type": "code",
     "collapsed": false,
     "input": [
      "def population_histogram(population):\n",
      "    fig,ax = subplots(1,1)\n",
      "    ax.bar(range(len(population)),  population/float(N), color='k', align='center')\n",
      "    ax.set_ylabel(\"Frequency\")\n",
      "    ax.set_xlabel(\"Genotype\")\n",
      "    ax.set_xticks(range(6))\n",
      "    ax.set_xticklabels([\"00\", \"01\", \"02\", \"11\", \"12\", \"22\"])\n",
      "    return fig,ax"
     ],
     "language": "python",
     "metadata": {},
     "outputs": [],
     "prompt_number": 87
    },
    {
     "cell_type": "markdown",
     "metadata": {},
     "source": [
      "Start with a _00_ population and go from there:"
     ]
    },
    {
     "cell_type": "code",
     "collapsed": false,
     "input": [
      "population = array([N, 0, 0, 0, 0, 0])"
     ],
     "language": "python",
     "metadata": {},
     "outputs": [],
     "prompt_number": 88
    },
    {
     "cell_type": "code",
     "collapsed": false,
     "input": [
      "for t in range(T):\n",
      "    population = population.dot(M1)\n",
      "    population = population.dot(S1)\n",
      "    population = multinomial(N, population/float(population.sum()))"
     ],
     "language": "python",
     "metadata": {},
     "outputs": [],
     "prompt_number": 89
    },
    {
     "cell_type": "code",
     "collapsed": false,
     "input": [
      "population_histogram(population);"
     ],
     "language": "python",
     "metadata": {},
     "outputs": [
      {
       "metadata": {},
       "output_type": "display_data",
       "png": "[encoded data removed]",
       "text": [
        "<matplotlib.figure.Figure at 0x9cba7b8>"
       ]
      }
     ],
     "prompt_number": 90
    },
    {
     "cell_type": "code",
     "collapsed": false,
     "input": [
      "for t in range(T+1,T + G):\n",
      "    population = population.dot(M2)\n",
      "    population = population.dot(S2)\n",
      "    population = multinomial(N, population/float(population.sum()))"
     ],
     "language": "python",
     "metadata": {},
     "outputs": [],
     "prompt_number": 91
    },
    {
     "cell_type": "code",
     "collapsed": false,
     "input": [
      "population_histogram(population);"
     ],
     "language": "python",
     "metadata": {},
     "outputs": [
      {
       "metadata": {},
       "output_type": "display_data",
       "png": "[encoded data removed]",
       "text": [
        "<matplotlib.figure.Figure at 0x9cb3780>"
       ]
      }
     ],
     "prompt_number": 92
    },
    {
     "cell_type": "code",
     "collapsed": false,
     "input": [
      "while population[0:3].sum() > 0 and population[0] < N:  \n",
      "    population = population.dot(S2)\n",
      "    population = multinomial(N, population/float(population.sum()))"
     ],
     "language": "python",
     "metadata": {},
     "outputs": [],
     "prompt_number": 93
    },
    {
     "cell_type": "code",
     "collapsed": false,
     "input": [
      "population_histogram(population);"
     ],
     "language": "python",
     "metadata": {},
     "outputs": [
      {
       "metadata": {},
       "output_type": "display_data",
       "png": "[encoded data removed]",
       "text": [
        "<matplotlib.figure.Figure at 0x9c8d048>"
       ]
      }
     ],
     "prompt_number": 94
    },
    {
     "cell_type": "code",
     "collapsed": false,
     "input": [],
     "language": "python",
     "metadata": {},
     "outputs": [],
     "prompt_number": 68
    },
    {
     "cell_type": "code",
     "collapsed": false,
     "input": [],
     "language": "python",
     "metadata": {},
     "outputs": []
    }
   ],
   "metadata": {}
  }
 ]
}