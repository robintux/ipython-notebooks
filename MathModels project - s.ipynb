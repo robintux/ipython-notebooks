{
 "metadata": {
  "name": "",
  "signature": "sha256:252c34f5904e8ca1ced8de01e1c8b6cd9c5587a66fe0e77ed0829026ccd6c9ca"
 },
 "nbformat": 3,
 "nbformat_minor": 0,
 "worksheets": [
  {
   "cells": [
    {
     "cell_type": "code",
     "collapsed": false,
     "input": [
      "import sympy\n",
      "from sympy import __version__ as sympy_ver\n",
      "print \"sympy\", sympy_ver\n",
      "from sympy.interactive import printing\n",
      "printing.init_printing(use_latex=True)\n",
      "rcParams['font.size'] = 14\n",
      "rcParams['legend.fontsize'] = 14"
     ],
     "language": "python",
     "metadata": {},
     "outputs": [
      {
       "output_type": "stream",
       "stream": "stdout",
       "text": [
        "sympy 0.7.4.1\n"
       ]
      }
     ],
     "prompt_number": 154
    },
    {
     "cell_type": "markdown",
     "metadata": {},
     "source": [
      "# Approximating a mutation-selection balance distribution with heterogeneous selection coefficients using the averaging principle\n",
      "## Mathematical Models course\n",
      "## Yoav Ram, Spring 2014"
     ]
    },
    {
     "cell_type": "markdown",
     "metadata": {},
     "source": [
      "## Homogeneous model\n",
      "\n",
      "Consider an asexual infinite population. We focus on a single locus with two alleles, wildtype _a_ and mutant _A_ with frequencies _f_ and _q_ and fitness 1 and 1-_s_. Mutation is unidirectional from _a_ to _A_ with probability _U_.\n",
      "\n",
      "The change in frequency of_a_ from generation to generation is described by:\n",
      "$$\n",
      "\\bar{\\omega}(t) f(t+1) = f(t) (1-U) \n",
      "$$\n",
      "and \n",
      "$$\n",
      "\\bar{\\omega}(t) = f(t) + (1-f(t))(1-s)\n",
      "$$\n",
      "\n",
      "Taking the equilibrium values $f=lim f(t)$ and $\\bar{\\omega}=lim \\bar{\\omega}(t)$, this resolves to \n",
      "$$\n",
      "\\bar{\\omega} f = f (1-U) \\Rightarrow \\bar{\\omega} = 1-U\n",
      "$$\n",
      "and\n",
      "$$\n",
      "\\bar{\\omega}(1-f) = f U + (1-s)(1-f) \\Rightarrow \\\\\\\\\n",
      "(1-U)(1-f) = fU + (1-s)(1-f) \\Rightarrow \\\\\\\\\n",
      "1 - f - U + fU = fU + 1-f-s+fs \\Rightarrow \\\\\\\\\n",
      "U = s-fs \\Rightarrow \\\\\\\\\n",
      "U-s = -fs \\Rightarrow \\\\\\\\\n",
      "\\frac{s-U}{s} = f \\Rightarrow \\\\\\\\\n",
      "f = 1 - \\frac{U}{s}\n",
      "$$\n",
      "so that the equilibrium frequencies of the wildtype and the mutant are $1-\\frac{U}{s}$ and $\\frac{U}{s}$.\n",
      "\n",
      "However, in this formulation we only consider a single selective disadvantage _s_ for all mutant alleles."
     ]
    },
    {
     "cell_type": "markdown",
     "metadata": {},
     "source": [
      "## Heteregeneous model\n",
      "\n",
      "In the heterogeneous model we have _n_ different mutant alleles with fitness $0<1-s_i<1, 1\\le i \\le n$ and frequencies $f_i$, where $f_0$ is the frequency of the wildtype.\n",
      "The probability to mutate is still _U_, and there is an equal probability for each mutant allele.\n",
      "\n",
      "The equilibrium equation is then:\n",
      "\n",
      "$$\n",
      "\\bar{\\omega} f_0 = f_0 (1 - U) \\\\\\\\\n",
      "\\bar{\\omega} f_n = f_0 \\frac{U}{n} + (1-s_n)f_n , \\; \\forall n > 0 \\\\\\\\\n",
      "\\bar{\\omega} = f_0 + \\sum_{i=1}^{n} f_i (1-s_i) \\\\\\\\\n",
      "\\sum_{i=0}^{n} f_i = 1\n",
      "$$"
     ]
    },
    {
     "cell_type": "markdown",
     "metadata": {},
     "source": [
      "### Simple case: n=2\n",
      "\n",
      "The equations:\n",
      "$$\n",
      "\\bar{\\omega} f_0 = f_0 (1-U)  \\\\\\\\\n",
      "\\bar{\\omega} f_1 = f_0 \\frac{U}{2} + (1-s_1)f_1  \\\\\\\\\n",
      "\\bar{\\omega} f_2 = f_0 \\frac{U}{2} + (1-s_2)f_2  \\\\\\\\\n",
      "\\bar{\\omega} = f_0 + f_1(1-s_1) + (1-f_2) (1-s_2)\n",
      "$$\n",
      "or in matrix form, $\\bar{\\omega} f = Mf$, where $M$ is:\n",
      "\n",
      "\\begin{matrix}\n",
      "1-U & 0 & 0 \\\\\n",
      "U/2 & 1-s_1 & 0\\\\\n",
      "U/2 & 0 & 1-s_2\\\\\n",
      "\\end{matrix}\n",
      "\n",
      "From the equilibrium equation for $f_0$ we know that $\\bar{\\omega} = 1-U$.\n",
      "\n",
      "What is the corresponding right eigenvector, that is, the equilibrium frequencies $f_0, f_1, f_2$?"
     ]
    },
    {
     "cell_type": "markdown",
     "metadata": {},
     "source": [
      "$$\n",
      "(1-U)f_1 = \\frac{U}{2} f_0 + (1-s_1)f_1 \\Rightarrow \\\\\\\\\n",
      "(1-U)f_1 - (1-s_1)f_1= \\frac{U}{2} f_0 \\Rightarrow \\\\\\\\\n",
      "(s_1-U)f_1 = \\frac{U}{2} f_0 \\Rightarrow \\\\\\\\\n",
      "f_1 = \\frac{U}{2(s_1-U)} f_0\n",
      "$$\n",
      "\n",
      "Similarly,\n",
      "$$\n",
      "f_2 = \\frac{U}{2(s_2-U)} f_0\n",
      "$$\n",
      "\n",
      "Using the fact these are frequncies,\n",
      "$$\n",
      "f_0 (1 + \\frac{U}{2(s_1-U)} + \\frac{U}{2(s_2-U)} ) = 1 \\Rightarrow \\\\\\\\\n",
      "f_0 = \\frac{1}{1 + \\frac{U}{2(s_1-U)} + \\frac{U}{2(s_2-U)} }\n",
      "$$\n",
      "\n",
      "Looking at the denominator,\n",
      "$$\n",
      "1 + \\frac{U}{2(s_1-U)} + \\frac{U}{2(s_2-U)} = \\frac{2(s_1-U)(s_2-U) + U(s_2-U) + U(s_1-U)}{2(s_1-U)(s_2-U)} = \\\\\\\\\n",
      "\\frac{2(s_1 s_2 -Us_1 -Us_2 +U^2) + Us_2 + Us_1 - 2U^2}{2(s_1-U)(s_2-U)} = \\\\\\\\\n",
      "\\frac{s_1 s_2 - U \\frac{s_1 + s_2}{2}}{s_1 s_2 - U(s_1 + s_2) + U^2}\n",
      "$$\n",
      "\n",
      "Therefore,\n",
      "$$\n",
      "f_0 = \\frac{s_1 s_2 - U(s_1 + s_2) + U^2} {s_1 s_2 - U \\frac{s_1 + s_2}{2}} \\Rightarrow \\\\\\\\\n",
      "f_0 = 1 - U\\frac{\\frac{s_1 + s_2}{2} - U} {s_1 s_2 - U \\frac{s_1 + s_2}{2}}\n",
      "$$\n",
      "\n",
      "If $s=s_1=s_2$ then:\n",
      "$$\n",
      "f_0 = 1 - \\frac{U}{s}\\frac{s - U} {s - U} = 1 - \\frac{U}{s}\n",
      "$$\n",
      "as expected."
     ]
    },
    {
     "cell_type": "markdown",
     "metadata": {},
     "source": [
      "We will now solve using Sympy:"
     ]
    },
    {
     "cell_type": "code",
     "collapsed": false,
     "input": [
      "s1, s2, U = sympy.symbols(\"s1 s2 U\")"
     ],
     "language": "python",
     "metadata": {},
     "outputs": [],
     "prompt_number": 66
    },
    {
     "cell_type": "code",
     "collapsed": false,
     "input": [
      "M = sympy.Matrix([[(1-U),0,0],[U/2, 1-s1, 0],[U/2, 0, 1-s2]])\n",
      "M"
     ],
     "language": "python",
     "metadata": {},
     "outputs": [
      {
       "latex": [
        "$$\\left[\\begin{matrix}- U + 1 & 0 & 0\\\\\\frac{U}{2} & - s_{1} + 1 & 0\\\\\\frac{U}{2} & 0 & - s_{2} + 1\\end{matrix}\\right]$$"
       ],
       "metadata": {},
       "output_type": "pyout",
       "png": "[encoded data removed]",
       "prompt_number": 67,
       "text": [
        "\u23a1-U + 1     0        0   \u23a4\n",
        "\u23a2                        \u23a5\n",
        "\u23a2  U                     \u23a5\n",
        "\u23a2  \u2500     -s\u2081 + 1     0   \u23a5\n",
        "\u23a2  2                     \u23a5\n",
        "\u23a2                        \u23a5\n",
        "\u23a2  U                     \u23a5\n",
        "\u23a2  \u2500        0     -s\u2082 + 1\u23a5\n",
        "\u23a3  2                     \u23a6"
       ]
      }
     ],
     "prompt_number": 67
    },
    {
     "cell_type": "code",
     "collapsed": false,
     "input": [
      "lam1,lam2,lam3 = M.eigenvals()\n",
      "lam1,lam2,lam3"
     ],
     "language": "python",
     "metadata": {},
     "outputs": [
      {
       "latex": [
        "$$\\begin{pmatrix}- s_{2} + 1, & - s_{1} + 1, & - U + 1\\end{pmatrix}$$"
       ],
       "metadata": {},
       "output_type": "pyout",
       "png": "[encoded data removed]",
       "prompt_number": 68,
       "text": [
        "(-s\u2082 + 1, -s\u2081 + 1, -U + 1)"
       ]
      }
     ],
     "prompt_number": 68
    },
    {
     "cell_type": "code",
     "collapsed": false,
     "input": [
      "v = M.eigenvects(simplify=True)\n",
      "for i in range(len(v)):\n",
      "    if v[i][0] == 1-U:\n",
      "        v = v[i]\n",
      "        break\n",
      "v = v[2][0]\n",
      "v"
     ],
     "language": "python",
     "metadata": {},
     "outputs": [
      {
       "latex": [
        "$$\\left[\\begin{matrix}- \\frac{1}{U} \\left(2 U - 2 s_{2}\\right)\\\\- \\frac{U - s_{2}}{- U + s_{1}}\\\\1\\end{matrix}\\right]$$"
       ],
       "metadata": {},
       "output_type": "pyout",
       "png": "[encoded data removed]",
       "prompt_number": 73,
       "text": [
        "\u23a1-2\u22c5(U - s\u2082) \u23a4\n",
        "\u23a2\u2500\u2500\u2500\u2500\u2500\u2500\u2500\u2500\u2500\u2500\u2500\u2500\u23a5\n",
        "\u23a2     U      \u23a5\n",
        "\u23a2            \u23a5\n",
        "\u23a2 -(U - s\u2082)  \u23a5\n",
        "\u23a2 \u2500\u2500\u2500\u2500\u2500\u2500\u2500\u2500\u2500\u2500 \u23a5\n",
        "\u23a2  -U + s\u2081   \u23a5\n",
        "\u23a2            \u23a5\n",
        "\u23a3     1      \u23a6"
       ]
      }
     ],
     "prompt_number": 73
    },
    {
     "cell_type": "code",
     "collapsed": false,
     "input": [
      "vx = v.subs(subs)\n",
      "vx /= array(vx).sum()\n",
      "vx"
     ],
     "language": "python",
     "metadata": {},
     "outputs": [
      {
       "latex": [
        "$$\\left[\\begin{matrix}0.509090909090909\\\\0.109090909090909\\\\0.381818181818182\\end{matrix}\\right]$$"
       ],
       "metadata": {},
       "output_type": "pyout",
       "png": "[encoded data removed]",
       "prompt_number": 79,
       "text": [
        "\u23a10.509090909090909\u23a4\n",
        "\u23a2                 \u23a5\n",
        "\u23a20.109090909090909\u23a5\n",
        "\u23a2                 \u23a5\n",
        "\u23a30.381818181818182\u23a6"
       ]
      }
     ],
     "prompt_number": 79
    },
    {
     "cell_type": "markdown",
     "metadata": {},
     "source": [
      "Compare to our own result\n",
      "$$\n",
      "f_0 = 1 - U\\frac{\\frac{s_1 + s_2}{2} - U} {s_1 s_2 - U \\frac{s_1 + s_2}{2}} \\\\\\\\\n",
      "f_1 = \\frac{U}{2(s_1-U)} f_0 \\\\\\\\\n",
      "f_2 = \\frac{U}{2(s_2-U)} f_0\n",
      "$$"
     ]
    },
    {
     "cell_type": "code",
     "collapsed": false,
     "input": [
      "avgs = (s1+s2)/2\n",
      "f0 = 1 - U*(avgs - U)/(s1*s2-U*avgs)\n",
      "f1 = U*f0/(2*(s1-U))\n",
      "f2 = U*f0/(2*(s2-U))\n",
      "f0,f1,f2"
     ],
     "language": "python",
     "metadata": {},
     "outputs": [
      {
       "latex": [
        "$$\\begin{pmatrix}- \\frac{U \\left(- U + \\frac{s_{1}}{2} + \\frac{s_{2}}{2}\\right)}{- U \\left(\\frac{s_{1}}{2} + \\frac{s_{2}}{2}\\right) + s_{1} s_{2}} + 1, & \\frac{U}{- 2 U + 2 s_{1}} \\left(- \\frac{U \\left(- U + \\frac{s_{1}}{2} + \\frac{s_{2}}{2}\\right)}{- U \\left(\\frac{s_{1}}{2} + \\frac{s_{2}}{2}\\right) + s_{1} s_{2}} + 1\\right), & \\frac{U}{- 2 U + 2 s_{2}} \\left(- \\frac{U \\left(- U + \\frac{s_{1}}{2} + \\frac{s_{2}}{2}\\right)}{- U \\left(\\frac{s_{1}}{2} + \\frac{s_{2}}{2}\\right) + s_{1} s_{2}} + 1\\right)\\end{pmatrix}$$"
       ],
       "metadata": {},
       "output_type": "pyout",
       "png": "[encoded data removed]",
       "prompt_number": 82,
       "text": [
        "\u239b                               \u239b       \u239b     s\u2081   s\u2082\u239e      \u239e    \u239b       \u239b    \n",
        "\u239c                               \u239c     U\u22c5\u239c-U + \u2500\u2500 + \u2500\u2500\u239f      \u239f    \u239c     U\u22c5\u239c-U +\n",
        "\u239c                               \u239c       \u239d     2    2 \u23a0      \u239f    \u239c       \u239d    \n",
        "\u239c                             U\u22c5\u239c- \u2500\u2500\u2500\u2500\u2500\u2500\u2500\u2500\u2500\u2500\u2500\u2500\u2500\u2500\u2500\u2500\u2500\u2500\u2500\u2500\u2500 + 1\u239f  U\u22c5\u239c- \u2500\u2500\u2500\u2500\u2500\u2500\u2500\u2500\u2500\u2500\n",
        "\u239c       \u239b     s\u2081   s\u2082\u239e          \u239c      \u239bs\u2081   s\u2082\u239e            \u239f    \u239c      \u239bs\u2081   \n",
        "\u239c     U\u22c5\u239c-U + \u2500\u2500 + \u2500\u2500\u239f          \u239c  - U\u22c5\u239c\u2500\u2500 + \u2500\u2500\u239f + s\u2081\u22c5s\u2082    \u239f    \u239c  - U\u22c5\u239c\u2500\u2500 + \n",
        "\u239c       \u239d     2    2 \u23a0          \u239d      \u239d2    2 \u23a0            \u23a0    \u239d      \u239d2    \n",
        "\u239c- \u2500\u2500\u2500\u2500\u2500\u2500\u2500\u2500\u2500\u2500\u2500\u2500\u2500\u2500\u2500\u2500\u2500\u2500\u2500\u2500\u2500 + 1, \u2500\u2500\u2500\u2500\u2500\u2500\u2500\u2500\u2500\u2500\u2500\u2500\u2500\u2500\u2500\u2500\u2500\u2500\u2500\u2500\u2500\u2500\u2500\u2500\u2500\u2500\u2500\u2500\u2500\u2500\u2500, \u2500\u2500\u2500\u2500\u2500\u2500\u2500\u2500\u2500\u2500\u2500\u2500\u2500\u2500\u2500\n",
        "\u239c      \u239bs\u2081   s\u2082\u239e                        -2\u22c5U + 2\u22c5s\u2081                      -2\u22c5U \n",
        "\u239c  - U\u22c5\u239c\u2500\u2500 + \u2500\u2500\u239f + s\u2081\u22c5s\u2082                                                      \n",
        "\u239d      \u239d2    2 \u23a0                                                              \n",
        "\n",
        " s\u2081   s\u2082\u239e      \u239e\u239e\n",
        " \u2500\u2500 + \u2500\u2500\u239f      \u239f\u239f\n",
        " 2    2 \u23a0      \u239f\u239f\n",
        "\u2500\u2500\u2500\u2500\u2500\u2500\u2500\u2500\u2500\u2500\u2500 + 1\u239f\u239f\n",
        "s\u2082\u239e            \u239f\u239f\n",
        "\u2500\u2500\u239f + s\u2081\u22c5s\u2082    \u239f\u239f\n",
        "2 \u23a0            \u23a0\u239f\n",
        "\u2500\u2500\u2500\u2500\u2500\u2500\u2500\u2500\u2500\u2500\u2500\u2500\u2500\u2500\u2500\u2500\u239f\n",
        "+ 2\u22c5s\u2082          \u239f\n",
        "                \u239f\n",
        "                \u23a0"
       ]
      }
     ],
     "prompt_number": 82
    },
    {
     "cell_type": "code",
     "collapsed": false,
     "input": [
      "print [f.subs(subs) for f in (f0,f1,f2)]\n",
      "print vx.tolist()"
     ],
     "language": "python",
     "metadata": {},
     "outputs": [
      {
       "output_type": "stream",
       "stream": "stdout",
       "text": [
        "[0.509090909090909, 0.109090909090909, 0.381818181818182]\n",
        "[[0.509090909090909], [0.109090909090909], [0.381818181818182]]\n"
       ]
      }
     ],
     "prompt_number": 87
    },
    {
     "cell_type": "markdown",
     "metadata": {},
     "source": [
      "So we have truly found the correct answer of the _n_=2 heterogenous model.\n",
      "\n",
      "What if we compare this to the homogenous result that uses the average value of $s_i$?"
     ]
    },
    {
     "cell_type": "code",
     "collapsed": false,
     "input": [
      "s = (s1 + s2)/2\n",
      "h0 = 1-U/s\n",
      "h1 = U/(2*s)\n",
      "\n",
      "print \"h_0\", h0.subs(subs), \"f_0\", f0.subs(subs)\n",
      "print \"h_1\", h1.subs(subs), \"f_1\", f1.subs(subs)\n",
      "print \"h_2\", h1.subs(subs), \"f_2\", f2.subs(subs)\n",
      "max_error = max((h0-f0).subs(subs),(h1-f1).subs(subs),(h1-f2).subs(subs))\n",
      "print \"max error\", max_error\n",
      "heterogeneity = max((abs(s1-s)/s).subs(subs), (abs(s2-s)/s).subs(subs))\n",
      "print \"heterogeneity \", heterogeneity\n",
      "print \"heterogeneity^2\", heterogeneity**2"
     ],
     "language": "python",
     "metadata": {},
     "outputs": [
      {
       "output_type": "stream",
       "stream": "stdout",
       "text": [
        " h_0 0.600000000000000 f_0 0.509090909090909\n",
        "h_1 0.200000000000000 f_1 0.109090909090909\n",
        "h_2 0.200000000000000 f_2 0.381818181818182\n",
        "max error 0.0909090909090909\n",
        "heterogeneity  0.333333333333333\n",
        "heterogeneity^2 0.111111111111111\n"
       ]
      }
     ],
     "prompt_number": 99
    },
    {
     "cell_type": "markdown",
     "metadata": {},
     "source": [
      "So indeed the error is bounded by the square of the heterogeneity.\n",
      "\n",
      "Let's draw a plot."
     ]
    },
    {
     "cell_type": "code",
     "collapsed": false,
     "input": [
      "ss = linspace(0.001,0.1,50)\n",
      "f1s = [f1.subs({s1:s1x, s2: 0.01, U:1e-5}) for s1x in ss]\n",
      "h1s = [h1.subs({s1:s1x, s2: 0.01, U:1e-5}) for s1x in ss]\n",
      "errs = [abs((h1-f1).subs({s1:s1x, s2: 0.01, U:1e-5})) for s1x in ss]\n",
      "hets = [(max((abs(s1-s)/s).subs({s1:s1x, s2: 0.01, U:1e-5}), (abs(s2-s)/s).subs({s1:s1x, s2: 0.01, U:1e-5})))**2 for s1x in ss]"
     ],
     "language": "python",
     "metadata": {},
     "outputs": [],
     "prompt_number": 123
    },
    {
     "cell_type": "code",
     "collapsed": false,
     "input": [
      "figsize(8,6)\n",
      "plot(ss, errs, label=\"|error|\")\n",
      "plot(ss, hets, label=r\"$\\epsilon ^2$\", linestyle=\"dashed\")\n",
      "axvline(x=0.01, color=\"k\", linestyle=\"dotted\")\n",
      "text(0.01, 1.1, r\"$s_2$\")\n",
      "legend(loc=5)\n",
      "xscale(\"log\")\n",
      "yscale(\"log\")\n",
      "xlabel(r\"$s_1$\")\n",
      "ylabel(r\"|error| / $\\epsilon ^2$\");"
     ],
     "language": "python",
     "metadata": {},
     "outputs": [
      {
       "metadata": {},
       "output_type": "display_data",
       "png": "[encoded data removed]",
       "text": [
        "<matplotlib.figure.Figure at 0xef05668>"
       ]
      }
     ],
     "prompt_number": 155
    },
    {
     "cell_type": "markdown",
     "metadata": {},
     "source": [
      "We can also derive the error, for example, of $f_0$ (superscripts _H_ and _F_ are for the homogenous and heterogenous models), taking the algebric mean $s=\\bar{s}=\\frac{s_1 + s_2}{2}$:\n",
      "\n",
      "$$\n",
      "f^H_0 = 1-\\frac{U}{s} \\\\\\\\\n",
      "f^F_0 = 1 - U\\frac{\\frac{s_1 + s_2}{2} - U} {s_1 s_2 - U \\frac{s_1 + s_2}{2}} \\\\\\\\\n",
      "\\Rightarrow \\\\\\\\\n",
      "f^H_0 - f^F_0 = 1 - \\frac{U}{s} - 1 + U\\frac{\\frac{s_1 + s_2}{2} - U} {s_1 s_2 - U \\frac{s_1 + s_2}{2}} = \\\\\\\\\n",
      "U\\frac{s - U} {s_1 s_2 - U s} - \\frac{U}{s} = \\\\\\\\\n",
      "U (\\frac{s - U} {s_1 s_2 - U s} - \\frac{1}{s}) = \n",
      "\\frac{U}{s} (\\frac{s - U} { \\frac{s_1 s_2}{s} - U} - 1) = \\\\\\\\\n",
      "\\frac{U}{s} (\\frac{s - U - \\frac{s_1 s_2}{s} + U} { \\frac{s_1 s_2}{s} - U} ) = \n",
      "\\frac{U}{s} (\\frac{s - \\frac{s_1 s_2}{s}} { \\frac{s_1 s_2}{s} - U} ) \\Rightarrow \\\\\\\\\n",
      "f^F_0 - f^H_0 = \\frac{U}{s} (\\frac{\\frac{s_1 s_2}{s} - s} { \\frac{s_1 s_2}{s} - U} )\n",
      "$$\n",
      "Denoting the geometric mean $S=\\frac{s_1 s_2}{s}$:\n",
      "$$\n",
      "f^F_0 - f^H_0 = \\frac{U}{s} (\\frac{S - s} {S - U} )\n",
      "$$"
     ]
    },
    {
     "cell_type": "markdown",
     "metadata": {},
     "source": [
      "While the heterogeneity is, assuming $s_1 > s_2$:\n",
      "$$\n",
      "\\epsilon = \\frac{max(s1-\\frac{s1+s2}{2},s2-\\frac{s1+s2}{2})}{\\frac{s1+s2}{2}} = \\\\\\\\ \n",
      "\\frac{\\frac{s1-s2}{2}}{\\frac{s1+s2}{2}} = \n",
      "\\frac{s1-s2}{s1+s2} = \\\\\\\\\n",
      "\\frac{s1-s2}{s1+s2} \\Rightarrow \\\\\\\\\n",
      "\\epsilon^2 = \\frac{s_1^2-s_2^2}{s_1^2 + s_2^2 + 2 s_1 s_2} = \\frac{s_1^2-s_2^2}{s_1^2 + s_2^2 + 2 s S}\n",
      "$$\n"
     ]
    },
    {
     "cell_type": "code",
     "collapsed": false,
     "input": [],
     "language": "python",
     "metadata": {},
     "outputs": []
    }
   ],
   "metadata": {}
  }
 ]
}