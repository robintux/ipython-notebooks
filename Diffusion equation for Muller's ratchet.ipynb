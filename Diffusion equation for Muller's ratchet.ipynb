{
 "metadata": {
  "name": ""
 },
 "nbformat": 3,
 "nbformat_minor": 0,
 "worksheets": [
  {
   "cells": [
    {
     "cell_type": "code",
     "collapsed": false,
     "input": [
      "from scipy.stats import poisson, nbinom\n",
      "from scipy import __version__ as scipy_ver\n",
      "print \"scipy:\", scipy_ver\n",
      "np.set_printoptions(linewidth=80)\n",
      "np.set_printoptions(precision=3)"
     ],
     "language": "python",
     "metadata": {},
     "outputs": [
      {
       "output_type": "stream",
       "stream": "stdout",
       "text": [
        "scipy: 0.12.0\n"
       ]
      }
     ],
     "prompt_number": 1
    },
    {
     "cell_type": "markdown",
     "metadata": {},
     "source": [
      "# Muller's ratchet\n",
      "\n",
      "## Simulation"
     ]
    },
    {
     "cell_type": "code",
     "collapsed": false,
     "input": [
      "from scipy import stats"
     ],
     "language": "python",
     "metadata": {},
     "outputs": [],
     "prompt_number": 2
    },
    {
     "cell_type": "code",
     "collapsed": false,
     "input": [
      "def plot_freq(x, color='k', alpha=1):\n",
      "    bar(range(G), x, align=\"center\", color=color, alpha=alpha)\n",
      "    xlabel(\"# mutations\")\n",
      "    ylabel(\"frequency\")"
     ],
     "language": "python",
     "metadata": {},
     "outputs": [],
     "prompt_number": 3
    },
    {
     "cell_type": "code",
     "collapsed": false,
     "input": [
      "U = 0.003\n",
      "s = 0.001\n",
      "N = 1000\n",
      "G = 25"
     ],
     "language": "python",
     "metadata": {},
     "outputs": [],
     "prompt_number": 50
    },
    {
     "cell_type": "code",
     "collapsed": false,
     "input": [
      "def mutation_matrix(U):\n",
      "    mutation_rv = stats.poisson(U)\n",
      "    M = zeros((G,G))\n",
      "    for i in range(G):\n",
      "        for j in range(i+1):\n",
      "            M[i,j] = mutation_rv.pmf(i-j)\n",
      "    M[G-1,:] += 1-M.sum(axis=0)\n",
      "    \n",
      "    assert (M.sum(axis=0)==1).all()\n",
      "    return M\n",
      "\n",
      "M = mutation_matrix(U)\n",
      "print M[:5,:5]"
     ],
     "language": "python",
     "metadata": {},
     "outputs": [
      {
       "output_type": "stream",
       "stream": "stdout",
       "text": [
        "[[  9.970e-01   0.000e+00   0.000e+00   0.000e+00   0.000e+00]\n",
        " [  2.991e-03   9.970e-01   0.000e+00   0.000e+00   0.000e+00]\n",
        " [  4.487e-06   2.991e-03   9.970e-01   0.000e+00   0.000e+00]\n",
        " [  4.487e-09   4.487e-06   2.991e-03   9.970e-01   0.000e+00]\n",
        " [  3.365e-12   4.487e-09   4.487e-06   2.991e-03   9.970e-01]]\n"
       ]
      }
     ],
     "prompt_number": 51
    },
    {
     "cell_type": "code",
     "collapsed": false,
     "input": [
      "def selection_matrix(s):\n",
      "    S = diag((1-s)**arange(G))\n",
      "    return S\n",
      "\n",
      "S = selection_matrix(s)\n",
      "print S[:5,:5]"
     ],
     "language": "python",
     "metadata": {},
     "outputs": [
      {
       "output_type": "stream",
       "stream": "stdout",
       "text": [
        "[[ 1.     0.     0.     0.     0.   ]\n",
        " [ 0.     0.999  0.     0.     0.   ]\n",
        " [ 0.     0.     0.998  0.     0.   ]\n",
        " [ 0.     0.     0.     0.997  0.   ]\n",
        " [ 0.     0.     0.     0.     0.996]]\n"
       ]
      }
     ],
     "prompt_number": 53
    },
    {
     "cell_type": "code",
     "collapsed": false,
     "input": [
      "E = M.dot(S)\n",
      "print E[:5,:5]"
     ],
     "language": "python",
     "metadata": {},
     "outputs": [
      {
       "output_type": "stream",
       "stream": "stdout",
       "text": [
        "[[  9.970e-01   0.000e+00   0.000e+00   0.000e+00   0.000e+00]\n",
        " [  2.991e-03   9.960e-01   0.000e+00   0.000e+00   0.000e+00]\n",
        " [  4.487e-06   2.988e-03   9.950e-01   0.000e+00   0.000e+00]\n",
        " [  4.487e-09   4.482e-06   2.985e-03   9.940e-01   0.000e+00]\n",
        " [  3.365e-12   4.482e-09   4.478e-06   2.982e-03   9.930e-01]]\n"
       ]
      }
     ],
     "prompt_number": 54
    },
    {
     "cell_type": "code",
     "collapsed": false,
     "input": [
      "x_msb = stats.poisson(U/s).pmf(range(G))"
     ],
     "language": "python",
     "metadata": {},
     "outputs": [],
     "prompt_number": 55
    },
    {
     "cell_type": "code",
     "collapsed": false,
     "input": [
      "x_free = zeros(G)\n",
      "x_free[0] = 1"
     ],
     "language": "python",
     "metadata": {},
     "outputs": [],
     "prompt_number": 56
    },
    {
     "cell_type": "markdown",
     "metadata": {},
     "source": [
      "Evolve to MSB:"
     ]
    },
    {
     "cell_type": "code",
     "collapsed": false,
     "input": [
      "x = x_free.copy()\n",
      "for _ in range(10000):\n",
      "    x = E.dot(x)\n",
      "    x /= x.sum()\n",
      "plot_freq(x, color='w')\n",
      "plot_freq(x_msb, color='b', alpha=0.5)"
     ],
     "language": "python",
     "metadata": {},
     "outputs": [
      {
       "metadata": {},
       "output_type": "display_data",
       "png": "[encoded data removed]",
       "text": [
        "<matplotlib.figure.Figure at 0x12065630>"
       ]
      }
     ],
     "prompt_number": 57
    },
    {
     "cell_type": "markdown",
     "metadata": {},
     "source": [
      "Evolve to first click of the ratchet:"
     ]
    },
    {
     "cell_type": "code",
     "collapsed": false,
     "input": [
      "x = x_free.copy()\n",
      "t = 0\n",
      "\n",
      "print x[:5]\n",
      "\n",
      "while x[0] > 0:\n",
      "    t += 1\n",
      "    if t % N == 0: print t, x[:5]\n",
      "    x = E.dot(x)    \n",
      "    x /= x.sum()\n",
      "    assert allclose(x.sum(),1)\n",
      "    \n",
      "    n = multinomial(N, x)\n",
      "    assert len(n) == G\n",
      "    x = n/float(N)\n",
      "\n",
      "print \"CLICK\"\n",
      "print t, x[:5]\n",
      "\n",
      "plot_freq(x, color='b', alpha=0.5)"
     ],
     "language": "python",
     "metadata": {},
     "outputs": [
      {
       "output_type": "stream",
       "stream": "stdout",
       "text": [
        "[ 1.  0.  0.  0.  0.]\n",
        "CLICK"
       ]
      },
      {
       "output_type": "stream",
       "stream": "stdout",
       "text": [
        "\n",
        "902 [ 0.     0.086  0.173  0.543  0.178]\n"
       ]
      },
      {
       "metadata": {},
       "output_type": "display_data",
       "png": "[encoded data removed]",
       "text": [
        "<matplotlib.figure.Figure at 0x859b198>"
       ]
      }
     ],
     "prompt_number": 58
    },
    {
     "cell_type": "code",
     "collapsed": false,
     "input": [
      "def ratchet_click(s,U,N):\n",
      "    x = x_free.copy()\n",
      "    t = 0\n",
      "    \n",
      "    M = mutation_matrix(U)\n",
      "    S = selection_matrix(s)\n",
      "    E = M.dot(S)\n",
      "    \n",
      "    while x[0] > 0:\n",
      "        t += 1\n",
      "        x = E.dot(x)    \n",
      "        x /= x.sum()\n",
      "        assert allclose(x.sum(),1)\n",
      "        \n",
      "        n = multinomial(N, x)\n",
      "        assert len(n) == G\n",
      "        x = n/float(N)\n",
      "    \n",
      "    return t\n",
      "ratchet_click(s,U,N)"
     ],
     "language": "python",
     "metadata": {},
     "outputs": [
      {
       "metadata": {},
       "output_type": "pyout",
       "prompt_number": 60,
       "text": [
        "901"
       ]
      }
     ],
     "prompt_number": 60
    },
    {
     "cell_type": "code",
     "collapsed": false,
     "input": [
      "clicks = array([ratchet_click(s,U,N) for i in range(100)])"
     ],
     "language": "python",
     "metadata": {},
     "outputs": [],
     "prompt_number": 14
    },
    {
     "cell_type": "code",
     "collapsed": false,
     "input": [
      "hist(clicks, normed=True)\n",
      "xlabel(\"time to click\")\n",
      "ylabel(\"frequency\");"
     ],
     "language": "python",
     "metadata": {},
     "outputs": [
      {
       "metadata": {},
       "output_type": "display_data",
       "png": "[encoded data removed]",
       "text": [
        "<matplotlib.figure.Figure at 0x11b276d8>"
       ]
      }
     ],
     "prompt_number": 20
    },
    {
     "cell_type": "markdown",
     "metadata": {},
     "source": [
      "Now using Diffusion equation [@Gordo2000]:"
     ]
    },
    {
     "cell_type": "code",
     "collapsed": false,
     "input": [
      "a = lambda x,x0,s: 0.6 * s * (1 - x/x0) * x\n",
      "b = lambda x,N: x * (1-x) / N"
     ],
     "language": "python",
     "metadata": {},
     "outputs": [],
     "prompt_number": "*"
    },
    {
     "cell_type": "code",
     "collapsed": false,
     "input": [
      "G = lambda x,x0,s,N: exp(2 * N * 0.6 * s * x * (x/2 - x0) / x0)"
     ],
     "language": "python",
     "metadata": {},
     "outputs": [],
     "prompt_number": "*"
    },
    {
     "cell_type": "code",
     "collapsed": false,
     "input": [
      "from scipy.integrate import quad as integrate"
     ],
     "language": "python",
     "metadata": {},
     "outputs": [],
     "prompt_number": 36
    },
    {
     "cell_type": "code",
     "collapsed": false,
     "input": [
      "intG = lambda z,w,x0,s,N: integrate(G, z, w, args=(x0,s,N))[0]"
     ],
     "language": "python",
     "metadata": {},
     "outputs": [],
     "prompt_number": "*"
    },
    {
     "cell_type": "code",
     "collapsed": false,
     "input": [
      "T0x0 = lambda x0: integrate( lambda x,x0,s,N: 2 * N / ( x * G(x,x0) ) * intG(0, x, x0, s, N), 0, x0, args=(x0, s, N))[0]\n",
      "Tx01 = lambda x0: integrate( lambda x,x0,s,N: 2 * N / ( x * G(x,x0) ) * intG(0, x0, x0, s, N), x0, 1, args=(x0, s, N))[0]\n",
      "T = lambda x0,s,N: T0x0(x0,s,N) + Tx01(x0,s,N)\n",
      "\n",
      "print T(1)"
     ],
     "language": "python",
     "metadata": {},
     "outputs": [],
     "prompt_number": "*"
    },
    {
     "cell_type": "code",
     "collapsed": false,
     "input": [
      "clicks = array([[[ratchet_click(s,U,N) for i in range(100)] for s in [0.001, 0.01, 0.1]] for U in [0.0003, 0.003, 0.03]])"
     ],
     "language": "python",
     "metadata": {},
     "outputs": [],
     "prompt_number": "*"
    },
    {
     "cell_type": "code",
     "collapsed": false,
     "input": [
      "Ts = array([[[T(x_msb[0],s,N) for i in range(100)] for s in [0.001, 0.01, 0.1]] for U in [0.0003, 0.003, 0.03]])"
     ],
     "language": "python",
     "metadata": {},
     "outputs": [],
     "prompt_number": "*"
    },
    {
     "cell_type": "code",
     "collapsed": false,
     "input": [],
     "language": "python",
     "metadata": {},
     "outputs": []
    }
   ],
   "metadata": {}
  }
 ]
}