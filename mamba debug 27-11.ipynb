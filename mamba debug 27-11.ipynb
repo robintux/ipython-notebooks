{
 "metadata": {
  "name": "mamba debug 27-11"
 },
 "nbformat": 3,
 "nbformat_minor": 0,
 "worksheets": [
  {
   "cells": [
    {
     "cell_type": "code",
     "collapsed": false,
     "input": [
      "cd d:\\workspace\\mamba"
     ],
     "language": "python",
     "metadata": {},
     "outputs": [
      {
       "output_type": "stream",
       "stream": "stdout",
       "text": [
        "d:\\workspace\\mamba\n"
       ]
      }
     ],
     "prompt_number": 4
    },
    {
     "cell_type": "code",
     "collapsed": false,
     "input": [
      "import cython_load\n",
      "from time import clock\n",
      "import numpy as np\n",
      "\n",
      "from params import *\n",
      "\n",
      "from model import drift, selection, create_muation_rates, create_target_genome, clear_empty_classes, create_recombination_rates\n",
      "from model import create_fitness_by_mutational_load as create_fitness\n",
      "from model import create_mutation_free_population as create_population\n",
      "from model import mutation_implicit_genomes as mutation\n",
      "#from model_c import mutation_by_mutation_load as mutation\n",
      "from model_c import hamming_fitness_genomes as create_fitness"
     ],
     "language": "python",
     "metadata": {},
     "outputs": [],
     "prompt_number": 5
    },
    {
     "cell_type": "code",
     "collapsed": false,
     "input": [
      "target_genome = create_target_genome(num_loci)\n",
      "genomes = target_genome.copy()\n",
      "genomes.resize( (1, target_genome.shape[0]) )"
     ],
     "language": "python",
     "metadata": {},
     "outputs": [],
     "prompt_number": 6
    },
    {
     "cell_type": "code",
     "collapsed": false,
     "input": [
      "population = create_population(pop_size, genomes.shape[0])\n",
      "fitness = create_fitness(genomes, target_genome, s)\n",
      "mutation_rates = create_muation_rates(mu, genomes.shape[0])\n",
      "recombination_rates = create_recombination_rates(r, genomes.shape[0])"
     ],
     "language": "python",
     "metadata": {},
     "outputs": [],
     "prompt_number": 39
    },
    {
     "cell_type": "code",
     "collapsed": false,
     "input": [
      "population = drift(population)"
     ],
     "language": "python",
     "metadata": {},
     "outputs": [],
     "prompt_number": 95
    },
    {
     "cell_type": "code",
     "collapsed": false,
     "input": [
      "population = selection(population, fitness)"
     ],
     "language": "python",
     "metadata": {},
     "outputs": [],
     "prompt_number": 96
    },
    {
     "cell_type": "code",
     "collapsed": false,
     "input": [
      "population, genomes = mutation(population, genomes, mutation_rates, num_loci, target_genome)"
     ],
     "language": "python",
     "metadata": {},
     "outputs": [],
     "prompt_number": 97
    },
    {
     "cell_type": "code",
     "collapsed": false,
     "input": [
      "fitness = create_fitness(genomes, target_genome, s)\n",
      "mutation_rates = create_muation_rates(mu, genomes.shape[0])\n",
      "recombination_rates = create_recombination_rates(r, genomes.shape[0])"
     ],
     "language": "python",
     "metadata": {},
     "outputs": [],
     "prompt_number": 59
    },
    {
     "cell_type": "code",
     "collapsed": false,
     "input": [
      "print len(population[population==0])\n",
      "print len(population[population>0])\n",
      "print population[1:].sum()/float(population.sum())"
     ],
     "language": "python",
     "metadata": {},
     "outputs": [
      {
       "output_type": "stream",
       "stream": "stdout",
       "text": [
        "49\n",
        "953\n",
        "0.003054\n"
       ]
      }
     ],
     "prompt_number": 60
    },
    {
     "cell_type": "code",
     "collapsed": false,
     "input": [
      "%%timeit -n 10\n",
      "drift(population)\n",
      "selection(population, fitness)\n",
      "mutation(population, genomes, mutation_rates, num_loci, target_genome)"
     ],
     "language": "python",
     "metadata": {},
     "outputs": [
      {
       "output_type": "stream",
       "stream": "stdout",
       "text": [
        "10 loops, best of 3: 3.22 s per loop\n"
       ]
      }
     ],
     "prompt_number": 37
    },
    {
     "cell_type": "code",
     "collapsed": false,
     "input": [
      "%timeit -n 10 drift(population)\n",
      "%timeit -n 10 selection(population, fitness)\n",
      "%timeit -n 10 mutation(population, genomes, mutation_rates, num_loci, target_genome)"
     ],
     "language": "python",
     "metadata": {},
     "outputs": [
      {
       "output_type": "stream",
       "stream": "stdout",
       "text": [
        "10 loops, best of 3: 247 us per loop\n",
        "10 loops, best of 3: 70.9 us per loop\n",
        "10 loops, best of 3: 3.38 s per loop"
       ]
      },
      {
       "output_type": "stream",
       "stream": "stdout",
       "text": [
        "\n"
       ]
      }
     ],
     "prompt_number": 38
    },
    {
     "cell_type": "code",
     "collapsed": false,
     "input": [
      "import simulation\n",
      "reload(simulation);"
     ],
     "language": "python",
     "metadata": {},
     "outputs": [],
     "prompt_number": 86
    },
    {
     "cell_type": "code",
     "collapsed": false,
     "input": [
      "target_genome = create_target_genome(num_loci)\n",
      "genomes = target_genome.copy()\n",
      "genomes.resize( (1, target_genome.shape[0]) )\n",
      "genome2 = target_genome.copy()\n",
      "genome2[0] = 1\n",
      "genomes = np.vstack((genomes, genome2))\n",
      "\n",
      "population = create_population(pop_size, genomes.shape[0])\n",
      "population[0],population[1] = population.sum()/2,population.sum()/2\n",
      "\n",
      "fitness = create_fitness(genomes, target_genome, s)\n",
      "mutation_rates = create_muation_rates(mu, genomes.shape[0])\n",
      "recombination_rates = create_recombination_rates(r, genomes.shape[0])"
     ],
     "language": "python",
     "metadata": {},
     "outputs": [],
     "prompt_number": 92
    },
    {
     "cell_type": "code",
     "collapsed": false,
     "input": [
      "population[1:].sum()/1e6"
     ],
     "language": "python",
     "metadata": {},
     "outputs": [
      {
       "output_type": "pyout",
       "prompt_number": 93,
       "text": [
        "0.5"
       ]
      }
     ],
     "prompt_number": 93
    },
    {
     "cell_type": "code",
     "collapsed": false,
     "input": [
      "genomes[genomes.sum(1)==2,:].shape"
     ],
     "language": "python",
     "metadata": {},
     "outputs": [
      {
       "output_type": "pyout",
       "prompt_number": 106,
       "text": [
        "(32L, 1000L)"
       ]
      }
     ],
     "prompt_number": 106
    },
    {
     "cell_type": "code",
     "collapsed": false,
     "input": [],
     "language": "python",
     "metadata": {},
     "outputs": []
    }
   ],
   "metadata": {}
  }
 ]
}