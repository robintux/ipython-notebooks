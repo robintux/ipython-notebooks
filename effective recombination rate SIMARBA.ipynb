{
 "metadata": {
  "name": "effective recombination rate SIMARBA"
 },
 "nbformat": 3,
 "nbformat_minor": 0,
 "worksheets": [
  {
   "cells": [
    {
     "cell_type": "markdown",
     "metadata": {},
     "source": [
      "First calculate the probability that in a specific transofrmation event a specific gene will convert.\n",
      "\n",
      "The following function is just a dev version, drafting only for the gene at position 0. *n* is the number of genes."
     ]
    },
    {
     "cell_type": "code",
     "collapsed": false,
     "input": [
      "def draft(n=1000):\n",
      "    pos = np.random.randint(0,n)\n",
      "    leng = np.random.randint(0,n)\n",
      "    if pos==0 or (pos+leng)>=n:\n",
      "        #print \"V\",pos,leng,pos+leng\n",
      "        return True\n",
      "    else:\n",
      "        #print \"X\",pos,leng,pos+leng\n",
      "        return False    "
     ],
     "language": "python",
     "metadata": {},
     "outputs": [],
     "prompt_number": 88
    },
    {
     "cell_type": "markdown",
     "metadata": {},
     "source": [
      "The first function is the uniform one, which chooses a uniform starting position and a uniform length. *k* is the gene checked:"
     ]
    },
    {
     "cell_type": "code",
     "collapsed": false,
     "input": [
      "def draft(k=0,n=1000):\n",
      "    pos = np.random.randint(0,n)\n",
      "    leng = np.random.randint(1,n)\n",
      "    if (pos<=k and (pos+leng)>=k) or (pos+leng>n and pos+leng-n>k):\n",
      "        #print \"V\",pos,leng,pos+leng\n",
      "        return True\n",
      "    else:\n",
      "        #print \"X\",pos,leng,pos+leng\n",
      "        return False   "
     ],
     "language": "python",
     "metadata": {},
     "outputs": [],
     "prompt_number": 28
    },
    {
     "cell_type": "markdown",
     "metadata": {},
     "source": [
      "The second function chooses a uniform length but the starting poistion is uniform on the 1st half of the genome:"
     ]
    },
    {
     "cell_type": "code",
     "collapsed": false,
     "input": [
      "def draft2(k=0,n=1000):\n",
      "    pos = np.random.randint(0,n/2)\n",
      "    leng = np.random.randint(1,n)\n",
      "    if (pos<=k and (pos+leng)>=k) or (pos+leng>n and pos+leng-n>k):\n",
      "        #print \"V\",pos,leng,pos+leng\n",
      "        return True\n",
      "    else:\n",
      "        #print \"X\",pos,leng,pos+leng\n",
      "        return False   "
     ],
     "language": "python",
     "metadata": {},
     "outputs": [],
     "prompt_number": 29
    },
    {
     "cell_type": "markdown",
     "metadata": {},
     "source": [
      "The third function does the same but the position is distributed across the whole genome, while the length is distributed unifromly between 0 and half the genome:"
     ]
    },
    {
     "cell_type": "code",
     "collapsed": false,
     "input": [
      "def draft3(k=0,n=1000):\n",
      "    pos = np.random.randint(0,n)\n",
      "    leng = np.random.randint(1,n/2)\n",
      "    if (pos<=k and (pos+leng)>=k) or (pos+leng>n and pos+leng-n>k):\n",
      "        #print \"V\",pos,leng,pos+leng\n",
      "        return True\n",
      "    else:\n",
      "        #print \"X\",pos,leng,pos+leng\n",
      "        return False  "
     ],
     "language": "python",
     "metadata": {},
     "outputs": [],
     "prompt_number": 30
    },
    {
     "cell_type": "markdown",
     "metadata": {},
     "source": [
      "This function runs the previous functions a given number of replicates *rep* and calculates the propotion of events in which the gene *k* was converted:"
     ]
    },
    {
     "cell_type": "code",
     "collapsed": false,
     "input": [
      "def calc(k=0, n=1000, rep=10000, func=draft):\n",
      "    return sum([func(k,n) for _ in range(rep)])/float(rep)"
     ],
     "language": "python",
     "metadata": {},
     "outputs": [],
     "prompt_number": 31
    },
    {
     "cell_type": "code",
     "collapsed": false,
     "input": [
      "res = array([calc(k, func=draft) for k in range(1000)])"
     ],
     "language": "python",
     "metadata": {},
     "outputs": [],
     "prompt_number": 32
    },
    {
     "cell_type": "code",
     "collapsed": false,
     "input": [
      "res2 = array([calc(k, func=draft2) for k in range(1000)])"
     ],
     "language": "python",
     "metadata": {},
     "outputs": [],
     "prompt_number": 33
    },
    {
     "cell_type": "code",
     "collapsed": false,
     "input": [
      "res3 = array([calc(k, func=draft3) for k in range(1000)])"
     ],
     "language": "python",
     "metadata": {},
     "outputs": [
      {
       "ename": "KeyboardInterrupt",
       "evalue": "",
       "output_type": "pyerr",
       "traceback": [
        "\u001b[1;31m---------------------------------------------------------------------------\u001b[0m\n\u001b[1;31mKeyboardInterrupt\u001b[0m                         Traceback (most recent call last)",
        "\u001b[1;32m<ipython-input-34-8c95ab271810>\u001b[0m in \u001b[0;36m<module>\u001b[1;34m()\u001b[0m\n\u001b[1;32m----> 1\u001b[1;33m \u001b[0mres3\u001b[0m \u001b[1;33m=\u001b[0m \u001b[0marray\u001b[0m\u001b[1;33m(\u001b[0m\u001b[1;33m[\u001b[0m\u001b[0mcalc\u001b[0m\u001b[1;33m(\u001b[0m\u001b[0mk\u001b[0m\u001b[1;33m,\u001b[0m \u001b[0mfunc\u001b[0m\u001b[1;33m=\u001b[0m\u001b[0mdraft3\u001b[0m\u001b[1;33m)\u001b[0m \u001b[1;32mfor\u001b[0m \u001b[0mk\u001b[0m \u001b[1;32min\u001b[0m \u001b[0mrange\u001b[0m\u001b[1;33m(\u001b[0m\u001b[1;36m1000\u001b[0m\u001b[1;33m)\u001b[0m\u001b[1;33m]\u001b[0m\u001b[1;33m)\u001b[0m\u001b[1;33m\u001b[0m\u001b[0m\n\u001b[0m",
        "\u001b[1;32m<ipython-input-31-6c38c1d73f1f>\u001b[0m in \u001b[0;36mcalc\u001b[1;34m(k, n, rep, func)\u001b[0m\n\u001b[0;32m      1\u001b[0m \u001b[1;32mdef\u001b[0m \u001b[0mcalc\u001b[0m\u001b[1;33m(\u001b[0m\u001b[0mk\u001b[0m\u001b[1;33m=\u001b[0m\u001b[1;36m0\u001b[0m\u001b[1;33m,\u001b[0m \u001b[0mn\u001b[0m\u001b[1;33m=\u001b[0m\u001b[1;36m1000\u001b[0m\u001b[1;33m,\u001b[0m \u001b[0mrep\u001b[0m\u001b[1;33m=\u001b[0m\u001b[1;36m10000\u001b[0m\u001b[1;33m,\u001b[0m \u001b[0mfunc\u001b[0m\u001b[1;33m=\u001b[0m\u001b[0mdraft\u001b[0m\u001b[1;33m)\u001b[0m\u001b[1;33m:\u001b[0m\u001b[1;33m\u001b[0m\u001b[0m\n\u001b[1;32m----> 2\u001b[1;33m     \u001b[1;32mreturn\u001b[0m \u001b[0msum\u001b[0m\u001b[1;33m(\u001b[0m\u001b[1;33m[\u001b[0m\u001b[0mfunc\u001b[0m\u001b[1;33m(\u001b[0m\u001b[0mk\u001b[0m\u001b[1;33m,\u001b[0m\u001b[0mn\u001b[0m\u001b[1;33m)\u001b[0m \u001b[1;32mfor\u001b[0m \u001b[0m_\u001b[0m \u001b[1;32min\u001b[0m \u001b[0mrange\u001b[0m\u001b[1;33m(\u001b[0m\u001b[0mrep\u001b[0m\u001b[1;33m)\u001b[0m\u001b[1;33m]\u001b[0m\u001b[1;33m)\u001b[0m\u001b[1;33m/\u001b[0m\u001b[0mfloat\u001b[0m\u001b[1;33m(\u001b[0m\u001b[0mrep\u001b[0m\u001b[1;33m)\u001b[0m\u001b[1;33m\u001b[0m\u001b[0m\n\u001b[0m",
        "\u001b[1;32m<ipython-input-30-4538aa1a8038>\u001b[0m in \u001b[0;36mdraft3\u001b[1;34m(k, n)\u001b[0m\n\u001b[0;32m      1\u001b[0m \u001b[1;32mdef\u001b[0m \u001b[0mdraft3\u001b[0m\u001b[1;33m(\u001b[0m\u001b[0mk\u001b[0m\u001b[1;33m=\u001b[0m\u001b[1;36m0\u001b[0m\u001b[1;33m,\u001b[0m\u001b[0mn\u001b[0m\u001b[1;33m=\u001b[0m\u001b[1;36m1000\u001b[0m\u001b[1;33m)\u001b[0m\u001b[1;33m:\u001b[0m\u001b[1;33m\u001b[0m\u001b[0m\n\u001b[1;32m----> 2\u001b[1;33m     \u001b[0mpos\u001b[0m \u001b[1;33m=\u001b[0m \u001b[0mnp\u001b[0m\u001b[1;33m.\u001b[0m\u001b[0mrandom\u001b[0m\u001b[1;33m.\u001b[0m\u001b[0mrandint\u001b[0m\u001b[1;33m(\u001b[0m\u001b[1;36m0\u001b[0m\u001b[1;33m,\u001b[0m\u001b[0mn\u001b[0m\u001b[1;33m)\u001b[0m\u001b[1;33m\u001b[0m\u001b[0m\n\u001b[0m\u001b[0;32m      3\u001b[0m     \u001b[0mleng\u001b[0m \u001b[1;33m=\u001b[0m \u001b[0mnp\u001b[0m\u001b[1;33m.\u001b[0m\u001b[0mrandom\u001b[0m\u001b[1;33m.\u001b[0m\u001b[0mrandint\u001b[0m\u001b[1;33m(\u001b[0m\u001b[1;36m1\u001b[0m\u001b[1;33m,\u001b[0m\u001b[0mn\u001b[0m\u001b[1;33m/\u001b[0m\u001b[1;36m2\u001b[0m\u001b[1;33m)\u001b[0m\u001b[1;33m\u001b[0m\u001b[0m\n\u001b[0;32m      4\u001b[0m     \u001b[1;32mif\u001b[0m \u001b[1;33m(\u001b[0m\u001b[0mpos\u001b[0m\u001b[1;33m<=\u001b[0m\u001b[0mk\u001b[0m \u001b[1;32mand\u001b[0m \u001b[1;33m(\u001b[0m\u001b[0mpos\u001b[0m\u001b[1;33m+\u001b[0m\u001b[0mleng\u001b[0m\u001b[1;33m)\u001b[0m\u001b[1;33m>=\u001b[0m\u001b[0mk\u001b[0m\u001b[1;33m)\u001b[0m \u001b[1;32mor\u001b[0m \u001b[1;33m(\u001b[0m\u001b[0mpos\u001b[0m\u001b[1;33m+\u001b[0m\u001b[0mleng\u001b[0m\u001b[1;33m>\u001b[0m\u001b[0mn\u001b[0m \u001b[1;32mand\u001b[0m \u001b[0mpos\u001b[0m\u001b[1;33m+\u001b[0m\u001b[0mleng\u001b[0m\u001b[1;33m-\u001b[0m\u001b[0mn\u001b[0m\u001b[1;33m>\u001b[0m\u001b[0mk\u001b[0m\u001b[1;33m)\u001b[0m\u001b[1;33m:\u001b[0m\u001b[1;33m\u001b[0m\u001b[0m\n\u001b[0;32m      5\u001b[0m         \u001b[1;31m#print \"V\",pos,leng,pos+leng\u001b[0m\u001b[1;33m\u001b[0m\u001b[1;33m\u001b[0m\u001b[0m\n",
        "\u001b[1;31mKeyboardInterrupt\u001b[0m: "
       ]
      }
     ],
     "prompt_number": 34
    },
    {
     "cell_type": "markdown",
     "metadata": {},
     "source": [
      "These are the results - the figure shows the probability of conversion upon a transformation event for gene *x*. \n",
      "In *blue* the uniform function, in *red* the function with the first position in the first half, in *green* the funciton with the length maximum at half. The *black* line represents 0.75."
     ]
    },
    {
     "cell_type": "code",
     "collapsed": false,
     "input": [
      "plot(res,'b');plot(res2,'r');plot(res3,'g');plot([0.75 for _ in range(1000)],'k');ylim([0,1]);"
     ],
     "language": "python",
     "metadata": {},
     "outputs": []
    },
    {
     "cell_type": "code",
     "collapsed": false,
     "input": [
      "print mean(res),mean(res2),mean(res3)"
     ],
     "language": "python",
     "metadata": {},
     "outputs": []
    },
    {
     "cell_type": "markdown",
     "metadata": {},
     "source": [
      "Although the distributions are different, the mean of the first two distributions is equal, and the third has the mean at half the mean of the others."
     ]
    },
    {
     "cell_type": "markdown",
     "metadata": {},
     "source": [
      "So now the probability that a gene will be converted is the probability that *j* transformations will occur, times the probability of a conversion per transformation, summing up on all *j*. The number of conversions is Poisson distributed with parameter *r*.\n",
      "\n",
      "which gives us:\n",
      "$$\n",
      "P(i) = \\sum_{j \\ge 1} {e^{-r} \\frac{r^j}{j!} j \\frac{1}{2}} = \n",
      "\\frac{r e^{-r}}{2} \\sum_{j \\ge 1} { \\frac{r^{j-1}}{(j-1)!} } = \n",
      "\\frac{r e^{-r}}{2} \\sum_{j \\ge 0} { \\frac{r^{j}}{(j)!} } = \n",
      "\\frac{r e^{-r}}{2} e^{r} = \n",
      "\\frac{r }{2}\n",
      "$$\n",
      "\n",
      "We will plot the probability of conversion across the genome for *r=0.00006* (replacing the 1/2 above with the values from the figure above). \n",
      "Note that the different between the highest and the lowest rate is 3-fold."
     ]
    },
    {
     "cell_type": "code",
     "collapsed": false,
     "input": [
      "r = 0.00006\n",
      "plot(r * res);plot(r * res2);"
     ],
     "language": "python",
     "metadata": {},
     "outputs": [
      {
       "output_type": "display_data",
       "png": "[encoded data removed]"
      }
     ],
     "prompt_number": 168
    },
    {
     "cell_type": "markdown",
     "metadata": {},
     "source": [
      "Now to do it stochasticly instead of analyticly:"
     ]
    },
    {
     "cell_type": "code",
     "collapsed": false,
     "input": [
      "def calc_conversion_rate(r=0, generations=10000000, gene=0, num_of_genes=1000):\n",
      "    print \"r =\",r,\"gene =\",gene\n",
      "    trans = sum(np.random.poisson(r, generations))\n",
      "    print \"Transformations per generation:\",sum(trans)/double(generations),\"Total:\",trans\n",
      "    conversions = 0\n",
      "    for t in range(trans):\n",
      "        if draft2(gene, num_of_genes):\n",
      "            conversions += 1\n",
      "    print \"Gene conversions per generation:\", conversions/double(generations),\"Total:\",conversions\n",
      "    print \"Gene conversions per transformation:\", conversions/double(trans)\n",
      "    print \"\"\n",
      "\n",
      "calc_conversion_rate(r=0.00006,gene=0)\n",
      "calc_conversion_rate(r=0.00006,gene=500)\n",
      "calc_conversion_rate(r=0.003,gene=0)\n",
      "calc_conversion_rate(r=0.003,gene=500)"
     ],
     "language": "python",
     "metadata": {},
     "outputs": [
      {
       "output_type": "stream",
       "stream": "stdout",
       "text": [
        "r = 6e-05 gene = 0\n",
        "Transformations per generation:"
       ]
      },
      {
       "output_type": "stream",
       "stream": "stdout",
       "text": [
        " 5.8e-05 Total: 580\n",
        "Gene conversions per generation: 1.18e-05 Total: 118\n",
        "Gene conversions per transformation: 0.203448275862\n",
        "\n",
        "r = 6e-05 gene = 500\n",
        "Transformations per generation:"
       ]
      },
      {
       "output_type": "stream",
       "stream": "stdout",
       "text": [
        " 5.99e-05 Total: 599\n",
        "Gene conversions per generation: 4.6e-05 Total: 460\n",
        "Gene conversions per transformation: 0.767946577629\n",
        "\n",
        "r = 0.003 gene = 0\n",
        "Transformations per generation:"
       ]
      },
      {
       "output_type": "stream",
       "stream": "stdout",
       "text": [
        " 0.0029856 Total: 29856\n",
        "Gene conversions per generation:"
       ]
      },
      {
       "output_type": "stream",
       "stream": "stdout",
       "text": [
        " 0.0007527 Total: 7527\n",
        "Gene conversions per transformation: 0.252110128617\n",
        "\n",
        "r = 0.003 gene = 500\n",
        "Transformations per generation:"
       ]
      },
      {
       "output_type": "stream",
       "stream": "stdout",
       "text": [
        " 0.0030248 Total: 30248\n",
        "Gene conversions per generation:"
       ]
      },
      {
       "output_type": "stream",
       "stream": "stdout",
       "text": [
        " 0.0022697 Total: 22697\n",
        "Gene conversions per transformation: 0.750363660407\n",
        "\n"
       ]
      }
     ],
     "prompt_number": 27
    },
    {
     "cell_type": "markdown",
     "metadata": {},
     "source": [
      "The previous gave us events per GENE per generation, but we would like a number of events per GENOME per generation:"
     ]
    },
    {
     "cell_type": "code",
     "collapsed": false,
     "input": [
      "def calc_conversion_rate_per_genome(r=0, generations=100000000, num_of_genes=1000):\n",
      "    print \"r =\",r\n",
      "    trans = sum(np.random.poisson(r, generations))\n",
      "    print \"Transformations per generation:\",sum(trans)/double(generations),\"Total:\",trans\n",
      "    conversions = 0 \n",
      "    for t in range(trans):\n",
      "        leng = np.random.randint(1,num_of_genes)\n",
      "        conversions += leng\n",
      "    print \"Gene conversions per generation:\", conversions/double(generations),\"Total:\",conversions\n",
      "    print \"Gene conversions per transformation:\", conversions/double(trans)\n",
      "    print \"\"\n",
      "        \n",
      "calc_conversion_rate_per_genome(r=0.0000001)\n",
      "calc_conversion_rate_per_genome(r=0.00006)\n",
      "calc_conversion_rate_per_genome(r=0.003)\n"
     ],
     "language": "python",
     "metadata": {},
     "outputs": [
      {
       "output_type": "stream",
       "stream": "stdout",
       "text": [
        "r = 1e-07\n",
        "Transformations per generation:"
       ]
      },
      {
       "output_type": "stream",
       "stream": "stdout",
       "text": [
        " 1.4e-07 Total: 14\n",
        "Gene conversions per generation: 7.623e-05 Total: 7623\n",
        "Gene conversions per transformation: 544.5\n",
        "\n",
        "r = 6e-05\n",
        "Transformations per generation:"
       ]
      },
      {
       "output_type": "stream",
       "stream": "stdout",
       "text": [
        " 6.011e-05 Total: 6011\n",
        "Gene conversions per generation: 0.0298721 Total: 2987210\n",
        "Gene conversions per transformation: 496.957245051\n",
        "\n",
        "r = 0.003\n",
        "Transformations per generation:"
       ]
      },
      {
       "output_type": "stream",
       "stream": "stdout",
       "text": [
        " 0.00300229 Total: 300229\n",
        "Gene conversions per generation:"
       ]
      },
      {
       "output_type": "stream",
       "stream": "stdout",
       "text": [
        " 1.5019291 Total: 150192910\n",
        "Gene conversions per transformation: 500.261167309\n",
        "\n"
       ]
      }
     ],
     "prompt_number": 39
    },
    {
     "cell_type": "markdown",
     "metadata": {},
     "source": [
      "Now I want to check the selection coeffcients *Tenaillon et al. 2000* report on Fig. 5:"
     ]
    },
    {
     "cell_type": "code",
     "collapsed": false,
     "input": [
      "multipliers = array([0.5,0.7,1,1.5,2,3])\n",
      "s = array([0.03,0.03,0.03,0.04,0.04,0.06])\n",
      "mean(s)\n",
      "for m in multipliers:\n",
      "    print mean(s*m)"
     ],
     "language": "python",
     "metadata": {},
     "outputs": [
      {
       "output_type": "stream",
       "stream": "stdout",
       "text": [
        "0.0191666666667\n",
        "0.0268333333333\n",
        "0.0383333333333\n",
        "0.0575\n",
        "0.0766666666667\n",
        "0.115\n"
       ]
      }
     ],
     "prompt_number": 172
    },
    {
     "cell_type": "code",
     "collapsed": false,
     "input": [],
     "language": "python",
     "metadata": {},
     "outputs": []
    }
   ],
   "metadata": {}
  }
 ]
}