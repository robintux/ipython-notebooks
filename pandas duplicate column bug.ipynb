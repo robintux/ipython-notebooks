{
 "cells": [
  {
   "cell_type": "markdown",
   "metadata": {},
   "source": [
    "See https://github.com/pydata/pandas/issues/9424"
   ]
  },
  {
   "cell_type": "code",
   "execution_count": 2,
   "metadata": {
    "collapsed": true
   },
   "outputs": [],
   "source": [
    "import pandas as pd\n",
    "from StringIO import StringIO"
   ]
  },
  {
   "cell_type": "code",
   "execution_count": 15,
   "metadata": {
    "collapsed": false
   },
   "outputs": [],
   "source": [
    "data = \"\"\"A,A,B,B,B\n",
    "    1,2,3,4,5\n",
    "    6,7,8,9,10\n",
    "    11,12,13,14,15\"\"\"\n",
    "\n",
    "# check default beahviour\n",
    "df = pd.read_table(StringIO(data), sep=',')\n",
    "assert (list(df.columns) == ['A', 'A.1', 'B', 'B.1', 'B.2'])\n",
    "\n",
    "df = pd.read_table(StringIO(data), sep=',', mangle_dupe_cols=False)\n",
    "assert (list(df.columns)==['A', 'A', 'B', 'B', 'B'])\n",
    "\n",
    "df = pd.read_table(StringIO(data), sep=',', mangle_dupe_cols=True)\n",
    "assert (list(df.columns)== ['A', 'A.1', 'B', 'B.1', 'B.2'])"
   ]
  },
  {
   "cell_type": "code",
   "execution_count": 30,
   "metadata": {
    "collapsed": false
   },
   "outputs": [
    {
     "data": {
      "text/html": [
       "<div style=\"max-height:1000px;max-width:1500px;overflow:auto;\">\n",
       "<table border=\"1\" class=\"dataframe\">\n",
       "  <thead>\n",
       "    <tr style=\"text-align: right;\">\n",
       "      <th></th>\n",
       "      <th>A</th>\n",
       "      <th>A.1</th>\n",
       "      <th>B</th>\n",
       "      <th>B.1</th>\n",
       "      <th>B.2</th>\n",
       "    </tr>\n",
       "  </thead>\n",
       "  <tbody>\n",
       "    <tr>\n",
       "      <th>0</th>\n",
       "      <td>1</td>\n",
       "      <td>2</td>\n",
       "      <td>3</td>\n",
       "      <td>4</td>\n",
       "      <td>5</td>\n",
       "    </tr>\n",
       "    <tr>\n",
       "      <th>1</th>\n",
       "      <td>6</td>\n",
       "      <td>7</td>\n",
       "      <td>8</td>\n",
       "      <td>9</td>\n",
       "      <td>10</td>\n",
       "    </tr>\n",
       "    <tr>\n",
       "      <th>2</th>\n",
       "      <td>11</td>\n",
       "      <td>12</td>\n",
       "      <td>13</td>\n",
       "      <td>14</td>\n",
       "      <td>15</td>\n",
       "    </tr>\n",
       "  </tbody>\n",
       "</table>\n",
       "</div>"
      ],
      "text/plain": [
       "    A  A.1   B  B.1  B.2\n",
       "0   1    2   3    4    5\n",
       "1   6    7   8    9   10\n",
       "2  11   12  13   14   15"
      ]
     },
     "execution_count": 30,
     "metadata": {},
     "output_type": "execute_result"
    }
   ],
   "source": [
    "df = pd.read_table(StringIO(data), sep=',', mangle_dupe_cols=True)\n",
    "df"
   ]
  },
  {
   "cell_type": "code",
   "execution_count": 31,
   "metadata": {
    "collapsed": false
   },
   "outputs": [
    {
     "name": "stdout",
     "output_type": "stream",
     "text": [
      "|    |   A |   A.1 |   B |   B.1 |   B.2 |\n",
      "|---:|----:|------:|----:|------:|------:|\n",
      "|  0 |   1 |     2 |   3 |     4 |     5 |\n",
      "|  1 |   6 |     7 |   8 |     9 |    10 |\n",
      "|  2 |  11 |    12 |  13 |    14 |    15 |\n"
     ]
    }
   ],
   "source": [
    "import tabulate\n",
    "print tabulate.tabulate(df, headers=df.columns.tolist(), tablefmt='pipe')"
   ]
  },
  {
   "cell_type": "code",
   "execution_count": 25,
   "metadata": {
    "collapsed": false
   },
   "outputs": [
    {
     "data": {
      "text/html": [
       "<div style=\"max-height:1000px;max-width:1500px;overflow:auto;\">\n",
       "<table border=\"1\" class=\"dataframe\">\n",
       "  <thead>\n",
       "    <tr style=\"text-align: right;\">\n",
       "      <th></th>\n",
       "      <th>A</th>\n",
       "      <th>A</th>\n",
       "      <th>B</th>\n",
       "      <th>B</th>\n",
       "      <th>B</th>\n",
       "    </tr>\n",
       "  </thead>\n",
       "  <tbody>\n",
       "    <tr>\n",
       "      <th>0</th>\n",
       "      <td>2</td>\n",
       "      <td>2</td>\n",
       "      <td>5</td>\n",
       "      <td>5</td>\n",
       "      <td>5</td>\n",
       "    </tr>\n",
       "    <tr>\n",
       "      <th>1</th>\n",
       "      <td>7</td>\n",
       "      <td>7</td>\n",
       "      <td>10</td>\n",
       "      <td>10</td>\n",
       "      <td>10</td>\n",
       "    </tr>\n",
       "    <tr>\n",
       "      <th>2</th>\n",
       "      <td>12</td>\n",
       "      <td>12</td>\n",
       "      <td>15</td>\n",
       "      <td>15</td>\n",
       "      <td>15</td>\n",
       "    </tr>\n",
       "  </tbody>\n",
       "</table>\n",
       "</div>"
      ],
      "text/plain": [
       "    A   A   B   B   B\n",
       "0   2   2   5   5   5\n",
       "1   7   7  10  10  10\n",
       "2  12  12  15  15  15"
      ]
     },
     "execution_count": 25,
     "metadata": {},
     "output_type": "execute_result"
    }
   ],
   "source": [
    "df = pd.read_table(StringIO(data), sep=',', mangle_dupe_cols=False)\n",
    "df"
   ]
  },
  {
   "cell_type": "code",
   "execution_count": 29,
   "metadata": {
    "collapsed": false
   },
   "outputs": [
    {
     "name": "stdout",
     "output_type": "stream",
     "text": [
      "|    |   A |   A |   B |   B |   B |\n",
      "|---:|----:|----:|----:|----:|----:|\n",
      "|  0 |   2 |   2 |   5 |   5 |   5 |\n",
      "|  1 |   7 |   7 |  10 |  10 |  10 |\n",
      "|  2 |  12 |  12 |  15 |  15 |  15 |\n"
     ]
    }
   ],
   "source": [
    "print tabulate.tabulate(df, headers=df.columns.tolist(), tablefmt='pipe')"
   ]
  },
  {
   "cell_type": "code",
   "execution_count": null,
   "metadata": {
    "collapsed": true
   },
   "outputs": [],
   "source": []
  }
 ],
 "metadata": {
  "kernelspec": {
   "display_name": "Python 2",
   "language": "python",
   "name": "python2"
  },
  "language_info": {
   "codemirror_mode": {
    "name": "ipython",
    "version": 2
   },
   "file_extension": ".py",
   "mimetype": "text/x-python",
   "name": "python",
   "nbconvert_exporter": "python",
   "pygments_lexer": "ipython2",
   "version": "2.7.8"
  }
 },
 "nbformat": 4,
 "nbformat_minor": 0
}
