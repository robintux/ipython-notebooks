{
 "metadata": {
  "name": ""
 },
 "nbformat": 3,
 "nbformat_minor": 0,
 "worksheets": [
  {
   "cells": [
    {
     "cell_type": "code",
     "collapsed": false,
     "input": [
      "from scipy import __version__ as scipy_ver\n",
      "print \"scipy:\", scipy_ver\n",
      "np.set_printoptions(linewidth=80)\n",
      "np.set_printoptions(precision=3)\n",
      "from mpltools import style\n",
      "style.use('ggplot')\n",
      "import random\n",
      "from numpy.random import poisson, exponential"
     ],
     "language": "python",
     "metadata": {},
     "outputs": [
      {
       "output_type": "stream",
       "stream": "stdout",
       "text": [
        "scipy: 0.12.0\n"
       ]
      }
     ],
     "prompt_number": 76
    },
    {
     "cell_type": "code",
     "collapsed": false,
     "input": [
      "U = 0.03\n",
      "beta = 0.001\n",
      "sb = 0.01\n",
      "sd = 0.01\n",
      "N = 1000\n",
      "g=10"
     ],
     "language": "python",
     "metadata": {},
     "outputs": [],
     "prompt_number": 192
    },
    {
     "cell_type": "code",
     "collapsed": false,
     "input": [
      "DFEb = exponential\n",
      "DFEd = exponential"
     ],
     "language": "python",
     "metadata": {},
     "outputs": [],
     "prompt_number": 259
    },
    {
     "cell_type": "code",
     "collapsed": false,
     "input": [
      "mutations_dict = {'A': 'GCT', 'G':'ACT', 'C':'AGT', 'T':'AGC'}"
     ],
     "language": "python",
     "metadata": {},
     "outputs": [],
     "prompt_number": 193
    },
    {
     "cell_type": "code",
     "collapsed": false,
     "input": [
      "def mutate_sequence(seq):\n",
      "    i = randint(len(seq))\n",
      "    allele = seq[i]\n",
      "    options = mutations_dict[allele]\n",
      "    new_allele = random.choice(options)\n",
      "    return seq[:i] + new_allele + seq[i+1:]\n",
      "print mutate_sequence('AGCT')"
     ],
     "language": "python",
     "metadata": {},
     "outputs": [
      {
       "output_type": "stream",
       "stream": "stdout",
       "text": [
        "AGGT\n"
       ]
      }
     ],
     "prompt_number": 194
    },
    {
     "cell_type": "code",
     "collapsed": false,
     "input": [
      "genotypes = {0:'A'*g}\n",
      "fitness = array([1])\n",
      "fitness_dict = {genotypes[0]:fitness[0]}\n",
      "population = array([N])"
     ],
     "language": "python",
     "metadata": {},
     "outputs": [],
     "prompt_number": 247
    },
    {
     "cell_type": "code",
     "collapsed": false,
     "input": [
      "def coin_toss(p=0.5):\n",
      "    return random.random() < p\n",
      "sum([coin_toss(0.1) for _ in range(1000)])/1000."
     ],
     "language": "python",
     "metadata": {},
     "outputs": [
      {
       "metadata": {},
       "output_type": "pyout",
       "prompt_number": 248,
       "text": [
        "0.091999999999999998"
       ]
      }
     ],
     "prompt_number": 248
    },
    {
     "cell_type": "code",
     "collapsed": false,
     "input": [
      "def selection_drift(population, fitness):\n",
      "    weighted = population*fitness\n",
      "    probs = weighted/float(weighted.sum())\n",
      "    return multinomial(N, probs)\n",
      "selection_drift(population, fitness)"
     ],
     "language": "python",
     "metadata": {},
     "outputs": [
      {
       "metadata": {},
       "output_type": "pyout",
       "prompt_number": 249,
       "text": [
        "array([1000])"
       ]
      }
     ],
     "prompt_number": 249
    },
    {
     "cell_type": "code",
     "collapsed": false,
     "input": [
      "def mutation(population, genotypes, fitness):\n",
      "    mutation_rates = population * U\n",
      "    total_mutations = poisson(mutation_rates,len(mutation_rates))\n",
      "    mutants = []\n",
      "    mutants_fitness = []\n",
      "    for strain,num_mutations in enumerate(total_mutations):\n",
      "        for mutation in range(num_mutations):\n",
      "            parent = genotypes[strain]\n",
      "            mutant = mutate_sequence(parent)            \n",
      "            if mutant in fitness_dict:\n",
      "                mutant_fitness = fitness_dict[mutant]                \n",
      "            else: \n",
      "                mutant_fitness = fitness_dict[parent]\n",
      "                if coin_toss(beta): # beneficial\n",
      "                    mutant_fitness += DFEb(sb)\n",
      "                else:\n",
      "                    mutant_fitness -= DFEd(sd)\n",
      "                mutant_fitness = max(0, mutant_fitness)\n",
      "                fitness_dict[mutant] = mutant_fitness\n",
      "            mutants.append(mutant)\n",
      "            mutants_fitness.append(mutant_fitness)    \n",
      "        population[strain] -= num_mutations\n",
      "    for i,g in enumerate(mutants):\n",
      "        genotypes[len(population) + i] = g        \n",
      "    population = np.concatenate((population, [1]*len(mutants)))\n",
      "    fitness = np.concatenate((fitness, mutants_fitness))\n",
      "    return population, genotypes, fitness             \n",
      "mutation(population, genotypes, fitness)"
     ],
     "language": "python",
     "metadata": {},
     "outputs": [
      {
       "metadata": {},
       "output_type": "pyout",
       "prompt_number": 260,
       "text": [
        "(array([45, 25, 38,  5, 46, 98,  8, 84,  3,  2,  1, 15,  9,  2,  8, 19,  7,  5,\n",
        "        5,  7, 16, 19,  7,  2, 10, 18, 30,  5,  2, 10,  3,  5, 28, 13,  2,  6,\n",
        "        6,  3,  2,  6,  7,  2, 49,  8, 10,  5,  1,  7, 25,  2,  3, 12,  1,  1,\n",
        "       14,  9,  1,  4,  1,  2,  3,  3,  4,  6,  5,  3,  2,  5,  3,  1,  2,  3,\n",
        "        2,  2,  5,  1,  3,  2,  2,  3,  9,  3,  1,  1, 10,  2,  1,  1,  1,  1,\n",
        "        2,  2,  2,  5,  1,  4,  2,  0,  1,  3,  1,  2,  5,  2,  1,  5,  2,  4,\n",
        "        2,  2,  3,  1,  5,  1,  1,  2,  2,  1,  1,  2,  1,  2,  1,  2,  1,  1,\n",
        "        2,  2,  3,  1,  1,  1,  1,  1,  1,  1,  1,  1,  1,  1,  1,  1,  1,  1,\n",
        "        1,  1,  1,  1,  1,  1,  1,  1,  1,  1,  1,  1,  1,  1,  1,  1,  1,  1,\n",
        "        1,  1,  1,  1,  1,  1]),\n",
        " {0: 'CTGCTACTGA',\n",
        "  1: 'GTGTCTATCT',\n",
        "  2: 'CTGCTCACGG',\n",
        "  3: 'CTGCCGCTGA',\n",
        "  4: 'CTGCTCCTGC',\n",
        "  5: 'CTGCCGTTGA',\n",
        "  6: 'GTCCTACTGT',\n",
        "  7: 'CTGCTCACGA',\n",
        "  8: 'CTGCTCCTTA',\n",
        "  9: 'CTCCTACTGA',\n",
        "  10: 'CTGTTACTGA',\n",
        "  11: 'CGGCGACTAT',\n",
        "  12: 'CTGCTGTTGA',\n",
        "  13: 'CTCCTACTGT',\n",
        "  14: 'CCGAAATTGA',\n",
        "  15: 'CGGCTCCTTC',\n",
        "  16: 'CTGATACTGA',\n",
        "  17: 'CTCCTACTGT',\n",
        "  18: 'CTGCTTCAAG',\n",
        "  19: 'CGGCTACTGA',\n",
        "  20: 'CCGCTCCAAG',\n",
        "  21: 'GTTCTCAAGT',\n",
        "  22: 'CTACTCAAGG',\n",
        "  23: 'GATCTCACGG',\n",
        "  24: 'ATGCTACTGA',\n",
        "  25: 'CTGCTATTGA',\n",
        "  26: 'CGGCTCCTGC',\n",
        "  27: 'CTCCTACTGA',\n",
        "  28: 'GTGTCTATCA',\n",
        "  29: 'CTGCTCGTGT',\n",
        "  30: 'CAGCTCCTGA',\n",
        "  31: 'GTGTCTATGT',\n",
        "  32: 'CTACCGTTGA',\n",
        "  33: 'CGGGTACTGA',\n",
        "  34: 'CTGATGCTGA',\n",
        "  35: 'GTCCTAACGT',\n",
        "  36: 'CTTATACTGA',\n",
        "  37: 'CTGCACCTTA',\n",
        "  38: 'CTGCCGTTAA',\n",
        "  39: 'CTACTCCTTA',\n",
        "  40: 'CTACTCAAGA',\n",
        "  41: 'CTACAGTTGA',\n",
        "  42: 'CTGTTAGTGA',\n",
        "  43: 'CAGCGCGTGG',\n",
        "  44: 'CTCCTCACGA',\n",
        "  45: 'CTGCCGTGGA',\n",
        "  46: 'CGGCACCTTC',\n",
        "  47: 'GTTCTGAAGT',\n",
        "  48: 'TTGCCGTTGA',\n",
        "  49: 'CTGCAAATTA',\n",
        "  50: 'CTGCTTCAAC',\n",
        "  51: 'CCACCGTTGA',\n",
        "  52: 'CTGACCTTGA',\n",
        "  53: 'TGGCCGTTGA',\n",
        "  54: 'CTCCTACTGA',\n",
        "  55: 'TTGCCGTTGA',\n",
        "  56: 'ATGCCACAGA',\n",
        "  57: 'CTGTCGTGGA',\n",
        "  58: 'CTGCTTCTGA',\n",
        "  59: 'CTACTACTGA',\n",
        "  60: 'CAGCTCCTGC',\n",
        "  61: 'CTGCCATTGA',\n",
        "  62: 'CTGCCTTTGA',\n",
        "  63: 'CTGCCACTGA',\n",
        "  64: 'CGGCTGCTGA',\n",
        "  65: 'CGGCTCCTGC',\n",
        "  66: 'CTGCGCCTGC',\n",
        "  67: 'CTGCTCCTGA',\n",
        "  68: 'CTGGCGTTGA',\n",
        "  69: 'CTGATATTGA',\n",
        "  70: 'GTGCCTATCA',\n",
        "  71: 'TTGTGTATCA',\n",
        "  72: 'CTCCTACTGG',\n",
        "  73: 'CGGCTCCCGC',\n",
        "  74: 'CTGCCTTGGA',\n",
        "  75: 'GTGACTATCT',\n",
        "  76: 'CTGATCCTGC',\n",
        "  77: 'CTGCCGGTGA',\n",
        "  78: 'CTGCCGTGGA',\n",
        "  79: 'CGGCGACCAT',\n",
        "  80: 'CAGCTACTGA',\n",
        "  81: 'CTTCTCAAGG',\n",
        "  82: 'CTCCTAACGT',\n",
        "  83: 'CTGTTACTGA',\n",
        "  84: 'CTCGCGTTGA',\n",
        "  85: 'CTGCTACTAA',\n",
        "  86: 'CTGCTAATGA',\n",
        "  87: 'CTGCCGCTGG',\n",
        "  88: 'CTGCCCCTGC',\n",
        "  89: 'GTCGTACTGT',\n",
        "  90: 'CTGCTCTCGA',\n",
        "  91: 'CTGCTTCAAA',\n",
        "  92: 'AGGCTCCTGC',\n",
        "  93: 'GTTGTGAAGT',\n",
        "  94: 'CAGCCGTTGA',\n",
        "  95: 'CTGACGTTGA',\n",
        "  96: 'CGGCCGTTGA',\n",
        "  97: 'CTGATACTGA',\n",
        "  98: 'CTCATGCTGA',\n",
        "  99: 'CTCCTTCAAC',\n",
        "  100: 'CTGATATTGC',\n",
        "  101: 'CTGTCGCTGC',\n",
        "  102: 'CTGCCGTGAA',\n",
        "  103: 'CTGTTACTGA',\n",
        "  104: 'CTGTTACTGA',\n",
        "  105: 'CTGCTAGTGA',\n",
        "  106: 'CTGCCCACGA',\n",
        "  107: 'CTCCTACTGG',\n",
        "  108: 'ATGCTACTCA',\n",
        "  109: 'CGGCTCCTGA',\n",
        "  110: 'CAGCTCCTGC',\n",
        "  111: 'CAGCCGTTGA',\n",
        "  112: 'CTCGCGTCGA',\n",
        "  113: 'CCGCTACTGA',\n",
        "  114: 'GAGTCTATCT',\n",
        "  115: 'GTGTCTCTCT',\n",
        "  116: 'CTGCCCACGG',\n",
        "  117: 'TTGCTCCTGC',\n",
        "  118: 'CTGCCGTAGA',\n",
        "  119: 'CTGCCATTGA',\n",
        "  120: 'GTCCTAGTGT',\n",
        "  121: 'CTGCTCCCGA',\n",
        "  122: 'CGGCGCCTAT',\n",
        "  123: 'TTACTCAAGG',\n",
        "  124: 'AAGCTACTGA',\n",
        "  125: 'CGGCTCCCGC',\n",
        "  126: 'CTGCACCATA',\n",
        "  127: 'CAGTTAGTGA',\n",
        "  128: 'CTACTACTAA',\n",
        "  129: 'CGGCTCCAGC',\n",
        "  130: 'CTACGCCTGC',\n",
        "  131: 'CTGCCGGTGC',\n",
        "  132: 'CTCGCGTAGA',\n",
        "  133: 'CTCGCGTTTA',\n",
        "  134: 'CTAGCGTTGA',\n",
        "  135: 'GTCGTAATGT',\n",
        "  136: 'CTGCTAGTGA',\n",
        "  137: 'GTGTCTATTT',\n",
        "  138: 'GTGTCTATCC',\n",
        "  139: 'CTGCTCACCG',\n",
        "  140: 'CTGCCGATGA',\n",
        "  141: 'CTTCCGTTGA',\n",
        "  142: 'CTCCTCACGA',\n",
        "  143: 'CTGCTCACCA',\n",
        "  144: 'CTGCACACGA',\n",
        "  145: 'CTGCTCACCA',\n",
        "  146: 'CTCCTACGGT',\n",
        "  147: 'CCGAAATTTA',\n",
        "  148: 'CGTCTCCTTC',\n",
        "  149: 'CGACTCAAGG',\n",
        "  150: 'CTGCTCAAGG',\n",
        "  151: 'GATCTCACCG',\n",
        "  152: 'CGGGTACTCA',\n",
        "  153: 'AGGGTACTGA',\n",
        "  154: 'CTCATGCTGA',\n",
        "  155: 'ATGTTAGTGA',\n",
        "  156: 'CTGTCAGTGA',\n",
        "  157: 'GAGCGCGTGG',\n",
        "  158: 'CAGCGTGTGG',\n",
        "  159: 'CCACCGTTGT',\n",
        "  160: 'CTGTTAGTGA',\n",
        "  161: 'CTGACGTTTA',\n",
        "  162: 'CTGATCCTGA',\n",
        "  163: 'CGGATATTGC',\n",
        "  164: 'TTGCCCACGA',\n",
        "  165: 'ATGCTACTCC',\n",
        "  166: 'CCGCTACTCA',\n",
        "  167: 'CTCGCGTTTG'},\n",
        " array([ 1.017,  1.005,  1.007,  1.015,  0.999,  1.015,  0.971,  1.019,  1.01 ,\n",
        "        1.004,  0.964,  0.972,  1.   ,  1.002,  1.008,  1.01 ,  0.97 ,  1.002,\n",
        "        0.993,  1.007,  1.003,  0.98 ,  1.   ,  0.985,  1.008,  0.963,  0.984,\n",
        "        1.004,  1.004,  1.012,  0.992,  1.011,  1.011,  0.993,  0.966,  0.992,\n",
        "        0.965,  0.965,  0.986,  0.96 ,  0.96 ,  1.014,  1.001,  0.969,  1.014,\n",
        "        0.952,  1.007,  0.969,  1.014,  0.961,  0.989,  0.999,  0.991,  1.014,\n",
        "        1.004,  1.014,  0.971,  0.964,  1.013,  0.972,  0.989,  0.978,  1.01 ,\n",
        "        0.993,  0.966,  0.984,  0.974,  1.019,  0.971,  0.968,  0.97 ,  0.992,\n",
        "        1.002,  0.982,  0.92 ,  1.004,  0.989,  0.954,  0.952,  0.948,  1.015,\n",
        "        0.902,  0.991,  0.964,  0.947,  0.997,  0.971,  1.012,  0.989,  0.964,\n",
        "        0.979,  0.945,  0.957,  0.951,  0.946,  0.985,  1.012,  0.97 ,  1.009,\n",
        "        0.979,  0.921,  0.977,  0.994,  0.964,  0.964,  1.007,  1.009,  1.002,\n",
        "        0.996,  0.975,  0.989,  0.946,  0.943,  1.004,  0.987,  1.004,  0.988,\n",
        "        0.994,  0.977,  0.978,  0.985,  0.951,  0.952,  1.   ,  0.98 ,  0.982,\n",
        "        1.007,  1.001,  0.968,  0.979,  0.972,  0.975,  0.944,  0.962,  0.96 ,\n",
        "        0.992,  1.007,  0.96 ,  0.994,  1.002,  0.985,  0.982,  1.014,  0.972,\n",
        "        0.973,  0.972,  1.001,  0.997,  1.005,  0.958,  0.997,  0.975,  0.983,\n",
        "        0.982,  1.009,  0.965,  0.951,  0.969,  0.961,  0.967,  1.001,  0.978,\n",
        "        0.981,  0.904,  1.005,  0.982,  1.005,  0.953]))"
       ]
      }
     ],
     "prompt_number": 260
    },
    {
     "cell_type": "code",
     "collapsed": false,
     "input": [
      "def clear_extinct(population, genotypes, fitness):\n",
      "    strains = [i for i,n in enumerate(population) if n > 0]\n",
      "    genotypes = [g for i,g in sorted(genotypes.items()) if i in strains]    \n",
      "    genotypes = {i:g for i,g in enumerate(genotypes)}\n",
      "    return population[strains], genotypes, fitness[strains]\n",
      "clear_extinct(population, genotypes, fitness)"
     ],
     "language": "python",
     "metadata": {},
     "outputs": [
      {
       "metadata": {},
       "output_type": "pyout",
       "prompt_number": 251,
       "text": [
        "(array([971]), {0: 'AAAAAAAAAA'}, array([1]))"
       ]
      }
     ],
     "prompt_number": 251
    },
    {
     "cell_type": "code",
     "collapsed": false,
     "input": [
      "genotypes = {0:'A'*g}\n",
      "fitness = array([1])\n",
      "fitness_dict = {genotypes[0]:fitness[0]}\n",
      "population = array([N])"
     ],
     "language": "python",
     "metadata": {},
     "outputs": [],
     "prompt_number": 254
    },
    {
     "cell_type": "code",
     "collapsed": false,
     "input": [
      "for i in range(10001):      \n",
      "    population, genotypes, fitness = mutation(population, genotypes, fitness)\n",
      "    assert population.sum() == N\n",
      "    assert len(population) == len(fitness)\n",
      "    assert len(population) == len(genotypes)\n",
      "    assert (0<=fitness).all()\n",
      "    population = selection_drift(population, fitness)\n",
      "    assert population.sum() == N  \n",
      "    if i % 10 == 0: \n",
      "        population, genotypes, fitness = clear_extinct(population, genotypes, fitness)"
     ],
     "language": "python",
     "metadata": {},
     "outputs": [],
     "prompt_number": 257
    },
    {
     "cell_type": "code",
     "collapsed": false,
     "input": [
      "scatter(fitness, population, alpha=0.3)\n",
      "axvline(x=1, c='k')\n",
      "xlabel(\"fitness\")\n",
      "ylabel(\"frequency\");"
     ],
     "language": "python",
     "metadata": {},
     "outputs": [
      {
       "metadata": {},
       "output_type": "display_data",
       "png": "[encoded data removed]",
       "text": [
        "<matplotlib.figure.Figure at 0x139f6f98>"
       ]
      }
     ],
     "prompt_number": 258
    },
    {
     "cell_type": "code",
     "collapsed": false,
     "input": [
      "best = population.argmax()\n",
      "print fitness[best], genotypes[best]"
     ],
     "language": "python",
     "metadata": {},
     "outputs": [
      {
       "output_type": "stream",
       "stream": "stdout",
       "text": [
        "1.0145777277 CTGCCGTTGA\n"
       ]
      }
     ],
     "prompt_number": 264
    },
    {
     "cell_type": "code",
     "collapsed": false,
     "input": [
      "AGCT = {'A':0,'G':1,'C':2,'T':3}"
     ],
     "language": "python",
     "metadata": {},
     "outputs": [],
     "prompt_number": 288
    },
    {
     "cell_type": "code",
     "collapsed": false,
     "input": [
      "genotype_matrix = []\n",
      "for i in range(len(population)):\n",
      "    for x in range(population[i]):        \n",
      "        genotype_matrix.append(map(AGCT.get, genotypes[i]))\n",
      "genotype_matrix = array(genotype_matrix)\n",
      "print genotype_matrix"
     ],
     "language": "python",
     "metadata": {},
     "outputs": [
      {
       "output_type": "stream",
       "stream": "stdout",
       "text": [
        "[[2 3 1 ..., 3 1 0]\n",
        " [2 3 1 ..., 3 1 0]\n",
        " [2 3 1 ..., 3 1 0]\n",
        " ..., \n",
        " [2 3 2 ..., 3 3 0]\n",
        " [2 3 0 ..., 3 1 0]\n",
        " [1 3 2 ..., 3 1 3]]\n"
       ]
      }
     ],
     "prompt_number": 289
    },
    {
     "cell_type": "code",
     "collapsed": false,
     "input": [
      "fig,ax = subplots(1,1)\n",
      "ax.hist(genotype_matrix[:,3],bins=range(5),align='left',color='k')\n",
      "ax.set_xticks(range(4))\n",
      "ax.set_xticklabels('A G C T'.split());"
     ],
     "language": "python",
     "metadata": {},
     "outputs": [
      {
       "metadata": {},
       "output_type": "display_data",
       "png": "[encoded data removed]",
       "text": [
        "<matplotlib.figure.Figure at 0x175549e8>"
       ]
      }
     ],
     "prompt_number": 311
    },
    {
     "cell_type": "code",
     "collapsed": false,
     "input": [],
     "language": "python",
     "metadata": {},
     "outputs": []
    }
   ],
   "metadata": {}
  }
 ]
}