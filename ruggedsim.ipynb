{
 "metadata": {
  "name": "ruggedsim"
 },
 "nbformat": 3,
 "nbformat_minor": 0,
 "worksheets": [
  {
   "cells": [
    {
     "cell_type": "code",
     "collapsed": false,
     "input": [
      "cd d:\\workspace\\ruggedsim\\stochastic"
     ],
     "language": "python",
     "metadata": {},
     "outputs": [
      {
       "output_type": "stream",
       "stream": "stdout",
       "text": [
        "d:\\workspace\\ruggedsim\\stochastic\n"
       ]
      }
     ],
     "prompt_number": 1
    },
    {
     "cell_type": "code",
     "collapsed": false,
     "input": [
      "import model"
     ],
     "language": "python",
     "metadata": {},
     "outputs": [],
     "prompt_number": 3
    },
    {
     "cell_type": "code",
     "collapsed": false,
     "input": [
      "target_genome = model.create_target_genome(10)\n",
      "print target_genome"
     ],
     "language": "python",
     "metadata": {},
     "outputs": [
      {
       "output_type": "stream",
       "stream": "stdout",
       "text": [
        "[0 0 0 0 0 0 0 0 0 0]\n"
       ]
      }
     ],
     "prompt_number": 118
    },
    {
     "cell_type": "code",
     "collapsed": false,
     "input": [
      "modifiers = np.array([0,1,0,1])\n",
      "genome0 = np.concatenate((target_genome.copy(), modifiers))\n",
      "genome1 = np.concatenate((target_genome.copy(), modifiers))\n",
      "genome2 = np.concatenate((target_genome.copy(), modifiers))\n",
      "genome3 = np.concatenate((target_genome.copy(), modifiers))\n",
      "genome1[0],genome1[1] = 1,0\n",
      "genome2[0],genome2[1] = 0,1\n",
      "genome3[0],genome3[1] = 1,1\n",
      "genomes = np.array([genome0,genome1,genome2,genome3])\n",
      "print genomes"
     ],
     "language": "python",
     "metadata": {},
     "outputs": [
      {
       "output_type": "stream",
       "stream": "stdout",
       "text": [
        "[[0 0 0 0 0 0 0 0 0 0 0 1 0 1]\n",
        " [1 0 0 0 0 0 0 0 0 0 0 1 0 1]\n",
        " [0 1 0 0 0 0 0 0 0 0 0 1 0 1]\n",
        " [1 1 0 0 0 0 0 0 0 0 0 1 0 1]]\n"
       ]
      }
     ],
     "prompt_number": 119
    },
    {
     "cell_type": "code",
     "collapsed": false,
     "input": [
      "population = np.array([25,25,25,25])\n",
      "print population"
     ],
     "language": "python",
     "metadata": {},
     "outputs": [
      {
       "output_type": "stream",
       "stream": "stdout",
       "text": [
        "[25 25 25 25]\n"
       ]
      }
     ],
     "prompt_number": 120
    },
    {
     "cell_type": "code",
     "collapsed": false,
     "input": [
      "fitness = np.apply_along_axis(model.hamming_fitness_genome,1, genomes, target_genome,0.1,2,10)\n",
      "print fitness"
     ],
     "language": "python",
     "metadata": {},
     "outputs": [
      {
       "output_type": "stream",
       "stream": "stdout",
       "text": [
        "[ 1.    0.9   0.9   0.81]\n"
       ]
      }
     ],
     "prompt_number": 121
    },
    {
     "cell_type": "code",
     "collapsed": false,
     "input": [
      "target_genome[0], target_genome[1] = 1,1\n",
      "print target_genome"
     ],
     "language": "python",
     "metadata": {},
     "outputs": [
      {
       "output_type": "stream",
       "stream": "stdout",
       "text": [
        "[1 1 0 0 0 0 0 0 0 0]\n"
       ]
      }
     ],
     "prompt_number": 122
    },
    {
     "cell_type": "code",
     "collapsed": false,
     "input": [
      "fitness = model.hamming_fitness_genomes(genomes, target_genome, 0.1, 2, 10)\n",
      "print fitness"
     ],
     "language": "python",
     "metadata": {},
     "outputs": [
      {
       "output_type": "stream",
       "stream": "stdout",
       "text": [
        "[ 1.   0.9  0.9  1.2]\n"
       ]
      }
     ],
     "prompt_number": 123
    },
    {
     "cell_type": "code",
     "collapsed": false,
     "input": [
      "reload(model)"
     ],
     "language": "python",
     "metadata": {},
     "outputs": [
      {
       "output_type": "pyout",
       "prompt_number": 110,
       "text": [
        "<module 'model' from 'model.py'>"
       ]
      }
     ],
     "prompt_number": 110
    },
    {
     "cell_type": "markdown",
     "metadata": {},
     "source": [
      "# New stuff"
     ]
    },
    {
     "cell_type": "code",
     "collapsed": false,
     "input": [
      "population = np.array([[10]+[0]*10,[5]+[0]*10,[4]+[0]*10,[1]+[0]*10],dtype=np.int)\n",
      "print population"
     ],
     "language": "python",
     "metadata": {},
     "outputs": [
      {
       "output_type": "stream",
       "stream": "stdout",
       "text": [
        "[[10  0  0  0  0  0  0  0  0  0  0]\n",
        " [ 5  0  0  0  0  0  0  0  0  0  0]\n",
        " [ 4  0  0  0  0  0  0  0  0  0  0]\n",
        " [ 1  0  0  0  0  0  0  0  0  0  0]]\n"
       ]
      }
     ],
     "prompt_number": 160
    },
    {
     "cell_type": "code",
     "collapsed": false,
     "input": [
      "mutations = np.random.poisson(population*0.1)\n",
      "print mutations"
     ],
     "language": "python",
     "metadata": {},
     "outputs": [
      {
       "output_type": "stream",
       "stream": "stdout",
       "text": [
        "[[1 0 0 0 0 0 0 0 0 0 0]\n",
        " [0 0 0 0 0 0 0 0 0 0 0]\n",
        " [0 0 0 0 0 0 0 0 0 0 0]\n",
        " [0 0 0 0 0 0 0 0 0 0 0]]\n"
       ]
      }
     ],
     "prompt_number": 161
    },
    {
     "cell_type": "code",
     "collapsed": false,
     "input": [
      "for strain in arange(population.shape[0]): \n",
      "    strain_mutations = mutations[strain]\n",
      "    strain_mutations[-1] = 0\n",
      "    population[strain] -= strain_mutations\n",
      "    print population[strain]\n",
      "    strain_mutations = np.roll(strain_mutations, 1)\n",
      "    population[strain] += strain_mutations\n",
      "    print population[strain]"
     ],
     "language": "python",
     "metadata": {},
     "outputs": [
      {
       "output_type": "stream",
       "stream": "stdout",
       "text": [
        "[9 0 0 0 0 0 0 0 0 0 0]\n",
        "[9 1 0 0 0 0 0 0 0 0 0]\n",
        "[5 0 0 0 0 0 0 0 0 0 0]\n",
        "[5 0 0 0 0 0 0 0 0 0 0]\n",
        "[4 0 0 0 0 0 0 0 0 0 0]\n",
        "[4 0 0 0 0 0 0 0 0 0 0]\n",
        "[1 0 0 0 0 0 0 0 0 0 0]\n",
        "[1 0 0 0 0 0 0 0 0 0 0]\n"
       ]
      }
     ],
     "prompt_number": 162
    },
    {
     "cell_type": "code",
     "collapsed": false,
     "input": [
      "for strain in arange(population.shape[0]):\n",
      "    for load in arange(population.shape[1]):\n",
      "        if population[strain,load] > 0:\n",
      "            print population[strain,load]"
     ],
     "language": "python",
     "metadata": {},
     "outputs": [
      {
       "output_type": "stream",
       "stream": "stdout",
       "text": [
        "9\n",
        "1\n",
        "5\n",
        "4\n",
        "1\n"
       ]
      }
     ],
     "prompt_number": 163
    },
    {
     "cell_type": "code",
     "collapsed": false,
     "input": [
      "# twice as fast as the above\n",
      "for strain,load in zip(*population.nonzero()):\n",
      "    print population[strain,load]"
     ],
     "language": "python",
     "metadata": {},
     "outputs": [
      {
       "output_type": "stream",
       "stream": "stdout",
       "text": [
        "9\n",
        "1\n",
        "5\n",
        "4\n",
        "1\n"
       ]
      }
     ],
     "prompt_number": 164
    },
    {
     "cell_type": "code",
     "collapsed": false,
     "input": [
      "mutations = np.random.poisson(0.3*population[:3,:])\n",
      "print mutations"
     ],
     "language": "python",
     "metadata": {},
     "outputs": [
      {
       "output_type": "stream",
       "stream": "stdout",
       "text": [
        "[[5 1 0 0 0 0 0 0 0 0 0]\n",
        " [0 0 0 0 0 0 0 0 0 0 0]\n",
        " [2 0 0 0 0 0 0 0 0 0 0]]\n"
       ]
      }
     ],
     "prompt_number": 165
    },
    {
     "cell_type": "code",
     "collapsed": false,
     "input": [
      "print population\n",
      "for strain,load in zip(*mutations.nonzero()):\n",
      "    print \"strain\",strain,\"load\",load,population[strain,load], mutations[strain,load]\n",
      "    if strain > 0:\n",
      "        population[strain,load] -= mutations[strain,load]\n",
      "        population[3,load] += mutations[strain,load]\n",
      "        print population[3,load]\n",
      "    elif strain == 0:\n",
      "        # double mutations\n",
      "        for individual,num_mutations in enumerate(np.random.multinomial(mutations[strain,load], [1./population[strain,load]] * population[strain,load])):\n",
      "            print \"individual\",individual,\"num_mutations\",num_mutations\n",
      "            if num_mutations == 1:\n",
      "                new_strain = 1 + (individual % 2)\n",
      "                population[strain,load] -= 1\n",
      "                population[new_strain,load] += 1\n",
      "            elif num_mutations > 1:\n",
      "                population[strain,load] -= 1\n",
      "                population[3,load] += 1\n",
      "        print  population[3,load]\n",
      "print population"
     ],
     "language": "python",
     "metadata": {},
     "outputs": [
      {
       "output_type": "stream",
       "stream": "stdout",
       "text": [
        "[[9 1 0 0 0 0 0 0 0 0 0]\n",
        " [5 0 0 0 0 0 0 0 0 0 0]\n",
        " [4 0 0 0 0 0 0 0 0 0 0]\n",
        " [1 0 0 0 0 0 0 0 0 0 0]]\n",
        "strain 0 load 0 9 5\n",
        "individual 0 num_mutations 0\n",
        "individual 1 num_mutations 0\n",
        "individual 2 num_mutations 1\n",
        "individual 3 num_mutations 0\n",
        "individual 4 num_mutations 1\n",
        "individual 5 num_mutations 0\n",
        "individual 6 num_mutations 2\n",
        "individual 7 num_mutations 1\n",
        "individual 8 num_mutations 0\n",
        "2\n",
        "strain 0 load 1 1 1\n",
        "individual 0 num_mutations 1\n",
        "0\n",
        "strain 2 load 0 5 2\n",
        "4\n",
        "[[5 0 0 0 0 0 0 0 0 0 0]\n",
        " [7 1 0 0 0 0 0 0 0 0 0]\n",
        " [3 0 0 0 0 0 0 0 0 0 0]\n",
        " [4 0 0 0 0 0 0 0 0 0 0]]\n"
       ]
      }
     ],
     "prompt_number": 166
    },
    {
     "cell_type": "code",
     "collapsed": false,
     "input": [],
     "language": "python",
     "metadata": {},
     "outputs": [
      {
       "output_type": "pyout",
       "prompt_number": 104,
       "text": [
        "array([1, 0, 2, 0, 0, 0, 0, 0])"
       ]
      }
     ],
     "prompt_number": 104
    },
    {
     "cell_type": "code",
     "collapsed": false,
     "input": [],
     "language": "python",
     "metadata": {},
     "outputs": []
    }
   ],
   "metadata": {}
  }
 ]
}