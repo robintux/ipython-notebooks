{
 "metadata": {
  "name": "",
  "signature": "sha256:0241c6bf497cd06c7a478d1fe7df0038d6ed380247bd376b38419e8de9c5ae08"
 },
 "nbformat": 3,
 "nbformat_minor": 0,
 "worksheets": [
  {
   "cells": [
    {
     "cell_type": "code",
     "collapsed": false,
     "input": [
      "import sympy\n",
      "from sympy import __version__ as sympy_ver\n",
      "print \"sympy\", sympy_ver\n",
      "from sympy.interactive import printing\n",
      "printing.init_printing(use_latex=True)\n",
      "rcParams['font.size'] = 14\n",
      "rcParams['legend.fontsize'] = 14"
     ],
     "language": "python",
     "metadata": {},
     "outputs": [
      {
       "output_type": "stream",
       "stream": "stdout",
       "text": [
        "sympy 0.7.4.1\n"
       ]
      }
     ],
     "prompt_number": 199
    },
    {
     "cell_type": "markdown",
     "metadata": {},
     "source": [
      "# Approximating a mutation-selection balance distribution with heterogeneous selection coefficients using the averaging principle\n",
      "## Mathematical Models course\n",
      "## Yoav Ram, Spring 2014"
     ]
    },
    {
     "cell_type": "markdown",
     "metadata": {},
     "source": [
      "## Homogeneous model\n",
      "\n",
      "Consider an asexual infinite population. We focus on a single locus with two alleles, wildtype _a_ and mutant _A_ with frequencies _f_ and _q_ and fitness 1 and 1-_s_. Mutation is unidirectional from _a_ to _A_ with probability _U_.\n",
      "\n",
      "The change in frequency of_a_ from generation to generation is described by:\n",
      "$$\n",
      "\\bar{\\omega}(t) f(t+1) = f(t) (1-U) \n",
      "$$\n",
      "and \n",
      "$$\n",
      "\\bar{\\omega}(t) = f(t) + (1-f(t))(1-s)\n",
      "$$\n",
      "\n",
      "Taking the equilibrium values $f=lim f(t)$ and $\\bar{\\omega}=lim \\bar{\\omega}(t)$, this resolves to \n",
      "$$\n",
      "\\bar{\\omega} f = f (1-U) \\Rightarrow \\bar{\\omega} = 1-U\n",
      "$$\n",
      "and\n",
      "$$\n",
      "\\bar{\\omega}(1-f) = f U + (1-s)(1-f) \\Rightarrow \\\\\\\\\n",
      "(1-U)(1-f) = fU + (1-s)(1-f) \\Rightarrow \\\\\\\\\n",
      "1 - f - U + fU = fU + 1-f-s+fs \\Rightarrow \\\\\\\\\n",
      "U = s-fs \\Rightarrow \\\\\\\\\n",
      "U-s = -fs \\Rightarrow \\\\\\\\\n",
      "\\frac{s-U}{s} = f \\Rightarrow \\\\\\\\\n",
      "f = 1 - \\frac{U}{s}\n",
      "$$\n",
      "so that the equilibrium frequencies of the wildtype and the mutant are $1-\\frac{U}{s}$ and $\\frac{U}{s}$.\n",
      "\n",
      "However, in this formulation we only consider a single selective disadvantage _s_ for all mutant alleles."
     ]
    },
    {
     "cell_type": "markdown",
     "metadata": {},
     "source": [
      "## Heteregeneous model\n",
      "\n",
      "In the heterogeneous model we have _n_ different mutant alleles with fitness $0<1-s_i<1, 1\\le i \\le n$ and frequencies $f_i$, where $f_0$ is the frequency of the wildtype.\n",
      "The probability to mutate is still _U_, and there is an equal probability for each mutant allele.\n",
      "\n",
      "The equilibrium equation is then:\n",
      "\n",
      "$$\n",
      "\\bar{\\omega} f_0 = f_0 (1 - U) \\\\\\\\\n",
      "\\bar{\\omega} f_n = f_0 \\frac{U}{n} + (1-s_n)f_n , \\; \\forall n > 0 \\\\\\\\\n",
      "\\bar{\\omega} = f_0 + \\sum_{i=1}^{n} f_i (1-s_i) \\\\\\\\\n",
      "\\sum_{i=0}^{n} f_i = 1\n",
      "$$"
     ]
    },
    {
     "cell_type": "markdown",
     "metadata": {},
     "source": [
      "### Simple case: n=2\n",
      "\n",
      "The equations:\n",
      "$$\n",
      "\\bar{\\omega} f_0 = f_0 (1-U)  \\\\\\\\\n",
      "\\bar{\\omega} f_1 = f_0 \\frac{U}{2} + (1-s_1)f_1  \\\\\\\\\n",
      "\\bar{\\omega} f_2 = f_0 \\frac{U}{2} + (1-s_2)f_2  \\\\\\\\\n",
      "\\bar{\\omega} = f_0 + f_1(1-s_1) + (1-f_2) (1-s_2)\n",
      "$$\n",
      "or in matrix form, $\\bar{\\omega} f = Mf$, where $M$ is:\n",
      "\n",
      "\\begin{matrix}\n",
      "1-U & 0 & 0 \\\\\n",
      "U/2 & 1-s_1 & 0\\\\\n",
      "U/2 & 0 & 1-s_2\\\\\n",
      "\\end{matrix}\n",
      "\n",
      "From the equilibrium equation for $f_0$ we know that $\\bar{\\omega} = 1-U$.\n",
      "\n",
      "What is the corresponding right eigenvector, that is, the equilibrium frequencies $f_0, f_1, f_2$?"
     ]
    },
    {
     "cell_type": "markdown",
     "metadata": {},
     "source": [
      "$$\n",
      "(1-U)f_1 = \\frac{U}{2} f_0 + (1-s_1)f_1 \\Rightarrow \\\\\\\\\n",
      "(1-U)f_1 - (1-s_1)f_1= \\frac{U}{2} f_0 \\Rightarrow \\\\\\\\\n",
      "(s_1-U)f_1 = \\frac{U}{2} f_0 \\Rightarrow \\\\\\\\\n",
      "f_1 = \\frac{U}{2(s_1-U)} f_0\n",
      "$$\n",
      "\n",
      "Similarly,\n",
      "$$\n",
      "f_2 = \\frac{U}{2(s_2-U)} f_0\n",
      "$$\n",
      "\n",
      "Using the fact these are frequncies,\n",
      "$$\n",
      "f_0 (1 + \\frac{U}{2(s_1-U)} + \\frac{U}{2(s_2-U)} ) = 1 \\Rightarrow \\\\\\\\\n",
      "f_0 = \\frac{1}{1 + \\frac{U}{2(s_1-U)} + \\frac{U}{2(s_2-U)} }\n",
      "$$\n",
      "\n",
      "Looking at the denominator,\n",
      "$$\n",
      "1 + \\frac{U}{2(s_1-U)} + \\frac{U}{2(s_2-U)} = \\frac{2(s_1-U)(s_2-U) + U(s_2-U) + U(s_1-U)}{2(s_1-U)(s_2-U)} = \\\\\\\\\n",
      "\\frac{2(s_1 s_2 -Us_1 -Us_2 +U^2) + Us_2 + Us_1 - 2U^2}{2(s_1-U)(s_2-U)} = \\\\\\\\\n",
      "\\frac{s_1 s_2 - U \\frac{s_1 + s_2}{2}}{s_1 s_2 - U(s_1 + s_2) + U^2}\n",
      "$$\n",
      "\n",
      "Therefore,\n",
      "$$\n",
      "f_0 = \\frac{s_1 s_2 - U(s_1 + s_2) + U^2} {s_1 s_2 - U \\frac{s_1 + s_2}{2}} \\Rightarrow \\\\\\\\\n",
      "f_0 = 1 - U\\frac{\\frac{s_1 + s_2}{2} - U} {s_1 s_2 - U \\frac{s_1 + s_2}{2}}\n",
      "$$\n",
      "\n",
      "If $s=s_1=s_2$ then:\n",
      "$$\n",
      "f_0 = 1 - \\frac{U}{s}\\frac{s - U} {s - U} = 1 - \\frac{U}{s}\n",
      "$$\n",
      "as expected."
     ]
    },
    {
     "cell_type": "markdown",
     "metadata": {},
     "source": [
      "We will now solve using Sympy:"
     ]
    },
    {
     "cell_type": "code",
     "collapsed": false,
     "input": [
      "s1, s2, U = sympy.symbols(\"s1 s2 U\")\n",
      "subs = {U:1e-5, s1: 0.01, s2:0.05}"
     ],
     "language": "python",
     "metadata": {},
     "outputs": [],
     "prompt_number": 251
    },
    {
     "cell_type": "code",
     "collapsed": false,
     "input": [
      "M = sympy.Matrix([[(1-U),0,0],[U/2, 1-s1, 0],[U/2, 0, 1-s2]])\n",
      "M"
     ],
     "language": "python",
     "metadata": {},
     "outputs": [
      {
       "latex": [
        "$$\\left[\\begin{matrix}- U + 1 & 0 & 0\\\\\\frac{U}{2} & - s_{1} + 1 & 0\\\\\\frac{U}{2} & 0 & - s_{2} + 1\\end{matrix}\\right]$$"
       ],
       "metadata": {},
       "output_type": "pyout",
       "png": "[encoded data removed]",
       "prompt_number": 253,
       "text": [
        "\u23a1-U + 1     0        0   \u23a4\n",
        "\u23a2                        \u23a5\n",
        "\u23a2  U                     \u23a5\n",
        "\u23a2  \u2500     -s\u2081 + 1     0   \u23a5\n",
        "\u23a2  2                     \u23a5\n",
        "\u23a2                        \u23a5\n",
        "\u23a2  U                     \u23a5\n",
        "\u23a2  \u2500        0     -s\u2082 + 1\u23a5\n",
        "\u23a3  2                     \u23a6"
       ]
      }
     ],
     "prompt_number": 253
    },
    {
     "cell_type": "code",
     "collapsed": false,
     "input": [
      "M.eigenvals()"
     ],
     "language": "python",
     "metadata": {},
     "outputs": [
      {
       "latex": [
        "$$\\begin{Bmatrix}- U + 1 : 1, & - s_{1} + 1 : 1, & - s_{2} + 1 : 1\\end{Bmatrix}$$"
       ],
       "metadata": {},
       "output_type": "pyout",
       "png": "[encoded data removed]",
       "prompt_number": 256,
       "text": [
        "{-U + 1: 1, -s\u2081 + 1: 1, -s\u2082 + 1: 1}"
       ]
      }
     ],
     "prompt_number": 256
    },
    {
     "cell_type": "code",
     "collapsed": false,
     "input": [
      "v = M.eigenvects(simplify=True)\n",
      "for i in range(len(v)):\n",
      "    if v[i][0] == 1-U:\n",
      "        v = v[i]\n",
      "        break\n",
      "v = v[2][0]\n",
      "v"
     ],
     "language": "python",
     "metadata": {},
     "outputs": [
      {
       "latex": [
        "$$\\left[\\begin{matrix}- \\frac{1}{U} \\left(2 U - 2 s_{2}\\right)\\\\- \\frac{U - s_{2}}{- U + s_{1}}\\\\1\\end{matrix}\\right]$$"
       ],
       "metadata": {},
       "output_type": "pyout",
       "png": "[encoded data removed]",
       "prompt_number": 257,
       "text": [
        "\u23a1-2\u22c5(U - s\u2082) \u23a4\n",
        "\u23a2\u2500\u2500\u2500\u2500\u2500\u2500\u2500\u2500\u2500\u2500\u2500\u2500\u23a5\n",
        "\u23a2     U      \u23a5\n",
        "\u23a2            \u23a5\n",
        "\u23a2 -(U - s\u2082)  \u23a5\n",
        "\u23a2 \u2500\u2500\u2500\u2500\u2500\u2500\u2500\u2500\u2500\u2500 \u23a5\n",
        "\u23a2  -U + s\u2081   \u23a5\n",
        "\u23a2            \u23a5\n",
        "\u23a3     1      \u23a6"
       ]
      }
     ],
     "prompt_number": 257
    },
    {
     "cell_type": "code",
     "collapsed": false,
     "input": [
      "vx = v.subs(subs)\n",
      "vx /= array(vx).sum()\n",
      "vx"
     ],
     "language": "python",
     "metadata": {},
     "outputs": [
      {
       "latex": [
        "$$\\left[\\begin{matrix}0.999399839903942\\\\0.000500200120072043\\\\9.99599759855914 \\cdot 10^{-5}\\end{matrix}\\right]$$"
       ],
       "metadata": {},
       "output_type": "pyout",
       "png": "[encoded data removed]",
       "prompt_number": 258,
       "text": [
        "\u23a1 0.999399839903942  \u23a4\n",
        "\u23a2                    \u23a5\n",
        "\u23a20.000500200120072043\u23a5\n",
        "\u23a2                    \u23a5\n",
        "\u23a39.99599759855914e-5 \u23a6"
       ]
      }
     ],
     "prompt_number": 258
    },
    {
     "cell_type": "markdown",
     "metadata": {},
     "source": [
      "Compare to our own result\n",
      "$$\n",
      "f_0 = 1 - U\\frac{\\frac{s_1 + s_2}{2} - U} {s_1 s_2 - U \\frac{s_1 + s_2}{2}} \\\\\\\\\n",
      "f_1 = \\frac{U}{2(s_1-U)} f_0 \\\\\\\\\n",
      "f_2 = \\frac{U}{2(s_2-U)} f_0\n",
      "$$"
     ]
    },
    {
     "cell_type": "code",
     "collapsed": false,
     "input": [
      "avgs = (s1+s2)/2\n",
      "f0 = 1 - U*(avgs - U)/(s1*s2-U*avgs)\n",
      "f1 = U*f0/(2*(s1-U))\n",
      "f2 = U*f0/(2*(s2-U))\n",
      "f0,f1,f2"
     ],
     "language": "python",
     "metadata": {},
     "outputs": [
      {
       "latex": [
        "$$\\begin{pmatrix}- \\frac{U \\left(- U + \\frac{s_{1}}{2} + \\frac{s_{2}}{2}\\right)}{- U \\left(\\frac{s_{1}}{2} + \\frac{s_{2}}{2}\\right) + s_{1} s_{2}} + 1, & \\frac{U}{- 2 U + 2 s_{1}} \\left(- \\frac{U \\left(- U + \\frac{s_{1}}{2} + \\frac{s_{2}}{2}\\right)}{- U \\left(\\frac{s_{1}}{2} + \\frac{s_{2}}{2}\\right) + s_{1} s_{2}} + 1\\right), & \\frac{U}{- 2 U + 2 s_{2}} \\left(- \\frac{U \\left(- U + \\frac{s_{1}}{2} + \\frac{s_{2}}{2}\\right)}{- U \\left(\\frac{s_{1}}{2} + \\frac{s_{2}}{2}\\right) + s_{1} s_{2}} + 1\\right)\\end{pmatrix}$$"
       ],
       "metadata": {},
       "output_type": "pyout",
       "png": "[encoded data removed]",
       "prompt_number": 259,
       "text": [
        "\u239b                               \u239b       \u239b     s\u2081   s\u2082\u239e      \u239e    \u239b       \u239b    \n",
        "\u239c                               \u239c     U\u22c5\u239c-U + \u2500\u2500 + \u2500\u2500\u239f      \u239f    \u239c     U\u22c5\u239c-U +\n",
        "\u239c                               \u239c       \u239d     2    2 \u23a0      \u239f    \u239c       \u239d    \n",
        "\u239c                             U\u22c5\u239c- \u2500\u2500\u2500\u2500\u2500\u2500\u2500\u2500\u2500\u2500\u2500\u2500\u2500\u2500\u2500\u2500\u2500\u2500\u2500\u2500\u2500 + 1\u239f  U\u22c5\u239c- \u2500\u2500\u2500\u2500\u2500\u2500\u2500\u2500\u2500\u2500\n",
        "\u239c       \u239b     s\u2081   s\u2082\u239e          \u239c      \u239bs\u2081   s\u2082\u239e            \u239f    \u239c      \u239bs\u2081   \n",
        "\u239c     U\u22c5\u239c-U + \u2500\u2500 + \u2500\u2500\u239f          \u239c  - U\u22c5\u239c\u2500\u2500 + \u2500\u2500\u239f + s\u2081\u22c5s\u2082    \u239f    \u239c  - U\u22c5\u239c\u2500\u2500 + \n",
        "\u239c       \u239d     2    2 \u23a0          \u239d      \u239d2    2 \u23a0            \u23a0    \u239d      \u239d2    \n",
        "\u239c- \u2500\u2500\u2500\u2500\u2500\u2500\u2500\u2500\u2500\u2500\u2500\u2500\u2500\u2500\u2500\u2500\u2500\u2500\u2500\u2500\u2500 + 1, \u2500\u2500\u2500\u2500\u2500\u2500\u2500\u2500\u2500\u2500\u2500\u2500\u2500\u2500\u2500\u2500\u2500\u2500\u2500\u2500\u2500\u2500\u2500\u2500\u2500\u2500\u2500\u2500\u2500\u2500\u2500, \u2500\u2500\u2500\u2500\u2500\u2500\u2500\u2500\u2500\u2500\u2500\u2500\u2500\u2500\u2500\n",
        "\u239c      \u239bs\u2081   s\u2082\u239e                        -2\u22c5U + 2\u22c5s\u2081                      -2\u22c5U \n",
        "\u239c  - U\u22c5\u239c\u2500\u2500 + \u2500\u2500\u239f + s\u2081\u22c5s\u2082                                                      \n",
        "\u239d      \u239d2    2 \u23a0                                                              \n",
        "\n",
        " s\u2081   s\u2082\u239e      \u239e\u239e\n",
        " \u2500\u2500 + \u2500\u2500\u239f      \u239f\u239f\n",
        " 2    2 \u23a0      \u239f\u239f\n",
        "\u2500\u2500\u2500\u2500\u2500\u2500\u2500\u2500\u2500\u2500\u2500 + 1\u239f\u239f\n",
        "s\u2082\u239e            \u239f\u239f\n",
        "\u2500\u2500\u239f + s\u2081\u22c5s\u2082    \u239f\u239f\n",
        "2 \u23a0            \u23a0\u239f\n",
        "\u2500\u2500\u2500\u2500\u2500\u2500\u2500\u2500\u2500\u2500\u2500\u2500\u2500\u2500\u2500\u2500\u239f\n",
        "+ 2\u22c5s\u2082          \u239f\n",
        "                \u239f\n",
        "                \u23a0"
       ]
      }
     ],
     "prompt_number": 259
    },
    {
     "cell_type": "code",
     "collapsed": false,
     "input": [
      "print [f.subs(subs) for f in (f0,f1,f2)]\n",
      "print vx.tolist()"
     ],
     "language": "python",
     "metadata": {},
     "outputs": [
      {
       "output_type": "stream",
       "stream": "stdout",
       "text": [
        "[0.999399839903942, 0.000500200120072043, 9.99599759855914e-5]\n",
        "[[0.999399839903942], [0.000500200120072043], [9.99599759855914e-5]]\n"
       ]
      }
     ],
     "prompt_number": 260
    },
    {
     "cell_type": "markdown",
     "metadata": {},
     "source": [
      "So we have truly found the correct answer of the _n_=2 heterogenous model.\n",
      "\n",
      "What if we compare this to the homogenous result that uses the average value of $s_i$?"
     ]
    },
    {
     "cell_type": "code",
     "collapsed": false,
     "input": [
      "s = (s1 + s2)/2\n",
      "h0 = 1-U/s\n",
      "h1 = U/(2*s)\n",
      "\n",
      "print \"h_0\", h0.subs(subs), \"f_0\", f0.subs(subs)\n",
      "print \"h_1\", h1.subs(subs), \"f_1\", f1.subs(subs)\n",
      "print \"h_2\", h1.subs(subs), \"f_2\", f2.subs(subs)\n",
      "max_error = max((h0-f0).subs(subs),(h1-f1).subs(subs),(h1-f2).subs(subs))\n",
      "print \"max error\", max_error\n",
      "heterogeneity = max((abs(s1-s)/s).subs(subs), (abs(s2-s)/s).subs(subs))\n",
      "print \"heterogeneity \", heterogeneity\n",
      "print \"heterogeneity^2\", heterogeneity**2"
     ],
     "language": "python",
     "metadata": {},
     "outputs": [
      {
       "output_type": "stream",
       "stream": "stdout",
       "text": [
        "h_0 0.999666666666667 f_0 0.999399839903942\n",
        "h_1 0.000166666666666667 f_1 0.000500200120072043\n",
        "h_2 0.000166666666666667 f_2 9.99599759855914e-5\n",
        "max error 0.000266826762724301\n",
        "heterogeneity  0.666666666666667\n",
        "heterogeneity^2 0.444444444444444\n"
       ]
      }
     ],
     "prompt_number": 261
    },
    {
     "cell_type": "markdown",
     "metadata": {},
     "source": [
      "So indeed the error is bounded by the square of the heterogeneity.\n",
      "\n",
      "Let's draw a plot."
     ]
    },
    {
     "cell_type": "code",
     "collapsed": false,
     "input": [
      "ss = linspace(0.001,0.1,50)\n",
      "errs0 = [abs((h0-f0).subs({s1:s1x, s2: 0.01, U:1e-5})) for s1x in ss]\n",
      "errs1 = [abs((h1-f1).subs({s1:s1x, s2: 0.01, U:1e-5})) for s1x in ss]\n",
      "errs2 = [abs((h1-f1).subs({s1:s1x, s2: 0.01, U:1e-5})) for s1x in ss]\n",
      "hets = [(max((abs(s1-s)/s).subs({s1:s1x, s2: 0.01, U:1e-5}), (abs(s2-s)/s).subs({s1:s1x, s2: 0.01, U:1e-5})))**2 for s1x in ss]"
     ],
     "language": "python",
     "metadata": {},
     "outputs": [],
     "prompt_number": 262
    },
    {
     "cell_type": "code",
     "collapsed": false,
     "input": [
      "fig, (ax0,ax1,ax2) = subplots(3,1,sharex=True, sharey=True, figsize=(6,12))\n",
      "\n",
      "ax0.plot(ss, errs0, label=\"|error|\")\n",
      "ax0.plot(ss, hets, label=r\"$\\epsilon ^2$\", linestyle=\"dashed\")\n",
      "ax0.axvline(x=0.01, color=\"k\", linestyle=\"dotted\")\n",
      "ax0.set_title(r\"$f_0$\", fontsize=20)\n",
      "\n",
      "ax1.plot(ss, errs1, label=\"|error|\")\n",
      "ax1.plot(ss, hets, label=r\"$\\epsilon ^2$\", linestyle=\"dashed\")\n",
      "ax1.axvline(x=0.01, color=\"k\", linestyle=\"dotted\")\n",
      "ax1.set_title(r\"$f_1$\", fontsize=20)\n",
      "\n",
      "ax2.plot(ss, errs2, label=\"|error|\")\n",
      "ax2.plot(ss, hets, label=r\"$\\epsilon ^2$\", linestyle=\"dashed\")\n",
      "ax2.axvline(x=0.01, color=\"k\", linestyle=\"dotted\")\n",
      "ax2.text(0.0085, 0.5e-6, r\"$s_2$\")\n",
      "ax2.set_title(r\"$f_2$\", fontsize=20)\n",
      "\n",
      "ax0.set_xlim(0,0.1)\n",
      "ax0.set_ylim(1e-6,1)\n",
      "#ax0.set_yscale(\"log\")\n",
      "ax1.legend(loc=5)\n",
      "ax2.set_xlabel(r\"$s_1$\", fontsize=20)\n",
      "plt.setp((ax0,ax1,ax2), yscale='log')\n",
      "for a in (ax0,ax1,ax2):\n",
      "    a.grid(False, 'minor')\n",
      "fig.text(0,0.55, r\"|error| / $\\epsilon ^2$\", rotation='vertical', fontsize=20);"
     ],
     "language": "python",
     "metadata": {},
     "outputs": [
      {
       "metadata": {},
       "output_type": "display_data",
       "png": "[encoded data removed]",
       "text": [
        "<matplotlib.figure.Figure at 0x10596ba8>"
       ]
      }
     ],
     "prompt_number": 263
    },
    {
     "cell_type": "markdown",
     "metadata": {},
     "source": [
      "We can also derive the error, for example, of $f_0$ (superscripts _H_ and _F_ are for the homogenous and heterogenous models), taking the algebric mean $s=\\bar{s}=\\frac{s_1 + s_2}{2}$:\n",
      "\n",
      "$$\n",
      "f^H_0 = 1-\\frac{U}{s} \\\\\\\\\n",
      "f^F_0 = 1 - U\\frac{\\frac{s_1 + s_2}{2} - U} {s_1 s_2 - U \\frac{s_1 + s_2}{2}} \\\\\\\\\n",
      "\\Rightarrow \\\\\\\\\n",
      "f^H_0 - f^F_0 = 1 - \\frac{U}{s} - 1 + U\\frac{\\frac{s_1 + s_2}{2} - U} {s_1 s_2 - U \\frac{s_1 + s_2}{2}} = \\\\\\\\\n",
      "U\\frac{s - U} {s_1 s_2 - U s} - \\frac{U}{s} = \\\\\\\\\n",
      "U (\\frac{s - U} {s_1 s_2 - U s} - \\frac{1}{s}) = \n",
      "\\frac{U}{s} (\\frac{s - U} { \\frac{s_1 s_2}{s} - U} - 1) = \\\\\\\\\n",
      "\\frac{U}{s} (\\frac{s - U - \\frac{s_1 s_2}{s} + U} { \\frac{s_1 s_2}{s} - U} ) = \n",
      "\\frac{U}{s} (\\frac{s - \\frac{s_1 s_2}{s}} { \\frac{s_1 s_2}{s} - U} ) \\Rightarrow \\\\\\\\\n",
      "f^F_0 - f^H_0 = \\frac{U}{s} (\\frac{\\frac{s_1 s_2}{s} - s} { \\frac{s_1 s_2}{s} - U} )\n",
      "$$\n",
      "Denoting the geometric mean $S=\\frac{s_1 s_2}{s}$:\n",
      "$$\n",
      "f^F_0 - f^H_0 = \\frac{U}{s} (\\frac{S - s} {S - U} )\n",
      "$$"
     ]
    },
    {
     "cell_type": "markdown",
     "metadata": {},
     "source": [
      "While the heterogeneity is, assuming $s_1 > s_2$:\n",
      "$$\n",
      "\\epsilon = \\frac{max(s1-\\frac{s1+s2}{2},s2-\\frac{s1+s2}{2})}{\\frac{s1+s2}{2}} = \\\\\\\\ \n",
      "\\frac{\\frac{s1-s2}{2}}{\\frac{s1+s2}{2}} = \n",
      "\\frac{s1-s2}{s1+s2} = \\\\\\\\\n",
      "\\frac{s1-s2}{s1+s2} \\Rightarrow \\\\\\\\\n",
      "\\epsilon^2 = \\frac{s_1^2-s_2^2}{s_1^2 + s_2^2 + 2 s_1 s_2} = \\frac{s_1^2-s_2^2}{s_1^2 + s_2^2 + 2 s S}\n",
      "$$\n"
     ]
    },
    {
     "cell_type": "markdown",
     "metadata": {},
     "source": [
      "## General case: _n_ mutant alleles\n",
      "\n",
      "The transition matrix is \n",
      "$$\n",
      "M = \n",
      "\\begin{matrix}\n",
      "1-U & 0 & 0 & ... & 0 \\\\\n",
      "U/n & 1-s_1 & 0 & ... & 0\\\\\n",
      "U/n & 0 & 1-s_2 & ... & 0\\\\\n",
      "... & ... & ... & ... & ...\\\\\n",
      "U/n & 0 & 0 & ... &1-s_n\\\\\n",
      "\\end{matrix}\n",
      "$$\n",
      "\n",
      "and the equilibrium equation is\n",
      "$$\n",
      "\\bar{\\omega}f = Mf\n",
      "$$\n",
      "where the mean fitness at equilibrium, as before, is $\\bar{\\omega}=1-U$."
     ]
    },
    {
     "cell_type": "code",
     "collapsed": false,
     "input": [
      "n = 5\n",
      "s = sympy.symbols('s1:'+str(n+1))\n",
      "U = sympy.symbols('U')"
     ],
     "language": "python",
     "metadata": {},
     "outputs": [],
     "prompt_number": 264
    },
    {
     "cell_type": "code",
     "collapsed": false,
     "input": [
      "subs5 = {U:5e-4, s[0]:5e-2, s[1]:2.5e-2, s[2]:2.5e-2, s[3]:4e-2, s[4]:1e-2}\n",
      "print mean(s).subs(subs5)\n",
      "print ((s1+s2)/2).subs(subs)"
     ],
     "language": "python",
     "metadata": {},
     "outputs": [
      {
       "output_type": "stream",
       "stream": "stdout",
       "text": [
        "0.0300000000000000\n",
        "0.0300000000000000\n"
       ]
      }
     ],
     "prompt_number": 292
    },
    {
     "cell_type": "code",
     "collapsed": false,
     "input": [
      "M = diag(1-array([U]+list(s)))\n",
      "M[1:,0] = U/n\n",
      "M = sympy.Matrix(M)\n",
      "M"
     ],
     "language": "python",
     "metadata": {},
     "outputs": [
      {
       "latex": [
        "$$\\left[\\begin{matrix}- U + 1 & 0 & 0 & 0 & 0 & 0\\\\\\frac{U}{5} & - s_{1} + 1 & 0 & 0 & 0 & 0\\\\\\frac{U}{5} & 0 & - s_{2} + 1 & 0 & 0 & 0\\\\\\frac{U}{5} & 0 & 0 & - s_{3} + 1 & 0 & 0\\\\\\frac{U}{5} & 0 & 0 & 0 & - s_{4} + 1 & 0\\\\\\frac{U}{5} & 0 & 0 & 0 & 0 & - s_{5} + 1\\end{matrix}\\right]$$"
       ],
       "metadata": {},
       "output_type": "pyout",
       "png": "[encoded data removed]",
       "prompt_number": 282,
       "text": [
        "\u23a1-U + 1     0        0        0        0        0   \u23a4\n",
        "\u23a2                                                   \u23a5\n",
        "\u23a2  U                                                \u23a5\n",
        "\u23a2  \u2500     -s\u2081 + 1     0        0        0        0   \u23a5\n",
        "\u23a2  5                                                \u23a5\n",
        "\u23a2                                                   \u23a5\n",
        "\u23a2  U                                                \u23a5\n",
        "\u23a2  \u2500        0     -s\u2082 + 1     0        0        0   \u23a5\n",
        "\u23a2  5                                                \u23a5\n",
        "\u23a2                                                   \u23a5\n",
        "\u23a2  U                                                \u23a5\n",
        "\u23a2  \u2500        0        0     -s\u2083 + 1     0        0   \u23a5\n",
        "\u23a2  5                                                \u23a5\n",
        "\u23a2                                                   \u23a5\n",
        "\u23a2  U                                                \u23a5\n",
        "\u23a2  \u2500        0        0        0     -s\u2084 + 1     0   \u23a5\n",
        "\u23a2  5                                                \u23a5\n",
        "\u23a2                                                   \u23a5\n",
        "\u23a2  U                                                \u23a5\n",
        "\u23a2  \u2500        0        0        0        0     -s\u2085 + 1\u23a5\n",
        "\u23a3  5                                                \u23a6"
       ]
      }
     ],
     "prompt_number": 282
    },
    {
     "cell_type": "code",
     "collapsed": false,
     "input": [
      "M.eigenvals()"
     ],
     "language": "python",
     "metadata": {},
     "outputs": [
      {
       "latex": [
        "$$\\begin{Bmatrix}- U + 1 : 1, & - s_{1} + 1 : 1, & - s_{2} + 1 : 1, & - s_{3} + 1 : 1, & - s_{4} + 1 : 1, & - s_{5} + 1 : 1\\end{Bmatrix}$$"
       ],
       "metadata": {},
       "output_type": "pyout",
       "png": "[encoded data removed]",
       "prompt_number": 283,
       "text": [
        "{-U + 1: 1, -s\u2081 + 1: 1, -s\u2082 + 1: 1, -s\u2083 + 1: 1, -s\u2084 + 1: 1, -s\u2085 + 1: 1}"
       ]
      }
     ],
     "prompt_number": 283
    },
    {
     "cell_type": "code",
     "collapsed": false,
     "input": [
      "v = M.eigenvects(simplify=True)\n",
      "for i in range(len(v)):\n",
      "    if v[i][0] == 1-U:\n",
      "        v = v[i]\n",
      "        break\n",
      "v = v[2][0]\n",
      "v"
     ],
     "language": "python",
     "metadata": {},
     "outputs": [
      {
       "latex": [
        "$$\\left[\\begin{matrix}- \\frac{1}{U} \\left(5 U - 5 s_{5}\\right)\\\\\\frac{\\left(U - s_{2}\\right) \\left(U - s_{3}\\right) \\left(U - s_{4}\\right) \\left(U - s_{5}\\right)}{\\left(- U + s_{1}\\right) \\left(- U + s_{2}\\right) \\left(- U + s_{3}\\right) \\left(- U + s_{4}\\right)}\\\\- \\frac{\\left(U - s_{3}\\right) \\left(U - s_{4}\\right) \\left(U - s_{5}\\right)}{\\left(- U + s_{2}\\right) \\left(- U + s_{3}\\right) \\left(- U + s_{4}\\right)}\\\\\\frac{\\left(U - s_{4}\\right) \\left(U - s_{5}\\right)}{\\left(- U + s_{3}\\right) \\left(- U + s_{4}\\right)}\\\\- \\frac{U - s_{5}}{- U + s_{4}}\\\\1\\end{matrix}\\right]$$"
       ],
       "metadata": {},
       "output_type": "pyout",
       "png": "[encoded data removed]",
       "prompt_number": 284,
       "text": [
        "\u23a1             -5\u22c5(U - s\u2085)               \u23a4\n",
        "\u23a2             \u2500\u2500\u2500\u2500\u2500\u2500\u2500\u2500\u2500\u2500\u2500\u2500              \u23a5\n",
        "\u23a2                  U                    \u23a5\n",
        "\u23a2                                       \u23a5\n",
        "\u23a2  (U - s\u2082)\u22c5(U - s\u2083)\u22c5(U - s\u2084)\u22c5(U - s\u2085)  \u23a5\n",
        "\u23a2\u2500\u2500\u2500\u2500\u2500\u2500\u2500\u2500\u2500\u2500\u2500\u2500\u2500\u2500\u2500\u2500\u2500\u2500\u2500\u2500\u2500\u2500\u2500\u2500\u2500\u2500\u2500\u2500\u2500\u2500\u2500\u2500\u2500\u2500\u2500\u2500\u2500\u2500\u2500\u23a5\n",
        "\u23a2(-U + s\u2081)\u22c5(-U + s\u2082)\u22c5(-U + s\u2083)\u22c5(-U + s\u2084)\u23a5\n",
        "\u23a2                                       \u23a5\n",
        "\u23a2      -(U - s\u2083)\u22c5(U - s\u2084)\u22c5(U - s\u2085)      \u23a5\n",
        "\u23a2     \u2500\u2500\u2500\u2500\u2500\u2500\u2500\u2500\u2500\u2500\u2500\u2500\u2500\u2500\u2500\u2500\u2500\u2500\u2500\u2500\u2500\u2500\u2500\u2500\u2500\u2500\u2500\u2500\u2500     \u23a5\n",
        "\u23a2     (-U + s\u2082)\u22c5(-U + s\u2083)\u22c5(-U + s\u2084)     \u23a5\n",
        "\u23a2                                       \u23a5\n",
        "\u23a2           (U - s\u2084)\u22c5(U - s\u2085)           \u23a5\n",
        "\u23a2          \u2500\u2500\u2500\u2500\u2500\u2500\u2500\u2500\u2500\u2500\u2500\u2500\u2500\u2500\u2500\u2500\u2500\u2500\u2500          \u23a5\n",
        "\u23a2          (-U + s\u2083)\u22c5(-U + s\u2084)          \u23a5\n",
        "\u23a2                                       \u23a5\n",
        "\u23a2              -(U - s\u2085)                \u23a5\n",
        "\u23a2              \u2500\u2500\u2500\u2500\u2500\u2500\u2500\u2500\u2500\u2500               \u23a5\n",
        "\u23a2               -U + s\u2084                 \u23a5\n",
        "\u23a2                                       \u23a5\n",
        "\u23a3                   1                   \u23a6"
       ]
      }
     ],
     "prompt_number": 284
    },
    {
     "cell_type": "code",
     "collapsed": false,
     "input": [
      "vx = v.subs(subs5)\n",
      "vx /= array(vx).sum()\n",
      "vx"
     ],
     "language": "python",
     "metadata": {},
     "outputs": [
      {
       "latex": [
        "$$\\left[\\begin{matrix}0.97728646628853\\\\0.00197431609351218\\\\0.0102872259609319\\\\0.00398892435219808\\\\0.00247414295262919\\\\0.00398892435219808\\end{matrix}\\right]$$"
       ],
       "metadata": {},
       "output_type": "pyout",
       "png": "[encoded data removed]",
       "prompt_number": 285,
       "text": [
        "\u23a1 0.97728646628853  \u23a4\n",
        "\u23a2                   \u23a5\n",
        "\u23a20.00197431609351218\u23a5\n",
        "\u23a2                   \u23a5\n",
        "\u23a20.0102872259609319 \u23a5\n",
        "\u23a2                   \u23a5\n",
        "\u23a20.00398892435219808\u23a5\n",
        "\u23a2                   \u23a5\n",
        "\u23a20.00247414295262919\u23a5\n",
        "\u23a2                   \u23a5\n",
        "\u23a30.00398892435219808\u23a6"
       ]
      }
     ],
     "prompt_number": 285
    },
    {
     "cell_type": "code",
     "collapsed": false,
     "input": [
      "(max((s[0]-sum(s)/n).subs(subs5),(s[-1]-sum(s)/n).subs(subs5))/(sum(s)/n).subs(subs5))**2"
     ],
     "language": "python",
     "metadata": {},
     "outputs": [
      {
       "latex": [
        "$$0.444444444444444$$"
       ],
       "metadata": {},
       "output_type": "pyout",
       "png": "[encoded data removed]",
       "prompt_number": 328,
       "text": [
        "0.444444444444444"
       ]
      }
     ],
     "prompt_number": 328
    },
    {
     "cell_type": "code",
     "collapsed": false,
     "input": [
      "max([abs(vx[0]-1-(U/(sum(s)/n)).subs(subs5))] + abs(array(vx[1:])-(U/(sum(s))).subs(subs5)).tolist())"
     ],
     "language": "python",
     "metadata": {},
     "outputs": [
      {
       "latex": [
        "$$0.0393802003781362$$"
       ],
       "metadata": {},
       "output_type": "pyout",
       "png": "[encoded data removed]",
       "prompt_number": 326,
       "text": [
        "0.0393802003781362"
       ]
      }
     ],
     "prompt_number": 326
    },
    {
     "cell_type": "code",
     "collapsed": false,
     "input": [],
     "language": "python",
     "metadata": {},
     "outputs": []
    }
   ],
   "metadata": {}
  }
 ]
}