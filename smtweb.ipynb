{
 "metadata": {
  "name": "smtweb"
 },
 "nbformat": 3,
 "nbformat_minor": 0,
 "worksheets": [
  {
   "cells": [
    {
     "cell_type": "markdown",
     "metadata": {},
     "source": [
      "# 20/1/2013\n",
      "Trying to figure how to run `smtweb` on `0.0.0.0` instad of `127.0.0.1`.\n",
      "\n",
      "`smtweb` python script in `c:\\python27\\scripts` has this code:\n",
      "\n",
      "```\n",
      "from django.core import management\n",
      "...\n",
      "management.call_command('runserver', options.port, use_reloader=False)\n",
      "```"
     ]
    },
    {
     "cell_type": "code",
     "collapsed": false,
     "input": [
      "from django.core import management"
     ],
     "language": "python",
     "metadata": {},
     "outputs": [],
     "prompt_number": 1
    },
    {
     "cell_type": "code",
     "collapsed": false,
     "input": [
      "management.get_commands()['runserver']"
     ],
     "language": "python",
     "metadata": {},
     "outputs": [
      {
       "output_type": "pyout",
       "prompt_number": 8,
       "text": [
        "'django.core'"
       ]
      }
     ],
     "prompt_number": 8
    },
    {
     "cell_type": "markdown",
     "metadata": {},
     "source": [
      "Then I found that in `C:\\Python27\\Lib\\site-packages\\django\\core\\management\\commands` there is a file `runserver.py`.\n",
      "\n",
      "Based on this file I tried to change `smtweb` to\n",
      "\n",
      "```\n",
      "    management.call_command('runserver', '0.0.0.0:8000', use_reloader=False)\n",
      "```"
     ]
    },
    {
     "cell_type": "markdown",
     "metadata": {},
     "source": [
      "This actually works."
     ]
    },
    {
     "cell_type": "code",
     "collapsed": false,
     "input": [],
     "language": "python",
     "metadata": {},
     "outputs": []
    }
   ],
   "metadata": {}
  }
 ]
}