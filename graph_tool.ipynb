{
 "metadata": {
  "name": "",
  "signature": "sha256:ab2814542b3fdad6fa2118fd29dfeca0572f33026b3e38c1f6ae7fc23a791ab4"
 },
 "nbformat": 3,
 "nbformat_minor": 0,
 "worksheets": [
  {
   "cells": [
    {
     "cell_type": "markdown",
     "metadata": {},
     "source": [
      "Using tutorial from [graph-tool website](http://graph-tool.skewed.de/static/doc/quickstart.html) "
     ]
    },
    {
     "cell_type": "code",
     "collapsed": false,
     "input": [
      "from graph_tool.all import *\n",
      "np.set_printoptions(linewidth=80)\n",
      "np.set_printoptions(precision=3)\n",
      "from scipy.stats import poisson"
     ],
     "language": "python",
     "metadata": {},
     "outputs": [],
     "prompt_number": 1
    },
    {
     "cell_type": "code",
     "collapsed": false,
     "input": [
      "u = 0.003\n",
      "g = 10\n",
      "mutation_rvs = poisson([u]*g)\n",
      "m = np.diag(mutation_rvs.pmf(0))\n",
      "for k in range(1, g):\n",
      "    m += np.diag(mutation_rvs.pmf(k)[:-k],-k)\n",
      "# absorb further mutations in the last class\n",
      "for j in range(g):\n",
      "    m[-1,j] = 1 - mutation_rvs.cdf(g - 2 - j)[j]\n",
      "print m"
     ],
     "language": "python",
     "metadata": {},
     "outputs": [
      {
       "output_type": "stream",
       "stream": "stdout",
       "text": [
        "[[  9.970e-01   0.000e+00   0.000e+00   0.000e+00   0.000e+00   0.000e+00\n",
        "    0.000e+00   0.000e+00   0.000e+00   0.000e+00]\n",
        " [  2.991e-03   9.970e-01   0.000e+00   0.000e+00   0.000e+00   0.000e+00\n",
        "    0.000e+00   0.000e+00   0.000e+00   0.000e+00]\n",
        " [  4.487e-06   2.991e-03   9.970e-01   0.000e+00   0.000e+00   0.000e+00\n",
        "    0.000e+00   0.000e+00   0.000e+00   0.000e+00]\n",
        " [  4.487e-09   4.487e-06   2.991e-03   9.970e-01   0.000e+00   0.000e+00\n",
        "    0.000e+00   0.000e+00   0.000e+00   0.000e+00]\n",
        " [  3.365e-12   4.487e-09   4.487e-06   2.991e-03   9.970e-01   0.000e+00\n",
        "    0.000e+00   0.000e+00   0.000e+00   0.000e+00]\n",
        " [  2.019e-15   3.365e-12   4.487e-09   4.487e-06   2.991e-03   9.970e-01\n",
        "    0.000e+00   0.000e+00   0.000e+00   0.000e+00]\n",
        " [  1.009e-18   2.019e-15   3.365e-12   4.487e-09   4.487e-06   2.991e-03\n",
        "    9.970e-01   0.000e+00   0.000e+00   0.000e+00]\n",
        " [  4.326e-22   1.009e-18   2.019e-15   3.365e-12   4.487e-09   4.487e-06\n",
        "    2.991e-03   9.970e-01   0.000e+00   0.000e+00]\n",
        " [  1.622e-25   4.326e-22   1.009e-18   2.019e-15   3.365e-12   4.487e-09\n",
        "    4.487e-06   2.991e-03   9.970e-01   0.000e+00]\n",
        " [  0.000e+00   0.000e+00   0.000e+00   0.000e+00   1.998e-15   3.367e-12\n",
        "    4.490e-09   4.491e-06   2.996e-03   1.000e+00]]\n"
       ]
      }
     ],
     "prompt_number": 12
    },
    {
     "cell_type": "code",
     "collapsed": false,
     "input": [
      "vs = {}\n",
      "graph = Graph()\n",
      "v_load = graph.new_vertex_property(\"int\")\n",
      "e_rate = graph.new_edge_property(\"double\")\n",
      "for i in range(m.shape[0]):\n",
      "    vert = graph.add_vertex()\n",
      "    v_load[vert] = i\n",
      "    vs[i] = vert\n",
      "for i in range(m.shape[0]):\n",
      "    for j in range(m.shape[1]):\n",
      "        if m[i,j]:            \n",
      "            edge = graph.add_edge(vs[i], vs[j])   \n",
      "            e_rate[edge] = m[i,j]"
     ],
     "language": "python",
     "metadata": {},
     "outputs": [],
     "prompt_number": 14
    },
    {
     "cell_type": "code",
     "collapsed": false,
     "input": [
      "graph.vertex_properties[\"load\"] = v_load\n",
      "graph.edge_properties[\"rate\"] = e_rate"
     ],
     "language": "python",
     "metadata": {},
     "outputs": [],
     "prompt_number": 16
    },
    {
     "cell_type": "code",
     "collapsed": false,
     "input": [
      "pos = sfdp_layout(graph, cooling_step=0.99)\n",
      "graph_draw(graph, pos, output_size=(1000, 1000), vertex_color=v_load,\n",
      "           vertex_fill_color=v_load, vertex_size=10, edge_pen_width=1.5)"
     ],
     "language": "python",
     "metadata": {},
     "outputs": [
      {
       "metadata": {},
       "output_type": "pyout",
       "prompt_number": 20,
       "text": [
        "(<PropertyMap object with key type 'Vertex' and value type 'vector<double>', for Graph 0x5674bd0, at 0x5669b10>,\n",
        " <PropertyMap object with key type 'Vertex' and value type 'bool', for Graph 0x5674bd0, at 0x5568fd0>)"
       ]
      }
     ],
     "prompt_number": 20
    },
    {
     "cell_type": "code",
     "collapsed": false,
     "input": [],
     "language": "python",
     "metadata": {},
     "outputs": []
    }
   ],
   "metadata": {}
  }
 ]
}