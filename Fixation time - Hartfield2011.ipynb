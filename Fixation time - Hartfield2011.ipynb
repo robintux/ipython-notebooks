{
 "metadata": {
  "name": "",
  "signature": "sha256:0396c69181c98f06a19904ed394ff399504124c377528438e0189332bdfa7d54"
 },
 "nbformat": 3,
 "nbformat_minor": 0,
 "worksheets": [
  {
   "cells": [
    {
     "cell_type": "markdown",
     "metadata": {},
     "source": [
      "Based on Hartfield & Otto 2011 which cite Haldane 1924:\n",
      "\n",
      "> Once established, the frequency of A1B1 can be modeled by the standard deterministic equation for haploid selection (Haldane, 1924): $p(t) = \\frac{p_0 (1+s)^t}{p_0 (1+s)^t +1 - p_0}$"
     ]
    },
    {
     "cell_type": "code",
     "collapsed": false,
     "input": [
      "p = lambda t: (p0*(1+s)**t)/(p0*(1+s)**t + 1 - p0)"
     ],
     "language": "python",
     "metadata": {},
     "outputs": [],
     "prompt_number": 1
    },
    {
     "cell_type": "markdown",
     "metadata": {},
     "source": [
      "### Simulation:"
     ]
    },
    {
     "cell_type": "code",
     "collapsed": false,
     "input": [
      "N = 1e6\n",
      "p0 = 1./N\n",
      "s = 0.01"
     ],
     "language": "python",
     "metadata": {},
     "outputs": [],
     "prompt_number": 30
    },
    {
     "cell_type": "code",
     "collapsed": false,
     "input": [
      "f = [array([(N-1.)/N, 1./N])]\n",
      "tick = 0\n",
      "S = array([1,1+s])\n",
      "while f[-1][1] < 0.99:\n",
      "    tick += 1\n",
      "    f.append(f[-1] * S)\n",
      "    f[-1] /= f[-1].sum()\n",
      "    if tick%100 == 0: print tick,f[-1][1]\n",
      "f = array(f)"
     ],
     "language": "python",
     "metadata": {},
     "outputs": [
      {
       "output_type": "stream",
       "stream": "stdout",
       "text": [
        "100 2.70480921823e-06\n",
        "200 7.31597164402e-06\n",
        "300 1.9788094474e-05\n",
        "400 5.35213060489e-05\n",
        "500 0.000144751961042\n",
        "600 0.000391430510741\n",
        "700 0.00105804061112\n",
        "800 0.00285665015929\n",
        "900 0.00768925972585\n",
        "1000 0.0205289075973\n",
        "1100 0.0536492582778\n",
        "1200 0.132951267261\n",
        "1300 0.293161315424\n",
        "1400 0.528706804292\n",
        "1500 0.752126635962\n",
        "1600 0.891390120945\n",
        "1700 0.956894926767\n",
        "1800 0.983618508193\n"
       ]
      }
     ],
     "prompt_number": 31
    },
    {
     "cell_type": "code",
     "collapsed": false,
     "input": [
      "t = arange(0,tick+1)\n",
      "y = np.vectorize(p)(t)"
     ],
     "language": "python",
     "metadata": {},
     "outputs": [],
     "prompt_number": 32
    },
    {
     "cell_type": "code",
     "collapsed": false,
     "input": [
      "plot(t, y, 'b-', lw=1)\n",
      "plot(t, f[:,1], 'r--', lw=3)"
     ],
     "language": "python",
     "metadata": {},
     "outputs": [
      {
       "metadata": {},
       "output_type": "pyout",
       "prompt_number": 37,
       "text": [
        "[<matplotlib.lines.Line2D at 0x4fd4b10>]"
       ]
      },
      {
       "metadata": {},
       "output_type": "display_data",
       "png": "[encoded data removed]",
       "text": [
        "<matplotlib.figure.Figure at 0x5946ed0>"
       ]
      }
     ],
     "prompt_number": 37
    },
    {
     "cell_type": "code",
     "collapsed": false,
     "input": [
      "Tfix = lambda N,s: -2*log(N)/log(1-s)"
     ],
     "language": "python",
     "metadata": {},
     "outputs": [],
     "prompt_number": 38
    },
    {
     "cell_type": "code",
     "collapsed": false,
     "input": [
      "N = logspace(3,8,50)\n",
      "T = Tfix(N,s)"
     ],
     "language": "python",
     "metadata": {},
     "outputs": [],
     "prompt_number": 40
    },
    {
     "cell_type": "code",
     "collapsed": false,
     "input": [
      "plot(N,T)\n",
      "xscale('log')\n",
      "grid(False,'minor')"
     ],
     "language": "python",
     "metadata": {},
     "outputs": [
      {
       "metadata": {},
       "output_type": "display_data",
       "png": "[encoded data removed]",
       "text": [
        "<matplotlib.figure.Figure at 0x64ddc90>"
       ]
      }
     ],
     "prompt_number": 47
    },
    {
     "cell_type": "code",
     "collapsed": false,
     "input": [],
     "language": "python",
     "metadata": {},
     "outputs": []
    }
   ],
   "metadata": {}
  }
 ]
}