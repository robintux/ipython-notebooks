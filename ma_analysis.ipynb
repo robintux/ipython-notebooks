{
 "metadata": {
  "name": "ma_analysis"
 },
 "nbformat": 3,
 "nbformat_minor": 0,
 "worksheets": [
  {
   "cells": [
    {
     "cell_type": "markdown",
     "metadata": {},
     "source": [
      "# Converting MA data from MongoDB to an R Data Frame\n",
      "All the relevant data was created using [ma.py](https://bitbucket.org/yoavram/masim/src/tip/ma.py).\n",
      "## Setup environment\n",
      "Change to default working directory, import *matplotlib* so that saved *py* files will work."
     ]
    },
    {
     "cell_type": "code",
     "collapsed": false,
     "input": [
      "import os\n",
      "os.chdir(\"d:\\\\workspace\\\\ma\")\n",
      "from matplotlib.pyplot import plot"
     ],
     "language": "python",
     "metadata": {},
     "outputs": [],
     "prompt_number": 1
    },
    {
     "cell_type": "markdown",
     "metadata": {},
     "source": [
      "## Create a MongoDB interface\n",
      "The host is *britanya409-2.tau.ac.il*. From the PC I use *localhost* and a PuTTy tunnel to port 27018.\n",
      "The db is *ma* and the collection is *results*. The code uses the [pymongo](http://api.mongodb.org/python/current/) package to interface MongoDB. Current version is stated below."
     ]
    },
    {
     "cell_type": "code",
     "collapsed": false,
     "input": [
      "import pymongo\n",
      "print \"pymongo version\", pymongo.version"
     ],
     "language": "python",
     "metadata": {},
     "outputs": [
      {
       "output_type": "stream",
       "stream": "stdout",
       "text": [
        "pymongo version 2.4\n"
       ]
      }
     ],
     "prompt_number": 2
    },
    {
     "cell_type": "code",
     "collapsed": false,
     "input": [
      "def ma_collection():\n",
      "    con = pymongo.Connection(\"localhost\",27018) \n",
      "    col = con.ma.results\n",
      "    return col"
     ],
     "language": "python",
     "metadata": {},
     "outputs": [],
     "prompt_number": 3
    },
    {
     "cell_type": "code",
     "collapsed": false,
     "input": [
      "col = ma_collection()"
     ],
     "language": "python",
     "metadata": {},
     "outputs": [
      {
       "ename": "KeyboardInterrupt",
       "evalue": "",
       "output_type": "pyerr",
       "traceback": [
        "\u001b[1;31m---------------------------------------------------------------------------\u001b[0m\n\u001b[1;31mKeyboardInterrupt\u001b[0m                         Traceback (most recent call last)",
        "\u001b[1;32m<ipython-input-4-58188d38b7eb>\u001b[0m in \u001b[0;36m<module>\u001b[1;34m()\u001b[0m\n\u001b[1;32m----> 1\u001b[1;33m \u001b[0mcol\u001b[0m \u001b[1;33m=\u001b[0m \u001b[0mma_collection\u001b[0m\u001b[1;33m(\u001b[0m\u001b[1;33m)\u001b[0m\u001b[1;33m\u001b[0m\u001b[0m\n\u001b[0m",
        "\u001b[1;32m<ipython-input-3-ce6c00306540>\u001b[0m in \u001b[0;36mma_collection\u001b[1;34m()\u001b[0m\n\u001b[0;32m      1\u001b[0m \u001b[1;32mdef\u001b[0m \u001b[0mma_collection\u001b[0m\u001b[1;33m(\u001b[0m\u001b[1;33m)\u001b[0m\u001b[1;33m:\u001b[0m\u001b[1;33m\u001b[0m\u001b[0m\n\u001b[1;32m----> 2\u001b[1;33m     \u001b[0mcon\u001b[0m \u001b[1;33m=\u001b[0m \u001b[0mpymongo\u001b[0m\u001b[1;33m.\u001b[0m\u001b[0mConnection\u001b[0m\u001b[1;33m(\u001b[0m\u001b[1;34m\"britanya409-2.tau.ac.il\"\u001b[0m\u001b[1;33m,\u001b[0m\u001b[1;36m27018\u001b[0m\u001b[1;33m)\u001b[0m\u001b[1;33m\u001b[0m\u001b[0m\n\u001b[0m\u001b[0;32m      3\u001b[0m     \u001b[0mcol\u001b[0m \u001b[1;33m=\u001b[0m \u001b[0mcon\u001b[0m\u001b[1;33m.\u001b[0m\u001b[0mma\u001b[0m\u001b[1;33m.\u001b[0m\u001b[0mresults\u001b[0m\u001b[1;33m\u001b[0m\u001b[0m\n\u001b[0;32m      4\u001b[0m     \u001b[1;32mreturn\u001b[0m \u001b[0mcol\u001b[0m\u001b[1;33m\u001b[0m\u001b[0m\n",
        "\u001b[1;32mC:\\Python27\\lib\\site-packages\\pymongo\\connection.pyc\u001b[0m in \u001b[0;36m__init__\u001b[1;34m(self, host, port, max_pool_size, network_timeout, document_class, tz_aware, _connect, **kwargs)\u001b[0m\n\u001b[0;32m    176\u001b[0m \u001b[1;33m\u001b[0m\u001b[0m\n\u001b[0;32m    177\u001b[0m         super(Connection, self).__init__(host, port,\n\u001b[1;32m--> 178\u001b[1;33m                 max_pool_size, document_class, tz_aware, _connect, **kwargs)\n\u001b[0m\u001b[0;32m    179\u001b[0m \u001b[1;33m\u001b[0m\u001b[0m\n\u001b[0;32m    180\u001b[0m     \u001b[1;32mdef\u001b[0m \u001b[0m__repr__\u001b[0m\u001b[1;33m(\u001b[0m\u001b[0mself\u001b[0m\u001b[1;33m)\u001b[0m\u001b[1;33m:\u001b[0m\u001b[1;33m\u001b[0m\u001b[0m\n",
        "\u001b[1;32mC:\\Python27\\lib\\site-packages\\pymongo\\mongo_client.pyc\u001b[0m in \u001b[0;36m__init__\u001b[1;34m(self, host, port, max_pool_size, document_class, tz_aware, _connect, **kwargs)\u001b[0m\n\u001b[0;32m    269\u001b[0m         \u001b[1;32mif\u001b[0m \u001b[0m_connect\u001b[0m\u001b[1;33m:\u001b[0m\u001b[1;33m\u001b[0m\u001b[0m\n\u001b[0;32m    270\u001b[0m             \u001b[1;32mtry\u001b[0m\u001b[1;33m:\u001b[0m\u001b[1;33m\u001b[0m\u001b[0m\n\u001b[1;32m--> 271\u001b[1;33m                 \u001b[0mself\u001b[0m\u001b[1;33m.\u001b[0m\u001b[0m__find_node\u001b[0m\u001b[1;33m(\u001b[0m\u001b[0mseeds\u001b[0m\u001b[1;33m)\u001b[0m\u001b[1;33m\u001b[0m\u001b[0m\n\u001b[0m\u001b[0;32m    272\u001b[0m             \u001b[1;32mexcept\u001b[0m \u001b[0mAutoReconnect\u001b[0m\u001b[1;33m,\u001b[0m \u001b[0me\u001b[0m\u001b[1;33m:\u001b[0m\u001b[1;33m\u001b[0m\u001b[0m\n\u001b[0;32m    273\u001b[0m                 \u001b[1;31m# ConnectionFailure makes more sense here than AutoReconnect\u001b[0m\u001b[1;33m\u001b[0m\u001b[1;33m\u001b[0m\u001b[0m\n",
        "\u001b[1;32mC:\\Python27\\lib\\site-packages\\pymongo\\mongo_client.pyc\u001b[0m in \u001b[0;36m__find_node\u001b[1;34m(self, seeds)\u001b[0m\n\u001b[0;32m    617\u001b[0m         \u001b[1;32mfor\u001b[0m \u001b[0mcandidate\u001b[0m \u001b[1;32min\u001b[0m \u001b[0mcandidates\u001b[0m\u001b[1;33m:\u001b[0m\u001b[1;33m\u001b[0m\u001b[0m\n\u001b[0;32m    618\u001b[0m             \u001b[1;32mtry\u001b[0m\u001b[1;33m:\u001b[0m\u001b[1;33m\u001b[0m\u001b[0m\n\u001b[1;32m--> 619\u001b[1;33m                 \u001b[0mnode\u001b[0m\u001b[1;33m,\u001b[0m \u001b[0mismaster\u001b[0m\u001b[1;33m,\u001b[0m \u001b[0misdbgrid\u001b[0m\u001b[1;33m,\u001b[0m \u001b[0mres_time\u001b[0m \u001b[1;33m=\u001b[0m \u001b[0mself\u001b[0m\u001b[1;33m.\u001b[0m\u001b[0m__try_node\u001b[0m\u001b[1;33m(\u001b[0m\u001b[0mcandidate\u001b[0m\u001b[1;33m)\u001b[0m\u001b[1;33m\u001b[0m\u001b[0m\n\u001b[0m\u001b[0;32m    620\u001b[0m                 \u001b[0mself\u001b[0m\u001b[1;33m.\u001b[0m\u001b[0m__is_primary\u001b[0m \u001b[1;33m=\u001b[0m \u001b[0mismaster\u001b[0m\u001b[1;33m\u001b[0m\u001b[0m\n\u001b[0;32m    621\u001b[0m                 \u001b[0mself\u001b[0m\u001b[1;33m.\u001b[0m\u001b[0m__is_mongos\u001b[0m \u001b[1;33m=\u001b[0m \u001b[0misdbgrid\u001b[0m\u001b[1;33m\u001b[0m\u001b[0m\n",
        "\u001b[1;32mC:\\Python27\\lib\\site-packages\\pymongo\\mongo_client.pyc\u001b[0m in \u001b[0;36m__try_node\u001b[1;34m(self, node)\u001b[0m\n\u001b[0;32m    527\u001b[0m \u001b[1;33m\u001b[0m\u001b[0m\n\u001b[0;32m    528\u001b[0m         \u001b[1;31m# Call 'ismaster' directly so we can get a response time.\u001b[0m\u001b[1;33m\u001b[0m\u001b[1;33m\u001b[0m\u001b[0m\n\u001b[1;32m--> 529\u001b[1;33m         \u001b[0msock_info\u001b[0m \u001b[1;33m=\u001b[0m \u001b[0mself\u001b[0m\u001b[1;33m.\u001b[0m\u001b[0m__socket\u001b[0m\u001b[1;33m(\u001b[0m\u001b[1;33m)\u001b[0m\u001b[1;33m\u001b[0m\u001b[0m\n\u001b[0m\u001b[0;32m    530\u001b[0m         response, res_time = self.__simple_command(sock_info,\n\u001b[0;32m    531\u001b[0m                                                    \u001b[1;34m'admin'\u001b[0m\u001b[1;33m,\u001b[0m\u001b[1;33m\u001b[0m\u001b[0m\n",
        "\u001b[1;32mC:\\Python27\\lib\\site-packages\\pymongo\\mongo_client.pyc\u001b[0m in \u001b[0;36m__socket\u001b[1;34m(self)\u001b[0m\n\u001b[0;32m    660\u001b[0m                 \u001b[0mself\u001b[0m\u001b[1;33m.\u001b[0m\u001b[0mstart_request\u001b[0m\u001b[1;33m(\u001b[0m\u001b[1;33m)\u001b[0m\u001b[1;33m\u001b[0m\u001b[0m\n\u001b[0;32m    661\u001b[0m \u001b[1;33m\u001b[0m\u001b[0m\n\u001b[1;32m--> 662\u001b[1;33m             \u001b[0msock_info\u001b[0m \u001b[1;33m=\u001b[0m \u001b[0mself\u001b[0m\u001b[1;33m.\u001b[0m\u001b[0m__pool\u001b[0m\u001b[1;33m.\u001b[0m\u001b[0mget_socket\u001b[0m\u001b[1;33m(\u001b[0m\u001b[1;33m(\u001b[0m\u001b[0mhost\u001b[0m\u001b[1;33m,\u001b[0m \u001b[0mport\u001b[0m\u001b[1;33m)\u001b[0m\u001b[1;33m)\u001b[0m\u001b[1;33m\u001b[0m\u001b[0m\n\u001b[0m\u001b[0;32m    663\u001b[0m         \u001b[1;32mexcept\u001b[0m \u001b[0msocket\u001b[0m\u001b[1;33m.\u001b[0m\u001b[0merror\u001b[0m\u001b[1;33m,\u001b[0m \u001b[0mwhy\u001b[0m\u001b[1;33m:\u001b[0m\u001b[1;33m\u001b[0m\u001b[0m\n\u001b[0;32m    664\u001b[0m             \u001b[0mself\u001b[0m\u001b[1;33m.\u001b[0m\u001b[0mdisconnect\u001b[0m\u001b[1;33m(\u001b[0m\u001b[1;33m)\u001b[0m\u001b[1;33m\u001b[0m\u001b[0m\n",
        "\u001b[1;32mC:\\Python27\\lib\\site-packages\\pymongo\\pool.pyc\u001b[0m in \u001b[0;36mget_socket\u001b[1;34m(self, pair)\u001b[0m\n\u001b[0;32m    265\u001b[0m                 \u001b[0mself\u001b[0m\u001b[1;33m.\u001b[0m\u001b[0mlock\u001b[0m\u001b[1;33m.\u001b[0m\u001b[0mrelease\u001b[0m\u001b[1;33m(\u001b[0m\u001b[1;33m)\u001b[0m\u001b[1;33m\u001b[0m\u001b[0m\n\u001b[0;32m    266\u001b[0m         \u001b[1;32mexcept\u001b[0m \u001b[0mKeyError\u001b[0m\u001b[1;33m:\u001b[0m\u001b[1;33m\u001b[0m\u001b[0m\n\u001b[1;32m--> 267\u001b[1;33m             \u001b[0msock_info\u001b[0m\u001b[1;33m,\u001b[0m \u001b[0mfrom_pool\u001b[0m \u001b[1;33m=\u001b[0m \u001b[0mself\u001b[0m\u001b[1;33m.\u001b[0m\u001b[0mconnect\u001b[0m\u001b[1;33m(\u001b[0m\u001b[0mpair\u001b[0m\u001b[1;33m)\u001b[0m\u001b[1;33m,\u001b[0m \u001b[0mFalse\u001b[0m\u001b[1;33m\u001b[0m\u001b[0m\n\u001b[0m\u001b[0;32m    268\u001b[0m \u001b[1;33m\u001b[0m\u001b[0m\n\u001b[0;32m    269\u001b[0m         \u001b[1;32mif\u001b[0m \u001b[0mfrom_pool\u001b[0m\u001b[1;33m:\u001b[0m\u001b[1;33m\u001b[0m\u001b[0m\n",
        "\u001b[1;32mC:\\Python27\\lib\\site-packages\\pymongo\\pool.pyc\u001b[0m in \u001b[0;36mconnect\u001b[1;34m(self, pair)\u001b[0m\n\u001b[0;32m    214\u001b[0m            \u001b[0mreturn_socket\u001b[0m\u001b[1;33m(\u001b[0m\u001b[1;33m)\u001b[0m \u001b[0mwhen\u001b[0m \u001b[0myou\u001b[0m\u001b[0;31m'\u001b[0m\u001b[0mre\u001b[0m \u001b[0mdone\u001b[0m \u001b[1;32mwith\u001b[0m \u001b[0mit\u001b[0m\u001b[1;33m.\u001b[0m\u001b[1;33m\u001b[0m\u001b[0m\n\u001b[0;32m    215\u001b[0m         \"\"\"\n\u001b[1;32m--> 216\u001b[1;33m         \u001b[0msock\u001b[0m \u001b[1;33m=\u001b[0m \u001b[0mself\u001b[0m\u001b[1;33m.\u001b[0m\u001b[0mcreate_connection\u001b[0m\u001b[1;33m(\u001b[0m\u001b[0mpair\u001b[0m\u001b[1;33m)\u001b[0m\u001b[1;33m\u001b[0m\u001b[0m\n\u001b[0m\u001b[0;32m    217\u001b[0m \u001b[1;33m\u001b[0m\u001b[0m\n\u001b[0;32m    218\u001b[0m         \u001b[1;32mif\u001b[0m \u001b[0mself\u001b[0m\u001b[1;33m.\u001b[0m\u001b[0muse_ssl\u001b[0m\u001b[1;33m:\u001b[0m\u001b[1;33m\u001b[0m\u001b[0m\n",
        "\u001b[1;32mC:\\Python27\\lib\\site-packages\\pymongo\\pool.pyc\u001b[0m in \u001b[0;36mcreate_connection\u001b[1;34m(self, pair)\u001b[0m\n\u001b[0;32m    193\u001b[0m                 \u001b[0msock\u001b[0m\u001b[1;33m.\u001b[0m\u001b[0msetsockopt\u001b[0m\u001b[1;33m(\u001b[0m\u001b[0msocket\u001b[0m\u001b[1;33m.\u001b[0m\u001b[0mIPPROTO_TCP\u001b[0m\u001b[1;33m,\u001b[0m \u001b[0msocket\u001b[0m\u001b[1;33m.\u001b[0m\u001b[0mTCP_NODELAY\u001b[0m\u001b[1;33m,\u001b[0m \u001b[1;36m1\u001b[0m\u001b[1;33m)\u001b[0m\u001b[1;33m\u001b[0m\u001b[0m\n\u001b[0;32m    194\u001b[0m                 \u001b[0msock\u001b[0m\u001b[1;33m.\u001b[0m\u001b[0msettimeout\u001b[0m\u001b[1;33m(\u001b[0m\u001b[0mself\u001b[0m\u001b[1;33m.\u001b[0m\u001b[0mconn_timeout\u001b[0m \u001b[1;32mor\u001b[0m \u001b[1;36m20.0\u001b[0m\u001b[1;33m)\u001b[0m\u001b[1;33m\u001b[0m\u001b[0m\n\u001b[1;32m--> 195\u001b[1;33m                 \u001b[0msock\u001b[0m\u001b[1;33m.\u001b[0m\u001b[0mconnect\u001b[0m\u001b[1;33m(\u001b[0m\u001b[0msa\u001b[0m\u001b[1;33m)\u001b[0m\u001b[1;33m\u001b[0m\u001b[0m\n\u001b[0m\u001b[0;32m    196\u001b[0m                 \u001b[1;32mreturn\u001b[0m \u001b[0msock\u001b[0m\u001b[1;33m\u001b[0m\u001b[0m\n\u001b[0;32m    197\u001b[0m             \u001b[1;32mexcept\u001b[0m \u001b[0msocket\u001b[0m\u001b[1;33m.\u001b[0m\u001b[0merror\u001b[0m\u001b[1;33m,\u001b[0m \u001b[0me\u001b[0m\u001b[1;33m:\u001b[0m\u001b[1;33m\u001b[0m\u001b[0m\n",
        "\u001b[1;31mKeyboardInterrupt\u001b[0m: "
       ]
      }
     ],
     "prompt_number": 4
    },
    {
     "cell_type": "code",
     "collapsed": false,
     "input": [
      "col.count()"
     ],
     "language": "python",
     "metadata": {},
     "outputs": []
    },
    {
     "cell_type": "markdown",
     "metadata": {},
     "source": [
      "## Create a list of all available specs.\n",
      "Specs are the parameter sets. \n",
      "Currently most of the parameters are constants, and only *s*, *U*, and *$\\pi$* are variables."
     ]
    },
    {
     "cell_type": "code",
     "collapsed": false,
     "input": [
      "specs = []\n",
      "for s in col.distinct('s'):\n",
      "        for U in col.find({'s':s}).distinct('U'):\n",
      "            for pi in col.find({'s':s,'U':U}).distinct('pi'):\n",
      "                specs.append( {'s':s,'U':U,'pi':pi} )                "
     ],
     "language": "python",
     "metadata": {},
     "outputs": [],
     "prompt_number": 13
    },
    {
     "cell_type": "markdown",
     "metadata": {},
     "source": [
      "## Get a cursor over the data \n",
      "Get only the required date - the parameters and *w* which is the _mean fitness after the bottleneck_ (if *b==1* then it is the fitness of the single individual after the bottleneck)."
     ]
    },
    {
     "cell_type": "code",
     "collapsed": false,
     "input": [
      "cur = col.find({},['w','tau','B','genes','epistasis','s','b','U','pop','pi'])"
     ],
     "language": "python",
     "metadata": {},
     "outputs": [],
     "prompt_number": 14
    },
    {
     "cell_type": "markdown",
     "metadata": {},
     "source": [
      "## Look at a sample record\n",
      "*d* is some record. We show the parameter values and the plot of the mean fitness. Note that *w* and *_id* do not count as parameters because the first is the fitness time series and the second is the Mongo ID of the record."
     ]
    },
    {
     "cell_type": "code",
     "collapsed": false,
     "input": [
      "d = cur.next()\n",
      "params = [(k,v) for k,v in d.items() if (k!='_id' and k!='w')]\n",
      "for k,v in params: print k,'=',v"
     ],
     "language": "python",
     "metadata": {},
     "outputs": [
      {
       "output_type": "stream",
       "stream": "stdout",
       "text": [
        "tau = 1\n",
        "B = 300\n",
        "genes = 100\n",
        "pop = 100000000.0\n",
        "epistasis = 1.0\n",
        "s = 0.01\n",
        "b = 1\n",
        "U = 0.003\n",
        "pi = 200\n"
       ]
      }
     ],
     "prompt_number": 15
    },
    {
     "cell_type": "code",
     "collapsed": false,
     "input": [
      "w = d['w']\n",
      "plot(w);"
     ],
     "language": "python",
     "metadata": {},
     "outputs": [
      {
       "output_type": "display_data",
       "png": "[encoded data removed]"
      }
     ],
     "prompt_number": 16
    },
    {
     "cell_type": "markdown",
     "metadata": {},
     "source": [
      "## Convert a single record to a data frame\n",
      "First we convert a *dict* with a *list* value in key *w* to a *list* of *dict*s, each with a single value for key *w*."
     ]
    },
    {
     "cell_type": "code",
     "collapsed": false,
     "input": [
      "time_series = [None]*len(w) \n",
      "for t in range(len(w)):\n",
      "    time_point = {'w':w[t]}\n",
      "    time_point.update(params)\n",
      "    time_series[t] = time_point"
     ],
     "language": "python",
     "metadata": {},
     "outputs": [],
     "prompt_number": 17
    },
    {
     "cell_type": "markdown",
     "metadata": {},
     "source": [
      "Now to convert this to a data frame using the [pandas](http://pandas.pydata.org/) package (current version 0.9.0). The relevant doc for this usage is [here](http://pandas.pydata.org/pandas-docs/stable/dsintro.html#from-a-list-of-dicts)."
     ]
    },
    {
     "cell_type": "code",
     "collapsed": false,
     "input": [
      "import pandas as pd\n",
      "print \"pandas version\", pd.__version__"
     ],
     "language": "python",
     "metadata": {},
     "outputs": [
      {
       "output_type": "stream",
       "stream": "stdout",
       "text": [
        "pandas version 0.9.0\n"
       ]
      }
     ],
     "prompt_number": 18
    },
    {
     "cell_type": "code",
     "collapsed": false,
     "input": [
      "df = pd.DataFrame(time_series)\n",
      "df.to_csv(\"test.csv\")"
     ],
     "language": "python",
     "metadata": {},
     "outputs": [],
     "prompt_number": 19
    },
    {
     "cell_type": "markdown",
     "metadata": {},
     "source": [
      "## Convert the entire record set to a data frame\n",
      "Start by writing a function that does what we did before - convert a record from MongoDB to a *list* of *dict*s."
     ]
    },
    {
     "cell_type": "code",
     "collapsed": false,
     "input": [
      "def record_to_data_list_of_dicts(record):\n",
      "    params = [(k,v) for k,v in record.items() if (k!='_id' and k!='w')]\n",
      "    time_series = [None]*len(w) \n",
      "    for t in range(len(w)):\n",
      "        time_point = {'w':w[t],'t':t+1}\n",
      "        time_point.update(params)\n",
      "        time_series[t] = time_point\n",
      "    return time_series"
     ],
     "language": "python",
     "metadata": {},
     "outputs": [],
     "prompt_number": 20
    },
    {
     "cell_type": "markdown",
     "metadata": {},
     "source": [
      "Next, here is a function that takes a cursor and converts all the records to one big *list* of *dict*. Use a *limit* of 10 when testing."
     ]
    },
    {
     "cell_type": "code",
     "collapsed": false,
     "input": [
      "def cursor_to_data_frame(cur):\n",
      "    time_series = []\n",
      "    for record in cur:\n",
      "        time_series.extend( record_to_data_list_of_dicts(record) )\n",
      "    return time_series"
     ],
     "language": "python",
     "metadata": {},
     "outputs": [],
     "prompt_number": 21
    },
    {
     "cell_type": "markdown",
     "metadata": {},
     "source": [
      "This function creates a cursor of just 10 records, for testing, and converts it to a *DataFrame* and saves it to *csv*. \n",
      "\n",
      "The *csv* file can be opened in *R* with the following:\n",
      "<pre class=\"prettyprint lang-r\">\n",
      "data<-read.csv('test.csv')\n",
      "dim(data) # should be 3000   12\n",
      "</pre>\n",
      "\n",
      "If the filename ends with *.gz* the file will be compressed with *gzip* - this is transparent to R and sometimes allows R to load the file _faster_ compared to a non-compressed *csv* file."
     ]
    },
    {
     "cell_type": "code",
     "collapsed": false,
     "input": [
      "def mongo_to_csv(csv_fname, limit):\n",
      "    col = ma_collection()\n",
      "    cur = col.find({},['w','tau','B','genes','epistasis','s','b','U','pop','pi'], limit=limit)\n",
      "    time_series = cursor_to_data_frame(cur) \n",
      "    cur.close()\n",
      "    df = pd.DataFrame(time_series)\n",
      "    if csv_fname.endswith(\".csv\"):\n",
      "        df.to_csv(csv_fname, index=False)\n",
      "    elif csv_fname.endswith(\".csv.gz\"):\n",
      "        import gzip\n",
      "        fout = gzip.open(csv_fname, 'wb')\n",
      "        df.to_csv(fout, index=False)"
     ],
     "language": "python",
     "metadata": {},
     "outputs": [],
     "prompt_number": 28
    },
    {
     "cell_type": "code",
     "collapsed": false,
     "input": [
      "mongo_to_csv(\"test.csv\", 10)\n",
      "mongo_to_csv(\"test.csv.gz\", 10)"
     ],
     "language": "python",
     "metadata": {},
     "outputs": [],
     "prompt_number": 29
    },
    {
     "cell_type": "markdown",
     "metadata": {},
     "source": [
      "That's it, all the functions are in place, the above is a test case. To run on all the data just use:\n",
      "\n",
      "<pre class=\"prettyprint\">\n",
      "mongo_to_csv(\"ma_output.csv.gz\", 0)\n",
      "</pre>\n",
      "\n",
      "Note: *limit=0* gets all the records."
     ]
    },
    {
     "cell_type": "markdown",
     "metadata": {},
     "source": [
      "And you can run this in R to plot a certain fitness mean:\n",
      "\n",
      "<pre class=\"prettyprint\">\n",
      "df <- read.csv('ma_output.csv.gz')\n",
      "data <- ddply(df, .(s,U,pi,t), summarize, mean.w = mean(w), median.w = median(w))\n",
      "subdata <-subset(data,s==0.01 & U==0.003 & pi==0)\n",
      "plot(mean.w~t, data=subdata)\n",
      "</pre>"
     ]
    }
   ],
   "metadata": {}
  }
 ]
}