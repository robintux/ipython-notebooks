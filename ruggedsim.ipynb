{
 "metadata": {
  "name": "ruggedsim"
 },
 "nbformat": 3,
 "nbformat_minor": 0,
 "worksheets": [
  {
   "cells": [
    {
     "cell_type": "code",
     "collapsed": false,
     "input": [
      "cd d:\\workspace\\ruggedsim\\stochastic"
     ],
     "language": "python",
     "metadata": {},
     "outputs": [
      {
       "output_type": "stream",
       "stream": "stdout",
       "text": [
        "d:\\workspace\\ruggedsim\\stochastic\n"
       ]
      }
     ],
     "prompt_number": 2
    },
    {
     "cell_type": "code",
     "collapsed": false,
     "input": [
      "import model"
     ],
     "language": "python",
     "metadata": {},
     "outputs": [],
     "prompt_number": 3
    },
    {
     "cell_type": "code",
     "collapsed": false,
     "input": [
      "target_genome = model.create_target_genome(10)\n",
      "print target_genome"
     ],
     "language": "python",
     "metadata": {},
     "outputs": [
      {
       "output_type": "stream",
       "stream": "stdout",
       "text": [
        "[0 0 0 0 0 0 0 0 0 0]\n"
       ]
      }
     ],
     "prompt_number": 118
    },
    {
     "cell_type": "code",
     "collapsed": false,
     "input": [
      "modifiers = np.array([0,1,0,1])\n",
      "genome0 = np.concatenate((target_genome.copy(), modifiers))\n",
      "genome1 = np.concatenate((target_genome.copy(), modifiers))\n",
      "genome2 = np.concatenate((target_genome.copy(), modifiers))\n",
      "genome3 = np.concatenate((target_genome.copy(), modifiers))\n",
      "genome1[0],genome1[1] = 1,0\n",
      "genome2[0],genome2[1] = 0,1\n",
      "genome3[0],genome3[1] = 1,1\n",
      "genomes = np.array([genome0,genome1,genome2,genome3])\n",
      "print genomes"
     ],
     "language": "python",
     "metadata": {},
     "outputs": [
      {
       "output_type": "stream",
       "stream": "stdout",
       "text": [
        "[[0 0 0 0 0 0 0 0 0 0 0 1 0 1]\n",
        " [1 0 0 0 0 0 0 0 0 0 0 1 0 1]\n",
        " [0 1 0 0 0 0 0 0 0 0 0 1 0 1]\n",
        " [1 1 0 0 0 0 0 0 0 0 0 1 0 1]]\n"
       ]
      }
     ],
     "prompt_number": 119
    },
    {
     "cell_type": "code",
     "collapsed": false,
     "input": [
      "population = np.array([25,25,25,25])\n",
      "print population"
     ],
     "language": "python",
     "metadata": {},
     "outputs": [
      {
       "output_type": "stream",
       "stream": "stdout",
       "text": [
        "[25 25 25 25]\n"
       ]
      }
     ],
     "prompt_number": 120
    },
    {
     "cell_type": "code",
     "collapsed": false,
     "input": [
      "fitness = np.apply_along_axis(model.hamming_fitness_genome,1, genomes, target_genome,0.1,2,10)\n",
      "print fitness"
     ],
     "language": "python",
     "metadata": {},
     "outputs": [
      {
       "output_type": "stream",
       "stream": "stdout",
       "text": [
        "[ 1.    0.9   0.9   0.81]\n"
       ]
      }
     ],
     "prompt_number": 121
    },
    {
     "cell_type": "code",
     "collapsed": false,
     "input": [
      "target_genome[0], target_genome[1] = 1,1\n",
      "print target_genome"
     ],
     "language": "python",
     "metadata": {},
     "outputs": [
      {
       "output_type": "stream",
       "stream": "stdout",
       "text": [
        "[1 1 0 0 0 0 0 0 0 0]\n"
       ]
      }
     ],
     "prompt_number": 122
    },
    {
     "cell_type": "code",
     "collapsed": false,
     "input": [
      "fitness = model.hamming_fitness_genomes(genomes, target_genome, 0.1, 2, 10)\n",
      "print fitness"
     ],
     "language": "python",
     "metadata": {},
     "outputs": [
      {
       "output_type": "stream",
       "stream": "stdout",
       "text": [
        "[ 1.   0.9  0.9  1.2]\n"
       ]
      }
     ],
     "prompt_number": 123
    },
    {
     "cell_type": "code",
     "collapsed": false,
     "input": [
      "reload(model)"
     ],
     "language": "python",
     "metadata": {},
     "outputs": [
      {
       "output_type": "pyout",
       "prompt_number": 110,
       "text": [
        "<module 'model' from 'model.py'>"
       ]
      }
     ],
     "prompt_number": 110
    },
    {
     "cell_type": "code",
     "collapsed": false,
     "input": [],
     "language": "python",
     "metadata": {},
     "outputs": []
    }
   ],
   "metadata": {}
  }
 ]
}