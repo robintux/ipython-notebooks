{
 "metadata": {
  "name": "pytagger"
 },
 "nbformat": 3,
 "nbformat_minor": 0,
 "worksheets": [
  {
   "cells": [
    {
     "cell_type": "code",
     "collapsed": false,
     "input": [
      "from tagger import *\n",
      "from glob import glob\n",
      "import chardet\n",
      "import encodings"
     ],
     "language": "python",
     "metadata": {},
     "outputs": [],
     "prompt_number": 3
    },
    {
     "cell_type": "code",
     "collapsed": false,
     "input": [
      "decoders = {'ascii':lambda x: x}\n",
      "\n",
      "def decode_cp1255(string):\n",
      "    return ''.join(encodings.cp1255.decoding_table[ord(ch)] for ch in string)\n",
      "\n",
      "def decode_cp1251(string):\n",
      "    return ''.join(encodings.cp1251.decoding_table[ord(ch)] for ch in string)\n",
      "\n",
      "decoders['cp1255'] = decode_cp1255\n",
      "decoders['windows-1255'] = decode_cp1255\n",
      "decoders['cp1251'] = decode_cp1251\n",
      "decoders['windows-1251'] = decode_cp1251"
     ],
     "language": "python",
     "metadata": {},
     "outputs": [],
     "prompt_number": 4
    },
    {
     "cell_type": "code",
     "collapsed": false,
     "input": [
      "def mydecode(string, encoding=None): \n",
      "    encoding2 = chardet.detect(string)['encoding']\n",
      "    if encoding2 == 'ascii' or encoding == None:\n",
      "        encoding = encoding2\n",
      "    if encoding in decoders:\n",
      "        return decoders[encoding](string)\n",
      "    else:\n",
      "        print \"missing decoder for\", encoding\n",
      "        return None"
     ],
     "language": "python",
     "metadata": {},
     "outputs": [],
     "prompt_number": 5
    },
    {
     "cell_type": "code",
     "collapsed": false,
     "input": [
      "def fix_encoding(mp3_tag, encoding, debug=True):\n",
      "    for frame in mp3_tag.frames:\n",
      "        #if frame.encoding: print frame.encoding\n",
      "        for i,s in enumerate(frame.strings):\n",
      "            if not s:\n",
      "                continue\n",
      "            if debug:\n",
      "                print s,'->',mydecode(s, encoding),'\\t',chardet.detect(s)['encoding']\n",
      "            else:\n",
      "                decoded = mydecode(s, encoding)\n",
      "                if decoded and decoded != s:\n",
      "                    frame.strings[i] = decoded\n",
      "                    print decoded\n",
      "    if not debug:\n",
      "        mp3_tag.commit()"
     ],
     "language": "python",
     "metadata": {},
     "outputs": [],
     "prompt_number": 6
    },
    {
     "cell_type": "code",
     "collapsed": false,
     "input": [
      "cd D:\\music\\\u05d1\u05e8\u05d9 \u05e1\u05d7\u05e8\u05d5\u05e3\\Hot On The Moon"
     ],
     "language": "python",
     "metadata": {},
     "outputs": [
      {
       "output_type": "stream",
       "stream": "stdout",
       "text": [
        "D:\\music\\\u05d1\u05e8\u05d9 \u05e1\u05d7\u05e8\u05d5\u05e3\\Hot On The Moon\n"
       ]
      }
     ],
     "prompt_number": 19
    },
    {
     "cell_type": "code",
     "collapsed": false,
     "input": [
      "files = glob(u\"*.mp3\")\n",
      "print len(files)\n",
      "#files = [mydecode(f,'cp1255') for f in files]"
     ],
     "language": "python",
     "metadata": {},
     "outputs": [
      {
       "output_type": "stream",
       "stream": "stdout",
       "text": [
        "8\n"
       ]
      }
     ],
     "prompt_number": 20
    },
    {
     "cell_type": "code",
     "collapsed": false,
     "input": [
      "for fname in files:\n",
      "    mp3_tag = ID3v2(fname)\n",
      "    fix_encoding(mp3_tag, encoding='cp1255', debug=False)"
     ],
     "language": "python",
     "metadata": {},
     "outputs": [],
     "prompt_number": 21
    },
    {
     "cell_type": "code",
     "collapsed": false,
     "input": [],
     "language": "python",
     "metadata": {},
     "outputs": []
    }
   ],
   "metadata": {}
  }
 ]
}