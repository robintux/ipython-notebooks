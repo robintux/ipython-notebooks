{
 "metadata": {
  "name": "mamba debug"
 },
 "nbformat": 3,
 "nbformat_minor": 0,
 "worksheets": [
  {
   "cells": [
    {
     "cell_type": "code",
     "collapsed": false,
     "input": [
      "cd d:\\workspace\\mamba"
     ],
     "language": "python",
     "metadata": {},
     "outputs": [
      {
       "output_type": "stream",
       "stream": "stdout",
       "text": [
        "d:\\workspace\\mamba\n"
       ]
      }
     ],
     "prompt_number": 2
    },
    {
     "cell_type": "markdown",
     "metadata": {},
     "source": [
      "# 29/11/12\n",
      "\n",
      "## Testing the time of running a single generation\n",
      "Something weird is going on..."
     ]
    },
    {
     "cell_type": "code",
     "collapsed": false,
     "input": [
      "import simulation\n",
      "reload(simulation);"
     ],
     "language": "python",
     "metadata": {},
     "outputs": [
      {
       "ename": "ImportError",
       "evalue": "No module named simulation",
       "output_type": "pyerr",
       "traceback": [
        "\u001b[1;31m---------------------------------------------------------------------------\u001b[0m\n\u001b[1;31mImportError\u001b[0m                               Traceback (most recent call last)",
        "\u001b[1;32m<ipython-input-1-9236d9038bc5>\u001b[0m in \u001b[0;36m<module>\u001b[1;34m()\u001b[0m\n\u001b[1;32m----> 1\u001b[1;33m \u001b[1;32mimport\u001b[0m \u001b[0msimulation\u001b[0m\u001b[1;33m\u001b[0m\u001b[0m\n\u001b[0m\u001b[0;32m      2\u001b[0m \u001b[0mreload\u001b[0m\u001b[1;33m(\u001b[0m\u001b[0msimulation\u001b[0m\u001b[1;33m)\u001b[0m\u001b[1;33m;\u001b[0m\u001b[1;33m\u001b[0m\u001b[0m\n",
        "\u001b[1;31mImportError\u001b[0m: No module named simulation"
       ]
      }
     ],
     "prompt_number": 1
    },
    {
     "cell_type": "code",
     "collapsed": false,
     "input": [
      "%timeit simulation.run(0,0);"
     ],
     "language": "python",
     "metadata": {},
     "outputs": [
      {
       "output_type": "stream",
       "stream": "stdout",
       "text": [
        "Starting simulation with  0 ticks\n",
        "Simulation finished,"
       ]
      },
      {
       "output_type": "stream",
       "stream": "stdout",
       "text": [
        " 0 ticks, time elapsed 4.68443453037 seconds\n",
        "Starting simulation with  0 ticks\n",
        "Simulation finished,"
       ]
      },
      {
       "output_type": "stream",
       "stream": "stdout",
       "text": [
        " 0 ticks, time elapsed 4.90389355582 seconds\n",
        "Starting simulation with  0 ticks\n",
        "Simulation finished,"
       ]
      },
      {
       "output_type": "stream",
       "stream": "stdout",
       "text": [
        " 0 ticks, time elapsed 4.75431750334 seconds\n",
        "Starting simulation with  0 ticks\n",
        "Simulation finished,"
       ]
      },
      {
       "output_type": "stream",
       "stream": "stdout",
       "text": [
        " 0 ticks, time elapsed 4.67226999828 seconds\n",
        "1 loops, best of 3: 4.67 s per loop\n"
       ]
      }
     ],
     "prompt_number": 3
    },
    {
     "cell_type": "markdown",
     "metadata": {},
     "source": [
      "## Changing fitness function to use SciPy's `hamming`"
     ]
    },
    {
     "cell_type": "code",
     "collapsed": false,
     "input": [
      "np.hamming?"
     ],
     "language": "python",
     "metadata": {},
     "outputs": [],
     "prompt_number": 4
    },
    {
     "cell_type": "code",
     "collapsed": false,
     "input": [
      "import scipy.spatial.distance as dis"
     ],
     "language": "python",
     "metadata": {},
     "outputs": [],
     "prompt_number": 5
    },
    {
     "cell_type": "code",
     "collapsed": false,
     "input": [
      "dis.hamming?"
     ],
     "language": "python",
     "metadata": {},
     "outputs": [],
     "prompt_number": 6
    },
    {
     "cell_type": "code",
     "collapsed": false,
     "input": [
      "dis.hamming([0,1,1,1,0],[1,1,1,0,1])*5"
     ],
     "language": "python",
     "metadata": {},
     "outputs": [
      {
       "output_type": "pyout",
       "prompt_number": 9,
       "text": [
        "3.0"
       ]
      }
     ],
     "prompt_number": 9
    },
    {
     "cell_type": "code",
     "collapsed": false,
     "input": [
      "A=array([[0,1,1,1,0],[1,1,1,0,1]])\n",
      "B=array([1,1,1,0,1])"
     ],
     "language": "python",
     "metadata": {},
     "outputs": [],
     "prompt_number": 34
    },
    {
     "cell_type": "code",
     "collapsed": false,
     "input": [
      "%timeit dis.cdist(A,B.reshape(1,B.shape[0]),'hamming')*5"
     ],
     "language": "python",
     "metadata": {},
     "outputs": [
      {
       "output_type": "stream",
       "stream": "stdout",
       "text": [
        "10000 loops, best of 3: 55 us per loop\n"
       ]
      }
     ],
     "prompt_number": 44
    },
    {
     "cell_type": "code",
     "collapsed": false,
     "input": [
      "%timeit np.apply_along_axis(dis.hamming, 1, A, B)*5"
     ],
     "language": "python",
     "metadata": {},
     "outputs": [
      {
       "output_type": "stream",
       "stream": "stdout",
       "text": [
        "1000 loops, best of 3: 188 us per loop\n"
       ]
      }
     ],
     "prompt_number": 45
    },
    {
     "cell_type": "code",
     "collapsed": false,
     "input": [
      "a=dis.cdist(A,B,'hamming')*5\n",
      "a=a.reshape(2)\n",
      "a.shape\n",
      "(a==np.apply_along_axis(dis.hamming, 1, A, B[0,:])*5).all()"
     ],
     "language": "python",
     "metadata": {},
     "outputs": [
      {
       "output_type": "pyout",
       "prompt_number": 31,
       "text": [
        "True"
       ]
      }
     ],
     "prompt_number": 31
    },
    {
     "cell_type": "code",
     "collapsed": false,
     "input": [
      "dis.cdist(A,B.reshape(1,B.shape[0]),'hamming')*5"
     ],
     "language": "python",
     "metadata": {},
     "outputs": [
      {
       "output_type": "pyout",
       "prompt_number": 37,
       "text": [
        "array([[ 3.],\n",
        "       [ 0.]])"
       ]
      }
     ],
     "prompt_number": 37
    },
    {
     "cell_type": "markdown",
     "metadata": {},
     "source": [
      "## Playing around with some more optimization"
     ]
    },
    {
     "cell_type": "code",
     "collapsed": false,
     "input": [
      "p,g = simulation.run(0,0)"
     ],
     "language": "python",
     "metadata": {},
     "outputs": [
      {
       "output_type": "stream",
       "stream": "stdout",
       "text": [
        "Starting simulation with  0 ticks\n",
        "Simulation finished,"
       ]
      },
      {
       "output_type": "stream",
       "stream": "stdout",
       "text": [
        " 0 ticks, time elapsed 4.64615700396 seconds\n"
       ]
      }
     ],
     "prompt_number": 47
    },
    {
     "cell_type": "code",
     "collapsed": false,
     "input": [
      "def genome_to_num(genome):\n",
      "    non_zero = genome.nonzero()[0]\n",
      "    #return numexpr.evaluate(\"sum(2. ** non_zero )\")\n",
      "    return (2. ** non_zero).sum() # this is faster than numexpr\n",
      "import numexpr\n",
      "def genome_to_numexpr(genome):\n",
      "    non_zero = genome.nonzero()[0]\n",
      "    return numexpr.evaluate(\"sum(2. ** non_zero )\")"
     ],
     "language": "python",
     "metadata": {},
     "outputs": [],
     "prompt_number": 50
    },
    {
     "cell_type": "code",
     "collapsed": false,
     "input": [
      "%timeit np.array([genome_to_num(ge) for ge in g])\n",
      "%timeit np.array([genome_to_numexpr(ge) for ge in g])"
     ],
     "language": "python",
     "metadata": {},
     "outputs": [
      {
       "output_type": "stream",
       "stream": "stdout",
       "text": [
        "1000 loops, best of 3: 1.56 ms per loop\n",
        "100 loops, best of 3: 4.06 ms per loop"
       ]
      },
      {
       "output_type": "stream",
       "stream": "stdout",
       "text": [
        "\n"
       ]
      }
     ],
     "prompt_number": 53
    },
    {
     "cell_type": "code",
     "collapsed": false,
     "input": [
      "def find_row_nums(nums, target):\n",
      "\tfor i,n in enumerate(nums):\n",
      "\t\tif n == target:\n",
      "\t\t\treturn i\n",
      "\treturn -1\n",
      "\n",
      "n = genome_to_num(g[23,:])\n",
      "print n\n",
      "nums = np.array([genome_to_num(ge) for ge in g])"
     ],
     "language": "python",
     "metadata": {},
     "outputs": [
      {
       "output_type": "stream",
       "stream": "stdout",
       "text": [
        "7.55578637259e+22\n"
       ]
      }
     ],
     "prompt_number": 57
    },
    {
     "cell_type": "code",
     "collapsed": false,
     "input": [
      "find_row_nums(nums, n)"
     ],
     "language": "python",
     "metadata": {},
     "outputs": [
      {
       "output_type": "pyout",
       "prompt_number": 58,
       "text": [
        "23"
       ]
      }
     ],
     "prompt_number": 58
    },
    {
     "cell_type": "code",
     "collapsed": false,
     "input": [
      "%load_ext cythonmagic"
     ],
     "language": "python",
     "metadata": {},
     "outputs": [],
     "prompt_number": 62
    },
    {
     "cell_type": "code",
     "collapsed": false,
     "input": [
      "%%cython\n",
      "import numpy as np\n",
      "cimport numpy as np\n",
      "\n",
      "def find_row_nums_c(np.ndarray[double] nums, double target):\n",
      "    cdef Py_ssize_t i\n",
      "    cdef double n\n",
      "    for i,n in enumerate(nums):\n",
      "        if n == target:\n",
      "            return i\n",
      "    return -1"
     ],
     "language": "python",
     "metadata": {},
     "outputs": [],
     "prompt_number": 68
    },
    {
     "cell_type": "code",
     "collapsed": false,
     "input": [
      "find_row_nums_c(nums, n)"
     ],
     "language": "python",
     "metadata": {},
     "outputs": [
      {
       "output_type": "pyout",
       "prompt_number": 69,
       "text": [
        "23"
       ]
      }
     ],
     "prompt_number": 69
    },
    {
     "cell_type": "code",
     "collapsed": false,
     "input": [
      "%timeit find_row_nums(nums, n)\n",
      "%timeit find_row_nums_c(nums, n)"
     ],
     "language": "python",
     "metadata": {},
     "outputs": [
      {
       "output_type": "stream",
       "stream": "stdout",
       "text": [
        "100000 loops, best of 3: 7.76 us per loop\n",
        "100000 loops, best of 3: 5 us per loop"
       ]
      },
      {
       "output_type": "stream",
       "stream": "stdout",
       "text": [
        "\n"
       ]
      }
     ],
     "prompt_number": 71
    },
    {
     "cell_type": "markdown",
     "metadata": {},
     "source": [
      "# 2/12/12\n",
      "## There is a bug"
     ]
    },
    {
     "cell_type": "code",
     "collapsed": false,
     "input": [
      "%run params.py\n",
      "%run model.py"
     ],
     "language": "python",
     "metadata": {},
     "outputs": [],
     "prompt_number": 22
    },
    {
     "cell_type": "code",
     "collapsed": false,
     "input": [
      "target_genome = create_target_genome(num_loci)\n",
      "genomes = target_genome.copy()\n",
      "genomes.resize( (1, target_genome.shape[0]) )\n",
      "population = create_mutation_free_population(pop_size, genomes.shape[0])\n",
      "fitness = hamming_fitness_genomes(genomes, target_genome, s)"
     ],
     "language": "python",
     "metadata": {},
     "outputs": [],
     "prompt_number": 23
    },
    {
     "cell_type": "code",
     "collapsed": false,
     "input": [
      "fitness"
     ],
     "language": "python",
     "metadata": {},
     "outputs": [
      {
       "output_type": "pyout",
       "prompt_number": 24,
       "text": [
        "array([ 1.])"
       ]
      }
     ],
     "prompt_number": 24
    },
    {
     "cell_type": "code",
     "collapsed": false,
     "input": [
      "from scipy.spatial.distance import cdist, hamming"
     ],
     "language": "python",
     "metadata": {},
     "outputs": [],
     "prompt_number": 12
    },
    {
     "cell_type": "code",
     "collapsed": false,
     "input": [
      "(s**(cdist(genomes,target_genome.reshape(1, num_loci), 'hamming')*num_loci)).reshape(genomes.shape[0])"
     ],
     "language": "python",
     "metadata": {},
     "outputs": [
      {
       "output_type": "pyout",
       "prompt_number": 21,
       "text": [
        "array([ 1.])"
       ]
      }
     ],
     "prompt_number": 21
    },
    {
     "cell_type": "code",
     "collapsed": false,
     "input": [
      "target_genome.shape"
     ],
     "language": "python",
     "metadata": {},
     "outputs": [
      {
       "output_type": "pyout",
       "prompt_number": 20,
       "text": [
        "(1000L,)"
       ]
      }
     ],
     "prompt_number": 20
    },
    {
     "cell_type": "markdown",
     "metadata": {},
     "source": [
      "Bug fixed - fitness was a matrix due to the move to `hamming`, and also it was the mutational load rather than fitness (no `s**`). I changed it to fitness and also used `reshape` to make it a vector."
     ]
    },
    {
     "cell_type": "markdown",
     "metadata": {},
     "source": [
      "# 3/12/2012\n",
      "## New bug\n",
      "\n",
      "On reshaping `fitness` I get an error: `ValueError: total size of new array must be unchanged`."
     ]
    },
    {
     "cell_type": "code",
     "collapsed": false,
     "input": [
      "reload(model);\n",
      "reload(simulation);"
     ],
     "language": "python",
     "metadata": {},
     "outputs": [],
     "prompt_number": 41
    },
    {
     "cell_type": "code",
     "collapsed": false,
     "input": [
      "simulation.run(10,0);"
     ],
     "language": "python",
     "metadata": {},
     "outputs": [
      {
       "output_type": "stream",
       "stream": "stdout",
       "text": [
        "Starting simulation with  10 ticks\n",
        "(1L, 1000L) (1L,)\n",
        "(957L, 1000L)"
       ]
      },
      {
       "output_type": "stream",
       "stream": "stdout",
       "text": [
        " (957L,)\n",
        "(948L, 1000L)"
       ]
      },
      {
       "output_type": "stream",
       "stream": "stdout",
       "text": [
        " (948L,)\n",
        "(957L, 1000L)"
       ]
      },
      {
       "output_type": "stream",
       "stream": "stdout",
       "text": [
        " (957L,)\n",
        "(938L, 1000L)"
       ]
      },
      {
       "output_type": "stream",
       "stream": "stdout",
       "text": [
        " (938L,)\n",
        "(956L, 1000L)"
       ]
      },
      {
       "output_type": "stream",
       "stream": "stdout",
       "text": [
        " (956L,)\n",
        "(960L, 1000L)"
       ]
      },
      {
       "output_type": "stream",
       "stream": "stdout",
       "text": [
        " (960L,)\n",
        "(954L, 1000L)"
       ]
      },
      {
       "output_type": "stream",
       "stream": "stdout",
       "text": [
        " (954L,)\n",
        "(960L, 1000L)"
       ]
      },
      {
       "output_type": "stream",
       "stream": "stdout",
       "text": [
        " (960L,)\n",
        "(932L, 1000L)"
       ]
      },
      {
       "output_type": "stream",
       "stream": "stdout",
       "text": [
        " (932L,)\n",
        "(955L, 1000L)"
       ]
      },
      {
       "output_type": "stream",
       "stream": "stdout",
       "text": [
        " (955L,)\n",
        "Simulation finished,"
       ]
      },
      {
       "output_type": "stream",
       "stream": "stdout",
       "text": [
        " 10 ticks, time elapsed 2.11567111693 seconds\n"
       ]
      }
     ],
     "prompt_number": 44
    },
    {
     "cell_type": "markdown",
     "metadata": {},
     "source": [
      "Found the bug - `clear` changed `population` but didn't change `genomes`."
     ]
    },
    {
     "cell_type": "markdown",
     "metadata": {},
     "source": [
      "## Timing `simulation.run`"
     ]
    },
    {
     "cell_type": "code",
     "collapsed": false,
     "input": [
      "reload(simulation);\n",
      "reload(model);"
     ],
     "language": "python",
     "metadata": {},
     "outputs": [],
     "prompt_number": 45
    },
    {
     "cell_type": "code",
     "collapsed": false,
     "input": [
      "%timeit -n 10 simulation.run(0,0);"
     ],
     "language": "python",
     "metadata": {},
     "outputs": [
      {
       "output_type": "stream",
       "stream": "stdout",
       "text": [
        "Starting simulation with  0 ticks\n",
        "Simulation finished,"
       ]
      },
      {
       "output_type": "stream",
       "stream": "stdout",
       "text": [
        " 0 ticks, time elapsed 0.153328644607 seconds\n",
        "Starting simulation with  0 ticks\n",
        "Simulation finished,"
       ]
      },
      {
       "output_type": "stream",
       "stream": "stdout",
       "text": [
        " 0 ticks, time elapsed 0.135764629886 seconds\n",
        "Starting simulation with  0 ticks\n",
        "Simulation finished,"
       ]
      },
      {
       "output_type": "stream",
       "stream": "stdout",
       "text": [
        " 0 ticks, time elapsed 0.139393463753 seconds\n",
        "Starting simulation with  0 ticks\n",
        "Simulation finished,"
       ]
      },
      {
       "output_type": "stream",
       "stream": "stdout",
       "text": [
        " 0 ticks, time elapsed 0.145808367866 seconds\n",
        "Starting simulation with  0 ticks\n",
        "Simulation finished,"
       ]
      },
      {
       "output_type": "stream",
       "stream": "stdout",
       "text": [
        " 0 ticks, time elapsed 0.132743720773 seconds\n",
        "Starting simulation with  0 ticks\n",
        "Simulation finished,"
       ]
      },
      {
       "output_type": "stream",
       "stream": "stdout",
       "text": [
        " 0 ticks, time elapsed 0.139397689643 seconds\n",
        "Starting simulation with  0 ticks\n",
        "Simulation finished,"
       ]
      },
      {
       "output_type": "stream",
       "stream": "stdout",
       "text": [
        " 0 ticks, time elapsed 0.135361962748 seconds\n",
        "Starting simulation with  0 ticks\n",
        "Simulation finished,"
       ]
      },
      {
       "output_type": "stream",
       "stream": "stdout",
       "text": [
        " 0 ticks, time elapsed 0.141156264428 seconds\n",
        "Starting simulation with  0 ticks\n",
        "Simulation finished,"
       ]
      },
      {
       "output_type": "stream",
       "stream": "stdout",
       "text": [
        " 0 ticks, time elapsed 0.138713095133 seconds\n",
        "Starting simulation with  0 ticks\n",
        "Simulation finished,"
       ]
      },
      {
       "output_type": "stream",
       "stream": "stdout",
       "text": [
        " 0 ticks, time elapsed 0.136661726399 seconds\n",
        "Starting simulation with  0 ticks\n",
        "Simulation finished,"
       ]
      },
      {
       "output_type": "stream",
       "stream": "stdout",
       "text": [
        " 0 ticks, time elapsed 0.137074656421 seconds\n",
        "Starting simulation with  0 ticks\n",
        "Simulation finished,"
       ]
      },
      {
       "output_type": "stream",
       "stream": "stdout",
       "text": [
        " 0 ticks, time elapsed 0.1430301457 seconds\n",
        "Starting simulation with  0 ticks\n",
        "Simulation finished,"
       ]
      },
      {
       "output_type": "stream",
       "stream": "stdout",
       "text": [
        " 0 ticks, time elapsed 0.140934706949 seconds\n",
        "Starting simulation with  0 ticks\n",
        "Simulation finished,"
       ]
      },
      {
       "output_type": "stream",
       "stream": "stdout",
       "text": [
        " 0 ticks, time elapsed 0.138064118859 seconds\n",
        "Starting simulation with  0 ticks\n",
        "Simulation finished,"
       ]
      },
      {
       "output_type": "stream",
       "stream": "stdout",
       "text": [
        " 0 ticks, time elapsed 0.135622156959 seconds\n",
        "Starting simulation with  0 ticks\n",
        "Simulation finished,"
       ]
      },
      {
       "output_type": "stream",
       "stream": "stdout",
       "text": [
        " 0 ticks, time elapsed 0.134988273152 seconds\n",
        "Starting simulation with  0 ticks\n",
        "Simulation finished,"
       ]
      },
      {
       "output_type": "stream",
       "stream": "stdout",
       "text": [
        " 0 ticks, time elapsed 0.143869890824 seconds\n",
        "Starting simulation with  0 ticks\n",
        "Simulation finished,"
       ]
      },
      {
       "output_type": "stream",
       "stream": "stdout",
       "text": [
        " 0 ticks, time elapsed 0.137645755545 seconds\n",
        "Starting simulation with  0 ticks\n",
        "Simulation finished,"
       ]
      },
      {
       "output_type": "stream",
       "stream": "stdout",
       "text": [
        " 0 ticks, time elapsed 0.137250332795 seconds\n",
        "Starting simulation with  0 ticks\n",
        "Simulation finished,"
       ]
      },
      {
       "output_type": "stream",
       "stream": "stdout",
       "text": [
        " 0 ticks, time elapsed 0.151034588926 seconds\n",
        "Starting simulation with  0 ticks\n",
        "Simulation finished,"
       ]
      },
      {
       "output_type": "stream",
       "stream": "stdout",
       "text": [
        " 0 ticks, time elapsed 0.16656232738 seconds\n",
        "Starting simulation with  0 ticks\n",
        "Simulation finished,"
       ]
      },
      {
       "output_type": "stream",
       "stream": "stdout",
       "text": [
        " 0 ticks, time elapsed 0.156535492963 seconds\n",
        "Starting simulation with  0 ticks\n",
        "Simulation finished,"
       ]
      },
      {
       "output_type": "stream",
       "stream": "stdout",
       "text": [
        " 0 ticks, time elapsed 0.144390279245 seconds\n",
        "Starting simulation with  0 ticks\n",
        "Simulation finished,"
       ]
      },
      {
       "output_type": "stream",
       "stream": "stdout",
       "text": [
        " 0 ticks, time elapsed 0.137916212632 seconds\n",
        "Starting simulation with  0 ticks\n",
        "Simulation finished,"
       ]
      },
      {
       "output_type": "stream",
       "stream": "stdout",
       "text": [
        " 0 ticks, time elapsed 0.136946672261 seconds\n",
        "Starting simulation with  0 ticks\n",
        "Simulation finished,"
       ]
      },
      {
       "output_type": "stream",
       "stream": "stdout",
       "text": [
        " 0 ticks, time elapsed 0.137940964283 seconds\n",
        "Starting simulation with  0 ticks\n",
        "Simulation finished,"
       ]
      },
      {
       "output_type": "stream",
       "stream": "stdout",
       "text": [
        " 0 ticks, time elapsed 0.132824012726 seconds\n",
        "Starting simulation with  0 ticks\n",
        "Simulation finished,"
       ]
      },
      {
       "output_type": "stream",
       "stream": "stdout",
       "text": [
        " 0 ticks, time elapsed 0.136765562602 seconds\n",
        "Starting simulation with  0 ticks\n",
        "Simulation finished,"
       ]
      },
      {
       "output_type": "stream",
       "stream": "stdout",
       "text": [
        " 0 ticks, time elapsed 0.13731311747 seconds\n",
        "Starting simulation with  0 ticks\n",
        "Simulation finished,"
       ]
      },
      {
       "output_type": "stream",
       "stream": "stdout",
       "text": [
        " 0 ticks, time elapsed 0.134765508272 seconds\n",
        "10 loops, best of 3: 141 ms per loop\n"
       ]
      }
     ],
     "prompt_number": 46
    },
    {
     "cell_type": "markdown",
     "metadata": {},
     "source": [
      "Got **~120-140 ms per loop**, need to check but as I recall this is the good result.\n",
      "Running from *SublimeText* I get the same result."
     ]
    },
    {
     "cell_type": "code",
     "collapsed": false,
     "input": [
      "%timeit -n 10 simulation.run(10,0);"
     ],
     "language": "python",
     "metadata": {},
     "outputs": [
      {
       "output_type": "stream",
       "stream": "stdout",
       "text": [
        "Starting simulation with  10 ticks\n",
        "Simulation finished,"
       ]
      },
      {
       "output_type": "stream",
       "stream": "stdout",
       "text": [
        " 10 ticks, time elapsed 1.91456634802 seconds\n",
        "Starting simulation with  10 ticks\n",
        "Simulation finished,"
       ]
      },
      {
       "output_type": "stream",
       "stream": "stdout",
       "text": [
        " 10 ticks, time elapsed 1.8854807405 seconds\n",
        "Starting simulation with  10 ticks\n",
        "Simulation finished,"
       ]
      },
      {
       "output_type": "stream",
       "stream": "stdout",
       "text": [
        " 10 ticks, time elapsed 2.16312848825 seconds\n",
        "Starting simulation with  10 ticks\n",
        "Simulation finished,"
       ]
      },
      {
       "output_type": "stream",
       "stream": "stdout",
       "text": [
        " 10 ticks, time elapsed 2.05569122011 seconds\n",
        "Starting simulation with  10 ticks\n",
        "Simulation finished,"
       ]
      },
      {
       "output_type": "stream",
       "stream": "stdout",
       "text": [
        " 10 ticks, time elapsed 1.95098568932 seconds\n",
        "Starting simulation with  10 ticks\n",
        "Simulation finished,"
       ]
      },
      {
       "output_type": "stream",
       "stream": "stdout",
       "text": [
        " 10 ticks, time elapsed 1.91604359913 seconds\n",
        "Starting simulation with  10 ticks\n",
        "Simulation finished,"
       ]
      },
      {
       "output_type": "stream",
       "stream": "stdout",
       "text": [
        " 10 ticks, time elapsed 1.92419111899 seconds\n",
        "Starting simulation with  10 ticks\n",
        "Simulation finished,"
       ]
      },
      {
       "output_type": "stream",
       "stream": "stdout",
       "text": [
        " 10 ticks, time elapsed 2.00773579723 seconds\n",
        "Starting simulation with  10 ticks\n",
        "Simulation finished,"
       ]
      },
      {
       "output_type": "stream",
       "stream": "stdout",
       "text": [
        " 10 ticks, time elapsed 1.93219556221 seconds\n",
        "Starting simulation with  10 ticks\n",
        "Simulation finished,"
       ]
      },
      {
       "output_type": "stream",
       "stream": "stdout",
       "text": [
        " 10 ticks, time elapsed 1.93448659939 seconds\n",
        "Starting simulation with  10 ticks\n",
        "Simulation finished,"
       ]
      },
      {
       "output_type": "stream",
       "stream": "stdout",
       "text": [
        " 10 ticks, time elapsed 1.89104261812 seconds\n",
        "Starting simulation with  10 ticks\n",
        "Simulation finished,"
       ]
      },
      {
       "output_type": "stream",
       "stream": "stdout",
       "text": [
        " 10 ticks, time elapsed 1.94418321054 seconds\n",
        "Starting simulation with  10 ticks\n",
        "Simulation finished,"
       ]
      },
      {
       "output_type": "stream",
       "stream": "stdout",
       "text": [
        " 10 ticks, time elapsed 1.96579200763 seconds\n",
        "Starting simulation with  10 ticks\n",
        "Simulation finished,"
       ]
      },
      {
       "output_type": "stream",
       "stream": "stdout",
       "text": [
        " 10 ticks, time elapsed 1.94729225968 seconds\n",
        "Starting simulation with  10 ticks\n",
        "Simulation finished,"
       ]
      },
      {
       "output_type": "stream",
       "stream": "stdout",
       "text": [
        " 10 ticks, time elapsed 2.00488513119 seconds\n",
        "Starting simulation with  10 ticks\n",
        "Simulation finished,"
       ]
      },
      {
       "output_type": "stream",
       "stream": "stdout",
       "text": [
        " 10 ticks, time elapsed 2.75133341987 seconds\n",
        "Starting simulation with  10 ticks\n",
        "Simulation finished,"
       ]
      },
      {
       "output_type": "stream",
       "stream": "stdout",
       "text": [
        " 10 ticks, time elapsed 2.96862758119 seconds\n",
        "Starting simulation with  10 ticks\n",
        "Simulation finished,"
       ]
      },
      {
       "output_type": "stream",
       "stream": "stdout",
       "text": [
        " 10 ticks, time elapsed 2.96269201397 seconds\n",
        "Starting simulation with  10 ticks\n",
        "Simulation finished,"
       ]
      },
      {
       "output_type": "stream",
       "stream": "stdout",
       "text": [
        " 10 ticks, time elapsed 2.9972912032 seconds\n",
        "Starting simulation with  10 ticks\n",
        "Simulation finished,"
       ]
      },
      {
       "output_type": "stream",
       "stream": "stdout",
       "text": [
        " 10 ticks, time elapsed 2.95123682804 seconds\n",
        "Starting simulation with  10 ticks\n",
        "Simulation finished,"
       ]
      },
      {
       "output_type": "stream",
       "stream": "stdout",
       "text": [
        " 10 ticks, time elapsed 2.96389458211 seconds\n",
        "Starting simulation with  10 ticks\n",
        "Simulation finished,"
       ]
      },
      {
       "output_type": "stream",
       "stream": "stdout",
       "text": [
        " 10 ticks, time elapsed 3.0066859649 seconds\n",
        "Starting simulation with  10 ticks\n",
        "Simulation finished,"
       ]
      },
      {
       "output_type": "stream",
       "stream": "stdout",
       "text": [
        " 10 ticks, time elapsed 2.96286587924 seconds\n",
        "Starting simulation with  10 ticks\n",
        "Simulation finished,"
       ]
      },
      {
       "output_type": "stream",
       "stream": "stdout",
       "text": [
        " 10 ticks, time elapsed 2.91511571398 seconds\n",
        "Starting simulation with  10 ticks\n",
        "Simulation finished,"
       ]
      },
      {
       "output_type": "stream",
       "stream": "stdout",
       "text": [
        " 10 ticks, time elapsed 2.95612618513 seconds\n",
        "Starting simulation with  10 ticks\n",
        "Simulation finished,"
       ]
      },
      {
       "output_type": "stream",
       "stream": "stdout",
       "text": [
        " 10 ticks, time elapsed 2.93170898093 seconds\n",
        "Starting simulation with  10 ticks\n",
        "Simulation finished,"
       ]
      },
      {
       "output_type": "stream",
       "stream": "stdout",
       "text": [
        " 10 ticks, time elapsed 3.04903061055 seconds\n",
        "Starting simulation with  10 ticks\n",
        "Simulation finished,"
       ]
      },
      {
       "output_type": "stream",
       "stream": "stdout",
       "text": [
        " 10 ticks, time elapsed 3.19660781609 seconds\n",
        "Starting simulation with  10 ticks\n",
        "Simulation finished,"
       ]
      },
      {
       "output_type": "stream",
       "stream": "stdout",
       "text": [
        " 10 ticks, time elapsed 2.93407548047 seconds\n",
        "Starting simulation with  10 ticks\n",
        "Simulation finished,"
       ]
      },
      {
       "output_type": "stream",
       "stream": "stdout",
       "text": [
        " 10 ticks, time elapsed 2.97318128171 seconds\n",
        "10 loops, best of 3: 1.97 s per loop\n"
       ]
      }
     ],
     "prompt_number": 47
    },
    {
     "cell_type": "markdown",
     "metadata": {},
     "source": [
      "Result - 2 sec for 11 generations, which means ~180 ms per generation.\n",
      "Running from *SublimeText* I get the same result."
     ]
    },
    {
     "cell_type": "markdown",
     "metadata": {},
     "source": [
      "## Adding support for command line arguments"
     ]
    },
    {
     "cell_type": "code",
     "collapsed": false,
     "input": [
      "%reset"
     ],
     "language": "python",
     "metadata": {},
     "outputs": [],
     "prompt_number": 84
    },
    {
     "cell_type": "code",
     "collapsed": false,
     "input": [
      "import sys"
     ],
     "language": "python",
     "metadata": {},
     "outputs": [],
     "prompt_number": 85
    },
    {
     "cell_type": "code",
     "collapsed": false,
     "input": [
      "sys.argv"
     ],
     "language": "python",
     "metadata": {},
     "outputs": [
      {
       "output_type": "pyout",
       "prompt_number": 86,
       "text": [
        "['-c',\n",
        " '-f',\n",
        " 'C:\\\\Users\\\\yoavram\\\\.ipython\\\\profile_default\\\\security\\\\kernel-36bef4a7-723f-404a-912d-f71e0ba270ef.json',\n",
        " '--pylab=inline',\n",
        " \"--KernelApp.parent_appname='ipython-notebook'\",\n",
        " '--interrupt=900',\n",
        " '--parent=904']"
       ]
      }
     ],
     "prompt_number": 86
    },
    {
     "cell_type": "code",
     "collapsed": false,
     "input": [
      "import argparse"
     ],
     "language": "python",
     "metadata": {},
     "outputs": [],
     "prompt_number": 151
    },
    {
     "cell_type": "code",
     "collapsed": false,
     "input": [
      "%run args.py --pop_size 100"
     ],
     "language": "python",
     "metadata": {},
     "outputs": [
      {
       "output_type": "stream",
       "stream": "stdout",
       "text": [
        "100\n"
       ]
      }
     ],
     "prompt_number": 107
    },
    {
     "cell_type": "code",
     "collapsed": false,
     "input": [
      "args"
     ],
     "language": "python",
     "metadata": {},
     "outputs": [
      {
       "output_type": "pyout",
       "prompt_number": 108,
       "text": [
        "Namespace(debug=None, mu=None, num_loci=None, pop_size=100, r=None, s=None, tick_interval=None, ticks=None)"
       ]
      }
     ],
     "prompt_number": 108
    },
    {
     "cell_type": "code",
     "collapsed": false,
     "input": [
      "globals().update(vars(args))"
     ],
     "language": "python",
     "metadata": {},
     "outputs": [],
     "prompt_number": 109
    },
    {
     "cell_type": "code",
     "collapsed": false,
     "input": [
      "debug"
     ],
     "language": "python",
     "metadata": {},
     "outputs": [],
     "prompt_number": 110
    },
    {
     "cell_type": "code",
     "collapsed": false,
     "input": [
      "mu"
     ],
     "language": "python",
     "metadata": {},
     "outputs": [],
     "prompt_number": 111
    },
    {
     "cell_type": "code",
     "collapsed": false,
     "input": [
      "import params\n",
      "reload(params);"
     ],
     "language": "python",
     "metadata": {},
     "outputs": [],
     "prompt_number": 124
    },
    {
     "cell_type": "code",
     "collapsed": false,
     "input": [
      "params.params"
     ],
     "language": "python",
     "metadata": {},
     "outputs": [
      {
       "output_type": "pyout",
       "prompt_number": 125,
       "text": [
        "{'debug': True,\n",
        " 'mu': 0.003,\n",
        " 'num_loci': 1000,\n",
        " 'pop_size': 10,\n",
        " 'r': 6e-05,\n",
        " 's': 0.01,\n",
        " 'tick_interval': 0,\n",
        " 'ticks': 1}"
       ]
      }
     ],
     "prompt_number": 125
    },
    {
     "cell_type": "code",
     "collapsed": false,
     "input": [
      "globals().update(params.params)"
     ],
     "language": "python",
     "metadata": {},
     "outputs": [],
     "prompt_number": 126
    },
    {
     "cell_type": "code",
     "collapsed": false,
     "input": [
      "mu"
     ],
     "language": "python",
     "metadata": {},
     "outputs": [
      {
       "output_type": "pyout",
       "prompt_number": 127,
       "text": [
        "0.003"
       ]
      }
     ],
     "prompt_number": 127
    },
    {
     "cell_type": "code",
     "collapsed": false,
     "input": [
      "%run args.py --pop_size=1000 --r=0 "
     ],
     "language": "python",
     "metadata": {},
     "outputs": [
      {
       "output_type": "stream",
       "stream": "stdout",
       "text": [
        "{'ticks': 1, 'tick_interval': 0, 'mu': 0.003, 's': 0.01, 'r': 0.0, 'num_loci': 1000, 'debug': True, 'params': 'params.py', 'pop_size': 1000}\n"
       ]
      }
     ],
     "prompt_number": 156
    },
    {
     "cell_type": "code",
     "collapsed": false,
     "input": [
      "%run args.py --params prod_params.py"
     ],
     "language": "python",
     "metadata": {},
     "outputs": [
      {
       "output_type": "stream",
       "stream": "stdout",
       "text": [
        "{'ticks': 100, 'tick_interval': 10, 'mu': 0.003, 's': 0.01, 'r': 0.0, 'num_loci': 1000, 'debug': False, 'params': 'prod_params.py', 'pop_size': 100000000}\n"
       ]
      }
     ],
     "prompt_number": 165
    },
    {
     "cell_type": "code",
     "collapsed": false,
     "input": [
      "%run args.py --pop_size 1000"
     ],
     "language": "python",
     "metadata": {},
     "outputs": [
      {
       "output_type": "stream",
       "stream": "stdout",
       "text": [
        "{'ticks': 1, 'tick_interval': 0, 'mu': 0.003, 's': 0.01, 'r': 6e-05, 'num_loci': 1000, 'debug': True, 'params': 'params.py', 'pop_size': 1000}\n"
       ]
      }
     ],
     "prompt_number": 172
    },
    {
     "cell_type": "markdown",
     "metadata": {},
     "source": [
      "## Logging"
     ]
    },
    {
     "cell_type": "code",
     "collapsed": false,
     "input": [
      "import logging"
     ],
     "language": "python",
     "metadata": {},
     "outputs": [],
     "prompt_number": 189
    },
    {
     "cell_type": "code",
     "collapsed": false,
     "input": [
      "logging.root.name='mamba'\n",
      "print logging.root.name\n",
      "logging.root.info('hi')"
     ],
     "language": "python",
     "metadata": {},
     "outputs": [
      {
       "output_type": "stream",
       "stream": "stdout",
       "text": [
        "mamba\n"
       ]
      }
     ],
     "prompt_number": 196
    },
    {
     "cell_type": "code",
     "collapsed": false,
     "input": [
      "l=logging.root.getChild('model')\n",
      "l.info('who am i')"
     ],
     "language": "python",
     "metadata": {},
     "outputs": [],
     "prompt_number": 195
    },
    {
     "cell_type": "code",
     "collapsed": false,
     "input": [
      "import log\n",
      "reload(log);"
     ],
     "language": "python",
     "metadata": {},
     "outputs": [],
     "prompt_number": 201
    },
    {
     "cell_type": "code",
     "collapsed": false,
     "input": [
      "log.init()\n",
      "l=log.get_logger('model')\n",
      "l.info('hi')"
     ],
     "language": "python",
     "metadata": {},
     "outputs": [
      {
       "output_type": "stream",
       "stream": "stderr",
       "text": [
        "2012-12-03 16:27:44,177 - mamba - INFO - Logging to log.log\n"
       ]
      },
      {
       "output_type": "stream",
       "stream": "stderr",
       "text": [
        "2012-12-03 16:27:44,177 - mamba - INFO - Logging to log.log\n"
       ]
      },
      {
       "output_type": "stream",
       "stream": "stderr",
       "text": [
        "2012-12-03 16:27:44,178 - model - INFO - hi\n"
       ]
      },
      {
       "output_type": "stream",
       "stream": "stderr",
       "text": [
        "2012-12-03 16:27:44,178 - model - INFO - hi\n"
       ]
      }
     ],
     "prompt_number": 202
    },
    {
     "cell_type": "markdown",
     "metadata": {},
     "source": [
      "## Add time and date as an identifier"
     ]
    },
    {
     "cell_type": "code",
     "collapsed": false,
     "input": [
      "import datetime"
     ],
     "language": "python",
     "metadata": {},
     "outputs": [],
     "prompt_number": 12
    },
    {
     "cell_type": "code",
     "collapsed": false,
     "input": [
      "datetime.datetime.now().strftime('%Y-%b-%d_%H-%M-%S-%f')"
     ],
     "language": "python",
     "metadata": {},
     "outputs": [
      {
       "output_type": "pyout",
       "prompt_number": 20,
       "text": [
        "'2012-Dec-03_16-52-53-772000'"
       ]
      }
     ],
     "prompt_number": 20
    },
    {
     "cell_type": "markdown",
     "metadata": {},
     "source": [
      "## Test after `args`, `logging` and `timedate`"
     ]
    },
    {
     "cell_type": "code",
     "collapsed": false,
     "input": [
      "cd d:\\workspace\\mamba"
     ],
     "language": "python",
     "metadata": {},
     "outputs": [
      {
       "output_type": "stream",
       "stream": "stdout",
       "text": [
        "d:\\workspace\\mamba\n"
       ]
      }
     ],
     "prompt_number": 3
    },
    {
     "cell_type": "code",
     "collapsed": false,
     "input": [
      "%run simulation.py --r 0 --debug False --pop_size 10000000 --ticks 100 --log_file 0"
     ],
     "language": "python",
     "metadata": {},
     "outputs": [
      {
       "output_type": "stream",
       "stream": "stderr",
       "text": [
        "2012-12-05 12:41:20,453 - mamba - INFO - Logging to log\\test_2012-Dec-05_12-41-20-440000.log\n"
       ]
      },
      {
       "output_type": "stream",
       "stream": "stderr",
       "text": [
        "2012-12-05 12:41:20,453 - simulation - INFO - Simulation ID: 2012-Dec-05_12-41-20-440000\n"
       ]
      },
      {
       "output_type": "stream",
       "stream": "stderr",
       "text": [
        "2012-12-05 12:41:20,454 - simulation - INFO - Logging to log\\test_2012-Dec-05_12-41-20-440000.log\n"
       ]
      },
      {
       "output_type": "stream",
       "stream": "stderr",
       "text": [
        "2012-12-05 12:41:20,456 - simulation - INFO - Parametes from file and command line: {'params_dir': 'params', 'out_dir': 'output', 'ser_ext': '.ser', 'debug': True, 'ser_dir': 'serialization', 'pop_size': 10000000, 'log_ext': '.log', 'ticks': 100, 'tick_interval': 0, 'out_ext': '.csv', 'mu': 0.003, 's': 0.01, 'r': 0.0, 'num_loci': 1000, 'log_dir': 'log', 'params_ext': '.py', 'params': 'params.py', 'log_file': '0', 'job_name': 'test'}\n"
       ]
      },
      {
       "output_type": "stream",
       "stream": "stderr",
       "text": [
        "2012-12-05 12:41:20,457 - simulation - INFO - Parameters saved to file params\\test_2012-Dec-05_12-41-20-440000.py\n"
       ]
      },
      {
       "output_type": "stream",
       "stream": "stderr",
       "text": [
        "2012-12-05 12:41:20,457 - simulation - INFO - Starting simulation with 100 ticks\n"
       ]
      },
      {
       "output_type": "stream",
       "stream": "stderr",
       "text": [
        "2012-12-05 12:41:46,102 - simulation - INFO - Simulation finished, 100 ticks, time elapsed 25.646 seconds\n"
       ]
      }
     ],
     "prompt_number": 4
    },
    {
     "cell_type": "code",
     "collapsed": false,
     "input": [
      "%run -t simulation.py --r 0 --debug False --pop_size 100000 --ticks 100 --log_file 0"
     ],
     "language": "python",
     "metadata": {},
     "outputs": [
      {
       "output_type": "stream",
       "stream": "stderr",
       "text": [
        "2012-12-05 12:41:46,119 - mamba - INFO - Logging to log\\test_2012-Dec-05_12-41-46-114000.log\n"
       ]
      },
      {
       "output_type": "stream",
       "stream": "stderr",
       "text": [
        "2012-12-05 12:41:46,119 - mamba - INFO - Logging to log\\test_2012-Dec-05_12-41-46-114000.log\n"
       ]
      },
      {
       "output_type": "stream",
       "stream": "stderr",
       "text": [
        "2012-12-05 12:41:46,121 - simulation - INFO - Simulation ID: 2012-Dec-05_12-41-46-114000\n"
       ]
      },
      {
       "output_type": "stream",
       "stream": "stderr",
       "text": [
        "2012-12-05 12:41:46,121 - simulation - INFO - Simulation ID: 2012-Dec-05_12-41-46-114000\n"
       ]
      },
      {
       "output_type": "stream",
       "stream": "stderr",
       "text": [
        "2012-12-05 12:41:46,122 - simulation - INFO - Logging to log\\test_2012-Dec-05_12-41-46-114000.log\n"
       ]
      },
      {
       "output_type": "stream",
       "stream": "stderr",
       "text": [
        "2012-12-05 12:41:46,122 - simulation - INFO - Logging to log\\test_2012-Dec-05_12-41-46-114000.log\n"
       ]
      },
      {
       "output_type": "stream",
       "stream": "stderr",
       "text": [
        "2012-12-05 12:41:46,125 - simulation - INFO - Parametes from file and command line: {'params_dir': 'params', 'out_dir': 'output', 'ser_ext': '.ser', 'debug': True, 'ser_dir': 'serialization', 'pop_size': 100000, 'log_ext': '.log', 'ticks': 100, 'tick_interval': 0, 'out_ext': '.csv', 'mu': 0.003, 's': 0.01, 'r': 0.0, 'num_loci': 1000, 'log_dir': 'log', 'params_ext': '.py', 'params': 'params.py', 'log_file': '0', 'job_name': 'test'}\n"
       ]
      },
      {
       "output_type": "stream",
       "stream": "stderr",
       "text": [
        "2012-12-05 12:41:46,125 - simulation - INFO - Parametes from file and command line: {'params_dir': 'params', 'out_dir': 'output', 'ser_ext': '.ser', 'debug': True, 'ser_dir': 'serialization', 'pop_size': 100000, 'log_ext': '.log', 'ticks': 100, 'tick_interval': 0, 'out_ext': '.csv', 'mu': 0.003, 's': 0.01, 'r': 0.0, 'num_loci': 1000, 'log_dir': 'log', 'params_ext': '.py', 'params': 'params.py', 'log_file': '0', 'job_name': 'test'}\n"
       ]
      },
      {
       "output_type": "stream",
       "stream": "stderr",
       "text": [
        "2012-12-05 12:41:46,128 - simulation - INFO - Parameters saved to file params\\test_2012-Dec-05_12-41-46-114000.py\n"
       ]
      },
      {
       "output_type": "stream",
       "stream": "stderr",
       "text": [
        "2012-12-05 12:41:46,128 - simulation - INFO - Parameters saved to file params\\test_2012-Dec-05_12-41-46-114000.py\n"
       ]
      },
      {
       "output_type": "stream",
       "stream": "stderr",
       "text": [
        "2012-12-05 12:41:46,130 - simulation - INFO - Starting simulation with 100 ticks\n"
       ]
      },
      {
       "output_type": "stream",
       "stream": "stderr",
       "text": [
        "2012-12-05 12:41:46,130 - simulation - INFO - Starting simulation with 100 ticks\n"
       ]
      },
      {
       "output_type": "stream",
       "stream": "stderr",
       "text": [
        "2012-12-05 12:41:55,049 - simulation - INFO - Simulation finished, 100 ticks, time elapsed 8.919 seconds\n"
       ]
      },
      {
       "output_type": "stream",
       "stream": "stderr",
       "text": [
        "2012-12-05 12:41:55,049 - simulation - INFO - Simulation finished, 100 ticks, time elapsed 8.919 seconds\n"
       ]
      },
      {
       "output_type": "stream",
       "stream": "stdout",
       "text": [
        "\n",
        "IPython CPU timings (estimated):\n",
        "  User   :       8.94 s.\n",
        "  System :       0.00 s.\n",
        "Wall time:       8.94 s.\n"
       ]
      }
     ],
     "prompt_number": 5
    },
    {
     "cell_type": "code",
     "collapsed": false,
     "input": [
      "%run simulation.py --params params/test_2012-Dec-03_17-58-31-557000.py"
     ],
     "language": "python",
     "metadata": {},
     "outputs": [
      {
       "output_type": "stream",
       "stream": "stderr",
       "text": [
        "2012-12-03 18:00:12,546 - mamba - INFO - Logging to log\\test_2012-Dec-03_18-00-12-542000.log\n"
       ]
      },
      {
       "output_type": "stream",
       "stream": "stderr",
       "text": [
        "2012-12-03 18:00:12,546 - mamba - INFO - Logging to log\\test_2012-Dec-03_18-00-12-542000.log\n"
       ]
      },
      {
       "output_type": "stream",
       "stream": "stderr",
       "text": [
        "2012-12-03 18:00:12,546 - mamba - INFO - Logging to log\\test_2012-Dec-03_18-00-12-542000.log\n"
       ]
      },
      {
       "output_type": "stream",
       "stream": "stderr",
       "text": [
        "2012-12-03 18:00:12,546 - mamba - INFO - Logging to log\\test_2012-Dec-03_18-00-12-542000.log\n"
       ]
      },
      {
       "output_type": "stream",
       "stream": "stderr",
       "text": [
        "2012-12-03 18:00:12,548 - simulation - INFO - Simulation ID: 2012-Dec-03_18-00-12-542000\n"
       ]
      },
      {
       "output_type": "stream",
       "stream": "stderr",
       "text": [
        "2012-12-03 18:00:12,548 - simulation - INFO - Simulation ID: 2012-Dec-03_18-00-12-542000\n"
       ]
      },
      {
       "output_type": "stream",
       "stream": "stderr",
       "text": [
        "2012-12-03 18:00:12,548 - simulation - INFO - Simulation ID: 2012-Dec-03_18-00-12-542000\n"
       ]
      },
      {
       "output_type": "stream",
       "stream": "stderr",
       "text": [
        "2012-12-03 18:00:12,548 - simulation - INFO - Simulation ID: 2012-Dec-03_18-00-12-542000\n"
       ]
      },
      {
       "output_type": "stream",
       "stream": "stderr",
       "text": [
        "2012-12-03 18:00:12,549 - simulation - INFO - Logging to log\\test_2012-Dec-03_18-00-12-542000.log\n"
       ]
      },
      {
       "output_type": "stream",
       "stream": "stderr",
       "text": [
        "2012-12-03 18:00:12,549 - simulation - INFO - Logging to log\\test_2012-Dec-03_18-00-12-542000.log\n"
       ]
      },
      {
       "output_type": "stream",
       "stream": "stderr",
       "text": [
        "2012-12-03 18:00:12,549 - simulation - INFO - Logging to log\\test_2012-Dec-03_18-00-12-542000.log\n"
       ]
      },
      {
       "output_type": "stream",
       "stream": "stderr",
       "text": [
        "2012-12-03 18:00:12,549 - simulation - INFO - Logging to log\\test_2012-Dec-03_18-00-12-542000.log\n"
       ]
      },
      {
       "output_type": "stream",
       "stream": "stderr",
       "text": [
        "2012-12-03 18:00:12,549 - simulation - INFO - Parametes from file and command line: {'params_dir': 'params', 'out_dir': 'output', 'log_ext': '.log', 'ticks': 1, 'tick_interval': 0, 'out_ext': '.csv', 'mu': 0.003, 'debug': True, 's': 0.01, 'r': 6e-05, 'num_loci': 1000, 'log_dir': 'log', 'ser_ext': '.ser', 'params_ext': '.py', 'params': 'params/test_2012-Dec-03_17-58-31-557000.py', 'pop_size': 100000, 'job_name': 'test', 'ser_dir': 'serialization'}\n"
       ]
      },
      {
       "output_type": "stream",
       "stream": "stderr",
       "text": [
        "2012-12-03 18:00:12,549 - simulation - INFO - Parametes from file and command line: {'params_dir': 'params', 'out_dir': 'output', 'log_ext': '.log', 'ticks': 1, 'tick_interval': 0, 'out_ext': '.csv', 'mu': 0.003, 'debug': True, 's': 0.01, 'r': 6e-05, 'num_loci': 1000, 'log_dir': 'log', 'ser_ext': '.ser', 'params_ext': '.py', 'params': 'params/test_2012-Dec-03_17-58-31-557000.py', 'pop_size': 100000, 'job_name': 'test', 'ser_dir': 'serialization'}\n"
       ]
      },
      {
       "output_type": "stream",
       "stream": "stderr",
       "text": [
        "2012-12-03 18:00:12,549 - simulation - INFO - Parametes from file and command line: {'params_dir': 'params', 'out_dir': 'output', 'log_ext': '.log', 'ticks': 1, 'tick_interval': 0, 'out_ext': '.csv', 'mu': 0.003, 'debug': True, 's': 0.01, 'r': 6e-05, 'num_loci': 1000, 'log_dir': 'log', 'ser_ext': '.ser', 'params_ext': '.py', 'params': 'params/test_2012-Dec-03_17-58-31-557000.py', 'pop_size': 100000, 'job_name': 'test', 'ser_dir': 'serialization'}\n"
       ]
      },
      {
       "output_type": "stream",
       "stream": "stderr",
       "text": [
        "2012-12-03 18:00:12,549 - simulation - INFO - Parametes from file and command line: {'params_dir': 'params', 'out_dir': 'output', 'log_ext': '.log', 'ticks': 1, 'tick_interval': 0, 'out_ext': '.csv', 'mu': 0.003, 'debug': True, 's': 0.01, 'r': 6e-05, 'num_loci': 1000, 'log_dir': 'log', 'ser_ext': '.ser', 'params_ext': '.py', 'params': 'params/test_2012-Dec-03_17-58-31-557000.py', 'pop_size': 100000, 'job_name': 'test', 'ser_dir': 'serialization'}\n"
       ]
      },
      {
       "output_type": "stream",
       "stream": "stderr",
       "text": [
        "2012-12-03 18:00:12,551 - simulation - INFO - Parameters saved to file params\\test_2012-Dec-03_18-00-12-542000.py\n"
       ]
      },
      {
       "output_type": "stream",
       "stream": "stderr",
       "text": [
        "2012-12-03 18:00:12,551 - simulation - INFO - Parameters saved to file params\\test_2012-Dec-03_18-00-12-542000.py\n"
       ]
      },
      {
       "output_type": "stream",
       "stream": "stderr",
       "text": [
        "2012-12-03 18:00:12,551 - simulation - INFO - Parameters saved to file params\\test_2012-Dec-03_18-00-12-542000.py\n"
       ]
      },
      {
       "output_type": "stream",
       "stream": "stderr",
       "text": [
        "2012-12-03 18:00:12,551 - simulation - INFO - Parameters saved to file params\\test_2012-Dec-03_18-00-12-542000.py\n"
       ]
      },
      {
       "output_type": "stream",
       "stream": "stderr",
       "text": [
        "2012-12-03 18:00:12,552 - simulation - INFO - Starting simulation with 1 ticks\n"
       ]
      },
      {
       "output_type": "stream",
       "stream": "stderr",
       "text": [
        "2012-12-03 18:00:12,552 - simulation - INFO - Starting simulation with 1 ticks\n"
       ]
      },
      {
       "output_type": "stream",
       "stream": "stderr",
       "text": [
        "2012-12-03 18:00:12,552 - simulation - INFO - Starting simulation with 1 ticks\n"
       ]
      },
      {
       "output_type": "stream",
       "stream": "stderr",
       "text": [
        "2012-12-03 18:00:12,552 - simulation - INFO - Starting simulation with 1 ticks\n"
       ]
      },
      {
       "output_type": "stream",
       "stream": "stderr",
       "text": [
        "2012-12-03 18:00:12,667 - simulation - INFO - Simulation finished, 1 ticks, time elapsed 0.116 seconds\n"
       ]
      },
      {
       "output_type": "stream",
       "stream": "stderr",
       "text": [
        "2012-12-03 18:00:12,667 - simulation - INFO - Simulation finished, 1 ticks, time elapsed 0.116 seconds\n"
       ]
      },
      {
       "output_type": "stream",
       "stream": "stderr",
       "text": [
        "2012-12-03 18:00:12,667 - simulation - INFO - Simulation finished, 1 ticks, time elapsed 0.116 seconds\n"
       ]
      },
      {
       "output_type": "stream",
       "stream": "stderr",
       "text": [
        "2012-12-03 18:00:12,667 - simulation - INFO - Simulation finished, 1 ticks, time elapsed 0.116 seconds\n"
       ]
      }
     ],
     "prompt_number": 29
    },
    {
     "cell_type": "markdown",
     "metadata": {},
     "source": [
      "# 5/12/2012\n",
      "## Serialization"
     ]
    },
    {
     "cell_type": "code",
     "collapsed": false,
     "input": [
      "%run simulation.py --ticks 0"
     ],
     "language": "python",
     "metadata": {},
     "outputs": [
      {
       "output_type": "stream",
       "stream": "stderr",
       "text": [
        "2012-12-05 12:43:47,881 - mamba - INFO - Logging to log\\test_2012-Dec-05_12-43-47-877000.log\n"
       ]
      },
      {
       "output_type": "stream",
       "stream": "stderr",
       "text": [
        "2012-12-05 12:43:47,881 - mamba - INFO - Logging to log\\test_2012-Dec-05_12-43-47-877000.log\n"
       ]
      },
      {
       "output_type": "stream",
       "stream": "stderr",
       "text": [
        "2012-12-05 12:43:47,881 - mamba - INFO - Logging to log\\test_2012-Dec-05_12-43-47-877000.log\n"
       ]
      },
      {
       "output_type": "stream",
       "stream": "stderr",
       "text": [
        "2012-12-05 12:43:47,882 - simulation - INFO - Simulation ID: 2012-Dec-05_12-43-47-877000\n"
       ]
      },
      {
       "output_type": "stream",
       "stream": "stderr",
       "text": [
        "2012-12-05 12:43:47,882 - simulation - INFO - Simulation ID: 2012-Dec-05_12-43-47-877000\n"
       ]
      },
      {
       "output_type": "stream",
       "stream": "stderr",
       "text": [
        "2012-12-05 12:43:47,882 - simulation - INFO - Simulation ID: 2012-Dec-05_12-43-47-877000\n"
       ]
      },
      {
       "output_type": "stream",
       "stream": "stderr",
       "text": [
        "2012-12-05 12:43:47,884 - simulation - INFO - Logging to log\\test_2012-Dec-05_12-43-47-877000.log\n"
       ]
      },
      {
       "output_type": "stream",
       "stream": "stderr",
       "text": [
        "2012-12-05 12:43:47,884 - simulation - INFO - Logging to log\\test_2012-Dec-05_12-43-47-877000.log\n"
       ]
      },
      {
       "output_type": "stream",
       "stream": "stderr",
       "text": [
        "2012-12-05 12:43:47,884 - simulation - INFO - Logging to log\\test_2012-Dec-05_12-43-47-877000.log\n"
       ]
      },
      {
       "output_type": "stream",
       "stream": "stderr",
       "text": [
        "2012-12-05 12:43:47,887 - simulation - INFO - Parametes from file and command line: {'params_dir': 'params', 'out_dir': 'output', 'log_ext': '.log', 'ticks': 0, 'tick_interval': 0, 'out_ext': '.csv', 'mu': 0.003, 'params_ext': '.py', 's': 0.01, 'r': 6e-05, 'num_loci': 1000, 'log_dir': 'log', 'ser_ext': '.ser', 'debug': True, 'params': 'params.py', 'pop_size': 100000, 'job_name': 'test', 'ser_dir': 'serialization'}\n"
       ]
      },
      {
       "output_type": "stream",
       "stream": "stderr",
       "text": [
        "2012-12-05 12:43:47,887 - simulation - INFO - Parametes from file and command line: {'params_dir': 'params', 'out_dir': 'output', 'log_ext': '.log', 'ticks': 0, 'tick_interval': 0, 'out_ext': '.csv', 'mu': 0.003, 'params_ext': '.py', 's': 0.01, 'r': 6e-05, 'num_loci': 1000, 'log_dir': 'log', 'ser_ext': '.ser', 'debug': True, 'params': 'params.py', 'pop_size': 100000, 'job_name': 'test', 'ser_dir': 'serialization'}\n"
       ]
      },
      {
       "output_type": "stream",
       "stream": "stderr",
       "text": [
        "2012-12-05 12:43:47,887 - simulation - INFO - Parametes from file and command line: {'params_dir': 'params', 'out_dir': 'output', 'log_ext': '.log', 'ticks': 0, 'tick_interval': 0, 'out_ext': '.csv', 'mu': 0.003, 'params_ext': '.py', 's': 0.01, 'r': 6e-05, 'num_loci': 1000, 'log_dir': 'log', 'ser_ext': '.ser', 'debug': True, 'params': 'params.py', 'pop_size': 100000, 'job_name': 'test', 'ser_dir': 'serialization'}\n"
       ]
      },
      {
       "output_type": "stream",
       "stream": "stderr",
       "text": [
        "2012-12-05 12:43:47,890 - simulation - INFO - Parameters saved to file params\\test_2012-Dec-05_12-43-47-877000.py\n"
       ]
      },
      {
       "output_type": "stream",
       "stream": "stderr",
       "text": [
        "2012-12-05 12:43:47,890 - simulation - INFO - Parameters saved to file params\\test_2012-Dec-05_12-43-47-877000.py\n"
       ]
      },
      {
       "output_type": "stream",
       "stream": "stderr",
       "text": [
        "2012-12-05 12:43:47,890 - simulation - INFO - Parameters saved to file params\\test_2012-Dec-05_12-43-47-877000.py\n"
       ]
      },
      {
       "output_type": "stream",
       "stream": "stderr",
       "text": [
        "2012-12-05 12:43:47,891 - simulation - INFO - Starting simulation with 0 ticks\n"
       ]
      },
      {
       "output_type": "stream",
       "stream": "stderr",
       "text": [
        "2012-12-05 12:43:47,891 - simulation - INFO - Starting simulation with 0 ticks\n"
       ]
      },
      {
       "output_type": "stream",
       "stream": "stderr",
       "text": [
        "2012-12-05 12:43:47,891 - simulation - INFO - Starting simulation with 0 ticks\n"
       ]
      },
      {
       "output_type": "stream",
       "stream": "stderr",
       "text": [
        "2012-12-05 12:43:47,947 - simulation - INFO - Simulation finished, 0 ticks, time elapsed 0.056 seconds\n"
       ]
      },
      {
       "output_type": "stream",
       "stream": "stderr",
       "text": [
        "2012-12-05 12:43:47,947 - simulation - INFO - Simulation finished, 0 ticks, time elapsed 0.056 seconds\n"
       ]
      },
      {
       "output_type": "stream",
       "stream": "stderr",
       "text": [
        "2012-12-05 12:43:47,947 - simulation - INFO - Simulation finished, 0 ticks, time elapsed 0.056 seconds\n"
       ]
      }
     ],
     "prompt_number": 8
    },
    {
     "cell_type": "code",
     "collapsed": false,
     "input": [
      "import pickle"
     ],
     "language": "python",
     "metadata": {},
     "outputs": [],
     "prompt_number": 11
    },
    {
     "cell_type": "code",
     "collapsed": false,
     "input": [
      "fout=open(\"serialization/test.ser\",\"wb\")\n",
      "pickle.dump((p,g),fout)\n",
      "fout.close()"
     ],
     "language": "python",
     "metadata": {},
     "outputs": [],
     "prompt_number": 14
    },
    {
     "cell_type": "code",
     "collapsed": false,
     "input": [
      "p,g = 0,0"
     ],
     "language": "python",
     "metadata": {},
     "outputs": [],
     "prompt_number": 15
    },
    {
     "cell_type": "code",
     "collapsed": false,
     "input": [
      "print p,g"
     ],
     "language": "python",
     "metadata": {},
     "outputs": [
      {
       "output_type": "stream",
       "stream": "stdout",
       "text": [
        "0 0\n"
       ]
      }
     ],
     "prompt_number": 16
    },
    {
     "cell_type": "code",
     "collapsed": false,
     "input": [
      "fin = open(\"serialization/test.ser\")\n",
      "p,g = pickle.load(fin)\n",
      "fin.close()"
     ],
     "language": "python",
     "metadata": {},
     "outputs": [],
     "prompt_number": 17
    },
    {
     "cell_type": "code",
     "collapsed": false,
     "input": [
      "print g.shape"
     ],
     "language": "python",
     "metadata": {},
     "outputs": [
      {
       "output_type": "stream",
       "stream": "stdout",
       "text": [
        "(269L, 1000L)\n"
       ]
      }
     ],
     "prompt_number": 18
    },
    {
     "cell_type": "code",
     "collapsed": false,
     "input": [
      "print p.shape"
     ],
     "language": "python",
     "metadata": {},
     "outputs": [
      {
       "output_type": "stream",
       "stream": "stdout",
       "text": [
        "(269L,)\n"
       ]
      }
     ],
     "prompt_number": 19
    },
    {
     "cell_type": "markdown",
     "metadata": {},
     "source": [
      "# 06/12/2012\n",
      "## Statistics"
     ]
    },
    {
     "cell_type": "code",
     "collapsed": false,
     "input": [
      "import pandas as pd"
     ],
     "language": "python",
     "metadata": {},
     "outputs": [],
     "prompt_number": 1
    },
    {
     "cell_type": "code",
     "collapsed": false,
     "input": [
      "fitness, mutation_rates, recombination_rates, nums = update(g, array([0]*1000), 0.01, 0.003 ,0.0)"
     ],
     "language": "python",
     "metadata": {},
     "outputs": [],
     "prompt_number": 110
    },
    {
     "cell_type": "code",
     "collapsed": false,
     "input": [
      "population = p\n",
      "genomes = g"
     ],
     "language": "python",
     "metadata": {},
     "outputs": [],
     "prompt_number": 40
    },
    {
     "cell_type": "code",
     "collapsed": false,
     "input": [
      "print fitness.shape, mutation_rates.shape, recombination_rates.shape, nums.shape"
     ],
     "language": "python",
     "metadata": {},
     "outputs": [
      {
       "output_type": "stream",
       "stream": "stdout",
       "text": [
        "(269L,) (269L,) (269L,) (269L,)\n"
       ]
      }
     ],
     "prompt_number": 41
    },
    {
     "cell_type": "code",
     "collapsed": false,
     "input": [
      "ser=pd.Series(p,index=nums)"
     ],
     "language": "python",
     "metadata": {},
     "outputs": [],
     "prompt_number": 112
    },
    {
     "cell_type": "code",
     "collapsed": false,
     "input": [
      "df = pd.DataFrame({'tick''population':pd.Series(population,index=nums),'fitness':pd.Series(fitness,index=nums),'mutation_rates':pd.Series(mutation_rates,index=nums),'recombination_rates':pd.Series(recombination_rates,index=nums)})"
     ],
     "language": "python",
     "metadata": {},
     "outputs": [],
     "prompt_number": 49
    },
    {
     "cell_type": "code",
     "collapsed": false,
     "input": [
      "print df.to_string()"
     ],
     "language": "python",
     "metadata": {},
     "outputs": [
      {
       "output_type": "stream",
       "stream": "stdout",
       "text": [
        "               fitness  mutation_rates  population  recombination_rates\n",
        "0.000000e+00      1.00           0.003       99695                    0\n",
        "2.126765e+37      0.01           0.003           1                    0\n",
        "1.056589e+270     0.01           0.003           1                    0\n",
        "4.253530e+37      0.01           0.003           1                    0\n",
        "2.249457e+161     0.01           0.003           1                    0\n",
        "4.717453e+167     0.01           0.003           1                    0\n",
        "1.799566e+162     0.01           0.003           1                    0\n",
        "1.196016e+198     0.01           0.003           2                    0\n",
        "2.508228e+204     0.01           0.003           1                    0\n",
        "2.863890e+250     0.01           0.003           1                    0\n",
        "6.518515e+91      0.01           0.003           3                    0\n",
        "4.877732e+142     0.01           0.003           1                    0\n",
        "3.902186e+143     0.01           0.003           2                    0\n",
        "8.920298e+43      0.01           0.003           1                    0\n",
        "8.069531e+118     0.01           0.003           1                    0\n",
        "2.658456e+36      0.01           0.003           1                    0\n",
        "4.000000e+00      0.01           0.003           2                    0\n",
        "2.074758e+180     0.01           0.003           1                    0\n",
        "3.200000e+01      0.01           0.003           1                    0\n",
        "3.210532e+206     0.01           0.003           1                    0\n",
        "3.518437e+13      0.01           0.003           1                    0\n",
        "3.919107e+202     0.01           0.003           1                    0\n",
        "2.678772e+300     0.01           0.003           1                    0\n",
        "1.118707e+248     0.01           0.003           1                    0\n",
        "8.949657e+248     0.01           0.003           3                    0\n",
        "4.436272e+130     0.01           0.003           1                    0\n",
        "9.303536e+136     0.01           0.003           1                    0\n",
        "1.980704e+28      0.01           0.003           2                    0\n",
        "1.809251e+75      0.01           0.003           1                    0\n",
        "4.393471e+158     0.01           0.003           1                    0\n",
        "2.133765e+242     0.01           0.003           2                    0\n",
        "8.139666e+236     0.01           0.003           2                    0\n",
        "1.453677e+135     0.01           0.003           1                    0\n",
        "4.872657e+288     0.01           0.003           1                    0\n",
        "4.149516e+180     0.01           0.003           1                    0\n",
        "8.702165e+186     0.01           0.003           1                    0\n",
        "1.801440e+16      0.01           0.003           1                    0\n",
        "5.391989e+67      0.01           0.003           1                    0\n",
        "1.179363e+167     0.01           0.003           1                    0\n",
        "1.320736e+269     0.01           0.003           1                    0\n",
        "2.037036e+90      0.01           0.003           1                    0\n",
        "1.612227e+265     0.01           0.003           1                    0\n",
        "8.148144e+90      0.01           0.003           1                    0\n",
        "2.494800e+291     0.01           0.003           2                    0\n",
        "4.498914e+161     0.01           0.003           1                    0\n",
        "7.613527e+286     0.01           0.003           1                    0\n",
        "9.893216e+173     0.01           0.003           1                    0\n",
        "3.305280e+122     0.01           0.003           1                    0\n",
        "1.684997e+66      0.01           0.003           1                    0\n",
        "7.229476e+221     0.01           0.003           1                    0\n",
        "1.807369e+221     0.01           0.003           1                    0\n",
        "8.958979e+102     0.01           0.003           1                    0\n",
        "1.231313e+114     0.01           0.003           1                    0\n",
        "7.555786e+22      0.01           0.003           1                    0\n",
        "6.044629e+23      0.01           0.003           1                    0\n",
        "2.305843e+18      0.01           0.003           1                    0\n",
        "2.199023e+12      0.01           0.003           1                    0\n",
        "2.106246e+65      0.01           0.003           1                    0\n",
        "4.920126e+260     0.01           0.003           2                    0\n",
        "2.769785e+275     0.01           0.003           1                    0\n",
        "1.334992e+95      0.01           0.003           1                    0\n",
        "8.863311e+276     0.01           0.003           1                    0\n",
        "1.386335e+129     0.01           0.003           1                    0\n",
        "3.323070e+35      0.01           0.003           1                    0\n",
        "7.090649e+277     0.01           0.003           1                    0\n",
        "6.871948e+10      0.01           0.003           1                    0\n",
        "9.444733e+21      0.01           0.003           1                    0\n",
        "2.621440e+05      0.01           0.003           1                    0\n",
        "5.497558e+11      0.01           0.003           1                    0\n",
        "8.416217e+211     0.01           0.003           1                    0\n",
        "2.097152e+06      0.01           0.003           1                    0\n",
        "6.732974e+212     0.01           0.003           1                    0\n",
        "5.038209e+263     0.01           0.003           1                    0\n",
        "1.433437e+104     0.01           0.003           1                    0\n",
        "2.596148e+33      0.01           0.003           1                    0\n",
        "1.997919e+146     0.01           0.003           2                    0\n",
        "7.621456e+140     0.01           0.003           2                    0\n",
        "5.192297e+33      0.01           0.003           1                    0\n",
        "4.631684e+77      0.01           0.003           1                    0\n",
        "2.684355e+08      0.01           0.003           1                    0\n",
        "1.151722e+164     0.01           0.003           1                    0\n",
        "8.618207e+214     0.01           0.003           1                    0\n",
        "2.147484e+09      0.01           0.003           1                    0\n",
        "6.894565e+215     0.01           0.003           2                    0\n",
        "4.697085e+108     0.01           0.003           1                    0\n",
        "1.303703e+92      0.01           0.003           1                    0\n",
        "7.804371e+143     0.01           0.003           1                    0\n",
        "5.316912e+36      0.01           0.003           1                    0\n",
        "9.384396e+254     0.01           0.003           1                    0\n",
        "1.474204e+166     0.01           0.003           1                    0\n",
        "5.703051e+191     0.01           0.003           1                    0\n",
        "8.796093e+12      0.01           0.003           1                    0\n",
        "3.355443e+07      0.01           0.003           1                    0\n",
        "5.846007e+48      0.01           0.003           1                    0\n",
        "2.261564e+74      0.01           0.003           1                    0\n",
        "2.230075e+43      0.01           0.003           1                    0\n",
        "1.789931e+249     0.01           0.003           1                    0\n",
        "1.057690e+124     0.01           0.003           1                    0\n",
        "3.196671e+147     0.01           0.003           1                    0\n",
        "1.431945e+250     0.01           0.003           2                    0\n",
        "3.384607e+125     0.01           0.003           1                    0\n",
        "2.017383e+118     0.01           0.003           1                    0\n",
        "5.186894e+179     0.01           0.003           1                    0\n",
        "3.881295e+230     0.01           0.003           1                    0\n",
        "4.737909e+226     0.01           0.003           1                    0\n",
        "4.789049e+52      0.01           0.003           1                    0\n",
        "5.468127e+98      0.01           0.003           1                    0\n",
        "1.826877e+47      0.01           0.003           1                    0\n",
        "1.214168e+83      0.01           0.003           1                    0\n",
        "2.237414e+248     0.01           0.003           1                    0\n",
        "3.898126e+289     0.01           0.003           1                    0\n",
        "1.242014e+232     0.01           0.003           1                    0\n",
        "1.487017e+284     0.01           0.003           1                    0\n",
        "2.325884e+136     0.01           0.003           1                    0\n",
        "1.298074e+33      0.01           0.003           1                    0\n",
        "8.872543e+130     0.01           0.003           1                    0\n",
        "1.584563e+29      0.01           0.003           1                    0\n",
        "4.523128e+74      0.01           0.003           1                    0\n",
        "1.003291e+205     0.01           0.003           1                    0\n",
        "2.404908e+111     0.01           0.003           2                    0\n",
        "2.879305e+163     0.01           0.003           1                    0\n",
        "5.334412e+241     0.01           0.003           1                    0\n",
        "3.193344e+293     0.01           0.003           1                    0\n",
        "9.085484e+133     0.01           0.003           1                    0\n",
        "4.722366e+21      0.01           0.003           1                    0\n",
        "1.078398e+68      0.01           0.003           1                    0\n",
        "3.602880e+16      0.01           0.003           1                    0\n",
        "8.627183e+68      0.01           0.003           1                    0\n",
        "5.092590e+89      0.01           0.003           1                    0\n",
        "1.970100e+115     0.01           0.003           1                    0\n",
        "4.074072e+90      0.01           0.003           1                    0\n",
        "2.000000e+00      0.01           0.003           1                    0\n",
        "3.630412e+280     0.01           0.003           1                    0\n",
        "3.721414e+137     0.01           0.003           1                    0\n",
        "1.384892e+275     0.01           0.003           1                    0\n",
        "2.904330e+281     0.01           0.003           1                    0\n",
        "2.473304e+173     0.01           0.003           1                    0\n",
        "1.496578e+51      0.01           0.003           1                    0\n",
        "6.183260e+172     0.01           0.003           1                    0\n",
        "5.629500e+14      0.01           0.003           1                    0\n",
        "3.369993e+66      0.01           0.003           1                    0\n",
        "2.239745e+102     0.01           0.003           1                    0\n",
        "6.210072e+231     0.01           0.003           1                    0\n",
        "2.402405e+257     0.01           0.003           3                    0\n",
        "4.968058e+232     0.01           0.003           1                    0\n",
        "2.772670e+129     0.01           0.003           1                    0\n",
        "1.547425e+26      0.01           0.003           1                    0\n",
        "4.538015e+279     0.01           0.003           1                    0\n",
        "7.205759e+16      0.01           0.003           1                    0\n",
        "3.753758e+255     0.01           0.003           1                    0\n",
        "9.173994e+105     0.01           0.003           2                    0\n",
        "4.109481e+208     0.01           0.003           2                    0\n",
        "3.075079e+259     0.01           0.003           1                    0\n",
        "9.840252e+260     0.01           0.003           2                    0\n",
        "6.359114e+234     0.01           0.003           1                    0\n",
        "2.799681e+101     0.01           0.003           2                    0\n",
        "3.794275e+81      0.01           0.003           1                    0\n",
        "1.093625e+99      0.01           0.003           1                    0\n",
        "1.113877e+189     0.01           0.003           1                    0\n",
        "1.027370e+208     0.01           0.003           1                    0\n",
        "6.553600e+04      0.01           0.003           1                    0\n",
        "7.029553e+159     0.01           0.003           2                    0\n",
        "1.255420e+58      0.01           0.003           1                    0\n",
        "4.804811e+257     0.01           0.003           1                    0\n",
        "1.007642e+264     0.01           0.003           3                    0\n",
        "2.124552e+183     0.01           0.003           1                    0\n",
        "2.554676e+294     0.01           0.003           1                    0\n",
        "3.995838e+146     0.01           0.003           1                    0\n",
        "5.282945e+269     0.01           0.003           2                    0\n",
        "1.140610e+192     0.01           0.003           1                    0\n",
        "2.811821e+160     0.01           0.003           1                    0\n",
        "1.392346e+188     0.01           0.003           1                    0\n",
        "8.997828e+161     0.01           0.003           1                    0\n",
        "1.886981e+168     0.01           0.003           1                    0\n",
        "9.353610e+49      0.01           0.003           1                    0\n",
        "1.723641e+215     0.01           0.003           1                    0\n",
        "6.575170e+209     0.01           0.003           1                    0\n",
        "2.854495e+45      0.01           0.003           1                    0\n",
        "3.259258e+91      0.01           0.003           1                    0\n",
        "9.164449e+251     0.01           0.003           1                    0\n",
        "5.114673e+148     0.01           0.003           1                    0\n",
        "2.615988e+297     0.01           0.003           1                    0\n",
        "2.092790e+298     0.01           0.003           1                    0\n",
        "1.425763e+191     0.01           0.003           1                    0\n",
        "2.948408e+166     0.01           0.003           2                    0\n",
        "7.067388e+72      0.01           0.003           1                    0\n",
        "1.716199e+156     0.01           0.003           2                    0\n",
        "1.959553e+202     0.01           0.003           1                    0\n",
        "7.580655e+227     0.01           0.003           1                    0\n",
        "3.653754e+47      0.01           0.003           1                    0\n",
        "1.173050e+254     0.01           0.003           1                    0\n",
        "8.452712e+270     0.01           0.003           1                    0\n",
        "3.480866e+187     0.01           0.003           1                    0\n",
        "4.651768e+136     0.01           0.003           2                    0\n",
        "6.393341e+147     0.01           0.003           1                    0\n",
        "1.774509e+131     0.01           0.003           1                    0\n",
        "4.249104e+183     0.01           0.003           1                    0\n",
        "5.242880e+05      0.01           0.003           1                    0\n",
        "1.620905e+178     0.01           0.003           1                    0\n",
        "9.671407e+24      0.01           0.003           1                    0\n",
        "7.237006e+75      0.01           0.003           1                    0\n",
        "2.681562e+154     0.01           0.003           1                    0\n",
        "2.006583e+205     0.01           0.003           1                    0\n",
        "7.762590e+230     0.01           0.003           1                    0\n",
        "1.197262e+52      0.01           0.003           2                    0\n",
        "1.066882e+242     0.01           0.003           2                    0\n",
        "1.466312e+253     0.01           0.003           1                    0\n",
        "2.428336e+83      0.01           0.003           1                    0\n",
        "5.814710e+135     0.01           0.003           1                    0\n",
        "3.245186e+32      0.01           0.003           1                    0\n",
        "1.951093e+143     0.01           0.003           1                    0\n",
        "1.659806e+181     0.01           0.003           1                    0\n",
        "3.634194e+134     0.01           0.003           1                    0\n",
        "1.327845e+182     0.01           0.003           1                    0\n",
        "5.357543e+300     0.01           0.003           1                    0\n",
        "5.265615e+64      0.01           0.003           1                    0\n",
        "6.012269e+110     0.01           0.003           1                    0\n",
        "1.677722e+07      0.01           0.003           1                    0\n",
        "4.167509e+239     0.01           0.003           1                    0\n",
        "1.333603e+241     0.01           0.003           1                    0\n",
        "2.486616e+86      0.01           0.003           1                    0\n",
        "2.415336e+170     0.01           0.003           1                    0\n",
        "3.957286e+174     0.01           0.003           1                    0\n",
        "4.056482e+31      0.01           0.003           1                    0\n",
        "3.843849e+258     0.01           0.003           1                    0\n",
        "2.695995e+67      0.01           0.003           1                    0\n",
        "9.807971e+55      0.01           0.003           1                    0\n",
        "2.156796e+68      0.01           0.003           1                    0\n",
        "1.393797e+42      0.01           0.003           1                    0\n",
        "1.273147e+89      0.01           0.003           2                    0\n",
        "6.603682e+268     0.01           0.003           1                    0\n",
        "9.936116e+232     0.01           0.003           1                    0\n",
        "9.076031e+279     0.01           0.003           1                    0\n",
        "3.462231e+274     0.01           0.003           1                    0\n",
        "2.065800e+121     0.01           0.003           1                    0\n",
        "1.152922e+18      0.01           0.003           1                    0\n",
        "4.626864e+223     0.01           0.003           1                    0\n",
        "1.129606e+220     0.01           0.003           1                    0\n",
        "1.968050e+261     0.01           0.003           1                    0\n",
        "5.599362e+101     0.01           0.003           1                    0\n",
        "9.263367e+77      0.01           0.003           1                    0\n",
        "6.931674e+128     0.01           0.003           1                    0\n",
        "4.091738e+149     0.01           0.003           1                    0\n",
        "3.545325e+277     0.01           0.003           1                    0\n",
        "3.334007e+240     0.01           0.003           1                    0\n",
        "7.880401e+115     0.01           0.003           1                    0\n",
        "2.836260e+278     0.01           0.003           1                    0\n",
        "2.748779e+11      0.01           0.003           1                    0\n",
        "5.065327e+176     0.01           0.003           1                    0\n",
        "1.441152e+17      0.01           0.003           1                    0\n",
        "1.248699e+145     0.01           0.003           3                    0\n",
        "7.662478e+53      0.01           0.003           1                    0\n",
        "7.687697e+258     0.01           0.003           1                    0\n",
        "1.589779e+234     0.01           0.003           1                    0\n",
        "6.150158e+259     0.01           0.003           1                    0\n",
        "4.087481e+295     0.01           0.003           1                    0\n",
        "6.304321e+116     0.01           0.003           1                    0\n",
        "1.161732e+282     0.01           0.003           1                    0\n",
        "1.439652e+163     0.01           0.003           1                    0\n",
        "4.606888e+164     0.01           0.003           1                    0\n",
        "3.447283e+215     0.01           0.003           2                    0\n",
        "1.757388e+159     0.01           0.003           1                    0\n",
        "1.315034e+210     0.01           0.003           1                    0\n",
        "3.148881e+262     0.01           0.003           1                    0\n",
        "7.846377e+56      0.01           0.003           1                    0\n",
        "2.519105e+263     0.01           0.003           1                    0\n",
        "1.674232e+299     0.01           0.003           2                    0\n",
        "1.747980e+246     0.01           0.003           1                    0\n",
        "5.109351e+294     0.01           0.003           1                    0\n"
       ]
      }
     ],
     "prompt_number": 56
    },
    {
     "cell_type": "code",
     "collapsed": false,
     "input": [
      "df = pd.DataFrame({'tick''population':pd.Series(population),'fitness':pd.Series(fitness),'mutation_rates':pd.Series(mutation_rates),'recombination_rates':pd.Series(recombination_rates)}, index=nums)"
     ],
     "language": "python",
     "metadata": {},
     "outputs": [],
     "prompt_number": 57
    },
    {
     "cell_type": "markdown",
     "metadata": {},
     "source": [
      "## Go on to gather `DataFrame`s in a `Panel`?"
     ]
    },
    {
     "cell_type": "code",
     "collapsed": false,
     "input": [
      "cd d:\\workspace\\mamba"
     ],
     "language": "python",
     "metadata": {},
     "outputs": [
      {
       "output_type": "stream",
       "stream": "stdout",
       "text": [
        "d:\\workspace\\mamba\n"
       ]
      }
     ],
     "prompt_number": 4
    },
    {
     "cell_type": "code",
     "collapsed": false,
     "input": [
      "reload(args)\n",
      "reload(log)"
     ],
     "language": "python",
     "metadata": {},
     "outputs": [
      {
       "output_type": "pyout",
       "prompt_number": 135,
       "text": [
        "<module 'log' from 'log.pyc'>"
       ]
      }
     ],
     "prompt_number": 135
    },
    {
     "cell_type": "code",
     "collapsed": false,
     "input": [
      "%run simulation.py --ticks 2 --stats_interval 1 "
     ],
     "language": "python",
     "metadata": {},
     "outputs": [
      {
       "output_type": "stream",
       "stream": "stderr",
       "text": [
        "2012-12-06 11:36:05,305 - mamba - INFO - Logging to log\\test_2012-Dec-06_11-36-05-299000.log\n"
       ]
      },
      {
       "output_type": "stream",
       "stream": "stderr",
       "text": [
        "2012-12-06 11:36:05,305 - mamba - INFO - Logging to log\\test_2012-Dec-06_11-36-05-299000.log\n"
       ]
      },
      {
       "output_type": "stream",
       "stream": "stderr",
       "text": [
        "2012-12-06 11:36:05,305 - mamba - INFO - Logging to log\\test_2012-Dec-06_11-36-05-299000.log\n"
       ]
      },
      {
       "output_type": "stream",
       "stream": "stderr",
       "text": [
        "2012-12-06 11:36:05,305 - mamba - INFO - Logging to log\\test_2012-Dec-06_11-36-05-299000.log\n"
       ]
      },
      {
       "output_type": "stream",
       "stream": "stderr",
       "text": [
        "2012-12-06 11:36:05,305 - mamba - INFO - Logging to log\\test_2012-Dec-06_11-36-05-299000.log\n"
       ]
      },
      {
       "output_type": "stream",
       "stream": "stderr",
       "text": [
        "2012-12-06 11:36:05,305 - mamba - INFO - Logging to log\\test_2012-Dec-06_11-36-05-299000.log\n"
       ]
      },
      {
       "output_type": "stream",
       "stream": "stderr",
       "text": [
        "2012-12-06 11:36:05,305 - mamba - INFO - Logging to log\\test_2012-Dec-06_11-36-05-299000.log\n"
       ]
      },
      {
       "output_type": "stream",
       "stream": "stderr",
       "text": [
        "2012-12-06 11:36:05,305 - mamba - INFO - Logging to log\\test_2012-Dec-06_11-36-05-299000.log\n"
       ]
      },
      {
       "output_type": "stream",
       "stream": "stderr",
       "text": [
        "2012-12-06 11:36:05,305 - mamba - INFO - Logging to log\\test_2012-Dec-06_11-36-05-299000.log\n"
       ]
      },
      {
       "output_type": "stream",
       "stream": "stderr",
       "text": [
        "2012-12-06 11:36:05,305 - mamba - INFO - Logging to log\\test_2012-Dec-06_11-36-05-299000.log\n"
       ]
      },
      {
       "output_type": "stream",
       "stream": "stderr",
       "text": [
        "2012-12-06 11:36:05,305 - mamba - INFO - Logging to log\\test_2012-Dec-06_11-36-05-299000.log\n"
       ]
      },
      {
       "output_type": "stream",
       "stream": "stderr",
       "text": [
        "2012-12-06 11:36:05,311 - simulation - INFO - Simulation ID: 2012-Dec-06_11-36-05-299000\n"
       ]
      },
      {
       "output_type": "stream",
       "stream": "stderr",
       "text": [
        "2012-12-06 11:36:05,311 - simulation - INFO - Simulation ID: 2012-Dec-06_11-36-05-299000\n"
       ]
      },
      {
       "output_type": "stream",
       "stream": "stderr",
       "text": [
        "2012-12-06 11:36:05,311 - simulation - INFO - Simulation ID: 2012-Dec-06_11-36-05-299000\n"
       ]
      },
      {
       "output_type": "stream",
       "stream": "stderr",
       "text": [
        "2012-12-06 11:36:05,311 - simulation - INFO - Simulation ID: 2012-Dec-06_11-36-05-299000\n"
       ]
      },
      {
       "output_type": "stream",
       "stream": "stderr",
       "text": [
        "2012-12-06 11:36:05,311 - simulation - INFO - Simulation ID: 2012-Dec-06_11-36-05-299000\n"
       ]
      },
      {
       "output_type": "stream",
       "stream": "stderr",
       "text": [
        "2012-12-06 11:36:05,311 - simulation - INFO - Simulation ID: 2012-Dec-06_11-36-05-299000\n"
       ]
      },
      {
       "output_type": "stream",
       "stream": "stderr",
       "text": [
        "2012-12-06 11:36:05,311 - simulation - INFO - Simulation ID: 2012-Dec-06_11-36-05-299000\n"
       ]
      },
      {
       "output_type": "stream",
       "stream": "stderr",
       "text": [
        "2012-12-06 11:36:05,311 - simulation - INFO - Simulation ID: 2012-Dec-06_11-36-05-299000\n"
       ]
      },
      {
       "output_type": "stream",
       "stream": "stderr",
       "text": [
        "2012-12-06 11:36:05,311 - simulation - INFO - Simulation ID: 2012-Dec-06_11-36-05-299000\n"
       ]
      },
      {
       "output_type": "stream",
       "stream": "stderr",
       "text": [
        "2012-12-06 11:36:05,311 - simulation - INFO - Simulation ID: 2012-Dec-06_11-36-05-299000\n"
       ]
      },
      {
       "output_type": "stream",
       "stream": "stderr",
       "text": [
        "2012-12-06 11:36:05,311 - simulation - INFO - Simulation ID: 2012-Dec-06_11-36-05-299000\n"
       ]
      },
      {
       "output_type": "stream",
       "stream": "stderr",
       "text": [
        "2012-12-06 11:36:05,316 - simulation - INFO - Logging to log\\test_2012-Dec-06_11-36-05-299000.log\n"
       ]
      },
      {
       "output_type": "stream",
       "stream": "stderr",
       "text": [
        "2012-12-06 11:36:05,316 - simulation - INFO - Logging to log\\test_2012-Dec-06_11-36-05-299000.log\n"
       ]
      },
      {
       "output_type": "stream",
       "stream": "stderr",
       "text": [
        "2012-12-06 11:36:05,316 - simulation - INFO - Logging to log\\test_2012-Dec-06_11-36-05-299000.log\n"
       ]
      },
      {
       "output_type": "stream",
       "stream": "stderr",
       "text": [
        "2012-12-06 11:36:05,316 - simulation - INFO - Logging to log\\test_2012-Dec-06_11-36-05-299000.log\n"
       ]
      },
      {
       "output_type": "stream",
       "stream": "stderr",
       "text": [
        "2012-12-06 11:36:05,316 - simulation - INFO - Logging to log\\test_2012-Dec-06_11-36-05-299000.log\n"
       ]
      },
      {
       "output_type": "stream",
       "stream": "stderr",
       "text": [
        "2012-12-06 11:36:05,316 - simulation - INFO - Logging to log\\test_2012-Dec-06_11-36-05-299000.log\n"
       ]
      },
      {
       "output_type": "stream",
       "stream": "stderr",
       "text": [
        "2012-12-06 11:36:05,316 - simulation - INFO - Logging to log\\test_2012-Dec-06_11-36-05-299000.log\n"
       ]
      },
      {
       "output_type": "stream",
       "stream": "stderr",
       "text": [
        "2012-12-06 11:36:05,316 - simulation - INFO - Logging to log\\test_2012-Dec-06_11-36-05-299000.log\n"
       ]
      },
      {
       "output_type": "stream",
       "stream": "stderr",
       "text": [
        "2012-12-06 11:36:05,316 - simulation - INFO - Logging to log\\test_2012-Dec-06_11-36-05-299000.log\n"
       ]
      },
      {
       "output_type": "stream",
       "stream": "stderr",
       "text": [
        "2012-12-06 11:36:05,316 - simulation - INFO - Logging to log\\test_2012-Dec-06_11-36-05-299000.log\n"
       ]
      },
      {
       "output_type": "stream",
       "stream": "stderr",
       "text": [
        "2012-12-06 11:36:05,316 - simulation - INFO - Logging to log\\test_2012-Dec-06_11-36-05-299000.log\n"
       ]
      },
      {
       "output_type": "stream",
       "stream": "stderr",
       "text": [
        "2012-12-06 11:36:05,321 - simulation - INFO - Parametes from file and command line: {'params_dir': 'params', 'ser_ext': '.ser', 'debug': True, 'ser_dir': 'serialization', 'pop_size': 100000, 'console': True, 'log_ext': '.log', 'ticks': 2, 'tick_interval': 0, 'output_ext': '.csv', 'mu': 0.003, 's': 0.01, 'r': 6e-05, 'num_loci': 1000, 'output_dir': 'output', 'params': 'params.py', 'params_ext': '.py', 'stats_interval': 1, 'job_name': 'test', 'log_dir': 'log'}\n"
       ]
      },
      {
       "output_type": "stream",
       "stream": "stderr",
       "text": [
        "2012-12-06 11:36:05,321 - simulation - INFO - Parametes from file and command line: {'params_dir': 'params', 'ser_ext': '.ser', 'debug': True, 'ser_dir': 'serialization', 'pop_size': 100000, 'console': True, 'log_ext': '.log', 'ticks': 2, 'tick_interval': 0, 'output_ext': '.csv', 'mu': 0.003, 's': 0.01, 'r': 6e-05, 'num_loci': 1000, 'output_dir': 'output', 'params': 'params.py', 'params_ext': '.py', 'stats_interval': 1, 'job_name': 'test', 'log_dir': 'log'}\n"
       ]
      },
      {
       "output_type": "stream",
       "stream": "stderr",
       "text": [
        "2012-12-06 11:36:05,321 - simulation - INFO - Parametes from file and command line: {'params_dir': 'params', 'ser_ext': '.ser', 'debug': True, 'ser_dir': 'serialization', 'pop_size': 100000, 'console': True, 'log_ext': '.log', 'ticks': 2, 'tick_interval': 0, 'output_ext': '.csv', 'mu': 0.003, 's': 0.01, 'r': 6e-05, 'num_loci': 1000, 'output_dir': 'output', 'params': 'params.py', 'params_ext': '.py', 'stats_interval': 1, 'job_name': 'test', 'log_dir': 'log'}\n"
       ]
      },
      {
       "output_type": "stream",
       "stream": "stderr",
       "text": [
        "2012-12-06 11:36:05,321 - simulation - INFO - Parametes from file and command line: {'params_dir': 'params', 'ser_ext': '.ser', 'debug': True, 'ser_dir': 'serialization', 'pop_size': 100000, 'console': True, 'log_ext': '.log', 'ticks': 2, 'tick_interval': 0, 'output_ext': '.csv', 'mu': 0.003, 's': 0.01, 'r': 6e-05, 'num_loci': 1000, 'output_dir': 'output', 'params': 'params.py', 'params_ext': '.py', 'stats_interval': 1, 'job_name': 'test', 'log_dir': 'log'}\n"
       ]
      },
      {
       "output_type": "stream",
       "stream": "stderr",
       "text": [
        "2012-12-06 11:36:05,321 - simulation - INFO - Parametes from file and command line: {'params_dir': 'params', 'ser_ext': '.ser', 'debug': True, 'ser_dir': 'serialization', 'pop_size': 100000, 'console': True, 'log_ext': '.log', 'ticks': 2, 'tick_interval': 0, 'output_ext': '.csv', 'mu': 0.003, 's': 0.01, 'r': 6e-05, 'num_loci': 1000, 'output_dir': 'output', 'params': 'params.py', 'params_ext': '.py', 'stats_interval': 1, 'job_name': 'test', 'log_dir': 'log'}\n"
       ]
      },
      {
       "output_type": "stream",
       "stream": "stderr",
       "text": [
        "2012-12-06 11:36:05,321 - simulation - INFO - Parametes from file and command line: {'params_dir': 'params', 'ser_ext': '.ser', 'debug': True, 'ser_dir': 'serialization', 'pop_size': 100000, 'console': True, 'log_ext': '.log', 'ticks': 2, 'tick_interval': 0, 'output_ext': '.csv', 'mu': 0.003, 's': 0.01, 'r': 6e-05, 'num_loci': 1000, 'output_dir': 'output', 'params': 'params.py', 'params_ext': '.py', 'stats_interval': 1, 'job_name': 'test', 'log_dir': 'log'}\n"
       ]
      },
      {
       "output_type": "stream",
       "stream": "stderr",
       "text": [
        "2012-12-06 11:36:05,321 - simulation - INFO - Parametes from file and command line: {'params_dir': 'params', 'ser_ext': '.ser', 'debug': True, 'ser_dir': 'serialization', 'pop_size': 100000, 'console': True, 'log_ext': '.log', 'ticks': 2, 'tick_interval': 0, 'output_ext': '.csv', 'mu': 0.003, 's': 0.01, 'r': 6e-05, 'num_loci': 1000, 'output_dir': 'output', 'params': 'params.py', 'params_ext': '.py', 'stats_interval': 1, 'job_name': 'test', 'log_dir': 'log'}\n"
       ]
      },
      {
       "output_type": "stream",
       "stream": "stderr",
       "text": [
        "2012-12-06 11:36:05,321 - simulation - INFO - Parametes from file and command line: {'params_dir': 'params', 'ser_ext': '.ser', 'debug': True, 'ser_dir': 'serialization', 'pop_size': 100000, 'console': True, 'log_ext': '.log', 'ticks': 2, 'tick_interval': 0, 'output_ext': '.csv', 'mu': 0.003, 's': 0.01, 'r': 6e-05, 'num_loci': 1000, 'output_dir': 'output', 'params': 'params.py', 'params_ext': '.py', 'stats_interval': 1, 'job_name': 'test', 'log_dir': 'log'}\n"
       ]
      },
      {
       "output_type": "stream",
       "stream": "stderr",
       "text": [
        "2012-12-06 11:36:05,321 - simulation - INFO - Parametes from file and command line: {'params_dir': 'params', 'ser_ext': '.ser', 'debug': True, 'ser_dir': 'serialization', 'pop_size': 100000, 'console': True, 'log_ext': '.log', 'ticks': 2, 'tick_interval': 0, 'output_ext': '.csv', 'mu': 0.003, 's': 0.01, 'r': 6e-05, 'num_loci': 1000, 'output_dir': 'output', 'params': 'params.py', 'params_ext': '.py', 'stats_interval': 1, 'job_name': 'test', 'log_dir': 'log'}\n"
       ]
      },
      {
       "output_type": "stream",
       "stream": "stderr",
       "text": [
        "2012-12-06 11:36:05,321 - simulation - INFO - Parametes from file and command line: {'params_dir': 'params', 'ser_ext': '.ser', 'debug': True, 'ser_dir': 'serialization', 'pop_size': 100000, 'console': True, 'log_ext': '.log', 'ticks': 2, 'tick_interval': 0, 'output_ext': '.csv', 'mu': 0.003, 's': 0.01, 'r': 6e-05, 'num_loci': 1000, 'output_dir': 'output', 'params': 'params.py', 'params_ext': '.py', 'stats_interval': 1, 'job_name': 'test', 'log_dir': 'log'}\n"
       ]
      },
      {
       "output_type": "stream",
       "stream": "stderr",
       "text": [
        "2012-12-06 11:36:05,321 - simulation - INFO - Parametes from file and command line: {'params_dir': 'params', 'ser_ext': '.ser', 'debug': True, 'ser_dir': 'serialization', 'pop_size': 100000, 'console': True, 'log_ext': '.log', 'ticks': 2, 'tick_interval': 0, 'output_ext': '.csv', 'mu': 0.003, 's': 0.01, 'r': 6e-05, 'num_loci': 1000, 'output_dir': 'output', 'params': 'params.py', 'params_ext': '.py', 'stats_interval': 1, 'job_name': 'test', 'log_dir': 'log'}\n"
       ]
      },
      {
       "output_type": "stream",
       "stream": "stderr",
       "text": [
        "2012-12-06 11:36:05,338 - simulation - INFO - Parameters saved to file params\\test_2012-Dec-06_11-36-05-299000.py\n"
       ]
      },
      {
       "output_type": "stream",
       "stream": "stderr",
       "text": [
        "2012-12-06 11:36:05,338 - simulation - INFO - Parameters saved to file params\\test_2012-Dec-06_11-36-05-299000.py\n"
       ]
      },
      {
       "output_type": "stream",
       "stream": "stderr",
       "text": [
        "2012-12-06 11:36:05,338 - simulation - INFO - Parameters saved to file params\\test_2012-Dec-06_11-36-05-299000.py\n"
       ]
      },
      {
       "output_type": "stream",
       "stream": "stderr",
       "text": [
        "2012-12-06 11:36:05,338 - simulation - INFO - Parameters saved to file params\\test_2012-Dec-06_11-36-05-299000.py\n"
       ]
      },
      {
       "output_type": "stream",
       "stream": "stderr",
       "text": [
        "2012-12-06 11:36:05,338 - simulation - INFO - Parameters saved to file params\\test_2012-Dec-06_11-36-05-299000.py\n"
       ]
      },
      {
       "output_type": "stream",
       "stream": "stderr",
       "text": [
        "2012-12-06 11:36:05,338 - simulation - INFO - Parameters saved to file params\\test_2012-Dec-06_11-36-05-299000.py\n"
       ]
      },
      {
       "output_type": "stream",
       "stream": "stderr",
       "text": [
        "2012-12-06 11:36:05,338 - simulation - INFO - Parameters saved to file params\\test_2012-Dec-06_11-36-05-299000.py\n"
       ]
      },
      {
       "output_type": "stream",
       "stream": "stderr",
       "text": [
        "2012-12-06 11:36:05,338 - simulation - INFO - Parameters saved to file params\\test_2012-Dec-06_11-36-05-299000.py\n"
       ]
      },
      {
       "output_type": "stream",
       "stream": "stderr",
       "text": [
        "2012-12-06 11:36:05,338 - simulation - INFO - Parameters saved to file params\\test_2012-Dec-06_11-36-05-299000.py\n"
       ]
      },
      {
       "output_type": "stream",
       "stream": "stderr",
       "text": [
        "2012-12-06 11:36:05,338 - simulation - INFO - Parameters saved to file params\\test_2012-Dec-06_11-36-05-299000.py\n"
       ]
      },
      {
       "output_type": "stream",
       "stream": "stderr",
       "text": [
        "2012-12-06 11:36:05,338 - simulation - INFO - Parameters saved to file params\\test_2012-Dec-06_11-36-05-299000.py\n"
       ]
      },
      {
       "output_type": "stream",
       "stream": "stderr",
       "text": [
        "2012-12-06 11:36:05,345 - simulation - INFO - Saving output to output\\test_2012-Dec-06_11-36-05-299000.csv\n"
       ]
      },
      {
       "output_type": "stream",
       "stream": "stderr",
       "text": [
        "2012-12-06 11:36:05,345 - simulation - INFO - Saving output to output\\test_2012-Dec-06_11-36-05-299000.csv\n"
       ]
      },
      {
       "output_type": "stream",
       "stream": "stderr",
       "text": [
        "2012-12-06 11:36:05,345 - simulation - INFO - Saving output to output\\test_2012-Dec-06_11-36-05-299000.csv\n"
       ]
      },
      {
       "output_type": "stream",
       "stream": "stderr",
       "text": [
        "2012-12-06 11:36:05,345 - simulation - INFO - Saving output to output\\test_2012-Dec-06_11-36-05-299000.csv\n"
       ]
      },
      {
       "output_type": "stream",
       "stream": "stderr",
       "text": [
        "2012-12-06 11:36:05,345 - simulation - INFO - Saving output to output\\test_2012-Dec-06_11-36-05-299000.csv\n"
       ]
      },
      {
       "output_type": "stream",
       "stream": "stderr",
       "text": [
        "2012-12-06 11:36:05,345 - simulation - INFO - Saving output to output\\test_2012-Dec-06_11-36-05-299000.csv\n"
       ]
      },
      {
       "output_type": "stream",
       "stream": "stderr",
       "text": [
        "2012-12-06 11:36:05,345 - simulation - INFO - Saving output to output\\test_2012-Dec-06_11-36-05-299000.csv\n"
       ]
      },
      {
       "output_type": "stream",
       "stream": "stderr",
       "text": [
        "2012-12-06 11:36:05,345 - simulation - INFO - Saving output to output\\test_2012-Dec-06_11-36-05-299000.csv\n"
       ]
      },
      {
       "output_type": "stream",
       "stream": "stderr",
       "text": [
        "2012-12-06 11:36:05,345 - simulation - INFO - Saving output to output\\test_2012-Dec-06_11-36-05-299000.csv\n"
       ]
      },
      {
       "output_type": "stream",
       "stream": "stderr",
       "text": [
        "2012-12-06 11:36:05,345 - simulation - INFO - Saving output to output\\test_2012-Dec-06_11-36-05-299000.csv\n"
       ]
      },
      {
       "output_type": "stream",
       "stream": "stderr",
       "text": [
        "2012-12-06 11:36:05,345 - simulation - INFO - Saving output to output\\test_2012-Dec-06_11-36-05-299000.csv\n"
       ]
      },
      {
       "output_type": "stream",
       "stream": "stderr",
       "text": [
        "2012-12-06 11:36:05,355 - simulation - INFO - Starting simulation with 2 ticks\n"
       ]
      },
      {
       "output_type": "stream",
       "stream": "stderr",
       "text": [
        "2012-12-06 11:36:05,355 - simulation - INFO - Starting simulation with 2 ticks\n"
       ]
      },
      {
       "output_type": "stream",
       "stream": "stderr",
       "text": [
        "2012-12-06 11:36:05,355 - simulation - INFO - Starting simulation with 2 ticks\n"
       ]
      },
      {
       "output_type": "stream",
       "stream": "stderr",
       "text": [
        "2012-12-06 11:36:05,355 - simulation - INFO - Starting simulation with 2 ticks\n"
       ]
      },
      {
       "output_type": "stream",
       "stream": "stderr",
       "text": [
        "2012-12-06 11:36:05,355 - simulation - INFO - Starting simulation with 2 ticks\n"
       ]
      },
      {
       "output_type": "stream",
       "stream": "stderr",
       "text": [
        "2012-12-06 11:36:05,355 - simulation - INFO - Starting simulation with 2 ticks\n"
       ]
      },
      {
       "output_type": "stream",
       "stream": "stderr",
       "text": [
        "2012-12-06 11:36:05,355 - simulation - INFO - Starting simulation with 2 ticks\n"
       ]
      },
      {
       "output_type": "stream",
       "stream": "stderr",
       "text": [
        "2012-12-06 11:36:05,355 - simulation - INFO - Starting simulation with 2 ticks\n"
       ]
      },
      {
       "output_type": "stream",
       "stream": "stderr",
       "text": [
        "2012-12-06 11:36:05,355 - simulation - INFO - Starting simulation with 2 ticks\n"
       ]
      },
      {
       "output_type": "stream",
       "stream": "stderr",
       "text": [
        "2012-12-06 11:36:05,355 - simulation - INFO - Starting simulation with 2 ticks\n"
       ]
      },
      {
       "output_type": "stream",
       "stream": "stderr",
       "text": [
        "2012-12-06 11:36:05,355 - simulation - INFO - Starting simulation with 2 ticks\n"
       ]
      },
      {
       "output_type": "stream",
       "stream": "stderr",
       "text": [
        "2012-12-06 11:36:05,835 - simulation - INFO - Simulation finished, 2 ticks, time elapsed 0.480 seconds\n"
       ]
      },
      {
       "output_type": "stream",
       "stream": "stderr",
       "text": [
        "2012-12-06 11:36:05,835 - simulation - INFO - Simulation finished, 2 ticks, time elapsed 0.480 seconds\n"
       ]
      },
      {
       "output_type": "stream",
       "stream": "stderr",
       "text": [
        "2012-12-06 11:36:05,835 - simulation - INFO - Simulation finished, 2 ticks, time elapsed 0.480 seconds\n"
       ]
      },
      {
       "output_type": "stream",
       "stream": "stderr",
       "text": [
        "2012-12-06 11:36:05,835 - simulation - INFO - Simulation finished, 2 ticks, time elapsed 0.480 seconds\n"
       ]
      },
      {
       "output_type": "stream",
       "stream": "stderr",
       "text": [
        "2012-12-06 11:36:05,835 - simulation - INFO - Simulation finished, 2 ticks, time elapsed 0.480 seconds\n"
       ]
      },
      {
       "output_type": "stream",
       "stream": "stderr",
       "text": [
        "2012-12-06 11:36:05,835 - simulation - INFO - Simulation finished, 2 ticks, time elapsed 0.480 seconds\n"
       ]
      },
      {
       "output_type": "stream",
       "stream": "stderr",
       "text": [
        "2012-12-06 11:36:05,835 - simulation - INFO - Simulation finished, 2 ticks, time elapsed 0.480 seconds\n"
       ]
      },
      {
       "output_type": "stream",
       "stream": "stderr",
       "text": [
        "2012-12-06 11:36:05,835 - simulation - INFO - Simulation finished, 2 ticks, time elapsed 0.480 seconds\n"
       ]
      },
      {
       "output_type": "stream",
       "stream": "stderr",
       "text": [
        "2012-12-06 11:36:05,835 - simulation - INFO - Simulation finished, 2 ticks, time elapsed 0.480 seconds\n"
       ]
      },
      {
       "output_type": "stream",
       "stream": "stderr",
       "text": [
        "2012-12-06 11:36:05,835 - simulation - INFO - Simulation finished, 2 ticks, time elapsed 0.480 seconds\n"
       ]
      },
      {
       "output_type": "stream",
       "stream": "stderr",
       "text": [
        "2012-12-06 11:36:05,835 - simulation - INFO - Simulation finished, 2 ticks, time elapsed 0.480 seconds\n"
       ]
      }
     ],
     "prompt_number": 26
    },
    {
     "cell_type": "code",
     "collapsed": false,
     "input": [
      "%run -t simulation.py --ticks 10 --stats_interval 1 "
     ],
     "language": "python",
     "metadata": {},
     "outputs": [
      {
       "output_type": "stream",
       "stream": "stderr",
       "text": [
        "2012-12-06 11:38:44,926 - mamba - INFO - Logging to log\\test_2012-Dec-06_11-38-44-919000.log\n"
       ]
      },
      {
       "output_type": "stream",
       "stream": "stderr",
       "text": [
        "2012-12-06 11:38:44,926 - mamba - INFO - Logging to log\\test_2012-Dec-06_11-38-44-919000.log\n"
       ]
      },
      {
       "output_type": "stream",
       "stream": "stderr",
       "text": [
        "2012-12-06 11:38:44,926 - mamba - INFO - Logging to log\\test_2012-Dec-06_11-38-44-919000.log\n"
       ]
      },
      {
       "output_type": "stream",
       "stream": "stderr",
       "text": [
        "2012-12-06 11:38:44,926 - mamba - INFO - Logging to log\\test_2012-Dec-06_11-38-44-919000.log\n"
       ]
      },
      {
       "output_type": "stream",
       "stream": "stderr",
       "text": [
        "2012-12-06 11:38:44,926 - mamba - INFO - Logging to log\\test_2012-Dec-06_11-38-44-919000.log\n"
       ]
      },
      {
       "output_type": "stream",
       "stream": "stderr",
       "text": [
        "2012-12-06 11:38:44,926 - mamba - INFO - Logging to log\\test_2012-Dec-06_11-38-44-919000.log\n"
       ]
      },
      {
       "output_type": "stream",
       "stream": "stderr",
       "text": [
        "2012-12-06 11:38:44,926 - mamba - INFO - Logging to log\\test_2012-Dec-06_11-38-44-919000.log\n"
       ]
      },
      {
       "output_type": "stream",
       "stream": "stderr",
       "text": [
        "2012-12-06 11:38:44,926 - mamba - INFO - Logging to log\\test_2012-Dec-06_11-38-44-919000.log\n"
       ]
      },
      {
       "output_type": "stream",
       "stream": "stderr",
       "text": [
        "2012-12-06 11:38:44,926 - mamba - INFO - Logging to log\\test_2012-Dec-06_11-38-44-919000.log\n"
       ]
      },
      {
       "output_type": "stream",
       "stream": "stderr",
       "text": [
        "2012-12-06 11:38:44,926 - mamba - INFO - Logging to log\\test_2012-Dec-06_11-38-44-919000.log\n"
       ]
      },
      {
       "output_type": "stream",
       "stream": "stderr",
       "text": [
        "2012-12-06 11:38:44,926 - mamba - INFO - Logging to log\\test_2012-Dec-06_11-38-44-919000.log\n"
       ]
      },
      {
       "output_type": "stream",
       "stream": "stderr",
       "text": [
        "2012-12-06 11:38:44,926 - mamba - INFO - Logging to log\\test_2012-Dec-06_11-38-44-919000.log\n"
       ]
      },
      {
       "output_type": "stream",
       "stream": "stderr",
       "text": [
        "2012-12-06 11:38:44,934 - simulation - INFO - Simulation ID: 2012-Dec-06_11-38-44-919000\n"
       ]
      },
      {
       "output_type": "stream",
       "stream": "stderr",
       "text": [
        "2012-12-06 11:38:44,934 - simulation - INFO - Simulation ID: 2012-Dec-06_11-38-44-919000\n"
       ]
      },
      {
       "output_type": "stream",
       "stream": "stderr",
       "text": [
        "2012-12-06 11:38:44,934 - simulation - INFO - Simulation ID: 2012-Dec-06_11-38-44-919000\n"
       ]
      },
      {
       "output_type": "stream",
       "stream": "stderr",
       "text": [
        "2012-12-06 11:38:44,934 - simulation - INFO - Simulation ID: 2012-Dec-06_11-38-44-919000\n"
       ]
      },
      {
       "output_type": "stream",
       "stream": "stderr",
       "text": [
        "2012-12-06 11:38:44,934 - simulation - INFO - Simulation ID: 2012-Dec-06_11-38-44-919000\n"
       ]
      },
      {
       "output_type": "stream",
       "stream": "stderr",
       "text": [
        "2012-12-06 11:38:44,934 - simulation - INFO - Simulation ID: 2012-Dec-06_11-38-44-919000\n"
       ]
      },
      {
       "output_type": "stream",
       "stream": "stderr",
       "text": [
        "2012-12-06 11:38:44,934 - simulation - INFO - Simulation ID: 2012-Dec-06_11-38-44-919000\n"
       ]
      },
      {
       "output_type": "stream",
       "stream": "stderr",
       "text": [
        "2012-12-06 11:38:44,934 - simulation - INFO - Simulation ID: 2012-Dec-06_11-38-44-919000\n"
       ]
      },
      {
       "output_type": "stream",
       "stream": "stderr",
       "text": [
        "2012-12-06 11:38:44,934 - simulation - INFO - Simulation ID: 2012-Dec-06_11-38-44-919000\n"
       ]
      },
      {
       "output_type": "stream",
       "stream": "stderr",
       "text": [
        "2012-12-06 11:38:44,934 - simulation - INFO - Simulation ID: 2012-Dec-06_11-38-44-919000\n"
       ]
      },
      {
       "output_type": "stream",
       "stream": "stderr",
       "text": [
        "2012-12-06 11:38:44,934 - simulation - INFO - Simulation ID: 2012-Dec-06_11-38-44-919000\n"
       ]
      },
      {
       "output_type": "stream",
       "stream": "stderr",
       "text": [
        "2012-12-06 11:38:44,934 - simulation - INFO - Simulation ID: 2012-Dec-06_11-38-44-919000\n"
       ]
      },
      {
       "output_type": "stream",
       "stream": "stderr",
       "text": [
        "2012-12-06 11:38:44,940 - simulation - INFO - Logging to log\\test_2012-Dec-06_11-38-44-919000.log\n"
       ]
      },
      {
       "output_type": "stream",
       "stream": "stderr",
       "text": [
        "2012-12-06 11:38:44,940 - simulation - INFO - Logging to log\\test_2012-Dec-06_11-38-44-919000.log\n"
       ]
      },
      {
       "output_type": "stream",
       "stream": "stderr",
       "text": [
        "2012-12-06 11:38:44,940 - simulation - INFO - Logging to log\\test_2012-Dec-06_11-38-44-919000.log\n"
       ]
      },
      {
       "output_type": "stream",
       "stream": "stderr",
       "text": [
        "2012-12-06 11:38:44,940 - simulation - INFO - Logging to log\\test_2012-Dec-06_11-38-44-919000.log\n"
       ]
      },
      {
       "output_type": "stream",
       "stream": "stderr",
       "text": [
        "2012-12-06 11:38:44,940 - simulation - INFO - Logging to log\\test_2012-Dec-06_11-38-44-919000.log\n"
       ]
      },
      {
       "output_type": "stream",
       "stream": "stderr",
       "text": [
        "2012-12-06 11:38:44,940 - simulation - INFO - Logging to log\\test_2012-Dec-06_11-38-44-919000.log\n"
       ]
      },
      {
       "output_type": "stream",
       "stream": "stderr",
       "text": [
        "2012-12-06 11:38:44,940 - simulation - INFO - Logging to log\\test_2012-Dec-06_11-38-44-919000.log\n"
       ]
      },
      {
       "output_type": "stream",
       "stream": "stderr",
       "text": [
        "2012-12-06 11:38:44,940 - simulation - INFO - Logging to log\\test_2012-Dec-06_11-38-44-919000.log\n"
       ]
      },
      {
       "output_type": "stream",
       "stream": "stderr",
       "text": [
        "2012-12-06 11:38:44,940 - simulation - INFO - Logging to log\\test_2012-Dec-06_11-38-44-919000.log\n"
       ]
      },
      {
       "output_type": "stream",
       "stream": "stderr",
       "text": [
        "2012-12-06 11:38:44,940 - simulation - INFO - Logging to log\\test_2012-Dec-06_11-38-44-919000.log\n"
       ]
      },
      {
       "output_type": "stream",
       "stream": "stderr",
       "text": [
        "2012-12-06 11:38:44,940 - simulation - INFO - Logging to log\\test_2012-Dec-06_11-38-44-919000.log\n"
       ]
      },
      {
       "output_type": "stream",
       "stream": "stderr",
       "text": [
        "2012-12-06 11:38:44,940 - simulation - INFO - Logging to log\\test_2012-Dec-06_11-38-44-919000.log\n"
       ]
      },
      {
       "output_type": "stream",
       "stream": "stderr",
       "text": [
        "2012-12-06 11:38:44,950 - simulation - INFO - Parametes from file and command line: {'params_dir': 'params', 'ser_ext': '.ser', 'debug': True, 'ser_dir': 'serialization', 'pop_size': 100000, 'console': True, 'log_ext': '.log', 'ticks': 10, 'tick_interval': 0, 'output_ext': '.csv', 'mu': 0.003, 's': 0.01, 'r': 6e-05, 'num_loci': 1000, 'output_dir': 'output', 'params': 'params.py', 'params_ext': '.py', 'stats_interval': 1, 'job_name': 'test', 'log_dir': 'log'}\n"
       ]
      },
      {
       "output_type": "stream",
       "stream": "stderr",
       "text": [
        "2012-12-06 11:38:44,950 - simulation - INFO - Parametes from file and command line: {'params_dir': 'params', 'ser_ext': '.ser', 'debug': True, 'ser_dir': 'serialization', 'pop_size': 100000, 'console': True, 'log_ext': '.log', 'ticks': 10, 'tick_interval': 0, 'output_ext': '.csv', 'mu': 0.003, 's': 0.01, 'r': 6e-05, 'num_loci': 1000, 'output_dir': 'output', 'params': 'params.py', 'params_ext': '.py', 'stats_interval': 1, 'job_name': 'test', 'log_dir': 'log'}\n"
       ]
      },
      {
       "output_type": "stream",
       "stream": "stderr",
       "text": [
        "2012-12-06 11:38:44,950 - simulation - INFO - Parametes from file and command line: {'params_dir': 'params', 'ser_ext': '.ser', 'debug': True, 'ser_dir': 'serialization', 'pop_size': 100000, 'console': True, 'log_ext': '.log', 'ticks': 10, 'tick_interval': 0, 'output_ext': '.csv', 'mu': 0.003, 's': 0.01, 'r': 6e-05, 'num_loci': 1000, 'output_dir': 'output', 'params': 'params.py', 'params_ext': '.py', 'stats_interval': 1, 'job_name': 'test', 'log_dir': 'log'}\n"
       ]
      },
      {
       "output_type": "stream",
       "stream": "stderr",
       "text": [
        "2012-12-06 11:38:44,950 - simulation - INFO - Parametes from file and command line: {'params_dir': 'params', 'ser_ext': '.ser', 'debug': True, 'ser_dir': 'serialization', 'pop_size': 100000, 'console': True, 'log_ext': '.log', 'ticks': 10, 'tick_interval': 0, 'output_ext': '.csv', 'mu': 0.003, 's': 0.01, 'r': 6e-05, 'num_loci': 1000, 'output_dir': 'output', 'params': 'params.py', 'params_ext': '.py', 'stats_interval': 1, 'job_name': 'test', 'log_dir': 'log'}\n"
       ]
      },
      {
       "output_type": "stream",
       "stream": "stderr",
       "text": [
        "2012-12-06 11:38:44,950 - simulation - INFO - Parametes from file and command line: {'params_dir': 'params', 'ser_ext': '.ser', 'debug': True, 'ser_dir': 'serialization', 'pop_size': 100000, 'console': True, 'log_ext': '.log', 'ticks': 10, 'tick_interval': 0, 'output_ext': '.csv', 'mu': 0.003, 's': 0.01, 'r': 6e-05, 'num_loci': 1000, 'output_dir': 'output', 'params': 'params.py', 'params_ext': '.py', 'stats_interval': 1, 'job_name': 'test', 'log_dir': 'log'}\n"
       ]
      },
      {
       "output_type": "stream",
       "stream": "stderr",
       "text": [
        "2012-12-06 11:38:44,950 - simulation - INFO - Parametes from file and command line: {'params_dir': 'params', 'ser_ext': '.ser', 'debug': True, 'ser_dir': 'serialization', 'pop_size': 100000, 'console': True, 'log_ext': '.log', 'ticks': 10, 'tick_interval': 0, 'output_ext': '.csv', 'mu': 0.003, 's': 0.01, 'r': 6e-05, 'num_loci': 1000, 'output_dir': 'output', 'params': 'params.py', 'params_ext': '.py', 'stats_interval': 1, 'job_name': 'test', 'log_dir': 'log'}\n"
       ]
      },
      {
       "output_type": "stream",
       "stream": "stderr",
       "text": [
        "2012-12-06 11:38:44,950 - simulation - INFO - Parametes from file and command line: {'params_dir': 'params', 'ser_ext': '.ser', 'debug': True, 'ser_dir': 'serialization', 'pop_size': 100000, 'console': True, 'log_ext': '.log', 'ticks': 10, 'tick_interval': 0, 'output_ext': '.csv', 'mu': 0.003, 's': 0.01, 'r': 6e-05, 'num_loci': 1000, 'output_dir': 'output', 'params': 'params.py', 'params_ext': '.py', 'stats_interval': 1, 'job_name': 'test', 'log_dir': 'log'}\n"
       ]
      },
      {
       "output_type": "stream",
       "stream": "stderr",
       "text": [
        "2012-12-06 11:38:44,950 - simulation - INFO - Parametes from file and command line: {'params_dir': 'params', 'ser_ext': '.ser', 'debug': True, 'ser_dir': 'serialization', 'pop_size': 100000, 'console': True, 'log_ext': '.log', 'ticks': 10, 'tick_interval': 0, 'output_ext': '.csv', 'mu': 0.003, 's': 0.01, 'r': 6e-05, 'num_loci': 1000, 'output_dir': 'output', 'params': 'params.py', 'params_ext': '.py', 'stats_interval': 1, 'job_name': 'test', 'log_dir': 'log'}\n"
       ]
      },
      {
       "output_type": "stream",
       "stream": "stderr",
       "text": [
        "2012-12-06 11:38:44,950 - simulation - INFO - Parametes from file and command line: {'params_dir': 'params', 'ser_ext': '.ser', 'debug': True, 'ser_dir': 'serialization', 'pop_size': 100000, 'console': True, 'log_ext': '.log', 'ticks': 10, 'tick_interval': 0, 'output_ext': '.csv', 'mu': 0.003, 's': 0.01, 'r': 6e-05, 'num_loci': 1000, 'output_dir': 'output', 'params': 'params.py', 'params_ext': '.py', 'stats_interval': 1, 'job_name': 'test', 'log_dir': 'log'}\n"
       ]
      },
      {
       "output_type": "stream",
       "stream": "stderr",
       "text": [
        "2012-12-06 11:38:44,950 - simulation - INFO - Parametes from file and command line: {'params_dir': 'params', 'ser_ext': '.ser', 'debug': True, 'ser_dir': 'serialization', 'pop_size': 100000, 'console': True, 'log_ext': '.log', 'ticks': 10, 'tick_interval': 0, 'output_ext': '.csv', 'mu': 0.003, 's': 0.01, 'r': 6e-05, 'num_loci': 1000, 'output_dir': 'output', 'params': 'params.py', 'params_ext': '.py', 'stats_interval': 1, 'job_name': 'test', 'log_dir': 'log'}\n"
       ]
      },
      {
       "output_type": "stream",
       "stream": "stderr",
       "text": [
        "2012-12-06 11:38:44,950 - simulation - INFO - Parametes from file and command line: {'params_dir': 'params', 'ser_ext': '.ser', 'debug': True, 'ser_dir': 'serialization', 'pop_size': 100000, 'console': True, 'log_ext': '.log', 'ticks': 10, 'tick_interval': 0, 'output_ext': '.csv', 'mu': 0.003, 's': 0.01, 'r': 6e-05, 'num_loci': 1000, 'output_dir': 'output', 'params': 'params.py', 'params_ext': '.py', 'stats_interval': 1, 'job_name': 'test', 'log_dir': 'log'}\n"
       ]
      },
      {
       "output_type": "stream",
       "stream": "stderr",
       "text": [
        "2012-12-06 11:38:44,950 - simulation - INFO - Parametes from file and command line: {'params_dir': 'params', 'ser_ext': '.ser', 'debug': True, 'ser_dir': 'serialization', 'pop_size': 100000, 'console': True, 'log_ext': '.log', 'ticks': 10, 'tick_interval': 0, 'output_ext': '.csv', 'mu': 0.003, 's': 0.01, 'r': 6e-05, 'num_loci': 1000, 'output_dir': 'output', 'params': 'params.py', 'params_ext': '.py', 'stats_interval': 1, 'job_name': 'test', 'log_dir': 'log'}\n"
       ]
      },
      {
       "output_type": "stream",
       "stream": "stderr",
       "text": [
        "2012-12-06 11:38:44,961 - simulation - INFO - Parameters saved to file params\\test_2012-Dec-06_11-38-44-919000.py\n"
       ]
      },
      {
       "output_type": "stream",
       "stream": "stderr",
       "text": [
        "2012-12-06 11:38:44,961 - simulation - INFO - Parameters saved to file params\\test_2012-Dec-06_11-38-44-919000.py\n"
       ]
      },
      {
       "output_type": "stream",
       "stream": "stderr",
       "text": [
        "2012-12-06 11:38:44,961 - simulation - INFO - Parameters saved to file params\\test_2012-Dec-06_11-38-44-919000.py\n"
       ]
      },
      {
       "output_type": "stream",
       "stream": "stderr",
       "text": [
        "2012-12-06 11:38:44,961 - simulation - INFO - Parameters saved to file params\\test_2012-Dec-06_11-38-44-919000.py\n"
       ]
      },
      {
       "output_type": "stream",
       "stream": "stderr",
       "text": [
        "2012-12-06 11:38:44,961 - simulation - INFO - Parameters saved to file params\\test_2012-Dec-06_11-38-44-919000.py\n"
       ]
      },
      {
       "output_type": "stream",
       "stream": "stderr",
       "text": [
        "2012-12-06 11:38:44,961 - simulation - INFO - Parameters saved to file params\\test_2012-Dec-06_11-38-44-919000.py\n"
       ]
      },
      {
       "output_type": "stream",
       "stream": "stderr",
       "text": [
        "2012-12-06 11:38:44,961 - simulation - INFO - Parameters saved to file params\\test_2012-Dec-06_11-38-44-919000.py\n"
       ]
      },
      {
       "output_type": "stream",
       "stream": "stderr",
       "text": [
        "2012-12-06 11:38:44,961 - simulation - INFO - Parameters saved to file params\\test_2012-Dec-06_11-38-44-919000.py\n"
       ]
      },
      {
       "output_type": "stream",
       "stream": "stderr",
       "text": [
        "2012-12-06 11:38:44,961 - simulation - INFO - Parameters saved to file params\\test_2012-Dec-06_11-38-44-919000.py\n"
       ]
      },
      {
       "output_type": "stream",
       "stream": "stderr",
       "text": [
        "2012-12-06 11:38:44,961 - simulation - INFO - Parameters saved to file params\\test_2012-Dec-06_11-38-44-919000.py\n"
       ]
      },
      {
       "output_type": "stream",
       "stream": "stderr",
       "text": [
        "2012-12-06 11:38:44,961 - simulation - INFO - Parameters saved to file params\\test_2012-Dec-06_11-38-44-919000.py\n"
       ]
      },
      {
       "output_type": "stream",
       "stream": "stderr",
       "text": [
        "2012-12-06 11:38:44,961 - simulation - INFO - Parameters saved to file params\\test_2012-Dec-06_11-38-44-919000.py\n"
       ]
      },
      {
       "output_type": "stream",
       "stream": "stderr",
       "text": [
        "2012-12-06 11:38:44,970 - simulation - INFO - Saving output to output\\test_2012-Dec-06_11-38-44-919000.csv\n"
       ]
      },
      {
       "output_type": "stream",
       "stream": "stderr",
       "text": [
        "2012-12-06 11:38:44,970 - simulation - INFO - Saving output to output\\test_2012-Dec-06_11-38-44-919000.csv\n"
       ]
      },
      {
       "output_type": "stream",
       "stream": "stderr",
       "text": [
        "2012-12-06 11:38:44,970 - simulation - INFO - Saving output to output\\test_2012-Dec-06_11-38-44-919000.csv\n"
       ]
      },
      {
       "output_type": "stream",
       "stream": "stderr",
       "text": [
        "2012-12-06 11:38:44,970 - simulation - INFO - Saving output to output\\test_2012-Dec-06_11-38-44-919000.csv\n"
       ]
      },
      {
       "output_type": "stream",
       "stream": "stderr",
       "text": [
        "2012-12-06 11:38:44,970 - simulation - INFO - Saving output to output\\test_2012-Dec-06_11-38-44-919000.csv\n"
       ]
      },
      {
       "output_type": "stream",
       "stream": "stderr",
       "text": [
        "2012-12-06 11:38:44,970 - simulation - INFO - Saving output to output\\test_2012-Dec-06_11-38-44-919000.csv\n"
       ]
      },
      {
       "output_type": "stream",
       "stream": "stderr",
       "text": [
        "2012-12-06 11:38:44,970 - simulation - INFO - Saving output to output\\test_2012-Dec-06_11-38-44-919000.csv\n"
       ]
      },
      {
       "output_type": "stream",
       "stream": "stderr",
       "text": [
        "2012-12-06 11:38:44,970 - simulation - INFO - Saving output to output\\test_2012-Dec-06_11-38-44-919000.csv\n"
       ]
      },
      {
       "output_type": "stream",
       "stream": "stderr",
       "text": [
        "2012-12-06 11:38:44,970 - simulation - INFO - Saving output to output\\test_2012-Dec-06_11-38-44-919000.csv\n"
       ]
      },
      {
       "output_type": "stream",
       "stream": "stderr",
       "text": [
        "2012-12-06 11:38:44,970 - simulation - INFO - Saving output to output\\test_2012-Dec-06_11-38-44-919000.csv\n"
       ]
      },
      {
       "output_type": "stream",
       "stream": "stderr",
       "text": [
        "2012-12-06 11:38:44,970 - simulation - INFO - Saving output to output\\test_2012-Dec-06_11-38-44-919000.csv\n"
       ]
      },
      {
       "output_type": "stream",
       "stream": "stderr",
       "text": [
        "2012-12-06 11:38:44,970 - simulation - INFO - Saving output to output\\test_2012-Dec-06_11-38-44-919000.csv\n"
       ]
      },
      {
       "output_type": "stream",
       "stream": "stderr",
       "text": [
        "2012-12-06 11:38:44,976 - simulation - INFO - Starting simulation with 10 ticks\n"
       ]
      },
      {
       "output_type": "stream",
       "stream": "stderr",
       "text": [
        "2012-12-06 11:38:44,976 - simulation - INFO - Starting simulation with 10 ticks\n"
       ]
      },
      {
       "output_type": "stream",
       "stream": "stderr",
       "text": [
        "2012-12-06 11:38:44,976 - simulation - INFO - Starting simulation with 10 ticks\n"
       ]
      },
      {
       "output_type": "stream",
       "stream": "stderr",
       "text": [
        "2012-12-06 11:38:44,976 - simulation - INFO - Starting simulation with 10 ticks\n"
       ]
      },
      {
       "output_type": "stream",
       "stream": "stderr",
       "text": [
        "2012-12-06 11:38:44,976 - simulation - INFO - Starting simulation with 10 ticks\n"
       ]
      },
      {
       "output_type": "stream",
       "stream": "stderr",
       "text": [
        "2012-12-06 11:38:44,976 - simulation - INFO - Starting simulation with 10 ticks\n"
       ]
      },
      {
       "output_type": "stream",
       "stream": "stderr",
       "text": [
        "2012-12-06 11:38:44,976 - simulation - INFO - Starting simulation with 10 ticks\n"
       ]
      },
      {
       "output_type": "stream",
       "stream": "stderr",
       "text": [
        "2012-12-06 11:38:44,976 - simulation - INFO - Starting simulation with 10 ticks\n"
       ]
      },
      {
       "output_type": "stream",
       "stream": "stderr",
       "text": [
        "2012-12-06 11:38:44,976 - simulation - INFO - Starting simulation with 10 ticks\n"
       ]
      },
      {
       "output_type": "stream",
       "stream": "stderr",
       "text": [
        "2012-12-06 11:38:44,976 - simulation - INFO - Starting simulation with 10 ticks\n"
       ]
      },
      {
       "output_type": "stream",
       "stream": "stderr",
       "text": [
        "2012-12-06 11:38:44,976 - simulation - INFO - Starting simulation with 10 ticks\n"
       ]
      },
      {
       "output_type": "stream",
       "stream": "stderr",
       "text": [
        "2012-12-06 11:38:44,976 - simulation - INFO - Starting simulation with 10 ticks\n"
       ]
      },
      {
       "output_type": "stream",
       "stream": "stderr",
       "text": [
        "2012-12-06 11:38:46,440 - simulation - INFO - Simulation finished, 10 ticks, time elapsed 1.464 seconds\n"
       ]
      },
      {
       "output_type": "stream",
       "stream": "stderr",
       "text": [
        "2012-12-06 11:38:46,440 - simulation - INFO - Simulation finished, 10 ticks, time elapsed 1.464 seconds\n"
       ]
      },
      {
       "output_type": "stream",
       "stream": "stderr",
       "text": [
        "2012-12-06 11:38:46,440 - simulation - INFO - Simulation finished, 10 ticks, time elapsed 1.464 seconds\n"
       ]
      },
      {
       "output_type": "stream",
       "stream": "stderr",
       "text": [
        "2012-12-06 11:38:46,440 - simulation - INFO - Simulation finished, 10 ticks, time elapsed 1.464 seconds\n"
       ]
      },
      {
       "output_type": "stream",
       "stream": "stderr",
       "text": [
        "2012-12-06 11:38:46,440 - simulation - INFO - Simulation finished, 10 ticks, time elapsed 1.464 seconds\n"
       ]
      },
      {
       "output_type": "stream",
       "stream": "stderr",
       "text": [
        "2012-12-06 11:38:46,440 - simulation - INFO - Simulation finished, 10 ticks, time elapsed 1.464 seconds\n"
       ]
      },
      {
       "output_type": "stream",
       "stream": "stderr",
       "text": [
        "2012-12-06 11:38:46,440 - simulation - INFO - Simulation finished, 10 ticks, time elapsed 1.464 seconds\n"
       ]
      },
      {
       "output_type": "stream",
       "stream": "stderr",
       "text": [
        "2012-12-06 11:38:46,440 - simulation - INFO - Simulation finished, 10 ticks, time elapsed 1.464 seconds\n"
       ]
      },
      {
       "output_type": "stream",
       "stream": "stderr",
       "text": [
        "2012-12-06 11:38:46,440 - simulation - INFO - Simulation finished, 10 ticks, time elapsed 1.464 seconds\n"
       ]
      },
      {
       "output_type": "stream",
       "stream": "stderr",
       "text": [
        "2012-12-06 11:38:46,440 - simulation - INFO - Simulation finished, 10 ticks, time elapsed 1.464 seconds\n"
       ]
      },
      {
       "output_type": "stream",
       "stream": "stderr",
       "text": [
        "2012-12-06 11:38:46,440 - simulation - INFO - Simulation finished, 10 ticks, time elapsed 1.464 seconds\n"
       ]
      },
      {
       "output_type": "stream",
       "stream": "stderr",
       "text": [
        "2012-12-06 11:38:46,440 - simulation - INFO - Simulation finished, 10 ticks, time elapsed 1.464 seconds\n"
       ]
      },
      {
       "output_type": "stream",
       "stream": "stdout",
       "text": [
        "\n",
        "IPython CPU timings (estimated):\n",
        "  User   :       1.53 s.\n",
        "  System :       0.00 s.\n",
        "Wall time:       1.53 s.\n"
       ]
      }
     ],
     "prompt_number": 27
    },
    {
     "cell_type": "code",
     "collapsed": false,
     "input": [
      "%run -t simulation.py --ticks 10 --stats_interval 0"
     ],
     "language": "python",
     "metadata": {},
     "outputs": [
      {
       "output_type": "stream",
       "stream": "stderr",
       "text": [
        "2012-12-06 11:38:49,289 - mamba - INFO - Logging to log\\test_2012-Dec-06_11-38-49-283000.log\n"
       ]
      },
      {
       "output_type": "stream",
       "stream": "stderr",
       "text": [
        "2012-12-06 11:38:49,289 - mamba - INFO - Logging to log\\test_2012-Dec-06_11-38-49-283000.log\n"
       ]
      },
      {
       "output_type": "stream",
       "stream": "stderr",
       "text": [
        "2012-12-06 11:38:49,289 - mamba - INFO - Logging to log\\test_2012-Dec-06_11-38-49-283000.log\n"
       ]
      },
      {
       "output_type": "stream",
       "stream": "stderr",
       "text": [
        "2012-12-06 11:38:49,289 - mamba - INFO - Logging to log\\test_2012-Dec-06_11-38-49-283000.log\n"
       ]
      },
      {
       "output_type": "stream",
       "stream": "stderr",
       "text": [
        "2012-12-06 11:38:49,289 - mamba - INFO - Logging to log\\test_2012-Dec-06_11-38-49-283000.log\n"
       ]
      },
      {
       "output_type": "stream",
       "stream": "stderr",
       "text": [
        "2012-12-06 11:38:49,289 - mamba - INFO - Logging to log\\test_2012-Dec-06_11-38-49-283000.log\n"
       ]
      },
      {
       "output_type": "stream",
       "stream": "stderr",
       "text": [
        "2012-12-06 11:38:49,289 - mamba - INFO - Logging to log\\test_2012-Dec-06_11-38-49-283000.log\n"
       ]
      },
      {
       "output_type": "stream",
       "stream": "stderr",
       "text": [
        "2012-12-06 11:38:49,289 - mamba - INFO - Logging to log\\test_2012-Dec-06_11-38-49-283000.log\n"
       ]
      },
      {
       "output_type": "stream",
       "stream": "stderr",
       "text": [
        "2012-12-06 11:38:49,289 - mamba - INFO - Logging to log\\test_2012-Dec-06_11-38-49-283000.log\n"
       ]
      },
      {
       "output_type": "stream",
       "stream": "stderr",
       "text": [
        "2012-12-06 11:38:49,289 - mamba - INFO - Logging to log\\test_2012-Dec-06_11-38-49-283000.log\n"
       ]
      },
      {
       "output_type": "stream",
       "stream": "stderr",
       "text": [
        "2012-12-06 11:38:49,289 - mamba - INFO - Logging to log\\test_2012-Dec-06_11-38-49-283000.log\n"
       ]
      },
      {
       "output_type": "stream",
       "stream": "stderr",
       "text": [
        "2012-12-06 11:38:49,289 - mamba - INFO - Logging to log\\test_2012-Dec-06_11-38-49-283000.log\n"
       ]
      },
      {
       "output_type": "stream",
       "stream": "stderr",
       "text": [
        "2012-12-06 11:38:49,289 - mamba - INFO - Logging to log\\test_2012-Dec-06_11-38-49-283000.log\n"
       ]
      },
      {
       "output_type": "stream",
       "stream": "stderr",
       "text": [
        "2012-12-06 11:38:49,296 - simulation - INFO - Simulation ID: 2012-Dec-06_11-38-49-283000\n"
       ]
      },
      {
       "output_type": "stream",
       "stream": "stderr",
       "text": [
        "2012-12-06 11:38:49,296 - simulation - INFO - Simulation ID: 2012-Dec-06_11-38-49-283000\n"
       ]
      },
      {
       "output_type": "stream",
       "stream": "stderr",
       "text": [
        "2012-12-06 11:38:49,296 - simulation - INFO - Simulation ID: 2012-Dec-06_11-38-49-283000\n"
       ]
      },
      {
       "output_type": "stream",
       "stream": "stderr",
       "text": [
        "2012-12-06 11:38:49,296 - simulation - INFO - Simulation ID: 2012-Dec-06_11-38-49-283000\n"
       ]
      },
      {
       "output_type": "stream",
       "stream": "stderr",
       "text": [
        "2012-12-06 11:38:49,296 - simulation - INFO - Simulation ID: 2012-Dec-06_11-38-49-283000\n"
       ]
      },
      {
       "output_type": "stream",
       "stream": "stderr",
       "text": [
        "2012-12-06 11:38:49,296 - simulation - INFO - Simulation ID: 2012-Dec-06_11-38-49-283000\n"
       ]
      },
      {
       "output_type": "stream",
       "stream": "stderr",
       "text": [
        "2012-12-06 11:38:49,296 - simulation - INFO - Simulation ID: 2012-Dec-06_11-38-49-283000\n"
       ]
      },
      {
       "output_type": "stream",
       "stream": "stderr",
       "text": [
        "2012-12-06 11:38:49,296 - simulation - INFO - Simulation ID: 2012-Dec-06_11-38-49-283000\n"
       ]
      },
      {
       "output_type": "stream",
       "stream": "stderr",
       "text": [
        "2012-12-06 11:38:49,296 - simulation - INFO - Simulation ID: 2012-Dec-06_11-38-49-283000\n"
       ]
      },
      {
       "output_type": "stream",
       "stream": "stderr",
       "text": [
        "2012-12-06 11:38:49,296 - simulation - INFO - Simulation ID: 2012-Dec-06_11-38-49-283000\n"
       ]
      },
      {
       "output_type": "stream",
       "stream": "stderr",
       "text": [
        "2012-12-06 11:38:49,296 - simulation - INFO - Simulation ID: 2012-Dec-06_11-38-49-283000\n"
       ]
      },
      {
       "output_type": "stream",
       "stream": "stderr",
       "text": [
        "2012-12-06 11:38:49,296 - simulation - INFO - Simulation ID: 2012-Dec-06_11-38-49-283000\n"
       ]
      },
      {
       "output_type": "stream",
       "stream": "stderr",
       "text": [
        "2012-12-06 11:38:49,296 - simulation - INFO - Simulation ID: 2012-Dec-06_11-38-49-283000\n"
       ]
      },
      {
       "output_type": "stream",
       "stream": "stderr",
       "text": [
        "2012-12-06 11:38:49,303 - simulation - INFO - Logging to log\\test_2012-Dec-06_11-38-49-283000.log\n"
       ]
      },
      {
       "output_type": "stream",
       "stream": "stderr",
       "text": [
        "2012-12-06 11:38:49,303 - simulation - INFO - Logging to log\\test_2012-Dec-06_11-38-49-283000.log\n"
       ]
      },
      {
       "output_type": "stream",
       "stream": "stderr",
       "text": [
        "2012-12-06 11:38:49,303 - simulation - INFO - Logging to log\\test_2012-Dec-06_11-38-49-283000.log\n"
       ]
      },
      {
       "output_type": "stream",
       "stream": "stderr",
       "text": [
        "2012-12-06 11:38:49,303 - simulation - INFO - Logging to log\\test_2012-Dec-06_11-38-49-283000.log\n"
       ]
      },
      {
       "output_type": "stream",
       "stream": "stderr",
       "text": [
        "2012-12-06 11:38:49,303 - simulation - INFO - Logging to log\\test_2012-Dec-06_11-38-49-283000.log\n"
       ]
      },
      {
       "output_type": "stream",
       "stream": "stderr",
       "text": [
        "2012-12-06 11:38:49,303 - simulation - INFO - Logging to log\\test_2012-Dec-06_11-38-49-283000.log\n"
       ]
      },
      {
       "output_type": "stream",
       "stream": "stderr",
       "text": [
        "2012-12-06 11:38:49,303 - simulation - INFO - Logging to log\\test_2012-Dec-06_11-38-49-283000.log\n"
       ]
      },
      {
       "output_type": "stream",
       "stream": "stderr",
       "text": [
        "2012-12-06 11:38:49,303 - simulation - INFO - Logging to log\\test_2012-Dec-06_11-38-49-283000.log\n"
       ]
      },
      {
       "output_type": "stream",
       "stream": "stderr",
       "text": [
        "2012-12-06 11:38:49,303 - simulation - INFO - Logging to log\\test_2012-Dec-06_11-38-49-283000.log\n"
       ]
      },
      {
       "output_type": "stream",
       "stream": "stderr",
       "text": [
        "2012-12-06 11:38:49,303 - simulation - INFO - Logging to log\\test_2012-Dec-06_11-38-49-283000.log\n"
       ]
      },
      {
       "output_type": "stream",
       "stream": "stderr",
       "text": [
        "2012-12-06 11:38:49,303 - simulation - INFO - Logging to log\\test_2012-Dec-06_11-38-49-283000.log\n"
       ]
      },
      {
       "output_type": "stream",
       "stream": "stderr",
       "text": [
        "2012-12-06 11:38:49,303 - simulation - INFO - Logging to log\\test_2012-Dec-06_11-38-49-283000.log\n"
       ]
      },
      {
       "output_type": "stream",
       "stream": "stderr",
       "text": [
        "2012-12-06 11:38:49,303 - simulation - INFO - Logging to log\\test_2012-Dec-06_11-38-49-283000.log\n"
       ]
      },
      {
       "output_type": "stream",
       "stream": "stderr",
       "text": [
        "2012-12-06 11:38:49,309 - simulation - INFO - Parametes from file and command line: {'params_dir': 'params', 'ser_ext': '.ser', 'debug': True, 'ser_dir': 'serialization', 'pop_size': 100000, 'console': True, 'log_ext': '.log', 'ticks': 10, 'tick_interval': 0, 'output_ext': '.csv', 'mu': 0.003, 's': 0.01, 'r': 6e-05, 'num_loci': 1000, 'output_dir': 'output', 'params': 'params.py', 'params_ext': '.py', 'stats_interval': 0, 'job_name': 'test', 'log_dir': 'log'}\n"
       ]
      },
      {
       "output_type": "stream",
       "stream": "stderr",
       "text": [
        "2012-12-06 11:38:49,309 - simulation - INFO - Parametes from file and command line: {'params_dir': 'params', 'ser_ext': '.ser', 'debug': True, 'ser_dir': 'serialization', 'pop_size': 100000, 'console': True, 'log_ext': '.log', 'ticks': 10, 'tick_interval': 0, 'output_ext': '.csv', 'mu': 0.003, 's': 0.01, 'r': 6e-05, 'num_loci': 1000, 'output_dir': 'output', 'params': 'params.py', 'params_ext': '.py', 'stats_interval': 0, 'job_name': 'test', 'log_dir': 'log'}\n"
       ]
      },
      {
       "output_type": "stream",
       "stream": "stderr",
       "text": [
        "2012-12-06 11:38:49,309 - simulation - INFO - Parametes from file and command line: {'params_dir': 'params', 'ser_ext': '.ser', 'debug': True, 'ser_dir': 'serialization', 'pop_size': 100000, 'console': True, 'log_ext': '.log', 'ticks': 10, 'tick_interval': 0, 'output_ext': '.csv', 'mu': 0.003, 's': 0.01, 'r': 6e-05, 'num_loci': 1000, 'output_dir': 'output', 'params': 'params.py', 'params_ext': '.py', 'stats_interval': 0, 'job_name': 'test', 'log_dir': 'log'}\n"
       ]
      },
      {
       "output_type": "stream",
       "stream": "stderr",
       "text": [
        "2012-12-06 11:38:49,309 - simulation - INFO - Parametes from file and command line: {'params_dir': 'params', 'ser_ext': '.ser', 'debug': True, 'ser_dir': 'serialization', 'pop_size': 100000, 'console': True, 'log_ext': '.log', 'ticks': 10, 'tick_interval': 0, 'output_ext': '.csv', 'mu': 0.003, 's': 0.01, 'r': 6e-05, 'num_loci': 1000, 'output_dir': 'output', 'params': 'params.py', 'params_ext': '.py', 'stats_interval': 0, 'job_name': 'test', 'log_dir': 'log'}\n"
       ]
      },
      {
       "output_type": "stream",
       "stream": "stderr",
       "text": [
        "2012-12-06 11:38:49,309 - simulation - INFO - Parametes from file and command line: {'params_dir': 'params', 'ser_ext': '.ser', 'debug': True, 'ser_dir': 'serialization', 'pop_size': 100000, 'console': True, 'log_ext': '.log', 'ticks': 10, 'tick_interval': 0, 'output_ext': '.csv', 'mu': 0.003, 's': 0.01, 'r': 6e-05, 'num_loci': 1000, 'output_dir': 'output', 'params': 'params.py', 'params_ext': '.py', 'stats_interval': 0, 'job_name': 'test', 'log_dir': 'log'}\n"
       ]
      },
      {
       "output_type": "stream",
       "stream": "stderr",
       "text": [
        "2012-12-06 11:38:49,309 - simulation - INFO - Parametes from file and command line: {'params_dir': 'params', 'ser_ext': '.ser', 'debug': True, 'ser_dir': 'serialization', 'pop_size': 100000, 'console': True, 'log_ext': '.log', 'ticks': 10, 'tick_interval': 0, 'output_ext': '.csv', 'mu': 0.003, 's': 0.01, 'r': 6e-05, 'num_loci': 1000, 'output_dir': 'output', 'params': 'params.py', 'params_ext': '.py', 'stats_interval': 0, 'job_name': 'test', 'log_dir': 'log'}\n"
       ]
      },
      {
       "output_type": "stream",
       "stream": "stderr",
       "text": [
        "2012-12-06 11:38:49,309 - simulation - INFO - Parametes from file and command line: {'params_dir': 'params', 'ser_ext': '.ser', 'debug': True, 'ser_dir': 'serialization', 'pop_size': 100000, 'console': True, 'log_ext': '.log', 'ticks': 10, 'tick_interval': 0, 'output_ext': '.csv', 'mu': 0.003, 's': 0.01, 'r': 6e-05, 'num_loci': 1000, 'output_dir': 'output', 'params': 'params.py', 'params_ext': '.py', 'stats_interval': 0, 'job_name': 'test', 'log_dir': 'log'}\n"
       ]
      },
      {
       "output_type": "stream",
       "stream": "stderr",
       "text": [
        "2012-12-06 11:38:49,309 - simulation - INFO - Parametes from file and command line: {'params_dir': 'params', 'ser_ext': '.ser', 'debug': True, 'ser_dir': 'serialization', 'pop_size': 100000, 'console': True, 'log_ext': '.log', 'ticks': 10, 'tick_interval': 0, 'output_ext': '.csv', 'mu': 0.003, 's': 0.01, 'r': 6e-05, 'num_loci': 1000, 'output_dir': 'output', 'params': 'params.py', 'params_ext': '.py', 'stats_interval': 0, 'job_name': 'test', 'log_dir': 'log'}\n"
       ]
      },
      {
       "output_type": "stream",
       "stream": "stderr",
       "text": [
        "2012-12-06 11:38:49,309 - simulation - INFO - Parametes from file and command line: {'params_dir': 'params', 'ser_ext': '.ser', 'debug': True, 'ser_dir': 'serialization', 'pop_size': 100000, 'console': True, 'log_ext': '.log', 'ticks': 10, 'tick_interval': 0, 'output_ext': '.csv', 'mu': 0.003, 's': 0.01, 'r': 6e-05, 'num_loci': 1000, 'output_dir': 'output', 'params': 'params.py', 'params_ext': '.py', 'stats_interval': 0, 'job_name': 'test', 'log_dir': 'log'}\n"
       ]
      },
      {
       "output_type": "stream",
       "stream": "stderr",
       "text": [
        "2012-12-06 11:38:49,309 - simulation - INFO - Parametes from file and command line: {'params_dir': 'params', 'ser_ext': '.ser', 'debug': True, 'ser_dir': 'serialization', 'pop_size': 100000, 'console': True, 'log_ext': '.log', 'ticks': 10, 'tick_interval': 0, 'output_ext': '.csv', 'mu': 0.003, 's': 0.01, 'r': 6e-05, 'num_loci': 1000, 'output_dir': 'output', 'params': 'params.py', 'params_ext': '.py', 'stats_interval': 0, 'job_name': 'test', 'log_dir': 'log'}\n"
       ]
      },
      {
       "output_type": "stream",
       "stream": "stderr",
       "text": [
        "2012-12-06 11:38:49,309 - simulation - INFO - Parametes from file and command line: {'params_dir': 'params', 'ser_ext': '.ser', 'debug': True, 'ser_dir': 'serialization', 'pop_size': 100000, 'console': True, 'log_ext': '.log', 'ticks': 10, 'tick_interval': 0, 'output_ext': '.csv', 'mu': 0.003, 's': 0.01, 'r': 6e-05, 'num_loci': 1000, 'output_dir': 'output', 'params': 'params.py', 'params_ext': '.py', 'stats_interval': 0, 'job_name': 'test', 'log_dir': 'log'}\n"
       ]
      },
      {
       "output_type": "stream",
       "stream": "stderr",
       "text": [
        "2012-12-06 11:38:49,309 - simulation - INFO - Parametes from file and command line: {'params_dir': 'params', 'ser_ext': '.ser', 'debug': True, 'ser_dir': 'serialization', 'pop_size': 100000, 'console': True, 'log_ext': '.log', 'ticks': 10, 'tick_interval': 0, 'output_ext': '.csv', 'mu': 0.003, 's': 0.01, 'r': 6e-05, 'num_loci': 1000, 'output_dir': 'output', 'params': 'params.py', 'params_ext': '.py', 'stats_interval': 0, 'job_name': 'test', 'log_dir': 'log'}\n"
       ]
      },
      {
       "output_type": "stream",
       "stream": "stderr",
       "text": [
        "2012-12-06 11:38:49,309 - simulation - INFO - Parametes from file and command line: {'params_dir': 'params', 'ser_ext': '.ser', 'debug': True, 'ser_dir': 'serialization', 'pop_size': 100000, 'console': True, 'log_ext': '.log', 'ticks': 10, 'tick_interval': 0, 'output_ext': '.csv', 'mu': 0.003, 's': 0.01, 'r': 6e-05, 'num_loci': 1000, 'output_dir': 'output', 'params': 'params.py', 'params_ext': '.py', 'stats_interval': 0, 'job_name': 'test', 'log_dir': 'log'}\n"
       ]
      },
      {
       "output_type": "stream",
       "stream": "stderr",
       "text": [
        "2012-12-06 11:38:49,323 - simulation - INFO - Parameters saved to file params\\test_2012-Dec-06_11-38-49-283000.py\n"
       ]
      },
      {
       "output_type": "stream",
       "stream": "stderr",
       "text": [
        "2012-12-06 11:38:49,323 - simulation - INFO - Parameters saved to file params\\test_2012-Dec-06_11-38-49-283000.py\n"
       ]
      },
      {
       "output_type": "stream",
       "stream": "stderr",
       "text": [
        "2012-12-06 11:38:49,323 - simulation - INFO - Parameters saved to file params\\test_2012-Dec-06_11-38-49-283000.py\n"
       ]
      },
      {
       "output_type": "stream",
       "stream": "stderr",
       "text": [
        "2012-12-06 11:38:49,323 - simulation - INFO - Parameters saved to file params\\test_2012-Dec-06_11-38-49-283000.py\n"
       ]
      },
      {
       "output_type": "stream",
       "stream": "stderr",
       "text": [
        "2012-12-06 11:38:49,323 - simulation - INFO - Parameters saved to file params\\test_2012-Dec-06_11-38-49-283000.py\n"
       ]
      },
      {
       "output_type": "stream",
       "stream": "stderr",
       "text": [
        "2012-12-06 11:38:49,323 - simulation - INFO - Parameters saved to file params\\test_2012-Dec-06_11-38-49-283000.py\n"
       ]
      },
      {
       "output_type": "stream",
       "stream": "stderr",
       "text": [
        "2012-12-06 11:38:49,323 - simulation - INFO - Parameters saved to file params\\test_2012-Dec-06_11-38-49-283000.py\n"
       ]
      },
      {
       "output_type": "stream",
       "stream": "stderr",
       "text": [
        "2012-12-06 11:38:49,323 - simulation - INFO - Parameters saved to file params\\test_2012-Dec-06_11-38-49-283000.py\n"
       ]
      },
      {
       "output_type": "stream",
       "stream": "stderr",
       "text": [
        "2012-12-06 11:38:49,323 - simulation - INFO - Parameters saved to file params\\test_2012-Dec-06_11-38-49-283000.py\n"
       ]
      },
      {
       "output_type": "stream",
       "stream": "stderr",
       "text": [
        "2012-12-06 11:38:49,323 - simulation - INFO - Parameters saved to file params\\test_2012-Dec-06_11-38-49-283000.py\n"
       ]
      },
      {
       "output_type": "stream",
       "stream": "stderr",
       "text": [
        "2012-12-06 11:38:49,323 - simulation - INFO - Parameters saved to file params\\test_2012-Dec-06_11-38-49-283000.py\n"
       ]
      },
      {
       "output_type": "stream",
       "stream": "stderr",
       "text": [
        "2012-12-06 11:38:49,323 - simulation - INFO - Parameters saved to file params\\test_2012-Dec-06_11-38-49-283000.py\n"
       ]
      },
      {
       "output_type": "stream",
       "stream": "stderr",
       "text": [
        "2012-12-06 11:38:49,323 - simulation - INFO - Parameters saved to file params\\test_2012-Dec-06_11-38-49-283000.py\n"
       ]
      },
      {
       "output_type": "stream",
       "stream": "stderr",
       "text": [
        "2012-12-06 11:38:49,332 - simulation - INFO - Saving output to output\\test_2012-Dec-06_11-38-49-283000.csv\n"
       ]
      },
      {
       "output_type": "stream",
       "stream": "stderr",
       "text": [
        "2012-12-06 11:38:49,332 - simulation - INFO - Saving output to output\\test_2012-Dec-06_11-38-49-283000.csv\n"
       ]
      },
      {
       "output_type": "stream",
       "stream": "stderr",
       "text": [
        "2012-12-06 11:38:49,332 - simulation - INFO - Saving output to output\\test_2012-Dec-06_11-38-49-283000.csv\n"
       ]
      },
      {
       "output_type": "stream",
       "stream": "stderr",
       "text": [
        "2012-12-06 11:38:49,332 - simulation - INFO - Saving output to output\\test_2012-Dec-06_11-38-49-283000.csv\n"
       ]
      },
      {
       "output_type": "stream",
       "stream": "stderr",
       "text": [
        "2012-12-06 11:38:49,332 - simulation - INFO - Saving output to output\\test_2012-Dec-06_11-38-49-283000.csv\n"
       ]
      },
      {
       "output_type": "stream",
       "stream": "stderr",
       "text": [
        "2012-12-06 11:38:49,332 - simulation - INFO - Saving output to output\\test_2012-Dec-06_11-38-49-283000.csv\n"
       ]
      },
      {
       "output_type": "stream",
       "stream": "stderr",
       "text": [
        "2012-12-06 11:38:49,332 - simulation - INFO - Saving output to output\\test_2012-Dec-06_11-38-49-283000.csv\n"
       ]
      },
      {
       "output_type": "stream",
       "stream": "stderr",
       "text": [
        "2012-12-06 11:38:49,332 - simulation - INFO - Saving output to output\\test_2012-Dec-06_11-38-49-283000.csv\n"
       ]
      },
      {
       "output_type": "stream",
       "stream": "stderr",
       "text": [
        "2012-12-06 11:38:49,332 - simulation - INFO - Saving output to output\\test_2012-Dec-06_11-38-49-283000.csv\n"
       ]
      },
      {
       "output_type": "stream",
       "stream": "stderr",
       "text": [
        "2012-12-06 11:38:49,332 - simulation - INFO - Saving output to output\\test_2012-Dec-06_11-38-49-283000.csv\n"
       ]
      },
      {
       "output_type": "stream",
       "stream": "stderr",
       "text": [
        "2012-12-06 11:38:49,332 - simulation - INFO - Saving output to output\\test_2012-Dec-06_11-38-49-283000.csv\n"
       ]
      },
      {
       "output_type": "stream",
       "stream": "stderr",
       "text": [
        "2012-12-06 11:38:49,332 - simulation - INFO - Saving output to output\\test_2012-Dec-06_11-38-49-283000.csv\n"
       ]
      },
      {
       "output_type": "stream",
       "stream": "stderr",
       "text": [
        "2012-12-06 11:38:49,332 - simulation - INFO - Saving output to output\\test_2012-Dec-06_11-38-49-283000.csv\n"
       ]
      },
      {
       "output_type": "stream",
       "stream": "stderr",
       "text": [
        "2012-12-06 11:38:49,341 - simulation - INFO - Starting simulation with 10 ticks\n"
       ]
      },
      {
       "output_type": "stream",
       "stream": "stderr",
       "text": [
        "2012-12-06 11:38:49,341 - simulation - INFO - Starting simulation with 10 ticks\n"
       ]
      },
      {
       "output_type": "stream",
       "stream": "stderr",
       "text": [
        "2012-12-06 11:38:49,341 - simulation - INFO - Starting simulation with 10 ticks\n"
       ]
      },
      {
       "output_type": "stream",
       "stream": "stderr",
       "text": [
        "2012-12-06 11:38:49,341 - simulation - INFO - Starting simulation with 10 ticks\n"
       ]
      },
      {
       "output_type": "stream",
       "stream": "stderr",
       "text": [
        "2012-12-06 11:38:49,341 - simulation - INFO - Starting simulation with 10 ticks\n"
       ]
      },
      {
       "output_type": "stream",
       "stream": "stderr",
       "text": [
        "2012-12-06 11:38:49,341 - simulation - INFO - Starting simulation with 10 ticks\n"
       ]
      },
      {
       "output_type": "stream",
       "stream": "stderr",
       "text": [
        "2012-12-06 11:38:49,341 - simulation - INFO - Starting simulation with 10 ticks\n"
       ]
      },
      {
       "output_type": "stream",
       "stream": "stderr",
       "text": [
        "2012-12-06 11:38:49,341 - simulation - INFO - Starting simulation with 10 ticks\n"
       ]
      },
      {
       "output_type": "stream",
       "stream": "stderr",
       "text": [
        "2012-12-06 11:38:49,341 - simulation - INFO - Starting simulation with 10 ticks\n"
       ]
      },
      {
       "output_type": "stream",
       "stream": "stderr",
       "text": [
        "2012-12-06 11:38:49,341 - simulation - INFO - Starting simulation with 10 ticks\n"
       ]
      },
      {
       "output_type": "stream",
       "stream": "stderr",
       "text": [
        "2012-12-06 11:38:49,341 - simulation - INFO - Starting simulation with 10 ticks\n"
       ]
      },
      {
       "output_type": "stream",
       "stream": "stderr",
       "text": [
        "2012-12-06 11:38:49,341 - simulation - INFO - Starting simulation with 10 ticks\n"
       ]
      },
      {
       "output_type": "stream",
       "stream": "stderr",
       "text": [
        "2012-12-06 11:38:49,341 - simulation - INFO - Starting simulation with 10 ticks\n"
       ]
      },
      {
       "output_type": "stream",
       "stream": "stderr",
       "text": [
        "2012-12-06 11:38:50,463 - simulation - INFO - Simulation finished, 10 ticks, time elapsed 1.123 seconds\n"
       ]
      },
      {
       "output_type": "stream",
       "stream": "stderr",
       "text": [
        "2012-12-06 11:38:50,463 - simulation - INFO - Simulation finished, 10 ticks, time elapsed 1.123 seconds\n"
       ]
      },
      {
       "output_type": "stream",
       "stream": "stderr",
       "text": [
        "2012-12-06 11:38:50,463 - simulation - INFO - Simulation finished, 10 ticks, time elapsed 1.123 seconds\n"
       ]
      },
      {
       "output_type": "stream",
       "stream": "stderr",
       "text": [
        "2012-12-06 11:38:50,463 - simulation - INFO - Simulation finished, 10 ticks, time elapsed 1.123 seconds\n"
       ]
      },
      {
       "output_type": "stream",
       "stream": "stderr",
       "text": [
        "2012-12-06 11:38:50,463 - simulation - INFO - Simulation finished, 10 ticks, time elapsed 1.123 seconds\n"
       ]
      },
      {
       "output_type": "stream",
       "stream": "stderr",
       "text": [
        "2012-12-06 11:38:50,463 - simulation - INFO - Simulation finished, 10 ticks, time elapsed 1.123 seconds\n"
       ]
      },
      {
       "output_type": "stream",
       "stream": "stderr",
       "text": [
        "2012-12-06 11:38:50,463 - simulation - INFO - Simulation finished, 10 ticks, time elapsed 1.123 seconds\n"
       ]
      },
      {
       "output_type": "stream",
       "stream": "stderr",
       "text": [
        "2012-12-06 11:38:50,463 - simulation - INFO - Simulation finished, 10 ticks, time elapsed 1.123 seconds\n"
       ]
      },
      {
       "output_type": "stream",
       "stream": "stderr",
       "text": [
        "2012-12-06 11:38:50,463 - simulation - INFO - Simulation finished, 10 ticks, time elapsed 1.123 seconds\n"
       ]
      },
      {
       "output_type": "stream",
       "stream": "stderr",
       "text": [
        "2012-12-06 11:38:50,463 - simulation - INFO - Simulation finished, 10 ticks, time elapsed 1.123 seconds\n"
       ]
      },
      {
       "output_type": "stream",
       "stream": "stderr",
       "text": [
        "2012-12-06 11:38:50,463 - simulation - INFO - Simulation finished, 10 ticks, time elapsed 1.123 seconds\n"
       ]
      },
      {
       "output_type": "stream",
       "stream": "stderr",
       "text": [
        "2012-12-06 11:38:50,463 - simulation - INFO - Simulation finished, 10 ticks, time elapsed 1.123 seconds\n"
       ]
      },
      {
       "output_type": "stream",
       "stream": "stderr",
       "text": [
        "2012-12-06 11:38:50,463 - simulation - INFO - Simulation finished, 10 ticks, time elapsed 1.123 seconds\n"
       ]
      },
      {
       "output_type": "stream",
       "stream": "stdout",
       "text": [
        "\n",
        "IPython CPU timings (estimated):\n",
        "  User   :       1.20 s.\n",
        "  System :       0.00 s.\n",
        "Wall time:       1.20 s.\n"
       ]
      }
     ],
     "prompt_number": 28
    },
    {
     "cell_type": "markdown",
     "metadata": {},
     "source": [
      "Running 10 ticks with and without writing statistics *at every tick* results in a differect of 1.53 and 1.2 seconds.\n",
      "That is writing stats at every tick is 0.8 slower than not writing statistics.\n",
      "\n",
      "This is reasonable, as with statistics at every tick we can still get 1000 ticks in less than 3 minutes."
     ]
    },
    {
     "cell_type": "code",
     "collapsed": false,
     "input": [],
     "language": "python",
     "metadata": {},
     "outputs": []
    }
   ],
   "metadata": {}
  }
 ]
}