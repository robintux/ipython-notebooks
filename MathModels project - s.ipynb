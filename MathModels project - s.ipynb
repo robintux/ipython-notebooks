{
 "metadata": {
  "name": "",
  "signature": "sha256:7275e9dbebcc6dd16750b0fab637d65cb3d0472fdbd7344c9aa8e074b2ec2a8b"
 },
 "nbformat": 3,
 "nbformat_minor": 0,
 "worksheets": [
  {
   "cells": [
    {
     "cell_type": "markdown",
     "metadata": {},
     "source": [
      "# Mathematical Models course - Project s\n",
      "## Yoav Ram, Spring 2014"
     ]
    },
    {
     "cell_type": "markdown",
     "metadata": {},
     "source": [
      "## Homogeneous model\n",
      "\n",
      "Consider an asexual infinite population. We focus on a single locus with two alleles, wildtype _a_ and mutant _A_ with frequencies _f_ and _q_ and fitness 1 and 1-_s_. Mutation is unidirectional from _a_ to _A_ with probability _U_.\n",
      "\n",
      "The change in frequency from generation to generation is described by:\n",
      "$$\n",
      "\\bar{\\omega}(t) f(t+1) = f(t) (1-U) + (1-f(t)) U\n",
      "$$\n",
      "and \n",
      "$$\n",
      "\\bar{\\omega}(t) = f(t) + (1-f(t))(1-s)\n",
      "$$\n",
      "\n",
      "Taking the equilibrium values $f=lim f(t)$ and $\\bar{\\omega}=lim \\bar{\\omega}(t)$, this resolves to \n",
      "$$\n",
      "(f + (1-f)(1-s)) f = f (1-U) + (1-f) U\n",
      "$$\n",
      "and \n",
      "$$\n",
      "\\bar{\\omega} = f + (1-f)(1-s)\n",
      "$$\n",
      "or in matrix form, $\\bar{\\omega} f = Mf$, where $M$ is:\n",
      "\n",
      "\\begin{matrix}\n",
      "1-U & (1-s)U \\\\\n",
      "U & (1-s)(1-U) \\\\\n",
      "\\end{matrix}\n",
      "\n",
      "The equilibrium $\\bar{\\omega}$ is the dominant eigenvalue of $M$ (by the _Perron-Frobenius theorem_).\n",
      "We can get a triangular form of $M$ with Gaussian elimination:\n",
      "\n",
      "\\begin{matrix}\n",
      "1-U-\\frac{U^2}{1-U} & 0 \\\\\n",
      "U & (1-s)(1-U) \\\\\n",
      "\\end{matrix}\n",
      "\n",
      "and the eigenvalues of a triangular matrix lie on the main diagonal. \n",
      "The solution is, assuming $s > U^2$,\n",
      "$$\n",
      "\\bar{\\omega} = 1-U-\\frac{U^2}{1-U}\n",
      "$$"
     ]
    },
    {
     "cell_type": "markdown",
     "metadata": {},
     "source": [
      "## Heteregeneous model\n",
      "\n",
      "In the heterogeneous model we have _n+1_ different alleles with fitness $0<1-s_i<1, 0\\le i \\le n$ and frequencies $f_i$.\n",
      "The probability to mutate is still _U_, and there is an equal probability for each allele.\n",
      "\n",
      "The equilibrium equation is then:\n",
      "\n",
      "$\n",
      "\\bar{\\omega} f_i = f_i (1 - s_i)(1 - U) \\sum_{j=0}^{n} f_j (1-s_j) U/n \\\\\\\\\n",
      "\\bar{\\omega} = \\sum_{i=0}^{n} f_i (1-s_i) \\\\\\\\\n",
      "\\sum_{i=0}^{n} f_i = 1\n",
      "$"
     ]
    },
    {
     "cell_type": "markdown",
     "metadata": {},
     "source": [
      "### Simple case: n=1\n",
      "\n",
      "The equations:\n",
      "$$\n",
      "\\bar{\\omega} f_0 = f_0 (1-s_0) (1-U) + (1-f_0) (1-s_1) U \\\\\\\\\n",
      "\\bar{\\omega} = f_0 (1-s_0) + (1-f_0) (1-s_1)\n",
      "$$\n",
      "or in matrix form, $\\bar{\\omega} f = Mf$, where $M$ is:\n",
      "\n",
      "\\begin{matrix}\n",
      "(1-s_0)(1-U) & (1-s_1)U \\\\\n",
      "(1-s_0)U & (1-s_1)(1-U) \\\\\n",
      "\\end{matrix}\n"
     ]
    },
    {
     "cell_type": "code",
     "collapsed": false,
     "input": [
      "import sympy\n",
      "from sympy import __version__ as sympy_ver\n",
      "print \"sympy\", sympy_ver"
     ],
     "language": "python",
     "metadata": {},
     "outputs": [
      {
       "output_type": "stream",
       "stream": "stdout",
       "text": [
        "sympy 0.7.4.1\n"
       ]
      }
     ],
     "prompt_number": 1
    },
    {
     "cell_type": "code",
     "collapsed": false,
     "input": [
      "s0,s1,U = sympy.symbols(\"s0 s1 U\")"
     ],
     "language": "python",
     "metadata": {},
     "outputs": [],
     "prompt_number": 2
    },
    {
     "cell_type": "code",
     "collapsed": false,
     "input": [
      "M = sympy.Matrix([[(1-s0)*(1-U),(1-s1)*U],[(1-s0)*U, (1-s1)*(1-U)]])\n",
      "M"
     ],
     "language": "python",
     "metadata": {},
     "outputs": [
      {
       "metadata": {},
       "output_type": "pyout",
       "prompt_number": 3,
       "text": [
        "Matrix([\n",
        "[(-U + 1)*(-s0 + 1),        U*(-s1 + 1)],\n",
        "[       U*(-s0 + 1), (-U + 1)*(-s1 + 1)]])"
       ]
      }
     ],
     "prompt_number": 3
    },
    {
     "cell_type": "code",
     "collapsed": false,
     "input": [
      "lam1,lam2 = M.eigenvals()"
     ],
     "language": "python",
     "metadata": {},
     "outputs": [],
     "prompt_number": 4
    },
    {
     "cell_type": "code",
     "collapsed": false,
     "input": [
      "subs = {s0:0,s1:0.01,U:0.003}\n",
      "max(lam1.subs(subs), lam2.subs(subs))"
     ],
     "language": "python",
     "metadata": {},
     "outputs": [
      {
       "metadata": {},
       "output_type": "pyout",
       "prompt_number": 5,
       "text": [
        "0.997825354980550"
       ]
      }
     ],
     "prompt_number": 5
    },
    {
     "cell_type": "code",
     "collapsed": false,
     "input": [],
     "language": "python",
     "metadata": {},
     "outputs": []
    }
   ],
   "metadata": {}
  }
 ]
}