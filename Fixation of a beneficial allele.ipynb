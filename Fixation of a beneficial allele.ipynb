{
 "metadata": {
  "name": "",
  "signature": "sha256:bf744172be96d1144d3a5f70dc750037ac4f0f403df41f6e678853c33d1f0a98"
 },
 "nbformat": 3,
 "nbformat_minor": 0,
 "worksheets": [
  {
   "cells": [
    {
     "cell_type": "markdown",
     "metadata": {},
     "source": [
      "## Fixation probability"
     ]
    },
    {
     "cell_type": "code",
     "collapsed": false,
     "input": [
      "from scipy import __version__ as ver\n",
      "print \"Scipy\", ver\n",
      "from numpy import __version__ as ver\n",
      "print \"Numpy\", ver\n",
      "from matplotlib import __version__ as ver\n",
      "print \"Matplotlib\", ver\n",
      "from IPython import __version__ as ver\n",
      "print \"IPython\", ver\n",
      "rcParams['figure.figsize'] = (8,6)\n",
      "rcParams['font.size'] = 14\n",
      "rcParams['lines.linewidth'] = 2"
     ],
     "language": "python",
     "metadata": {},
     "outputs": [
      {
       "output_type": "stream",
       "stream": "stdout",
       "text": [
        "Scipy 0.13.3\n",
        "Numpy 1.7.1\n",
        "Matplotlib 1.3.1\n",
        "IPython 2.0.0-b1\n"
       ]
      }
     ],
     "prompt_number": 1
    },
    {
     "cell_type": "markdown",
     "metadata": {},
     "source": [
      "### Wright-Fisher Simulation"
     ]
    },
    {
     "cell_type": "code",
     "collapsed": false,
     "input": [
      "def simulate_fixation(s, N, x, PLOT=False):\n",
      "    if PLOT:\n",
      "        _ = []\n",
      "    t = 0\n",
      "    while not (allclose(x,1) or allclose(x,0)):\n",
      "        assert 0 < x < 1\n",
      "        t += 1\n",
      "        if PLOT: _.append(x)\n",
      "        x = x/(1-s+s*x)\n",
      "        n = binomial(N,x)\n",
      "        x = n/float(N)\n",
      "        if PLOT: \n",
      "            if len(_)%100 == 0:\n",
      "                print len(_),\n",
      "    if PLOT:\n",
      "        plot(range(len(_)), _)\n",
      "        ylim(-0.1,1)\n",
      "        xlim(0,max(10,len(_)))\n",
      "        xlabel(\"Time\")\n",
      "        ylabel(\"Frequency\")\n",
      "    return allclose(x,1), t\n",
      "\n",
      "while not simulate_fixation(0.1, 1e3, 1e-3, True)[0]:\n",
      "    pass"
     ],
     "language": "python",
     "metadata": {},
     "outputs": [
      {
       "output_type": "stream",
       "stream": "stdout",
       "text": [
        "100\n"
       ]
      },
      {
       "metadata": {},
       "output_type": "display_data",
       "png": "[encoded data removed]",
       "text": [
        "<matplotlib.figure.Figure at 0x320a690>"
       ]
      }
     ],
     "prompt_number": 89
    },
    {
     "cell_type": "code",
     "collapsed": false,
     "input": [
      "def p_simulation(s,N,x,replicates=100):\n",
      "    ps = [simulate_fixation(s, N, 1./N)[0] for _ in range(replicates)]\n",
      "    return mean(ps)\n",
      "p_simulation(0.1, 1e5, 1e-5)"
     ],
     "language": "python",
     "metadata": {},
     "outputs": [
      {
       "metadata": {},
       "output_type": "pyout",
       "prompt_number": 90,
       "text": [
        "0.17999999999999999"
       ]
      }
     ],
     "prompt_number": 90
    },
    {
     "cell_type": "markdown",
     "metadata": {},
     "source": [
      "### Large population"
     ]
    },
    {
     "cell_type": "code",
     "collapsed": false,
     "input": [
      "def p_eshel(s,N,x):\n",
      "    return (2*s)*(N*x)"
     ],
     "language": "python",
     "metadata": {},
     "outputs": [],
     "prompt_number": 48
    },
    {
     "cell_type": "markdown",
     "metadata": {},
     "source": [
      "### Small population"
     ]
    },
    {
     "cell_type": "code",
     "collapsed": false,
     "input": [
      "def p_kimura(s,N,x):\n",
      "    return (1-exp(-2*N*s*x))/(1-exp(-2*N*s))"
     ],
     "language": "python",
     "metadata": {},
     "outputs": [],
     "prompt_number": 32
    },
    {
     "cell_type": "markdown",
     "metadata": {},
     "source": [
      "### Comparison"
     ]
    },
    {
     "cell_type": "code",
     "collapsed": false,
     "input": [
      "def plot_kimura_eshel_simulation(x, kimura=None, eshel=None, simulation=None, xlabel='', ylabel='p'):\n",
      "    fig,ax = subplots(1,1)\n",
      "    if kimura != None: ax.plot(x, kimura, label='Diffusion')\n",
      "    if eshel != None: ax.plot(x, eshel, label='1st Order')\n",
      "    if simulation != None: ax.plot(x, simulation, 'og', alpha=0.5, label='Simulation')\n",
      "    ax.legend(loc=9)\n",
      "    ax.set_xscale('log')\n",
      "    ax.grid(False,'minor')\n",
      "    ax.set_xlabel(xlabel)\n",
      "    ax.set_ylabel(ylabel)\n",
      "    ax.set_xlim(min(x)/2,max(x)*2)\n",
      "    low,high = ax.get_ylim()\n",
      "    ax.set_ylim(low-(high-low)/10, high+(high-low)/10)\n",
      "    return fig,ax"
     ],
     "language": "python",
     "metadata": {},
     "outputs": [],
     "prompt_number": 406
    },
    {
     "cell_type": "code",
     "collapsed": false,
     "input": [
      "from IPython.parallel import Client\n",
      "pool = Client()[:]\n",
      "print \"# CPUs\",len(pool.client.ids)\n",
      "with pool.sync_imports():\n",
      "    from numpy import allclose, mean\n",
      "    from numpy.random import binomial\n",
      "pool['simulate_fixation'] = simulate_fixation\n",
      "pool['p_simulation'] = p_simulation"
     ],
     "language": "python",
     "metadata": {},
     "outputs": [
      {
       "output_type": "stream",
       "stream": "stdout",
       "text": [
        "# CPUs 10\n",
        "importing allclose,mean from numpy on engine(s)\n",
        "importing binomial from numpy.random on engine(s)\n"
       ]
      }
     ],
     "prompt_number": 91
    },
    {
     "cell_type": "code",
     "collapsed": false,
     "input": [
      "import gzip, os.path\n",
      "import cPickle as pickle\n",
      "def load_or_run(results_fname, func, force_calc=False):\n",
      "    if not os.path.exists(results_fname) or force_calc:\n",
      "        print \"Calculating...\", \n",
      "        results = func()\n",
      "        with gzip.open(results_fname, 'w') as f:\n",
      "            print \"Saving results to\", results_fname\n",
      "            pickle.dump(results, f)\n",
      "    else:\n",
      "        with gzip.open(results_fname) as f:\n",
      "            print \"Loading saved results from\", results_fname\n",
      "            try:\n",
      "                results = pickle.load(f)\n",
      "            except EOFError:\n",
      "                print \"File Error:\", results_fname\n",
      "                results = []\n",
      "    return results"
     ],
     "language": "python",
     "metadata": {},
     "outputs": [],
     "prompt_number": 215
    },
    {
     "cell_type": "code",
     "collapsed": false,
     "input": [
      "N_range = array(map(int,logspace(1,5,50)))\n",
      "s = 0.01"
     ],
     "language": "python",
     "metadata": {},
     "outputs": [],
     "prompt_number": 438
    },
    {
     "cell_type": "code",
     "collapsed": false,
     "input": [
      "%cd \"~/workspace/ipython-notebooks\"\n",
      "!pwd\n",
      "print \"Saved results files:\"\n",
      "!ls -1 *_simulation_*.gz"
     ],
     "language": "python",
     "metadata": {},
     "outputs": [
      {
       "output_type": "stream",
       "stream": "stdout",
       "text": [
        "/home/yoavram/workspace/ipython-notebooks\n",
        "/home/yoavram/workspace/ipython-notebooks\r\n"
       ]
      },
      {
       "output_type": "stream",
       "stream": "stdout",
       "text": [
        "Saved results files:\n",
        "p_simulation_N_s_0.01.gz\r\n",
        "p_simulation_N_s_0.1.gz\r\n",
        "p_simulation_s_N_1e6.gz\r\n"
       ]
      }
     ],
     "prompt_number": 261
    },
    {
     "cell_type": "code",
     "collapsed": false,
     "input": [
      "p_simulation_N = load_or_run(\"p_simulation_N_s_%g.gz\" % s, \n",
      "                             lambda: pool.map_sync(lambda s,N: p_simulation(s, N, 1./N, 10000), [s]*len(N_range), N_range),\n",
      "                             force_calc=False)"
     ],
     "language": "python",
     "metadata": {},
     "outputs": [
      {
       "output_type": "stream",
       "stream": "stdout",
       "text": [
        "Calculating... "
       ]
      },
      {
       "output_type": "stream",
       "stream": "stdout",
       "text": [
        "Saving results to p_simulation_N_s_0.01.gz\n"
       ]
      }
     ],
     "prompt_number": 111
    },
    {
     "cell_type": "code",
     "collapsed": false,
     "input": [
      "p_eshel_N  = p_eshel(s, N_range, 1./N_range) \n",
      "p_kimura_N = p_kimura(s, N_range, 1./N_range)"
     ],
     "language": "python",
     "metadata": {},
     "outputs": [],
     "prompt_number": 441
    },
    {
     "cell_type": "code",
     "collapsed": false,
     "input": [
      "plot_kimura_eshel_simulation(N_range, p_kimura_N, p_eshel_N, p_simulation_N, 'N');"
     ],
     "language": "python",
     "metadata": {},
     "outputs": [
      {
       "metadata": {},
       "output_type": "display_data",
       "png": "[encoded data removed]",
       "text": [
        "<matplotlib.figure.Figure at 0x8391250>"
       ]
      }
     ],
     "prompt_number": 442
    },
    {
     "cell_type": "code",
     "collapsed": false,
     "input": [
      "N = int(1e6)\n",
      "s_range = logspace(-4,-1,50)"
     ],
     "language": "python",
     "metadata": {},
     "outputs": [],
     "prompt_number": 247
    },
    {
     "cell_type": "code",
     "collapsed": false,
     "input": [
      "p_simulation_s = load_or_run(\"p_simulation_s_N_1e%d.gz\" % log10(N), \n",
      "                             lambda: pool.map_sync(lambda s,N: p_simulation(s, N, 1./N, 1000), s_range, [N]*len(s_range)),\n",
      "                             force_calc=False)"
     ],
     "language": "python",
     "metadata": {},
     "outputs": [
      {
       "output_type": "stream",
       "stream": "stdout",
       "text": [
        "Calculating... "
       ]
      },
      {
       "output_type": "stream",
       "stream": "stdout",
       "text": [
        "Saving results to p_simulation_s_N_1e6.gz\n"
       ]
      }
     ],
     "prompt_number": 248
    },
    {
     "cell_type": "code",
     "collapsed": false,
     "input": [
      "p_eshel_s  = p_eshel(s_range, N, 1./N)\n",
      "p_kimura_s = p_kimura(s_range, N, 1./N)"
     ],
     "language": "python",
     "metadata": {},
     "outputs": [],
     "prompt_number": 249
    },
    {
     "cell_type": "code",
     "collapsed": false,
     "input": [
      "plot_kimura_eshel_simulation(s_range, p_kimura_s, p_eshel_s, p_simulation_s, 's');"
     ],
     "language": "python",
     "metadata": {},
     "outputs": [
      {
       "metadata": {},
       "output_type": "display_data",
       "png": "[encoded data removed]",
       "text": [
        "<matplotlib.figure.Figure at 0x9778ed0>"
       ]
      }
     ],
     "prompt_number": 408
    },
    {
     "cell_type": "markdown",
     "metadata": {},
     "source": [
      "## Fixation time\n",
      "\n",
      "### Small population\n",
      "\n",
      "The following formula is taken from [Kimura and Ohta 1969](http://www.pubmedcentral.nih.gov/articlerender.fcgi?artid=1212239) which assumes a population size of _2N_ and selection advantage of _s/2_ rather then _N_ and _s_, therefore some modifications are made by calling the relevant function with _s/2_ and _2N_."
     ]
    },
    {
     "cell_type": "code",
     "collapsed": false,
     "input": [
      "from scipy.integrate import quad as integral"
     ],
     "language": "python",
     "metadata": {},
     "outputs": [],
     "prompt_number": 268
    },
    {
     "cell_type": "code",
     "collapsed": false,
     "input": [
      "def integrand1(s, N, x):\n",
      "    if x == 1:\n",
      "        return 2*N*s * (1 - exp(-2*N*s))\n",
      "    return (1 - exp(-2*N*s*x) - exp(-(1-x)) - exp(-2*N*s))/(x*(1-x))\n",
      "\n",
      "def integrand2(s,N,x):\n",
      "    if x == 0:\n",
      "        return 0\n",
      "    return (exp(2*N*s*x) - 1) * (1 - exp(-2*N*s*x))/(x*(1-x))\n",
      "def T_kimura(s,N,x):\n",
      "    J1 = 2/(s*(1 - exp(-2*N*s))) * integral(lambda t: integrand1(s,N,t), x, 1)[0]\n",
      "    u = (1-exp(-2*N*s*x))/(1-exp(-2*N*s))\n",
      "    J2 = 2/(s*(1-exp(-2*N*s))) * integral(lambda t: integrand2(s,N,t), 0, x)[0]\n",
      "    return J1 + ((1-u)/u) * J2\n",
      "T_kimura(0.01, 1e5, 1e-5)"
     ],
     "language": "python",
     "metadata": {},
     "outputs": [
      {
       "metadata": {},
       "output_type": "pyout",
       "prompt_number": 269,
       "text": [
        "848.80543200989177"
       ]
      }
     ],
     "prompt_number": 269
    },
    {
     "cell_type": "markdown",
     "metadata": {},
     "source": [
      "## Simulation"
     ]
    },
    {
     "cell_type": "code",
     "collapsed": false,
     "input": [
      "def T_simulation(s,N,x,replicates=100):\n",
      "    Ts = [simulate_fixation(s, N, 1./N) for _ in range(replicates)]\n",
      "    return mean([t[1] for t in Ts if t[0]])\n",
      "pool['T_simulation'] = T_simulation\n",
      "T_simulation(0.1, 1e5, 1e-5)"
     ],
     "language": "python",
     "metadata": {},
     "outputs": [
      {
       "metadata": {},
       "output_type": "pyout",
       "prompt_number": 343,
       "text": [
        "193.88888888888889"
       ]
      }
     ],
     "prompt_number": 343
    },
    {
     "cell_type": "markdown",
     "metadata": {},
     "source": [
      "### Comparison"
     ]
    },
    {
     "cell_type": "code",
     "collapsed": false,
     "input": [
      "N_range = map(int,logspace(3,8,50))\n",
      "s = 0.01"
     ],
     "language": "python",
     "metadata": {},
     "outputs": [],
     "prompt_number": 394
    },
    {
     "cell_type": "code",
     "collapsed": false,
     "input": [
      "T_kimura_N    = [T_kimura(s/2, 2*N, 1./(2*N)) for N in N_range]"
     ],
     "language": "python",
     "metadata": {},
     "outputs": [],
     "prompt_number": 413
    },
    {
     "cell_type": "code",
     "collapsed": false,
     "input": [
      "T_simulation_N = load_or_run(\"T_simulation_N_s_%g.gz\" % s, \n",
      "                             lambda: pool.map_sync(lambda s,N: T_simulation(s, N, 1./N, 1000), [s]*len(N_range), N_range),\n",
      "                             force_calc=False)"
     ],
     "language": "python",
     "metadata": {},
     "outputs": [
      {
       "output_type": "stream",
       "stream": "stdout",
       "text": [
        "Calculating... "
       ]
      },
      {
       "output_type": "stream",
       "stream": "stdout",
       "text": [
        "Saving results to T_simulation_N_s_0.01.gz\n"
       ]
      }
     ],
     "prompt_number": 396
    },
    {
     "cell_type": "code",
     "collapsed": false,
     "input": [
      "plot_kimura_eshel_simulation(N_range, T_kimura_N, simulation=T_simulation_N, xlabel='N', ylabel='T');"
     ],
     "language": "python",
     "metadata": {},
     "outputs": [
      {
       "metadata": {},
       "output_type": "display_data",
       "png": "[encoded data removed]",
       "text": [
        "<matplotlib.figure.Figure at 0x99261d0>"
       ]
      }
     ],
     "prompt_number": 414
    },
    {
     "cell_type": "code",
     "collapsed": false,
     "input": [
      "N = int(1e6)\n",
      "s_range = logspace(-3,-1,50)"
     ],
     "language": "python",
     "metadata": {},
     "outputs": [],
     "prompt_number": 425
    },
    {
     "cell_type": "code",
     "collapsed": false,
     "input": [
      "T_kimura_s    = [T_kimura(s/2, N*2, 1./(2*N)) for s in s_range]"
     ],
     "language": "python",
     "metadata": {},
     "outputs": [],
     "prompt_number": 434
    },
    {
     "cell_type": "code",
     "collapsed": false,
     "input": [
      "T_simulation_s = load_or_run(\"T_simulation_s_N_1e%d.gz\" % log10(N), \n",
      "                             lambda: pool.map_sync(lambda s,N: T_simulation(s, N, 1./N, 1000), s_range, [N]*len(s_range)),\n",
      "                             force_calc=False)"
     ],
     "language": "python",
     "metadata": {},
     "outputs": [
      {
       "output_type": "stream",
       "stream": "stdout",
       "text": [
        "Calculating... "
       ]
      },
      {
       "output_type": "stream",
       "stream": "stdout",
       "text": [
        "Saving results to T_simulation_s_N_1e6.gz\n"
       ]
      }
     ],
     "prompt_number": 429
    },
    {
     "cell_type": "code",
     "collapsed": false,
     "input": [
      "plot_kimura_eshel_simulation(s_range, T_kimura_s, simulation=T_simulation_s, xlabel='s', ylabel='T');"
     ],
     "language": "python",
     "metadata": {},
     "outputs": [
      {
       "metadata": {},
       "output_type": "display_data",
       "png": "[encoded data removed]",
       "text": [
        "<matplotlib.figure.Figure at 0x8f68f10>"
       ]
      }
     ],
     "prompt_number": 435
    },
    {
     "cell_type": "markdown",
     "metadata": {},
     "source": [
      "## Multiple locus simulation"
     ]
    },
    {
     "cell_type": "code",
     "collapsed": false,
     "input": [
      "def simulate_fixation_mut_load(sd,sb,U,N,x,G,pi,tau,PLOT=False):\n",
      "    if PLOT:\n",
      "        _ = []\n",
      "    t = 0\n",
      "    \n",
      "    S = diag((1-sd)**arange(G))\n",
      "    S = array(bmat([[S,zeros((G,G))],[zeros((G,G)),S*(1+sb)]]))\n",
      "    \n",
      "    if pi == 0:\n",
      "        M = diag([tau*U]*(G-1),-1) + diag([1-tau*U]*G)        \n",
      "        M[-1,-1] = 1\n",
      "        M = bmat([[M,zeros((G,G))],[zeros((G,G)),M]])\n",
      "    elif pi == 1:\n",
      "        Ma = diag([tau*U]*(G-1),-1) + diag([1-tau*U]*G)\n",
      "        Ma[-1,-1] = 1\n",
      "        MA = diag([U]*(G-1),-1) + diag([1-U]*G)\n",
      "        MA[-1,-1] = 1\n",
      "        M = bmat([[Ma,zeros((G,G))],[zeros((G,G)),MA]])\n",
      "    elif pi == 1000:\n",
      "        M = diag([U]*(G-1),-1) + diag([1-U]*G)\n",
      "        M[-1,-1] = 1\n",
      "        M = bmat([[M,zeros((G,G))],[zeros((G,G)),M]])\n",
      "    else:\n",
      "        raise Exception(\"Illegal pi value \" + str(pi))\n",
      "    \n",
      "    E = array(S.dot(array(M)))\n",
      "       \n",
      "    p = array([0.0]*(2*G))\n",
      "    p[0] = 1-x\n",
      "    p[G] = x\n",
      "            \n",
      "    while not (allclose(x,1) or allclose(x,0)):\n",
      "        assert 0 < x < 1        \n",
      "        if PLOT: _.append(x)\n",
      "            \n",
      "        t += 1        \n",
      "        p = E.dot(p)      \n",
      "        p /= p.sum()        \n",
      "        assert allclose(p.sum(), 1)\n",
      "        \n",
      "        if N > 0:\n",
      "            n = multinomial(N, p)\n",
      "        p = n/float(N)                \n",
      "        \n",
      "        assert allclose(p.sum(), 1)\n",
      "        x = p[G:].sum()\n",
      "        \n",
      "        if PLOT: \n",
      "            if len(_)%100 == 0:\n",
      "                print len(_),\n",
      "        \n",
      "    if PLOT:\n",
      "        plot(range(len(_)), _)\n",
      "        ylim(-0.1,1)\n",
      "        xlim(0,max(10,len(_)))\n",
      "        xlabel(\"Time\")\n",
      "        ylabel(\"Frequency\")\n",
      "    return allclose(x,1), t, S.diagonal().dot(p)\n",
      "    \n",
      "while True:\n",
      "    fix,time,w = simulate_fixation_mut_load(0.05, 0.1, 0.003, 1e5, 1e-5, 5, 1, 10, True)\n",
      "    if fix:\n",
      "        break\n",
      "print\n",
      "print \"w:\",w/(1.1)"
     ],
     "language": "python",
     "metadata": {},
     "outputs": [
      {
       "output_type": "stream",
       "stream": "stdout",
       "text": [
        "100\n",
        "w: 0.99711209875\n"
       ]
      },
      {
       "metadata": {},
       "output_type": "display_data",
       "png": "[encoded data removed]",
       "text": [
        "<matplotlib.figure.Figure at 0x3156790>"
       ]
      }
     ],
     "prompt_number": 80
    },
    {
     "cell_type": "code",
     "collapsed": false,
     "input": [
      "def p_simulation_mut_load(s,N,x,U,pi,tau,replicates=100):\n",
      "    ps = [simulate_fixation_mut_load(s*2, s, U, N, 1./N, 10, pi, tau)[0] for _ in range(replicates)]\n",
      "    return mean(ps)\n",
      "pool['p_simulation_mut_load'] = p_simulation_mut_load\n",
      "print \"NM:%.3f\" % p_simulation_mut_load(0.1, 1e5, 1e-5, 0.003, 0, 1, 10000)\n",
      "print \"CM: %.3f\" % p_simulation_mut_load(0.1, 1e5, 1e-5, 0.003, 0, 10, 10000)\n",
      "print \"SIM: %.3f\" % p_simulation_mut_load(0.1, 1e5, 1e-5, 0.003, 1, 10, 10000)"
     ],
     "language": "python",
     "metadata": {},
     "outputs": [
      {
       "output_type": "stream",
       "stream": "stdout",
       "text": [
        "NM:0.177\n",
        "CM: 0.165"
       ]
      },
      {
       "output_type": "stream",
       "stream": "stdout",
       "text": [
        "\n",
        "SIM: 0.204"
       ]
      },
      {
       "output_type": "stream",
       "stream": "stdout",
       "text": [
        "\n"
       ]
      }
     ],
     "prompt_number": 100
    },
    {
     "cell_type": "code",
     "collapsed": false,
     "input": [
      "def T_simulation_mut_load(s,N,x,U,pi,tau,replicates=100):\n",
      "    Ts = [simulate_fixation_mut_load(s*2, s, U, N, 1./N, 10, pi, tau) for _ in range(replicates)]\n",
      "    return mean([t[1] for t in Ts if t[0]])\n",
      "pool['T_simulation_mut_load'] = T_simulation_mut_load\n",
      "print \"NM:%.3f\" % T_simulation_mut_load(0.1, 1e5, 1e-5, 0.003, 0, 1, 1000)\n",
      "print \"CM: %.3f\" % T_simulation_mut_load(0.1, 1e5, 1e-5, 0.003, 0, 10, 1000)\n",
      "print \"SIM: %.3f\" % T_simulation_mut_load(0.1, 1e5, 1e-5, 0.003, 1, 10, 1000)"
     ],
     "language": "python",
     "metadata": {},
     "outputs": [
      {
       "output_type": "stream",
       "stream": "stdout",
       "text": [
        "NM:213.515\n",
        "CM: 211.048"
       ]
      },
      {
       "output_type": "stream",
       "stream": "stdout",
       "text": [
        "\n",
        "SIM: 166.495"
       ]
      },
      {
       "output_type": "stream",
       "stream": "stdout",
       "text": [
        "\n"
       ]
      }
     ],
     "prompt_number": 99
    },
    {
     "cell_type": "code",
     "collapsed": false,
     "input": [],
     "language": "python",
     "metadata": {},
     "outputs": []
    }
   ],
   "metadata": {}
  }
 ]
}