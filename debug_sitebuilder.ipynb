{
 "metadata": {
  "name": "debug_sitebuilder"
 },
 "nbformat": 3,
 "nbformat_minor": 0,
 "worksheets": [
  {
   "cells": [
    {
     "cell_type": "code",
     "collapsed": false,
     "input": [
      "cd d:\\workspace\\yoavram.github.com\\source"
     ],
     "language": "python",
     "metadata": {},
     "outputs": [
      {
       "output_type": "stream",
       "stream": "stdout",
       "text": [
        "d:\\workspace\\yoavram.github.com\\source\n"
       ]
      }
     ],
     "prompt_number": 1
    },
    {
     "cell_type": "code",
     "collapsed": false,
     "input": [
      "import sitebuilder as sb "
     ],
     "language": "python",
     "metadata": {},
     "outputs": [],
     "prompt_number": 2
    },
    {
     "cell_type": "code",
     "collapsed": false,
     "input": [
      "def nextp(p):\n",
      "    ps = sb.pages_by_datetime()\n",
      "    ind=ps.index(p)\n",
      "    if ind == (len(ps)-1):\n",
      "        return None\n",
      "    else:\n",
      "        return ps[ind+1]"
     ],
     "language": "python",
     "metadata": {},
     "outputs": [],
     "prompt_number": 8
    },
    {
     "cell_type": "code",
     "collapsed": false,
     "input": [
      "ps=sb.pages_by_datetime()\n",
      "p=ps[0]\n",
      "print p\n",
      "for i in range(3):\n",
      "    p=nextp(p)\n",
      "    print p"
     ],
     "language": "python",
     "metadata": {},
     "outputs": [
      {
       "output_type": "stream",
       "stream": "stdout",
       "text": [
        "<Page u'mean-fitness-at-the-mutation-selection-balance'>\n",
        "<Page u'blogging-with-math-and-code'>\n",
        "<Page u'links_and_footnotes'>\n",
        "last\n",
        "None\n"
       ]
      }
     ],
     "prompt_number": 9
    },
    {
     "cell_type": "code",
     "collapsed": false,
     "input": [
      "reload(sb)\n",
      "sb.freeze(True)"
     ],
     "language": "python",
     "metadata": {},
     "outputs": [
      {
       "output_type": "stream",
       "stream": "stderr",
       "text": [
        "sitebuilder.py:137: MissingURLGeneratorWarning: Nothing frozen for endpoints tag. Did you forget an URL generator?\n",
        "  freezer.freeze()\n"
       ]
      }
     ],
     "prompt_number": 4
    },
    {
     "cell_type": "code",
     "collapsed": false,
     "input": [
      "p=sb.pages_by_datetime()[0]\n",
      "p.meta"
     ],
     "language": "python",
     "metadata": {},
     "outputs": [
      {
       "output_type": "pyout",
       "prompt_number": 5,
       "text": [
        "{'datetime': datetime.datetime(2012, 10, 29, 18, 44),\n",
        " 'draft': True,\n",
        " 'tags': ['st2', 'markdown'],\n",
        " 'title': 'Writing Markdown with Sublime Text 2'}"
       ]
      }
     ],
     "prompt_number": 5
    },
    {
     "cell_type": "code",
     "collapsed": false,
     "input": [
      "import os\n",
      "r = os.popen(\"pandoc pages\\\\links_and_footnotes.md -o test.pdf\")"
     ],
     "language": "python",
     "metadata": {},
     "outputs": [],
     "prompt_number": 13
    },
    {
     "cell_type": "code",
     "collapsed": false,
     "input": [
      "r.read()"
     ],
     "language": "python",
     "metadata": {},
     "outputs": [
      {
       "output_type": "pyout",
       "prompt_number": 14,
       "text": [
        "''"
       ]
      }
     ],
     "prompt_number": 14
    },
    {
     "cell_type": "code",
     "collapsed": false,
     "input": [
      "pwd"
     ],
     "language": "python",
     "metadata": {},
     "outputs": [
      {
       "output_type": "pyout",
       "prompt_number": 15,
       "text": [
        "u'd:\\\\workspace\\\\yoavram.github.com\\\\source'"
       ]
      }
     ],
     "prompt_number": 15
    }
   ],
   "metadata": {}
  }
 ]
}