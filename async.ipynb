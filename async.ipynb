{
 "cells": [
  {
   "cell_type": "code",
   "execution_count": 1,
   "metadata": {
    "collapsed": true
   },
   "outputs": [],
   "source": [
    "from itertools import tee\n",
    "from collections import defaultdict\n",
    "import urllib.request"
   ]
  },
  {
   "cell_type": "code",
   "execution_count": 2,
   "metadata": {
    "collapsed": false
   },
   "outputs": [],
   "source": [
    "def parse(content):\n",
    "    \"\"\"Reads from file-like object content and creates a dictionary mapping letters to the set of letters that appear after them.\n",
    "    \"\"\"\n",
    "    d = defaultdict()\n",
    "    for line in content:        \n",
    "        if not line:\n",
    "            break\n",
    "        line = line.decode().lower()\n",
    "        letters, next_letters = tee(filter(str.isalpha, line))\n",
    "        try:\n",
    "            next(next_letters) # should be one ahead of letters\n",
    "            for c in letters:\n",
    "                d.setdefault(c, set()).add(next(next_letters))\n",
    "        except StopIteration: # raised by next_letters when it's finished, possibly stoping the loop\n",
    "            pass\n",
    "    return d   \n",
    "\n",
    "def fetch_page(url):\n",
    "    \"\"\"Returns results of parse on the url content.\n",
    "    \"\"\"\n",
    "    with urllib.request.urlopen(url) as f:\n",
    "        d = parse(f)\n",
    "    return d\n",
    "\n",
    "urls = (\n",
    "    'https://raw.githubusercontent.com/yoavram/Py4Eng/master/data/gulliver.txt',\n",
    "    'https://raw.githubusercontent.com/yoavram/Py4Eng/master/data/alice.txt'\n",
    ")"
   ]
  },
  {
   "cell_type": "code",
   "execution_count": 3,
   "metadata": {
    "collapsed": false
   },
   "outputs": [
    {
     "name": "stdout",
     "output_type": "stream",
     "text": [
      "1 loop, best of 1: 4.03 s per loop\n"
     ]
    }
   ],
   "source": [
    "%%timeit -n 1 -r 1\n",
    "\n",
    "result = [fetch_page(url) for url in urls]"
   ]
  },
  {
   "cell_type": "markdown",
   "metadata": {},
   "source": [
    "<http://aiohttp.readthedocs.org/>"
   ]
  },
  {
   "cell_type": "code",
   "execution_count": 4,
   "metadata": {
    "collapsed": true
   },
   "outputs": [],
   "source": [
    "import aiohttp\n",
    "import asyncio\n",
    "from itertools import tee\n",
    "from collections import defaultdict"
   ]
  },
  {
   "cell_type": "code",
   "execution_count": 5,
   "metadata": {
    "collapsed": false
   },
   "outputs": [],
   "source": [
    "async def parse(content):\n",
    "    \"\"\"Reads from file-like object content and creates a dictionary mapping letters to the set of letters that appear after them.\n",
    "    \"\"\"\n",
    "    d = defaultdict()\n",
    "    async for line in content:\n",
    "        if not line:\n",
    "            break\n",
    "        line = line.decode().lower()\n",
    "        letters, next_letters = tee(filter(str.isalpha, line))\n",
    "        try:\n",
    "            next(next_letters) # should be one ahead of letters\n",
    "            for c in letters:\n",
    "                d.setdefault(c, set()).add(next(next_letters))\n",
    "        except StopIteration: # raised by next_letters when it's finished, possibly stoping the loop\n",
    "            pass\n",
    "    return d   \n",
    "\n",
    "async def fetch_page(url):\n",
    "    \"\"\"Returns results of parse on the url content.\n",
    "    \"\"\"    \n",
    "    response = await aiohttp.get(url)\n",
    "    assert response.status == 200\n",
    "    d = await parse(response.content) # response.content is a file-like object\n",
    "    response.close()\n",
    "    return d\n",
    "\n",
    "tasks = [fetch_page(url) for url in urls]\n",
    "loop = asyncio.get_event_loop()"
   ]
  },
  {
   "cell_type": "code",
   "execution_count": 6,
   "metadata": {
    "collapsed": false,
    "scrolled": true
   },
   "outputs": [
    {
     "name": "stdout",
     "output_type": "stream",
     "text": [
      "1 loop, best of 1: 1.25 s per loop\n"
     ]
    }
   ],
   "source": [
    "%%timeit -n 1 -r 1\n",
    "\n",
    "result = loop.run_until_complete(asyncio.wait(tasks))"
   ]
  },
  {
   "cell_type": "code",
   "execution_count": 7,
   "metadata": {
    "collapsed": false
   },
   "outputs": [],
   "source": [
    "loop.close()"
   ]
  },
  {
   "cell_type": "code",
   "execution_count": null,
   "metadata": {
    "collapsed": true
   },
   "outputs": [],
   "source": []
  }
 ],
 "metadata": {
  "kernelspec": {
   "display_name": "Py4Eng",
   "language": "python",
   "name": "py4eng"
  },
  "language_info": {
   "codemirror_mode": {
    "name": "ipython",
    "version": 3
   },
   "file_extension": ".py",
   "mimetype": "text/x-python",
   "name": "python",
   "nbconvert_exporter": "python",
   "pygments_lexer": "ipython3",
   "version": "3.5.1"
  }
 },
 "nbformat": 4,
 "nbformat_minor": 0
}
