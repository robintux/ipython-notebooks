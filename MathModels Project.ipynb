{
 "metadata": {
  "name": "",
  "signature": "sha256:4aa2d3ecc7fb323a7d6b0148cc71b775c66ab6e8e650442fd1b1ee6d1c349ace"
 },
 "nbformat": 3,
 "nbformat_minor": 0,
 "worksheets": [
  {
   "cells": [
    {
     "cell_type": "markdown",
     "metadata": {},
     "source": [
      "# Project for Mathematical Models course\n",
      "## Yoav Ram, Spring 2014"
     ]
    },
    {
     "cell_type": "markdown",
     "metadata": {},
     "source": [
      "## Homogenenous model\n",
      "\n",
      "Consider an asexual infinite well-mixed population. This model follows Haigh 1967 \n",
      "\n",
      "We classify individuals by the number of deleterious mutations they accumulate (disregarding beneficial mutations and assuming all mutations have the same effect). Therefore the frequency and fitness of individuals with _n_ deleterious mutations at time _t_ are $f_n(t)$ and $\\omega_n$. The population mean fitness at time _t_ is $\\bar{\\omega}(t) = \\sum_{n \\ge 0}{\\omega_n(t) f_n}$.\n",
      "largest\n",
      "The equation for the change in frequency of individuals with _n_ mutations is:\n",
      "$$\n",
      "f_n(t+1) = \\sum_{k=0}^n{ f_k(t) \\frac{\\omega_k}{\\bar{\\omega}(t)} m_{n,k}}\n",
      "$$\n",
      "where $m_{n,k}$ is the probability to transition from _k_ mutations to _n_, usually modeled as a Poisson distribution:\n",
      "$$\n",
      "m_{n,k} = e^{-U} \\frac{U^{n-k}}{(n-k)!}, \\;\\;\\;  k\\le n \\\\\\\\\n",
      "m_{n,k}=0, otherwise\n",
      "$$\n",
      "\n",
      "In the equilibrium, $f_n = f_n(t+1) = f_n(t)$ and $\\bar{\\omega} = \\bar{\\omega}(t) = \\bar{\\omega}(t+1)$, we can rewrite this as a matrix equation:\n",
      "$$\n",
      "\\bar{\\omega} f = M f\n",
      "$$\n",
      "where $f=(f_0, f_1, ...)$ is a frequency vector and _M_ is the evolution matrix \n",
      "$$\n",
      "M_{n,k} = \\omega_k m_{n,k}\n",
      "$$\n",
      "This matrix is triangular and non-negative and if $f_0(0)>0$ then according to _Perron-Frobenius theorem_  $\\bar{\\omega}$ is the dominant (largest) eigenvalue of _M_ and _f_ is the only non-negative eigenvector of _M_ with $\\sum_n f_n = 1$.\n",
      "\n",
      "Because we assume that $argmax(\\omega_n)=0$, and because the eigenvalues of a tridiagonal matrix lie on the main diagonal, we get \n",
      "$$\n",
      "\\bar{\\omega} = \\omega_0 m_{0,0}\n",
      "$$\n",
      "and with the usual definitions ($\\omega_n = (1-s)^n$ and the above $m_{n,k}$:\n",
      "$$\n",
      "\\bar{\\omega} = e^{-U}\n",
      "$$\n",
      "which is a classical result in population genetics (Kimura & Maruyama 1966; Haigh 1978)."
     ]
    },
    {
     "cell_type": "markdown",
     "metadata": {},
     "source": [
      "## Heterogeneous model\n",
      "\n",
      "Now consider that the population is classified by the number of deleterious mutations _n_ and the mutation rate $U_i, 0\\le i \\le h$, so that we have the frequencies $f_{i,n}$. The fitness does not depend on the mutation rate: $\\omega_{i,n} = \\omega_n$, but the transitions do, such that \n",
      "$m_{(i,n),(j,k)} = F(i,n,k)$\n",
      "for some function _F_. For example, if _m_ follows a Poisson distribution:\n",
      "$$\n",
      "m_{(i,n),(i,k)} = e^{-U_j} \\frac{U_j^{n-k}}{(n-k)!} (1-\\mu U_j), \\;\\;\\;  k\\le n \\\\\\\\\n",
      "m_{(i,n),(j,k)} = e^{-U_j} \\frac{U_j^{n-k}}{(n-k)!} \\cdot \\frac{\\mu U_j}{h}, \\;\\;\\;  k\\le n, i \\ne j\n",
      "$$\n",
      "for some $0<\\mu\\ll 1$ that gives the probability that a mutation changes the mutation rate.\n",
      "\n",
      "We can rewrite the equilibrium condition again as a matrix equation\n",
      "$$\n",
      "\\bar{\\omega} f = M f\n",
      "$$\n",
      "by flattening the _f_ vector: $f = (f_{0,0}, f_{0,1}, f_{0,2}, ..., f_{1,0}, f_{1,1}, ...)$ and writing a new block matrix $M^*$. \n",
      "\n",
      "The diagonal of $M^*$ has matrices similar to the above but multiplied by a prob $M^i$ is the ith matrix on the diagonal of $M^*$:\n",
      "$$\n",
      "M^i_{n,k} = \\omega_k m_{(i,n),(i,k)} (1-\\mu U_i)\n",
      "$$\n",
      "The rest of $M^*$ is built of copies of $M^i$ multiplied by \n",
      "\n",
      "The question is then: \n",
      "\n",
      "**What is $\\bar{\\omega}$ as a function of $U_1, U_2, ...$?**"
     ]
    },
    {
     "cell_type": "markdown",
     "metadata": {},
     "source": [
      "## Simple heterogeneous model: h=1\n",
      "\n",
      "In this case there are just to possible mutation rates, $U_0 < U_1$ that affect the corresponding transition rates.\n",
      "\n",
      "The $M^*$ matrix is:\n",
      "\\begin{matrix}\n",
      "\\omega_0 m_{(0,0),(0,0)} & 0 & ... & \\omega_0  m_{(1,0),(0,0)} & 0 & ... \\\\ \n",
      "\\omega_0 m_{(0,0),(0,1)} & \\omega_1 m_{(0,1),(0,1)} & ... & 0 & \\omega_1 m_{(1,1),(0,1)} & ... \\\\ \n",
      "... & ... & ... & ... & ... & ... \\\\ \n",
      "\\omega_0 m_{(0,0),(1,0)} & 0 & ... & \\omega_0 m_{(1,0),(1,0)} & 0 & ... \\\\ \n",
      "0 & \\omega_1 m_{(0,1),(1,1)} & ... & \\omega_0 m_{(1,0),(1,1)} & \\omega_1 m_{(1,1),(1,1)} & ... \\\\ \n",
      "... & ... & ... & ... & ... & ... \n",
      "\\end{matrix}\n",
      "\n",
      "Note that we must have $\\sum_j{M^*_{i,j}}=(1-s)^j$.\n",
      "\n",
      "This case is more complex to solve analytically, as the eigenvalue cannot be so easily found as in the homogenenous case where the evolution matrix was triangular."
     ]
    },
    {
     "cell_type": "markdown",
     "metadata": {},
     "source": [
      "### Simple case, one mutation per generation\n",
      "For simplicity, let's assume no more than one mutation per generation with probabilities $U_0 < U_1 < .. < U_h$ and that with probability $\\mu$ this mutation changes the mutation rate. Also assume $\\omega_i = (1-s)^i$.\n",
      "\n",
      "The $M^*$ matrix is:\n",
      "\n",
      "\\begin{matrix}\n",
      "1-U_0 & 0 & ... &  \\mu U_1 / h & 0 & ... \\\\ \n",
      "U_0(1-\\mu) & (1-s) (1-U_0) & ... & 0 & (1-s) \\mu U_1 / h & ... \\\\ \n",
      "... & ... & ... & ... & ... & ... \\\\ \n",
      "\\mu U_0 / h & 0 & ... & 1-U_1 & 0 & ... \\\\ \n",
      "0 & (1-s) \\mu U_0 / h & ... & U_1(1-\\mu) & (1-s) (1-U_1) & ... \\\\ \n",
      "... & ... & ... & ... & ... & ... \n",
      "\\end{matrix}\n",
      "\n",
      "This matrix can be diagonalized by Gaussian elimination and the first element on the diagonal will be\n",
      "$$\n",
      "\\bar{\\omega} = 1-U_0 - \\frac{\\mu^2}{h^2} U_0 \\sum_{i=1}^{h}{\\frac{U_i}{1-U_i}}\n",
      "$$\n",
      "and for the homogeneous case of course $\\bar{\\omega} = 1-U$.\n",
      "\n",
      "Replacing $U_i=U_0 + \\epsilon_i$:\n",
      "$$\n",
      "\\bar{\\omega} = 1-U_0 - \\frac{\\mu^2}{h^2} U_0 \\sum_{i=1}^{h}{\\frac{U_0 + \\epsilon_i}{1-U_0 - \\epsilon_i}} = \\\\\\\\\n",
      "1-U_0 - \\frac{\\mu^2}{h^2} U_0 \\sum_{i=1}^{h}{ (U_0 + \\epsilon_i) (1 + U_0 + \\epsilon_i + O(\\epsilon_i^2))}\n",
      "$$\n"
     ]
    },
    {
     "cell_type": "code",
     "collapsed": false,
     "input": [],
     "language": "python",
     "metadata": {},
     "outputs": []
    }
   ],
   "metadata": {}
  }
 ]
}