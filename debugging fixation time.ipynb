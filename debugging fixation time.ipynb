{
 "metadata": {
  "name": "",
  "signature": "sha256:de99e5d728259938b31e4b0f87c35e6b7db55a05c9b810d03fe494c827b1a1f4"
 },
 "nbformat": 3,
 "nbformat_minor": 0,
 "worksheets": [
  {
   "cells": [
    {
     "cell_type": "code",
     "collapsed": false,
     "input": [
      "from scipy.integrate import romb,trapz, quad"
     ],
     "language": "python",
     "metadata": {},
     "outputs": [],
     "prompt_number": 2
    },
    {
     "cell_type": "code",
     "collapsed": false,
     "input": [
      "integral = quad"
     ],
     "language": "python",
     "metadata": {},
     "outputs": [],
     "prompt_number": 118
    },
    {
     "cell_type": "code",
     "collapsed": false,
     "input": [
      "def integral(func, a, b, steps=100000):\n",
      "    x = arange(a,b,(b-a)/float(steps))\n",
      "    y = map(func,x)\n",
      "    if isnan(y).any():\n",
      "        print y\n",
      "    return trapz(y,x)"
     ],
     "language": "python",
     "metadata": {},
     "outputs": [],
     "prompt_number": 63
    },
    {
     "cell_type": "code",
     "collapsed": false,
     "input": [
      "def integrand1(s,N,x):\n",
      "    if x == 1:\n",
      "        return 2*N*s * (1 - exp(-2*N*s))\n",
      "    return (1 - exp(-2*N*s*x) - exp(-(1-x)) - exp(-2*N*s))/(x*(1-x))\n",
      "\n",
      "def integrand2(s,N,x):\n",
      "    if x == 0:\n",
      "        return 0\n",
      "    return (exp(2*N*s*x) - 1) * (1 - exp(-2*N*s*x))/(x*(1-x))"
     ],
     "language": "python",
     "metadata": {},
     "outputs": [],
     "prompt_number": 56
    },
    {
     "cell_type": "code",
     "collapsed": false,
     "input": [
      "s = 0.1\n",
      "N = 1e6\n",
      "print \"I\",integral(lambda t: integrand1(s,N,t), 1./N, 1)\n",
      "x=arange(1./N, 1, 0.1)\n",
      "y=map(lambda t: integrand1(s,N,t), x)\n",
      "for i in range(10):\n",
      "    print x[i],y[i]"
     ],
     "language": "python",
     "metadata": {},
     "outputs": [
      {
       "output_type": "stream",
       "stream": "stdout",
       "text": [
        "I "
       ]
      },
      {
       "output_type": "stream",
       "stream": "stdout",
       "text": [
        "6.81552545925\n",
        "1e-06 -186610.74874\n",
        "0.100001 6.59360732011\n",
        "0.200001 3.44167825969\n",
        "0.300001 2.3972059083\n",
        "0.400001 1.87994766294\n",
        "0.500001 1.57387493503\n",
        "0.600001 1.37366482658\n",
        "0.700001 1.23419777229\n",
        "0.800001 1.13293192469\n",
        "0.900001 1.05736136685\n"
       ]
      }
     ],
     "prompt_number": 57
    },
    {
     "cell_type": "code",
     "collapsed": false,
     "input": [
      "s = 0.1\n",
      "N = 1e6\n",
      "print \"I\",integral(lambda t: integrand2(s,N,t), 0, 1./N)\n",
      "x=arange(0, 1./N, (1./N)/10)\n",
      "y=map(lambda t: integrand2(s,N,t), x)\n",
      "for i in range(10):\n",
      "    print x[i],y[i]"
     ],
     "language": "python",
     "metadata": {},
     "outputs": [
      {
       "output_type": "stream",
       "stream": "stdout",
       "text": [
        "I "
       ]
      },
      {
       "output_type": "stream",
       "stream": "stdout",
       "text": [
        "0.0200329750054\n",
        "0.0 0\n",
        "1e-07 4000.13373512\n",
        "2e-07 8001.06832377\n",
        "3e-07 12003.6040331\n",
        "4e-07 16008.5415574\n",
        "5e-07 20016.6822316\n",
        "6e-07 24028.8282449\n",
        "7e-07 28045.782855\n",
        "8e-07 32068.3506022\n",
        "9e-07 36097.3375244\n"
       ]
      }
     ],
     "prompt_number": 58
    },
    {
     "cell_type": "code",
     "collapsed": false,
     "input": [
      "integral = quad"
     ],
     "language": "python",
     "metadata": {},
     "outputs": [],
     "prompt_number": 65
    },
    {
     "cell_type": "code",
     "collapsed": false,
     "input": [
      "def T_kimura(s,N,x):\n",
      "    J1 = 2/(s*(1 - exp(-2*N*s))) * integral(lambda t: integrand1(s,N,t), x, 1)[0]\n",
      "    u = (1-exp(-2*N*s*x))/(1-exp(-2*N*s))\n",
      "    J2 = 2/(s*(1-exp(-2*N*s))) * integral(lambda t: integrand2(s,N,t), 0, x)[0]\n",
      "    return J1 + ((1-u)/u) * J2\n",
      "T_kimura(0.01, 1e5, 1e-5)"
     ],
     "language": "python",
     "metadata": {},
     "outputs": [
      {
       "metadata": {},
       "output_type": "pyout",
       "prompt_number": 66,
       "text": [
        "848.80543200989177"
       ]
      }
     ],
     "prompt_number": 66
    },
    {
     "cell_type": "code",
     "collapsed": false,
     "input": [
      "from scipy import integrate"
     ],
     "language": "python",
     "metadata": {},
     "outputs": [],
     "prompt_number": 33
    },
    {
     "cell_type": "code",
     "collapsed": false,
     "input": [
      "integral(sin,0,pi/2)"
     ],
     "language": "python",
     "metadata": {},
     "outputs": [
      {
       "metadata": {},
       "output_type": "pyout",
       "prompt_number": 109,
       "text": [
        "(0.9999999999999999, 1.1102230246251564e-14)"
       ]
      }
     ],
     "prompt_number": 109
    },
    {
     "cell_type": "code",
     "collapsed": false,
     "input": [
      "N,s"
     ],
     "language": "python",
     "metadata": {},
     "outputs": [
      {
       "metadata": {},
       "output_type": "pyout",
       "prompt_number": 134,
       "text": [
        "(10000.0, 0.01)"
       ]
      }
     ],
     "prompt_number": 134
    },
    {
     "cell_type": "code",
     "collapsed": false,
     "input": [
      "integrand1 = lambda t: (exp(2*N*s*t) - 1)*(exp(-2*N*s*t)-exp(-2*N*s))/(t*(1-t))\n",
      "2/(s*(1 - exp(-2*N*s))) * integral(integrand1, 1./N, 1-1e-16)"
     ],
     "language": "python",
     "metadata": {},
     "outputs": [
      {
       "metadata": {},
       "output_type": "pyout",
       "prompt_number": 143,
       "text": [
        "3000.3023484692617"
       ]
      }
     ],
     "prompt_number": 143
    },
    {
     "cell_type": "code",
     "collapsed": false,
     "input": [
      "u = (1-exp(-2*N*s*x))/(1-exp(-2*N*s))"
     ],
     "language": "python",
     "metadata": {},
     "outputs": []
    },
    {
     "cell_type": "code",
     "collapsed": false,
     "input": [
      "integrand2 = lambda t: (exp(2*N*s*t) - 1)*(1-exp(-2*N*s*t))/(t*(1-t))\n",
      "2/(s*(1-exp(-2*N*s))) * ( (1-u)/u )* integral(integrand2, 1e-16, 1./N)"
     ],
     "language": "python",
     "metadata": {},
     "outputs": [
      {
       "metadata": {},
       "output_type": "pyout",
       "prompt_number": 145,
       "text": [
        "1.6039727525664154"
       ]
      }
     ],
     "prompt_number": 145
    },
    {
     "cell_type": "code",
     "collapsed": false,
     "input": [],
     "language": "python",
     "metadata": {},
     "outputs": []
    }
   ],
   "metadata": {}
  }
 ]
}