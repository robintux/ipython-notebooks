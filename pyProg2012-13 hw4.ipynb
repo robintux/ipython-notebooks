{
 "metadata": {
  "name": "pyProg2012-13 hw4"
 },
 "nbformat": 3,
 "nbformat_minor": 0,
 "worksheets": [
  {
   "cells": [
    {
     "cell_type": "code",
     "collapsed": false,
     "input": [
      "cd D:\\university\\python course\\4"
     ],
     "language": "python",
     "metadata": {},
     "outputs": [
      {
       "output_type": "stream",
       "stream": "stdout",
       "text": [
        "D:\\university\\python course\\4\n"
       ]
      }
     ],
     "prompt_number": 1
    },
    {
     "cell_type": "code",
     "collapsed": false,
     "input": [
      "from ta4_code import *"
     ],
     "language": "python",
     "metadata": {},
     "outputs": [],
     "prompt_number": 2
    },
    {
     "cell_type": "code",
     "collapsed": false,
     "input": [
      "rec_power(0.5, 30)"
     ],
     "language": "python",
     "metadata": {},
     "outputs": [
      {
       "output_type": "stream",
       "stream": "stdout",
       "text": [
        "rec_power(0.5,30) --> rec_power(0.5,15) --> rec_power(0.5,14) --> rec_power(0.5,7) --> rec_power(0.5,6) --> rec_power(0.5,3) --> rec_power(0.5,2) --> rec_power(0.5,1) --> rec_power(0.5,0) -->"
       ]
      },
      {
       "output_type": "pyout",
       "prompt_number": 4,
       "text": [
        "9.313225746154785e-10"
       ]
      },
      {
       "output_type": "stream",
       "stream": "stdout",
       "text": [
        "\n"
       ]
      }
     ],
     "prompt_number": 4
    }
   ],
   "metadata": {}
  }
 ]
}