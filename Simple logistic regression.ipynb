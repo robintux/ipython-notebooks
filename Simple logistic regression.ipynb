{
 "cells": [
  {
   "cell_type": "markdown",
   "metadata": {},
   "source": [
    "# Simple logistic regression\n",
    "\n",
    "This notebook follows John H McDonald's [Handbook of Biological Statistics](http://www.biostathandbook.com/simplelogistic.html) chapter on simple logistic regression.\n",
    "\n",
    "This notebook is provided with a CC-BY-SA license."
   ]
  },
  {
   "cell_type": "code",
   "execution_count": 1,
   "metadata": {
    "collapsed": true
   },
   "outputs": [],
   "source": [
    "import io\n",
    "%matplotlib inline\n",
    "import matplotlib.pyplot as plt\n",
    "import pandas as pd\n",
    "import numpy as np\n",
    "import scipy.stats\n",
    "import scipy.special\n",
    "import seaborn as sns\n",
    "sns.set_style('white')\n",
    "sns.set_context('notebook')"
   ]
  },
  {
   "cell_type": "markdown",
   "metadata": {},
   "source": [
    "Spider data from *Suzuki et al. (2006)*:"
   ]
  },
  {
   "cell_type": "code",
   "execution_count": 2,
   "metadata": {
    "collapsed": false
   },
   "outputs": [
    {
     "data": {
      "text/html": [
       "<div>\n",
       "<table border=\"1\" class=\"dataframe\">\n",
       "  <thead>\n",
       "    <tr style=\"text-align: right;\">\n",
       "      <th></th>\n",
       "      <th>Grain size (mm)</th>\n",
       "      <th>Spiders</th>\n",
       "    </tr>\n",
       "  </thead>\n",
       "  <tbody>\n",
       "    <tr>\n",
       "      <th>0</th>\n",
       "      <td>0.245</td>\n",
       "      <td>False</td>\n",
       "    </tr>\n",
       "    <tr>\n",
       "      <th>1</th>\n",
       "      <td>0.247</td>\n",
       "      <td>False</td>\n",
       "    </tr>\n",
       "    <tr>\n",
       "      <th>2</th>\n",
       "      <td>0.285</td>\n",
       "      <td>True</td>\n",
       "    </tr>\n",
       "    <tr>\n",
       "      <th>3</th>\n",
       "      <td>0.299</td>\n",
       "      <td>True</td>\n",
       "    </tr>\n",
       "    <tr>\n",
       "      <th>4</th>\n",
       "      <td>0.327</td>\n",
       "      <td>True</td>\n",
       "    </tr>\n",
       "  </tbody>\n",
       "</table>\n",
       "</div>"
      ],
      "text/plain": [
       "   Grain size (mm) Spiders\n",
       "0            0.245   False\n",
       "1            0.247   False\n",
       "2            0.285    True\n",
       "3            0.299    True\n",
       "4            0.327    True"
      ]
     },
     "execution_count": 2,
     "metadata": {},
     "output_type": "execute_result"
    }
   ],
   "source": [
    "data = \"\"\"Grain size (mm)\tSpiders\n",
    "0.245\tabsent\n",
    "0.247\tabsent\n",
    "0.285\tpresent\n",
    "0.299\tpresent\n",
    "0.327\tpresent\n",
    "0.347\tpresent\n",
    "0.356\tabsent\n",
    "0.36\tpresent\n",
    "0.363\tabsent\n",
    "0.364\tpresent\n",
    "0.398\tabsent\n",
    "0.4\tpresent\n",
    "0.409\tabsent\n",
    "0.421\tpresent\n",
    "0.432\tabsent\n",
    "0.473\tpresent\n",
    "0.509\tpresent\n",
    "0.529\tpresent\n",
    "0.561\tabsent\n",
    "0.569\tabsent\n",
    "0.594\tpresent\n",
    "0.638\tpresent\n",
    "0.656\tpresent\n",
    "0.816\tpresent\n",
    "0.853\tpresent\n",
    "0.938\tpresent\n",
    "1.036\tpresent\n",
    "1.045\tpresent\n",
    "\"\"\"\n",
    "df = pd.read_table(io.StringIO(data))\n",
    "df.Spiders = df.Spiders == 'present'\n",
    "df.head()"
   ]
  },
  {
   "cell_type": "code",
   "execution_count": 3,
   "metadata": {
    "collapsed": false
   },
   "outputs": [
    {
     "data": {
      "image/png": "[encoded data removed]",
      "text/plain": [
       "<matplotlib.figure.Figure at 0x10491cda0>"
      ]
     },
     "metadata": {},
     "output_type": "display_data"
    }
   ],
   "source": [
    "df.plot.scatter('Grain size (mm)', 'Spiders')\n",
    "plt.ylabel('Spiders present?')\n",
    "sns.despine()"
   ]
  },
  {
   "cell_type": "markdown",
   "metadata": {},
   "source": [
    "I will analyse this with the *scikit-learn* package."
   ]
  },
  {
   "cell_type": "code",
   "execution_count": 4,
   "metadata": {
    "collapsed": true
   },
   "outputs": [],
   "source": [
    "import sklearn.linear_model"
   ]
  },
  {
   "cell_type": "markdown",
   "metadata": {},
   "source": [
    "scikit-learn has a logisitic regression classifier which uses regularization. To eliminate regularization, we set the regularization parameter `C` to $10^{12}$."
   ]
  },
  {
   "cell_type": "code",
   "execution_count": 5,
   "metadata": {
    "collapsed": false
   },
   "outputs": [
    {
     "name": "stdout",
     "output_type": "stream",
     "text": [
      "[-1.64748882] [[ 5.12118846]]\n"
     ]
    }
   ],
   "source": [
    "# C=1e12 is effectively no regularization - see https://github.com/scikit-learn/scikit-learn/issues/6738\n",
    "clf = sklearn.linear_model.LogisticRegression(C=1e12, random_state=0)\n",
    "clf.fit(df['Grain size (mm)'].reshape(-1, 1), df['Spiders'])\n",
    "print(clf.intercept_, clf.coef_)"
   ]
  },
  {
   "cell_type": "markdown",
   "metadata": {},
   "source": [
    "This is in agreement with the equation John reports:\n",
    "$$\n",
    "probability of spider presence = \\frac{e^{-1.6476+5.1215(grain \\; size)}}{(1+e^{-1.6476+5.1215(grain \\; size)}}\n",
    "$$"
   ]
  },
  {
   "cell_type": "code",
   "execution_count": 6,
   "metadata": {
    "collapsed": true
   },
   "outputs": [],
   "source": [
    "def plot_log_reg(x, y, data, clf, xmin=None, xmax=None, alpha=1, ax=None):\n",
    "    if ax is None:\n",
    "        fig, ax = plt.subplots()\n",
    "    else:\n",
    "        fig = ax.figure\n",
    "    ax.scatter(data[x], data[y], color='black', zorder=20, alpha=alpha)\n",
    "    if xmin is None:\n",
    "        xmin = x.min()\n",
    "    if xmax is None:\n",
    "        xmax = x.max()\n",
    "    X_test = np.linspace(xmin, xmax, 300)\n",
    "\n",
    "    loss = scipy.special.expit(X_test * clf.coef_ + clf.intercept_).ravel()\n",
    "    ax.plot(X_test, loss, linewidth=3)\n",
    "\n",
    "    ax.set_xlabel(x)\n",
    "    ax.set_ylabel(y)\n",
    "    fig.tight_layout()\n",
    "    sns.despine()\n",
    "    return fig, ax"
   ]
  },
  {
   "cell_type": "code",
   "execution_count": 7,
   "metadata": {
    "collapsed": false
   },
   "outputs": [
    {
     "data": {
      "image/png": "[encoded data removed]",
      "text/plain": [
       "<matplotlib.figure.Figure at 0x1127732b0>"
      ]
     },
     "metadata": {},
     "output_type": "display_data"
    }
   ],
   "source": [
    "plot_log_reg(x='Grain size (mm)', y='Spiders', data=df, clf=clf, xmin=0, xmax=1.5);"
   ]
  },
  {
   "cell_type": "markdown",
   "metadata": {},
   "source": [
    "# Hypothesis testing\n",
    "\n",
    "To test if *Grain size* is a significant factor, we use the [**likelihood ratio test**](https://en.wikipedia.org/wiki/Logistic_regression#Evaluating_goodness_of_fit).\n",
    "\n",
    "We calculate the likelihood of the model with the grain size (the alternative model):"
   ]
  },
  {
   "cell_type": "code",
   "execution_count": 8,
   "metadata": {
    "collapsed": false
   },
   "outputs": [],
   "source": [
    "def log_reg_null_model(X, y):\n",
    "    X_ = np.zeros_like(X)\n",
    "    if X_.ndim == 1:\n",
    "        X_ = X_.reshape(-1, 1)\n",
    "    clf = sklearn.linear_model.LogisticRegression(C=1e12)\n",
    "    clf.fit(X_, y)\n",
    "    return clf\n",
    "\n",
    "clf0 = log_reg_null_model(df['Grain size (mm)'], df['Spiders'])"
   ]
  },
  {
   "cell_type": "markdown",
   "metadata": {},
   "source": [
    "The likelihood ratio test operates by calculating the test statistic $D$ from the likelihoods of the null and alternative models:\n",
    "$$\n",
    "D = -2 \\log{ \\frac{L(H_0)}{L(H_1)} }\n",
    "$$\n",
    "The test statistic is then approximately chisquare distributed.\n",
    "\n",
    "*scikit-learn* has a log-loss function that can help us do that. \n",
    "The log-loss is defined as the negative log-likelihood, so we can rewrite:\n",
    "$$\n",
    "D = 2 (-\\log{L(H_0)} + \\log{L(H_1)}) \\Rightarrow \\\\\n",
    "D = 2 (logloss(H_0) - logloss(H_1))\n",
    "$$"
   ]
  },
  {
   "cell_type": "code",
   "execution_count": 9,
   "metadata": {
    "collapsed": true
   },
   "outputs": [],
   "source": [
    "import sklearn.metrics"
   ]
  },
  {
   "cell_type": "code",
   "execution_count": 10,
   "metadata": {
    "collapsed": true
   },
   "outputs": [],
   "source": [
    "def log_reg_lik_ratio_test(X, Y, clf0, clf1, df=1):\n",
    "    if X.ndim == 1:\n",
    "        X = X.reshape(-1, 1)\n",
    "    y_prob0 = clf0.predict_proba(X)\n",
    "    loss0 = sklearn.metrics.log_loss(Y, y_prob0, normalize=False)\n",
    "    y_prob1 = clf1.predict_proba(X)\n",
    "    loss1 = sklearn.metrics.log_loss(Y, y_prob1, normalize=False)\n",
    "    D = 2 * (loss0 - loss1)\n",
    "    return scipy.stats.distributions.chi2.sf(D, df=df)"
   ]
  },
  {
   "cell_type": "code",
   "execution_count": 11,
   "metadata": {
    "collapsed": false
   },
   "outputs": [
    {
     "data": {
      "text/plain": [
       "0.033243767135570736"
      ]
     },
     "execution_count": 11,
     "metadata": {},
     "output_type": "execute_result"
    }
   ],
   "source": [
    "log_reg_lik_ratio_test(df['Grain size (mm)'], df['Spiders'].astype(np.float64), clf0, clf)"
   ]
  },
  {
   "cell_type": "markdown",
   "metadata": {},
   "source": [
    "John indeed reports 0.033.\n",
    "\n",
    "Note that the log-loss calculation in equivalent to:"
   ]
  },
  {
   "cell_type": "code",
   "execution_count": 12,
   "metadata": {
    "collapsed": false
   },
   "outputs": [
    {
     "name": "stdout",
     "output_type": "stream",
     "text": [
      "15.3157739197 15.3157739197\n"
     ]
    }
   ],
   "source": [
    "_ = clf.predict_proba(df['Grain size (mm)'].reshape(-1, 1))\n",
    "df['prob_absent'], df['prob_present'] = _[:,0], _[:,1]\n",
    "lik = df.loc[df['Spiders'], 'prob_present'].prod() * df.loc[~df['Spiders'], 'prob_absent'].prod()\n",
    "print(\n",
    "    -np.log(lik), \n",
    "    sklearn.metrics.log_loss(\n",
    "        df['Spiders'], \n",
    "        clf.predict_proba(df['Grain size (mm)'].reshape(-1, 1)), \n",
    "        normalize=False\n",
    "    )\n",
    ")"
   ]
  },
  {
   "cell_type": "markdown",
   "metadata": {},
   "source": [
    "## Second example"
   ]
  },
  {
   "cell_type": "code",
   "execution_count": 13,
   "metadata": {
    "collapsed": false
   },
   "outputs": [
    {
     "data": {
      "text/html": [
       "<div>\n",
       "<table border=\"1\" class=\"dataframe\">\n",
       "  <thead>\n",
       "    <tr style=\"text-align: right;\">\n",
       "      <th></th>\n",
       "      <th>Location</th>\n",
       "      <th>Latitude</th>\n",
       "      <th>Mpi90</th>\n",
       "      <th>Mpi100</th>\n",
       "      <th>p, Mpi100</th>\n",
       "    </tr>\n",
       "  </thead>\n",
       "  <tbody>\n",
       "    <tr>\n",
       "      <th>0</th>\n",
       "      <td>Port Townsend, WA</td>\n",
       "      <td>48.1</td>\n",
       "      <td>47</td>\n",
       "      <td>139</td>\n",
       "      <td>0.748</td>\n",
       "    </tr>\n",
       "    <tr>\n",
       "      <th>1</th>\n",
       "      <td>Neskowin, OR</td>\n",
       "      <td>45.2</td>\n",
       "      <td>177</td>\n",
       "      <td>241</td>\n",
       "      <td>0.577</td>\n",
       "    </tr>\n",
       "    <tr>\n",
       "      <th>2</th>\n",
       "      <td>Siuslaw R., OR</td>\n",
       "      <td>44.0</td>\n",
       "      <td>1087</td>\n",
       "      <td>1183</td>\n",
       "      <td>0.521</td>\n",
       "    </tr>\n",
       "    <tr>\n",
       "      <th>3</th>\n",
       "      <td>Umpqua R., OR</td>\n",
       "      <td>43.7</td>\n",
       "      <td>187</td>\n",
       "      <td>175</td>\n",
       "      <td>0.483</td>\n",
       "    </tr>\n",
       "    <tr>\n",
       "      <th>4</th>\n",
       "      <td>Coos Bay, OR</td>\n",
       "      <td>43.5</td>\n",
       "      <td>397</td>\n",
       "      <td>671</td>\n",
       "      <td>0.628</td>\n",
       "    </tr>\n",
       "  </tbody>\n",
       "</table>\n",
       "</div>"
      ],
      "text/plain": [
       "            Location  Latitude  Mpi90  Mpi100  p, Mpi100\n",
       "0  Port Townsend, WA      48.1     47     139      0.748\n",
       "1       Neskowin, OR      45.2    177     241      0.577\n",
       "2     Siuslaw R., OR      44.0   1087    1183      0.521\n",
       "3      Umpqua R., OR      43.7    187     175      0.483\n",
       "4       Coos Bay, OR      43.5    397     671      0.628"
      ]
     },
     "execution_count": 13,
     "metadata": {},
     "output_type": "execute_result"
    }
   ],
   "source": [
    "data = \"\"\"Location\tLatitude\tMpi90\tMpi100\tp, Mpi100\n",
    "Port Townsend, WA\t48.1\t47\t139\t0.748\n",
    "Neskowin, OR\t45.2\t177\t241\t0.577\n",
    "Siuslaw R., OR\t44\t1087\t1183\t0.521\n",
    "Umpqua R., OR\t43.7\t187\t175\t0.483\n",
    "Coos Bay, OR\t43.5\t397\t671\t0.628\n",
    "San Francisco, CA\t37.8\t40\t14\t0.259\n",
    "Carmel, CA\t36.6\t39\t17\t0.304\n",
    "Santa Barbara, CA\t34.3\t30\t0\t0\n",
    "\"\"\"\n",
    "df = pd.read_table(io.StringIO(data))\n",
    "df.head()"
   ]
  },
  {
   "cell_type": "code",
   "execution_count": 14,
   "metadata": {
    "collapsed": false
   },
   "outputs": [
    {
     "data": {
      "image/png": "[encoded data removed]",
      "text/plain": [
       "<matplotlib.figure.Figure at 0x112806ef0>"
      ]
     },
     "metadata": {},
     "output_type": "display_data"
    }
   ],
   "source": [
    "df.sort_values('Latitude').plot('Latitude', 'p, Mpi100', ls='', marker='o')\n",
    "plt.ylabel('Mpi100 proportion')\n",
    "plt.legend().set_visible(False)\n",
    "plt.xlim(30, 50)\n",
    "plt.ylim(-0.1, 1.1)\n",
    "sns.despine()"
   ]
  },
  {
   "cell_type": "code",
   "execution_count": 15,
   "metadata": {
    "collapsed": false
   },
   "outputs": [
    {
     "data": {
      "text/html": [
       "<div>\n",
       "<table border=\"1\" class=\"dataframe\">\n",
       "  <thead>\n",
       "    <tr style=\"text-align: right;\">\n",
       "      <th></th>\n",
       "      <th>Allele</th>\n",
       "      <th>Latitude</th>\n",
       "      <th>Location</th>\n",
       "    </tr>\n",
       "  </thead>\n",
       "  <tbody>\n",
       "    <tr>\n",
       "      <th>0</th>\n",
       "      <td>0</td>\n",
       "      <td>48.1</td>\n",
       "      <td>Port Townsend, WA</td>\n",
       "    </tr>\n",
       "    <tr>\n",
       "      <th>1</th>\n",
       "      <td>0</td>\n",
       "      <td>48.1</td>\n",
       "      <td>Port Townsend, WA</td>\n",
       "    </tr>\n",
       "    <tr>\n",
       "      <th>2</th>\n",
       "      <td>0</td>\n",
       "      <td>48.1</td>\n",
       "      <td>Port Townsend, WA</td>\n",
       "    </tr>\n",
       "    <tr>\n",
       "      <th>3</th>\n",
       "      <td>0</td>\n",
       "      <td>48.1</td>\n",
       "      <td>Port Townsend, WA</td>\n",
       "    </tr>\n",
       "    <tr>\n",
       "      <th>4</th>\n",
       "      <td>0</td>\n",
       "      <td>48.1</td>\n",
       "      <td>Port Townsend, WA</td>\n",
       "    </tr>\n",
       "  </tbody>\n",
       "</table>\n",
       "</div>"
      ],
      "text/plain": [
       "   Allele  Latitude           Location\n",
       "0       0      48.1  Port Townsend, WA\n",
       "1       0      48.1  Port Townsend, WA\n",
       "2       0      48.1  Port Townsend, WA\n",
       "3       0      48.1  Port Townsend, WA\n",
       "4       0      48.1  Port Townsend, WA"
      ]
     },
     "execution_count": 15,
     "metadata": {},
     "output_type": "execute_result"
    }
   ],
   "source": [
    "rows = []\n",
    "for i, row in df.iterrows():\n",
    "    for _ in range(row['Mpi90']):\n",
    "        rows.append({'Location':row['Location'], 'Latitude': row['Latitude'], 'Allele': 0})\n",
    "    for _ in range(row['Mpi100']):\n",
    "        rows.append({'Location':row['Location'], 'Latitude': row['Latitude'], 'Allele': 1})\n",
    "raw_df = pd.DataFrame(rows)\n",
    "raw_df.head()"
   ]
  },
  {
   "cell_type": "code",
   "execution_count": 16,
   "metadata": {
    "collapsed": false
   },
   "outputs": [
    {
     "name": "stdout",
     "output_type": "stream",
     "text": [
      "[-7.59881547] [[ 0.17754715]]\n"
     ]
    }
   ],
   "source": [
    "clf = sklearn.linear_model.LogisticRegression(C=1e12, random_state=0)\n",
    "clf.fit(raw_df['Latitude'].reshape(-1, 1), raw_df['Allele'])\n",
    "print(clf.intercept_, clf.coef_)"
   ]
  },
  {
   "cell_type": "markdown",
   "metadata": {},
   "source": [
    "which is very close to McDonald's intercept of -7.6469 and slope of 0.1786."
   ]
  },
  {
   "cell_type": "code",
   "execution_count": 17,
   "metadata": {
    "collapsed": false
   },
   "outputs": [
    {
     "data": {
      "text/plain": [
       "<matplotlib.axes._subplots.AxesSubplot at 0x1127e4240>"
      ]
     },
     "execution_count": 17,
     "metadata": {},
     "output_type": "execute_result"
    },
    {
     "data": {
      "image/png": "[encoded data removed]",
      "text/plain": [
       "<matplotlib.figure.Figure at 0x112089c50>"
      ]
     },
     "metadata": {},
     "output_type": "display_data"
    }
   ],
   "source": [
    "fig, ax = plot_log_reg(x='Latitude', y='Allele', data=raw_df, clf=clf, xmin=30, xmax=50, alpha=0.02)\n",
    "df.sort_values('Latitude').plot('Latitude', 'p, Mpi100', ls='', marker='o', ax=ax)"
   ]
  },
  {
   "cell_type": "code",
   "execution_count": 18,
   "metadata": {
    "collapsed": false
   },
   "outputs": [
    {
     "name": "stdout",
     "output_type": "stream",
     "text": [
      "[ 0.19685284] [[ 0.]]\n"
     ]
    }
   ],
   "source": [
    "clf0 = log_reg_null_model(raw_df['Latitude'], raw_df['Allele'])\n",
    "print(clf0.intercept_, clf0.coef_)"
   ]
  },
  {
   "cell_type": "code",
   "execution_count": 19,
   "metadata": {
    "collapsed": false
   },
   "outputs": [
    {
     "data": {
      "text/plain": [
       "7.0572187317602719e-20"
      ]
     },
     "execution_count": 19,
     "metadata": {},
     "output_type": "execute_result"
    }
   ],
   "source": [
    "log_reg_lik_ratio_test(raw_df['Latitude'], raw_df['Allele'], clf0, clf)"
   ]
  },
  {
   "cell_type": "markdown",
   "metadata": {},
   "source": [
    "# Multiple logistic regression\n",
    "\n",
    "Now following the [chapter of the same name](http://www.biostathandbook.com/multiplelogistic.html) in the same book.\n",
    "\n",
    "Here is an example using the data on bird introductions to New Zealand."
   ]
  },
  {
   "cell_type": "code",
   "execution_count": 25,
   "metadata": {
    "collapsed": false
   },
   "outputs": [
    {
     "data": {
      "text/html": [
       "<div>\n",
       "<table border=\"1\" class=\"dataframe\">\n",
       "  <thead>\n",
       "    <tr style=\"text-align: right;\">\n",
       "      <th></th>\n",
       "      <th>species</th>\n",
       "      <th>status</th>\n",
       "      <th>length</th>\n",
       "      <th>mass</th>\n",
       "      <th>range</th>\n",
       "      <th>migr</th>\n",
       "      <th>insect</th>\n",
       "      <th>diet</th>\n",
       "      <th>clutch</th>\n",
       "      <th>broods</th>\n",
       "      <th>wood</th>\n",
       "      <th>upland</th>\n",
       "      <th>water</th>\n",
       "      <th>release</th>\n",
       "      <th>indiv</th>\n",
       "    </tr>\n",
       "  </thead>\n",
       "  <tbody>\n",
       "    <tr>\n",
       "      <th>0</th>\n",
       "      <td>Cyg_olor</td>\n",
       "      <td>1</td>\n",
       "      <td>1520</td>\n",
       "      <td>9600.0</td>\n",
       "      <td>1.21</td>\n",
       "      <td>1</td>\n",
       "      <td>12.0</td>\n",
       "      <td>2</td>\n",
       "      <td>6.0</td>\n",
       "      <td>1.0</td>\n",
       "      <td>0</td>\n",
       "      <td>0</td>\n",
       "      <td>1</td>\n",
       "      <td>6</td>\n",
       "      <td>29.0</td>\n",
       "    </tr>\n",
       "    <tr>\n",
       "      <th>1</th>\n",
       "      <td>Cyg_atra</td>\n",
       "      <td>1</td>\n",
       "      <td>1250</td>\n",
       "      <td>5000.0</td>\n",
       "      <td>0.56</td>\n",
       "      <td>1</td>\n",
       "      <td>0.0</td>\n",
       "      <td>1</td>\n",
       "      <td>6.0</td>\n",
       "      <td>1.0</td>\n",
       "      <td>0</td>\n",
       "      <td>0</td>\n",
       "      <td>1</td>\n",
       "      <td>10</td>\n",
       "      <td>85.0</td>\n",
       "    </tr>\n",
       "    <tr>\n",
       "      <th>2</th>\n",
       "      <td>Cer_nova</td>\n",
       "      <td>1</td>\n",
       "      <td>870</td>\n",
       "      <td>3360.0</td>\n",
       "      <td>0.07</td>\n",
       "      <td>1</td>\n",
       "      <td>0.0</td>\n",
       "      <td>1</td>\n",
       "      <td>4.0</td>\n",
       "      <td>1.0</td>\n",
       "      <td>0</td>\n",
       "      <td>0</td>\n",
       "      <td>1</td>\n",
       "      <td>3</td>\n",
       "      <td>8.0</td>\n",
       "    </tr>\n",
       "    <tr>\n",
       "      <th>3</th>\n",
       "      <td>Ans_caer</td>\n",
       "      <td>0</td>\n",
       "      <td>720</td>\n",
       "      <td>2517.0</td>\n",
       "      <td>1.10</td>\n",
       "      <td>3</td>\n",
       "      <td>12.0</td>\n",
       "      <td>2</td>\n",
       "      <td>3.8</td>\n",
       "      <td>1.0</td>\n",
       "      <td>0</td>\n",
       "      <td>0</td>\n",
       "      <td>1</td>\n",
       "      <td>1</td>\n",
       "      <td>10.0</td>\n",
       "    </tr>\n",
       "    <tr>\n",
       "      <th>4</th>\n",
       "      <td>Ans_anse</td>\n",
       "      <td>0</td>\n",
       "      <td>820</td>\n",
       "      <td>3170.0</td>\n",
       "      <td>3.45</td>\n",
       "      <td>3</td>\n",
       "      <td>0.0</td>\n",
       "      <td>1</td>\n",
       "      <td>5.9</td>\n",
       "      <td>1.0</td>\n",
       "      <td>0</td>\n",
       "      <td>0</td>\n",
       "      <td>1</td>\n",
       "      <td>2</td>\n",
       "      <td>7.0</td>\n",
       "    </tr>\n",
       "  </tbody>\n",
       "</table>\n",
       "</div>"
      ],
      "text/plain": [
       "    species  status  length    mass  range  migr  insect  diet  clutch  \\\n",
       "0  Cyg_olor       1    1520  9600.0   1.21     1    12.0     2     6.0   \n",
       "1  Cyg_atra       1    1250  5000.0   0.56     1     0.0     1     6.0   \n",
       "2  Cer_nova       1     870  3360.0   0.07     1     0.0     1     4.0   \n",
       "3  Ans_caer       0     720  2517.0   1.10     3    12.0     2     3.8   \n",
       "4  Ans_anse       0     820  3170.0   3.45     3     0.0     1     5.9   \n",
       "\n",
       "   broods  wood  upland  water  release  indiv  \n",
       "0     1.0     0       0      1        6   29.0  \n",
       "1     1.0     0       0      1       10   85.0  \n",
       "2     1.0     0       0      1        3    8.0  \n",
       "3     1.0     0       0      1        1   10.0  \n",
       "4     1.0     0       0      1        2    7.0  "
      ]
     },
     "execution_count": 25,
     "metadata": {},
     "output_type": "execute_result"
    }
   ],
   "source": [
    "data=\"\"\"\n",
    "Cyg_olor 1 1520  9600 1.21 1 12 2  6   1 0 0 1  6 29\n",
    "Cyg_atra 1 1250  5000 0.56 1  0 1  6   1 0 0 1 10 85\n",
    "Cer_nova 1  870  3360 0.07 1  0 1  4   1 0 0 1  3 8\n",
    "Ans_caer 0  720  2517 1.1  3 12 2  3.8 1 0 0 1  1 10\n",
    "Ans_anse 0  820  3170 3.45 3  0 1  5.9 1 0 0 1  2 7\n",
    "Bra_cana 1  770  4390 2.96 2  0 1  5.9 1 0 0 1 10 60\n",
    "Bra_sand 0   50  1930 0.01 1  0 1  4   2 0 0 0  1 2\n",
    "Alo_aegy 0  680  2040 2.71 1  . 2  8.5 1 0 0 1  1 8\n",
    "Ana_plat 1  570  1020 9.01 2  6 2 12.6 1 0 0 1 17 1539\n",
    "Ana_acut 0  580   910 7.9  3  6 2  8.3 1 0 0 1  3 102\n",
    "Ana_pene 0  480   590 4.33 3  0 1  8.7 1 0 0 1  5 32\n",
    "Aix_spon 0  470   539 1.04 3 12 2 13.5 2 1 0 1  5 10\n",
    "Ayt_feri 0  450   940 2.17 3 12 2  9.5 1 0 0 1  3 9\n",
    "Ayt_fuli 0  435   684 4.81 3 12 2 10.1 1 0 0 1  2 5\n",
    "Ore_pict 0  275   230 0.31 1  3 1  9.5 1 1 1 0  9 398\n",
    "Lop_cali 1  256   162 0.24 1  3 1 14.2 2 0 0 0 15 1420\n",
    "Col_virg 1  230   170 0.77 1  3 1 13.7 1 0 0 0 17 1156\n",
    "Ale_grae 1  330   501 2.23 1  3 1 15.5 1 0 1 0 15 362\n",
    "Ale_rufa 0  330   439 0.22 1  3 2 11.2 2 0 0 0  2 20\n",
    "Per_perd 0  300   386 2.4  1  3 1 14.6 1 0 1 0 24 676\n",
    "Cot_pect 0  182    95 0.33 3  . 2  7.5 1 0 0 0  3 .\n",
    "Cot_aust 1  180    95 0.69 2 12 2 11   1 0 0 1 11 601\n",
    "Lop_nyct 0  800  1150 0.28 1 12 2  5   1 1 1 0  4 6\n",
    "Pha_colc 1  710   850 1.25 1 12 2 11.8 1 1 0 0 27 244\n",
    "Syr_reev 0  750   949 0.2  1 12 2  9.5 1 1 1 0  2 9\n",
    "Tet_tetr 0  470   900 4.17 1  3 1  7.9 1 1 1 0  2 13\n",
    "Lag_lago 0  390   517 7.29 1  0 1  7.5 1 1 1 0  2 4\n",
    "Ped_phas 0  440   815 1.83 1  3 1 12.3 1 1 0 0  1 22\n",
    "Tym_cupi 0  435   770 0.26 1  4 1 12   1 0 0 0  3 57\n",
    "Van_vane 0  300   226 3.93 2 12 3  3.8 1 0 0 0  8 124\n",
    "Plu_squa 0  285   318 1.67 3 12 3  4   1 0 0 1  2 3\n",
    "Pte_alch 0  350   225 1.21 2  0 1  2.5 2 0 0 0  1 8\n",
    "Pha_chal 0  320   350 0.6  1 12 2  2   2 1 0 0  8 42\n",
    "Ocy_loph 0  330   205 0.76 1  0 1  2   7 1 0 1  4 23\n",
    "Leu_mela 0  372     . 0.07 1 12 2  2   1 1 0 0  6 34\n",
    "Ath_noct 1  220   176 4.84 1 12 3  3.6 1 1 0 0  7 221\n",
    "Tyt_alba 0  340   298 8.9  2  0 3  5.7 2 1 0 0  1 7\n",
    "Dac_nova 1  460   382 0.34 1 12 3  2   1 1 0 0  7 21\n",
    "Lul_arbo 0  150  32.1 1.78 2  4 2  3.9 2 1 0 0  1 5\n",
    "Ala_arve 1  185  38.9 5.19 2 12 2  3.7 3 0 0 0 11 391\n",
    "Pru_modu 1  145  20.5 1.95 2 12 2  3.4 2 1 0 0 14 245\n",
    "Eri_rebe 0  140  15.8 2.31 2 12 2  5   2 1 0 0 11 123\n",
    "Lus_mega 0  161  19.4 1.88 3 12 2  4.7 2 1 0 0  4 7\n",
    "Tur_meru 1  255  82.6 3.3  2 12 2  3.8 3 1 0 0 16 596\n",
    "Tur_phil 1  230  67.3 4.84 2 12 2  4.7 2 1 0 0 12 343\n",
    "Syl_comm 0  140  12.8 3.39 3 12 2  4.6 2 1 0 0  1 2\n",
    "Syl_atri 0  142  17.5 2.43 2  5 2  4.6 1 1 0 0  1 5\n",
    "Man_mela 0  180     . 0.04 1 12 3  1.9 5 1 0 0  1 2\n",
    "Man_mela 0  265    59 0.25 1 12 2  2.6 . 1 0 0  1 80\n",
    "Gra_cyan 0  275   128 0.83 1 12 3  3   2 1 0 1  1 .\n",
    "Gym_tibi 1  400   380 0.82 1 12 3  4   1 1 0 0 15 448\n",
    "Cor_mone 0  335   203 3.4  2 12 2  4.5 1 1 0 0  2 3\n",
    "Cor_frug 1  400   425 3.73 1 12 2  3.6 1 1 0 0 10 182\n",
    "Stu_vulg 1  222  79.8 3.33 2  6 2  4.8 2 1 0 0 14 653\n",
    "Acr_tris 1  230 111.3 0.56 1 12 2  3.7 1 1 0 0  5 88\n",
    "Pas_dome 1  149  28.8 6.5  1  6 2  3.9 3 1 0 0 12 416\n",
    "Pas_mont 0  133    22 6.8  1  6 2  4.7 3 1 0 0  3 14\n",
    "Aeg_temp 0  120     . 0.17 1  6 2  4.7 3 1 0 0  3 14\n",
    "Emb_gutt 0  120    19 0.15 1  4 1  5   3 0 0 0  4 112\n",
    "Poe_gutt 0  100  12.4 0.75 1  4 1  4.7 3 0 0 0  1 12\n",
    "Lon_punc 0  110  13.5 1.06 1  0 1  5   3 0 0 0  1 8\n",
    "Lon_cast 0  100     . 0.13 1  4 1  5   . 0 0 1  4 45\n",
    "Pad_oryz 0  160     . 0.09 1  0 1  5   . 0 0 0  2 6\n",
    "Fri_coel 1  160  23.5 2.61 2 12 2  4.9 2 1 0 0 17 449\n",
    "Fri_mont 0  146  21.4 3.09 3 10 2  6   . 1 0 0  7 121\n",
    "Car_chlo 1  147    29 2.09 2  7 2  4.8 2 1 0 0  6 65\n",
    "Car_spin 0  117    12 2.09 3  3 1  4   2 1 0 0  3 54\n",
    "Car_card 1  120  15.5 2.85 2  4 1  4.4 3 1 0 0 14 626\n",
    "Aca_flam 1  115  11.5 5.54 2  6 1  5   2 1 0 0 10 607\n",
    "Aca_ﬂavi 0  133    17 1.67 2  0 1  5   3 0 1 0  3 61\n",
    "Aca_cann 0  136  18.5 2.52 2  6 1  4.7 2 1 0 0 12 209\n",
    "Pyr_pyrr 0  142  23.5 3.57 1  4 1  4   3 1 0 0  2 .\n",
    "Emb_citr 1  160  28.2 4.11 2  8 2  3.3 3 1 0 0 14 656\n",
    "Emb_hort 0  163  21.6 2.75 3 12 2  5   1 0 0 0  1 6\n",
    "Emb_cirl 1  160  23.6 0.62 1 12 2  3.5 2 1 0 0  3 29\n",
    "Emb_scho 0  150  20.7 5.42 1 12 2  5.1 2 0 0 1  2 9\n",
    "Pir_rubr 0  170    31 0.55 3 12 2  4   . 1 0 0  1 2\n",
    "Age_phoe 0  210  36.9 2    2  8 2  3.7 1 0 0 1  1 2\n",
    "Stu_negl 0  225 106.5 1.2  2 12 2  4.8 2 0 0 0  1 2\n",
    "\"\"\"\n",
    "cols = 'species status length mass range migr insect diet clutch broods wood upland water release indiv'.split()\n",
    "ind_vars = cols[2:]\n",
    "df = pd.read_table(io.StringIO(data), names=cols, header=None, delim_whitespace=True, na_values=['.'])\n",
    "df.dropna(inplace=True)\n",
    "y_true = df['status']\n",
    "X = df[ind_vars]\n",
    "df.head()"
   ]
  },
  {
   "cell_type": "code",
   "execution_count": 26,
   "metadata": {
    "collapsed": true
   },
   "outputs": [],
   "source": [
    "def log_reg_fit(X, y):\n",
    "    clf = sklearn.linear_model.LogisticRegression(C=1e12)\n",
    "    if X.ndim == 1:\n",
    "        X = X.reshape(-1, 1)\n",
    "    clf.fit(X, y)\n",
    "    return clf"
   ]
  },
  {
   "cell_type": "code",
   "execution_count": 32,
   "metadata": {
    "collapsed": false
   },
   "outputs": [
    {
     "name": "stdout",
     "output_type": "stream",
     "text": [
      "Adding release with p-value 4.9e-09\n",
      "Adding upland with p-value 0.0044\n",
      "Adding migr with p-value 0.011\n"
     ]
    }
   ],
   "source": [
    "pvals_threshold = 0.05\n",
    "clf0 = log_reg_null_model(y_true, y_true)\n",
    "included_vars = []\n",
    "excluded_vars = ind_vars.copy()\n",
    "\n",
    "while excluded_vars:\n",
    "    selected_var, pval = None, 1\n",
    "    for var in excluded_vars:\n",
    "        X_ = X[included_vars + [var]]\n",
    "        clf = log_reg_fit(X_, y_true)\n",
    "        pval_ = log_reg_lik_ratio_test(X_, y_true, clf0, clf)\n",
    "        if pval_ < pval:\n",
    "            selected_var, pval = var, pval_\n",
    "    if pval < pvals_threshold:\n",
    "        print(\"Adding {} with p-value {:.2g}\".format(selected_var, pval))\n",
    "        included_vars.append(selected_var)\n",
    "        excluded_vars.remove(selected_var)\n",
    "        X_ = X[included_vars].copy()\n",
    "        X_['placeholder'] = 0\n",
    "        clf0 = log_reg_fit(X_, y_true)\n",
    "    else:\n",
    "        break"
   ]
  },
  {
   "cell_type": "markdown",
   "metadata": {},
   "source": [
    "I get a similar result to the one presented by John, but I need a smaller P value threshold (I used 0.05 instead of 0.15). With 0.15 I get several more variables. Not sure why... Maybe the P value calculation in the book is using Wald test (used by SAS in the example given in the book), whereas I'm using the likelihood ratio test (which I believe is a better choice here)."
   ]
  }
 ],
 "metadata": {
  "kernelspec": {
   "display_name": "Python [conda env:Py4Eng]",
   "language": "python",
   "name": "conda-env-Py4Eng-py"
  },
  "language_info": {
   "codemirror_mode": {
    "name": "ipython",
    "version": 3
   },
   "file_extension": ".py",
   "mimetype": "text/x-python",
   "name": "python",
   "nbconvert_exporter": "python",
   "pygments_lexer": "ipython3",
   "version": "3.5.2"
  }
 },
 "nbformat": 4,
 "nbformat_minor": 1
}
