{
 "metadata": {
  "name": "",
  "signature": "sha256:0c526c7d4ecc5f222342525ab213147ecc34b58d6218e4f614628b16c353b680"
 },
 "nbformat": 3,
 "nbformat_minor": 0,
 "worksheets": [
  {
   "cells": [
    {
     "cell_type": "code",
     "collapsed": false,
     "input": [
      "import sympy\n",
      "from sympy import __version__ as sympy_ver\n",
      "print \"sympy\", sympy_ver\n",
      "from sympy.interactive import printing\n",
      "printing.init_printing(use_latex=True)\n",
      "rcParams['font.size'] = 14\n",
      "rcParams['legend.fontsize'] = 14"
     ],
     "language": "python",
     "metadata": {},
     "outputs": [
      {
       "output_type": "stream",
       "stream": "stdout",
       "text": [
        "sympy 0.7.5\n"
       ]
      }
     ],
     "prompt_number": 1
    },
    {
     "cell_type": "markdown",
     "metadata": {},
     "source": [
      "# Approximating a mutation-selection balance distribution with heterogeneous selection coefficients using the averaging principle\n",
      "## Seminar in Mathematical Models Course \n",
      "## Yoav Ram, Spring 2014"
     ]
    },
    {
     "cell_type": "markdown",
     "metadata": {},
     "source": [
      "# Introduction\n",
      "\n",
      "A mutation-selection balance (MSB) is an equilibrium between the generation of deleterious mutations and their purging by selection. The distribution of mutant alleles under a MSB is an important feature of evolutionary theory and the subject of many studies since the dawn of population genetics [@Haldane1937; @Kimura1966; @Wagner1989; @Bull2005].\n",
      "\n",
      "The  frequency of a wildtype allele is an important factor in the loss of the fittest genotype in asexual populations by random genetic drift in a process called Muller's Ratchet [@Haigh1978; @Gordo2000], used to explain the evolution of sexual reproduction; this process can also lead to the extinction of asexual populations [@Gabriel1993]. The expected frequency of mutant alleles is also used in inferences of mutation rate and selection intensity and in studies of rare genetic disease.\n",
      "\n",
      "Classical bi-allelic models, which focus on a wildtype allele and a single mutant allele, were used in the 1930's [@Haldane1937] to calculate the  frequency of the two alleles under MSB, assuming stable and constant conditions, a long evolutionary time, and a large population. However, when multi-allele models  are considered, with variable selection coefficient against the different mutant alleles, the calculations become complex and laborious. \n",
      "Therefore, it is appealing to approximate the multi-allele models using the bi-allele models by averaging over the selection coefficients of all the mutant alleles. \n",
      "\n",
      "But how good are these approximations? Here, I use the Averaging Principle [@Fibich2012] to give an estimation of the approximation error. The Averaging Principle states that if a heterogeneous model (such as the multi-allele model that has heterogeneous selection coefficients) is symmetric and differentiable, then it is $O(\\epsilon ^2)$-equivalent to a correspondig homogeneous model, where $\\epsilon$ is a measure of the heterogeneity in the model parameters."
     ]
    },
    {
     "cell_type": "markdown",
     "metadata": {},
     "source": [
      "# Model and Results\n",
      "## Homogeneous model\n",
      "\n",
      "Consider an asexual infinite population. We focus on a single locus with two alleles: wildtype _a_ and mutant _A_ with frequencies _f_ and _1-f_ and fitness 1 and 1-_s_. \n",
      "Mutation is unidirectional from _a_ to _A_ with probability _U_.\n",
      "\n",
      "The change in the frequency of _a_ and _A_ from generation to generation is described by:\n",
      "$$\n",
      "\\bar{\\omega}(t) f(t+1) = f(t) (1-U) \\\\\\\\\n",
      "\\bar{\\omega}(t) (1-f(t+1)) = f(t) U + (1-f(t))(1-s) \\\\\\\\\n",
      "\\bar{\\omega}(t) = f(t) + (1-f(t))(1-s)\n",
      "$$\n",
      "\n",
      "Taking the equilibrium values $f=\\lim_{t \\to \\infty}{f(t)}$ and $\\bar{\\omega} = \\lim_{t \\to \\infty}{ \\bar{\\omega}(t)}$, this resolves to \n",
      "$$\n",
      "\\bar{\\omega} f = f (1-U) \\Rightarrow \\\\\\\\\n",
      "\\bar{\\omega} = 1-U\n",
      "$$\n",
      "and plugging this to the second equation,\n",
      "$$\n",
      "\\bar{\\omega}(1-f) = f U + (1-f)(1-s) \\Rightarrow \\\\\\\\\n",
      "(1-U)(1-f) = fU + (1-f)(1-s) \\Rightarrow \\\\\\\\\n",
      "1 - f - U + fU = fU + 1-f-s+fs \\Rightarrow \\\\\\\\\n",
      "U = s-fs \\Rightarrow \n",
      "\\frac{s-U}{s} = f \\Rightarrow \\\\\\\\\n",
      "f = 1 - \\frac{U}{s}\n",
      "$$\n",
      "so that the equilibrium frequencies of the wildtype _a_ and the mutant _A_ are $1-\\frac{U}{s}$ and $\\frac{U}{s}$."
     ]
    },
    {
     "cell_type": "markdown",
     "metadata": {},
     "source": [
      "## Heterogeneous model\n",
      "\n",
      "In the homogeneous model we only considered a single selective disadvantage _s_ for all mutant alleles, grouped together as the allele _A_.\n",
      "\n",
      "In the heterogeneous model we have _n_ different mutant alleles with fitness $0<1-s_i<1, 1\\le i \\le n$ and frequencies $f_i$.\n",
      "The probability to mutate is still _U_, and there is an equal mutation probability for each mutant allele. Note that if one allele is more likely to be generated by mutation then we can repeat its selection coefficient multiple times; for example, if $s_1$ is 5 times more likely then $s_2$, then we can rewrite the coefficients as $s'_1 = s'_2 = s'_3 = s'_4 = s'_5 = s_1, s'_6=s_2$.\n",
      "\n",
      "The equilibrium equation system of the heterogeneous:\n",
      "\n",
      "$$\n",
      "\\bar{\\omega} f_0 = f_0 (1 - U) \\\\\\\\\n",
      "\\bar{\\omega} f_i = f_0 \\frac{U}{n} + (1-s_i)f_i , \\; \\forall n \\ge i \\ge 1 \\\\\\\\\n",
      "\\bar{\\omega} = f_0 + \\sum_{i=1}^{n} f_i (1-s_i) \\\\\\\\\n",
      "\\sum_{i=0}^{n} f_i = 1\n",
      "$$\n",
      "\n",
      "where $f_0$ is the frequency of the wildtype allele (with selection coefficient $0$), $f_i$ is the frequency of the mutant allele with selection coefficient $s_i$, and $\\bar{\\omega}$ is the mean fitness at he MSB.\n",
      "\n",
      "This model can also be written in matrix form; the equilibrium equation is\n",
      "\n",
      "$$\n",
      "\\bar{\\omega}f = Mf,\n",
      "$$\n",
      "\n",
      "where $f=(f_0,f_1,...,f_n)$ is the stationary vector and the evolution matrix is\n",
      "\n",
      "$$\n",
      "M = \n",
      "\\begin{matrix}\n",
      "1-U & 0 & 0 & ... & 0 \\\\\n",
      "U/n & 1-s_1 & 0 & ... & 0\\\\\n",
      "U/n & 0 & 1-s_2 & ... & 0\\\\\n",
      "... & ... & ... & ... & ...\\\\\n",
      "U/n & 0 & 0 & ... &1-s_n\\\\\n",
      "\\end{matrix}.\n",
      "$$\n",
      "\n",
      "In this formulation the population mean fitness at the MSB $\\bar{\\omega}$ is the largest eigenvalue of $M$,\n",
      "\n",
      "$$\n",
      "\\bar{\\omega} = 1-U,\n",
      "$$ \n",
      "\n",
      "and the stationary vector $f$ is the corresponding right eigenvector that has a sum of unity.\n",
      "\n",
      "However, finding this eigenvector in general is a complex problem which yields complex formulas.\n",
      "Therefore, approximating this heterogeneous model with the homogeneous model seems advantageous.\n",
      "\n",
      "The \"Averaging Principle\" [@Fibich2012] can be applied here to give an estimation of the error of such an approximation.\n",
      "\n",
      "The two conditions of the Averaging Principlie must apply: (i) the solution, $f$, must be a differentiable function of $s_i$; and (ii) there should be a symmetry between the various $s_i$. The latter condition holds: this is easily seen from the matrix $M$. The former condition depends on the choice of $s_i$ and $U$, but in principle (see below) the condition holds if $U$ is much smaller then $s_i$, which is a very reasonable assumption as $U$ is the per locus mutation rate and $s_i$ is the per locus selection coefficient [@Kibota1996].\n",
      "\n",
      "Before we study this general model any further, we will examine a simpler case."
     ]
    },
    {
     "cell_type": "markdown",
     "metadata": {},
     "source": [
      "### Simple case: n=2\n",
      "\n",
      "We start with the simplest case of two mutant alleles.\n",
      "The equilibrium equations are reduced to:\n",
      "$$\n",
      "\\bar{\\omega} f_0 = f_0 (1-U)  \\\\\\\\\n",
      "\\bar{\\omega} f_1 = f_0 \\frac{U}{2} + (1-s_1)f_1  \\\\\\\\\n",
      "\\bar{\\omega} f_2 = f_0 \\frac{U}{2} + (1-s_2)f_2  \\\\\\\\\n",
      "\\bar{\\omega} = f_0 + f_1(1-s_1) + (1-f_2) (1-s_2)\n",
      "$$\n",
      "or in matrix form, $\\bar{\\omega} f = Mf$, where $M$ is:\n",
      "\n",
      "\\begin{matrix}\n",
      "1-U & 0 & 0 \\\\\n",
      "U/2 & 1-s_1 & 0\\\\\n",
      "U/2 & 0 & 1-s_2\\\\\n",
      "\\end{matrix}\n",
      "\n",
      "From the equilibrium equation for $f_0$ we know that $\\bar{\\omega} = 1-U$.\n",
      "\n",
      "What is the corresponding right eigenvector, that is, the equilibrium frequencies $f_0, f_1, f_2$?"
     ]
    },
    {
     "cell_type": "markdown",
     "metadata": {},
     "source": [
      "$$\n",
      "(1-U)f_1 = \\frac{U}{2} f_0 + (1-s_1)f_1 \\Rightarrow \\\\\\\\\n",
      "(s_1-U)f_1 = \\frac{U}{2} f_0 \\Rightarrow \\\\\\\\\n",
      "f_1 = \\frac{U}{2(s_1-U)} f_0.\n",
      "$$\n",
      "\n",
      "Similarly,\n",
      "$$\n",
      "f_2 = \\frac{U}{2(s_2-U)} f_0.\n",
      "$$\n",
      "\n",
      "Using the fact these are frequencies,\n",
      "$$\n",
      "f_0 (1 + \\frac{U}{2(s_1-U)} + \\frac{U}{2(s_2-U)} ) = 1 \\Rightarrow \\\\\\\\\n",
      "f_0 = \\frac{1}{1 + \\frac{U}{2(s_1-U)} + \\frac{U}{2(s_2-U)} }.\n",
      "$$\n",
      "\n",
      "Examining the denominator,\n",
      "$$\n",
      "1 + \\frac{U}{2(s_1-U)} + \\frac{U}{2(s_2-U)} = \\\\\\\\\n",
      "\\frac{2(s_1-U)(s_2-U) + U(s_2-U) + U(s_1-U)}{2(s_1-U)(s_2-U)} = \\\\\\\\\n",
      "\\frac{2(s_1 s_2 -Us_1 -Us_2 +U^2) + Us_2 + Us_1 - 2U^2}{2(s_1-U)(s_2-U)} = \\\\\\\\\n",
      "\\frac{s_1 s_2 - U \\frac{s_1 + s_2}{2}}{s_1 s_2 - U(s_1 + s_2) + U^2}.\n",
      "$$\n",
      "\n",
      "Therefore,\n",
      "$$\n",
      "f_0 = 1 - U\\frac{\\frac{s_1 + s_2}{2} - U} {s_1 s_2 - U \\frac{s_1 + s_2}{2}}.\n",
      "$$"
     ]
    },
    {
     "cell_type": "markdown",
     "metadata": {},
     "source": [
      "To verify that the calculation is correct, we check that it equals the solution of the homoogeneous model if $s=s_1=s_2$:\n",
      "$$\n",
      "f_0 = 1 - \\frac{U}{s}\\frac{s - U} {s - U} = 1 - \\frac{U}{s},\n",
      "$$\n",
      "as expected.\n",
      "\n",
      "Note that $f_i$ is differentiable in $s_j \\; \\forall j\\in {0,1,2}$ if $s_i\\ne U$ and $s_1 s_2 \\ne U \\frac{s_1+s_2}{2}$. \n",
      "The former condition is given by the assumption that selection is stronger than mutation in all loci. \n",
      "The latter condition is also given by the same assumption because\n",
      "$$\n",
      "s_1 s_2 - U\\frac{s_1+s_2}{2} = \\frac{2 s_1 s_2 - Us_1 + U s_2}{2} = \\frac{s_1 (s_2 - U) + s_2 (s_1 -U)}{2},\n",
      "$$\n",
      "which equals zero only if $s_1=s_2=U$.\n",
      "\n",
      "Therefore the differentiability condition of the Averaging Principle is met."
     ]
    },
    {
     "cell_type": "markdown",
     "metadata": {},
     "source": [
      "We will now solve using [Sympy](http://sympy.org/), a free Python library for symbolic mathematics [@SymPyDevelopmentTeam2014].\n",
      "\n",
      "We define the evolution  matrix as above, calculate the eigenvalues and the right eigenvector corresponding the the $\\bar{\\omega}$ eigenvalue. \n",
      "\n",
      "This eigenvector must also be normalized so that its sum will be unity. "
     ]
    },
    {
     "cell_type": "code",
     "collapsed": false,
     "input": [
      "s1, s2, U = sympy.symbols(\"s1 s2 U\")"
     ],
     "language": "python",
     "metadata": {},
     "outputs": [],
     "prompt_number": 2
    },
    {
     "cell_type": "code",
     "collapsed": false,
     "input": [
      "M = sympy.Matrix([[(1-U),0,0],[U/2, 1-s1, 0],[U/2, 0, 1-s2]])\n",
      "M"
     ],
     "language": "python",
     "metadata": {},
     "outputs": [
      {
       "latex": [
        "$$\\left[\\begin{matrix}- U + 1 & 0 & 0\\\\\\frac{U}{2} & - s_{1} + 1 & 0\\\\\\frac{U}{2} & 0 & - s_{2} + 1\\end{matrix}\\right]$$"
       ],
       "metadata": {},
       "output_type": "pyout",
       "png": "[encoded data removed]",
       "prompt_number": 3,
       "text": [
        "\u23a1-U + 1     0        0   \u23a4\n",
        "\u23a2                        \u23a5\n",
        "\u23a2  U                     \u23a5\n",
        "\u23a2  \u2500     -s\u2081 + 1     0   \u23a5\n",
        "\u23a2  2                     \u23a5\n",
        "\u23a2                        \u23a5\n",
        "\u23a2  U                     \u23a5\n",
        "\u23a2  \u2500        0     -s\u2082 + 1\u23a5\n",
        "\u23a3  2                     \u23a6"
       ]
      }
     ],
     "prompt_number": 3
    },
    {
     "cell_type": "code",
     "collapsed": false,
     "input": [
      "M.eigenvals()"
     ],
     "language": "python",
     "metadata": {},
     "outputs": [
      {
       "latex": [
        "$$\\begin{Bmatrix}- U + 1 : 1, & - s_{1} + 1 : 1, & - s_{2} + 1 : 1\\end{Bmatrix}$$"
       ],
       "metadata": {},
       "output_type": "pyout",
       "png": "[encoded data removed]",
       "prompt_number": 4,
       "text": [
        "{-U + 1: 1, -s\u2081 + 1: 1, -s\u2082 + 1: 1}"
       ]
      }
     ],
     "prompt_number": 4
    },
    {
     "cell_type": "code",
     "collapsed": false,
     "input": [
      "v = M.eigenvects(simplify=True)\n",
      "for i in range(len(v)):\n",
      "    if v[i][0] == 1-U:\n",
      "        v = v[i]\n",
      "        break\n",
      "v = v[2][0]\n",
      "v"
     ],
     "language": "python",
     "metadata": {},
     "outputs": [
      {
       "latex": [
        "$$\\left[\\begin{matrix}- \\frac{1}{U} \\left(2 U - 2 s_{2}\\right)\\\\- \\frac{U - s_{2}}{- U + s_{1}}\\\\1\\end{matrix}\\right]$$"
       ],
       "metadata": {},
       "output_type": "pyout",
       "png": "[encoded data removed]",
       "prompt_number": 5,
       "text": [
        "\u23a1-2\u22c5(U - s\u2082) \u23a4\n",
        "\u23a2\u2500\u2500\u2500\u2500\u2500\u2500\u2500\u2500\u2500\u2500\u2500\u2500\u23a5\n",
        "\u23a2     U      \u23a5\n",
        "\u23a2            \u23a5\n",
        "\u23a2 -(U - s\u2082)  \u23a5\n",
        "\u23a2 \u2500\u2500\u2500\u2500\u2500\u2500\u2500\u2500\u2500\u2500 \u23a5\n",
        "\u23a2  -U + s\u2081   \u23a5\n",
        "\u23a2            \u23a5\n",
        "\u23a3     1      \u23a6"
       ]
      }
     ],
     "prompt_number": 5
    },
    {
     "cell_type": "markdown",
     "metadata": {},
     "source": [
      "To compare the Sympy calculation to our own, we use the substitution $U=10^{-5}, s_1=0.01, s_2=0.05$:"
     ]
    },
    {
     "cell_type": "code",
     "collapsed": false,
     "input": [
      "subs = {U:1e-5, s1: 0.01, s2:0.05}"
     ],
     "language": "python",
     "metadata": {},
     "outputs": [],
     "prompt_number": 6
    },
    {
     "cell_type": "code",
     "collapsed": false,
     "input": [
      "vx = (v/sum(v)).subs(subs)\n",
      "vx"
     ],
     "language": "python",
     "metadata": {},
     "outputs": [
      {
       "latex": [
        "$$\\left[\\begin{matrix}0.999399839903942\\\\0.000500200120072043\\\\9.99599759855914 \\cdot 10^{-5}\\end{matrix}\\right]$$"
       ],
       "metadata": {},
       "output_type": "pyout",
       "png": "[encoded data removed]",
       "prompt_number": 11,
       "text": [
        "\u23a1 0.999399839903942  \u23a4\n",
        "\u23a2                    \u23a5\n",
        "\u23a20.000500200120072043\u23a5\n",
        "\u23a2                    \u23a5\n",
        "\u23a39.99599759855914e-5 \u23a6"
       ]
      }
     ],
     "prompt_number": 11
    },
    {
     "cell_type": "markdown",
     "metadata": {},
     "source": [
      "Compare to our own result"
     ]
    },
    {
     "cell_type": "code",
     "collapsed": false,
     "input": [
      "avgs = (s1+s2)/2\n",
      "f0 = 1 - U*(avgs - U)/(s1*s2-U*avgs)\n",
      "f1 = U*f0/(2*(s1-U))\n",
      "f2 = U*f0/(2*(s2-U))\n",
      "f0,f1,f2"
     ],
     "language": "python",
     "metadata": {},
     "outputs": [
      {
       "latex": [
        "$$\\begin{pmatrix}- \\frac{U \\left(- U + \\frac{s_{1}}{2} + \\frac{s_{2}}{2}\\right)}{- U \\left(\\frac{s_{1}}{2} + \\frac{s_{2}}{2}\\right) + s_{1} s_{2}} + 1, & \\frac{U}{- 2 U + 2 s_{1}} \\left(- \\frac{U \\left(- U + \\frac{s_{1}}{2} + \\frac{s_{2}}{2}\\right)}{- U \\left(\\frac{s_{1}}{2} + \\frac{s_{2}}{2}\\right) + s_{1} s_{2}} + 1\\right), & \\frac{U}{- 2 U + 2 s_{2}} \\left(- \\frac{U \\left(- U + \\frac{s_{1}}{2} + \\frac{s_{2}}{2}\\right)}{- U \\left(\\frac{s_{1}}{2} + \\frac{s_{2}}{2}\\right) + s_{1} s_{2}} + 1\\right)\\end{pmatrix}$$"
       ],
       "metadata": {},
       "output_type": "pyout",
       "png": "[encoded data removed]",
       "prompt_number": 8,
       "text": [
        "\u239b                               \u239b       \u239b     s\u2081   s\u2082\u239e      \u239e    \u239b       \u239b    \n",
        "\u239c                               \u239c     U\u22c5\u239c-U + \u2500\u2500 + \u2500\u2500\u239f      \u239f    \u239c     U\u22c5\u239c-U +\n",
        "\u239c                               \u239c       \u239d     2    2 \u23a0      \u239f    \u239c       \u239d    \n",
        "\u239c                             U\u22c5\u239c- \u2500\u2500\u2500\u2500\u2500\u2500\u2500\u2500\u2500\u2500\u2500\u2500\u2500\u2500\u2500\u2500\u2500\u2500\u2500\u2500\u2500 + 1\u239f  U\u22c5\u239c- \u2500\u2500\u2500\u2500\u2500\u2500\u2500\u2500\u2500\u2500\n",
        "\u239c       \u239b     s\u2081   s\u2082\u239e          \u239c      \u239bs\u2081   s\u2082\u239e            \u239f    \u239c      \u239bs\u2081   \n",
        "\u239c     U\u22c5\u239c-U + \u2500\u2500 + \u2500\u2500\u239f          \u239c  - U\u22c5\u239c\u2500\u2500 + \u2500\u2500\u239f + s\u2081\u22c5s\u2082    \u239f    \u239c  - U\u22c5\u239c\u2500\u2500 + \n",
        "\u239c       \u239d     2    2 \u23a0          \u239d      \u239d2    2 \u23a0            \u23a0    \u239d      \u239d2    \n",
        "\u239c- \u2500\u2500\u2500\u2500\u2500\u2500\u2500\u2500\u2500\u2500\u2500\u2500\u2500\u2500\u2500\u2500\u2500\u2500\u2500\u2500\u2500 + 1, \u2500\u2500\u2500\u2500\u2500\u2500\u2500\u2500\u2500\u2500\u2500\u2500\u2500\u2500\u2500\u2500\u2500\u2500\u2500\u2500\u2500\u2500\u2500\u2500\u2500\u2500\u2500\u2500\u2500\u2500\u2500, \u2500\u2500\u2500\u2500\u2500\u2500\u2500\u2500\u2500\u2500\u2500\u2500\u2500\u2500\u2500\n",
        "\u239c      \u239bs\u2081   s\u2082\u239e                        -2\u22c5U + 2\u22c5s\u2081                      -2\u22c5U \n",
        "\u239c  - U\u22c5\u239c\u2500\u2500 + \u2500\u2500\u239f + s\u2081\u22c5s\u2082                                                      \n",
        "\u239d      \u239d2    2 \u23a0                                                              \n",
        "\n",
        " s\u2081   s\u2082\u239e      \u239e\u239e\n",
        " \u2500\u2500 + \u2500\u2500\u239f      \u239f\u239f\n",
        " 2    2 \u23a0      \u239f\u239f\n",
        "\u2500\u2500\u2500\u2500\u2500\u2500\u2500\u2500\u2500\u2500\u2500 + 1\u239f\u239f\n",
        "s\u2082\u239e            \u239f\u239f\n",
        "\u2500\u2500\u239f + s\u2081\u22c5s\u2082    \u239f\u239f\n",
        "2 \u23a0            \u23a0\u239f\n",
        "\u2500\u2500\u2500\u2500\u2500\u2500\u2500\u2500\u2500\u2500\u2500\u2500\u2500\u2500\u2500\u2500\u239f\n",
        "+ 2\u22c5s\u2082          \u239f\n",
        "                \u239f\n",
        "                \u23a0"
       ]
      }
     ],
     "prompt_number": 8
    },
    {
     "cell_type": "code",
     "collapsed": false,
     "input": [
      "print \"Our result:\", [f.subs(subs) for f in (f0,f1,f2)]\n",
      "print \"Sympy result:\", vx.tolist()"
     ],
     "language": "python",
     "metadata": {},
     "outputs": [
      {
       "output_type": "stream",
       "stream": "stdout",
       "text": [
        "Our result: [0.999399839903942, 0.000500200120072043, 9.99599759855914e-5]\n",
        "Sympy result: [[0.999399839903942], [0.000500200120072043], [9.99599759855914e-5]]\n"
       ]
      }
     ],
     "prompt_number": 9
    },
    {
     "cell_type": "code",
     "collapsed": false,
     "input": [
      "ss = logspace(-4,-1,50)\n",
      "vx = transpose(array([(v/sum(v)).subs({U:1e-5, s1: s1x, s2:0.05}) for s1x in ss]))\n",
      "fx = transpose(array([[f.subs({U:1e-5, s1: s1x, s2:0.05}) for f in (f0,f1,f2)] for s1x in ss]))"
     ],
     "language": "python",
     "metadata": {},
     "outputs": [],
     "prompt_number": 55
    },
    {
     "cell_type": "code",
     "collapsed": false,
     "input": [
      "fig,axes = plt.subplots(1,3,sharex=True, figsize=(15,4))\n",
      "\n",
      "for i,ax in enumerate(axes):\n",
      "    ax.plot(ss,vx[i,:], 'ko', alpha=0.5, label='sympy')\n",
      "    ax.plot(ss,vx[i,:], 'k--', label='manual')\n",
      "    ax.set_title(r'$f_'+str(i)+r'$')\n",
      "    ax.grid(False,'minor')\n",
      "axes[0].legend(loc=5)\n",
      "plt.setp(axes, 'xscale','log')\n",
      "fig.tight_layout()"
     ],
     "language": "python",
     "metadata": {},
     "outputs": [
      {
       "metadata": {},
       "output_type": "display_data",
       "png": "[encoded data removed]",
       "text": [
        "<matplotlib.figure.Figure at 0xd0feda0>"
       ]
      }
     ],
     "prompt_number": 62
    },
    {
     "cell_type": "markdown",
     "metadata": {},
     "source": [
      "So we have truly found the correct answer of the _n_=2 heterogenous model.\n",
      "\n",
      "What if we compare this to the homogenous result that uses the average value of $s_i$? \n",
      "The heterogeneous model solution is denoted by _f_ and the homogeneous model solution is denoted by _h_:"
     ]
    },
    {
     "cell_type": "markdown",
     "metadata": {},
     "source": [
      "So indeed the error is bounded by the square of the heterogeneity.\n",
      "\n",
      "Let's draw a plot."
     ]
    },
    {
     "cell_type": "code",
     "collapsed": false,
     "input": [
      "s = (s1+s2)/2\n",
      "h0 = 1-U/s\n",
      "h1 = U/(2*s)\n",
      "h2 = U/(2*s)\n",
      "\n",
      "ss = linspace(0.001,0.1,50)\n",
      "errs0 = [abs((h0-f0).subs({s1:s1x, s2: 0.01, U:1e-5})) for s1x in ss]\n",
      "errs1 = [abs((h1-f1).subs({s1:s1x, s2: 0.01, U:1e-5})) for s1x in ss]\n",
      "errs2 = [abs((h1-f1).subs({s1:s1x, s2: 0.01, U:1e-5})) for s1x in ss]\n",
      "errs = (errs0,errs1,errs2)\n",
      "hets = [(max((abs(s1-s)/s).subs({s1:s1x, s2: 0.01, U:1e-5}), (abs(s2-s)/s).subs({s1:s1x, s2: 0.01, U:1e-5})))**2 for s1x in ss]"
     ],
     "language": "python",
     "metadata": {},
     "outputs": [],
     "prompt_number": 72
    },
    {
     "cell_type": "code",
     "collapsed": false,
     "input": [
      "fig, ax = subplots(1,1,figsize=(5,4))\n",
      "ls = ['solid','dashed','dotted']\n",
      "ax.plot(ss, hets, 'k', label=r\"$\\epsilon ^2$\",)\n",
      "for i in range(len(errs)):\n",
      "    ax.plot(ss, errs[i], linestyle=ls[i], label=r\"$f_\"+str(i)+\"\\; error$\", linewidth=2)\n",
      "ax.axvline(x=0.01, color='k', linestyle='..')\n",
      "ax.set_xlim(0,0.1)\n",
      "ax.set_ylim(1e-6,1)\n",
      "ax.set_yscale('log')\n",
      "ax.grid(False, 'minor')\n",
      "ax.legend(bbox_to_anchor=(1.45, .8)).get_frame().set_facecolor('w')\n",
      "ax.set_xlabel(r\"$s_1$\")\n",
      "ax.set_ylabel( r\"|error| / $\\epsilon ^2$\", rotation='vertical');"
     ],
     "language": "python",
     "metadata": {},
     "outputs": [
      {
       "metadata": {},
       "output_type": "display_data",
       "png": "[encoded data removed]",
       "text": [
        "<matplotlib.figure.Figure at 0xaf44278>"
       ]
      }
     ],
     "prompt_number": 106
    },
    {
     "cell_type": "markdown",
     "metadata": {},
     "source": [
      "### Error estimation\n",
      "\n",
      "We can also derive the error, for example, of $f_0$ (superscripts _H_ and _F_ are for the homogenous and heterogenous models), taking the algebric mean $s=\\bar{s}=\\frac{s_1 + s_2}{2}$:\n",
      "\n",
      "$$\n",
      "f^H_0 = 1-\\frac{U}{s} \\\\\\\\\n",
      "f^F_0 = 1 - U\\frac{\\frac{s_1 + s_2}{2} - U} {s_1 s_2 - U \\frac{s_1 + s_2}{2}} \\\\\\\\\n",
      "\\Rightarrow \\\\\\\\\n",
      "f^H_0 - f^F_0 = 1 - \\frac{U}{s} - 1 + U\\frac{\\frac{s_1 + s_2}{2} - U} {s_1 s_2 - U \\frac{s_1 + s_2}{2}} = \\\\\\\\\n",
      "U\\frac{s - U} {s_1 s_2 - U s} - \\frac{U}{s} = \\\\\\\\\n",
      "U (\\frac{s - U} {s_1 s_2 - U s} - \\frac{1}{s}) = \n",
      "\\frac{U}{s} (\\frac{s - U} { \\frac{s_1 s_2}{s} - U} - 1) = \\\\\\\\\n",
      "\\frac{U}{s} (\\frac{s - U - \\frac{s_1 s_2}{s} + U} { \\frac{s_1 s_2}{s} - U} ) = \n",
      "\\frac{U}{s} (\\frac{s - \\frac{s_1 s_2}{s}} { \\frac{s_1 s_2}{s} - U} ) \\Rightarrow \\\\\\\\\n",
      "f^F_0 - f^H_0 = \\frac{U}{s} (\\frac{\\frac{s_1 s_2}{s} - s} { \\frac{s_1 s_2}{s} - U} )\n",
      "$$\n",
      "Denoting the geometric mean $S=\\frac{s_1 s_2}{s}$:\n",
      "$$\n",
      "f^F_0 - f^H_0 = \\frac{U}{s} (\\frac{S - s} {S - U} )\n",
      "$$"
     ]
    },
    {
     "cell_type": "markdown",
     "metadata": {},
     "source": [
      "### Heterogeneity estimation\n",
      "\n",
      "The heterogeneity is, assuming $s_1 > s_2$:\n",
      "$$\n",
      "\\epsilon = \\frac{max(s_1-\\frac{s_1+s_2}{2},s_2-\\frac{s_1+s_2}{2})}{\\frac{s_1+s_2}{2}} = \\\\\\\\ \n",
      "\\frac{\\frac{s_1-s_2}{2}}{\\frac{s_1+s_2}{2}} = \n",
      "\\frac{s_1-s_2}{s_1+s_2} = \n",
      "\\frac{s_1-s_2}{s_1+s_2} \\Rightarrow \\\\\\\\\n",
      "\\epsilon^2 = \\frac{s_1^2-s_2^2}{s_1^2 + s_2^2 + 2 s_1 s_2} =\n",
      "\\frac{s_1^2-s_2^2}{s_1^2 + s_2^2 + 2 s S}\n",
      "$$\n"
     ]
    },
    {
     "cell_type": "markdown",
     "metadata": {},
     "source": [
      "## General case: _n_ mutant alleles\n",
      "\n",
      "Back to the general case of _n_ mutant alleles. \n",
      "\n",
      "The MSB equation is:\n",
      "\n",
      "$$\n",
      "\\bar{\\omega}f = Mf,\n",
      "$$\n",
      "\n",
      "with\n",
      "\n",
      "$$\n",
      "M = \n",
      "\\begin{matrix}\n",
      "1-U & 0 & 0 & ... & 0 \\\\\n",
      "U/n & 1-s_1 & 0 & ... & 0\\\\\n",
      "U/n & 0 & 1-s_2 & ... & 0\\\\\n",
      "... & ... & ... & ... & ...\\\\\n",
      "U/n & 0 & 0 & ... &1-s_n\\\\\n",
      "\\end{matrix}.\n",
      "$$\n",
      "\n",
      "First, $\\bar{\\omega} = 1-U$, so the MSB equation can be written as \n",
      "$$\n",
      "(1-U)f = Mf.\n",
      "$$\n",
      "\n",
      "Second, \n",
      "$$\n",
      "(1 - U)f_i = \\frac{U}{n} f_0 + (1 - s_i) f_i \\Rightarrow \\\\\\\\\n",
      "(s_i - U)f_i = \\frac{U}{n} f_0 \\Rightarrow \\\\\\\\\n",
      "f_i = \\frac{U}{n(s_i-U)} f_0,\n",
      "$$\n",
      "which agrees with the result above for _n_=2.\n",
      "\n",
      "Third,\n",
      "$$\n",
      "f_0 (1 + \\frac{U}{n} \\sum_{i=1}^{n}{\\frac{1}{s_i-U}}) = 1 \\Rightarrow \\\\\\\\\n",
      "f_0 =\\frac{1}{1 + \\frac{U}{n} \\sum_{i=1}^{n}{\\frac{1}{s_i-U}}}.\n",
      "$$"
     ]
    },
    {
     "cell_type": "markdown",
     "metadata": {},
     "source": [
      "### Asymptotic solution\n",
      "If we consider a very large number of mutant alleles so that $n \\to \\infty$, we can rewrite this:\n",
      "$$\n",
      "f_0 = \\frac{1}{1+U\\int_{0}^{1}{\\frac{p(s)}{s-U}ds}}, \\\\\\\\\n",
      "f_s = \\frac{U }{s-U} p(s) f_0,\n",
      "$$\n",
      "where $p_s$ and $f_s$ are the mutation and MSB densities of alleles with effect _s_, respectively, and $f_0$ is the frequency of the wildtype allele.\n",
      "\n",
      "This now depends on the selection of $p(s)$, which should have a [support](http://en.wikipedia.org/wiki/List_of_probability_distributions#Supported_on_a_bounded_interval) of $[0,1]$."
     ]
    },
    {
     "cell_type": "markdown",
     "metadata": {},
     "source": [
      "#### Approximation with the homogeneous model\n",
      "\n",
      "Is the homogeneous solution good enough? \n",
      "\n",
      "We can take a look at the error for a heterogeneous model with a larger number of mutant alleles."
     ]
    },
    {
     "cell_type": "code",
     "collapsed": false,
     "input": [
      "n = 5\n",
      "s = sympy.symbols('s1:'+str(n+1))\n",
      "U = sympy.symbols('U')"
     ],
     "language": "python",
     "metadata": {},
     "outputs": [],
     "prompt_number": 7
    },
    {
     "cell_type": "code",
     "collapsed": false,
     "input": [
      "def random_subs(n, avg=0.01, U_value=1e-5):\n",
      "    s_vals = array([1.])\n",
      "    while any(s_vals>=10*avg):\n",
      "        s_vals = exponential(avg, n)\n",
      "    subs = {U:U_value}\n",
      "    subs.update({s[i]:s_vals[i] for i in range(n)})\n",
      "    return subs\n",
      "subs = random_subs(5)\n",
      "print subs.items()[:min(5,n)]\n",
      "print mean(subs.values())"
     ],
     "language": "python",
     "metadata": {},
     "outputs": [
      {
       "output_type": "stream",
       "stream": "stdout",
       "text": [
        "[(s1, 0.007581378592485353), (s2, 0.0029922705210852262), (s5, 0.002029082786077668), (s4, 0.0045708064123157824), (U, 1e-05)]\n",
        "0.00337080576528\n"
       ]
      }
     ],
     "prompt_number": 8
    },
    {
     "cell_type": "code",
     "collapsed": false,
     "input": [
      "M = diag(1-array([U]+list(s)))\n",
      "M[1:,0] = U/n\n",
      "M = sympy.Matrix(M)\n",
      "M[:min(5,n),:min(5,n)]"
     ],
     "language": "python",
     "metadata": {},
     "outputs": [
      {
       "latex": [
        "$$\\left[\\begin{matrix}- U + 1 & 0 & 0 & 0 & 0\\\\\\frac{U}{5} & - s_{1} + 1 & 0 & 0 & 0\\\\\\frac{U}{5} & 0 & - s_{2} + 1 & 0 & 0\\\\\\frac{U}{5} & 0 & 0 & - s_{3} + 1 & 0\\\\\\frac{U}{5} & 0 & 0 & 0 & - s_{4} + 1\\end{matrix}\\right]$$"
       ],
       "metadata": {},
       "output_type": "pyout",
       "png": "[encoded data removed]",
       "prompt_number": 9,
       "text": [
        "\u23a1-U + 1     0        0        0        0   \u23a4\n",
        "\u23a2                                          \u23a5\n",
        "\u23a2  U                                       \u23a5\n",
        "\u23a2  \u2500     -s\u2081 + 1     0        0        0   \u23a5\n",
        "\u23a2  5                                       \u23a5\n",
        "\u23a2                                          \u23a5\n",
        "\u23a2  U                                       \u23a5\n",
        "\u23a2  \u2500        0     -s\u2082 + 1     0        0   \u23a5\n",
        "\u23a2  5                                       \u23a5\n",
        "\u23a2                                          \u23a5\n",
        "\u23a2  U                                       \u23a5\n",
        "\u23a2  \u2500        0        0     -s\u2083 + 1     0   \u23a5\n",
        "\u23a2  5                                       \u23a5\n",
        "\u23a2                                          \u23a5\n",
        "\u23a2  U                                       \u23a5\n",
        "\u23a2  \u2500        0        0        0     -s\u2084 + 1\u23a5\n",
        "\u23a3  5                                       \u23a6"
       ]
      }
     ],
     "prompt_number": 9
    },
    {
     "cell_type": "code",
     "collapsed": false,
     "input": [
      "v = M.eigenvects(simplify=True)\n",
      "for i in range(len(v)):\n",
      "    if v[i][0] == 1-U:\n",
      "        v = v[i]\n",
      "        break\n",
      "v = v[2][0]\n",
      "v[:min(5,n)]"
     ],
     "language": "python",
     "metadata": {},
     "outputs": [
      {
       "latex": [
        "$$\\begin{bmatrix}- \\frac{1}{U} \\left(5 U - 5 s_{5}\\right), & \\frac{\\left(U - s_{2}\\right) \\left(U - s_{3}\\right) \\left(U - s_{4}\\right) \\left(U - s_{5}\\right)}{\\left(- U + s_{1}\\right) \\left(- U + s_{2}\\right) \\left(- U + s_{3}\\right) \\left(- U + s_{4}\\right)}, & - \\frac{\\left(U - s_{3}\\right) \\left(U - s_{4}\\right) \\left(U - s_{5}\\right)}{\\left(- U + s_{2}\\right) \\left(- U + s_{3}\\right) \\left(- U + s_{4}\\right)}, & \\frac{\\left(U - s_{4}\\right) \\left(U - s_{5}\\right)}{\\left(- U + s_{3}\\right) \\left(- U + s_{4}\\right)}, & - \\frac{U - s_{5}}{- U + s_{4}}\\end{bmatrix}$$"
       ],
       "metadata": {},
       "output_type": "pyout",
       "png": "[encoded data removed]",
       "prompt_number": 10,
       "text": [
        "\u23a1-5\u22c5(U - s\u2085)     (U - s\u2082)\u22c5(U - s\u2083)\u22c5(U - s\u2084)\u22c5(U - s\u2085)     -(U - s\u2083)\u22c5(U - s\u2084)\u22c5(U\n",
        "\u23a2\u2500\u2500\u2500\u2500\u2500\u2500\u2500\u2500\u2500\u2500\u2500\u2500, \u2500\u2500\u2500\u2500\u2500\u2500\u2500\u2500\u2500\u2500\u2500\u2500\u2500\u2500\u2500\u2500\u2500\u2500\u2500\u2500\u2500\u2500\u2500\u2500\u2500\u2500\u2500\u2500\u2500\u2500\u2500\u2500\u2500\u2500\u2500\u2500\u2500\u2500\u2500, \u2500\u2500\u2500\u2500\u2500\u2500\u2500\u2500\u2500\u2500\u2500\u2500\u2500\u2500\u2500\u2500\u2500\u2500\u2500\u2500\u2500\u2500\n",
        "\u23a3     U        (-U + s\u2081)\u22c5(-U + s\u2082)\u22c5(-U + s\u2083)\u22c5(-U + s\u2084)  (-U + s\u2082)\u22c5(-U + s\u2083)\u22c5(-\n",
        "\n",
        " - s\u2085)    (U - s\u2084)\u22c5(U - s\u2085)   -(U - s\u2085) \u23a4\n",
        "\u2500\u2500\u2500\u2500\u2500\u2500\u2500, \u2500\u2500\u2500\u2500\u2500\u2500\u2500\u2500\u2500\u2500\u2500\u2500\u2500\u2500\u2500\u2500\u2500\u2500\u2500, \u2500\u2500\u2500\u2500\u2500\u2500\u2500\u2500\u2500\u2500\u23a5\n",
        "U + s\u2084)  (-U + s\u2083)\u22c5(-U + s\u2084)   -U + s\u2084  \u23a6"
       ]
      }
     ],
     "prompt_number": 10
    },
    {
     "cell_type": "code",
     "collapsed": false,
     "input": [
      "vx = (v/sum(v)).subs(subs)\n",
      "vx[:min(5,n)]"
     ],
     "language": "python",
     "metadata": {},
     "outputs": [
      {
       "latex": [
        "$$\\begin{bmatrix}0.996985480675799, & 0.000263356393686432, & 0.000668608346309914, & 0.000657794810329056, & 0.000437197017607933\\end{bmatrix}$$"
       ],
       "metadata": {},
       "output_type": "pyout",
       "png": "[encoded data removed]",
       "prompt_number": 11,
       "text": [
        "[0.996985480675799, 0.000263356393686432, 0.000668608346309914, 0.000657794810\n",
        "329056, 0.000437197017607933]"
       ]
      }
     ],
     "prompt_number": 11
    },
    {
     "cell_type": "code",
     "collapsed": false,
     "input": [
      "s_hom = sum(s)/n\n",
      "subses = [random_subs(n) for _ in range(1000)]\n",
      "het = [max([(abs(s[i]-s_hom)).subs(subs) for i in range(len(s))]) for subs in subses]\n",
      "err = [max(map(lambda x: abs(x.subs(subs)), [v[0]/sum(v)-(1-U/s_hom)] + [v[i]/sum(v)-U/s_hom for i in range(1,len(v))])) for subs in subses]"
     ],
     "language": "python",
     "metadata": {},
     "outputs": [],
     "prompt_number": 68
    },
    {
     "cell_type": "code",
     "collapsed": false,
     "input": [
      "fig = figure()\n",
      "ax = fig.add_subplot(111)\n",
      "ax.plot(array(het), err, 'ko')\n",
      "ax.set_xlabel(r\"heterogeneity - $\\max_i{|s_i - \\bar{s}|}$\")\n",
      "ax.set_ylabel(r\"max error - $\\max_i{|f^F_i-f^H_i|}$\")\n",
      "ax.set_yscale('log')\n",
      "ax.set_xscale('log')\n",
      "ax.grid(False, 'minor')\n",
      "xlim = ax.get_xlim()\n",
      "ylim = ax.get_ylim()\n",
      "ax.plot(xlim, xlim, 'k')\n",
      "ax.set_xlim(xlim)\n",
      "ax.set_ylim(ylim)\n",
      "ax.text(0.05,0.05,\"$x=y$\",rotation=20);"
     ],
     "language": "python",
     "metadata": {},
     "outputs": [
      {
       "metadata": {},
       "output_type": "display_data",
       "png": "[encoded data removed]",
       "text": [
        "<matplotlib.figure.Figure at 0x1588e2b0>"
       ]
      }
     ],
     "prompt_number": 74
    },
    {
     "cell_type": "markdown",
     "metadata": {},
     "source": [
      "# Conclusions\n",
      "\n",
      "I presented a single-locus, multi-allele population genetics model and its approximation by a bi-alleleic model. \n",
      "The error was estimated using the Averaging Principle [@Fibich2012], by the square of heterogeneity of the selection coefficients of the different mutant alleles, which is defined as the maximum relative difference between the different coefficients and their average.\n",
      "\n",
      "My results indicate that ..."
     ]
    },
    {
     "cell_type": "markdown",
     "metadata": {},
     "source": [
      "# References"
     ]
    }
   ],
   "metadata": {}
  }
 ]
}