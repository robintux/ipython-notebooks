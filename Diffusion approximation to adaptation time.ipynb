{
 "metadata": {
  "name": "",
  "signature": "sha256:79cddc5b20149be9e25e141a605272ccc6854f5db0e0378505c801b435e2fc94"
 },
 "nbformat": 3,
 "nbformat_minor": 0,
 "worksheets": [
  {
   "cells": [
    {
     "cell_type": "code",
     "collapsed": false,
     "input": [
      "from numpy import __version__ as np_ver\n",
      "print \"Numpy:\", np_ver\n",
      "from scipy.stats import poisson, nbinom\n",
      "from scipy import __version__ as scipy_ver\n",
      "print \"Scipy:\", scipy_ver\n",
      "np.set_printoptions(linewidth=80)\n",
      "np.set_printoptions(precision=3)\n",
      "from IPython import __version__ as ipy_ver\n",
      "print \"IPython:\", ipy_ver\n",
      "from matplotlib import __version__ as mpl_ver\n",
      "print \"Matplotlib:\", mpl_ver"
     ],
     "language": "python",
     "metadata": {},
     "outputs": [
      {
       "output_type": "stream",
       "stream": "stdout",
       "text": [
        "Numpy: 1.7.1\n",
        "Scipy:"
       ]
      },
      {
       "output_type": "stream",
       "stream": "stdout",
       "text": [
        " 0.11.0\n",
        "IPython: 2.0.0-b1\n",
        "Matplotlib: 1.3.1\n"
       ]
      }
     ],
     "prompt_number": 1
    },
    {
     "cell_type": "code",
     "collapsed": false,
     "input": [
      "from mpltools import style\n",
      "style.use('ggplot')"
     ],
     "language": "python",
     "metadata": {},
     "outputs": [
      {
       "ename": "ImportError",
       "evalue": "No module named mpltools",
       "output_type": "pyerr",
       "traceback": [
        "\u001b[1;31m---------------------------------------------------------------------------\u001b[0m\n\u001b[1;31mImportError\u001b[0m                               Traceback (most recent call last)",
        "\u001b[1;32m<ipython-input-8-97acd0c1ecb1>\u001b[0m in \u001b[0;36m<module>\u001b[1;34m()\u001b[0m\n\u001b[1;32m----> 1\u001b[1;33m \u001b[1;32mfrom\u001b[0m \u001b[0mmpltools\u001b[0m \u001b[1;32mimport\u001b[0m \u001b[0mstyle\u001b[0m\u001b[1;33m\u001b[0m\u001b[0m\n\u001b[0m\u001b[0;32m      2\u001b[0m \u001b[0mstyle\u001b[0m\u001b[1;33m.\u001b[0m\u001b[0muse\u001b[0m\u001b[1;33m(\u001b[0m\u001b[1;34m'ggplot'\u001b[0m\u001b[1;33m)\u001b[0m\u001b[1;33m\u001b[0m\u001b[0m\n",
        "\u001b[1;31mImportError\u001b[0m: No module named mpltools"
       ]
      }
     ],
     "prompt_number": 8
    },
    {
     "cell_type": "markdown",
     "metadata": {},
     "source": [
      "Model parameters:"
     ]
    },
    {
     "cell_type": "code",
     "collapsed": false,
     "input": [
      "s = 0.1\n",
      "N = 1e7\n",
      "u1 = 0.003/1000\n",
      "u2 = u1\n",
      "x = 0.5"
     ],
     "language": "python",
     "metadata": {},
     "outputs": [],
     "prompt_number": 11
    },
    {
     "cell_type": "markdown",
     "metadata": {},
     "source": [
      "## Diffusion  equation\n",
      "We need to define the drift coefficient $b(x) = E[\\frac{dx}{dt}]$ and the diffusion coefficient $a(x)=E[\\frac{d^2f}{dt^2}]$.\n",
      "\n",
      "Here, $x$ is the frequency of the beneficial allele _A_.\n",
      "\n",
      "The diffusion coefficient is\n",
      "$$\n",
      "a(x) = x(1-x)\n",
      "$$\n",
      "\n",
      "and the drift coefficient is \n",
      "$$\n",
      "b(x) = Nsx(1-x)+N \\mu_1(1-x)-N \\mu_2 x\n",
      "$$\n",
      "\n",
      "where the fitness of _A_ is 1 and of _a_ is _1-s_, $\\mu_1$ is the mutation rate from _a_ to _A_, $\\mu_2$ is the mutation rate from _A_ to _a_, and _N_ is the population size.\n",
      "\n",
      "We follow ([Durret 2008(http://www.math.duke.edu/~rtd/Gbook/Gbook.html)), also see the careful derivation in [this notebook](http://nbviewer.ipython.org/github/yoavram/ipython-notebooks/blob/master/Diffusion%20equation%20for%20simple%20WF%20model.ipynb)."
     ]
    },
    {
     "cell_type": "code",
     "collapsed": false,
     "input": [
      "def b(x):\n",
      "    return N * s * x * (1-x) + N * u1 * (1-x) - N * u2 * x\n",
      "print \"b\",b(0.5)\n",
      "def a(x):\n",
      "    return x * (1-x)\n",
      "print \"a\",a(0.5)\n",
      "def psi(x): \n",
      "    return exp(-2.0*N*s*x) * pow(x,-2.0*N*u1) * pow(1-x,-2.0*N*u2)\n",
      "print \"psi\",psi(0.5)\n",
      "from scipy.integrate import quad\n",
      "def phi(x): \n",
      "    return quad(psi,0.5,x)[0]\n",
      "print \"phi\",phi(0.5)\n",
      "# probability to start at x and get to y before z\n",
      "def P(x,y,z): \n",
      "    return (phi(z)-phi(x))/(phi(z)-phi(y))\n",
      "print \"P\",P(0.5,0.6,0.4)\n",
      "def m(x): \n",
      "    return 1.0 / (a(x) * psi(x))\n",
      "# Green function\n",
      "def G(x,y,u,v):\n",
      "    if y <= x:\n",
      "        return 2 * m(y) * (phi(v)-phi(x)) * (phi(y)-phi(u)) / (phi(v)-phi(u))\n",
      "    else:\n",
      "        return 2 * m(y) * (phi(x)-phi(u)) * (phi(v)-phi(y)) / (phi(v)-phi(u))\n",
      "print \"G\",G(0.5,0.6,0.01,0.99)\n",
      "def T(x,u,v): \n",
      "    def f(y):\n",
      "        return G(x,y,u,v)\n",
      "    return quad(f, u, v)[0]"
     ],
     "language": "python",
     "metadata": {},
     "outputs": [
      {
       "output_type": "stream",
       "stream": "stdout",
       "text": [
        "b 250000.0\n",
        "a 0.25\n",
        "psi 0.0\n",
        "phi 0.0\n",
        "P"
       ]
      },
      {
       "ename": "ZeroDivisionError",
       "evalue": "float division by zero",
       "output_type": "pyerr",
       "traceback": [
        "\u001b[1;31m---------------------------------------------------------------------------\u001b[0m\n\u001b[1;31mZeroDivisionError\u001b[0m                         Traceback (most recent call last)",
        "\u001b[1;32m<ipython-input-12-bd07342cb9dc>\u001b[0m in \u001b[0;36m<module>\u001b[1;34m()\u001b[0m\n\u001b[0;32m     15\u001b[0m \u001b[1;32mdef\u001b[0m \u001b[0mP\u001b[0m\u001b[1;33m(\u001b[0m\u001b[0mx\u001b[0m\u001b[1;33m,\u001b[0m\u001b[0my\u001b[0m\u001b[1;33m,\u001b[0m\u001b[0mz\u001b[0m\u001b[1;33m)\u001b[0m\u001b[1;33m:\u001b[0m\u001b[1;33m\u001b[0m\u001b[0m\n\u001b[0;32m     16\u001b[0m     \u001b[1;32mreturn\u001b[0m \u001b[1;33m(\u001b[0m\u001b[0mphi\u001b[0m\u001b[1;33m(\u001b[0m\u001b[0mz\u001b[0m\u001b[1;33m)\u001b[0m\u001b[1;33m-\u001b[0m\u001b[0mphi\u001b[0m\u001b[1;33m(\u001b[0m\u001b[0mx\u001b[0m\u001b[1;33m)\u001b[0m\u001b[1;33m)\u001b[0m\u001b[1;33m/\u001b[0m\u001b[1;33m(\u001b[0m\u001b[0mphi\u001b[0m\u001b[1;33m(\u001b[0m\u001b[0mz\u001b[0m\u001b[1;33m)\u001b[0m\u001b[1;33m-\u001b[0m\u001b[0mphi\u001b[0m\u001b[1;33m(\u001b[0m\u001b[0my\u001b[0m\u001b[1;33m)\u001b[0m\u001b[1;33m)\u001b[0m\u001b[1;33m\u001b[0m\u001b[0m\n\u001b[1;32m---> 17\u001b[1;33m \u001b[1;32mprint\u001b[0m \u001b[1;34m\"P\"\u001b[0m\u001b[1;33m,\u001b[0m\u001b[0mP\u001b[0m\u001b[1;33m(\u001b[0m\u001b[1;36m0.5\u001b[0m\u001b[1;33m,\u001b[0m\u001b[1;36m0.6\u001b[0m\u001b[1;33m,\u001b[0m\u001b[1;36m0.4\u001b[0m\u001b[1;33m)\u001b[0m\u001b[1;33m\u001b[0m\u001b[0m\n\u001b[0m\u001b[0;32m     18\u001b[0m \u001b[1;32mdef\u001b[0m \u001b[0mm\u001b[0m\u001b[1;33m(\u001b[0m\u001b[0mx\u001b[0m\u001b[1;33m)\u001b[0m\u001b[1;33m:\u001b[0m\u001b[1;33m\u001b[0m\u001b[0m\n\u001b[0;32m     19\u001b[0m     \u001b[1;32mreturn\u001b[0m \u001b[1;36m1.0\u001b[0m \u001b[1;33m/\u001b[0m \u001b[1;33m(\u001b[0m\u001b[0ma\u001b[0m\u001b[1;33m(\u001b[0m\u001b[0mx\u001b[0m\u001b[1;33m)\u001b[0m \u001b[1;33m*\u001b[0m \u001b[0mpsi\u001b[0m\u001b[1;33m(\u001b[0m\u001b[0mx\u001b[0m\u001b[1;33m)\u001b[0m\u001b[1;33m)\u001b[0m\u001b[1;33m\u001b[0m\u001b[0m\n",
        "\u001b[1;32m<ipython-input-12-bd07342cb9dc>\u001b[0m in \u001b[0;36mP\u001b[1;34m(x, y, z)\u001b[0m\n\u001b[0;32m     14\u001b[0m \u001b[1;31m# probability to start at x and get to y before z\u001b[0m\u001b[1;33m\u001b[0m\u001b[1;33m\u001b[0m\u001b[0m\n\u001b[0;32m     15\u001b[0m \u001b[1;32mdef\u001b[0m \u001b[0mP\u001b[0m\u001b[1;33m(\u001b[0m\u001b[0mx\u001b[0m\u001b[1;33m,\u001b[0m\u001b[0my\u001b[0m\u001b[1;33m,\u001b[0m\u001b[0mz\u001b[0m\u001b[1;33m)\u001b[0m\u001b[1;33m:\u001b[0m\u001b[1;33m\u001b[0m\u001b[0m\n\u001b[1;32m---> 16\u001b[1;33m     \u001b[1;32mreturn\u001b[0m \u001b[1;33m(\u001b[0m\u001b[0mphi\u001b[0m\u001b[1;33m(\u001b[0m\u001b[0mz\u001b[0m\u001b[1;33m)\u001b[0m\u001b[1;33m-\u001b[0m\u001b[0mphi\u001b[0m\u001b[1;33m(\u001b[0m\u001b[0mx\u001b[0m\u001b[1;33m)\u001b[0m\u001b[1;33m)\u001b[0m\u001b[1;33m/\u001b[0m\u001b[1;33m(\u001b[0m\u001b[0mphi\u001b[0m\u001b[1;33m(\u001b[0m\u001b[0mz\u001b[0m\u001b[1;33m)\u001b[0m\u001b[1;33m-\u001b[0m\u001b[0mphi\u001b[0m\u001b[1;33m(\u001b[0m\u001b[0my\u001b[0m\u001b[1;33m)\u001b[0m\u001b[1;33m)\u001b[0m\u001b[1;33m\u001b[0m\u001b[0m\n\u001b[0m\u001b[0;32m     17\u001b[0m \u001b[1;32mprint\u001b[0m \u001b[1;34m\"P\"\u001b[0m\u001b[1;33m,\u001b[0m\u001b[0mP\u001b[0m\u001b[1;33m(\u001b[0m\u001b[1;36m0.5\u001b[0m\u001b[1;33m,\u001b[0m\u001b[1;36m0.6\u001b[0m\u001b[1;33m,\u001b[0m\u001b[1;36m0.4\u001b[0m\u001b[1;33m)\u001b[0m\u001b[1;33m\u001b[0m\u001b[0m\n\u001b[0;32m     18\u001b[0m \u001b[1;32mdef\u001b[0m \u001b[0mm\u001b[0m\u001b[1;33m(\u001b[0m\u001b[0mx\u001b[0m\u001b[1;33m)\u001b[0m\u001b[1;33m:\u001b[0m\u001b[1;33m\u001b[0m\u001b[0m\n",
        "\u001b[1;31mZeroDivisionError\u001b[0m: float division by zero"
       ]
      }
     ],
     "prompt_number": 12
    },
    {
     "cell_type": "code",
     "collapsed": false,
     "input": [
      "print \"T\",T(1./N,0,1)"
     ],
     "language": "python",
     "metadata": {},
     "outputs": [
      {
       "output_type": "stream",
       "stream": "stdout",
       "text": [
        "T "
       ]
      },
      {
       "output_type": "stream",
       "stream": "stdout",
       "text": [
        "3.28088687905e+27\n"
       ]
      }
     ],
     "prompt_number": 10
    },
    {
     "cell_type": "code",
     "collapsed": false,
     "input": [],
     "language": "python",
     "metadata": {},
     "outputs": []
    }
   ],
   "metadata": {}
  }
 ]
}