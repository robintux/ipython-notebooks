{
 "metadata": {
  "name": "",
  "signature": "sha256:8bd94f1374a0593e7b04640d0ecdb32e0a81017c4c142292c1138d9afaa25a8b"
 },
 "nbformat": 3,
 "nbformat_minor": 0,
 "worksheets": [
  {
   "cells": [
    {
     "cell_type": "markdown",
     "metadata": {},
     "source": [
      "## Fixation probability"
     ]
    },
    {
     "cell_type": "markdown",
     "metadata": {},
     "source": [
      "### Simulation"
     ]
    },
    {
     "cell_type": "code",
     "collapsed": false,
     "input": [
      "def simulate_fixation(s,N,x,PLOT=False):\n",
      "    if PLOT:\n",
      "        _ = []\n",
      "    while not (np.allclose(x,1) or np.allclose(x,0)):\n",
      "        assert 0 < x < 1\n",
      "        if PLOT: _.append(x)\n",
      "        x = x/(1-s+s*x)\n",
      "        n = binomial(N,x)\n",
      "        x = n/float(N)\n",
      "        if PLOT: \n",
      "            if len(_)%100 == 0:\n",
      "                print len(_),\n",
      "    if PLOT:\n",
      "        plot(range(len(_)), _)\n",
      "        ylim(-0.1,1)\n",
      "        xlim(0,max(10,len(_)))\n",
      "        xlabel(\"Time\")\n",
      "        ylabel(\"Frequency\")\n",
      "    return allclose(x,1)\n",
      "\n",
      "while not simulate_fixation(0.1, 1e5, 1e-5,True):\n",
      "    pass"
     ],
     "language": "python",
     "metadata": {},
     "outputs": [
      {
       "output_type": "stream",
       "stream": "stdout",
       "text": [
        "100 200\n"
       ]
      },
      {
       "metadata": {},
       "output_type": "display_data",
       "png": "[encoded data removed]",
       "text": [
        "<matplotlib.figure.Figure at 0x498a550>"
       ]
      }
     ],
     "prompt_number": 1
    },
    {
     "cell_type": "code",
     "collapsed": false,
     "input": [
      "def p_simulation(s,N,x,replicates=100):\n",
      "    ps = [simulate_fixation(s, N, 1./N) for _ in range(replicates)]\n",
      "    return mean(ps)\n",
      "p_simulation(0.1, 1e5, 1e-5)"
     ],
     "language": "python",
     "metadata": {},
     "outputs": [
      {
       "metadata": {},
       "output_type": "pyout",
       "prompt_number": 3,
       "text": [
        "0.13"
       ]
      }
     ],
     "prompt_number": 3
    },
    {
     "cell_type": "markdown",
     "metadata": {},
     "source": [
      "### Large population"
     ]
    },
    {
     "cell_type": "code",
     "collapsed": false,
     "input": [
      "def p_eshel(s,N,x):\n",
      "    return (2*s/(1+s))*(N*x)"
     ],
     "language": "python",
     "metadata": {},
     "outputs": [],
     "prompt_number": 90
    },
    {
     "cell_type": "markdown",
     "metadata": {},
     "source": [
      "### Small population"
     ]
    },
    {
     "cell_type": "code",
     "collapsed": false,
     "input": [
      "def p_kimura(s,N,x):\n",
      "    return (1-exp(-2*N*s*x))/(1-exp(-2*N*s))"
     ],
     "language": "python",
     "metadata": {},
     "outputs": [],
     "prompt_number": 80
    },
    {
     "cell_type": "markdown",
     "metadata": {},
     "source": [
      "### Comparison"
     ]
    },
    {
     "cell_type": "code",
     "collapsed": false,
     "input": [
      "from IPython.parallel import Client\n",
      "pool = Client()[:]\n",
      "print \"# CPUs\",len(pool.client.ids)\n",
      "with pool.sync_imports():\n",
      "    from numpy import allclose, mean\n",
      "    from numpy.random import binomial\n",
      "pool['simulate_fixation'] = simulate_fixation\n",
      "pool['p_simulation'] = p_simulation"
     ],
     "language": "python",
     "metadata": {},
     "outputs": [
      {
       "output_type": "stream",
       "stream": "stdout",
       "text": [
        "# CPUs 10\n",
        "importing allclose,mean from numpy on engine(s)\n",
        "importing binomial from numpy.random on engine(s)\n"
       ]
      }
     ],
     "prompt_number": 26
    },
    {
     "cell_type": "code",
     "collapsed": false,
     "input": [
      "import pickle,gzip,os.path\n",
      "def load_or_run(results_fname, func, force_calc=False):\n",
      "    if not os.path.exists(results_fname) or force_calc:\n",
      "        print \"Calculating...\", \n",
      "        results = func()\n",
      "        with gzip.open(results_fname, 'w') as f:\n",
      "            print \"Saving results to\", results_fname\n",
      "            pickle.dump(results, f)\n",
      "    else:\n",
      "        with gzip.open(results_fname) as f:\n",
      "            print \"Loading saved results from\", results_fname\n",
      "            results = pickle.load(f)\n",
      "    return results"
     ],
     "language": "python",
     "metadata": {},
     "outputs": [],
     "prompt_number": 54
    },
    {
     "cell_type": "code",
     "collapsed": false,
     "input": [
      "N_range = map(int,logspace(1,5,50))\n",
      "s = 0.1"
     ],
     "language": "python",
     "metadata": {},
     "outputs": [],
     "prompt_number": 55
    },
    {
     "cell_type": "code",
     "collapsed": false,
     "input": [
      "p_simulation_N = load_or_run(\"p_simulation_N.gz\", \n",
      "                             lambda: pool.map_sync(lambda s,N: p_simulation(s, N, 1./N, 100000), [s]*len(N_range), N_range),\n",
      "                             force_calc=False)"
     ],
     "language": "python",
     "metadata": {},
     "outputs": [
      {
       "output_type": "stream",
       "stream": "stdout",
       "text": [
        "Loading saved results from p_simulation_N.gz\n"
       ]
      }
     ],
     "prompt_number": 56
    },
    {
     "cell_type": "code",
     "collapsed": false,
     "input": [
      "p_eshel_N =       [p_eshel(s,N,1./N) for N in N_range]\n",
      "p_kimura_N =      [p_kimura(s,N,1./N) for N in N_range]"
     ],
     "language": "python",
     "metadata": {},
     "outputs": [],
     "prompt_number": 57
    },
    {
     "cell_type": "code",
     "collapsed": false,
     "input": [
      "def plot_kimura_eshel_simulation(x, kimura, eshel, simulation, xlabel=''):\n",
      "    fig,ax = subplots(1,1)\n",
      "    ax.plot(x, kimura, label='Kimura')\n",
      "    ax.plot(x, eshel, label='Eshel')\n",
      "    ax.plot(x, simulation, label='Simulation')\n",
      "    ax.legend()\n",
      "    ax.set_xscale('log')\n",
      "    ax.grid(False,'minor')\n",
      "    ax.set_xlabel(xlabel)\n",
      "    ax.set_ylabel('p')\n",
      "    return fig,ax"
     ],
     "language": "python",
     "metadata": {},
     "outputs": [],
     "prompt_number": 58
    },
    {
     "cell_type": "code",
     "collapsed": false,
     "input": [
      "plot_kimura_eshel_simulation(N_range, p_kimura_N, p_eshel_N, p_simulation_N, 'N');"
     ],
     "language": "python",
     "metadata": {},
     "outputs": [
      {
       "metadata": {},
       "output_type": "display_data",
       "png": "[encoded data removed]",
       "text": [
        "<matplotlib.figure.Figure at 0x5157a50>"
       ]
      }
     ],
     "prompt_number": 59
    },
    {
     "cell_type": "code",
     "collapsed": false,
     "input": [
      "N = int(1e5)\n",
      "s_range = logspace(-4,-1,50)"
     ],
     "language": "python",
     "metadata": {},
     "outputs": [],
     "prompt_number": 122
    },
    {
     "cell_type": "code",
     "collapsed": false,
     "input": [
      "p_simulation_s = load_or_run(\"p_simulation_s.gz\", \n",
      "                             lambda: pool.map_sync(lambda s,N: p_simulation(s, N, 1./N, 100000), s_range, [N]*len(s_range)),\n",
      "                             force_calc=True)"
     ],
     "language": "python",
     "metadata": {},
     "outputs": []
    },
    {
     "cell_type": "code",
     "collapsed": false,
     "input": [
      "p_eshel_s      = [p_eshel(s,N,1./N) for s in s_range]\n",
      "p_kimura_s     = [p_kimura(s,N,1./N) for s in s_range]"
     ],
     "language": "python",
     "metadata": {},
     "outputs": []
    },
    {
     "cell_type": "code",
     "collapsed": false,
     "input": [
      "plot_kimura_eshel_simulation(s_range, p_kimura_s, p_eshel_s, p_simulation_s, 's');"
     ],
     "language": "python",
     "metadata": {},
     "outputs": []
    },
    {
     "cell_type": "code",
     "collapsed": false,
     "input": [],
     "language": "python",
     "metadata": {},
     "outputs": []
    }
   ],
   "metadata": {}
  }
 ]
}