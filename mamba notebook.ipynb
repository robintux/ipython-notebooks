{
 "metadata": {
  "name": "mamba notebook"
 },
 "nbformat": 3,
 "nbformat_minor": 0,
 "worksheets": [
  {
   "cells": [
    {
     "cell_type": "code",
     "collapsed": false,
     "input": [
      "cd d:\\workspace\\mamba"
     ],
     "language": "python",
     "metadata": {},
     "outputs": [
      {
       "output_type": "stream",
       "stream": "stdout",
       "text": [
        "d:\\workspace\\mamba\n"
       ]
      }
     ],
     "prompt_number": 1
    },
    {
     "cell_type": "code",
     "collapsed": false,
     "input": [
      "a=np.zeros(10, dtype=int32)\n",
      "a[0]=100\n",
      "a"
     ],
     "language": "python",
     "metadata": {},
     "outputs": [
      {
       "output_type": "pyout",
       "prompt_number": 7,
       "text": [
        "array([100,   0,   0,   0,   0,   0,   0,   0,   0,   0])"
       ]
      }
     ],
     "prompt_number": 7
    },
    {
     "cell_type": "code",
     "collapsed": false,
     "input": [
      "type(a[0])"
     ],
     "language": "python",
     "metadata": {},
     "outputs": [
      {
       "output_type": "pyout",
       "prompt_number": 8,
       "text": [
        "numpy.int32"
       ]
      }
     ],
     "prompt_number": 8
    },
    {
     "cell_type": "code",
     "collapsed": false,
     "input": [
      "b=multinomial(100, [1.0/10]*10)\n",
      "type(b[0])"
     ],
     "language": "python",
     "metadata": {},
     "outputs": [
      {
       "output_type": "pyout",
       "prompt_number": 10,
       "text": [
        "numpy.int32"
       ]
      }
     ],
     "prompt_number": 10
    },
    {
     "cell_type": "code",
     "collapsed": false,
     "input": [
      "import simulation\n",
      "reload(simulation);"
     ],
     "language": "python",
     "metadata": {},
     "outputs": [],
     "prompt_number": 96
    },
    {
     "cell_type": "code",
     "collapsed": false,
     "input": [
      "p=simulation.run()"
     ],
     "language": "python",
     "metadata": {},
     "outputs": [
      {
       "output_type": "stream",
       "stream": "stdout",
       "text": [
        "start 0\n",
        "drift 0\n",
        "selection 0\n",
        "mutation 2991\n",
        "Tick 0\n",
        "start 2991\n",
        "drift 2920\n",
        "selection 2903\n",
        "mutation 5776\n",
        "Tick 1\n",
        "start 5776\n",
        "drift 5713\n",
        "selection 5778\n",
        "mutation 8752\n",
        "Tick 2\n",
        "start 8752\n",
        "drift 8752\n",
        "selection 8399\n",
        "mutation 11273\n",
        "Tick 3\n",
        "start 11273\n",
        "drift 11407\n",
        "selection 11177\n",
        "mutation 14204\n",
        "Tick 4\n",
        "start 14204\n",
        "drift 14070\n",
        "selection 13848\n",
        "mutation 16708\n",
        "Tick 5\n",
        "start 16708\n",
        "drift 16792\n",
        "selection 16639\n",
        "mutation 19510\n",
        "Tick 6\n",
        "start 19510\n",
        "drift 19482\n",
        "selection 19192\n",
        "mutation 22070\n",
        "Tick 7\n",
        "start 22070\n",
        "drift 21976\n",
        "selection 21887\n",
        "mutation 24862\n",
        "Tick 8\n",
        "start 24862\n",
        "drift 24647\n",
        "selection 24420\n",
        "mutation 27175\n",
        "Tick 9\n"
       ]
      }
     ],
     "prompt_number": 98
    },
    {
     "cell_type": "code",
     "collapsed": false,
     "input": [
      "import model\n",
      "reload(model);"
     ],
     "language": "python",
     "metadata": {},
     "outputs": [],
     "prompt_number": 77
    },
    {
     "cell_type": "code",
     "collapsed": false,
     "input": [
      "p=model.create_mutation_free_population()\n",
      "p[0]-=100\n",
      "p[1]+=100\n",
      "f=model.create_fitness()"
     ],
     "language": "python",
     "metadata": {},
     "outputs": [],
     "prompt_number": 87
    },
    {
     "cell_type": "code",
     "collapsed": false,
     "input": [
      "print p[-1]\n",
      "model.selection(p,f)\n",
      "print p[-1]\n",
      "model.selection(p,f)\n",
      "print p[-1]"
     ],
     "language": "python",
     "metadata": {},
     "outputs": [
      {
       "output_type": "stream",
       "stream": "stdout",
       "text": [
        "0\n",
        "0\n",
        "0\n"
       ]
      }
     ],
     "prompt_number": 89
    },
    {
     "cell_type": "code",
     "collapsed": false,
     "input": [
      "np.get_include()"
     ],
     "language": "python",
     "metadata": {},
     "outputs": [
      {
       "output_type": "pyout",
       "prompt_number": 95,
       "text": [
        "'C:\\\\Python27\\\\lib\\\\site-packages\\\\numpy\\\\core\\\\include'"
       ]
      }
     ],
     "prompt_number": 95
    },
    {
     "cell_type": "code",
     "collapsed": false,
     "input": [
      "import time"
     ],
     "language": "python",
     "metadata": {},
     "outputs": [],
     "prompt_number": 1
    },
    {
     "cell_type": "code",
     "collapsed": false,
     "input": [
      "time.clock()"
     ],
     "language": "python",
     "metadata": {},
     "outputs": [
      {
       "output_type": "pyout",
       "prompt_number": 7,
       "text": [
        "24.026697858339496"
       ]
      }
     ],
     "prompt_number": 7
    },
    {
     "cell_type": "code",
     "collapsed": false,
     "input": [
      "t=array(zeros(1000), dtype=np.int)\n",
      "g=zeros((100,1000), dtype=np.int)\n",
      "for i in range(100):\n",
      "    g[i, randint(0,999)] = 1\n",
      "g[1,5] = 1"
     ],
     "language": "python",
     "metadata": {},
     "outputs": [],
     "prompt_number": 60
    },
    {
     "cell_type": "code",
     "collapsed": false,
     "input": [
      "g.sum(axis=1)"
     ],
     "language": "python",
     "metadata": {},
     "outputs": [
      {
       "output_type": "pyout",
       "prompt_number": 67,
       "text": [
        "array([1, 1, 1, 1, 1, 1, 1, 1, 1, 1, 1, 1, 1, 1, 1, 1, 1, 1, 1, 1, 1, 1, 1,\n",
        "       1, 1, 1, 1, 1, 1, 1, 1, 1, 1, 1, 1, 1, 1, 1, 1, 1, 1, 1, 1, 1, 1, 1,\n",
        "       1, 1, 1, 1, 1, 1, 1, 1, 1, 1, 1, 1, 1, 1, 1, 1, 1, 1, 1, 1, 1, 1, 1,\n",
        "       1, 1, 1, 1, 1, 1, 1, 1, 1, 1, 1, 1, 1, 1, 1, 1, 1, 1, 1, 1, 1, 1, 1,\n",
        "       1, 1, 1, 1, 1, 1, 1, 1])"
       ]
      }
     ],
     "prompt_number": 67
    },
    {
     "cell_type": "code",
     "collapsed": false,
     "input": [
      "def ham1(g,t):\n",
      "    a = zeros(100, dtype=np.int)\n",
      "    for i in range(a.shape[0]):\n",
      "        a[i] = (t!=g[i,:]).sum()\n",
      "    return a"
     ],
     "language": "python",
     "metadata": {},
     "outputs": [],
     "prompt_number": 74
    },
    {
     "cell_type": "code",
     "collapsed": false,
     "input": [
      "g.shape[0]"
     ],
     "language": "python",
     "metadata": {},
     "outputs": [
      {
       "output_type": "pyout",
       "prompt_number": 76,
       "text": [
        "100L"
       ]
      }
     ],
     "prompt_number": 76
    },
    {
     "cell_type": "code",
     "collapsed": false,
     "input": [
      "ham1(g,t)"
     ],
     "language": "python",
     "metadata": {},
     "outputs": [
      {
       "output_type": "pyout",
       "prompt_number": 75,
       "text": [
        "array([1, 1, 1, 1, 1, 1, 1, 1, 1, 1, 1, 1, 1, 1, 1, 1, 1, 1, 1, 1, 1, 1, 1,\n",
        "       1, 1, 1, 1, 1, 1, 1, 1, 1, 1, 1, 1, 1, 1, 1, 1, 1, 1, 1, 1, 1, 1, 1,\n",
        "       1, 1, 1, 1, 1, 1, 1, 1, 1, 1, 1, 1, 1, 1, 1, 1, 1, 1, 1, 1, 1, 1, 1,\n",
        "       1, 1, 1, 1, 1, 1, 1, 1, 1, 1, 1, 1, 1, 1, 1, 1, 1, 1, 1, 1, 1, 1, 1,\n",
        "       1, 1, 1, 1, 1, 1, 1, 1])"
       ]
      }
     ],
     "prompt_number": 75
    },
    {
     "cell_type": "code",
     "collapsed": false,
     "input": [
      "%load_ext cythonmagic"
     ],
     "language": "python",
     "metadata": {},
     "outputs": [],
     "prompt_number": 129
    },
    {
     "cell_type": "code",
     "collapsed": false,
     "input": [
      "%%cython\n",
      "import numpy as np\n",
      "cimport numpy as np\n",
      "cimport cython\n",
      "\n",
      "@cython.boundscheck(False)\n",
      "def ham2(np.ndarray[int, ndim=2] g, np.ndarray[int, ndim=1] t):\n",
      "    cdef np.ndarray[int, ndim=1] a \n",
      "    a = np.zeros(g.shape[0], dtype=np.int)\n",
      "    cdef Py_ssize_t i\n",
      "    for i in range(g.shape[0]):\n",
      "        a[i] = (t!=g[i,:]).sum()\n",
      "    return a"
     ],
     "language": "python",
     "metadata": {},
     "outputs": [],
     "prompt_number": 78
    },
    {
     "cell_type": "code",
     "collapsed": false,
     "input": [
      "def hamming_fitness(genome, target_genome):\n",
      "\treturn (genome != target_genome).sum()\n",
      "\n",
      "def ham3(genomes, t):\n",
      "    return np.apply_along_axis(hamming_fitness, 1, g, t) "
     ],
     "language": "python",
     "metadata": {},
     "outputs": [],
     "prompt_number": 180
    },
    {
     "cell_type": "code",
     "collapsed": false,
     "input": [
      "%timeit -n 10000 ham1(g,t)\n",
      "%timeit -n 10000 ham2(g,t)\n",
      "%timeit -n 10000 ham3(g,t)"
     ],
     "language": "python",
     "metadata": {},
     "outputs": [
      {
       "output_type": "stream",
       "stream": "stdout",
       "text": [
        "1000 loops, best of 3: 2.58 ms per loop\n",
        "1000 loops, best of 3: 2.31 ms per loop"
       ]
      },
      {
       "output_type": "stream",
       "stream": "stdout",
       "text": [
        "\n",
        "1000 loops, best of 3: 5.11 ms per loop"
       ]
      },
      {
       "output_type": "stream",
       "stream": "stdout",
       "text": [
        "\n"
       ]
      }
     ],
     "prompt_number": 179
    },
    {
     "cell_type": "code",
     "collapsed": false,
     "input": [
      "a=rand(1000)\n",
      "a[1:990]=0\n",
      "a.nonzero()"
     ],
     "language": "python",
     "metadata": {},
     "outputs": [
      {
       "output_type": "pyout",
       "prompt_number": 20,
       "text": [
        "(array([  0, 990, 991, 992, 993, 994, 995, 996, 997, 998, 999], dtype=int64),)"
       ]
      }
     ],
     "prompt_number": 20
    },
    {
     "cell_type": "code",
     "collapsed": false,
     "input": [
      "%timeit 2**a\n",
      "%timeit 2.**a\n",
      "%timeit np.power(2,a)"
     ],
     "language": "python",
     "metadata": {},
     "outputs": [
      {
       "output_type": "stream",
       "stream": "stdout",
       "text": [
        "100000 loops, best of 3: 18.4 us per loop\n",
        "100000 loops, best of 3: 17 us per loop"
       ]
      },
      {
       "output_type": "stream",
       "stream": "stdout",
       "text": [
        "\n",
        "100000 loops, best of 3: 18.2 us per loop"
       ]
      },
      {
       "output_type": "stream",
       "stream": "stdout",
       "text": [
        "\n"
       ]
      }
     ],
     "prompt_number": 23
    },
    {
     "cell_type": "code",
     "collapsed": false,
     "input": [
      "env=np.random.binomial(1,0.2,10)\n",
      "env"
     ],
     "language": "python",
     "metadata": {},
     "outputs": [
      {
       "output_type": "pyout",
       "prompt_number": 29,
       "text": [
        "array([0, 0, 1, 0, 0, 0, 0, 0, 0, 0])"
       ]
      }
     ],
     "prompt_number": 29
    },
    {
     "cell_type": "code",
     "collapsed": false,
     "input": [
      "%timeit -n 100000 int(1.3)\n",
      "%timeit -n 100000 math.floor(1.3)\n",
      "%timeit -n 100000 np.floor(1.3) "
     ],
     "language": "python",
     "metadata": {},
     "outputs": [
      {
       "output_type": "stream",
       "stream": "stdout",
       "text": [
        "100000 loops, best of 3: 217 ns per loop\n",
        "100000 loops, best of 3: 145 ns per loop\n",
        "100000 loops, best of 3: 1.64 us per loop"
       ]
      },
      {
       "output_type": "stream",
       "stream": "stdout",
       "text": [
        "\n"
       ]
      }
     ],
     "prompt_number": 42
    },
    {
     "cell_type": "code",
     "collapsed": false,
     "input": [
      "a = np.random.rand(1000)\n",
      "%timeit -n 1000 [int(x) for x in a]\n",
      "%timeit -n 1000 [math.floor(x) for x in a]\n",
      "%timeit -n 1000 [np.floor(x) for x in a]\n",
      "%timeit -n 1000 np.floor(a)"
     ],
     "language": "python",
     "metadata": {},
     "outputs": [
      {
       "output_type": "stream",
       "stream": "stdout",
       "text": [
        "1000 loops, best of 3: 298 us per loop\n",
        "1000 loops, best of 3: 316 us per loop"
       ]
      },
      {
       "output_type": "stream",
       "stream": "stdout",
       "text": [
        "\n",
        "1000 loops, best of 3: 2.67 ms per loop"
       ]
      },
      {
       "output_type": "stream",
       "stream": "stdout",
       "text": [
        "\n",
        "1000 loops, best of 3: 12.7 us per loop\n"
       ]
      }
     ],
     "prompt_number": 43
    },
    {
     "cell_type": "code",
     "collapsed": false,
     "input": [
      "type(np.arange(10.0)[0])"
     ],
     "language": "python",
     "metadata": {},
     "outputs": [
      {
       "output_type": "pyout",
       "prompt_number": 48,
       "text": [
        "numpy.float64"
       ]
      }
     ],
     "prompt_number": 48
    },
    {
     "cell_type": "code",
     "collapsed": false,
     "input": [
      "type(xrange(10)[0])"
     ],
     "language": "python",
     "metadata": {},
     "outputs": [
      {
       "output_type": "pyout",
       "prompt_number": 47,
       "text": [
        "int"
       ]
      }
     ],
     "prompt_number": 47
    },
    {
     "cell_type": "code",
     "collapsed": false,
     "input": [
      "import cython_load\n",
      "import model_c"
     ],
     "language": "python",
     "metadata": {},
     "outputs": [],
     "prompt_number": 4
    },
    {
     "cell_type": "code",
     "collapsed": false,
     "input": [
      "nums=model_c.genomes_to_nums(g)"
     ],
     "language": "python",
     "metadata": {},
     "outputs": [],
     "prompt_number": 6
    },
    {
     "cell_type": "code",
     "collapsed": false,
     "input": [
      "type(nums[0])"
     ],
     "language": "python",
     "metadata": {},
     "outputs": [
      {
       "output_type": "pyout",
       "prompt_number": 8,
       "text": [
        "numpy.float64"
       ]
      }
     ],
     "prompt_number": 8
    },
    {
     "cell_type": "code",
     "collapsed": false,
     "input": [
      "import random\n",
      "import numpy as np\n",
      "def choose_no_rep_python(n,k):\n",
      "    return random.sample(xrange(n), k)    \n",
      "def choose_no_rep_numpy(n, k):\n",
      "    return np.random.permutation(n)[:k]\n",
      "def choose_no_rep_numpy_take1(n, k):\n",
      "    return np.random.permutation(n).take(range(k))\n",
      "def choose_no_rep_numpy_take2(n, k):\n",
      "    return np.random.permutation(n).take(arange(k))\n",
      "def choose_no_rep_numpy_take3(n, k):\n",
      "    return np.random.permutation(n).take(xrange(k))"
     ],
     "language": "python",
     "metadata": {},
     "outputs": [],
     "prompt_number": 57
    },
    {
     "cell_type": "code",
     "collapsed": false,
     "input": [
      "%timeit -n 10000 choose_no_rep_python(1000, 4)\n",
      "%timeit -n 10000 choose_no_rep_numpy(1000, 4)\n",
      "%timeit -n 10000 choose_no_rep_numpy_take1(1000, 4)\n",
      "%timeit -n 10000 choose_no_rep_numpy_take2(1000, 4)\n",
      "%timeit -n 10000 choose_no_rep_numpy_take3(1000, 4)"
     ],
     "language": "python",
     "metadata": {},
     "outputs": [
      {
       "output_type": "stream",
       "stream": "stdout",
       "text": [
        "10000 loops, best of 3: 9.11 us per loop\n",
        "10000 loops, best of 3: 408 us per loop"
       ]
      },
      {
       "output_type": "stream",
       "stream": "stdout",
       "text": [
        "\n",
        "10000 loops, best of 3: 424 us per loop"
       ]
      },
      {
       "output_type": "stream",
       "stream": "stdout",
       "text": [
        "\n",
        "10000 loops, best of 3: 413 us per loop"
       ]
      },
      {
       "output_type": "stream",
       "stream": "stdout",
       "text": [
        "\n",
        "10000 loops, best of 3: 425 us per loop"
       ]
      },
      {
       "output_type": "stream",
       "stream": "stdout",
       "text": [
        "\n"
       ]
      }
     ],
     "prompt_number": 58
    },
    {
     "cell_type": "code",
     "collapsed": false,
     "input": [
      "ge=g[2,:].copy()\n",
      "sum(ge)"
     ],
     "language": "python",
     "metadata": {},
     "outputs": [
      {
       "output_type": "pyout",
       "prompt_number": 112,
       "text": [
        "1"
       ]
      }
     ],
     "prompt_number": 112
    },
    {
     "cell_type": "code",
     "collapsed": false,
     "input": [
      "i= choose_no_rep_python(1000,4)\n",
      "ge[i] = (ge[i] + 1) % 2\n",
      "sum(ge)"
     ],
     "language": "python",
     "metadata": {},
     "outputs": [
      {
       "output_type": "pyout",
       "prompt_number": 115,
       "text": [
        "13"
       ]
      }
     ],
     "prompt_number": 115
    },
    {
     "cell_type": "code",
     "collapsed": false,
     "input": [
      "def genome_to_num1(genome):\n",
      "\ti = array(range(genome.shape[0]))\n",
      "\treturn (2. ** i * genome).sum()\n",
      "def genome_to_num2(genome):\n",
      "\ti = np.arange(genome.shape[0])\n",
      "\treturn (2. ** i * genome).sum()\n",
      "def genome_to_num3(genome):\n",
      "\ti = array(xrange(genome.shape[0]))\n",
      "\treturn (2. ** i * genome).sum()"
     ],
     "language": "python",
     "metadata": {},
     "outputs": [],
     "prompt_number": 132
    },
    {
     "cell_type": "code",
     "collapsed": false,
     "input": [
      "%timeit -n 1000 genome_to_num1(ge)\n",
      "%timeit -n 1000 genome_to_num2(ge)\n",
      "%timeit -n 1000 genome_to_num3(ge)"
     ],
     "language": "python",
     "metadata": {},
     "outputs": [
      {
       "output_type": "stream",
       "stream": "stdout",
       "text": [
        "1000 loops, best of 3: 409 us per loop\n",
        "1000 loops, best of 3: 172 us per loop"
       ]
      },
      {
       "output_type": "stream",
       "stream": "stdout",
       "text": [
        "\n",
        "1000 loops, best of 3: 399 us per loop"
       ]
      },
      {
       "output_type": "stream",
       "stream": "stdout",
       "text": [
        "\n"
       ]
      }
     ],
     "prompt_number": 127
    },
    {
     "cell_type": "code",
     "collapsed": false,
     "input": [
      "import model\n",
      "reload(model);\n",
      "import cython_load\n",
      "import model_c"
     ],
     "language": "python",
     "metadata": {},
     "outputs": [],
     "prompt_number": 6
    },
    {
     "cell_type": "code",
     "collapsed": false,
     "input": [
      "f=model.create_fitness_by_mutational_load()\n",
      "p=model.create_mutation_free_population()\n",
      "m=model.create_muation_rates()"
     ],
     "language": "python",
     "metadata": {},
     "outputs": [],
     "prompt_number": 5
    },
    {
     "cell_type": "code",
     "collapsed": false,
     "input": [
      "model.drift(p)"
     ],
     "language": "python",
     "metadata": {},
     "outputs": [],
     "prompt_number": 28
    },
    {
     "cell_type": "code",
     "collapsed": false,
     "input": [
      "model.selection(p,f)"
     ],
     "language": "python",
     "metadata": {},
     "outputs": [],
     "prompt_number": 30
    },
    {
     "cell_type": "code",
     "collapsed": false,
     "input": [
      "model_c.mutation_by_mutation_load(p,m);"
     ],
     "language": "python",
     "metadata": {},
     "outputs": [],
     "prompt_number": 32
    },
    {
     "cell_type": "code",
     "collapsed": false,
     "input": [
      "p[:5]"
     ],
     "language": "python",
     "metadata": {},
     "outputs": [
      {
       "output_type": "pyout",
       "prompt_number": 33,
       "text": [
        "array([982566623,  17306161,    126779,       436,         1])"
       ]
      }
     ],
     "prompt_number": 33
    },
    {
     "cell_type": "code",
     "collapsed": false,
     "input": [
      "import math\n",
      "import scipy.stats as sps\n",
      "import simulation\n",
      "reload(simulation);"
     ],
     "language": "python",
     "metadata": {},
     "outputs": [],
     "prompt_number": 14
    },
    {
     "cell_type": "code",
     "collapsed": false,
     "input": [
      "p=simulation.run(10**3,0)"
     ],
     "language": "python",
     "metadata": {},
     "outputs": [
      {
       "output_type": "stream",
       "stream": "stdout",
       "text": [
        "Starting simulation with  1000 ticks\n",
        "Simulation finished,"
       ]
      },
      {
       "output_type": "stream",
       "stream": "stdout",
       "text": [
        " 1000 ticks, time elapsed 0.163826916401 seconds\n"
       ]
      }
     ],
     "prompt_number": 3
    },
    {
     "cell_type": "code",
     "collapsed": false,
     "input": [
      "lam = model.mu/model.s\n",
      "poi=sps.poisson(lam)"
     ],
     "language": "python",
     "metadata": {},
     "outputs": [],
     "prompt_number": 15
    },
    {
     "cell_type": "code",
     "collapsed": false,
     "input": [
      "print [exp(-lam) * lam**k / math.factorial(k) for k in range(6)]\n",
      "print [poi.pmf(k) for k in range(6)]\n",
      "print [p[k]/float(p.sum()) for k in range(6)]"
     ],
     "language": "python",
     "metadata": {},
     "outputs": [
      {
       "output_type": "stream",
       "stream": "stdout",
       "text": [
        "[0.74081822068171788, 0.22224546620451535, 0.033336819930677303, 0.0033336819930677298, 0.00025002614948007977, 1.5001568968804782e-05]\n",
        "[0.74081822068171788, 0.22224546620451532, 0.033336819930677296, 0.0033336819930677277, 0.00025002614948007934, 1.5001568968804773e-05]\n",
        "[0.74045606799999997, 0.222601676, 0.033354796999999999, 0.003323749, 0.00024877800000000001, 1.4267000000000001e-05]\n"
       ]
      }
     ],
     "prompt_number": 16
    },
    {
     "cell_type": "markdown",
     "metadata": {},
     "source": [
      "100 generations are enough to reach an MSB with 10^9 population size and no explicint genomes (just counting mutations). Typical running time: 0.15 seconds"
     ]
    },
    {
     "cell_type": "code",
     "collapsed": false,
     "input": [
      "print sum([ i*x for i,x in enumerate(p) if x>0])/float(p.sum())\n",
      "print lam\n",
      "print sum([ ((1-model.s)**i)*x for i,x in enumerate(p) if x>0])/float(p.sum())\n",
      "print e**(-model.mu)"
     ],
     "language": "python",
     "metadata": {},
     "outputs": [
      {
       "output_type": "stream",
       "stream": "stdout",
       "text": [
        "0.300352987\n",
        "0.3\n",
        "0.997000962813\n",
        "0.997004495503\n"
       ]
      }
     ],
     "prompt_number": 26
    },
    {
     "cell_type": "code",
     "collapsed": false,
     "input": [],
     "language": "python",
     "metadata": {},
     "outputs": []
    }
   ],
   "metadata": {}
  }
 ]
}