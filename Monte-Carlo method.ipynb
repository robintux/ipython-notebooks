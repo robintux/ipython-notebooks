{
 "metadata": {
  "name": ""
 },
 "nbformat": 3,
 "nbformat_minor": 0,
 "worksheets": [
  {
   "cells": [
    {
     "cell_type": "markdown",
     "metadata": {},
     "source": [
      "We will use `numpy` and `scipy` to compute the integral of a function with the Monte-Carlo method."
     ]
    },
    {
     "cell_type": "markdown",
     "metadata": {},
     "source": [
      "First we defind the function we want to integrate:"
     ]
    },
    {
     "cell_type": "code",
     "collapsed": false,
     "input": [
      "import numpy as np\n",
      "import matplotlib.pyplot  as plt\n",
      "def f(x):\n",
      "    return np.sin(x)\n",
      "plt.plot(np.arange(0,1,0.01), f(np.arange(0,1,0.01)))\n",
      "plt.xlabel(\"x\")\n",
      "plt.ylabel(\"f(x)\")\n",
      "plt.title(\"function plot\");"
     ],
     "language": "python",
     "metadata": {},
     "outputs": [
      {
       "metadata": {},
       "output_type": "display_data",
       "png": "[encoded data removed]",
       "text": [
        "<matplotlib.figure.Figure at 0x860dd68>"
       ]
      }
     ],
     "prompt_number": 54
    },
    {
     "cell_type": "markdown",
     "metadata": {},
     "source": [
      "Now we integrate using Monte-Carlo method from 0 to 1:"
     ]
    },
    {
     "cell_type": "code",
     "collapsed": false,
     "input": [
      "from numpy.random import random\n",
      "n = 10000\n",
      "samples = np.array([random() for i in range(n*2)])\n",
      "samples.resize((n,2))\n",
      "print samples.shape"
     ],
     "language": "python",
     "metadata": {},
     "outputs": [
      {
       "output_type": "stream",
       "stream": "stdout",
       "text": [
        "(10000L, 2L)\n"
       ]
      }
     ],
     "prompt_number": 33
    },
    {
     "cell_type": "markdown",
     "metadata": {},
     "source": [
      "If the samples were in a 1x1 square and meant to measure the area of a circle bounded by this square, like in the lecture, we could calculate pi:"
     ]
    },
    {
     "cell_type": "code",
     "collapsed": false,
     "input": [
      "4 * (sqrt(((samples-0.5)**2).sum(axis=1))<0.5).sum() / float(n)"
     ],
     "language": "python",
     "metadata": {},
     "outputs": [
      {
       "metadata": {},
       "output_type": "pyout",
       "prompt_number": 34,
       "text": [
        "3.1440000000000001"
       ]
      }
     ],
     "prompt_number": 34
    },
    {
     "cell_type": "markdown",
     "metadata": {},
     "source": [
      "If we want to calculate the integral of the function f:"
     ]
    },
    {
     "cell_type": "code",
     "collapsed": false,
     "input": [
      "print \"x:   \",samples[:5,0]\n",
      "print \"f(x):\", f(samples[:5,0])\n",
      "print \"y:   \", samples[:5,1]"
     ],
     "language": "python",
     "metadata": {},
     "outputs": [
      {
       "output_type": "stream",
       "stream": "stdout",
       "text": [
        "x:    [ 0.55402041  0.86136257  0.65629955  0.47654519  0.30149381]\n",
        "f(x): [ 0.52611049  0.75873085  0.61018933  0.45871203  0.29694697]\n",
        "y:    [ 0.4405316   0.44568942  0.53874193  0.57136094  0.57795618]\n"
       ]
      }
     ],
     "prompt_number": 55
    },
    {
     "cell_type": "code",
     "collapsed": false,
     "input": [
      "print \"Integral of f by Monte-Carlo method:\", (f(samples[:,0]) > samples[:,1]).sum() / float(n)"
     ],
     "language": "python",
     "metadata": {},
     "outputs": [
      {
       "output_type": "stream",
       "stream": "stdout",
       "text": [
        "Integral of f: 0.4621\n"
       ]
      }
     ],
     "prompt_number": 57
    },
    {
     "cell_type": "code",
     "collapsed": false,
     "input": [
      "from scipy.integrate import quad\n",
      "print \"Integral of f by scipy:\", quad(f,0,1)[0]"
     ],
     "language": "python",
     "metadata": {},
     "outputs": [
      {
       "output_type": "stream",
       "stream": "stdout",
       "text": [
        "Integral of f by scipy: 0.459697694132\n"
       ]
      }
     ],
     "prompt_number": 60
    },
    {
     "cell_type": "code",
     "collapsed": false,
     "input": [],
     "language": "python",
     "metadata": {},
     "outputs": []
    }
   ],
   "metadata": {}
  }
 ]
}