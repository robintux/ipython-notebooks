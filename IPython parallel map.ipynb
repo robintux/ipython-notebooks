{
 "metadata": {
  "name": ""
 },
 "nbformat": 3,
 "nbformat_minor": 0,
 "worksheets": [
  {
   "cells": [
    {
     "cell_type": "markdown",
     "metadata": {},
     "source": [
      "# Parallel Python in IPython Notebook\n",
      "\n",
      "Here is the fastest way to achieve parallel computation in an IPython notebook when applying a function on independent data points via the map idiom. \n",
      "\n",
      "The full turotial can be found [here](http://nbviewer.ipython.org/github/vals/scilife-python-course/blob/master/parallel%20python.ipynb).\n",
      "\n",
      "We define the function we want to use. In this case we want to calculate the integral:\n",
      "$$\n",
      "\\int_0^x{e^{-t^2} dt}\n",
      "$$"
     ]
    },
    {
     "cell_type": "code",
     "collapsed": false,
     "input": [
      "from scipy.integrate import quad\n",
      "from numpy import exp\n",
      "def integrand(x):\n",
      "    return exp(-(x)**2)\n",
      "print \"integrand(1) =\", integrand(1)\n",
      "def integral(x):\n",
      "    return quad(integrand,0,x)[0]\n",
      "print \"integral(1) =\", integral(1)"
     ],
     "language": "python",
     "metadata": {},
     "outputs": [
      {
       "output_type": "stream",
       "stream": "stdout",
       "text": [
        "integrand(1) = 0.367879441171\n",
        "integral(1) = 0.746824132812\n"
       ]
      }
     ],
     "prompt_number": 2
    },
    {
     "cell_type": "markdown",
     "metadata": {},
     "source": [
      "The benchmark is the calculation of the integral on the segments $[0,n]$ for $n\\in {0,1,2,...,N}$"
     ]
    },
    {
     "cell_type": "code",
     "collapsed": false,
     "input": [
      "N = 1000\n",
      "%timeit -n 10 map(integral, range(N))"
     ],
     "language": "python",
     "metadata": {},
     "outputs": [
      {
       "output_type": "stream",
       "stream": "stdout",
       "text": [
        "10 loops, best of 3: 1.34 s per loop\n"
       ]
      }
     ],
     "prompt_number": 9
    },
    {
     "cell_type": "markdown",
     "metadata": {},
     "source": [
      "To do the parallelization we need to turn on an IPython cluster - go to the IPython dashboard to do that.\n",
      "\n",
      "Then these two lines:"
     ]
    },
    {
     "cell_type": "code",
     "collapsed": false,
     "input": [
      "from IPython.parallel import Client\n",
      "pool = Client()[:]"
     ],
     "language": "python",
     "metadata": {},
     "outputs": [],
     "prompt_number": 4
    },
    {
     "cell_type": "markdown",
     "metadata": {},
     "source": [
      "To make sure it worked, let's check how many CPUs we have:"
     ]
    },
    {
     "cell_type": "code",
     "collapsed": false,
     "input": [
      "print \"# CPUs\",len(pool.client.ids)"
     ],
     "language": "python",
     "metadata": {},
     "outputs": [
      {
       "output_type": "stream",
       "stream": "stdout",
       "text": [
        "# CPUs 3\n"
       ]
      }
     ],
     "prompt_number": 5
    },
    {
     "cell_type": "markdown",
     "metadata": {},
     "source": [
      "We need to setup the environment - do the imports and load the required functions:"
     ]
    },
    {
     "cell_type": "code",
     "collapsed": false,
     "input": [
      "with pool.sync_imports():\n",
      "    from scipy.integrate import quad\n",
      "    from numpy import exp\n",
      "pool['integrand'] = integrand"
     ],
     "language": "python",
     "metadata": {},
     "outputs": [
      {
       "output_type": "stream",
       "stream": "stdout",
       "text": [
        "importing quad from scipy.integrate on engine(s)\n",
        "importing exp from numpy on engine(s)\n"
       ]
      }
     ],
     "prompt_number": 6
    },
    {
     "cell_type": "markdown",
     "metadata": {},
     "source": [
      "Now we can run the computation in parallel:"
     ]
    },
    {
     "cell_type": "code",
     "collapsed": false,
     "input": [
      "print pool.map_sync(integral, range(10))"
     ],
     "language": "python",
     "metadata": {},
     "outputs": [
      {
       "output_type": "stream",
       "stream": "stdout",
       "text": [
        "[0.0, 0.7468241328124271, 0.8820813907624215, 0.8862073482595214, 0.8862269117895689, 0.8862269254513955, 0.8862269254527582, 0.8862269254527579, 0.8862269254527579, 0.8862269254527579]\n"
       ]
      }
     ],
     "prompt_number": 7
    },
    {
     "cell_type": "code",
     "collapsed": false,
     "input": [
      "%timeit -n 10 pool.map(integral, range(N))"
     ],
     "language": "python",
     "metadata": {},
     "outputs": [
      {
       "output_type": "stream",
       "stream": "stdout",
       "text": [
        "10 loops, best of 3: 3.28 ms per loop\n"
       ]
      }
     ],
     "prompt_number": 10
    },
    {
     "cell_type": "code",
     "collapsed": false,
     "input": [],
     "language": "python",
     "metadata": {},
     "outputs": []
    }
   ],
   "metadata": {}
  }
 ]
}