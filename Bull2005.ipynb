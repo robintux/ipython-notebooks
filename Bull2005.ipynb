{
 "metadata": {
  "name": ""
 },
 "nbformat": 3,
 "nbformat_minor": 0,
 "worksheets": [
  {
   "cells": [
    {
     "cell_type": "markdown",
     "metadata": {},
     "source": [
      "# Quasispecies made simple\n",
      "### Bull, Meyers and Lachmann\n",
      "### PLoS Computational Biology 2005\n",
      "### doi: 10.1371/journal.pcbi.0010061"
     ]
    },
    {
     "cell_type": "code",
     "collapsed": false,
     "input": [
      "w1 = 1.5\n",
      "w2 = 1.0\n",
      "u1 = 0.7\n",
      "u2 = 0.6\n",
      "u3 = 0.0\n",
      "N = 100000\n",
      "\n",
      "M = array([[w1 * (1 - u1), w1 * u3], [w1 * u1, w2 * (1 - u2)]]) / M[1,1]\n",
      "print \"M:\\n\",M\n",
      "\n",
      "s = 1 - w2*(1-u2)/w1\n",
      "print s, u1, exp(-u1/s), u1/s * exp(-u1/s)"
     ],
     "language": "python",
     "metadata": {},
     "outputs": [
      {
       "output_type": "stream",
       "stream": "stdout",
       "text": [
        "M:\n",
        "[[ 0.0757809   0.        ]\n",
        " [ 0.17682209  0.0673608 ]]\n",
        "0.733333333333 0.7 0.384987098923 0.367487685336\n"
       ]
      }
     ],
     "prompt_number": 225
    },
    {
     "cell_type": "code",
     "collapsed": false,
     "input": [
      "max_t = 50\n",
      "p = [None] * max_t\n",
      "p[0] = array([1.,0.])\n",
      "\n",
      "for t in range(1,max_t):    \n",
      "    #p[t] = array([w1*(1-u1)*p[t-1][0] + w1*u3*p[t-1][1] , w2*u1*p[t-1][0] + w2*(1-u2)*p[t-1][1]])\n",
      "    p[t] = M.dot(p[t-1])\n",
      "    p[t] /= p[t].sum()\n",
      "p = array(p)"
     ],
     "language": "python",
     "metadata": {},
     "outputs": [],
     "prompt_number": 226
    },
    {
     "cell_type": "code",
     "collapsed": false,
     "input": [
      "plot(range(max_t), (p[:,0]))#/p.sum(axis=1)))\n",
      "xlabel('Generations')\n",
      "ylabel('A1 frequency')\n",
      "ylim(0,1)\n",
      "axhline(1-u1/s);"
     ],
     "language": "python",
     "metadata": {},
     "outputs": [
      {
       "metadata": {},
       "output_type": "display_data",
       "png": "[encoded data removed]",
       "text": [
        "<matplotlib.figure.Figure at 0xa208e48>"
       ]
      }
     ],
     "prompt_number": 227
    },
    {
     "cell_type": "code",
     "collapsed": false,
     "input": [
      "fig,ax = plt.subplots(1,1)\n",
      "ax.plot(linspace(0,1), 3*(1-2*linspace(0,1)), '-k')\n",
      "ax.plot(linspace(0,1), 2*(1-linspace(0,1)), '--k')\n",
      "ax.set_xlabel(r'$\\mu$')\n",
      "ax.set_ylabel('Replacement rate')\n",
      "ax.set_yticks([3,2,1])\n",
      "ax.set_xticks([])\n",
      "ax.set_yticklabels(['w1','w2','1'])\n",
      "ax.set_xlim(0,0.5)\n",
      "ax.set_ylim(1,3.25)\n",
      "ax.set_title(\"Figure 3 left\");"
     ],
     "language": "python",
     "metadata": {},
     "outputs": [
      {
       "metadata": {},
       "output_type": "display_data",
       "png": "[encoded data removed]",
       "text": [
        "<matplotlib.figure.Figure at 0xa1b3a58>"
       ]
      }
     ],
     "prompt_number": 195
    },
    {
     "cell_type": "code",
     "collapsed": false,
     "input": [
      "w2"
     ],
     "language": "python",
     "metadata": {},
     "outputs": [
      {
       "metadata": {},
       "output_type": "pyout",
       "prompt_number": 144,
       "text": [
        "1.0"
       ]
      }
     ],
     "prompt_number": 144
    },
    {
     "cell_type": "code",
     "collapsed": false,
     "input": [],
     "language": "python",
     "metadata": {},
     "outputs": []
    }
   ],
   "metadata": {}
  }
 ]
}