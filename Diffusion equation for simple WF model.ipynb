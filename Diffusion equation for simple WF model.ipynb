{
 "metadata": {
  "name": ""
 },
 "nbformat": 3,
 "nbformat_minor": 0,
 "worksheets": [
  {
   "cells": [
    {
     "cell_type": "markdown",
     "metadata": {},
     "source": [
      "## Simple WF model"
     ]
    },
    {
     "cell_type": "markdown",
     "metadata": {},
     "source": [
      "## WF simulation approach"
     ]
    },
    {
     "cell_type": "code",
     "collapsed": false,
     "input": [
      "def step(x,s,u1,u2,N):\n",
      "    x = x * (1 - u2) + (1 - x) * (1-s) * u1\n",
      "    mf = x + (1 - x) * (1 - s)\n",
      "    x = x/mf\n",
      "    n = binomial(N, x)\n",
      "    x = n/float(N)\n",
      "    return x"
     ],
     "language": "python",
     "metadata": {},
     "outputs": [],
     "prompt_number": 1
    },
    {
     "cell_type": "code",
     "collapsed": false,
     "input": [
      "s = 0.01\n",
      "N = 1000\n",
      "u1 = 0.0003\n",
      "u2 = 10*u1\n",
      "x = 0.5\n",
      "_ = []\n",
      "while (s == 0 and x >0.1) or (s > 0 and x < 0.9):\n",
      "    _.append(x)\n",
      "    x = step(x,s,u1,u2,N)\n",
      "plot(_)\n",
      "xlabel('t')\n",
      "ylabel('x');"
     ],
     "language": "python",
     "metadata": {},
     "outputs": [
      {
       "metadata": {},
       "output_type": "display_data",
       "png": "[encoded data removed]",
       "text": [
        "<matplotlib.figure.Figure at 0x8a6ce48>"
       ]
      }
     ],
     "prompt_number": 2
    },
    {
     "cell_type": "code",
     "collapsed": false,
     "input": [
      "def sample_fixation_time(s,u1,u2,N):\n",
      "    x = 0.5\n",
      "    t = 0\n",
      "    while x > 0.01:\n",
      "        t += 1\n",
      "        x = step(x,s,u1,u2,N)\n",
      "    return t\n",
      "sample_fixation_time(s,u1,u2,N)"
     ],
     "language": "python",
     "metadata": {},
     "outputs": [
      {
       "metadata": {},
       "output_type": "pyout",
       "prompt_number": 4,
       "text": [
        "747335"
       ]
      }
     ],
     "prompt_number": 4
    },
    {
     "cell_type": "markdown",
     "metadata": {},
     "source": [
      "### Diffusion equation approach\n",
      "\n",
      "Based on example 7.5 in [@Durret2008]:\n",
      "\n",
      "> Example 7.5. Wright-Fisher model with selection and mutation. As before, we\n",
      "have two alleles, A and a, with the fitness of A is 1 and fitness of a is 1\u2212s. This\n",
      "time a -> A with probability \u03bc1 and A -> a with probability \u03bc2. In defining\n",
      "our process we will suppose that selection occurs first followed by mutation...\n",
      "The infinitesimal generator is:\n",
      "$$\n",
      "Lf = \\frac{1}{2} x(1-x)\\frac{d^2}{dx^2}f+(\\gamma x(1-x)+\\beta_1 (1-x)-\\beta_2 x) \\frac{d}{dx}f\n",
      "$$\n",
      "where $\\gamma = 2Ns$ and $\\beta_i = 2N\\mu_i$."
     ]
    },
    {
     "cell_type": "markdown",
     "metadata": {},
     "source": [
      "From the definition of the infinitesimal generator:\n",
      "$$\n",
      "b(x) = \\gamma x(1-x) + \\beta_1 (1-x) - \\beta_2 x = 2Ns x (1-x) + 2N\\mu_1 (1-x) - 2N\\mu_2 x\\\\\\\\\n",
      "a(x) = x (1-x)\n",
      "$$"
     ]
    },
    {
     "cell_type": "code",
     "collapsed": false,
     "input": [
      "def b(x):\n",
      "    return 2 * N * s * x * (1-x) +2 * N * u1 * (1-x) - 2 * N * u2 * x\n",
      "\n",
      "def a(x):\n",
      "    return x * (1-x)"
     ],
     "language": "python",
     "metadata": {},
     "outputs": [],
     "prompt_number": 5
    },
    {
     "cell_type": "markdown",
     "metadata": {},
     "source": [
      "- We define $\\phi$ to be the _natural scale_ (pg. 264) which is the unique solution of $L\\phi=\\frac{1}{2}a(x)\\phi''+b(x)\\phi'=0$.\n",
      "- We define  $\\psi=\\frac{d\\phi}{dx}=\\phi'$ so that $\\frac{1}{2}a(x) \\psi' + b(x) \\psi = 0 \\Rightarrow \\psi' = \\frac{-2b(x)}{a(x)} \\Rightarrow \\psi = exp(\\int^y{\\frac{-2b(z)}{a(z)} dz})$ and $\\phi(x) = \\int^x{\\psi(y) dt}$."
     ]
    },
    {
     "cell_type": "markdown",
     "metadata": {},
     "source": [
      "So, we have\n",
      "$$\n",
      "\\psi(x) = exp(\\int^x{\\frac{-2b(y)}{a(y)} dy}) = \\\\\\\\\n",
      "exp(\\int^x{-2\\frac{ 2Ns y (1-y) + 2N\\mu_1 (1-y) - 2N\\mu_2 y}{y(1-y)} dy}) = \\\\\\\\\n",
      "exp(\\int^x{-4N (s + \\frac{\\mu_1}{y} - \\frac{\\mu_2 }{1-y}) dy}) = \\\\\\\\\n",
      "exp(\\int^x{-4Ns dy}) exp(\\int^x{-4N (\\frac{\\mu_1}{y} - \\frac{\\mu_2 }{1-y}) dy}) = \\\\\\\\\n",
      "exp(\\int^x{-4Ns dy}) exp(\\int^x{-4N (\\frac{\\mu_1}{y} - \\frac{\\mu_2 }{1-y}) dy}) \\Rightarrow \\\\\\\\\n",
      "\\psi(x) = e^{-4Nsx} x^{-4N\\mu_1}(1-x)^{-4N\\mu_2}\n",
      "$$"
     ]
    },
    {
     "cell_type": "markdown",
     "metadata": {},
     "source": [
      "In the last transition we don't care about the sign of $1-x$ because of the even power.\n",
      "\n",
      "And now:\n",
      "$$\n",
      "\\phi(x) = \\int_{1/2}^{x}{e^{-4Nsy} y^{-4N\\mu_1} (1-y)^{-4N\\mu_2} dy}\n",
      "$$"
     ]
    },
    {
     "cell_type": "code",
     "collapsed": false,
     "input": [
      "psi = lambda x: exp(-4.0*N*s*x) * pow(x,-4.0*N*u1) * pow(1-x,-4.0*N*u2)\n",
      "psi(0.5)"
     ],
     "language": "python",
     "metadata": {},
     "outputs": [
      {
       "metadata": {},
       "output_type": "pyout",
       "prompt_number": 6,
       "text": [
        "1.9395737808825123e-05"
       ]
      }
     ],
     "prompt_number": 6
    },
    {
     "cell_type": "code",
     "collapsed": false,
     "input": [
      "from scipy.integrate import quad\n",
      "phi = lambda x: quad(psi,0.5,x)[0]"
     ],
     "language": "python",
     "metadata": {},
     "outputs": [],
     "prompt_number": 7
    },
    {
     "cell_type": "code",
     "collapsed": false,
     "input": [
      "print r\"beta_1\", 2.0*N*u1\n",
      "print r\"beta_2\", 2.0*N*u2"
     ],
     "language": "python",
     "metadata": {},
     "outputs": [
      {
       "output_type": "stream",
       "stream": "stdout",
       "text": [
        "beta_1 0.6\n",
        "beta_2 6.0\n"
       ]
      }
     ],
     "prompt_number": 8
    },
    {
     "cell_type": "code",
     "collapsed": false,
     "input": [
      "# start at x and get to z before y\n",
      "P = lambda x,z,y: (phi(x)-phi(y))/(phi(z)-phi(y))"
     ],
     "language": "python",
     "metadata": {},
     "outputs": [],
     "prompt_number": 9
    },
    {
     "cell_type": "code",
     "collapsed": false,
     "input": [
      "print \"P(0.51,0.49) =\",P(0.5, 0.51, 0.49)\n",
      "print \"P(0.49,0.51) =\",P(0.5, 0.49, 0.51)"
     ],
     "language": "python",
     "metadata": {},
     "outputs": [
      {
       "output_type": "stream",
       "stream": "stdout",
       "text": [
        "P(0.51,0.49) = 0.545887146152\n",
        "P(0.49,0.51) = 0.454112853848\n"
       ]
      }
     ],
     "prompt_number": 10
    },
    {
     "cell_type": "code",
     "collapsed": false,
     "input": [
      "x = linspace(0.01,0.99,100)\n",
      "y = [P(0.5,xx,1-xx) for xx in x]"
     ],
     "language": "python",
     "metadata": {},
     "outputs": [],
     "prompt_number": 11
    },
    {
     "cell_type": "code",
     "collapsed": false,
     "input": [
      "plot(x,y)\n",
      "ylabel('Probability of hitting\\nFreq(A) before 1-Freq(A)')\n",
      "xlabel('Freq(A)')\n",
      "text(-0.1,-0.15,\"Extinction\");\n",
      "text(1,-0.15,\"Fixation\");"
     ],
     "language": "python",
     "metadata": {},
     "outputs": [
      {
       "metadata": {},
       "output_type": "display_data",
       "png": "[encoded data removed]",
       "text": [
        "<matplotlib.figure.Figure at 0x8a913c8>"
       ]
      }
     ],
     "prompt_number": 12
    },
    {
     "cell_type": "code",
     "collapsed": false,
     "input": [],
     "language": "python",
     "metadata": {},
     "outputs": []
    },
    {
     "cell_type": "code",
     "collapsed": false,
     "input": [
      "from sympy import *\n",
      "from sympy.interactive import printing\n",
      "printing.init_printing()"
     ],
     "language": "python",
     "metadata": {},
     "outputs": [],
     "prompt_number": 19
    },
    {
     "cell_type": "code",
     "collapsed": false,
     "input": [
      "N,s,y,x,u1,u2=symbols(\"N s y x u1 u2\")"
     ],
     "language": "python",
     "metadata": {},
     "outputs": [],
     "prompt_number": 28
    },
    {
     "cell_type": "code",
     "collapsed": false,
     "input": [
      "integrate(-4*N*s,(y,0,x))"
     ],
     "language": "python",
     "metadata": {},
     "outputs": [
      {
       "latex": [
        "$$- 4 N s x$$"
       ],
       "metadata": {},
       "output_type": "pyout",
       "png": "[encoded data removed]",
       "prompt_number": 29,
       "text": [
        "-4\u22c5N\u22c5s\u22c5x"
       ]
      }
     ],
     "prompt_number": 29
    },
    {
     "cell_type": "code",
     "collapsed": false,
     "input": [
      "simplify(integrate(-u1/y + u2/(1-y),(y,0,x)))"
     ],
     "language": "python",
     "metadata": {},
     "outputs": [
      {
       "latex": [
        "$$\\tilde{\\infty} u_{1} - u_{1} \\log{\\left (x \\right )} - u_{2} \\log{\\left (x - 1 \\right )} + i \\pi u_{2}$$"
       ],
       "metadata": {},
       "output_type": "pyout",
       "png": "[encoded data removed]",
       "prompt_number": 32,
       "text": [
        "zoo\u22c5u\u2081 - u\u2081\u22c5log(x) - u\u2082\u22c5log(x - 1) + \u2148\u22c5\u03c0\u22c5u\u2082"
       ]
      }
     ],
     "prompt_number": 32
    },
    {
     "cell_type": "code",
     "collapsed": false,
     "input": [],
     "language": "python",
     "metadata": {},
     "outputs": []
    }
   ],
   "metadata": {}
  }
 ]
}