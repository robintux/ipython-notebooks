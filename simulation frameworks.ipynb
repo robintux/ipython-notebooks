{
 "metadata": {
  "name": "simulation frameworks"
 },
 "nbformat": 3,
 "nbformat_minor": 0,
 "worksheets": [
  {
   "cells": [
    {
     "cell_type": "heading",
     "level": 1,
     "metadata": {
      "slideshow": {
       "slide_type": "slide"
      }
     },
     "source": [
      "Comparing different approaches to evolutionary simulations"
     ]
    },
    {
     "cell_type": "code",
     "collapsed": false,
     "input": [
      "cd D:\\\\workspace\\\\ipython-notebooks"
     ],
     "language": "python",
     "metadata": {
      "slideshow": {
       "slide_type": "skip"
      }
     },
     "outputs": [
      {
       "output_type": "stream",
       "stream": "stdout",
       "text": [
        "D:\\workspace\\ipython-notebooks\n"
       ]
      }
     ],
     "prompt_number": 1
    },
    {
     "cell_type": "code",
     "collapsed": false,
     "input": [
      "%run simulation_frameworks_aux.py"
     ],
     "language": "python",
     "metadata": {
      "slideshow": {
       "slide_type": "skip"
      }
     },
     "outputs": [],
     "prompt_number": 2
    },
    {
     "cell_type": "heading",
     "level": 2,
     "metadata": {},
     "source": [
      "Yoav Ram"
     ]
    },
    {
     "cell_type": "heading",
     "level": 2,
     "metadata": {},
     "source": [
      "4 Feb 2013"
     ]
    },
    {
     "cell_type": "markdown",
     "metadata": {},
     "source": [
      "[yoavram@post.tau.ac.il](mailto:yoavram@post.tau.ac.il)\n",
      "\n",
      "<http://www.yoavram.com/>"
     ]
    },
    {
     "cell_type": "heading",
     "level": 1,
     "metadata": {
      "slideshow": {
       "slide_type": "slide"
      }
     },
     "source": [
      "Moran vs. Wright-Fisher"
     ]
    },
    {
     "cell_type": "heading",
     "level": 2,
     "metadata": {
      "slideshow": {
       "slide_type": "slide"
      }
     },
     "source": [
      "Moran process"
     ]
    },
    {
     "cell_type": "markdown",
     "metadata": {
      "slideshow": {
       "slide_type": "-"
      }
     },
     "source": [
      "The simplest approach to model the change in frequency of alleles (i.e., evolution) is described by the Moran process, which can be explained as a type of a ball and urn game.\n",
      "\n",
      "*There is an urn with yellow blue balls. At each turn we draw two balls from the urn. The one in our right hand we replace by two balls of the same color, and the one in our left hand we discard*. \n",
      "\n",
      "Of course, in half of the cases the number of balls of each color doesn't change (when we draw two balls of the same color) and therefore we focus on cases in which we draw two different balls. The game can be rephrased as *we draw a ball, replace it by two balls of the same color, and discard a ball of the opposite color*. \n",
      "\n",
      "The game ends when all balls are of the same color."
     ]
    },
    {
     "cell_type": "markdown",
     "metadata": {
      "slideshow": {
       "slide_type": "subslide"
      }
     },
     "source": [
      "Denoting the number of yellow balls by *x* and the number of blue balls by *y* we can write a code for this game."
     ]
    },
    {
     "cell_type": "code",
     "collapsed": false,
     "input": [
      "def moran_draw(x, y):\n",
      "    r = randint(1, x + y + 1)\n",
      "    if r <= x:\n",
      "        return x + 1, y - 1\n",
      "    else:\n",
      "        return x - 1, y + 1"
     ],
     "language": "python",
     "metadata": {
      "slideshow": {
       "slide_type": "fragment"
      }
     },
     "outputs": [],
     "prompt_number": 1
    },
    {
     "cell_type": "code",
     "collapsed": false,
     "input": [
      "def game(x, y, draw):\n",
      "    count = 0\n",
      "    while x != 0 and y != 0:\n",
      "        x, y = draw(x, y)\n",
      "        count += 1\n",
      "    return y == 0, count"
     ],
     "language": "python",
     "metadata": {
      "slideshow": {
       "slide_type": "fragment"
      }
     },
     "outputs": [],
     "prompt_number": 2
    },
    {
     "cell_type": "markdown",
     "metadata": {
      "slideshow": {
       "slide_type": "subslide"
      }
     },
     "source": [
      "We can run this game multiple times to check, for example, how the number of draws required to finish the game are distributed:"
     ]
    },
    {
     "cell_type": "code",
     "collapsed": false,
     "input": [
      "def repeat(x, y, repeats, draw):\n",
      "    return [game(x, y, draw)[1] for _ in range(repeats)]"
     ],
     "language": "python",
     "metadata": {
      "slideshow": {
       "slide_type": "fragment"
      }
     },
     "outputs": [],
     "prompt_number": 3
    },
    {
     "cell_type": "code",
     "collapsed": false,
     "input": [
      "num_balls = [10, 50, 100, 200, 500, 800, 1000, 1250, 1400, 1500]\n",
      "\n",
      "def run_and_summarize(draw, n_repeats=100):\n",
      "    results = array([repeat(n, n, n_repeats, draw) for n in num_balls])\n",
      "    means = results.mean(axis=1)\n",
      "    stds = results.std(axis=1)\n",
      "    return results, means, stds\n",
      "moran_results, moran_means, moran_stds = run_and_summarize(moran_draw)"
     ],
     "language": "python",
     "metadata": {
      "slideshow": {
       "slide_type": "fragment"
      }
     },
     "outputs": [],
     "prompt_number": 4
    },
    {
     "cell_type": "code",
     "collapsed": false,
     "input": [
      "plot_summary(num_balls, moran_means, moran_stds, game_name=\"Moran process\")"
     ],
     "language": "python",
     "metadata": {
      "slideshow": {
       "slide_type": "subslide"
      }
     },
     "outputs": [
      {
       "output_type": "display_data",
       "png": "[encoded data removed]",
       "text": [
        "<matplotlib.figure.Figure at 0x7262da0>"
       ]
      }
     ],
     "prompt_number": 6
    },
    {
     "cell_type": "code",
     "collapsed": false,
     "input": [
      "plot_histograms(moran_results, num_balls, game_name=\"Moran process\")"
     ],
     "language": "python",
     "metadata": {
      "slideshow": {
       "slide_type": "subslide"
      }
     },
     "outputs": [
      {
       "output_type": "display_data",
       "png": "[encoded data removed]",
       "text": [
        "<matplotlib.figure.Figure at 0x7471518>"
       ]
      }
     ],
     "prompt_number": 7
    },
    {
     "cell_type": "heading",
     "level": 3,
     "metadata": {
      "slideshow": {
       "slide_type": "subslide"
      }
     },
     "source": [
      "Markov Chain"
     ]
    },
    {
     "cell_type": "markdown",
     "metadata": {
      "slideshow": {
       "slide_type": "-"
      }
     },
     "source": [
      "A moran process can be described by a Markov chain. Denote the total number of balls by $n$ and use this probability matrix (for n=2):\n",
      "\n",
      "\\begin{array}{ccc}\n",
      "1 & 0.5 & 0 \\\\\\\n",
      "0 & 0 & 0 \\\\\\\n",
      "0 & 0.5 & 1 \\\\\\\n",
      "\\end{array} \n",
      "\n",
      "in which $A_{i,j}$ is the probablity to transition from *j* yellow balls to *i* yellow balls where there is a total of *n=2* balls in the game."
     ]
    },
    {
     "cell_type": "heading",
     "level": 3,
     "metadata": {
      "slideshow": {
       "slide_type": "subslide"
      }
     },
     "source": [
      "Evolutionary model"
     ]
    },
    {
     "cell_type": "markdown",
     "metadata": {
      "slideshow": {
       "slide_type": "-"
      }
     },
     "source": [
      "From an evolutionary perspective, this setup models **genetic drift**, but it can be expanded is much the same way to include **mutation** and **selection** (although adding selection will disrupt the linearity of the above model), and even recombination in a multi-locous model."
     ]
    },
    {
     "cell_type": "heading",
     "level": 2,
     "metadata": {
      "slideshow": {
       "slide_type": "slide"
      }
     },
     "source": [
      "Wright-Fisher process"
     ]
    },
    {
     "cell_type": "markdown",
     "metadata": {
      "slideshow": {
       "slide_type": "-"
      }
     },
     "source": [
      "In the Wirght-Fisher (WF) process, we replace the entire contents of the urn at each step of the game, drawing the next generation of balls from the current urn *with replacement*.\n",
      "\n",
      "At first, this sounds the same as the Moran process if we zoom out and look at a generation as *n* draws, where *n* is the total number of balls. But in effect the processes are different, because in the WF process the draws within the generation are *independent*, but in the Moran process they are not. This leads to stronger **drift** and faster extinctions in the Moran process, as we will soon see."
     ]
    },
    {
     "cell_type": "markdown",
     "metadata": {
      "slideshow": {
       "slide_type": "subslide"
      }
     },
     "source": [
      "The WF process can be modeled by using a *binomial random function* (or a *multinomial*, if there are multiple types/loci):"
     ]
    },
    {
     "cell_type": "code",
     "collapsed": false,
     "input": [
      "def wf_draw(x, y):\n",
      "    n = x + y\n",
      "    x = binomial(n, x / float(n))\n",
      "    y = n - x\n",
      "    return x, y"
     ],
     "language": "python",
     "metadata": {
      "slideshow": {
       "slide_type": "fragment"
      }
     },
     "outputs": [],
     "prompt_number": 8
    },
    {
     "cell_type": "markdown",
     "metadata": {
      "slideshow": {
       "slide_type": "fragment"
      }
     },
     "source": [
      "Note that we only changed the drawing function, but now a draw is a whole generation, whereas in the Moran process it was a single reproduction and death step, so that a generation was regarded as *n* draws, where *n* is the total number of balls. "
     ]
    },
    {
     "cell_type": "code",
     "collapsed": false,
     "input": [
      "wf_results, wf_means, wf_stds = run_and_summarize(wf_draw)\n",
      "plot_summary(num_balls, wf_means, wf_stds, \"Wright-Fisher process\")"
     ],
     "language": "python",
     "metadata": {
      "slideshow": {
       "slide_type": "subslide"
      }
     },
     "outputs": [
      {
       "output_type": "display_data",
       "png": "[encoded data removed]",
       "text": [
        "<matplotlib.figure.Figure at 0x7a387b8>"
       ]
      }
     ],
     "prompt_number": 9
    },
    {
     "cell_type": "markdown",
     "metadata": {
      "slideshow": {
       "slide_type": "fragment"
      }
     },
     "source": [
      "Note that the time scales (on the y-axis) are different from those of the Moran process - **TODO**"
     ]
    },
    {
     "cell_type": "code",
     "collapsed": false,
     "input": [
      "plot_histograms(wf_results, num_balls)"
     ],
     "language": "python",
     "metadata": {
      "slideshow": {
       "slide_type": "subslide"
      }
     },
     "outputs": [
      {
       "output_type": "display_data",
       "png": "[encoded data removed]",
       "text": [
        "<matplotlib.figure.Figure at 0x89257f0>"
       ]
      }
     ],
     "prompt_number": 10
    },
    {
     "cell_type": "heading",
     "level": 3,
     "metadata": {
      "slideshow": {
       "slide_type": "subslide"
      }
     },
     "source": [
      "Evolutionary model"
     ]
    },
    {
     "cell_type": "markdown",
     "metadata": {
      "slideshow": {
       "slide_type": "-"
      }
     },
     "source": [
      "The WF model can also be extended to include selection, mutation and recombination."
     ]
    },
    {
     "cell_type": "heading",
     "level": 2,
     "metadata": {
      "slideshow": {
       "slide_type": "slide"
      }
     },
     "source": [
      "Computational comparison"
     ]
    },
    {
     "cell_type": "markdown",
     "metadata": {
      "slideshow": {
       "slide_type": "-"
      }
     },
     "source": [
      "In the WF model we use one random function call per generation, whereas in the Moran process we use *n* calls, where *n* is the total number of balls.\n",
      "On the other hand, the Moran process tends to finish in a smaller number of generations because **drift** is stronger.\n",
      "I therefore compare the running time of both processes for a small population and a large one:"
     ]
    },
    {
     "cell_type": "code",
     "collapsed": false,
     "input": [
      "%timeit game(100, 100, moran_draw)\n",
      "%timeit game(100, 100, wf_draw)"
     ],
     "language": "python",
     "metadata": {
      "slideshow": {
       "slide_type": "fragment"
      }
     },
     "outputs": [
      {
       "output_type": "stream",
       "stream": "stdout",
       "text": [
        "1000 loops, best of 3: 631 us per loop\n",
        "1000 loops, best of 3: 790 us per loop"
       ]
      },
      {
       "output_type": "stream",
       "stream": "stdout",
       "text": [
        "\n"
       ]
      }
     ],
     "prompt_number": 15
    },
    {
     "cell_type": "code",
     "collapsed": false,
     "input": [
      "%timeit game(10**6, 10**6, moran_draw)\n",
      "%timeit game(10**6, 10**6, wf_draw)"
     ],
     "language": "python",
     "metadata": {
      "slideshow": {
       "slide_type": "fragment"
      }
     },
     "outputs": [
      {
       "output_type": "stream",
       "stream": "stdout",
       "text": [
        "1 loops, best of 3: 10.7 s per loop\n",
        "1 loops, best of 3: 559 ms per loop"
       ]
      },
      {
       "output_type": "stream",
       "stream": "stdout",
       "text": [
        "\n"
       ]
      }
     ],
     "prompt_number": 16
    },
    {
     "cell_type": "markdown",
     "metadata": {
      "slideshow": {
       "slide_type": "subslide"
      }
     },
     "source": [
      "For the small population the Moran process was slightly faster.\n",
      "For the large population, the WF model was significantly faster.\n",
      "\n",
      "So if I were to require 25,000 games to produce a good dataset for a research project, the Moran process would take "
     ]
    },
    {
     "cell_type": "code",
     "collapsed": false,
     "input": [
      "print \"%.2f seconds for a small population\" % (25000*631.0*10**-6)\n",
      "print \"%.2f days for a large population\" % (25000*10.7/(24*60*60))"
     ],
     "language": "python",
     "metadata": {
      "slideshow": {
       "slide_type": "-"
      }
     },
     "outputs": [
      {
       "output_type": "stream",
       "stream": "stdout",
       "text": [
        "15.77 seconds for a small population\n",
        "3.10 days for a large population\n"
       ]
      }
     ],
     "prompt_number": 17
    },
    {
     "cell_type": "markdown",
     "metadata": {
      "slideshow": {
       "slide_type": "-"
      }
     },
     "source": [
      "and the WF process would take"
     ]
    },
    {
     "cell_type": "code",
     "collapsed": false,
     "input": [
      "print \"%.2f seconds for a small population\" % (25000*790.0*10**-6)\n",
      "print \"%.2f hours for a large population\" % (25000*0.559/(60*60))"
     ],
     "language": "python",
     "metadata": {
      "slideshow": {
       "slide_type": "-"
      }
     },
     "outputs": [
      {
       "output_type": "stream",
       "stream": "stdout",
       "text": [
        "19.75 seconds for a small population\n",
        "3.88 hours for a large population\n"
       ]
      }
     ],
     "prompt_number": 18
    },
    {
     "cell_type": "heading",
     "level": 1,
     "metadata": {
      "slideshow": {
       "slide_type": "slide"
      }
     },
     "source": [
      "Individual-based vs. Density-based simulation"
     ]
    },
    {
     "cell_type": "heading",
     "level": 2,
     "metadata": {
      "slideshow": {
       "slide_type": "slide"
      }
     },
     "source": [
      "Individual-based simulation"
     ]
    },
    {
     "cell_type": "markdown",
     "metadata": {
      "slideshow": {
       "slide_type": "-"
      }
     },
     "source": [
      "In individual-based simulations (also called *agent-based simulations*) all the attributes of every individual, such as fitness, genome and modifiers, are explicitly modeled.\n",
      "\n",
      "To illustrate an example of an individual-based simulation, the following code implements a *Wright-Fisher process* with drift, selection and mutation. The genome is represented by the number of mutations accumulated, and all mutations are deleterious with a constant effect on fitness. \n",
      "\n",
      "We start from a mutation-free constant size population and proceed for a pre-defined number of generations, *en route* to a mutation-selection balance in which the mean number of deleterious mutations in the population is stable around $\\mu/s$, where $\\mu$ is the mutation rate and $s$ is the selection coefficient."
     ]
    },
    {
     "cell_type": "code",
     "collapsed": false,
     "input": [
      "class Organism:\n",
      "    def __init__(self, mutations, mutation_rate, selection_cofficient):\n",
      "        self.mutations = mutations\n",
      "        self.mutation_rate = mutation_rate\n",
      "        self.selection_cofficient = selection_cofficient\n",
      "        self.fitness = self._fitness()\n",
      "    \n",
      "    def reproduce(self):\n",
      "        child = Organism(self.mutations, self.mutation_rate, self.selection_cofficient)\n",
      "        child.mutations += poisson(self.mutation_rate)\n",
      "        child.fitness = self._fitness()\n",
      "        return child\n",
      "\n",
      "    def _fitness(self):\n",
      "        return (1 - self.selection_cofficient) ** self.mutations\n",
      "    \n",
      "    def __repr__(self):\n",
      "        return \"*\"+str(self.mutations)"
     ],
     "language": "python",
     "metadata": {
      "slideshow": {
       "slide_type": "subslide"
      }
     },
     "outputs": [],
     "prompt_number": 5
    },
    {
     "cell_type": "code",
     "collapsed": false,
     "input": [
      "import random\n",
      "\n",
      "def selection_mutation_IBS(population):\n",
      "    fitness = array([o.fitness for o in population])\n",
      "    fitness = fitness/fitness.sum()\n",
      "    count = multinomial(len(population), fitness)\n",
      "    i = 0\n",
      "    for o,n in zip(population, count):\n",
      "         while n > 0:\n",
      "                population[i] = o.reproduce()\n",
      "                n -= 1\n",
      "                i += 1\n",
      "    return population\n",
      "\n",
      "def drift_IBS(population):\n",
      "    return random.sample(population, len(population))"
     ],
     "language": "python",
     "metadata": {
      "slideshow": {
       "slide_type": "subslide"
      }
     },
     "outputs": [],
     "prompt_number": 6
    },
    {
     "cell_type": "code",
     "collapsed": false,
     "input": [
      "def mutation_selection_balance_IBS(ticks, population_size, mutation_rate, selection_coefficient):\n",
      "    population = [Organism(0, mutation_rate, selection_coefficient) for i in range(population_size)]\n",
      "    mutation_load = [None] * ticks\n",
      "    for t in range(ticks):\n",
      "        population = drift_IBS(population)\n",
      "        population = selection_mutation_IBS(population)\n",
      "        mutation_load[t] = mean([o.mutations for o in population])\n",
      "    return population, mutation_load"
     ],
     "language": "python",
     "metadata": {
      "slideshow": {
       "slide_type": "subslide"
      }
     },
     "outputs": [],
     "prompt_number": 7
    },
    {
     "cell_type": "code",
     "collapsed": false,
     "input": [
      "generations, population_size, mu, s = 100, 10**5, 0.003, 0.1\n",
      "population_IBS, mutation_load_IBS = mutation_selection_balance_IBS(generations, population_size, mu, s)"
     ],
     "language": "python",
     "metadata": {
      "slideshow": {
       "slide_type": "subslide"
      }
     },
     "outputs": []
    },
    {
     "cell_type": "code",
     "collapsed": false,
     "input": [
      "plot_mutation_load(mutation_load_IBS, mu, s, \"Individual-based simulation\")"
     ],
     "language": "python",
     "metadata": {
      "slideshow": {
       "slide_type": "-"
      }
     },
     "outputs": [
      {
       "output_type": "display_data",
       "png": "[encoded data removed]",
       "text": [
        "<matplotlib.figure.Figure at 0xc9727f0>"
       ]
      }
     ],
     "prompt_number": 54
    },
    {
     "cell_type": "heading",
     "level": 2,
     "metadata": {
      "slideshow": {
       "slide_type": "slide"
      }
     },
     "source": [
      "Density-based simulation"
     ]
    },
    {
     "cell_type": "markdown",
     "metadata": {
      "slideshow": {
       "slide_type": "-"
      }
     },
     "source": [
      "In a density-based simulation (and also in *frequency-based simulations*, which are only slightly different) the population is divided into **types** or **classes** of individuals that share the same set of attributes (alleles, modifiers, etc.). Then, these types are explicitly modeled, and the individuals are only implicitly modeled via the types they belong to.\n",
      "\n",
      "This framework is very efficient because it allows the use of general algorithms, such as mutlinomial random number sampling."
     ]
    },
    {
     "cell_type": "markdown",
     "metadata": {
      "slideshow": {
       "slide_type": "subslide"
      }
     },
     "source": [
      "Here is the code for a density-based simulation based on the same assumptions as the individual-based simulation above:"
     ]
    },
    {
     "cell_type": "code",
     "collapsed": false,
     "input": [
      "def selection_DBS(population, population_size, selection_coefficient):\n",
      "    fitness = array([(1 - selection_coefficient) ** i for i in range(len(population))]) * population \n",
      "    fitness = fitness/fitness.sum()\n",
      "    return multinomial(population_size, fitness)\n",
      "\n",
      "def drift_DBS(population, population_size):\n",
      "    population = population/float(population.sum())\n",
      "    return multinomial(population_size, population)      \n",
      "\n",
      "def mutation_DBS(population, mutation_rate):\n",
      "    mutations = poisson(mutation_rate * population)\n",
      "    population[:-1] = population[:-1] - mutations[:-1]\n",
      "    population[1:] = population[1:] + mutations[:-1]\n",
      "    return population"
     ],
     "language": "python",
     "metadata": {
      "slideshow": {
       "slide_type": "fragment"
      }
     },
     "outputs": [],
     "prompt_number": 10
    },
    {
     "cell_type": "code",
     "collapsed": false,
     "input": [
      "def mutation_selection_balance_DBS(ticks, population_size, max_num_mutations, mutation_rate, selection_coefficient):\n",
      "    population = array([0] * max_num_mutations)\n",
      "    population[0] = population_size\n",
      "    mutation_load = [None] * ticks\n",
      "    for t in range(ticks):\n",
      "        population = drift_DBS(population, population_size)\n",
      "        population = selection_DBS(population, population_size, selection_coefficient)\n",
      "        population = mutation_DBS(population, mutation_rate)\n",
      "        mutation_load[t] = sum([i * x for i,x in enumerate(population) if x > 0])/float(population.sum())\n",
      "    return population, mutation_load"
     ],
     "language": "python",
     "metadata": {
      "slideshow": {
       "slide_type": "subslide"
      }
     },
     "outputs": [],
     "prompt_number": 11
    },
    {
     "cell_type": "code",
     "collapsed": false,
     "input": [
      "population_DBS, mutation_load_DBS = mutation_selection_balance_DBS(generations, population_size, 100, mu, s)"
     ],
     "language": "python",
     "metadata": {
      "slideshow": {
       "slide_type": "subslide"
      }
     },
     "outputs": []
    },
    {
     "cell_type": "code",
     "collapsed": false,
     "input": [
      "plot_mutation_load(mutation_load_DBS, mu, s, \"Density-based simulation\")"
     ],
     "language": "python",
     "metadata": {
      "slideshow": {
       "slide_type": "-"
      }
     },
     "outputs": [
      {
       "output_type": "display_data",
       "png": "[encoded data removed]",
       "text": [
        "<matplotlib.figure.Figure at 0x724d4a8>"
       ]
      }
     ],
     "prompt_number": 55
    },
    {
     "cell_type": "heading",
     "level": 2,
     "metadata": {
      "slideshow": {
       "slide_type": "slide"
      }
     },
     "source": [
      "Computational comparison"
     ]
    },
    {
     "cell_type": "heading",
     "level": 3,
     "metadata": {
      "slideshow": {
       "slide_type": "subslide"
      }
     },
     "source": [
      "Running time"
     ]
    },
    {
     "cell_type": "markdown",
     "metadata": {
      "slideshow": {
       "slide_type": "-"
      }
     },
     "source": [
      "In individual-based simulations, because each individual is explicitly modeled, it is easier to write and test the simulation code, but it will likely be slow, because at every generation the complexity is *O(n)*, as the simulation code must process each and every individual.\n",
      "\n",
      "In a density-based simulations every type/class of individuals is explicitly modeled, and therefore the code is expected to run much faster, as long as the number of types is smaller than the number of individuals. This is expected to occur when the mutation and recombination rates are low and the population is large (*i.e.*, in asexual populations). This gain in performance is paid by a more complex code which requires a minimal understanding of probability theory.\n",
      "\n",
      "The below performance comparison shows that the density-based simulation is **~3800 times faster!**"
     ]
    },
    {
     "cell_type": "code",
     "collapsed": false,
     "input": [
      "%timeit mutation_selection_balance_IBS(10, population_size, mu, s)\n",
      "%timeit mutation_selection_balance_DBS(10, population_size, 100, mu, s)"
     ],
     "language": "python",
     "metadata": {
      "slideshow": {
       "slide_type": "fragment"
      }
     },
     "outputs": [
      {
       "output_type": "stream",
       "stream": "stdout",
       "text": [
        "1 loops, best of 3: 14.6 s per loop\n",
        "100 loops, best of 3: 3.78 ms per loop"
       ]
      },
      {
       "output_type": "stream",
       "stream": "stdout",
       "text": [
        "\n"
       ]
      }
     ],
     "prompt_number": 14
    },
    {
     "cell_type": "heading",
     "level": 3,
     "metadata": {
      "slideshow": {
       "slide_type": "subslide"
      }
     },
     "source": [
      "Memory use"
     ]
    },
    {
     "cell_type": "markdown",
     "metadata": {
      "slideshow": {
       "slide_type": "-"
      }
     },
     "source": [
      "If the population size is, say, $10^5$ individuals, and each has 1,000 loci in his genome, then the population will occupy ~100 megabytes of memory. If the population size increases to $10^7$, then the population will occupy 10 gigabytes of memory, which is already not feasible on most machines and not efficient when it is feasible."
     ]
    },
    {
     "cell_type": "markdown",
     "metadata": {
      "slideshow": {
       "slide_type": "fragment"
      }
     },
     "source": [
      "The following prints the memory footpring of the individual-based and density-based populations:"
     ]
    },
    {
     "cell_type": "code",
     "collapsed": false,
     "input": [
      "import sys\n",
      "print \"Individual-based population: %d bytes\" % sys.getsizeof(population_IBS)\n",
      "print \"Density-based population: %d bytes\" % sys.getsizeof(population_DBS)"
     ],
     "language": "python",
     "metadata": {
      "slideshow": {
       "slide_type": "fragment"
      }
     },
     "outputs": [
      {
       "output_type": "stream",
       "stream": "stdout",
       "text": [
        "Individual-based population: 800064 bytes\n",
        "Density-based population: 80 bytes\n"
       ]
      }
     ],
     "prompt_number": 40
    },
    {
     "cell_type": "markdown",
     "metadata": {
      "slideshow": {
       "slide_type": "fragment"
      }
     },
     "source": [
      "The individual-based population is **10,000 times larger** than the density-based population."
     ]
    },
    {
     "cell_type": "heading",
     "level": 1,
     "metadata": {
      "slideshow": {
       "slide_type": "slide"
      }
     },
     "source": [
      "Fin"
     ]
    },
    {
     "cell_type": "markdown",
     "metadata": {},
     "source": [
      "This presentation was written using the [IPython notebook](http://ipython.org/ipython-doc/dev/interactive/htmlnotebook.html).\n",
      "\n",
      "The code for this presentation is available on [GitHub](https://github.com/yoavram/ipython-notebooks/blob/master/simulation%20frameworks.ipynb).\n",
      "\n",
      "The presentation can be viewed online on [slideviewer](http://slideviewer.herokuapp.com/urls/raw.github.com/yoavram/ipython-notebooks/master/simulation%2520frameworks.ipynb#/), or you could install the latest versions of IPython (0.14.dev) and [nbconvert](https://github.com/damianavila/nbconvert/commit/59510783f50e8779feb84c1e2d7cc6219dc67e28) - follow this [recipe](https://gist.github.com/4662688).\n",
      "\n",
      "The presentation is published under a a <a rel=\"license\" href=\"http://creativecommons.org/licenses/by-nc-sa/3.0/\">Creative Commons Attribution-NonCommercial-ShareAlike 3.0 Unported License</a>.\n",
      "\n",
      "<a rel=\"license\" href=\"http://creativecommons.org/licenses/by-nc-sa/3.0/\"><img alt=\"Creative Commons License\" style=\"border-width:0\" src=\"http://i.creativecommons.org/l/by-nc-sa/3.0/80x15.png\" /></a>\n",
      "\n"
     ]
    },
    {
     "cell_type": "markdown",
     "metadata": {
      "slideshow": {
       "slide_type": "skip"
      }
     },
     "source": [
      "The following code uses `nbconvert` to knit the notebook to an HTML slideshow and starts it in the browser:"
     ]
    },
    {
     "cell_type": "code",
     "collapsed": false,
     "input": [
      "!python ..\\nbconvert\\nbconvert.py -f reveal \"simulation frameworks.ipynb\""
     ],
     "language": "python",
     "metadata": {
      "slideshow": {
       "slide_type": "skip"
      }
     },
     "outputs": [],
     "prompt_number": 3
    },
    {
     "cell_type": "code",
     "collapsed": false,
     "input": [
      "!\"simulation frameworks_slides.html\""
     ],
     "language": "python",
     "metadata": {
      "slideshow": {
       "slide_type": "skip"
      }
     },
     "outputs": [],
     "prompt_number": 4
    },
    {
     "cell_type": "code",
     "collapsed": false,
     "input": [],
     "language": "python",
     "metadata": {},
     "outputs": []
    }
   ],
   "metadata": {}
  }
 ]
}