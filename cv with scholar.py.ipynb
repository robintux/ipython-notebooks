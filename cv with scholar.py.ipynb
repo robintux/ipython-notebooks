{
 "metadata": {
  "name": ""
 },
 "nbformat": 3,
 "nbformat_minor": 0,
 "worksheets": [
  {
   "cells": [
    {
     "cell_type": "markdown",
     "metadata": {},
     "source": [
      "# Using Google Scholar to create a publication list with citations\n",
      "\n",
      "We start by going to the CV folder:"
     ]
    },
    {
     "cell_type": "code",
     "collapsed": false,
     "input": [
      "cd D:\\workspace\\curriculum-vitae"
     ],
     "language": "python",
     "metadata": {},
     "outputs": [
      {
       "output_type": "stream",
       "stream": "stdout",
       "text": [
        "D:\\workspace\\curriculum-vitae\n"
       ]
      }
     ],
     "prompt_number": 1
    },
    {
     "cell_type": "markdown",
     "metadata": {},
     "source": [
      "Next, import `scholar.py`. The official version is [here](http://www.icir.org/christian/scholar.html), but [my version](https://github.com/yoavram/curriculum-vitae/blob/master/scholar.py) adds journal name parsing (although it can some times produce the wrong journal name)."
     ]
    },
    {
     "cell_type": "code",
     "collapsed": false,
     "input": [
      "import scholar"
     ],
     "language": "python",
     "metadata": {},
     "outputs": [],
     "prompt_number": 3
    },
    {
     "cell_type": "markdown",
     "metadata": {},
     "source": [
      "We now query Google Scholar for the author and number of articles, and remove the silly \"Related artciles\" article: "
     ]
    },
    {
     "cell_type": "code",
     "collapsed": false,
     "input": [
      "querier = scholar.ScholarQuerier(author='\"Yoav Ram\"', count=10)\n",
      "querier.query('')"
     ],
     "language": "python",
     "metadata": {},
     "outputs": [],
     "prompt_number": 64
    },
    {
     "cell_type": "code",
     "collapsed": false,
     "input": [
      "for a in querier.articles:\n",
      "    if a.attrs['title'][0] == 'Related articles':\n",
      "        querier.articles.remove(a)\n",
      "        break"
     ],
     "language": "python",
     "metadata": {},
     "outputs": [],
     "prompt_number": 36
    },
    {
     "cell_type": "markdown",
     "metadata": {},
     "source": [
      "This is how it looks:"
     ]
    },
    {
     "cell_type": "code",
     "collapsed": false,
     "input": [
      "for a in querier.articles:\n",
      "    print a.as_txt()"
     ],
     "language": "python",
     "metadata": {},
     "outputs": [
      {
       "output_type": "stream",
       "stream": "stdout",
       "text": [
        "         Title THE EVOLUTION OF STRESS\u2010INDUCED HYPERMUTATION IN ASEXUAL POPULATIONS\n",
        "           URL http://onlinelibrary.wiley.com/doi/10.1111/j.1558-5646.2012.01576.x/full\n",
        "     Citations 6\n",
        "      Versions 4\n",
        "Citations list http://scholar.google.com/scholar?cites=17476026125212859334&as_sdt=2005&sciodt=1,5&hl=en\n",
        " Versions list http://scholar.google.com/scholar?cluster=17476026125212859334&hl=en&as_sdt=1,5\n",
        "          Year 2012\n",
        "       journal Evolution\n",
        "         Title Dispersing away from bad genotypes: the evolution of Fitness-Associated Dispersal (FAD) in homogeneous environments\n",
        "           URL http://www.biomedcentral.com/1471-2148/13/125/\n",
        "     Citations 0\n",
        "      Versions 3\n",
        "Citations list None\n",
        " Versions list http://scholar.google.com/scholar?cluster=7281871095538341598&hl=en&as_sdt=1,5\n",
        "          Year 2013\n",
        "       journal BMC Evolutionary Biology\n"
       ]
      }
     ],
     "prompt_number": 37
    },
    {
     "cell_type": "markdown",
     "metadata": {},
     "source": [
      "Next up, load a CV written in [markdown](http://daringfireball.net/projects/markdown/) and [http://jinja.pocoo.org/docs/Jinja2 template](http://jinja.pocoo.org/docs/) on top of it. Briefly, _markdown_ is a nice and easy markup language and _Jinja2_ allows to add put simple python expressions into text and then insert data to produce text. It is extensively used in web applications.\n",
      "\n",
      "This is [the template](https://github.com/yoavram/curriculum-vitae/blob/master/curriculum-vitae.md.jinja):"
     ]
    },
    {
     "cell_type": "code",
     "collapsed": false,
     "input": [
      "with open(\"curriculum-vitae.md.jinja\") as f:\n",
      "    template = f.read()"
     ],
     "language": "python",
     "metadata": {},
     "outputs": [],
     "prompt_number": 66
    },
    {
     "cell_type": "code",
     "collapsed": false,
     "input": [
      "print template"
     ],
     "language": "python",
     "metadata": {},
     "outputs": [
      {
       "output_type": "stream",
       "stream": "stdout",
       "text": [
        "## Personal Information\n",
        "\n",
        "Name\n",
        "  ~ Yoav Ram\n",
        "Phone\n",
        "  ~ +972-54-5383136\n",
        "Email\n",
        "  ~ yoavram@post.tau.ac.il\n",
        "Website\n",
        "  ~ [www.yoavram.com](http://www.yoavram.com/)\n",
        "Blog\n",
        "  ~ [blog.yoavram.com](http://blog.yoavram.com/)\n",
        "\n",
        "## Education\n",
        "\n",
        "*   **Ph.D.** 2010 - Ongoing\n",
        "\n",
        "    Evolutionary Theory Lab, Tel-Aviv University\n",
        "\n",
        "    -   Advisor: Dr. Lilach Hadany\n",
        "    -   Ph.D. proposal title: *The Evolution of Stress-Induced Hypermutation: Causes and Consequences* (approved May 2012)\n",
        "\n",
        "*   **M.Sc.** 2010-2012 (direct Ph.D. track)\n",
        "\n",
        "    Theoretical and Computational Biology, Tel-Aviv University\n",
        "\n",
        "*   **B.Sc.** 2007-2010\n",
        "\n",
        "    Life-Sciences and Mathematics, *Cum laude*, Tel-Aviv University\n",
        "\n",
        "## Publications\n",
        "\n",
        "{% for p in articles %}\n",
        "*   [{{ p.attrs['title'][0] }}]({{ p.attrs['url'][0] }}), {{ p.attrs['journal'][0] }} {{ p.attrs['year'][0] }} {% if p.attrs['num_citations'][0] > 0 %}, [{{ p.attrs['num_citations'][0] }} citations]({{ p.attrs['url_citations'][0] }}) {% endif %}\n",
        "{% endfor %}\n"
       ]
      }
     ],
     "prompt_number": 67
    },
    {
     "cell_type": "markdown",
     "metadata": {},
     "source": [
      "We compile the text to the template object, insert the articles from scholar, and then render the template to text:"
     ]
    },
    {
     "cell_type": "code",
     "collapsed": false,
     "input": [
      "compiled = jinja2.Template(template)"
     ],
     "language": "python",
     "metadata": {},
     "outputs": [],
     "prompt_number": 68
    },
    {
     "cell_type": "code",
     "collapsed": false,
     "input": [
      "rendered = compiled.render(articles = querier.articles)"
     ],
     "language": "python",
     "metadata": {},
     "outputs": [],
     "prompt_number": 69
    },
    {
     "cell_type": "markdown",
     "metadata": {},
     "source": [
      "The rendered version in _markdown_:"
     ]
    },
    {
     "cell_type": "code",
     "collapsed": false,
     "input": [
      "print rendered"
     ],
     "language": "python",
     "metadata": {},
     "outputs": [
      {
       "output_type": "stream",
       "stream": "stdout",
       "text": [
        "## Personal Information\n",
        "\n",
        "Name\n",
        "  ~ Yoav Ram\n",
        "Phone\n",
        "  ~ +972-54-5383136\n",
        "Email\n",
        "  ~ yoavram@post.tau.ac.il\n",
        "Website\n",
        "  ~ [www.yoavram.com](http://www.yoavram.com/)\n",
        "Blog\n",
        "  ~ [blog.yoavram.com](http://blog.yoavram.com/)\n",
        "\n",
        "## Education\n",
        "\n",
        "*   **Ph.D.** 2010 - Ongoing\n",
        "\n",
        "    Evolutionary Theory Lab, Tel-Aviv University\n",
        "\n",
        "    -   Advisor: Dr. Lilach Hadany\n",
        "    -   Ph.D. proposal title: *The Evolution of Stress-Induced Hypermutation: Causes and Consequences* (approved May 2012)\n",
        "\n",
        "*   **M.Sc.** 2010-2012 (direct Ph.D. track)\n",
        "\n",
        "    Theoretical and Computational Biology, Tel-Aviv University\n",
        "\n",
        "*   **B.Sc.** 2007-2010\n",
        "\n",
        "    Life-Sciences and Mathematics, *Cum laude*, Tel-Aviv University\n",
        "\n",
        "## Publications\n",
        "\n",
        "\n",
        "*   [THE EVOLUTION OF STRESS\u2010INDUCED HYPERMUTATION IN ASEXUAL POPULATIONS](http://onlinelibrary.wiley.com/doi/10.1111/j.1558-5646.2012.01576.x/full), Evolution 2012 , [6 citations](http://scholar.google.com/scholar?cites=17476026125212859334&as_sdt=2005&sciodt=1,5&hl=en) \n",
        "\n",
        "*   [Dispersing away from bad genotypes: the evolution of Fitness-Associated Dispersal (FAD) in homogeneous environments](http://www.biomedcentral.com/1471-2148/13/125/), BMC Evolutionary Biology 2013 \n",
        "\n"
       ]
      }
     ],
     "prompt_number": 59
    },
    {
     "cell_type": "markdown",
     "metadata": {},
     "source": [
      "We save the rendered version and use [pandoc](http://johnmacfarlane.net/pandoc/) to generate an HTML:"
     ]
    },
    {
     "cell_type": "code",
     "collapsed": false,
     "input": [
      "with open(\"rendered_cv.md\",\"w\") as f:\n",
      "    f.write(rendered.encode('utf8'))"
     ],
     "language": "python",
     "metadata": {},
     "outputs": [],
     "prompt_number": 62
    },
    {
     "cell_type": "code",
     "collapsed": false,
     "input": [
      "! pandoc rendered_cv.md -o rendered_cv.html\n",
      "! rendered_cv.html"
     ],
     "language": "python",
     "metadata": {},
     "outputs": [],
     "prompt_number": 63
    },
    {
     "cell_type": "markdown",
     "metadata": {},
     "source": [
      "That's it.\n",
      "\n",
      "Thanks for [Christian Kreibich](http://www.icir.org/christian/scholar.html) for `scholar.py` and [Jeffrey Ross-Ibarra](https://twitter.com/jrossibarra) for giving me the idea.\n",
      "\n",
      "This notebook is licensed under [CC-BY 3.0](http://creativecommons.org/licenses/by/3.0/)."
     ]
    }
   ],
   "metadata": {}
  }
 ]
}