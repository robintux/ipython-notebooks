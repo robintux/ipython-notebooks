{
 "metadata": {
  "name": "GSSA"
 },
 "nbformat": 3,
 "nbformat_minor": 0,
 "worksheets": [
  {
   "cells": [
    {
     "cell_type": "markdown",
     "metadata": {},
     "source": [
      "# Gillespie Algorithm\n",
      "\n",
      "The purpose of this notebook is to write a functions to run a stochastic model using the Gillespie algorithm with Python.\n",
      "\n",
      "I will write the Gillespie function, compare it to a deterministic approach, and will try to optimize it in a few standard ways.\n",
      "\n",
      "The model itself is very simple:\n",
      "\n",
      "$$\n",
      "\\frac{dy_0}{dt} = r_{0,0} y_0 - r_{1,0} y_0 + r_{2,1} y_1\n",
      "\\frac{dy_1}{dt} = r_{0,1} y_1 - r_{1,1} y_1 + r_{2,0} y_0\n",
      "$$\n",
      "\n",
      "where $y=(y_0,y_1)$ is a population vector and $r$ is a transition matrix. Specificaly, $r_0$ is the row of birth rates, $r_1$ is the death rates, and $r_2$ is the mutation rates.\n",
      "\n",
      "We'll start with some imports:"
     ]
    },
    {
     "cell_type": "code",
     "collapsed": false,
     "input": [
      "from numpy.random import exponential, multinomial\n",
      "from scipy import integrate"
     ],
     "language": "python",
     "metadata": {},
     "outputs": [],
     "prompt_number": 144
    },
    {
     "cell_type": "markdown",
     "metadata": {},
     "source": [
      "## Model parameters\n",
      "\n",
      "Just some model parameters to get it started:\n",
      "\n",
      "- `y0` is the initial population sizes.\n",
      "- `rates` is the matrix of rates as explained above.\n",
      "- `t_max` is the end point of the process."
     ]
    },
    {
     "cell_type": "code",
     "collapsed": false,
     "input": [
      "y0       = array([1e2,1e2])\n",
      "rates    = array([[0.2,0.9],[0.1,0.8],[0.01,0.001]])\n",
      "t_max    = 10.0"
     ],
     "language": "python",
     "metadata": {},
     "outputs": [],
     "prompt_number": 145
    },
    {
     "cell_type": "markdown",
     "metadata": {},
     "source": [
      "## Deterministic model\n",
      "`func` is the derivate of the population vector with respect to time"
     ]
    },
    {
     "cell_type": "code",
     "collapsed": false,
     "input": [
      "def func(y,t):\n",
      "    dy0 = rates[0][0]*y[0] - rates[1][0]*y[0] + rates[2][1] * y[1]\n",
      "    dy1 = rates[0][1]*y[1] - rates[1][1]*y[1] + rates[2][0] * y[0]\n",
      "    return [dy0,dy1]"
     ],
     "language": "python",
     "metadata": {},
     "outputs": [],
     "prompt_number": 146
    },
    {
     "cell_type": "markdown",
     "metadata": {},
     "source": [
      "Numerical inegration allows to solve the population dynamics"
     ]
    },
    {
     "cell_type": "code",
     "collapsed": false,
     "input": [
      "T = arange(0,t_max, 0.01)\n",
      "Y = integrate.odeint(func, y0, T)"
     ],
     "language": "python",
     "metadata": {},
     "outputs": [],
     "prompt_number": 147
    },
    {
     "cell_type": "code",
     "collapsed": false,
     "input": [
      "plot(T,Y)\n",
      "yscale('log')"
     ],
     "language": "python",
     "metadata": {},
     "outputs": [
      {
       "metadata": {},
       "output_type": "display_data",
       "png": "[encoded data removed]",
       "text": [
        "<matplotlib.figure.Figure at 0xbd384a8>"
       ]
      }
     ],
     "prompt_number": 148
    },
    {
     "cell_type": "markdown",
     "metadata": {},
     "source": [
      "## Stochastic model\n"
     ]
    },
    {
     "cell_type": "markdown",
     "metadata": {},
     "source": [
      "`change` decribes how the population changes for each event.\n",
      "\n",
      "For event $i$ (whose rate is $r_{i}$ if we treat $r$ as a vector instead of a matrix), \n",
      "`change[i][j]` is the change in the number of individuals of type `j` due to event `i`."
     ]
    },
    {
     "cell_type": "code",
     "collapsed": false,
     "input": [
      "change   = array([[1,0],[0,1],[-1,0],[0,-1],[-1,1],[1,-1]])"
     ],
     "language": "python",
     "metadata": {},
     "outputs": [],
     "prompt_number": "*"
    },
    {
     "cell_type": "markdown",
     "metadata": {},
     "source": [
      "`draw` is the Gillespie algorithm function that draws the time inetrval for the next event and the type of the event (noted in the previous paragraph as $i$)"
     ]
    },
    {
     "cell_type": "code",
     "collapsed": false,
     "input": [
      "def draw(population):\n",
      "    population_rates = rates * population\n",
      "    sum_rates = population_rates.sum()\n",
      "    time = exponential(1.0/sum_rates)\n",
      "    event_distribution = population_rates.flatten()\n",
      "    event_distribution /= event_distribution.sum()\n",
      "    event = multinomial(1, event_distribution).argmax()\n",
      "    return event,time"
     ],
     "language": "python",
     "metadata": {},
     "outputs": [],
     "prompt_number": 149
    },
    {
     "cell_type": "markdown",
     "metadata": {},
     "source": [
      "`GSSA` is the function that does a whole simulation:"
     ]
    },
    {
     "cell_type": "code",
     "collapsed": false,
     "input": [
      "def GSSA():\n",
      "    y = [y0.copy()]\n",
      "    t = 0\n",
      "    i = [t]\n",
      "    while t < t_max and np.sum(y[-1]) > 0:\n",
      "        i.append(t)\n",
      "        e,t_ = draw(y[-1])\n",
      "        t += t_\n",
      "        y.append(y[-1] + change[e,:])\n",
      "    y = array(y)\n",
      "    return i,y"
     ],
     "language": "python",
     "metadata": {},
     "outputs": [],
     "prompt_number": 192
    },
    {
     "cell_type": "code",
     "collapsed": false,
     "input": [
      "i,y = GSSA()"
     ],
     "language": "python",
     "metadata": {},
     "outputs": [],
     "prompt_number": 151
    },
    {
     "cell_type": "markdown",
     "metadata": {},
     "source": [
      "### Compare deterministic and stochastic dynamics"
     ]
    },
    {
     "cell_type": "code",
     "collapsed": false,
     "input": [
      "s1,s2 = plot(i,y,'-')\n",
      "d1,d2 = plot(T,Y,'--')\n",
      "d1.set_color(s1.get_color())\n",
      "d2.set_color(s2.get_color())\n",
      "yscale('log')"
     ],
     "language": "python",
     "metadata": {},
     "outputs": [
      {
       "metadata": {},
       "output_type": "display_data",
       "png": "[encoded data removed]",
       "text": [
        "<matplotlib.figure.Figure at 0x23286b38>"
       ]
      }
     ],
     "prompt_number": 152
    },
    {
     "cell_type": "markdown",
     "metadata": {},
     "source": [
      "## Cython\n",
      "\n",
      "See if we can make it work faster"
     ]
    },
    {
     "cell_type": "code",
     "collapsed": false,
     "input": [
      "%load_ext cythonmagic"
     ],
     "language": "python",
     "metadata": {},
     "outputs": [],
     "prompt_number": 130
    },
    {
     "cell_type": "code",
     "collapsed": false,
     "input": [
      "%%cython\n",
      "cimport numpy as np\n",
      "import numpy as np\n",
      "from numpy.random import exponential, multinomial\n",
      "\n",
      "def drawcy(population, rates):\n",
      "    population_rates = rates * population\n",
      "    sum_rates = population_rates.sum()\n",
      "    time = exponential(1.0/sum_rates)\n",
      "    event_distribution = population_rates.flatten()\n",
      "    event_distribution /= event_distribution.sum()\n",
      "    event = multinomial(1, event_distribution).argmax()\n",
      "    return event,time\n",
      "\n",
      "def GSSAcy(y0, t_max, rates, change):\n",
      "    y = [y0.copy()]\n",
      "    t = 0\n",
      "    i = [t]\n",
      "    while t < t_max and np.sum(y[-1]) > 0:\n",
      "        i.append(t)\n",
      "        e,t_ = drawcy(y[-1], rates)\n",
      "        t += t_\n",
      "        y.append(y[-1] + change[e,:])\n",
      "    y = np.array(y)\n",
      "    return i,y"
     ],
     "language": "python",
     "metadata": {},
     "outputs": [],
     "prompt_number": 140
    },
    {
     "cell_type": "code",
     "collapsed": false,
     "input": [
      "%timeit -n 10 GSSA()\n",
      "%timeit -n 10 GSSAcy(y0,t_max,rates,change)"
     ],
     "language": "python",
     "metadata": {},
     "outputs": [
      {
       "output_type": "stream",
       "stream": "stdout",
       "text": [
        "10 loops, best of 3: 280 ms per loop\n",
        "10 loops, best of 3: 282 ms per loop"
       ]
      },
      {
       "output_type": "stream",
       "stream": "stdout",
       "text": [
        "\n"
       ]
      }
     ],
     "prompt_number": 189
    },
    {
     "cell_type": "markdown",
     "metadata": {},
     "source": [
      "So just Cythoning the code didn't make a difference - and I didn't expect it, because there are not `for` loops here."
     ]
    },
    {
     "cell_type": "markdown",
     "metadata": {},
     "source": [
      "## Only final result\n",
      "\n",
      "How much faster is the function if I don't need to track the dynamics, and only want to output the final result?"
     ]
    },
    {
     "cell_type": "code",
     "collapsed": false,
     "input": [
      "def GSSA_():\n",
      "    y = y0.copy()\n",
      "    t = 0\n",
      "    while t < t_max and np.sum(y) > 0:\n",
      "        e,t_ = draw(y[-1])\n",
      "        t += t_\n",
      "        y += change[e,:]\n",
      "    return y"
     ],
     "language": "python",
     "metadata": {},
     "outputs": [],
     "prompt_number": 193
    },
    {
     "cell_type": "code",
     "collapsed": false,
     "input": [
      "%timeit -n 5 GSSA()\n",
      "%timeit -n 5 GSSA_()"
     ],
     "language": "python",
     "metadata": {},
     "outputs": [],
     "prompt_number": "*"
    },
    {
     "cell_type": "code",
     "collapsed": false,
     "input": [],
     "language": "python",
     "metadata": {},
     "outputs": []
    }
   ],
   "metadata": {}
  }
 ]
}