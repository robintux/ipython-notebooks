{
 "metadata": {
  "name": "",
  "signature": "sha256:46fcd347b69709db00a4b628c6bdff5dc61249028ec5d220875cdc817a86d528"
 },
 "nbformat": 3,
 "nbformat_minor": 0,
 "worksheets": [
  {
   "cells": [
    {
     "cell_type": "markdown",
     "metadata": {},
     "source": [
      "# Mathematical Models course - Project s\n",
      "## Yoav Ram, Spring 2014"
     ]
    },
    {
     "cell_type": "markdown",
     "metadata": {},
     "source": [
      "## Homogeneous model\n",
      "\n",
      "Consider an asexual infinite population. We focus on a single locus with two alleles, wildtype _a_ and mutant _A_ with frequencies _f_ and _q_ and fitness 1 and 1-_s_. Mutation is unidirectional from _a_ to _A_ with probability _U_.\n",
      "\n",
      "The change in frequency from generation to generation is described by:\n",
      "$$\n",
      "\\bar{\\omega}(t) f(t+1) = f(t) (1-U) + (1-f(t)) U\n",
      "$$\n",
      "and \n",
      "$$\n",
      "\\bar{\\omega}(t) = f(t) + (1-f(t))(1-s)\n",
      "$$\n",
      "\n",
      "Taking the equilibrium values $f=lim f(t)$ and $\\bar{\\omega}=lim \\bar{\\omega}(t)$, this resolves to \n",
      "$$\n",
      "(f + (1-f)(1-s)) f = f (1-U) + (1-f) U\n",
      "$$\n",
      "and \n",
      "$$\n",
      "\\bar{\\omega} = f + (1-f)(1-s)\n",
      "$$\n",
      "or in matrix form, $\\bar{\\omega} f = Mf$, where $M$ is:\n",
      "\n",
      "\\begin{matrix}\n",
      "1-U & (1-s)U \\\\\n",
      "U & (1-s)(1-U) \\\\\n",
      "\\end{matrix}\n",
      "\n",
      "The equilibrium $\\bar{\\omega}$ is the dominant eigenvalue of $M$ (by the _Perron-Frobenius theorem_).\n",
      "We can get a triangular form of $M$ with Gaussian elimination:\n",
      "\n",
      "\\begin{matrix}\n",
      "1-U-\\frac{U^2}{1-U} & 0 \\\\\n",
      "U & (1-s)(1-U) \\\\\n",
      "\\end{matrix}\n",
      "\n",
      "and the eigenvalues of a triangular matrix lie on the main diagonal. \n",
      "The solution is, assuming $s > U^2$,\n",
      "$$\n",
      "\\bar{\\omega} = 1-U-\\frac{U^2}{1-U}\n",
      "$$"
     ]
    },
    {
     "cell_type": "markdown",
     "metadata": {},
     "source": [
      "## Heteregeneous model\n",
      "\n",
      "In the heterogeneous model we have _n+1_ different alleles with fitness $0<1-s_i<1, 0\\le i \\le n$ and frequencies $f_i$.\n",
      "The probability to mutate is still _U_, and there is an equal probability for each allele.\n",
      "\n",
      "The equilibrium equation is then:\n",
      "\n",
      "$\n",
      "\\bar{\\omega} f_i = f_i (1 - s_i)(1 - U) \\sum_{j=0}^{n} f_j (1-s_j) U/n \\\\\\\\\n",
      "\\bar{\\omega} = \\sum_{i=0}^{n} f_i (1-s_i) \\\\\\\\\n",
      "\\sum_{i=0}^{n} f_i = 1\n",
      "$"
     ]
    },
    {
     "cell_type": "markdown",
     "metadata": {},
     "source": [
      "### Simple case: n=1\n",
      "\n",
      "The equations:\n",
      "$$\n",
      "\\bar{\\omega} f_0 = f_0 (1-s_0) (1-U) + (1-f_0) (1-s_1) U \\\\\\\\\n",
      "\\bar{\\omega} = f_0 (1-s_0) + (1-f_0) (1-s_1)\n",
      "$$\n",
      "or in matrix form, $\\bar{\\omega} f = Mf$, where $M$ is:\n",
      "\n",
      "\\begin{matrix}\n",
      "(1-s_0)(1-U) & (1-s_1)U \\\\\n",
      "(1-s_0)U & (1-s_1)(1-U) \\\\\n",
      "\\end{matrix}\n",
      "\n",
      "which gaves (using Gaussian elimination) two eigenvalues:\n",
      "$$\n",
      "\\lambda_0 = (1-s_0)(1-U-\\frac{U^2}{1-U}) \\\\\\\\\n",
      "\\lambda_1 = (1-s_1)(1-U)\n",
      "$$"
     ]
    },
    {
     "cell_type": "code",
     "collapsed": false,
     "input": [],
     "language": "python",
     "metadata": {},
     "outputs": []
    }
   ],
   "metadata": {}
  }
 ]
}