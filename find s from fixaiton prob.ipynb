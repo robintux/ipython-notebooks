{
 "metadata": {
  "name": "",
  "signature": "sha256:1bbac6758aa0119cff6b0d72d7f70f42ae921768467a1ec98d8691e661ba1f0d"
 },
 "nbformat": 3,
 "nbformat_minor": 0,
 "worksheets": [
  {
   "cells": [
    {
     "cell_type": "code",
     "collapsed": false,
     "input": [
      "#http://stackoverflow.com/questions/22742951/solve-an-equation-using-a-python-numerical-solver-in-numpy\n",
      "\n",
      "from scipy.optimize import fsolve\n",
      "\n",
      "# Define the expression whose roots we want to find\n",
      "\n",
      "N = 1e6\n",
      "p0 = 0.5\n",
      "pfix = 0.65\n",
      "\n",
      "f = lambda s,N,p0 : (1.0 - exp(-2*N*p0*s))/(1.0 - exp(-2*N*s))\n",
      "\n",
      "# Use the numerical solver to find the roots\n",
      "\n",
      "s_initial_guess = 1.0/N\n",
      "s_solution = fsolve(lambda s: pfix - f(s,N,p0), s_initial_guess)\n",
      "\n",
      "# Plot it\n",
      "\n",
      "s = np.logspace(-8,-5,50)\n",
      "\n",
      "plot(s, f(N,s,p0), '--k')\n",
      "xscale('log')\n",
      "xlabel(\"$s$\")\n",
      "ylabel(\"$p_{fix}$\")\n",
      "plot([s_solution],[pfix],'ok')\n",
      "axvline(x=s_solution, color='k')\n",
      "axhline(y=pfix, color='k')\n",
      "grid(False, 'minor')\n",
      "\n",
      "print \"The selection coefficient is s = %.2g\" % s_solution\n",
      "print \"at which the fixation probability is %.2g\" % f(s_solution,N,p0)"
     ],
     "language": "python",
     "metadata": {},
     "outputs": [
      {
       "output_type": "stream",
       "stream": "stdout",
       "text": [
        "The selection coefficient is s = 6.2e-07\n",
        "at which the fixation probability is 0.65\n"
       ]
      },
      {
       "metadata": {},
       "output_type": "display_data",
       "png": "[encoded data removed]",
       "text": [
        "<matplotlib.figure.Figure at 0x108bc860>"
       ]
      }
     ],
     "prompt_number": 28
    },
    {
     "cell_type": "code",
     "collapsed": false,
     "input": [
      "def find_s(N,p0,pfix):\n",
      "    ''' N - effective population size\n",
      "        p0 - initial frequency\n",
      "        pfix - fixation probability\n",
      "    '''\n",
      "    s_initial_guess = 1.0 / N\n",
      "    return fsolve(lambda s: pfix - f(s,N,p0), s_initial_guess)"
     ],
     "language": "python",
     "metadata": {},
     "outputs": [],
     "prompt_number": 30
    },
    {
     "cell_type": "code",
     "collapsed": false,
     "input": [
      "def simulation(N,p0,s):\n",
      "    N = float(N)\n",
      "    n = N*p0\n",
      "    while 0 < n < N:\n",
      "        w = (1 + s) * n/N + (N - n)/N # mean fitness\n",
      "        n = n*(1+s) / w               # expected next generation\n",
      "        n = binomial(N, n/N)\n",
      "    return n == N\n",
      "simulation(1e6,0.5,0.01)"
     ],
     "language": "python",
     "metadata": {},
     "outputs": [
      {
       "metadata": {},
       "output_type": "pyout",
       "prompt_number": 32,
       "text": [
        "True"
       ]
      }
     ],
     "prompt_number": 32
    },
    {
     "cell_type": "code",
     "collapsed": false,
     "input": [
      "def estimate_pfix(N,p0,s,reps=100):\n",
      "    pfix = array([simulation(N,p0,s) for _ in range(reps)])\n",
      "    return pfix.mean(), pfix.std(ddof=1)/sqrt(reps)\n",
      "estimate_pfix(1e6,0.5,-1e-4)"
     ],
     "language": "python",
     "metadata": {},
     "outputs": [
      {
       "metadata": {},
       "output_type": "pyout",
       "prompt_number": 41,
       "text": [
        "(0.0, 0.0)"
       ]
      }
     ],
     "prompt_number": 41
    },
    {
     "cell_type": "code",
     "collapsed": false,
     "input": [
      "s_range = logspace(-4,-2,10)\n",
      "pfix = array([estimate_pfix(N,p0,s) for s in s_range])\n",
      "est_s = array([find_s(N,p0,p) for p in pfix])"
     ],
     "language": "python",
     "metadata": {},
     "outputs": [],
     "prompt_number": 48
    },
    {
     "cell_type": "code",
     "collapsed": false,
     "input": [
      "plot(s_range, est_s, 'ok')"
     ],
     "language": "python",
     "metadata": {},
     "outputs": [
      {
       "metadata": {},
       "output_type": "pyout",
       "prompt_number": 49,
       "text": [
        "[<matplotlib.lines.Line2D at 0x10f91d68>]"
       ]
      },
      {
       "metadata": {},
       "output_type": "display_data",
       "png": "[encoded data removed]",
       "text": [
        "<matplotlib.figure.Figure at 0x1074f048>"
       ]
      }
     ],
     "prompt_number": 49
    },
    {
     "cell_type": "code",
     "collapsed": false,
     "input": [],
     "language": "python",
     "metadata": {},
     "outputs": []
    }
   ],
   "metadata": {}
  }
 ]
}