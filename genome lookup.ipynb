{
 "metadata": {
  "name": "genome lookup"
 },
 "nbformat": 3,
 "nbformat_minor": 0,
 "worksheets": [
  {
   "cells": [
    {
     "cell_type": "markdown",
     "metadata": {},
     "source": [
      "Build the genome matrix:"
     ]
    },
    {
     "cell_type": "code",
     "collapsed": false,
     "input": [
      "G = 1000"
     ],
     "language": "python",
     "metadata": {},
     "outputs": [],
     "prompt_number": 1
    },
    {
     "cell_type": "code",
     "collapsed": false,
     "input": [
      "genome_matrix = array([0]*G, dtype=np.int64)\n",
      "genome_matrix = genome_matrix.reshape((1,G))"
     ],
     "language": "python",
     "metadata": {},
     "outputs": [],
     "prompt_number": 28
    },
    {
     "cell_type": "code",
     "collapsed": false,
     "input": [
      "for i in range(G):\n",
      "    g = genome_matrix[0,:].copy() \n",
      "    g[i] = 1\n",
      "    g = g.reshape((1,G))\n",
      "    genome_matrix = np.concatenate((genome_matrix, g))\n",
      "genome_matrix.shape"
     ],
     "language": "python",
     "metadata": {},
     "outputs": [
      {
       "metadata": {},
       "output_type": "pyout",
       "prompt_number": 29,
       "text": [
        "(1001L, 1000L)"
       ]
      }
     ],
     "prompt_number": 29
    },
    {
     "cell_type": "code",
     "collapsed": false,
     "input": [
      "g = genome_matrix[G,:]"
     ],
     "language": "python",
     "metadata": {},
     "outputs": [],
     "prompt_number": 30
    },
    {
     "cell_type": "markdown",
     "metadata": {},
     "source": [
      "## Naive"
     ]
    },
    {
     "cell_type": "code",
     "collapsed": false,
     "input": [
      "def find_genome(target):\n",
      "\tfor i in np.arange(genome_matrix.shape[0]):\n",
      "\t\tif np.array_equal(genome_matrix[i,:], target):\n",
      "\t\t\treturn i\n",
      "\treturn -1"
     ],
     "language": "python",
     "metadata": {},
     "outputs": [],
     "prompt_number": 40
    },
    {
     "cell_type": "code",
     "collapsed": false,
     "input": [
      "%timeit find_genome(g)"
     ],
     "language": "python",
     "metadata": {},
     "outputs": [
      {
       "output_type": "stream",
       "stream": "stdout",
       "text": [
        "100 loops, best of 3: 16.9 ms per loop\n"
       ]
      }
     ],
     "prompt_number": 41
    },
    {
     "cell_type": "markdown",
     "metadata": {},
     "source": [
      "Is `array_equal` optimized?"
     ]
    },
    {
     "cell_type": "code",
     "collapsed": false,
     "input": [
      "a1 = array([0]*10**6 + [1])\n",
      "a2 = array([0]*10**6 + [0])\n",
      "\n",
      "def arr_eq(a1,a2):\n",
      "    if a1.shape != a2.shape:\n",
      "        return False\n",
      "    for i in np.arange(a1.shape[0]):\n",
      "        if a1[i] != a2[i]:\n",
      "            return False\n",
      "    return True"
     ],
     "language": "python",
     "metadata": {},
     "outputs": [],
     "prompt_number": 42
    },
    {
     "cell_type": "code",
     "collapsed": false,
     "input": [
      "%timeit np.array_equal(a1, a2)\n",
      "%timeit arr_eq(a1, a2)"
     ],
     "language": "python",
     "metadata": {},
     "outputs": [
      {
       "output_type": "stream",
       "stream": "stdout",
       "text": [
        "100 loops, best of 3: 2.29 ms per loop\n",
        "1 loops, best of 3: 1.15 s per loop"
       ]
      },
      {
       "output_type": "stream",
       "stream": "stdout",
       "text": [
        "\n"
       ]
      }
     ],
     "prompt_number": 43
    },
    {
     "cell_type": "markdown",
     "metadata": {},
     "source": [
      "## Cython"
     ]
    },
    {
     "cell_type": "code",
     "collapsed": false,
     "input": [
      "%load_ext cythonmagic"
     ],
     "language": "python",
     "metadata": {},
     "outputs": [],
     "prompt_number": 19
    },
    {
     "cell_type": "code",
     "collapsed": false,
     "input": [
      "%%cython\n",
      "import numpy as np\n",
      "cimport numpy as np\n",
      "cimport cython\n",
      "DTYPE_INT = np.int64\n",
      "ctypedef np.int64_t DTYPE_INT_t\n",
      "DTYPE_FLOAT = np.float64\n",
      "ctypedef np.float64_t DTYPE_FLOAT_t\n",
      "\n",
      "@cython.boundscheck(False)\n",
      "@cython.wraparound(False)\n",
      "def arr_equal(np.ndarray[DTYPE_INT_t, ndim=1] a1, np.ndarray[DTYPE_INT_t, ndim=1] a2):\n",
      "    try:\n",
      "        a1, a2 = np.asarray(a1), np.asarray(a2)\n",
      "    except:\n",
      "        return False\n",
      "    if a1.shape != a2.shape:\n",
      "        return False\n",
      "    cdef Py_ssize_t i\n",
      "    for i in np.arange(a1.shape[0]):\n",
      "        if a1[i] != a2[i]:\n",
      "            return False\n",
      "    return True\n",
      "\n",
      "@cython.boundscheck(False)\n",
      "@cython.wraparound(False)\n",
      "def find_genome_c(np.ndarray[DTYPE_INT_t, ndim=2] genome_matrix, np.ndarray[DTYPE_INT_t, ndim=1] target):\n",
      "    cdef np.ndarray[DTYPE_INT_t, ndim=1] g\n",
      "    cdef Py_ssize_t i\n",
      "    for i in range(genome_matrix.shape[0]):\n",
      "        g = genome_matrix[i,:]\n",
      "        if arr_equal(g, target): # np.array_equal was 17.1 ms\n",
      "            return i\n",
      "    return -1"
     ],
     "language": "python",
     "metadata": {},
     "outputs": [],
     "prompt_number": 46
    },
    {
     "cell_type": "code",
     "collapsed": false,
     "input": [
      "%timeit find_genome_c(genome_matrix,g)"
     ],
     "language": "python",
     "metadata": {},
     "outputs": [
      {
       "output_type": "stream",
       "stream": "stdout",
       "text": [
        "100 loops, best of 3: 6.28 ms per loop\n"
       ]
      }
     ],
     "prompt_number": 47
    },
    {
     "cell_type": "markdown",
     "metadata": {},
     "source": [
      "This is an **improvement**."
     ]
    },
    {
     "cell_type": "markdown",
     "metadata": {},
     "source": [
      "## Dict"
     ]
    },
    {
     "cell_type": "code",
     "collapsed": false,
     "input": [
      "genome_dict = {}\n",
      "for i in range(genome_matrix.shape[0]):\n",
      "    genome_dict[genome_matrix[i,:].tostring()] = i"
     ],
     "language": "python",
     "metadata": {},
     "outputs": [],
     "prompt_number": 51
    },
    {
     "cell_type": "code",
     "collapsed": false,
     "input": [],
     "language": "python",
     "metadata": {},
     "outputs": []
    }
   ],
   "metadata": {}
  }
 ]
}